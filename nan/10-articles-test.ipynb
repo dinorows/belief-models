{
 "cells": [
  {
   "cell_type": "markdown",
   "metadata": {},
   "source": [
    "## A simple test with 10 news articles\n",
    "\n",
    "Here we test our method with 10 news article. News articles are easy to be summarized. We used the same pipeline in the notebook `sentence_embedding_with_kmeans`"
   ]
  },
  {
   "cell_type": "markdown",
   "metadata": {},
   "source": [
    "### Data preprocessing\n",
    "We walk through the files and read in both text and title"
   ]
  },
  {
   "cell_type": "code",
   "execution_count": 1,
   "metadata": {},
   "outputs": [
    {
     "name": "stdout",
     "output_type": "stream",
     "text": [
      "./data/news_text/010.txt\n",
      "./data/news_text/002.txt\n",
      "./data/news_text/006.txt\n",
      "./data/news_text/005.txt\n",
      "./data/news_text/001.txt\n",
      "./data/news_text/008.txt\n",
      "./data/news_text/004.txt\n",
      "./data/news_text/003.txt\n",
      "./data/news_text/007.txt\n",
      "./data/news_text/009.txt\n",
      "10\n",
      "10\n"
     ]
    }
   ],
   "source": [
    "# read in data\n",
    "article = []\n",
    "# titles\n",
    "titles = []\n",
    "\n",
    "import os\n",
    "for root, dirs, files in os.walk(\"./data/news_text\"):\n",
    "    for file in files:\n",
    "        if file.endswith(\".txt\"):\n",
    "            print(os.path.join(root, file))\n",
    "            with open(os.path.join(root, file), \"r\") as input:\n",
    "                title = input.readline()\n",
    "                sentences = input.read()\n",
    "            article.append(sentences)\n",
    "            titles.append(title)\n",
    "            \n",
    "print(len(article))\n",
    "print(len(titles))"
   ]
  },
  {
   "cell_type": "code",
   "execution_count": 2,
   "metadata": {},
   "outputs": [
    {
     "data": {
      "text/plain": [
       "['Crucial decision on super-casinos\\n',\n",
       " 'Watchdog probes e-mail deletions\\n',\n",
       " \"'Errors' doomed first Dome sale\\n\",\n",
       " 'Brown ally rejects Budget spree\\n',\n",
       " 'Labour plans maternity pay rise\\n',\n",
       " 'Women MPs reveal sexist taunts\\n',\n",
       " 'Labour chooses Manchester\\n',\n",
       " \"Hewitt decries 'career sexism'\\n\",\n",
       " \"Fox attacks Blair's Tory 'lies'\\n\",\n",
       " \"Campbell: E-mail row 'silly fuss'\\n\"]"
      ]
     },
     "execution_count": 2,
     "metadata": {},
     "output_type": "execute_result"
    }
   ],
   "source": [
    "# show all title\n",
    "titles"
   ]
  },
  {
   "cell_type": "code",
   "execution_count": 3,
   "metadata": {},
   "outputs": [
    {
     "data": {
      "text/plain": [
       "24533"
      ]
     },
     "execution_count": 3,
     "metadata": {},
     "output_type": "execute_result"
    }
   ],
   "source": [
    "# concatenate text\n",
    "text = ''.join(article)\n",
    "\n",
    "len(text)"
   ]
  },
  {
   "cell_type": "code",
   "execution_count": 4,
   "metadata": {},
   "outputs": [
    {
     "data": {
      "text/plain": [
       "24533"
      ]
     },
     "execution_count": 4,
     "metadata": {},
     "output_type": "execute_result"
    }
   ],
   "source": [
    "# remove reference mark, e.g. '[1]'\n",
    "\n",
    "import re\n",
    "\n",
    "text = re.sub(r'\\[\\d{1,3}\\]' ,'', text)\n",
    "len(text)"
   ]
  },
  {
   "cell_type": "code",
   "execution_count": 5,
   "metadata": {},
   "outputs": [
    {
     "data": {
      "text/plain": [
       "201"
      ]
     },
     "execution_count": 5,
     "metadata": {},
     "output_type": "execute_result"
    }
   ],
   "source": [
    "# using nltk, split text into sentences\n",
    "\n",
    "from nltk.tokenize import sent_tokenize\n",
    "\n",
    "sentences = sent_tokenize(text)\n",
    "\n",
    "len(sentences)"
   ]
  },
  {
   "cell_type": "markdown",
   "metadata": {},
   "source": [
    "## BERT embedding for k-means"
   ]
  },
  {
   "cell_type": "code",
   "execution_count": 6,
   "metadata": {},
   "outputs": [
    {
     "data": {
      "text/plain": [
       "array([[-0.04196611,  0.18402153,  0.9546389 , ..., -0.7715594 ,\n",
       "        -0.23079051,  0.690807  ],\n",
       "       [-0.21426663,  0.13866378,  1.2751344 , ..., -0.48762435,\n",
       "         0.16325368,  0.22323348],\n",
       "       [ 0.4000436 ,  0.31070355,  1.8155638 , ..., -0.6362297 ,\n",
       "        -0.20617865,  0.56213874],\n",
       "       ...,\n",
       "       [-0.2155926 ,  0.3820202 ,  0.48298967, ..., -0.01830211,\n",
       "        -0.16544694, -0.22946076],\n",
       "       [ 0.16161507,  0.12859885,  0.7683911 , ..., -0.57206935,\n",
       "        -0.18393156, -0.2792796 ],\n",
       "       [-0.367725  ,  0.57272017,  0.42718259, ..., -0.5694496 ,\n",
       "        -0.29599527,  0.6390981 ]], dtype=float32)"
      ]
     },
     "execution_count": 6,
     "metadata": {},
     "output_type": "execute_result"
    }
   ],
   "source": [
    "## get embedding \n",
    "\n",
    "from sentence_transformers import SentenceTransformer\n",
    "model = SentenceTransformer('bert-base-nli-mean-tokens')\n",
    "\n",
    "sentence_embeddings = model.encode(sentences)\n",
    "\n",
    "sentence_embeddings"
   ]
  },
  {
   "cell_type": "code",
   "execution_count": 7,
   "metadata": {},
   "outputs": [],
   "source": [
    "from sklearn.preprocessing import normalize\n",
    "# normalize the data help k-means get better performance\n",
    "norm_data = normalize(sentence_embeddings, norm='l2')"
   ]
  },
  {
   "cell_type": "markdown",
   "metadata": {},
   "source": [
    "## K-means with Gap statistic\n",
    "\n",
    "The `K` for `K-means` alogrithm is a key parameter. To pick up a reasonable `K`, here we introduce the `Gap statistic` meathod ([detail](https://statweb.stanford.edu/~gwalther/gap)).  `Gap statistic` can estimate the number of clusters in a set of data.\n",
    "\n",
    "We use `gap_statistic` package to do that, see implementation detail at: https://github.com/milesgranger/gap_statistic"
   ]
  },
  {
   "cell_type": "code",
   "execution_count": 8,
   "metadata": {},
   "outputs": [],
   "source": [
    "# ! pip install --upgrade gap-stat"
   ]
  },
  {
   "cell_type": "code",
   "execution_count": 9,
   "metadata": {},
   "outputs": [],
   "source": [
    "from gap_statistic import OptimalK\n",
    "\n",
    "optimalK = OptimalK(n_jobs=4, parallel_backend='joblib')"
   ]
  },
  {
   "cell_type": "code",
   "execution_count": 10,
   "metadata": {},
   "outputs": [],
   "source": [
    "import numpy as np\n",
    "# limit to 1~15 cluster\n",
    "n_clusters = optimalK(norm_data, cluster_array=np.arange(1, 15))"
   ]
  },
  {
   "cell_type": "code",
   "execution_count": 11,
   "metadata": {},
   "outputs": [
    {
     "data": {
      "text/html": [
       "<div>\n",
       "<style scoped>\n",
       "    .dataframe tbody tr th:only-of-type {\n",
       "        vertical-align: middle;\n",
       "    }\n",
       "\n",
       "    .dataframe tbody tr th {\n",
       "        vertical-align: top;\n",
       "    }\n",
       "\n",
       "    .dataframe thead th {\n",
       "        text-align: right;\n",
       "    }\n",
       "</style>\n",
       "<table border=\"1\" class=\"dataframe\">\n",
       "  <thead>\n",
       "    <tr style=\"text-align: right;\">\n",
       "      <th></th>\n",
       "      <th>n_clusters</th>\n",
       "      <th>gap_value</th>\n",
       "      <th>gap*</th>\n",
       "      <th>ref_dispersion_std</th>\n",
       "      <th>sk</th>\n",
       "      <th>sk*</th>\n",
       "      <th>diff</th>\n",
       "      <th>diff*</th>\n",
       "    </tr>\n",
       "  </thead>\n",
       "  <tbody>\n",
       "    <tr>\n",
       "      <th>0</th>\n",
       "      <td>1.0</td>\n",
       "      <td>0.863934</td>\n",
       "      <td>166.308085</td>\n",
       "      <td>0.339309</td>\n",
       "      <td>0.001362</td>\n",
       "      <td>192.036435</td>\n",
       "      <td>-0.083213</td>\n",
       "      <td>193.413862</td>\n",
       "    </tr>\n",
       "    <tr>\n",
       "      <th>1</th>\n",
       "      <td>2.0</td>\n",
       "      <td>0.950370</td>\n",
       "      <td>175.200942</td>\n",
       "      <td>0.797672</td>\n",
       "      <td>0.003222</td>\n",
       "      <td>202.306719</td>\n",
       "      <td>-0.035013</td>\n",
       "      <td>202.749644</td>\n",
       "    </tr>\n",
       "    <tr>\n",
       "      <th>2</th>\n",
       "      <td>3.0</td>\n",
       "      <td>0.988591</td>\n",
       "      <td>178.064620</td>\n",
       "      <td>0.787185</td>\n",
       "      <td>0.003208</td>\n",
       "      <td>205.613321</td>\n",
       "      <td>-0.057400</td>\n",
       "      <td>206.472725</td>\n",
       "    </tr>\n",
       "    <tr>\n",
       "      <th>3</th>\n",
       "      <td>4.0</td>\n",
       "      <td>1.048018</td>\n",
       "      <td>183.627872</td>\n",
       "      <td>0.496253</td>\n",
       "      <td>0.002028</td>\n",
       "      <td>212.035976</td>\n",
       "      <td>-0.021972</td>\n",
       "      <td>212.259415</td>\n",
       "    </tr>\n",
       "    <tr>\n",
       "      <th>4</th>\n",
       "      <td>5.0</td>\n",
       "      <td>1.072354</td>\n",
       "      <td>185.070511</td>\n",
       "      <td>0.576221</td>\n",
       "      <td>0.002364</td>\n",
       "      <td>213.702054</td>\n",
       "      <td>-0.015461</td>\n",
       "      <td>213.668219</td>\n",
       "    </tr>\n",
       "  </tbody>\n",
       "</table>\n",
       "</div>"
      ],
      "text/plain": [
       "   n_clusters  gap_value        gap*  ref_dispersion_std        sk  \\\n",
       "0         1.0   0.863934  166.308085            0.339309  0.001362   \n",
       "1         2.0   0.950370  175.200942            0.797672  0.003222   \n",
       "2         3.0   0.988591  178.064620            0.787185  0.003208   \n",
       "3         4.0   1.048018  183.627872            0.496253  0.002028   \n",
       "4         5.0   1.072354  185.070511            0.576221  0.002364   \n",
       "\n",
       "          sk*      diff       diff*  \n",
       "0  192.036435 -0.083213  193.413862  \n",
       "1  202.306719 -0.035013  202.749644  \n",
       "2  205.613321 -0.057400  206.472725  \n",
       "3  212.035976 -0.021972  212.259415  \n",
       "4  213.702054 -0.015461  213.668219  "
      ]
     },
     "execution_count": 11,
     "metadata": {},
     "output_type": "execute_result"
    }
   ],
   "source": [
    "optimalK.gap_df.head()"
   ]
  },
  {
   "cell_type": "code",
   "execution_count": 12,
   "metadata": {},
   "outputs": [
    {
     "data": {
      "image/png": "[encoded data removed]",
      "text/plain": [
       "<Figure size 432x288 with 1 Axes>"
      ]
     },
     "metadata": {
      "needs_background": "light"
     },
     "output_type": "display_data"
    },
    {
     "data": {
      "image/png": "[encoded data removed]",
      "text/plain": [
       "<Figure size 432x288 with 1 Axes>"
      ]
     },
     "metadata": {
      "needs_background": "light"
     },
     "output_type": "display_data"
    },
    {
     "data": {
      "image/png": "[encoded data removed]",
      "text/plain": [
       "<Figure size 432x288 with 1 Axes>"
      ]
     },
     "metadata": {
      "needs_background": "light"
     },
     "output_type": "display_data"
    },
    {
     "data": {
      "image/png": "[encoded data removed]",
      "text/plain": [
       "<Figure size 432x288 with 1 Axes>"
      ]
     },
     "metadata": {
      "needs_background": "light"
     },
     "output_type": "display_data"
    }
   ],
   "source": [
    "optimalK.plot_results()"
   ]
  },
  {
   "cell_type": "code",
   "execution_count": 13,
   "metadata": {},
   "outputs": [
    {
     "data": {
      "text/plain": [
       "array([5, 3, 5, 4, 3, 5, 7, 5, 5, 2, 1, 2, 7, 2, 2, 2, 7, 7, 5, 2, 5, 2,\n",
       "       5, 4, 4, 3, 5, 3, 5, 2, 3, 3, 5, 3, 6, 6, 6, 5, 2, 1, 4, 3, 6, 2,\n",
       "       7, 7, 5, 7, 7, 5, 7, 5, 3, 7, 5, 7, 7, 6, 7, 4, 6, 2, 7, 5, 6, 7,\n",
       "       1, 3, 3, 3, 5, 2, 3, 3, 0, 5, 3, 5, 1, 5, 0, 3, 7, 2, 7, 3, 3, 0,\n",
       "       1, 2, 1, 1, 2, 1, 1, 1, 6, 0, 1, 0, 1, 1, 2, 4, 4, 0, 0, 0, 2, 5,\n",
       "       3, 6, 3, 3, 3, 7, 7, 3, 5, 4, 6, 2, 2, 3, 5, 1, 3, 3, 5, 0, 1, 0,\n",
       "       0, 0, 4, 0, 0, 0, 4, 0, 4, 0, 3, 3, 5, 1, 0, 0, 0, 2, 2, 2, 7, 3,\n",
       "       7, 1, 2, 5, 7, 2, 2, 2, 7, 7, 2, 3, 1, 1, 2, 2, 2, 2, 2, 5, 2, 2,\n",
       "       2, 5, 5, 7, 5, 4, 2, 2, 2, 1, 1, 7, 5, 1, 2, 5, 4, 6, 4, 2, 7, 6,\n",
       "       2, 4, 2], dtype=int32)"
      ]
     },
     "execution_count": 13,
     "metadata": {},
     "output_type": "execute_result"
    }
   ],
   "source": [
    "# using the best K = 8 for k-means\n",
    "from sklearn.cluster import KMeans\n",
    "km = KMeans(\n",
    "    n_clusters=8, init='random',\n",
    "    n_init=10, max_iter=300, \n",
    "    tol=1e-04, random_state=0\n",
    ")\n",
    "y_km = km.fit_predict(norm_data)\n",
    "\n",
    "y_km"
   ]
  },
  {
   "cell_type": "code",
   "execution_count": 20,
   "metadata": {},
   "outputs": [
    {
     "data": {
      "text/plain": [
       "[[], [], [], [], [], [], [], []]"
      ]
     },
     "execution_count": 20,
     "metadata": {},
     "output_type": "execute_result"
    }
   ],
   "source": [
    "\n",
    "## create a array that assign each sentence to its group\n",
    "groups = []\n",
    "\n",
    "for i in range (0, 8):\n",
    "    groups.append([])\n",
    "\n",
    "groups  "
   ]
  },
  {
   "cell_type": "code",
   "execution_count": 21,
   "metadata": {},
   "outputs": [],
   "source": [
    "for idx, embed in enumerate(norm_data):\n",
    "    groups[y_km[idx] - 1].append(idx)"
   ]
  },
  {
   "cell_type": "code",
   "execution_count": 22,
   "metadata": {},
   "outputs": [
    {
     "data": {
      "text/plain": [
       "True"
      ]
     },
     "execution_count": 22,
     "metadata": {},
     "output_type": "execute_result"
    }
   ],
   "source": [
    "# validate\n",
    "group0 = 0\n",
    "for x in y_km:\n",
    "    if x == 1:\n",
    "        group0 += 1\n",
    "\n",
    "len(groups[0]) == group0"
   ]
  },
  {
   "cell_type": "code",
   "execution_count": 23,
   "metadata": {},
   "outputs": [
    {
     "data": {
      "text/plain": [
       "[10,\n",
       " 39,\n",
       " 66,\n",
       " 78,\n",
       " 88,\n",
       " 90,\n",
       " 91,\n",
       " 93,\n",
       " 94,\n",
       " 95,\n",
       " 98,\n",
       " 100,\n",
       " 101,\n",
       " 125,\n",
       " 130,\n",
       " 145,\n",
       " 155,\n",
       " 166,\n",
       " 167,\n",
       " 185,\n",
       " 186,\n",
       " 189]"
      ]
     },
     "execution_count": 23,
     "metadata": {},
     "output_type": "execute_result"
    }
   ],
   "source": [
    "groups[0]"
   ]
  },
  {
   "cell_type": "code",
   "execution_count": 24,
   "metadata": {},
   "outputs": [],
   "source": [
    "def get_sum_distances(group):\n",
    "    \"\"\"input a group indicis of sentences, get a list of sum of cosine distance between\n",
    "    current sentence and other sentences in the text(score)\n",
    "    @param: a group of index, index of sentence\n",
    "    @return score(float)\n",
    "    \"\"\"\n",
    "    # construct data for group info\n",
    "    data = np.array([norm_data[i] for i in group])\n",
    "    # to store the result\n",
    "    res = []\n",
    "    \n",
    "    for idx, _ in enumerate(data):\n",
    "        # data has been normalized, cosine distanct can be calculated as np.dot()\n",
    "        scores = np.dot(data, data[idx].T)\n",
    "        res.append(np.sum(scores))\n",
    "    return res"
   ]
  },
  {
   "cell_type": "code",
   "execution_count": 25,
   "metadata": {},
   "outputs": [
    {
     "name": "stdout",
     "output_type": "stream",
     "text": [
      "Group:1: \n",
      "\n",
      "Barbara Follet, one of the so-called \"Blair Babes\" elected in 1997, told researchers: \"I remember some Conservatives - whenever a Labour woman got up to speak they would take their breasts - imaginary breasts - in their hands and wiggle them and say 'melons' as we spoke.\"\n",
      "\n",
      "\n",
      "Group:2: \n",
      "\n",
      "The Tory co-chairman attacked Labour's six new pledges as \"vacuous\" and said Mr Blair was very worried voters would take revenge for his failure to deliver.\n",
      "\n",
      "\n",
      "Group:3: \n",
      "\n",
      "It would mean paid leave would be increased to nine months by 2007, Ms Hewitt told GMTV's Sunday programme.\n",
      "\n",
      "\n",
      "Group:4: \n",
      "\n",
      "\"Obviously we have failed in that.\n",
      "\n",
      "\n",
      "Group:5: \n",
      "\n",
      "But Edward Leigh, who is chairman of the Commons public accounts committee, warned the government would have to work hard to ensure taxpayers would get full benefit from the Dome deal.\n",
      "\n",
      "\n",
      "Group:6: \n",
      "\n",
      "Deputy Prime Minister John Prescott said a good deal had been secured.\n",
      "\n",
      "\n",
      "Group:7: \n",
      "\n",
      "He would not discuss reports the party repaid £500,000 to Lord Ashcroft after he predicted an election defeat.\n",
      "\n",
      "\n",
      "Group:8: \n",
      "\n",
      "Research conducted by the EOC last year revealed that many Britons believe the pay gap between men and women is the result of \"natural differences\" between the sexes.\n",
      "\n",
      "\n"
     ]
    }
   ],
   "source": [
    "## pick up top score for each group\n",
    "\n",
    "for idx, group in enumerate(groups):\n",
    "    score_list = get_sum_distances(group)\n",
    "    max_idx = np.argmax(score_list)\n",
    "    print('Group:' + str(idx + 1) + ': \\n')\n",
    "    print(sentences[group[max_idx]])\n",
    "    print('\\n')"
   ]
  },
  {
   "cell_type": "markdown",
   "metadata": {},
   "source": [
    "## Remove the sentence that doesn't have too much meaning\n",
    "\n",
    "By using Bayesian based anti-spam filter, we can identify the sentence which is not meaningful. We use a pretrained filter `antispam`"
   ]
  },
  {
   "cell_type": "code",
   "execution_count": 26,
   "metadata": {},
   "outputs": [],
   "source": [
    "# ! pip install antispam"
   ]
  },
  {
   "cell_type": "code",
   "execution_count": 27,
   "metadata": {},
   "outputs": [
    {
     "data": {
      "text/plain": [
       "[0, 8, 39, 88, 93, 120, 142, 164, 165]"
      ]
     },
     "execution_count": 27,
     "metadata": {},
     "output_type": "execute_result"
    }
   ],
   "source": [
    "import antispam\n",
    "\n",
    "filter_out = []\n",
    "\n",
    "\n",
    "\n",
    "# apply the filter\n",
    "for idx, sc in enumerate(sentences):\n",
    "    is_spam = False\n",
    "    try:\n",
    "        is_spam = antispam.is_spam(sc)\n",
    "    except:\n",
    "        # bug when sentence is too short\n",
    "        print('Error during handling:' + str(idx))\n",
    "    # filter out short sentence: len <= 10    \n",
    "    if(len(sc) <= 10):\n",
    "            is_spam = True\n",
    "    if(is_spam):\n",
    "        filter_out.append(idx)\n",
    "        \n",
    "filter_out"
   ]
  },
  {
   "cell_type": "code",
   "execution_count": 28,
   "metadata": {},
   "outputs": [
    {
     "data": {
      "text/plain": [
       "[[], [], [], [], [], [], [], []]"
      ]
     },
     "execution_count": 28,
     "metadata": {},
     "output_type": "execute_result"
    }
   ],
   "source": [
    "## create new groups (after filter)\n",
    "new_groups = []\n",
    "\n",
    "for i in range (0, 8):\n",
    "    new_groups.append([])\n",
    "\n",
    "new_groups  "
   ]
  },
  {
   "cell_type": "code",
   "execution_count": 29,
   "metadata": {},
   "outputs": [
    {
     "data": {
      "text/plain": [
       "[[10,\n",
       "  66,\n",
       "  78,\n",
       "  90,\n",
       "  91,\n",
       "  94,\n",
       "  95,\n",
       "  98,\n",
       "  100,\n",
       "  101,\n",
       "  125,\n",
       "  130,\n",
       "  145,\n",
       "  155,\n",
       "  166,\n",
       "  167,\n",
       "  185,\n",
       "  186,\n",
       "  189],\n",
       " [9,\n",
       "  11,\n",
       "  13,\n",
       "  14,\n",
       "  15,\n",
       "  19,\n",
       "  21,\n",
       "  29,\n",
       "  38,\n",
       "  43,\n",
       "  61,\n",
       "  71,\n",
       "  83,\n",
       "  89,\n",
       "  92,\n",
       "  102,\n",
       "  108,\n",
       "  121,\n",
       "  122,\n",
       "  149,\n",
       "  150,\n",
       "  151,\n",
       "  156,\n",
       "  159,\n",
       "  160,\n",
       "  161,\n",
       "  168,\n",
       "  169,\n",
       "  170,\n",
       "  171,\n",
       "  172,\n",
       "  174,\n",
       "  175,\n",
       "  176,\n",
       "  182,\n",
       "  183,\n",
       "  184,\n",
       "  190,\n",
       "  195,\n",
       "  198,\n",
       "  200],\n",
       " [1,\n",
       "  4,\n",
       "  25,\n",
       "  27,\n",
       "  30,\n",
       "  31,\n",
       "  33,\n",
       "  41,\n",
       "  52,\n",
       "  67,\n",
       "  68,\n",
       "  69,\n",
       "  72,\n",
       "  73,\n",
       "  76,\n",
       "  81,\n",
       "  85,\n",
       "  86,\n",
       "  110,\n",
       "  112,\n",
       "  113,\n",
       "  114,\n",
       "  117,\n",
       "  123,\n",
       "  126,\n",
       "  127,\n",
       "  143,\n",
       "  153],\n",
       " [3, 23, 24, 40, 59, 103, 104, 119, 134, 138, 140, 181, 192, 194, 199],\n",
       " [2,\n",
       "  5,\n",
       "  7,\n",
       "  18,\n",
       "  20,\n",
       "  22,\n",
       "  26,\n",
       "  28,\n",
       "  32,\n",
       "  37,\n",
       "  46,\n",
       "  49,\n",
       "  51,\n",
       "  54,\n",
       "  63,\n",
       "  70,\n",
       "  75,\n",
       "  77,\n",
       "  79,\n",
       "  109,\n",
       "  118,\n",
       "  124,\n",
       "  128,\n",
       "  144,\n",
       "  157,\n",
       "  173,\n",
       "  177,\n",
       "  178,\n",
       "  180,\n",
       "  188,\n",
       "  191],\n",
       " [34, 35, 36, 42, 57, 60, 64, 96, 111, 193, 197],\n",
       " [6,\n",
       "  12,\n",
       "  16,\n",
       "  17,\n",
       "  44,\n",
       "  45,\n",
       "  47,\n",
       "  48,\n",
       "  50,\n",
       "  53,\n",
       "  55,\n",
       "  56,\n",
       "  58,\n",
       "  62,\n",
       "  65,\n",
       "  82,\n",
       "  84,\n",
       "  115,\n",
       "  116,\n",
       "  152,\n",
       "  154,\n",
       "  158,\n",
       "  162,\n",
       "  163,\n",
       "  179,\n",
       "  187,\n",
       "  196],\n",
       " [74,\n",
       "  80,\n",
       "  87,\n",
       "  97,\n",
       "  99,\n",
       "  105,\n",
       "  106,\n",
       "  107,\n",
       "  129,\n",
       "  131,\n",
       "  132,\n",
       "  133,\n",
       "  135,\n",
       "  136,\n",
       "  137,\n",
       "  139,\n",
       "  141,\n",
       "  146,\n",
       "  147,\n",
       "  148]]"
      ]
     },
     "execution_count": 29,
     "metadata": {},
     "output_type": "execute_result"
    }
   ],
   "source": [
    "for idx, embed in enumerate(norm_data):\n",
    "    if(idx not in filter_out):\n",
    "        new_groups[y_km[idx] - 1].append(idx)\n",
    "        \n",
    "new_groups"
   ]
  },
  {
   "cell_type": "code",
   "execution_count": 30,
   "metadata": {},
   "outputs": [
    {
     "name": "stdout",
     "output_type": "stream",
     "text": [
      "Group:1: \n",
      "\n",
      "Liberal Democrat Sarah Teather, the most recent female MP to be elected, told researchers: \"Lots of people say it's like an old boys club.\n",
      "\n",
      "\n",
      "Group:2: \n",
      "\n",
      "The Tory co-chairman attacked Labour's six new pledges as \"vacuous\" and said Mr Blair was very worried voters would take revenge for his failure to deliver.\n",
      "\n",
      "\n",
      "Group:3: \n",
      "\n",
      "It would mean paid leave would be increased to nine months by 2007, Ms Hewitt told GMTV's Sunday programme.\n",
      "\n",
      "\n",
      "Group:4: \n",
      "\n",
      "\"Obviously we have failed in that.\n",
      "\n",
      "\n",
      "Group:5: \n",
      "\n",
      "But Edward Leigh, who is chairman of the Commons public accounts committee, warned the government would have to work hard to ensure taxpayers would get full benefit from the Dome deal.\n",
      "\n",
      "\n",
      "Group:6: \n",
      "\n",
      "Deputy Prime Minister John Prescott said a good deal had been secured.\n",
      "\n",
      "\n",
      "Group:7: \n",
      "\n",
      "He would not discuss reports the party repaid £500,000 to Lord Ashcroft after he predicted an election defeat.\n",
      "\n",
      "\n",
      "Group:8: \n",
      "\n",
      "Research conducted by the EOC last year revealed that many Britons believe the pay gap between men and women is the result of \"natural differences\" between the sexes.\n",
      "\n",
      "\n"
     ]
    }
   ],
   "source": [
    "## pick up top score for each group\n",
    "\n",
    "for idx, group in enumerate(new_groups):\n",
    "    score_list = get_sum_distances(group)\n",
    "    max_idx = np.argmax(score_list)\n",
    "    print('Group:' + str(idx + 1) + ': \\n')\n",
    "    print(sentences[group[max_idx]])\n",
    "    print('\\n')"
   ]
  },
  {
   "cell_type": "code",
   "execution_count": null,
   "metadata": {},
   "outputs": [],
   "source": [
    "# show titles again\n",
    "titles"
   ]
  },
  {
   "cell_type": "code",
   "execution_count": 31,
   "metadata": {},
   "outputs": [
    {
     "name": "stdout",
     "output_type": "stream",
     "text": [
      "Group:1: \n",
      "\n",
      "Avg length:122\n",
      "\n",
      "\n",
      "Group:2: \n",
      "\n",
      "Avg length:137\n",
      "\n",
      "\n",
      "Group:3: \n",
      "\n",
      "Avg length:122\n",
      "\n",
      "\n",
      "Group:4: \n",
      "\n",
      "Avg length:52\n",
      "\n",
      "\n",
      "Group:5: \n",
      "\n",
      "Avg length:100\n",
      "\n",
      "\n",
      "Group:6: \n",
      "\n",
      "Avg length:126\n",
      "\n",
      "\n",
      "Group:7: \n",
      "\n",
      "Avg length:131\n",
      "\n",
      "\n",
      "Group:8: \n",
      "\n",
      "Avg length:141\n",
      "\n",
      "\n"
     ]
    }
   ],
   "source": [
    "## print out avg sentences long in each group\n",
    "for idx, group in enumerate(new_groups):\n",
    "    # number of sentence in each group\n",
    "    count = 0\n",
    "    # total len in each group\n",
    "    sen_len =0\n",
    "    for se in group:\n",
    "        count += 1\n",
    "        sen_len += len(sentences[se])\n",
    "    print('Group:' + str(idx + 1) + ': \\n')\n",
    "    print('Avg length:' + str(sen_len // count))\n",
    "    print('\\n')"
   ]
  }
 ],
 "metadata": {
  "kernelspec": {
   "display_name": "Python 3",
   "language": "python",
   "name": "python3"
  },
  "language_info": {
   "codemirror_mode": {
    "name": "ipython",
    "version": 3
   },
   "file_extension": ".py",
   "mimetype": "text/x-python",
   "name": "python",
   "nbconvert_exporter": "python",
   "pygments_lexer": "ipython3",
   "version": "3.7.9"
  }
 },
 "nbformat": 4,
 "nbformat_minor": 4
}
