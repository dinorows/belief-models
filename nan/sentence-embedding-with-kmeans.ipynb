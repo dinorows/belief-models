{
 "cells": [
  {
   "cell_type": "markdown",
   "metadata": {},
   "source": [
    "## Using K-means to Find Out the Number of Topics in the Article\n",
    "\n",
    "Here we assume that each article contains mutiple topics (or key sentences), by using `K-means`, we try to group the sentences within same topic together. "
   ]
  },
  {
   "cell_type": "markdown",
   "metadata": {},
   "source": [
    "### Data preprocessing\n",
    "We continue using `ON TACTICS AGAINST JAPANESE IMPERIALISM`, written by `Mao`, which we can compare to our early result."
   ]
  },
  {
   "cell_type": "code",
   "execution_count": 1,
   "metadata": {},
   "outputs": [
    {
     "data": {
      "text/plain": [
       "44958"
      ]
     },
     "execution_count": 1,
     "metadata": {},
     "output_type": "execute_result"
    }
   ],
   "source": [
    "# read in data\n",
    "text = ''\n",
    "\n",
    "with open('data/ON_TACTICS_AGAINST_JAPANESE_IMPERIALISM.txt', 'r') as reader:\n",
    "    text = reader.read()\n",
    "    \n",
    "    \n",
    "len(text)"
   ]
  },
  {
   "cell_type": "code",
   "execution_count": 2,
   "metadata": {},
   "outputs": [
    {
     "data": {
      "text/plain": [
       "44819"
      ]
     },
     "execution_count": 2,
     "metadata": {},
     "output_type": "execute_result"
    }
   ],
   "source": [
    "# remove reference mark, e.g. '[1]'\n",
    "\n",
    "import re\n",
    "\n",
    "text = re.sub(r'\\[\\d{1,3}\\]' ,'', text)\n",
    "len(text)"
   ]
  },
  {
   "cell_type": "code",
   "execution_count": 3,
   "metadata": {},
   "outputs": [
    {
     "data": {
      "text/plain": [
       "332"
      ]
     },
     "execution_count": 3,
     "metadata": {},
     "output_type": "execute_result"
    }
   ],
   "source": [
    "# using nltk, split text into sentences\n",
    "\n",
    "from nltk.tokenize import sent_tokenize\n",
    "\n",
    "sentences = sent_tokenize(text)\n",
    "\n",
    "len(sentences)"
   ]
  },
  {
   "cell_type": "markdown",
   "metadata": {},
   "source": [
    "## TF-IDF remove 'stop sentences'\n",
    "\n",
    "We use `TF-IDF` to find out the words that are not so important, if one sentences contains too many non-important words, we can try to remove it"
   ]
  },
  {
   "cell_type": "code",
   "execution_count": 4,
   "metadata": {},
   "outputs": [],
   "source": [
    "from nltk.corpus import stopwords\n",
    "from sklearn.feature_extraction.text import TfidfVectorizer"
   ]
  },
  {
   "cell_type": "code",
   "execution_count": 11,
   "metadata": {},
   "outputs": [],
   "source": [
    "from nltk.stem import WordNetLemmatizer\n",
    "from nltk.tokenize import word_tokenize\n",
    "import string\n",
    "\n",
    "\n",
    "def remove_punctuation_marks(text) :\n",
    "    punctuation_marks = dict((ord(punctuation_mark), None) for punctuation_mark in string.punctuation)\n",
    "    return text.translate(punctuation_marks)\n",
    "\n",
    "def get_lemmatized_tokens(text) :\n",
    "    normalized_tokens = word_tokenize(remove_punctuation_marks(text.lower()))\n",
    "    return [WordNetLemmatizer().lemmatize(normalized_token) for normalized_token in normalized_tokens]\n"
   ]
  },
  {
   "cell_type": "code",
   "execution_count": 14,
   "metadata": {},
   "outputs": [
    {
     "name": "stderr",
     "output_type": "stream",
     "text": [
      "[nltk_data] Downloading package wordnet to /home/ke.na/nltk_data...\n",
      "[nltk_data]   Unzipping corpora/wordnet.zip.\n"
     ]
    },
    {
     "data": {
      "text/plain": [
       "True"
      ]
     },
     "execution_count": 14,
     "metadata": {},
     "output_type": "execute_result"
    }
   ],
   "source": [
    "# import nltk\n",
    "# nltk.download('wordnet')"
   ]
  },
  {
   "cell_type": "code",
   "execution_count": 22,
   "metadata": {},
   "outputs": [
    {
     "data": {
      "text/plain": [
       "(332, 1416)"
      ]
     },
     "execution_count": 22,
     "metadata": {},
     "output_type": "execute_result"
    }
   ],
   "source": [
    "tfidf_results = TfidfVectorizer(tokenizer = get_lemmatized_tokens).fit_transform(sentences)\n",
    "tfidf_results.shape"
   ]
  },
  {
   "cell_type": "code",
   "execution_count": 23,
   "metadata": {},
   "outputs": [
    {
     "data": {
      "text/plain": [
       "array([[0., 0., 0., ..., 0., 0., 0.],\n",
       "       [0., 0., 0., ..., 0., 0., 0.],\n",
       "       [0., 0., 0., ..., 0., 0., 0.],\n",
       "       ...,\n",
       "       [0., 0., 0., ..., 0., 0., 0.],\n",
       "       [0., 0., 0., ..., 0., 0., 0.],\n",
       "       [0., 0., 0., ..., 0., 0., 0.]])"
      ]
     },
     "execution_count": 23,
     "metadata": {},
     "output_type": "execute_result"
    }
   ],
   "source": [
    "tfidf_results.toarray()"
   ]
  },
  {
   "cell_type": "code",
   "execution_count": 24,
   "metadata": {},
   "outputs": [
    {
     "data": {
      "text/plain": [
       "0.21145994194377424"
      ]
     },
     "execution_count": 24,
     "metadata": {},
     "output_type": "execute_result"
    }
   ],
   "source": [
    "# find out the avg tf-idf scores\n",
    "not_zero_count = 0\n",
    "total = 0\n",
    "\n",
    "for s in tfidf_results.toarray():\n",
    "    for w in s:\n",
    "        if w != 0 :\n",
    "            not_zero_count += 1\n",
    "            total += w\n",
    "            \n",
    "avg_score = total/not_zero_count\n",
    "avg_score"
   ]
  },
  {
   "cell_type": "code",
   "execution_count": 29,
   "metadata": {},
   "outputs": [
    {
     "data": {
      "text/plain": [
       "[208]"
      ]
     },
     "execution_count": 29,
     "metadata": {},
     "output_type": "execute_result"
    }
   ],
   "source": [
    "# define threshold = 0.5 avg\n",
    "# count the sentence that have more than 50% words below the threshold\n",
    "\n",
    "threshold = avg_score * 0.5\n",
    "\n",
    "idx_below_threshold = []\n",
    "\n",
    "for idx, s in enumerate(tfidf_results.toarray()):\n",
    "    not_zero_count = 0\n",
    "    below = 0\n",
    "    # check whole sentence\n",
    "    for w in s:\n",
    "        if w != 0 :\n",
    "            not_zero_count += 1\n",
    "            if w < threshold:\n",
    "                below += 1\n",
    "    if below / not_zero_count >= 0.5:\n",
    "        idx_below_threshold.append(idx)\n",
    "    #print(below / not_zero_count)\n",
    "        \n",
    "idx_below_threshold"
   ]
  },
  {
   "cell_type": "code",
   "execution_count": 30,
   "metadata": {},
   "outputs": [
    {
     "data": {
      "text/plain": [
       "'Without a proper estimate of the strong and weak points of the Japanese and Chinese counter-revolutionary forces and of the Chinese revolutionary forces, we shall be unable fully to understand the necessity of organizing a broad revolutionary national united front, or to take firm measures to break down closed-doorism, or to use the united front as a means of organizing and rallying millions of people and all the armies that are potentially friendly to the revolution for the purpose of advancing to strike at our main target, namely, Japanese imperialism and its running dogs, the Chinese traitors, or to use this tactical weapon of ours to strike at the main target before us, but instead we shall aim at a variety of targets so that our bullets will hit not the principal enemy but our lesser enemies or even our allies.'"
      ]
     },
     "execution_count": 30,
     "metadata": {},
     "output_type": "execute_result"
    }
   ],
   "source": [
    "sentences[208]"
   ]
  },
  {
   "cell_type": "code",
   "execution_count": null,
   "metadata": {},
   "outputs": [],
   "source": []
  },
  {
   "cell_type": "markdown",
   "metadata": {},
   "source": [
    "## BERT embedding for k-means"
   ]
  },
  {
   "cell_type": "code",
   "execution_count": 4,
   "metadata": {},
   "outputs": [
    {
     "data": {
      "text/plain": [
       "array([[ 0.44056144,  0.5195048 ,  2.5450442 , ...,  0.5283022 ,\n",
       "        -0.46262807,  0.19722113],\n",
       "       [-0.24993764, -0.7121983 ,  1.2375451 , ..., -1.0851908 ,\n",
       "        -0.77441585,  0.10610564],\n",
       "       [-0.331048  , -0.12393019,  1.3653917 , ..., -0.72380173,\n",
       "        -0.92983496,  0.26965213],\n",
       "       ...,\n",
       "       [ 0.19709875, -0.39470232,  3.0218735 , ..., -0.4574634 ,\n",
       "        -0.34476504,  0.0278206 ],\n",
       "       [ 0.52104473, -0.29295123,  1.9758993 , ...,  0.1811067 ,\n",
       "        -0.92158616, -0.10381993],\n",
       "       [-0.7256513 ,  0.35026634,  0.09495329, ..., -0.47348344,\n",
       "        -0.92776227, -0.3470151 ]], dtype=float32)"
      ]
     },
     "execution_count": 4,
     "metadata": {},
     "output_type": "execute_result"
    }
   ],
   "source": [
    "## get embedding \n",
    "\n",
    "from sentence_transformers import SentenceTransformer\n",
    "model = SentenceTransformer('bert-base-nli-mean-tokens')\n",
    "\n",
    "sentence_embeddings = model.encode(sentences)\n",
    "\n",
    "sentence_embeddings"
   ]
  },
  {
   "cell_type": "code",
   "execution_count": 13,
   "metadata": {},
   "outputs": [],
   "source": [
    "from sklearn.preprocessing import normalize\n",
    "# normalize the data help k-means get better performance\n",
    "norm_data = normalize(sentence_embeddings, norm='l2')"
   ]
  },
  {
   "cell_type": "markdown",
   "metadata": {},
   "source": [
    "## K-means with Gap statistic\n",
    "\n",
    "The `K` for `K-means` alogrithm is a key parameter. To pick up a reasonable `K`, here we introduce the `Gap statistic` meathod ([detail](https://statweb.stanford.edu/~gwalther/gap)).  `Gap statistic` can estimate the number of clusters in a set of data.\n",
    "\n",
    "We use `gap_statistic` package to do that, see implementation detail at: https://github.com/milesgranger/gap_statistic"
   ]
  },
  {
   "cell_type": "code",
   "execution_count": 5,
   "metadata": {},
   "outputs": [
    {
     "name": "stdout",
     "output_type": "stream",
     "text": [
      "Collecting gap-stat\n",
      "  Downloading gap_stat-2.0.1-py3-none-any.whl (6.9 kB)\n",
      "Requirement already satisfied, skipping upgrade: numpy in /home/ke.na/.local/lib/python3.7/site-packages (from gap-stat) (1.19.5)\n",
      "Requirement already satisfied, skipping upgrade: scipy in /home/ke.na/.conda/envs/pytorch/lib/python3.7/site-packages (from gap-stat) (1.5.2)\n",
      "Requirement already satisfied, skipping upgrade: pandas in /home/ke.na/.conda/envs/pytorch/lib/python3.7/site-packages (from gap-stat) (1.1.3)\n",
      "Requirement already satisfied, skipping upgrade: pytz>=2017.2 in /home/ke.na/.conda/envs/pytorch/lib/python3.7/site-packages (from pandas->gap-stat) (2020.1)\n",
      "Requirement already satisfied, skipping upgrade: python-dateutil>=2.7.3 in /home/ke.na/.conda/envs/pytorch/lib/python3.7/site-packages (from pandas->gap-stat) (2.8.1)\n",
      "Requirement already satisfied, skipping upgrade: six>=1.5 in /home/ke.na/.local/lib/python3.7/site-packages (from python-dateutil>=2.7.3->pandas->gap-stat) (1.15.0)\n",
      "Installing collected packages: gap-stat\n",
      "Successfully installed gap-stat-2.0.1\n"
     ]
    }
   ],
   "source": [
    "# ! pip install --upgrade gap-stat"
   ]
  },
  {
   "cell_type": "code",
   "execution_count": 8,
   "metadata": {},
   "outputs": [],
   "source": [
    "from gap_statistic import OptimalK\n",
    "\n",
    "optimalK = OptimalK(n_jobs=4, parallel_backend='joblib')"
   ]
  },
  {
   "cell_type": "code",
   "execution_count": 14,
   "metadata": {},
   "outputs": [],
   "source": [
    "import numpy as np\n",
    "# limit to 1~15 cluster\n",
    "n_clusters = optimalK(norm_data, cluster_array=np.arange(1, 15))"
   ]
  },
  {
   "cell_type": "code",
   "execution_count": 15,
   "metadata": {},
   "outputs": [
    {
     "data": {
      "text/html": [
       "<div>\n",
       "<style scoped>\n",
       "    .dataframe tbody tr th:only-of-type {\n",
       "        vertical-align: middle;\n",
       "    }\n",
       "\n",
       "    .dataframe tbody tr th {\n",
       "        vertical-align: top;\n",
       "    }\n",
       "\n",
       "    .dataframe thead th {\n",
       "        text-align: right;\n",
       "    }\n",
       "</style>\n",
       "<table border=\"1\" class=\"dataframe\">\n",
       "  <thead>\n",
       "    <tr style=\"text-align: right;\">\n",
       "      <th></th>\n",
       "      <th>n_clusters</th>\n",
       "      <th>gap_value</th>\n",
       "      <th>gap*</th>\n",
       "      <th>ref_dispersion_std</th>\n",
       "      <th>sk</th>\n",
       "      <th>sk*</th>\n",
       "      <th>diff</th>\n",
       "      <th>diff*</th>\n",
       "    </tr>\n",
       "  </thead>\n",
       "  <tbody>\n",
       "    <tr>\n",
       "      <th>0</th>\n",
       "      <td>1.0</td>\n",
       "      <td>0.961295</td>\n",
       "      <td>322.033966</td>\n",
       "      <td>0.892537</td>\n",
       "      <td>0.001976</td>\n",
       "      <td>371.854222</td>\n",
       "      <td>-0.118248</td>\n",
       "      <td>375.073891</td>\n",
       "    </tr>\n",
       "    <tr>\n",
       "      <th>1</th>\n",
       "      <td>2.0</td>\n",
       "      <td>1.079825</td>\n",
       "      <td>342.855288</td>\n",
       "      <td>0.126648</td>\n",
       "      <td>0.000282</td>\n",
       "      <td>395.895213</td>\n",
       "      <td>-0.045493</td>\n",
       "      <td>396.958359</td>\n",
       "    </tr>\n",
       "    <tr>\n",
       "      <th>2</th>\n",
       "      <td>3.0</td>\n",
       "      <td>1.128024</td>\n",
       "      <td>349.712087</td>\n",
       "      <td>1.211310</td>\n",
       "      <td>0.002706</td>\n",
       "      <td>403.815158</td>\n",
       "      <td>-0.024501</td>\n",
       "      <td>404.355217</td>\n",
       "    </tr>\n",
       "    <tr>\n",
       "      <th>3</th>\n",
       "      <td>4.0</td>\n",
       "      <td>1.154219</td>\n",
       "      <td>353.212686</td>\n",
       "      <td>0.757073</td>\n",
       "      <td>0.001694</td>\n",
       "      <td>407.855816</td>\n",
       "      <td>-0.037175</td>\n",
       "      <td>408.530236</td>\n",
       "    </tr>\n",
       "    <tr>\n",
       "      <th>4</th>\n",
       "      <td>5.0</td>\n",
       "      <td>1.192344</td>\n",
       "      <td>357.576401</td>\n",
       "      <td>0.422337</td>\n",
       "      <td>0.000950</td>\n",
       "      <td>412.893951</td>\n",
       "      <td>-0.020192</td>\n",
       "      <td>413.207470</td>\n",
       "    </tr>\n",
       "  </tbody>\n",
       "</table>\n",
       "</div>"
      ],
      "text/plain": [
       "   n_clusters  gap_value        gap*  ref_dispersion_std        sk  \\\n",
       "0         1.0   0.961295  322.033966            0.892537  0.001976   \n",
       "1         2.0   1.079825  342.855288            0.126648  0.000282   \n",
       "2         3.0   1.128024  349.712087            1.211310  0.002706   \n",
       "3         4.0   1.154219  353.212686            0.757073  0.001694   \n",
       "4         5.0   1.192344  357.576401            0.422337  0.000950   \n",
       "\n",
       "          sk*      diff       diff*  \n",
       "0  371.854222 -0.118248  375.073891  \n",
       "1  395.895213 -0.045493  396.958359  \n",
       "2  403.815158 -0.024501  404.355217  \n",
       "3  407.855816 -0.037175  408.530236  \n",
       "4  412.893951 -0.020192  413.207470  "
      ]
     },
     "execution_count": 15,
     "metadata": {},
     "output_type": "execute_result"
    }
   ],
   "source": [
    "optimalK.gap_df.head()"
   ]
  },
  {
   "cell_type": "code",
   "execution_count": 16,
   "metadata": {},
   "outputs": [
    {
     "data": {
      "image/png": "[encoded data removed]",
      "text/plain": [
       "<Figure size 432x288 with 1 Axes>"
      ]
     },
     "metadata": {
      "needs_background": "light"
     },
     "output_type": "display_data"
    },
    {
     "data": {
      "image/png": "[encoded data removed]",
      "text/plain": [
       "<Figure size 432x288 with 1 Axes>"
      ]
     },
     "metadata": {
      "needs_background": "light"
     },
     "output_type": "display_data"
    },
    {
     "data": {
      "image/png": "[encoded data removed]",
      "text/plain": [
       "<Figure size 432x288 with 1 Axes>"
      ]
     },
     "metadata": {
      "needs_background": "light"
     },
     "output_type": "display_data"
    },
    {
     "data": {
      "image/png": "[encoded data removed]",
      "text/plain": [
       "<Figure size 432x288 with 1 Axes>"
      ]
     },
     "metadata": {
      "needs_background": "light"
     },
     "output_type": "display_data"
    }
   ],
   "source": [
    "optimalK.plot_results()"
   ]
  },
  {
   "cell_type": "code",
   "execution_count": 17,
   "metadata": {},
   "outputs": [
    {
     "data": {
      "text/plain": [
       "array([ 3,  6,  6,  3,  7, 11,  7,  7,  5, 11, 11,  6, 11,  5,  3,  1, 11,\n",
       "        1,  1,  3,  3,  3, 11,  2,  1,  9,  5, 11,  4,  5,  9,  2,  0, 10,\n",
       "        5, 11,  5,  5,  0,  6,  5,  6,  3,  5,  4,  7,  9,  7,  6,  9, 11,\n",
       "       11,  7,  5,  4,  6,  6,  0,  6, 11,  2,  5, 10,  1, 10, 11,  5,  4,\n",
       "        9,  6, 11, 11,  3, 11,  8,  5,  1,  6,  7,  3,  5,  5,  5,  5, 10,\n",
       "       10,  4,  1,  1, 10,  7,  8,  5,  3,  5,  1,  5,  2,  5,  7,  1,  9,\n",
       "       10, 10,  3,  0,  9,  0,  1,  7, 11, 11, 11, 11, 11, 11,  0,  9, 10,\n",
       "        3,  3,  3,  5,  3,  3,  3,  2,  4,  4,  8, 10,  5,  8,  8,  8, 11,\n",
       "        1,  8,  3,  8,  1,  9,  8, 11,  1,  8,  8, 10,  8, 11,  7,  4,  9,\n",
       "        6,  1,  1,  4,  8,  5,  1,  8,  1,  1,  8,  1,  1,  1,  1,  6,  8,\n",
       "        1,  2,  6,  8,  6,  7,  7,  1,  1,  7,  7,  7,  3,  7,  6,  5,  7,\n",
       "       11,  6,  8,  1,  9,  9,  7,  7,  7,  7,  3, 10,  3,  6,  9,  9,  9,\n",
       "        9,  1,  9,  7,  1,  9,  9,  5, 10,  9,  4,  9,  0,  4,  1, 10,  4,\n",
       "        5,  4,  3,  2,  4,  9,  5, 10,  0,  6, 10,  1, 10,  4,  9,  1, 10,\n",
       "       10, 10,  2, 10, 10, 10,  2,  3,  6,  3,  1,  5,  5,  5,  5,  5, 10,\n",
       "        3,  1,  1,  1,  5,  5,  4, 10,  8, 11,  4,  2, 10,  1,  9,  1,  6,\n",
       "        2,  2,  2,  2,  6,  5,  9,  9,  9,  5,  2,  7,  2,  5, 10,  2,  2,\n",
       "        2,  4, 10,  2,  7,  2,  2,  2,  3,  2,  2,  6,  2,  4,  5,  5,  2,\n",
       "        8,  2,  6,  6,  6,  7,  7,  5,  7,  0,  1,  4,  4, 10,  1,  5,  5,\n",
       "        1,  1, 10,  1,  5,  6,  6,  3,  7], dtype=int32)"
      ]
     },
     "execution_count": 17,
     "metadata": {},
     "output_type": "execute_result"
    }
   ],
   "source": [
    "# using the best K = 12 for k-means\n",
    "from sklearn.cluster import KMeans\n",
    "km = KMeans(\n",
    "    n_clusters=12, init='random',\n",
    "    n_init=10, max_iter=300, \n",
    "    tol=1e-04, random_state=0\n",
    ")\n",
    "y_km = km.fit_predict(norm_data)\n",
    "\n",
    "y_km"
   ]
  },
  {
   "cell_type": "code",
   "execution_count": 25,
   "metadata": {},
   "outputs": [
    {
     "data": {
      "text/plain": [
       "[[], [], [], [], [], [], [], [], [], [], [], []]"
      ]
     },
     "execution_count": 25,
     "metadata": {},
     "output_type": "execute_result"
    }
   ],
   "source": [
    "\n",
    "## create a array that assign each sentence to its group\n",
    "groups = []\n",
    "\n",
    "for i in range (0, 12):\n",
    "    groups.append([])\n",
    "\n",
    "groups  "
   ]
  },
  {
   "cell_type": "code",
   "execution_count": 26,
   "metadata": {},
   "outputs": [],
   "source": [
    "for idx, embed in enumerate(norm_data):\n",
    "    groups[y_km[idx] - 1].append(idx)"
   ]
  },
  {
   "cell_type": "code",
   "execution_count": 27,
   "metadata": {},
   "outputs": [
    {
     "data": {
      "text/plain": [
       "True"
      ]
     },
     "execution_count": 27,
     "metadata": {},
     "output_type": "execute_result"
    }
   ],
   "source": [
    "# validata\n",
    "group0 = 0\n",
    "for x in y_km:\n",
    "    if x == 1:\n",
    "        group0 += 1\n",
    "\n",
    "len(groups[0]) == group0"
   ]
  },
  {
   "cell_type": "code",
   "execution_count": 28,
   "metadata": {},
   "outputs": [
    {
     "data": {
      "text/plain": [
       "[15,\n",
       " 17,\n",
       " 18,\n",
       " 24,\n",
       " 63,\n",
       " 76,\n",
       " 87,\n",
       " 88,\n",
       " 95,\n",
       " 100,\n",
       " 108,\n",
       " 136,\n",
       " 140,\n",
       " 144,\n",
       " 154,\n",
       " 155,\n",
       " 159,\n",
       " 161,\n",
       " 162,\n",
       " 164,\n",
       " 165,\n",
       " 166,\n",
       " 167,\n",
       " 170,\n",
       " 177,\n",
       " 178,\n",
       " 190,\n",
       " 205,\n",
       " 208,\n",
       " 218,\n",
       " 232,\n",
       " 236,\n",
       " 248,\n",
       " 256,\n",
       " 257,\n",
       " 258,\n",
       " 268,\n",
       " 270,\n",
       " 316,\n",
       " 320,\n",
       " 323,\n",
       " 324,\n",
       " 326]"
      ]
     },
     "execution_count": 28,
     "metadata": {},
     "output_type": "execute_result"
    }
   ],
   "source": [
    "groups[0]"
   ]
  },
  {
   "cell_type": "code",
   "execution_count": 29,
   "metadata": {},
   "outputs": [],
   "source": [
    "def get_sum_distances(group):\n",
    "    \"\"\"input a group indicis of sentences, get a list of sum of cosine distance between\n",
    "    current sentence and other sentences in the text(score)\n",
    "    @param: a group of index, index of sentence\n",
    "    @return score(float)\n",
    "    \"\"\"\n",
    "    # construct data for group info\n",
    "    data = np.array([norm_data[i] for i in group])\n",
    "    # to store the result\n",
    "    res = []\n",
    "    \n",
    "    for idx, _ in enumerate(data):\n",
    "        # data has been normalized, cosine distanct can be calculated as np.dot()\n",
    "        scores = np.dot(data, data[idx].T)\n",
    "        res.append(np.sum(scores))\n",
    "    return res"
   ]
  },
  {
   "cell_type": "code",
   "execution_count": 31,
   "metadata": {},
   "outputs": [
    {
     "name": "stdout",
     "output_type": "stream",
     "text": [
      "Group:1: \n",
      "\n",
      "Japanese imperialism could not have become so blatant in its aggression were it not for this pack of traitors.\n",
      "\n",
      "\n",
      "Group:2: \n",
      "\n",
      "This faces all classes and political groups in China with the question of what to do.\n",
      "\n",
      "\n",
      "Group:3: \n",
      "\n",
      "In 1922 at the Washington Nine-Power Conference called by the United States.\n",
      "\n",
      "\n",
      "Group:4: \n",
      "\n",
      "Its main characteristic is that Japanese imperialism wants to turn China into a colony.\n",
      "\n",
      "\n",
      "Group:5: \n",
      "\n",
      "Now, faced with the immediate danger of becoming slaves to a foreign nation, they have no alternative but to resist.\n",
      "\n",
      "\n",
      "Group:6: \n",
      "\n",
      "Today things are different.\n",
      "\n",
      "\n",
      "Group:7: \n",
      "\n",
      "Owing to the Chinese people's struggle against imperialism and to conflicts among the imperialist powers, China has been able to retain a semi-independent status.\n",
      "\n",
      "\n",
      "Group:8: \n",
      "\n",
      "But before long the situation changed again.\n",
      "\n",
      "\n",
      "Group:9: \n",
      "\n",
      "The recent Eastern Hopei Incident  and diplomatic talks are clear indications of this trend of events which threatens the survival of the whole Chinese people.\n",
      "\n",
      "\n",
      "Group:10: \n",
      "\n",
      "Our Party has defined its tasks in the light of this changed situation.\n",
      "\n",
      "\n",
      "Group:11: \n",
      "\n",
      "The Incident of September 18, 1931,  began the present stage of Japan's colonization of China.\n",
      "\n",
      "\n",
      "Group:12: \n",
      "\n",
      "As we all know, for nearly a hundred years China has been a semi-colonial country jointly dominated by several imperialist powers.\n",
      "\n",
      "\n"
     ]
    }
   ],
   "source": [
    "## pick up top score for each group\n",
    "\n",
    "for idx, group in enumerate(groups):\n",
    "    score_list = get_sum_distances(group)\n",
    "    max_idx = np.argmax(score_list)\n",
    "    print('Group:' + str(idx + 1) + ': \\n')\n",
    "    print(sentences[max_idx])\n",
    "    print('\\n')"
   ]
  },
  {
   "cell_type": "code",
   "execution_count": null,
   "metadata": {},
   "outputs": [],
   "source": []
  }
 ],
 "metadata": {
  "kernelspec": {
   "display_name": "Python 3",
   "language": "python",
   "name": "python3"
  },
  "language_info": {
   "codemirror_mode": {
    "name": "ipython",
    "version": 3
   },
   "file_extension": ".py",
   "mimetype": "text/x-python",
   "name": "python",
   "nbconvert_exporter": "python",
   "pygments_lexer": "ipython3",
   "version": "3.7.4"
  }
 },
 "nbformat": 4,
 "nbformat_minor": 4
}
