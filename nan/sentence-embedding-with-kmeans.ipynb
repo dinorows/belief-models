{
 "cells": [
  {
   "cell_type": "markdown",
   "metadata": {},
   "source": [
    "## Using K-means to Find Out the Number of Topics in the Article\n",
    "\n",
    "Here we assume that each article contains mutiple topics (or key sentences), by using `K-means`, we try to group the sentences within same topic together. "
   ]
  },
  {
   "cell_type": "markdown",
   "metadata": {},
   "source": [
    "### Data preprocessing\n",
    "We continue using `ON TACTICS AGAINST JAPANESE IMPERIALISM`, written by `Mao`, which we can compare to our early result."
   ]
  },
  {
   "cell_type": "code",
   "execution_count": 2,
   "metadata": {},
   "outputs": [
    {
     "data": {
      "text/plain": [
       "44958"
      ]
     },
     "execution_count": 2,
     "metadata": {},
     "output_type": "execute_result"
    }
   ],
   "source": [
    "# read in data\n",
    "text = ''\n",
    "\n",
    "with open('data/ON_TACTICS_AGAINST_JAPANESE_IMPERIALISM.txt', 'r') as reader:\n",
    "    text = reader.read()\n",
    "    \n",
    "    \n",
    "len(text)"
   ]
  },
  {
   "cell_type": "code",
   "execution_count": 3,
   "metadata": {},
   "outputs": [
    {
     "data": {
      "text/plain": [
       "44819"
      ]
     },
     "execution_count": 3,
     "metadata": {},
     "output_type": "execute_result"
    }
   ],
   "source": [
    "# remove reference mark, e.g. '[1]'\n",
    "\n",
    "import re\n",
    "\n",
    "text = re.sub(r'\\[\\d{1,3}\\]' ,'', text)\n",
    "len(text)"
   ]
  },
  {
   "cell_type": "code",
   "execution_count": 4,
   "metadata": {},
   "outputs": [
    {
     "data": {
      "text/plain": [
       "332"
      ]
     },
     "execution_count": 4,
     "metadata": {},
     "output_type": "execute_result"
    }
   ],
   "source": [
    "# using nltk, split text into sentences\n",
    "\n",
    "from nltk.tokenize import sent_tokenize\n",
    "\n",
    "sentences = sent_tokenize(text)\n",
    "\n",
    "len(sentences)"
   ]
  },
  {
   "cell_type": "markdown",
   "metadata": {},
   "source": [
    "## TF-IDF remove 'stop sentences'(skip)\n",
    "\n",
    "\n",
    "We use `TF-IDF` to find out the words that are not so important, if one sentences contains too many non-important words, we can try to remove it"
   ]
  },
  {
   "cell_type": "code",
   "execution_count": 4,
   "metadata": {},
   "outputs": [],
   "source": [
    "from nltk.corpus import stopwords\n",
    "from sklearn.feature_extraction.text import TfidfVectorizer"
   ]
  },
  {
   "cell_type": "code",
   "execution_count": 11,
   "metadata": {},
   "outputs": [],
   "source": [
    "from nltk.stem import WordNetLemmatizer\n",
    "from nltk.tokenize import word_tokenize\n",
    "import string\n",
    "\n",
    "\n",
    "def remove_punctuation_marks(text) :\n",
    "    punctuation_marks = dict((ord(punctuation_mark), None) for punctuation_mark in string.punctuation)\n",
    "    return text.translate(punctuation_marks)\n",
    "\n",
    "def get_lemmatized_tokens(text) :\n",
    "    normalized_tokens = word_tokenize(remove_punctuation_marks(text.lower()))\n",
    "    return [WordNetLemmatizer().lemmatize(normalized_token) for normalized_token in normalized_tokens]\n"
   ]
  },
  {
   "cell_type": "code",
   "execution_count": 14,
   "metadata": {},
   "outputs": [
    {
     "name": "stderr",
     "output_type": "stream",
     "text": [
      "[nltk_data] Downloading package wordnet to /home/ke.na/nltk_data...\n",
      "[nltk_data]   Unzipping corpora/wordnet.zip.\n"
     ]
    },
    {
     "data": {
      "text/plain": [
       "True"
      ]
     },
     "execution_count": 14,
     "metadata": {},
     "output_type": "execute_result"
    }
   ],
   "source": [
    "# import nltk\n",
    "# nltk.download('wordnet')"
   ]
  },
  {
   "cell_type": "code",
   "execution_count": 22,
   "metadata": {},
   "outputs": [
    {
     "data": {
      "text/plain": [
       "(332, 1416)"
      ]
     },
     "execution_count": 22,
     "metadata": {},
     "output_type": "execute_result"
    }
   ],
   "source": [
    "tfidf_results = TfidfVectorizer(tokenizer = get_lemmatized_tokens).fit_transform(sentences)\n",
    "tfidf_results.shape"
   ]
  },
  {
   "cell_type": "code",
   "execution_count": 23,
   "metadata": {},
   "outputs": [
    {
     "data": {
      "text/plain": [
       "array([[0., 0., 0., ..., 0., 0., 0.],\n",
       "       [0., 0., 0., ..., 0., 0., 0.],\n",
       "       [0., 0., 0., ..., 0., 0., 0.],\n",
       "       ...,\n",
       "       [0., 0., 0., ..., 0., 0., 0.],\n",
       "       [0., 0., 0., ..., 0., 0., 0.],\n",
       "       [0., 0., 0., ..., 0., 0., 0.]])"
      ]
     },
     "execution_count": 23,
     "metadata": {},
     "output_type": "execute_result"
    }
   ],
   "source": [
    "tfidf_results.toarray()"
   ]
  },
  {
   "cell_type": "code",
   "execution_count": 24,
   "metadata": {},
   "outputs": [
    {
     "data": {
      "text/plain": [
       "0.21145994194377424"
      ]
     },
     "execution_count": 24,
     "metadata": {},
     "output_type": "execute_result"
    }
   ],
   "source": [
    "# find out the avg tf-idf scores\n",
    "not_zero_count = 0\n",
    "total = 0\n",
    "\n",
    "for s in tfidf_results.toarray():\n",
    "    for w in s:\n",
    "        if w != 0 :\n",
    "            not_zero_count += 1\n",
    "            total += w\n",
    "            \n",
    "avg_score = total/not_zero_count\n",
    "avg_score"
   ]
  },
  {
   "cell_type": "code",
   "execution_count": 29,
   "metadata": {},
   "outputs": [
    {
     "data": {
      "text/plain": [
       "[208]"
      ]
     },
     "execution_count": 29,
     "metadata": {},
     "output_type": "execute_result"
    }
   ],
   "source": [
    "# define threshold = 0.5 avg\n",
    "# count the sentence that have more than 50% words below the threshold\n",
    "\n",
    "threshold = avg_score * 0.5\n",
    "\n",
    "idx_below_threshold = []\n",
    "\n",
    "for idx, s in enumerate(tfidf_results.toarray()):\n",
    "    not_zero_count = 0\n",
    "    below = 0\n",
    "    # check whole sentence\n",
    "    for w in s:\n",
    "        if w != 0 :\n",
    "            not_zero_count += 1\n",
    "            if w < threshold:\n",
    "                below += 1\n",
    "    if below / not_zero_count >= 0.5:\n",
    "        idx_below_threshold.append(idx)\n",
    "    #print(below / not_zero_count)\n",
    "        \n",
    "idx_below_threshold"
   ]
  },
  {
   "cell_type": "code",
   "execution_count": 30,
   "metadata": {},
   "outputs": [
    {
     "data": {
      "text/plain": [
       "'Without a proper estimate of the strong and weak points of the Japanese and Chinese counter-revolutionary forces and of the Chinese revolutionary forces, we shall be unable fully to understand the necessity of organizing a broad revolutionary national united front, or to take firm measures to break down closed-doorism, or to use the united front as a means of organizing and rallying millions of people and all the armies that are potentially friendly to the revolution for the purpose of advancing to strike at our main target, namely, Japanese imperialism and its running dogs, the Chinese traitors, or to use this tactical weapon of ours to strike at the main target before us, but instead we shall aim at a variety of targets so that our bullets will hit not the principal enemy but our lesser enemies or even our allies.'"
      ]
     },
     "execution_count": 30,
     "metadata": {},
     "output_type": "execute_result"
    }
   ],
   "source": [
    "sentences[208]"
   ]
  },
  {
   "cell_type": "code",
   "execution_count": null,
   "metadata": {},
   "outputs": [],
   "source": []
  },
  {
   "cell_type": "markdown",
   "metadata": {},
   "source": [
    "## BERT embedding for k-means"
   ]
  },
  {
   "cell_type": "code",
   "execution_count": 5,
   "metadata": {},
   "outputs": [
    {
     "data": {
      "text/plain": [
       "array([[ 0.44056144,  0.5195048 ,  2.5450442 , ...,  0.5283022 ,\n",
       "        -0.46262807,  0.19722113],\n",
       "       [-0.24993764, -0.7121983 ,  1.2375451 , ..., -1.0851908 ,\n",
       "        -0.77441585,  0.10610564],\n",
       "       [-0.331048  , -0.12393019,  1.3653917 , ..., -0.72380173,\n",
       "        -0.92983496,  0.26965213],\n",
       "       ...,\n",
       "       [ 0.19709875, -0.39470232,  3.0218735 , ..., -0.4574634 ,\n",
       "        -0.34476504,  0.0278206 ],\n",
       "       [ 0.52104473, -0.29295123,  1.9758993 , ...,  0.1811067 ,\n",
       "        -0.92158616, -0.10381993],\n",
       "       [-0.7256513 ,  0.35026634,  0.09495329, ..., -0.47348344,\n",
       "        -0.92776227, -0.3470151 ]], dtype=float32)"
      ]
     },
     "execution_count": 5,
     "metadata": {},
     "output_type": "execute_result"
    }
   ],
   "source": [
    "## get embedding \n",
    "\n",
    "from sentence_transformers import SentenceTransformer\n",
    "model = SentenceTransformer('bert-base-nli-mean-tokens')\n",
    "\n",
    "sentence_embeddings = model.encode(sentences)\n",
    "\n",
    "sentence_embeddings"
   ]
  },
  {
   "cell_type": "code",
   "execution_count": 6,
   "metadata": {},
   "outputs": [],
   "source": [
    "from sklearn.preprocessing import normalize\n",
    "# normalize the data help k-means get better performance\n",
    "norm_data = normalize(sentence_embeddings, norm='l2')"
   ]
  },
  {
   "cell_type": "markdown",
   "metadata": {},
   "source": [
    "## K-means with Gap statistic\n",
    "\n",
    "The `K` for `K-means` alogrithm is a key parameter. To pick up a reasonable `K`, here we introduce the `Gap statistic` meathod ([detail](https://statweb.stanford.edu/~gwalther/gap)).  `Gap statistic` can estimate the number of clusters in a set of data.\n",
    "\n",
    "We use `gap_statistic` package to do that, see implementation detail at: https://github.com/milesgranger/gap_statistic"
   ]
  },
  {
   "cell_type": "code",
   "execution_count": 5,
   "metadata": {},
   "outputs": [
    {
     "name": "stdout",
     "output_type": "stream",
     "text": [
      "Collecting gap-stat\n",
      "  Downloading gap_stat-2.0.1-py3-none-any.whl (6.9 kB)\n",
      "Requirement already satisfied, skipping upgrade: numpy in /home/ke.na/.local/lib/python3.7/site-packages (from gap-stat) (1.19.5)\n",
      "Requirement already satisfied, skipping upgrade: scipy in /home/ke.na/.conda/envs/pytorch/lib/python3.7/site-packages (from gap-stat) (1.5.2)\n",
      "Requirement already satisfied, skipping upgrade: pandas in /home/ke.na/.conda/envs/pytorch/lib/python3.7/site-packages (from gap-stat) (1.1.3)\n",
      "Requirement already satisfied, skipping upgrade: pytz>=2017.2 in /home/ke.na/.conda/envs/pytorch/lib/python3.7/site-packages (from pandas->gap-stat) (2020.1)\n",
      "Requirement already satisfied, skipping upgrade: python-dateutil>=2.7.3 in /home/ke.na/.conda/envs/pytorch/lib/python3.7/site-packages (from pandas->gap-stat) (2.8.1)\n",
      "Requirement already satisfied, skipping upgrade: six>=1.5 in /home/ke.na/.local/lib/python3.7/site-packages (from python-dateutil>=2.7.3->pandas->gap-stat) (1.15.0)\n",
      "Installing collected packages: gap-stat\n",
      "Successfully installed gap-stat-2.0.1\n"
     ]
    }
   ],
   "source": [
    "# ! pip install --upgrade gap-stat"
   ]
  },
  {
   "cell_type": "code",
   "execution_count": 7,
   "metadata": {},
   "outputs": [],
   "source": [
    "from gap_statistic import OptimalK\n",
    "\n",
    "optimalK = OptimalK(n_jobs=4, parallel_backend='joblib')"
   ]
  },
  {
   "cell_type": "code",
   "execution_count": 8,
   "metadata": {},
   "outputs": [],
   "source": [
    "import numpy as np\n",
    "# limit to 1~15 cluster\n",
    "n_clusters = optimalK(norm_data, cluster_array=np.arange(1, 15))"
   ]
  },
  {
   "cell_type": "code",
   "execution_count": 9,
   "metadata": {},
   "outputs": [
    {
     "data": {
      "text/html": [
       "<div>\n",
       "<style scoped>\n",
       "    .dataframe tbody tr th:only-of-type {\n",
       "        vertical-align: middle;\n",
       "    }\n",
       "\n",
       "    .dataframe tbody tr th {\n",
       "        vertical-align: top;\n",
       "    }\n",
       "\n",
       "    .dataframe thead th {\n",
       "        text-align: right;\n",
       "    }\n",
       "</style>\n",
       "<table border=\"1\" class=\"dataframe\">\n",
       "  <thead>\n",
       "    <tr style=\"text-align: right;\">\n",
       "      <th></th>\n",
       "      <th>n_clusters</th>\n",
       "      <th>gap_value</th>\n",
       "      <th>gap*</th>\n",
       "      <th>ref_dispersion_std</th>\n",
       "      <th>sk</th>\n",
       "      <th>sk*</th>\n",
       "      <th>diff</th>\n",
       "      <th>diff*</th>\n",
       "    </tr>\n",
       "  </thead>\n",
       "  <tbody>\n",
       "    <tr>\n",
       "      <th>0</th>\n",
       "      <td>1.0</td>\n",
       "      <td>0.962255</td>\n",
       "      <td>322.535298</td>\n",
       "      <td>1.175683</td>\n",
       "      <td>0.002603</td>\n",
       "      <td>372.434157</td>\n",
       "      <td>-0.115142</td>\n",
       "      <td>375.568809</td>\n",
       "    </tr>\n",
       "    <tr>\n",
       "      <th>1</th>\n",
       "      <td>2.0</td>\n",
       "      <td>1.079720</td>\n",
       "      <td>342.802132</td>\n",
       "      <td>1.044322</td>\n",
       "      <td>0.002323</td>\n",
       "      <td>395.835643</td>\n",
       "      <td>-0.048094</td>\n",
       "      <td>396.947961</td>\n",
       "    </tr>\n",
       "    <tr>\n",
       "      <th>2</th>\n",
       "      <td>3.0</td>\n",
       "      <td>1.128802</td>\n",
       "      <td>350.002053</td>\n",
       "      <td>0.442852</td>\n",
       "      <td>0.000989</td>\n",
       "      <td>404.147882</td>\n",
       "      <td>-0.017459</td>\n",
       "      <td>404.414704</td>\n",
       "    </tr>\n",
       "    <tr>\n",
       "      <th>3</th>\n",
       "      <td>4.0</td>\n",
       "      <td>1.146636</td>\n",
       "      <td>351.728612</td>\n",
       "      <td>0.167334</td>\n",
       "      <td>0.000375</td>\n",
       "      <td>406.141263</td>\n",
       "      <td>-0.043656</td>\n",
       "      <td>407.046176</td>\n",
       "    </tr>\n",
       "    <tr>\n",
       "      <th>4</th>\n",
       "      <td>5.0</td>\n",
       "      <td>1.191378</td>\n",
       "      <td>357.575921</td>\n",
       "      <td>0.483040</td>\n",
       "      <td>0.001086</td>\n",
       "      <td>412.893485</td>\n",
       "      <td>-0.017303</td>\n",
       "      <td>413.072615</td>\n",
       "    </tr>\n",
       "  </tbody>\n",
       "</table>\n",
       "</div>"
      ],
      "text/plain": [
       "   n_clusters  gap_value        gap*  ref_dispersion_std        sk  \\\n",
       "0         1.0   0.962255  322.535298            1.175683  0.002603   \n",
       "1         2.0   1.079720  342.802132            1.044322  0.002323   \n",
       "2         3.0   1.128802  350.002053            0.442852  0.000989   \n",
       "3         4.0   1.146636  351.728612            0.167334  0.000375   \n",
       "4         5.0   1.191378  357.575921            0.483040  0.001086   \n",
       "\n",
       "          sk*      diff       diff*  \n",
       "0  372.434157 -0.115142  375.568809  \n",
       "1  395.835643 -0.048094  396.947961  \n",
       "2  404.147882 -0.017459  404.414704  \n",
       "3  406.141263 -0.043656  407.046176  \n",
       "4  412.893485 -0.017303  413.072615  "
      ]
     },
     "execution_count": 9,
     "metadata": {},
     "output_type": "execute_result"
    }
   ],
   "source": [
    "optimalK.gap_df.head()"
   ]
  },
  {
   "cell_type": "code",
   "execution_count": 10,
   "metadata": {},
   "outputs": [
    {
     "data": {
      "image/png": "[encoded data removed]",
      "text/plain": [
       "<Figure size 432x288 with 1 Axes>"
      ]
     },
     "metadata": {
      "needs_background": "light"
     },
     "output_type": "display_data"
    },
    {
     "data": {
      "image/png": "[encoded data removed]",
      "text/plain": [
       "<Figure size 432x288 with 1 Axes>"
      ]
     },
     "metadata": {
      "needs_background": "light"
     },
     "output_type": "display_data"
    },
    {
     "data": {
      "image/png": "[encoded data removed]",
      "text/plain": [
       "<Figure size 432x288 with 1 Axes>"
      ]
     },
     "metadata": {
      "needs_background": "light"
     },
     "output_type": "display_data"
    },
    {
     "data": {
      "image/png": "[encoded data removed]",
      "text/plain": [
       "<Figure size 432x288 with 1 Axes>"
      ]
     },
     "metadata": {
      "needs_background": "light"
     },
     "output_type": "display_data"
    }
   ],
   "source": [
    "optimalK.plot_results()"
   ]
  },
  {
   "cell_type": "code",
   "execution_count": 11,
   "metadata": {},
   "outputs": [
    {
     "data": {
      "text/plain": [
       "array([ 3,  6,  6,  3,  7, 11,  7,  7,  5, 11, 11,  6, 11,  5,  3,  1, 11,\n",
       "        1,  1,  3,  3,  3, 11,  2,  1,  9,  5, 11,  4,  5,  9,  2,  0, 10,\n",
       "        5, 11,  5,  5,  0,  6,  5,  6,  3,  5,  4,  7,  9,  7,  6,  9, 11,\n",
       "       11,  7,  5,  4,  6,  6,  0,  6, 11,  2,  5, 10,  1, 10, 11,  5,  4,\n",
       "        9,  6, 11, 11,  3, 11,  8,  5,  1,  6,  7,  3,  5,  5,  5,  5, 10,\n",
       "       10,  4,  1,  1, 10,  7,  8,  5,  3,  5,  1,  5,  2,  5,  7,  1,  9,\n",
       "       10, 10,  3,  0,  9,  0,  1,  7, 11, 11, 11, 11, 11, 11,  0,  9, 10,\n",
       "        3,  3,  3,  5,  3,  3,  3,  2,  4,  4,  8, 10,  5,  8,  8,  8, 11,\n",
       "        1,  8,  3,  8,  1,  9,  8, 11,  1,  8,  8, 10,  8, 11,  7,  4,  9,\n",
       "        6,  1,  1,  4,  8,  5,  1,  8,  1,  1,  8,  1,  1,  1,  1,  6,  8,\n",
       "        1,  2,  6,  8,  6,  7,  7,  1,  1,  7,  7,  7,  3,  7,  6,  5,  7,\n",
       "       11,  6,  8,  1,  9,  9,  7,  7,  7,  7,  3, 10,  3,  6,  9,  9,  9,\n",
       "        9,  1,  9,  7,  1,  9,  9,  5, 10,  9,  4,  9,  0,  4,  1, 10,  4,\n",
       "        5,  4,  3,  2,  4,  9,  5, 10,  0,  6, 10,  1, 10,  4,  9,  1, 10,\n",
       "       10, 10,  2, 10, 10, 10,  2,  3,  6,  3,  1,  5,  5,  5,  5,  5, 10,\n",
       "        3,  1,  1,  1,  5,  5,  4, 10,  8, 11,  4,  2, 10,  1,  9,  1,  6,\n",
       "        2,  2,  2,  2,  6,  5,  9,  9,  9,  5,  2,  7,  2,  5, 10,  2,  2,\n",
       "        2,  4, 10,  2,  7,  2,  2,  2,  3,  2,  2,  6,  2,  4,  5,  5,  2,\n",
       "        8,  2,  6,  6,  6,  7,  7,  5,  7,  0,  1,  4,  4, 10,  1,  5,  5,\n",
       "        1,  1, 10,  1,  5,  6,  6,  3,  7], dtype=int32)"
      ]
     },
     "execution_count": 11,
     "metadata": {},
     "output_type": "execute_result"
    }
   ],
   "source": [
    "# using the best K = 12 for k-means\n",
    "from sklearn.cluster import KMeans\n",
    "km = KMeans(\n",
    "    n_clusters=12, init='random',\n",
    "    n_init=10, max_iter=300, \n",
    "    tol=1e-04, random_state=0\n",
    ")\n",
    "y_km = km.fit_predict(norm_data)\n",
    "\n",
    "y_km"
   ]
  },
  {
   "cell_type": "code",
   "execution_count": 12,
   "metadata": {},
   "outputs": [
    {
     "data": {
      "text/plain": [
       "[[], [], [], [], [], [], [], [], [], [], [], []]"
      ]
     },
     "execution_count": 12,
     "metadata": {},
     "output_type": "execute_result"
    }
   ],
   "source": [
    "\n",
    "## create a array that assign each sentence to its group\n",
    "groups = []\n",
    "\n",
    "for i in range (0, 12):\n",
    "    groups.append([])\n",
    "\n",
    "groups  "
   ]
  },
  {
   "cell_type": "code",
   "execution_count": 13,
   "metadata": {},
   "outputs": [],
   "source": [
    "for idx, embed in enumerate(norm_data):\n",
    "    groups[y_km[idx] - 1].append(idx)"
   ]
  },
  {
   "cell_type": "code",
   "execution_count": 14,
   "metadata": {},
   "outputs": [
    {
     "data": {
      "text/plain": [
       "True"
      ]
     },
     "execution_count": 14,
     "metadata": {},
     "output_type": "execute_result"
    }
   ],
   "source": [
    "# validate\n",
    "group0 = 0\n",
    "for x in y_km:\n",
    "    if x == 1:\n",
    "        group0 += 1\n",
    "\n",
    "len(groups[0]) == group0"
   ]
  },
  {
   "cell_type": "code",
   "execution_count": 15,
   "metadata": {},
   "outputs": [
    {
     "data": {
      "text/plain": [
       "[15,\n",
       " 17,\n",
       " 18,\n",
       " 24,\n",
       " 63,\n",
       " 76,\n",
       " 87,\n",
       " 88,\n",
       " 95,\n",
       " 100,\n",
       " 108,\n",
       " 136,\n",
       " 140,\n",
       " 144,\n",
       " 154,\n",
       " 155,\n",
       " 159,\n",
       " 161,\n",
       " 162,\n",
       " 164,\n",
       " 165,\n",
       " 166,\n",
       " 167,\n",
       " 170,\n",
       " 177,\n",
       " 178,\n",
       " 190,\n",
       " 205,\n",
       " 208,\n",
       " 218,\n",
       " 232,\n",
       " 236,\n",
       " 248,\n",
       " 256,\n",
       " 257,\n",
       " 258,\n",
       " 268,\n",
       " 270,\n",
       " 316,\n",
       " 320,\n",
       " 323,\n",
       " 324,\n",
       " 326]"
      ]
     },
     "execution_count": 15,
     "metadata": {},
     "output_type": "execute_result"
    }
   ],
   "source": [
    "groups[0]"
   ]
  },
  {
   "cell_type": "code",
   "execution_count": 16,
   "metadata": {},
   "outputs": [],
   "source": [
    "def get_sum_distances(group):\n",
    "    \"\"\"input a group indicis of sentences, get a list of sum of cosine distance between\n",
    "    current sentence and other sentences in the text(score)\n",
    "    @param: a group of index, index of sentence\n",
    "    @return score(float)\n",
    "    \"\"\"\n",
    "    # construct data for group info\n",
    "    data = np.array([norm_data[i] for i in group])\n",
    "    # to store the result\n",
    "    res = []\n",
    "    \n",
    "    for idx, _ in enumerate(data):\n",
    "        # data has been normalized, cosine distanct can be calculated as np.dot()\n",
    "        scores = np.dot(data, data[idx].T)\n",
    "        res.append(np.sum(scores))\n",
    "    return res"
   ]
  },
  {
   "cell_type": "code",
   "execution_count": 31,
   "metadata": {},
   "outputs": [
    {
     "name": "stdout",
     "output_type": "stream",
     "text": [
      "Group:1: \n",
      "\n",
      "The Japanese imperialists' policy of subjugating China and Chiang Kai-shek's policy of betraying China will inevitably drive many people over to our side--either directly into joining the ranks of the Communist Party and the Red Army or into forming a united front with us.\n",
      "\n",
      "\n",
      "Group:2: \n",
      "\n",
      "However if the national bourgeoisie joins the anti-imperialist united front, the working class and the national bourgeoisie will have interests in common.\n",
      "\n",
      "\n",
      "Group:3: \n",
      "\n",
      "Why?\n",
      "\n",
      "\n",
      "Group:4: \n",
      "\n",
      "Nevertheless, it cannot be said that in the present circumstances there is no difference between the national bourgeoisie and the landlord and comprador classes.\n",
      "\n",
      "\n",
      "Group:5: \n",
      "\n",
      "The result was that when imperialism ordered its lackeys, the landlord and comprador classes, to spread their numerous tentacles and draw over first Chiang Kai-shek and then Wang Ching-wei, the revolution suffered defeat.\n",
      "\n",
      "\n",
      "Group:6: \n",
      "\n",
      "When the revolutionary situation changes, revolutionary tactics and methods of leadership must change accordingly.\n",
      "\n",
      "\n",
      "Group:7: \n",
      "\n",
      "Is it correct to object to our view on the ground that China's national bourgeoisie is politically and economically flabby, and to argue that it cannot possibly change its attitude in spite of the new circumstances?\n",
      "\n",
      "\n",
      "Group:8: \n",
      "\n",
      "Who brought the Long March to victory?\n",
      "\n",
      "\n",
      "Group:9: \n",
      "\n",
      "This would mean failure to single out the principal enemy and waste of ammunition.\n",
      "\n",
      "\n",
      "Group:10: \n",
      "\n",
      "Whatever course Tsai Ting-kai and his associates may take in the future, and despite their Fukien People's Government's adherence to old practice in failing to arouse the people to struggle, it must be considered beneficial to the revolution that they turned their guns, originally trained on the Red Army, against Japanese imperialism and Chiang Kai-shek.\n",
      "\n",
      "\n",
      "Group:11: \n",
      "\n",
      "In 1926 and 1927, during the time when the revolutionary army advanced on Wuhan, captured it and marched into Honan, Tang Sheng-chih and Feng Yu-hsiang  took part in the revolution.\n",
      "\n",
      "\n",
      "Group:12: \n",
      "\n",
      "These great shifts have turned the old areas into guerrilla zones.\n",
      "\n",
      "\n"
     ]
    }
   ],
   "source": [
    "## pick up top score for each group\n",
    "\n",
    "for idx, group in enumerate(groups):\n",
    "    score_list = get_sum_distances(group)\n",
    "    max_idx = np.argmax(score_list)\n",
    "    print('Group:' + str(idx + 1) + ': \\n')\n",
    "    print(sentences[group[max_idx]])\n",
    "    print('\\n')"
   ]
  },
  {
   "cell_type": "markdown",
   "metadata": {},
   "source": [
    "## Remove the sentence that doesn't have too much meaning\n",
    "\n",
    "In `Group 6`, we got the key sentence: `Today things are different`, this seems doesn't say too much. So we need to try to remove these kind of sentence.\n",
    "\n",
    "By using Bayesian based anti-spam filter, we can identify the sentence which is not meaningful. We use a pretrained filter `antispam`"
   ]
  },
  {
   "cell_type": "code",
   "execution_count": 17,
   "metadata": {},
   "outputs": [
    {
     "name": "stdout",
     "output_type": "stream",
     "text": [
      "Collecting antispam\n",
      "  Downloading antispam-0.0.10.tar.gz (1.5 MB)\n",
      "\u001b[K     |████████████████████████████████| 1.5 MB 3.9 MB/s eta 0:00:01\n",
      "\u001b[?25hBuilding wheels for collected packages: antispam\n",
      "  Building wheel for antispam (setup.py) ... \u001b[?25ldone\n",
      "\u001b[?25h  Created wheel for antispam: filename=antispam-0.0.10-py3-none-any.whl size=1508093 sha256=ea4d3e23b9e0f923a3e63b8470f62196ea7d6ee04c57235818b18ce32827a7ff\n",
      "  Stored in directory: /home/ke.na/.cache/pip/wheels/0b/90/3f/1e31f5763d03ed2786886841decabe942209fdb4ceed32aace\n",
      "Successfully built antispam\n",
      "Installing collected packages: antispam\n",
      "Successfully installed antispam-0.0.10\n"
     ]
    }
   ],
   "source": [
    "! pip install antispam"
   ]
  },
  {
   "cell_type": "code",
   "execution_count": 18,
   "metadata": {},
   "outputs": [
    {
     "name": "stdout",
     "output_type": "stream",
     "text": [
      "Error during handling:124\n",
      "Error during handling:297\n"
     ]
    },
    {
     "data": {
      "text/plain": [
       "[0,\n",
       " 4,\n",
       " 7,\n",
       " 19,\n",
       " 20,\n",
       " 21,\n",
       " 24,\n",
       " 27,\n",
       " 28,\n",
       " 30,\n",
       " 31,\n",
       " 34,\n",
       " 35,\n",
       " 36,\n",
       " 37,\n",
       " 38,\n",
       " 40,\n",
       " 43,\n",
       " 44,\n",
       " 49,\n",
       " 51,\n",
       " 53,\n",
       " 57,\n",
       " 60,\n",
       " 70,\n",
       " 74,\n",
       " 78,\n",
       " 84,\n",
       " 93,\n",
       " 94,\n",
       " 97,\n",
       " 98,\n",
       " 103,\n",
       " 124,\n",
       " 127,\n",
       " 136,\n",
       " 138,\n",
       " 140,\n",
       " 141,\n",
       " 143,\n",
       " 146,\n",
       " 154,\n",
       " 155,\n",
       " 159,\n",
       " 160,\n",
       " 161,\n",
       " 162,\n",
       " 164,\n",
       " 166,\n",
       " 170,\n",
       " 173,\n",
       " 177,\n",
       " 178,\n",
       " 179,\n",
       " 180,\n",
       " 192,\n",
       " 198,\n",
       " 211,\n",
       " 214,\n",
       " 216,\n",
       " 217,\n",
       " 221,\n",
       " 223,\n",
       " 227,\n",
       " 228,\n",
       " 231,\n",
       " 232,\n",
       " 244,\n",
       " 247,\n",
       " 248,\n",
       " 251,\n",
       " 252,\n",
       " 263,\n",
       " 268,\n",
       " 272,\n",
       " 274,\n",
       " 279,\n",
       " 281,\n",
       " 282,\n",
       " 283,\n",
       " 284,\n",
       " 285,\n",
       " 290,\n",
       " 293,\n",
       " 294,\n",
       " 295,\n",
       " 297,\n",
       " 307,\n",
       " 314,\n",
       " 318,\n",
       " 319,\n",
       " 323,\n",
       " 327]"
      ]
     },
     "execution_count": 18,
     "metadata": {},
     "output_type": "execute_result"
    }
   ],
   "source": [
    "import antispam\n",
    "\n",
    "filter_out = []\n",
    "\n",
    "\n",
    "\n",
    "# apply the filter\n",
    "for idx, sc in enumerate(sentences):\n",
    "    is_spam = False\n",
    "    try:\n",
    "        is_spam = antispam.is_spam(sc)\n",
    "    except:\n",
    "        # bug when sentence is too short\n",
    "        print('Error during handling:' + str(idx))\n",
    "    if(len(sc) <= 10):\n",
    "            is_spam = True\n",
    "    if(is_spam):\n",
    "        filter_out.append(idx)\n",
    "        \n",
    "filter_out"
   ]
  },
  {
   "cell_type": "code",
   "execution_count": 19,
   "metadata": {},
   "outputs": [
    {
     "data": {
      "text/plain": [
       "[[], [], [], [], [], [], [], [], [], [], [], []]"
      ]
     },
     "execution_count": 19,
     "metadata": {},
     "output_type": "execute_result"
    }
   ],
   "source": [
    "## create new groups (after filter)\n",
    "new_groups = []\n",
    "\n",
    "for i in range (0, 12):\n",
    "    new_groups.append([])\n",
    "\n",
    "new_groups  "
   ]
  },
  {
   "cell_type": "code",
   "execution_count": 20,
   "metadata": {},
   "outputs": [
    {
     "data": {
      "text/plain": [
       "[[15,\n",
       "  17,\n",
       "  18,\n",
       "  63,\n",
       "  76,\n",
       "  87,\n",
       "  88,\n",
       "  95,\n",
       "  100,\n",
       "  108,\n",
       "  144,\n",
       "  165,\n",
       "  167,\n",
       "  190,\n",
       "  205,\n",
       "  208,\n",
       "  218,\n",
       "  236,\n",
       "  256,\n",
       "  257,\n",
       "  258,\n",
       "  270,\n",
       "  316,\n",
       "  320,\n",
       "  324,\n",
       "  326],\n",
       " [23,\n",
       "  126,\n",
       "  171,\n",
       "  224,\n",
       "  240,\n",
       "  266,\n",
       "  273,\n",
       "  275,\n",
       "  287,\n",
       "  288,\n",
       "  289,\n",
       "  292,\n",
       "  296,\n",
       "  298,\n",
       "  299,\n",
       "  301,\n",
       "  305],\n",
       " [3,\n",
       "  14,\n",
       "  42,\n",
       "  72,\n",
       "  79,\n",
       "  104,\n",
       "  119,\n",
       "  120,\n",
       "  121,\n",
       "  123,\n",
       "  125,\n",
       "  182,\n",
       "  197,\n",
       "  199,\n",
       "  245,\n",
       "  255,\n",
       "  330],\n",
       " [54, 67, 86, 128, 151, 156, 220, 222, 225, 234, 261, 265, 302, 317],\n",
       " [8,\n",
       "  13,\n",
       "  26,\n",
       "  29,\n",
       "  61,\n",
       "  66,\n",
       "  75,\n",
       "  80,\n",
       "  81,\n",
       "  82,\n",
       "  83,\n",
       "  92,\n",
       "  96,\n",
       "  122,\n",
       "  131,\n",
       "  158,\n",
       "  185,\n",
       "  249,\n",
       "  250,\n",
       "  253,\n",
       "  259,\n",
       "  260,\n",
       "  277,\n",
       "  303,\n",
       "  304,\n",
       "  313,\n",
       "  321,\n",
       "  322],\n",
       " [1,\n",
       "  2,\n",
       "  11,\n",
       "  39,\n",
       "  41,\n",
       "  48,\n",
       "  55,\n",
       "  56,\n",
       "  58,\n",
       "  69,\n",
       "  77,\n",
       "  153,\n",
       "  168,\n",
       "  172,\n",
       "  174,\n",
       "  184,\n",
       "  188,\n",
       "  200,\n",
       "  230,\n",
       "  246,\n",
       "  271,\n",
       "  276,\n",
       "  300,\n",
       "  308,\n",
       "  309,\n",
       "  310,\n",
       "  328,\n",
       "  329],\n",
       " [6,\n",
       "  45,\n",
       "  47,\n",
       "  52,\n",
       "  90,\n",
       "  99,\n",
       "  109,\n",
       "  150,\n",
       "  175,\n",
       "  176,\n",
       "  181,\n",
       "  183,\n",
       "  186,\n",
       "  193,\n",
       "  194,\n",
       "  195,\n",
       "  196,\n",
       "  207,\n",
       "  311,\n",
       "  312,\n",
       "  331],\n",
       " [91, 129, 132, 133, 134, 137, 139, 142, 145, 148, 157, 163, 169, 189, 306],\n",
       " [25,\n",
       "  46,\n",
       "  68,\n",
       "  101,\n",
       "  106,\n",
       "  117,\n",
       "  152,\n",
       "  191,\n",
       "  201,\n",
       "  202,\n",
       "  203,\n",
       "  204,\n",
       "  206,\n",
       "  209,\n",
       "  210,\n",
       "  213,\n",
       "  215,\n",
       "  226,\n",
       "  235,\n",
       "  269,\n",
       "  278,\n",
       "  280],\n",
       " [33,\n",
       "  62,\n",
       "  64,\n",
       "  85,\n",
       "  89,\n",
       "  102,\n",
       "  118,\n",
       "  130,\n",
       "  147,\n",
       "  212,\n",
       "  219,\n",
       "  233,\n",
       "  237,\n",
       "  238,\n",
       "  239,\n",
       "  241,\n",
       "  242,\n",
       "  243,\n",
       "  254,\n",
       "  262,\n",
       "  267,\n",
       "  286,\n",
       "  291,\n",
       "  325],\n",
       " [5,\n",
       "  9,\n",
       "  10,\n",
       "  12,\n",
       "  16,\n",
       "  22,\n",
       "  50,\n",
       "  59,\n",
       "  65,\n",
       "  71,\n",
       "  73,\n",
       "  110,\n",
       "  111,\n",
       "  112,\n",
       "  113,\n",
       "  114,\n",
       "  115,\n",
       "  135,\n",
       "  149,\n",
       "  187,\n",
       "  264],\n",
       " [32, 105, 107, 116, 229, 315]]"
      ]
     },
     "execution_count": 20,
     "metadata": {},
     "output_type": "execute_result"
    }
   ],
   "source": [
    "for idx, embed in enumerate(norm_data):\n",
    "    if(idx not in filter_out):\n",
    "        new_groups[y_km[idx] - 1].append(idx)\n",
    "        \n",
    "new_groups"
   ]
  },
  {
   "cell_type": "code",
   "execution_count": 30,
   "metadata": {},
   "outputs": [
    {
     "name": "stdout",
     "output_type": "stream",
     "text": [
      "Group:1: \n",
      "\n",
      "The Japanese imperialists' policy of subjugating China and Chiang Kai-shek's policy of betraying China will inevitably drive many people over to our side--either directly into joining the ranks of the Communist Party and the Red Army or into forming a united front with us.\n",
      "\n",
      "\n",
      "Group:2: \n",
      "\n",
      "However if the national bourgeoisie joins the anti-imperialist united front, the working class and the national bourgeoisie will have interests in common.\n",
      "\n",
      "\n",
      "Group:3: \n",
      "\n",
      "Is that correct?\n",
      "\n",
      "\n",
      "Group:4: \n",
      "\n",
      "Nevertheless, it cannot be said that in the present circumstances there is no difference between the national bourgeoisie and the landlord and comprador classes.\n",
      "\n",
      "\n",
      "Group:5: \n",
      "\n",
      "The anti-Japanese operations of Ma Chan-shan  in the three northeastern provinces represented another split in the ruling class camp.\n",
      "\n",
      "\n",
      "Group:6: \n",
      "\n",
      "When the revolutionary situation changes, revolutionary tactics and methods of leadership must change accordingly.\n",
      "\n",
      "\n",
      "Group:7: \n",
      "\n",
      "Owing to the Chinese people's struggle against imperialism and to conflicts among the imperialist powers, China has been able to retain a semi-independent status.\n",
      "\n",
      "\n",
      "Group:8: \n",
      "\n",
      "Who brought the Long March to victory?\n",
      "\n",
      "\n",
      "Group:9: \n",
      "\n",
      "This would mean failure to single out the principal enemy and waste of ammunition.\n",
      "\n",
      "\n",
      "Group:10: \n",
      "\n",
      "Whatever course Tsai Ting-kai and his associates may take in the future, and despite their Fukien People's Government's adherence to old practice in failing to arouse the people to struggle, it must be considered beneficial to the revolution that they turned their guns, originally trained on the Red Army, against Japanese imperialism and Chiang Kai-shek.\n",
      "\n",
      "\n",
      "Group:11: \n",
      "\n",
      "Now let us discuss the situation in the camp of China's national revolution.\n",
      "\n",
      "\n",
      "Group:12: \n",
      "\n",
      "These great shifts have turned the old areas into guerrilla zones.\n",
      "\n",
      "\n"
     ]
    }
   ],
   "source": [
    "## pick up top score for each group\n",
    "\n",
    "for idx, group in enumerate(new_groups):\n",
    "    score_list = get_sum_distances(group)\n",
    "    max_idx = np.argmax(score_list)\n",
    "    print('Group:' + str(idx + 1) + ': \\n')\n",
    "    print(sentences[group[max_idx]])\n",
    "    print('\\n')"
   ]
  },
  {
   "cell_type": "code",
   "execution_count": null,
   "metadata": {},
   "outputs": [],
   "source": []
  }
 ],
 "metadata": {
  "kernelspec": {
   "display_name": "Python 3",
   "language": "python",
   "name": "python3"
  },
  "language_info": {
   "codemirror_mode": {
    "name": "ipython",
    "version": 3
   },
   "file_extension": ".py",
   "mimetype": "text/x-python",
   "name": "python",
   "nbconvert_exporter": "python",
   "pygments_lexer": "ipython3",
   "version": "3.7.9"
  }
 },
 "nbformat": 4,
 "nbformat_minor": 4
}
