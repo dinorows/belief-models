{
 "cells": [
  {
   "cell_type": "code",
   "execution_count": 1,
   "metadata": {},
   "outputs": [
    {
     "name": "stdout",
     "output_type": "stream",
     "text": [
      "sentence-transformers              1.1.0\n",
      "transformers                       4.5.0\n"
     ]
    }
   ],
   "source": [
    "! pip list|grep transformers"
   ]
  },
  {
   "cell_type": "code",
   "execution_count": 2,
   "metadata": {
    "scrolled": true
   },
   "outputs": [
    {
     "name": "stdout",
     "output_type": "stream",
     "text": [
      "Collecting bert-extractive-summarizer\n",
      "  Downloading bert_extractive_summarizer-0.8.1-py3-none-any.whl (19 kB)\n",
      "Requirement already satisfied: scikit-learn in /home/ke.na/.conda/envs/pytorch/lib/python3.7/site-packages (from bert-extractive-summarizer) (0.23.2)\n",
      "Collecting spacy\n",
      "  Downloading spacy-3.1.3-cp37-cp37m-manylinux_2_17_x86_64.manylinux2014_x86_64.whl (5.9 MB)\n",
      "\u001b[K     |████████████████████████████████| 5.9 MB 4.9 MB/s eta 0:00:01\n",
      "\u001b[?25hRequirement already satisfied: transformers in /home/ke.na/.conda/envs/pytorch/lib/python3.7/site-packages (from bert-extractive-summarizer) (4.5.0)\n",
      "Requirement already satisfied: threadpoolctl>=2.0.0 in /home/ke.na/.conda/envs/pytorch/lib/python3.7/site-packages (from scikit-learn->bert-extractive-summarizer) (2.1.0)\n",
      "Requirement already satisfied: scipy>=0.19.1 in /home/ke.na/.conda/envs/pytorch/lib/python3.7/site-packages (from scikit-learn->bert-extractive-summarizer) (1.5.2)\n",
      "Requirement already satisfied: joblib>=0.11 in /home/ke.na/.conda/envs/pytorch/lib/python3.7/site-packages (from scikit-learn->bert-extractive-summarizer) (1.0.1)\n",
      "Requirement already satisfied: numpy>=1.13.3 in /home/ke.na/.local/lib/python3.7/site-packages (from scikit-learn->bert-extractive-summarizer) (1.19.5)\n",
      "Requirement already satisfied: jinja2 in /home/ke.na/.conda/envs/pytorch/lib/python3.7/site-packages (from spacy->bert-extractive-summarizer) (2.11.2)\n",
      "Collecting murmurhash<1.1.0,>=0.28.0\n",
      "  Downloading murmurhash-1.0.6-cp37-cp37m-manylinux_2_5_x86_64.manylinux1_x86_64.manylinux_2_17_x86_64.manylinux2014_x86_64.whl (21 kB)\n",
      "Requirement already satisfied: packaging>=20.0 in /home/ke.na/.conda/envs/pytorch/lib/python3.7/site-packages (from spacy->bert-extractive-summarizer) (20.4)\n",
      "Collecting catalogue<2.1.0,>=2.0.6\n",
      "  Downloading catalogue-2.0.6-py3-none-any.whl (17 kB)\n",
      "Requirement already satisfied: tqdm<5.0.0,>=4.38.0 in /home/ke.na/.conda/envs/pytorch/lib/python3.7/site-packages (from spacy->bert-extractive-summarizer) (4.50.2)\n",
      "Collecting cymem<2.1.0,>=2.0.2\n",
      "  Downloading cymem-2.0.6-cp37-cp37m-manylinux_2_17_x86_64.manylinux2014_x86_64.whl (35 kB)\n",
      "Collecting wasabi<1.1.0,>=0.8.1\n",
      "  Using cached wasabi-0.8.2-py3-none-any.whl (23 kB)\n",
      "Requirement already satisfied: requests<3.0.0,>=2.13.0 in /home/ke.na/.conda/envs/pytorch/lib/python3.7/site-packages (from spacy->bert-extractive-summarizer) (2.24.0)\n",
      "Collecting typer<0.5.0,>=0.3.0\n",
      "  Downloading typer-0.4.0-py3-none-any.whl (27 kB)\n",
      "Collecting spacy-legacy<3.1.0,>=3.0.8\n",
      "  Downloading spacy_legacy-3.0.8-py2.py3-none-any.whl (14 kB)\n",
      "Collecting pydantic!=1.8,!=1.8.1,<1.9.0,>=1.7.4\n",
      "  Downloading pydantic-1.8.2-cp37-cp37m-manylinux2014_x86_64.whl (10.1 MB)\n",
      "\u001b[K     |████████████████████████████████| 10.1 MB 74.2 MB/s eta 0:00:01\n",
      "\u001b[?25hCollecting preshed<3.1.0,>=3.0.2\n",
      "  Downloading preshed-3.0.6-cp37-cp37m-manylinux_2_5_x86_64.manylinux1_x86_64.manylinux_2_17_x86_64.manylinux2014_x86_64.whl (125 kB)\n",
      "\u001b[K     |████████████████████████████████| 125 kB 78.2 MB/s eta 0:00:01\n",
      "\u001b[?25hCollecting blis<0.8.0,>=0.4.0\n",
      "  Downloading blis-0.7.5-cp37-cp37m-manylinux_2_17_x86_64.manylinux2014_x86_64.whl (9.9 MB)\n",
      "\u001b[K     |████████████████████████████████| 9.9 MB 52.4 MB/s eta 0:00:01\n",
      "\u001b[?25hRequirement already satisfied: typing-extensions<4.0.0.0,>=3.7.4; python_version < \"3.8\" in /home/ke.na/.local/lib/python3.7/site-packages (from spacy->bert-extractive-summarizer) (3.7.4.3)\n",
      "Collecting pathy>=0.3.5\n",
      "  Downloading pathy-0.6.0-py3-none-any.whl (42 kB)\n",
      "\u001b[K     |████████████████████████████████| 42 kB 1.2 MB/s  eta 0:00:01\n",
      "\u001b[?25hCollecting srsly<3.0.0,>=2.4.1\n",
      "  Downloading srsly-2.4.2-cp37-cp37m-manylinux_2_17_x86_64.manylinux2014_x86_64.whl (451 kB)\n",
      "\u001b[K     |████████████████████████████████| 451 kB 74.7 MB/s eta 0:00:01\n",
      "\u001b[?25hRequirement already satisfied: setuptools in /home/ke.na/.conda/envs/pytorch/lib/python3.7/site-packages (from spacy->bert-extractive-summarizer) (50.3.1.post20201107)\n",
      "Collecting thinc<8.1.0,>=8.0.9\n",
      "  Downloading thinc-8.0.11-cp37-cp37m-manylinux_2_17_x86_64.manylinux2014_x86_64.whl (627 kB)\n",
      "\u001b[K     |████████████████████████████████| 627 kB 71.2 MB/s eta 0:00:01\n",
      "\u001b[?25hRequirement already satisfied: tokenizers<0.11,>=0.10.1 in /home/ke.na/.conda/envs/pytorch/lib/python3.7/site-packages (from transformers->bert-extractive-summarizer) (0.10.2)\n",
      "Requirement already satisfied: regex!=2019.12.17 in /home/ke.na/.conda/envs/pytorch/lib/python3.7/site-packages (from transformers->bert-extractive-summarizer) (2020.10.15)\n",
      "Requirement already satisfied: filelock in /home/ke.na/.conda/envs/pytorch/lib/python3.7/site-packages (from transformers->bert-extractive-summarizer) (3.0.12)\n",
      "Requirement already satisfied: sacremoses in /home/ke.na/.conda/envs/pytorch/lib/python3.7/site-packages (from transformers->bert-extractive-summarizer) (0.0.44)\n",
      "Requirement already satisfied: importlib-metadata; python_version < \"3.8\" in /home/ke.na/.conda/envs/pytorch/lib/python3.7/site-packages (from transformers->bert-extractive-summarizer) (2.0.0)\n",
      "Requirement already satisfied: MarkupSafe>=0.23 in /home/ke.na/.conda/envs/pytorch/lib/python3.7/site-packages (from jinja2->spacy->bert-extractive-summarizer) (1.1.1)\n",
      "Requirement already satisfied: six in /home/ke.na/.local/lib/python3.7/site-packages (from packaging>=20.0->spacy->bert-extractive-summarizer) (1.15.0)\n",
      "Requirement already satisfied: pyparsing>=2.0.2 in /home/ke.na/.conda/envs/pytorch/lib/python3.7/site-packages (from packaging>=20.0->spacy->bert-extractive-summarizer) (2.4.7)\n",
      "Requirement already satisfied: zipp>=0.5; python_version < \"3.8\" in /home/ke.na/.conda/envs/pytorch/lib/python3.7/site-packages (from catalogue<2.1.0,>=2.0.6->spacy->bert-extractive-summarizer) (3.4.0)\n",
      "Requirement already satisfied: chardet<4,>=3.0.2 in /home/ke.na/.conda/envs/pytorch/lib/python3.7/site-packages (from requests<3.0.0,>=2.13.0->spacy->bert-extractive-summarizer) (3.0.4)\n",
      "Requirement already satisfied: certifi>=2017.4.17 in /home/ke.na/.conda/envs/pytorch/lib/python3.7/site-packages (from requests<3.0.0,>=2.13.0->spacy->bert-extractive-summarizer) (2020.6.20)\n",
      "Requirement already satisfied: idna<3,>=2.5 in /home/ke.na/.conda/envs/pytorch/lib/python3.7/site-packages (from requests<3.0.0,>=2.13.0->spacy->bert-extractive-summarizer) (2.10)\n",
      "Requirement already satisfied: urllib3!=1.25.0,!=1.25.1,<1.26,>=1.21.1 in /home/ke.na/.conda/envs/pytorch/lib/python3.7/site-packages (from requests<3.0.0,>=2.13.0->spacy->bert-extractive-summarizer) (1.25.11)\n",
      "Requirement already satisfied: click<9.0.0,>=7.1.1 in /home/ke.na/.conda/envs/pytorch/lib/python3.7/site-packages (from typer<0.5.0,>=0.3.0->spacy->bert-extractive-summarizer) (7.1.2)\n",
      "Requirement already satisfied: smart-open<6.0.0,>=5.0.0 in /home/ke.na/.conda/envs/pytorch/lib/python3.7/site-packages (from pathy>=0.3.5->spacy->bert-extractive-summarizer) (5.1.0)\n",
      "Installing collected packages: murmurhash, catalogue, cymem, wasabi, typer, spacy-legacy, pydantic, preshed, blis, pathy, srsly, thinc, spacy, bert-extractive-summarizer\n",
      "Successfully installed bert-extractive-summarizer-0.8.1 blis-0.7.5 catalogue-2.0.6 cymem-2.0.6 murmurhash-1.0.6 pathy-0.6.0 preshed-3.0.6 pydantic-1.8.2 spacy-3.1.3 spacy-legacy-3.0.8 srsly-2.4.2 thinc-8.0.11 typer-0.4.0 wasabi-0.8.2\n"
     ]
    }
   ],
   "source": [
    "! pip install bert-extractive-summarizer"
   ]
  },
  {
   "cell_type": "code",
   "execution_count": 3,
   "metadata": {},
   "outputs": [
    {
     "name": "stdout",
     "output_type": "stream",
     "text": [
      "../mao/REPORT ON AN INVESTIGATION OF THE PEASANT MOVEMENT IN HUNAN.txt\n",
      "../mao/ON CORRECTING MISTAKEN IDEAS IN THE PARTY.txt\n",
      "../mao/BE CONCERNED WITH THE WELL-BEING OF THE MASSES, PAY ATTENTION TO METHODS OF WORK.txt\n",
      "../mao/WHY IS IT THAT RED POLITICAL POWER CAN EXIST IN CHINA.txt\n",
      "../mao/A SINGLE SPARK CAN START A PRAIRIE FIRE.txt\n",
      "../mao/ANALYSIS OF THE CLASSES IN CHINESE SOCIETY.txt\n",
      "6\n",
      "6\n"
     ]
    }
   ],
   "source": [
    "# read in data\n",
    "article = []\n",
    "# titles\n",
    "titles = []\n",
    "\n",
    "import os\n",
    "for root, dirs, files in os.walk(\"../mao/\"):\n",
    "    for file in files:\n",
    "        if file.endswith(\".txt\"):\n",
    "            print(os.path.join(root, file))\n",
    "            with open(os.path.join(root, file), \"r\") as input:\n",
    "                sentences = input.read()\n",
    "            article.append(sentences)\n",
    "            titles.append(file)\n",
    "            \n",
    "print(len(article))\n",
    "print(len(titles))"
   ]
  },
  {
   "cell_type": "code",
   "execution_count": 4,
   "metadata": {},
   "outputs": [
    {
     "data": {
      "text/plain": [
       "174475"
      ]
     },
     "execution_count": 4,
     "metadata": {},
     "output_type": "execute_result"
    }
   ],
   "source": [
    "# concatenate text\n",
    "text = ''.join(article)\n",
    "\n",
    "len(text)"
   ]
  },
  {
   "cell_type": "code",
   "execution_count": 5,
   "metadata": {},
   "outputs": [
    {
     "data": {
      "text/plain": [
       "174164"
      ]
     },
     "execution_count": 5,
     "metadata": {},
     "output_type": "execute_result"
    }
   ],
   "source": [
    "# remove reference mark, e.g. '[1]'\n",
    "\n",
    "import re\n",
    "\n",
    "text = re.sub(r'\\[\\d{1,3}\\]' ,'', text)\n",
    "len(text)"
   ]
  },
  {
   "cell_type": "code",
   "execution_count": 6,
   "metadata": {},
   "outputs": [
    {
     "data": {
      "text/plain": [
       "1250"
      ]
     },
     "execution_count": 6,
     "metadata": {},
     "output_type": "execute_result"
    }
   ],
   "source": [
    "# using nltk, split text into sentences\n",
    "\n",
    "from nltk.tokenize import sent_tokenize\n",
    "\n",
    "sentences = sent_tokenize(text)\n",
    "\n",
    "len(sentences)"
   ]
  },
  {
   "cell_type": "markdown",
   "metadata": {},
   "source": [
    "## Using bert-extractive-summarizer"
   ]
  },
  {
   "cell_type": "code",
   "execution_count": 7,
   "metadata": {
    "scrolled": true
   },
   "outputs": [
    {
     "name": "stdout",
     "output_type": "stream",
     "text": [
      "2021-10-23 13:02:33.947951: W tensorflow/stream_executor/platform/default/dso_loader.cc:60] Could not load dynamic library 'libcudart.so.11.0'; dlerror: libcudart.so.11.0: cannot open shared object file: No such file or directory; LD_LIBRARY_PATH: /shared/centos7/cuda/10.2/lib64:/shared/centos7/cuda/10.2/extras/CUPTI/lib64:/shared/centos7/anaconda3/3.7/lib:/shared/centos7/nodejs/14.15.4/lib\n",
      "2021-10-23 13:02:33.948035: I tensorflow/stream_executor/cuda/cudart_stub.cc:29] Ignore above cudart dlerror if you do not have a GPU set up on your machine.\n",
      "Collecting en-core-web-md==3.1.0\n",
      "  Downloading https://github.com/explosion/spacy-models/releases/download/en_core_web_md-3.1.0/en_core_web_md-3.1.0-py3-none-any.whl (45.4 MB)\n",
      "\u001b[K     |████████████████████████████████| 45.4 MB 6.0 MB/s eta 0:00:01\n",
      "\u001b[?25hRequirement already satisfied: spacy<3.2.0,>=3.1.0 in /home/ke.na/.conda/envs/pytorch/lib/python3.7/site-packages (from en-core-web-md==3.1.0) (3.1.3)\n",
      "Requirement already satisfied: pydantic!=1.8,!=1.8.1,<1.9.0,>=1.7.4 in /home/ke.na/.conda/envs/pytorch/lib/python3.7/site-packages (from spacy<3.2.0,>=3.1.0->en-core-web-md==3.1.0) (1.8.2)\n",
      "Requirement already satisfied: setuptools in /home/ke.na/.conda/envs/pytorch/lib/python3.7/site-packages (from spacy<3.2.0,>=3.1.0->en-core-web-md==3.1.0) (50.3.1.post20201107)\n",
      "Requirement already satisfied: packaging>=20.0 in /home/ke.na/.conda/envs/pytorch/lib/python3.7/site-packages (from spacy<3.2.0,>=3.1.0->en-core-web-md==3.1.0) (20.4)\n",
      "Requirement already satisfied: srsly<3.0.0,>=2.4.1 in /home/ke.na/.conda/envs/pytorch/lib/python3.7/site-packages (from spacy<3.2.0,>=3.1.0->en-core-web-md==3.1.0) (2.4.2)\n",
      "Requirement already satisfied: murmurhash<1.1.0,>=0.28.0 in /home/ke.na/.conda/envs/pytorch/lib/python3.7/site-packages (from spacy<3.2.0,>=3.1.0->en-core-web-md==3.1.0) (1.0.6)\n",
      "Requirement already satisfied: cymem<2.1.0,>=2.0.2 in /home/ke.na/.conda/envs/pytorch/lib/python3.7/site-packages (from spacy<3.2.0,>=3.1.0->en-core-web-md==3.1.0) (2.0.6)\n",
      "Requirement already satisfied: typer<0.5.0,>=0.3.0 in /home/ke.na/.conda/envs/pytorch/lib/python3.7/site-packages (from spacy<3.2.0,>=3.1.0->en-core-web-md==3.1.0) (0.4.0)\n",
      "Requirement already satisfied: pathy>=0.3.5 in /home/ke.na/.conda/envs/pytorch/lib/python3.7/site-packages (from spacy<3.2.0,>=3.1.0->en-core-web-md==3.1.0) (0.6.0)\n",
      "Requirement already satisfied: tqdm<5.0.0,>=4.38.0 in /home/ke.na/.conda/envs/pytorch/lib/python3.7/site-packages (from spacy<3.2.0,>=3.1.0->en-core-web-md==3.1.0) (4.50.2)\n",
      "Requirement already satisfied: catalogue<2.1.0,>=2.0.6 in /home/ke.na/.conda/envs/pytorch/lib/python3.7/site-packages (from spacy<3.2.0,>=3.1.0->en-core-web-md==3.1.0) (2.0.6)\n",
      "Requirement already satisfied: thinc<8.1.0,>=8.0.9 in /home/ke.na/.conda/envs/pytorch/lib/python3.7/site-packages (from spacy<3.2.0,>=3.1.0->en-core-web-md==3.1.0) (8.0.11)\n",
      "Requirement already satisfied: blis<0.8.0,>=0.4.0 in /home/ke.na/.conda/envs/pytorch/lib/python3.7/site-packages (from spacy<3.2.0,>=3.1.0->en-core-web-md==3.1.0) (0.7.5)\n",
      "Requirement already satisfied: spacy-legacy<3.1.0,>=3.0.8 in /home/ke.na/.conda/envs/pytorch/lib/python3.7/site-packages (from spacy<3.2.0,>=3.1.0->en-core-web-md==3.1.0) (3.0.8)\n",
      "Requirement already satisfied: typing-extensions<4.0.0.0,>=3.7.4; python_version < \"3.8\" in /home/ke.na/.local/lib/python3.7/site-packages (from spacy<3.2.0,>=3.1.0->en-core-web-md==3.1.0) (3.7.4.3)\n",
      "Requirement already satisfied: preshed<3.1.0,>=3.0.2 in /home/ke.na/.conda/envs/pytorch/lib/python3.7/site-packages (from spacy<3.2.0,>=3.1.0->en-core-web-md==3.1.0) (3.0.6)\n",
      "Requirement already satisfied: wasabi<1.1.0,>=0.8.1 in /home/ke.na/.conda/envs/pytorch/lib/python3.7/site-packages (from spacy<3.2.0,>=3.1.0->en-core-web-md==3.1.0) (0.8.2)\n",
      "Requirement already satisfied: requests<3.0.0,>=2.13.0 in /home/ke.na/.conda/envs/pytorch/lib/python3.7/site-packages (from spacy<3.2.0,>=3.1.0->en-core-web-md==3.1.0) (2.24.0)\n",
      "Requirement already satisfied: numpy>=1.15.0 in /home/ke.na/.local/lib/python3.7/site-packages (from spacy<3.2.0,>=3.1.0->en-core-web-md==3.1.0) (1.19.5)\n",
      "Requirement already satisfied: jinja2 in /home/ke.na/.conda/envs/pytorch/lib/python3.7/site-packages (from spacy<3.2.0,>=3.1.0->en-core-web-md==3.1.0) (2.11.2)\n",
      "Requirement already satisfied: pyparsing>=2.0.2 in /home/ke.na/.conda/envs/pytorch/lib/python3.7/site-packages (from packaging>=20.0->spacy<3.2.0,>=3.1.0->en-core-web-md==3.1.0) (2.4.7)\n",
      "Requirement already satisfied: six in /home/ke.na/.local/lib/python3.7/site-packages (from packaging>=20.0->spacy<3.2.0,>=3.1.0->en-core-web-md==3.1.0) (1.15.0)\n",
      "Requirement already satisfied: click<9.0.0,>=7.1.1 in /home/ke.na/.conda/envs/pytorch/lib/python3.7/site-packages (from typer<0.5.0,>=0.3.0->spacy<3.2.0,>=3.1.0->en-core-web-md==3.1.0) (7.1.2)\n",
      "Requirement already satisfied: smart-open<6.0.0,>=5.0.0 in /home/ke.na/.conda/envs/pytorch/lib/python3.7/site-packages (from pathy>=0.3.5->spacy<3.2.0,>=3.1.0->en-core-web-md==3.1.0) (5.1.0)\n",
      "Requirement already satisfied: zipp>=0.5; python_version < \"3.8\" in /home/ke.na/.conda/envs/pytorch/lib/python3.7/site-packages (from catalogue<2.1.0,>=2.0.6->spacy<3.2.0,>=3.1.0->en-core-web-md==3.1.0) (3.4.0)\n",
      "Requirement already satisfied: urllib3!=1.25.0,!=1.25.1,<1.26,>=1.21.1 in /home/ke.na/.conda/envs/pytorch/lib/python3.7/site-packages (from requests<3.0.0,>=2.13.0->spacy<3.2.0,>=3.1.0->en-core-web-md==3.1.0) (1.25.11)\n",
      "Requirement already satisfied: idna<3,>=2.5 in /home/ke.na/.conda/envs/pytorch/lib/python3.7/site-packages (from requests<3.0.0,>=2.13.0->spacy<3.2.0,>=3.1.0->en-core-web-md==3.1.0) (2.10)\n",
      "Requirement already satisfied: certifi>=2017.4.17 in /home/ke.na/.conda/envs/pytorch/lib/python3.7/site-packages (from requests<3.0.0,>=2.13.0->spacy<3.2.0,>=3.1.0->en-core-web-md==3.1.0) (2020.6.20)\n",
      "Requirement already satisfied: chardet<4,>=3.0.2 in /home/ke.na/.conda/envs/pytorch/lib/python3.7/site-packages (from requests<3.0.0,>=2.13.0->spacy<3.2.0,>=3.1.0->en-core-web-md==3.1.0) (3.0.4)\n",
      "Requirement already satisfied: MarkupSafe>=0.23 in /home/ke.na/.conda/envs/pytorch/lib/python3.7/site-packages (from jinja2->spacy<3.2.0,>=3.1.0->en-core-web-md==3.1.0) (1.1.1)\n",
      "Installing collected packages: en-core-web-md\n",
      "Successfully installed en-core-web-md-3.1.0\n",
      "\u001b[38;5;2m✔ Download and installation successful\u001b[0m\n",
      "You can now load the package via spacy.load('en_core_web_md')\n"
     ]
    }
   ],
   "source": [
    "! python -m spacy download en_core_web_md"
   ]
  },
  {
   "cell_type": "code",
   "execution_count": 8,
   "metadata": {
    "scrolled": true
   },
   "outputs": [
    {
     "name": "stdout",
     "output_type": "stream",
     "text": [
      "Collecting neuralcoref\n",
      "  Downloading neuralcoref-4.0-cp37-cp37m-manylinux1_x86_64.whl (286 kB)\n",
      "\u001b[K     |████████████████████████████████| 286 kB 4.8 MB/s eta 0:00:01\n",
      "\u001b[?25hRequirement already satisfied: requests<3.0.0,>=2.13.0 in /home/ke.na/.conda/envs/pytorch/lib/python3.7/site-packages (from neuralcoref) (2.24.0)\n",
      "Requirement already satisfied: boto3 in /home/ke.na/.conda/envs/pytorch/lib/python3.7/site-packages (from neuralcoref) (1.17.49)\n",
      "Requirement already satisfied: spacy>=2.1.0 in /home/ke.na/.conda/envs/pytorch/lib/python3.7/site-packages (from neuralcoref) (3.1.3)\n",
      "Requirement already satisfied: numpy>=1.15.0 in /home/ke.na/.local/lib/python3.7/site-packages (from neuralcoref) (1.19.5)\n",
      "Requirement already satisfied: urllib3!=1.25.0,!=1.25.1,<1.26,>=1.21.1 in /home/ke.na/.conda/envs/pytorch/lib/python3.7/site-packages (from requests<3.0.0,>=2.13.0->neuralcoref) (1.25.11)\n",
      "Requirement already satisfied: certifi>=2017.4.17 in /home/ke.na/.conda/envs/pytorch/lib/python3.7/site-packages (from requests<3.0.0,>=2.13.0->neuralcoref) (2020.6.20)\n",
      "Requirement already satisfied: idna<3,>=2.5 in /home/ke.na/.conda/envs/pytorch/lib/python3.7/site-packages (from requests<3.0.0,>=2.13.0->neuralcoref) (2.10)\n",
      "Requirement already satisfied: chardet<4,>=3.0.2 in /home/ke.na/.conda/envs/pytorch/lib/python3.7/site-packages (from requests<3.0.0,>=2.13.0->neuralcoref) (3.0.4)\n",
      "Requirement already satisfied: botocore<1.21.0,>=1.20.49 in /home/ke.na/.conda/envs/pytorch/lib/python3.7/site-packages (from boto3->neuralcoref) (1.20.49)\n",
      "Requirement already satisfied: jmespath<1.0.0,>=0.7.1 in /home/ke.na/.conda/envs/pytorch/lib/python3.7/site-packages (from boto3->neuralcoref) (0.10.0)\n",
      "Requirement already satisfied: s3transfer<0.4.0,>=0.3.0 in /home/ke.na/.conda/envs/pytorch/lib/python3.7/site-packages (from boto3->neuralcoref) (0.3.6)\n",
      "Requirement already satisfied: cymem<2.1.0,>=2.0.2 in /home/ke.na/.conda/envs/pytorch/lib/python3.7/site-packages (from spacy>=2.1.0->neuralcoref) (2.0.6)\n",
      "Requirement already satisfied: wasabi<1.1.0,>=0.8.1 in /home/ke.na/.conda/envs/pytorch/lib/python3.7/site-packages (from spacy>=2.1.0->neuralcoref) (0.8.2)\n",
      "Requirement already satisfied: jinja2 in /home/ke.na/.conda/envs/pytorch/lib/python3.7/site-packages (from spacy>=2.1.0->neuralcoref) (2.11.2)\n",
      "Requirement already satisfied: catalogue<2.1.0,>=2.0.6 in /home/ke.na/.conda/envs/pytorch/lib/python3.7/site-packages (from spacy>=2.1.0->neuralcoref) (2.0.6)\n",
      "Requirement already satisfied: typing-extensions<4.0.0.0,>=3.7.4; python_version < \"3.8\" in /home/ke.na/.local/lib/python3.7/site-packages (from spacy>=2.1.0->neuralcoref) (3.7.4.3)\n",
      "Requirement already satisfied: pydantic!=1.8,!=1.8.1,<1.9.0,>=1.7.4 in /home/ke.na/.conda/envs/pytorch/lib/python3.7/site-packages (from spacy>=2.1.0->neuralcoref) (1.8.2)\n",
      "Requirement already satisfied: typer<0.5.0,>=0.3.0 in /home/ke.na/.conda/envs/pytorch/lib/python3.7/site-packages (from spacy>=2.1.0->neuralcoref) (0.4.0)\n",
      "Requirement already satisfied: setuptools in /home/ke.na/.conda/envs/pytorch/lib/python3.7/site-packages (from spacy>=2.1.0->neuralcoref) (50.3.1.post20201107)\n",
      "Requirement already satisfied: srsly<3.0.0,>=2.4.1 in /home/ke.na/.conda/envs/pytorch/lib/python3.7/site-packages (from spacy>=2.1.0->neuralcoref) (2.4.2)\n",
      "Requirement already satisfied: pathy>=0.3.5 in /home/ke.na/.conda/envs/pytorch/lib/python3.7/site-packages (from spacy>=2.1.0->neuralcoref) (0.6.0)\n",
      "Requirement already satisfied: blis<0.8.0,>=0.4.0 in /home/ke.na/.conda/envs/pytorch/lib/python3.7/site-packages (from spacy>=2.1.0->neuralcoref) (0.7.5)\n",
      "Requirement already satisfied: packaging>=20.0 in /home/ke.na/.conda/envs/pytorch/lib/python3.7/site-packages (from spacy>=2.1.0->neuralcoref) (20.4)\n",
      "Requirement already satisfied: tqdm<5.0.0,>=4.38.0 in /home/ke.na/.conda/envs/pytorch/lib/python3.7/site-packages (from spacy>=2.1.0->neuralcoref) (4.50.2)\n",
      "Requirement already satisfied: murmurhash<1.1.0,>=0.28.0 in /home/ke.na/.conda/envs/pytorch/lib/python3.7/site-packages (from spacy>=2.1.0->neuralcoref) (1.0.6)\n",
      "Requirement already satisfied: thinc<8.1.0,>=8.0.9 in /home/ke.na/.conda/envs/pytorch/lib/python3.7/site-packages (from spacy>=2.1.0->neuralcoref) (8.0.11)\n",
      "Requirement already satisfied: preshed<3.1.0,>=3.0.2 in /home/ke.na/.conda/envs/pytorch/lib/python3.7/site-packages (from spacy>=2.1.0->neuralcoref) (3.0.6)\n",
      "Requirement already satisfied: spacy-legacy<3.1.0,>=3.0.8 in /home/ke.na/.conda/envs/pytorch/lib/python3.7/site-packages (from spacy>=2.1.0->neuralcoref) (3.0.8)\n",
      "Requirement already satisfied: python-dateutil<3.0.0,>=2.1 in /home/ke.na/.conda/envs/pytorch/lib/python3.7/site-packages (from botocore<1.21.0,>=1.20.49->boto3->neuralcoref) (2.8.1)\n",
      "Requirement already satisfied: MarkupSafe>=0.23 in /home/ke.na/.conda/envs/pytorch/lib/python3.7/site-packages (from jinja2->spacy>=2.1.0->neuralcoref) (1.1.1)\n",
      "Requirement already satisfied: zipp>=0.5; python_version < \"3.8\" in /home/ke.na/.conda/envs/pytorch/lib/python3.7/site-packages (from catalogue<2.1.0,>=2.0.6->spacy>=2.1.0->neuralcoref) (3.4.0)\n",
      "Requirement already satisfied: click<9.0.0,>=7.1.1 in /home/ke.na/.conda/envs/pytorch/lib/python3.7/site-packages (from typer<0.5.0,>=0.3.0->spacy>=2.1.0->neuralcoref) (7.1.2)\n",
      "Requirement already satisfied: smart-open<6.0.0,>=5.0.0 in /home/ke.na/.conda/envs/pytorch/lib/python3.7/site-packages (from pathy>=0.3.5->spacy>=2.1.0->neuralcoref) (5.1.0)\n",
      "Requirement already satisfied: six in /home/ke.na/.local/lib/python3.7/site-packages (from packaging>=20.0->spacy>=2.1.0->neuralcoref) (1.15.0)\n",
      "Requirement already satisfied: pyparsing>=2.0.2 in /home/ke.na/.conda/envs/pytorch/lib/python3.7/site-packages (from packaging>=20.0->spacy>=2.1.0->neuralcoref) (2.4.7)\n",
      "Installing collected packages: neuralcoref\n",
      "Successfully installed neuralcoref-4.0\n"
     ]
    }
   ],
   "source": [
    "! pip install neuralcoref"
   ]
  },
  {
   "cell_type": "code",
   "execution_count": 9,
   "metadata": {},
   "outputs": [
    {
     "data": {
      "application/vnd.jupyter.widget-view+json": {
       "model_id": "e076858b749b4886b0666946d3f38342",
       "version_major": 2,
       "version_minor": 0
      },
      "text/plain": [
       "HBox(children=(HTML(value='Downloading'), FloatProgress(value=0.0, max=571.0), HTML(value='')))"
      ]
     },
     "metadata": {},
     "output_type": "display_data"
    },
    {
     "name": "stdout",
     "output_type": "stream",
     "text": [
      "\n"
     ]
    },
    {
     "data": {
      "application/vnd.jupyter.widget-view+json": {
       "model_id": "b1952853e6204da6ae07cbbd38ee5fb6",
       "version_major": 2,
       "version_minor": 0
      },
      "text/plain": [
       "HBox(children=(HTML(value='Downloading'), FloatProgress(value=0.0, max=1344997306.0), HTML(value='')))"
      ]
     },
     "metadata": {},
     "output_type": "display_data"
    },
    {
     "name": "stdout",
     "output_type": "stream",
     "text": [
      "\n"
     ]
    },
    {
     "data": {
      "application/vnd.jupyter.widget-view+json": {
       "model_id": "e05c0ea62eda45088762b37ba1ab4923",
       "version_major": 2,
       "version_minor": 0
      },
      "text/plain": [
       "HBox(children=(HTML(value='Downloading'), FloatProgress(value=0.0, max=231508.0), HTML(value='')))"
      ]
     },
     "metadata": {},
     "output_type": "display_data"
    },
    {
     "name": "stdout",
     "output_type": "stream",
     "text": [
      "\n"
     ]
    },
    {
     "data": {
      "application/vnd.jupyter.widget-view+json": {
       "model_id": "cb2f970357f04fc9a2cb5c4d4a79f2e2",
       "version_major": 2,
       "version_minor": 0
      },
      "text/plain": [
       "HBox(children=(HTML(value='Downloading'), FloatProgress(value=0.0, max=28.0), HTML(value='')))"
      ]
     },
     "metadata": {},
     "output_type": "display_data"
    },
    {
     "name": "stdout",
     "output_type": "stream",
     "text": [
      "\n"
     ]
    },
    {
     "data": {
      "application/vnd.jupyter.widget-view+json": {
       "model_id": "117b16367d844db3b8825f2e2fe35b5f",
       "version_major": 2,
       "version_minor": 0
      },
      "text/plain": [
       "HBox(children=(HTML(value='Downloading'), FloatProgress(value=0.0, max=466062.0), HTML(value='')))"
      ]
     },
     "metadata": {},
     "output_type": "display_data"
    },
    {
     "name": "stdout",
     "output_type": "stream",
     "text": [
      "\n",
      "THE IMPORTANCE OF THE PEASANT PROBLEM\n",
      "During my recent visit to Hunan  I made a first-hand investigation of conditions in the five counties of Hsiangtan, Hsianghsiang, Hengshan, Liling and Changsha. For the present upsurge of the peasant movement is a colossal event. In this period, January to June was a time of underground activity, and July to September, when the revolutionary army was driving out Chao Heng-ti,  one of open activity. The second period, from last October to January of this year, was one of revolutionary action. As a result, the privileges which the feudal landlords enjoyed for thousands of years are being shattered to pieces. The local tyrants, evil gentry and lawless landlords have been deprived of all right to speak, and none of them dares even mutter dissent. Please let me join the peasant association,\" one of the smaller of the evil gentry will say. In some places the peasants now use this method to scare those who formerly opposed the associations. But more often than not they are turned down flat, and so they are always on tenderhooks; with the doors of the association barred to them, they are like tramps without a home or, in rural parlance, \"mere trash\". In short, what was looked down upon four months ago as a \"gang of peasants\" has now become a most honourable institution. When the news from the countryside reached the cities, it caused immediate uproar among the gentry. Soon after my arrival in Changsha, I met all sorts of people and picked up a good deal of gossip. Even quite progressive people said, \"Though terrible, it is inevitable in a revolution.\" This is a marvelous feat never before achieved, not just in forty, but in thousands of years. If your revolutionary viewpoint is firmly established and if you have been to the villages and looked around, you will undoubtedly feel thrilled as never before. Countless thousands of the enslaved--the peasants--are striking down the enemies who battened on their flesh. The Revolution of 1911  did not bring about this change, hence its failure. This change is now taking place, and it is an important factor for the completion of the revolution. True, the peasants are in a sense \"unruly\" in the countryside. The peasants threaten, \"We will put you in the other register!\" They fine the local tyrants and evil gentry, they demand contributions from them, and they smash their sedan-chairs. People swarm into the houses of local tyrants and evil gentry who are against the peasant association, slaughter their pigs and consume their grain. They even loll for a minute or two on the ivory-inlaid beds belonging to the young ladies in the households of the local tyrants and evil gentry. This is what some people call \"going too far\", or \"exceeding the proper limits in righting a wrong\", or \"really too much\". Secondly, a revolution is not a dinner party, or writing an essay, or painting a picture, or doing embroidery; it cannot be so refined, so leisurely and gentle, so temperate, kind, courteous, restrained and magnanimous. A revolution is an insurrection, an act of violence by which one class overthrows another. Without using the greatest force, the peasants cannot possibly overthrow the deep-rooted authority of the landlords which has lasted for thousands of years. Proper limits have to be exceeded in order to right a wrong, or else the wrong cannot be righted. Those who talk about the peasants \"going too far\" seem at first sight to be different from those who say \"It's terrible!\" as mentioned earlier, but in essence they proceed from the same standpoint and likewise voice a landlord theory that upholds the interests of the privileged classes. This opinion comes to the same thing as what the right-wingers are saying; according to both it is all right to have a peasant movement (the movement is already in being and no one dare say otherwise), but they say that the people running it are no good and they particularly hate those in charge of the associations at the lower levels, calling them \"riffraff\". They have not only lifted up their heads but taken power into their hands. riffraff\" and \"vanguards of the revolution\"--here are apt examples. There are three kinds of peasants, the rich, the middle and the poor peasants. A tolerably well-behaved one would say, \"Peasant association? I never heard of such a thing before, yet I've managed to live all right. A really vicious rich peasant would say, \"Peasant association! wondered the rich peasants, greatly perplexed and alarmed, \"'Long live the peasants!' They have rice cooking in their pots and no creditors knocking on their doors at midnight. They, too, judging a thing by whether it ever existed before, knit their brows and think to themselves, \"Can the peasant association really last?\" \" They have fought militantly through the two periods of underground work and of open activity. You people have neither a tile over your heads nor a speck of land under your feet!\" Many of them really have \"neither a tile over their heads nor a speck of land under their feet\". What, indeed, is there to keep them from joining the associations? Without the poor peasant class (the \"riffraff\", as the gentry call them), it would have been impossible to bring about the present revolutionary situation in the countryside, or to overthrow the local tyrants and evil gentry and complete the democratic revolution. A good many chairmen and committee members of township associations in Hengshan and Hsianghsiang Counties have been thrown in jail. In counties like Hsiangtan, Hsianghsiang and Hengshan, nearly all the peasants are organized and there is hardly a remote corner where they are not on the move; these are the best places. Without victory in this struggle, no victory is possible in the economic struggle to reduce rent and interest, to secure land and other means of production, and so on. In such places it is still too early to say that the peasants have gained political victory; they must wage the political struggle more vigorously until the landlords' authority is completely smashed. Now the peasants are using the checking of accounts as an occasion to bring down a great many of the local tyrants and evil gentry. In many places committees for checking accounts have been established for the express purpose of settling financial scores with them, and the first sign of such a committee makes them shudder. Campaigns of this kind have been carried out in all the counties where the peasant movement is active; they are important not so much for recovering money as for publicizing the crimes of the local tyrants and evil gentry and for knocking them down from their political and social positions. Though milder than fines, these contributions are also a form of punishment. He is usually let off after writing a pledge to \"cease and desist\", n which he explicitly undertakes to stop defaming the peasant association in the future. \"Crowning\" the landlords and parading them through the villages. He is led by a rope and escorted with big crowds in front and behind. Sometimes brass gongs are beaten and flags waved to attract people's attention. They argued that if he were crowned right away, he would become case-hardened and no longer afraid, and that it would be better to let him go home and crown him some other day. Formerly it was the gentry who sent peasants to be locked up, now it is the other way round. Among them, the top ones have fled to Shanghai, those of the second rank to Hankow, those of the third to Changsha, and of the fourth to the county towns. Those who have taken refuge in the county towns are only of the fourth rank, and the peasantry, having many eyes and ears, can easily track them down. The financial authorities once explained the difficulties encountered by the Hunan Provincial Government in raising money by the fact that the peasants were banishing the well-to-do, which gives some idea of the extent to which the local tyrants and evil gentry are not tolerated in their home villages. Since last October the poor peasants have prevented the outflow of the grain of the landlords and rich peasants and have banned the forcing up of grain prices and hoarding and cornering. Prohibition on increasing rents and deposits;  agitation for reduced rents and deposits. As for the reduction of deposits, this is already under way in Hengshan and other counties. Interest has been generally reduced in Anhua, and there have been reductions in other counties, too. What is currently called reduction of interest is confined to old loans. In the southern and central parts where the peasant movement is well developed, the landlord class cannot hold its own because of the tremendous momentum with which the peasants have risen, and its armed forces have largely capitulated to the peasant associations and taken the side of the peasants; examples of this are to be found in such counties as Ninghsiang, Pingkiang, Liuyang, Changsha, Liling, Hsiangtan, Hsianghsiang, Anhua, Hengshan and Hengyang. In a county where the peasants have risen there is dean government, whoever the magistrate. In the counties I visited, the magistrates had to consult the peasant associations on everything in advance. When the power of the peasants was just beginning to make itself felt in the countryside, the magistrate worked in league with the local tyrants and evil gentry against the peasants. The remark that the word of the peasant association \"works miracles\" applies only when the power of the landlords has been completely beaten down by that of the peasants. At present the political situation in such counties as Hsianghsiang, Hsiangtan, Liling and Hengshan is as follows:\n",
      "\n",
      "(1) All decisions are made by a joint council consisting of the magistrate and the representatives of the revolutionary mass organizations. (2) The judicial assistant teas scarcely any cases to handle. What is more, the peasants' problems, big and small, are now all settled in the peasant associations at the various levels. So it is that the purses of the magistrates and their underlings perforce remain empty. As for women, in addition to being dominated by these three systems of authority, they are also dominated by the men (the authority of the husband). With that overturned, the clan authority, the religious authority and the authority of the husband all begin to totter. The worst clan elders and administrators, being local tyrants, have been thrown out. Everywhere religious authority totters as the peasant movement develops. In Liling County, prohibiting superstitious practices and smashing idols have become quite the vogue. At the present time, however, the peasants are concentrating on destroying the landlords' political authority. Wherever it has been wholly destroyed, they are beginning to press their attack in the three other spheres of the clan, the gods and male domination. But such attacks have only just begun, and there can be no thorough overthrow of all three until the peasants have won complete victory in the economic struggle. The local tyrants and evil gentry jeer at your peasant association and say, 'How odd! When somebody who looks like one of the gentry encounters a peasant and stands on his dignity, refusing to make way along a pathway, the peasant will say angrily, \"Hey, you local tyrant, don't you know the Three People's Principles?\" Now they have found a weapon, which is none other than the Three People's Principles. A great deal of the opium transported from Kweichow to Kiangsi via the counties of Paoching, Hsianghsiang, Yuhsien and Liling has been intercepted on the way and burned. Distilling is not banned in Futienpu, Hengshan County, but prices are fixed very low, and the wine and spirits dealers, seeing no prospect of profit, have had to stop it. The number of pigs a family can keep is limited, for pigs consume grain. In Hsianghsiang County the raising of chickens and ducks is prohibited, but the women object. It is also forbidden to serve bamboo shoots, kelp and lentil noodles. Since the rise of the peasant associations their jurisdiction has extended even to the cattle, and they have prohibited the slaughter of cattle in the towns. Of the six butcheries in the county town of Hsiangtan, five are now closed and the remaining one slaughters only enfeebled or disabled animals. Resolutions have been passed prohibiting the wasteful customs associated with New Year calls and gifts. Religious rites for the dead are prohibited in the 7th and 20th Districts. In the 18th District, it is forbidden to make funeral gifts of money. Things like these, which defy enumeration, may be generally called peasant bans and prohibitions. As for the ban on sending grain out of the area, it is imposed to prevent the price from rising because the poor peasants have not enough to feed themselves and have to buy grain on the market. The reason for all this is the peasants' poverty and the contradictions between town and country; it is not a matter of their rejecting manufactured goods or trade between town and country in order to uphold the so-called Doctrine of Oriental Culture. To protect themselves economically, the peasants must organize consumers' co-operatives for the collective buying of goods. It is also necessary for the government to help the peasant associations establish credit (loan) co-operatives. Wherever the peasant associations are powerful there is not a trace of banditry. On this point, even the well-to-do approve of the peasant associations. Well, to be fair, there is also something to be said for them.\" See how the peasants who hitherto detested the schools are today zealously setting up evening classes! Some have already been opened, others are being organized, and on the average there is one school per township. The development of the peasant movement has resulted in a rapid rise in their cultural level. Before long tens of thousands of schools will have sprung up in the villages throughout the province; this is quite different from the empty talk about \"universal education\", which the intelligentsia and the so-called \"educationalists\" have been bandying back and forth and which after all this time remains an empty phrase. When the landlords deliberately stopped lending, there were many attempts by the peasants to organize credit agencies, because they needed to borrow money. If you won't do the repairs, you will contribute grain, a tou for each work-day.\" Would the reader please think it over and say whether any of them is bad in its fundamental spirit and revolutionary significance? But where would the national revolution be without this bit of Red? They think that the task of the Red Army like that of the White army, is merely to fight. Without these objectives, fighting loses its meaning and the Red Army loses the reason for its existence. As a result, both propaganda and organizational work are abandoned. From the two preceding causes there arises a third, overconfidence in military strength and absence of confidence in the strength of the masses of the people. 4 The Party's failure actively to attend to and discuss military work is also a reason for the emergence of the purely military viewpoint among a number of comrades. At the same time, as far as possible let the local governments select workers and peasants experienced in struggle to join the Red Army, thus organizationally weakening or even eradicating the purely military viewpoint. All the work must be discussed and decided upon by the Party before being carried out by the rank and file. Witness the various expressions of reluctance to carry out Party decisions. When this characteristic is brought into the Party, it develops into ultra-democratic ideas politically and organizationally. In the sphere of organization, ensure democracy under centralized guidance. ON THE DISREGARD OF ORGANIZATIONAL DISCIPLINE\n",
      "Disregard of organizational discipline in the Party organization in the Fourth Army manifests itself as follows:\n",
      "\n",
      "A. Failure of the minority to submit to the majority. One requirement of Party discipline is that the minority should submit to the majority. B. Criticism made without regard to organizational discipline:\n",
      "\n",
      "1. Inner-Party criticism is a weapon for strengthening the Party organization and increasing its fighting capacity. Many Party members make their criticisms not inside, but outside, the Party. The method of correction is to educate Party members so that they understand the importance of Party organization and make their criticisms of Party committees or comrades at Party meetings. Equality was demanded in the allotment of billets, and the Headquarters would be abused for occupying larger rooms. Equality was demanded in the assignment of fatigue duties, and there was unwillingness to do a little more than the next man. But absolute equalitarianism beyond reason must be opposed because it is not required by the struggle; on the contrary, it hinders the struggle. As for subjective criticism, loose and groundless talk or suspiciousness, such practices inside the Party often breed unprincipled disputes and undermine the Party organization. Moreover, once such criticism develops, there is the great danger that the Party members will concentrate entirely on minor faults, and everyone will become timid and overcautious and forget the Party's political tasks. Some comrades, after being criticized inside the Party by a soldier comrade, look for opportunities to retaliate outside the Party, and one way is to beat or abuse the comrade in question. It is a corrosive which weakens the organization and its fighting capacity. Some comrades consider only the interests of their own small group and ignore the general interest. Next, it is to conduct affairs, make assignments and enforce discipline in a proper way. 2) In expanding the Red Army, some people follow the line of \"hiring men and buying horses\" and \"recruiting deserters and accepting mutineers\",  rather than the line of expanding the local Red Guards and the local troops and thus developing the main forces of the Red Army. ( All these manifestations of the ideology of roving rebels seriously hamper the Red Army in performing its proper tasks; consequently its eradication is an important objective in the ideological struggle within the Red Army Party organization. Intensify education, criticize incorrect ideas, and eradicate the ideology of roving rebel bands. Therefore, remnants of this ideology still exist in the Red Army. If we attend to these problems, solve them and satisfy the needs of the masses, we shall really become organizers of the well-being of the masses, and they will truly rally round us and give us their warm support. Comrades, will we then be able to arouse them to take part in the revolutionary war? They talk only about expanding the Red Army, enlarging the transport corps, collecting the land tax and selling bonds; as for other matters, they neither discuss nor attend to them, and even ignore them altogether. For instance, there was a time when the Tingchow Municipal Government concerned itself only with the expansion of the Red Army and with mobilization for the transport corps and paid not the slightest attention to the well-being of the masses. The result was that very little was achieved in regard to the expansion of the Red Army and mobilization for the transport corps. You have probably read the pamphlets given you about two model townships. In another instance, three persons were starving, so the township government and the mutual-aid society immediately gave them rice. Excellent work was done along these lines in Tsaihsi as well. The wooden bridge over there is too narrow and people may fall off. The masses in Changkang say, \"The Communist Party is really good! If our task is to cross a river, we cannot cross it without a bridge or a boat. The comrades in Hsingkuo have done first-rate work and deserve our praise as model workers. A temporary compromise today engenders a bigger war tomorrow. According to the directives of the Communist International and the Central Committee of our Party, the content of China's democratic revolution consists in overthrowing the rule of imperialism and its warlord tools in China so as to complete the national revolution, and in carrying out the agrarian revolution so as to eliminate the feudal exploitation of the peasants by the landlord class. Such a revolutionary movement has been growing day by day since the Tsinan Massacre  in May 1928\n",
      "\n",
      "II. In difficult or critical times some comrades often have doubts about the survival of Red political power and become pessimistic The reason is that they have not found the correct explanation for its emergence and survival. As for the present Red Army, it is a split-off from the National Revolutionary Army which underwent democratic political training and came under the influence of the masses of workers and peasants. If the nation-wide revolutionary situation does not continue to develop but stagnates for a fairly long time, then it will be impossible for the small Red areas to last long. Actually, the revolutionary situation in China is continuing to develop with the continuous splits and wars within the ranks of the comprador and landlord classes and of the international bourgeoisie. In areas where all the necessary conditions for its establishment and persistence are not fulfilled, Red political power is in danger of being overthrown by the enemy. The Red Army has to fight the enemy and to provision itself at one and the same time. Secondly, one will understand the gravity of the peasant problem and hence why rural uprisings have developed on the present country-wide scale. Here we can apply the old Chinese saying, \"A single spark can start a prairie fire.\" In the initial period of our independent regime in the Hunan-Kiangsi border area, some comrades genuinely believed the incorrect appraisal made by the Hunan Provincial Committee and regarded the class enemy as not worth a rap; the two descriptive terms, \"terribly shaky\" and \"extremely panicky\", which are standing jokes to this day, were used by the Hunan Provincial Committee at the time (from May to June 1928) in appraising the Hunan ruler Lu Ti-ping. But during the four months from November of that year to February 1929 (before the war between Chiang Kai-shek and the Kwangsi warlords),  when the enemy's third \"joint suppression expedition\"  was approaching the Chingkang Mountains, some comrades asked the question, \"How long can we keep the Red Flag flying?\" Yet pessimistic ideas were to be found not only in the Red Army and local Party organizations, even the Central Committee was misled by appearances and adopted a pessimistic tone. The objective situation today is still such that comrades who see only the superficial appearance and not the essence of what is before them are liable to be misled. The reason they seize on the appearance and brush aside the essence in their observation of things is that they have not made a scientific analysis of the essence of the overall situation. The saying, \"A single spark can start a prairie fire\", is an apt description of how the current situation will develop. The political line and the organizational line laid down by the Party's Sixth National Congress  are correct, i.e., the revolution at the present stage is democratic and not socialist, and the present task of the Party [here the words \"in the big cities\" should have been added]  is to win over the masses and not to stage immediate insurrections. In the present chaotic situation we can lead the masses only by positive slogans and a positive attitude. But are there not times when our forces should be divided up? With our tactics, the masses can be aroused for struggle on an ever-broadening scale, and no enemy, however powerful, can cope with us. These tactics are just like casting a net; at any moment we should be able to cast it or draw it in. We cast it wide to win over the masses and draw it in to deal with the enemy. Yet the bad effect which this letter had on some comrades persists. As for how our work should be arranged under these circumstances, we feel that, so far as the southern provinces are concerned, the armed forces of the compradors and landlords in Kwangtung and Hunan Provinces are too strong, and that in Hunan, more over, we have lost almost all our mass following, inside as well as outside the Party, because of the Party's putschist mistakes. Secondly, Kiangsi has no provincial troops of its own and has always been garrisoned by troops from other provinces. This is a question of the first importance for the revolution. A revolutionary party is the guide of the masses, and no revolution ever succeeds when the revolutionary party leads them astray. This class represents the capitalist relations of production in China in town and country. The first section consists of those who have some surplus money or grain, that is, those who, by manual or mental labour, earn more each year than they consume for their own support. The second section consists of those who in the main are economically self-supporting. They feel they cannot earn enough to live on by just putting in as much work as before. They become rather abusive, denouncing the foreigners as \"foreign devils\", the warlords as \"robber generals\" and the local tyrants and evil gentry as \"the heartless rich\". In late spring and early summer when the crop is still in the blade and the old stock is consumed, they borrow at exorbitant rates of interest and buy grain at high prices; their plight is naturally harder than that of the owner-peasants' who need no help from others, but they are better off than the poor' peasants. They may again be divided into two categories according to their economic status. One category has comparatively adequate farm implements and some funds. Thus their life is harder than that of the semi-owner peasants, but they are better off than the other category of poor peasants. Their status is roughly the same as that of the poor peasants, and like the poor peasants they need a revolution to change the existing state of affairs. They have been deprived of all means of production, have nothing left but their hands, have no hope of ever becoming rich and, moreover, are subjected to the most ruthless treatment by the imperialists, the warlords and the bourgeoisie. The coolies in the cities are also a force meriting attention. Having neither land, farm implements nor funds, they can live only by selling their labour power. Brave fighters but apt to be destructive, they can become a revolutionary force if given proper guidance.\n"
     ]
    }
   ],
   "source": [
    "from summarizer import Summarizer\n",
    "model = Summarizer()\n",
    "result = model(text, min_length=60)\n",
    "full = ''.join(result)\n",
    "print(full)"
   ]
  },
  {
   "cell_type": "markdown",
   "metadata": {},
   "source": [
    "## compare with our implementation"
   ]
  },
  {
   "cell_type": "code",
   "execution_count": 10,
   "metadata": {},
   "outputs": [
    {
     "data": {
      "text/plain": [
       "array([[-0.5586639 ,  0.49654362,  0.35135013, ...,  0.3961791 ,\n",
       "        -0.56102544, -0.5014237 ],\n",
       "       [-0.63877565,  0.6591971 ,  0.45411998, ...,  0.33426017,\n",
       "         0.68030334, -0.4105224 ],\n",
       "       [-0.493588  ,  0.26483166, -0.4166434 , ...,  0.8245905 ,\n",
       "        -0.5539282 ,  0.3224848 ],\n",
       "       ...,\n",
       "       [ 0.00753561,  0.44634074,  0.22721678, ..., -1.176723  ,\n",
       "        -0.72373253,  0.00716608],\n",
       "       [-0.54278463,  0.69175357,  0.673795  , ...,  0.3588523 ,\n",
       "        -0.40322772,  0.49645212],\n",
       "       [-0.42364797,  0.17863412,  1.2064114 , ..., -0.09976815,\n",
       "        -1.39035   ,  0.6415326 ]], dtype=float32)"
      ]
     },
     "execution_count": 10,
     "metadata": {},
     "output_type": "execute_result"
    }
   ],
   "source": [
    "## get embedding \n",
    "\n",
    "from sentence_transformers import SentenceTransformer\n",
    "model = SentenceTransformer('bert-base-nli-mean-tokens')\n",
    "\n",
    "sentence_embeddings = model.encode(sentences)\n",
    "\n",
    "sentence_embeddings"
   ]
  },
  {
   "cell_type": "code",
   "execution_count": 11,
   "metadata": {},
   "outputs": [],
   "source": [
    "from sklearn.preprocessing import normalize\n",
    "# normalize the data help k-means get better performance\n",
    "norm_data = normalize(sentence_embeddings, norm='l2')"
   ]
  },
  {
   "cell_type": "code",
   "execution_count": 12,
   "metadata": {},
   "outputs": [
    {
     "data": {
      "image/png": "[encoded data removed]",
      "text/plain": [
       "<Figure size 432x288 with 1 Axes>"
      ]
     },
     "metadata": {
      "needs_background": "light"
     },
     "output_type": "display_data"
    },
    {
     "data": {
      "image/png": "[encoded data removed]",
      "text/plain": [
       "<Figure size 432x288 with 1 Axes>"
      ]
     },
     "metadata": {
      "needs_background": "light"
     },
     "output_type": "display_data"
    },
    {
     "data": {
      "image/png": "[encoded data removed]",
      "text/plain": [
       "<Figure size 432x288 with 1 Axes>"
      ]
     },
     "metadata": {
      "needs_background": "light"
     },
     "output_type": "display_data"
    },
    {
     "data": {
      "image/png": "[encoded data removed]",
      "text/plain": [
       "<Figure size 432x288 with 1 Axes>"
      ]
     },
     "metadata": {
      "needs_background": "light"
     },
     "output_type": "display_data"
    }
   ],
   "source": [
    "from gap_statistic import OptimalK\n",
    "import numpy as np\n",
    "optimalK = OptimalK(n_jobs=4, parallel_backend='joblib')\n",
    "\n",
    "# limit to 1~15 cluster\n",
    "n_clusters = optimalK(norm_data, cluster_array=np.arange(1, 15))\n",
    "optimalK.plot_results()"
   ]
  },
  {
   "cell_type": "code",
   "execution_count": 13,
   "metadata": {},
   "outputs": [
    {
     "data": {
      "text/plain": [
       "array([8, 5, 1, ..., 8, 1, 0], dtype=int32)"
      ]
     },
     "execution_count": 13,
     "metadata": {},
     "output_type": "execute_result"
    }
   ],
   "source": [
    "# using the best K = 13 for k-means\n",
    "from sklearn.cluster import KMeans\n",
    "km = KMeans(\n",
    "    n_clusters=13, init='random',\n",
    "    n_init=10, max_iter=300, \n",
    "    tol=1e-04, random_state=0\n",
    ")\n",
    "y_km = km.fit_predict(norm_data)\n",
    "\n",
    "y_km"
   ]
  },
  {
   "cell_type": "code",
   "execution_count": 14,
   "metadata": {},
   "outputs": [],
   "source": [
    "## create a array that assign each sentence to its group\n",
    "groups = []\n",
    "\n",
    "for i in range (0, 13):\n",
    "    groups.append([])\n",
    "\n",
    "for idx, embed in enumerate(norm_data):\n",
    "    groups[y_km[idx] - 1].append(idx)"
   ]
  },
  {
   "cell_type": "code",
   "execution_count": 15,
   "metadata": {},
   "outputs": [],
   "source": [
    "def get_sum_distances(group):\n",
    "    \"\"\"input a group indicis of sentences, get a list of sum of cosine distance between\n",
    "    current sentence and other sentences in the text(score)\n",
    "    @param: a group of index, index of sentence\n",
    "    @return score(float)\n",
    "    \"\"\"\n",
    "    # construct data for group info\n",
    "    data = np.array([norm_data[i] for i in group])\n",
    "    # to store the result\n",
    "    res = []\n",
    "    \n",
    "    for idx, _ in enumerate(data):\n",
    "        # data has been normalized, cosine distanct can be calculated as np.dot()\n",
    "        scores = np.dot(data, data[idx].T)\n",
    "        res.append(np.sum(scores))\n",
    "    return res"
   ]
  },
  {
   "cell_type": "code",
   "execution_count": 16,
   "metadata": {},
   "outputs": [
    {
     "name": "stdout",
     "output_type": "stream",
     "text": [
      "Group:1: \n",
      "\n",
      "The small handicraftsmen are called semi-proletarians because, though they own some simple means of production and moreover are self-employed, they too are often forced to sell part of their labour power and are somewhat similar to the poor peasants in economic status.\n",
      "\n",
      "\n",
      "Group:2: \n",
      "\n",
      "In all the places under our leadership, there are undoubtedly many active cadres, excellent comrades, who have sprung from the masses.\n",
      "\n",
      "\n",
      "Group:3: \n",
      "\n",
      "B.\n",
      "\n",
      "\n",
      "Group:4: \n",
      "\n",
      "Former hardened gamblers are now themselves suppressing gambling; this abuse, too, has been swept away in places where the peasant association is powerful.\n",
      "\n",
      "\n",
      "Group:5: \n",
      "\n",
      "Yet, surprisingly enough, the peasant associations have now been established several months, and have even dared to stand up to the gentry.\n",
      "\n",
      "\n",
      "Group:6: \n",
      "\n",
      "This is mainly due to.\n",
      "\n",
      "\n",
      "Group:7: \n",
      "\n",
      "Now the peasants are using the checking of accounts as an occasion to bring down a great many of the local tyrants and evil gentry.\n",
      "\n",
      "\n",
      "Group:8: \n",
      "\n",
      "Secondly, one will understand the gravity of the peasant problem and hence why rural uprisings have developed on the present country-wide scale.\n",
      "\n",
      "\n",
      "Group:9: \n",
      "\n",
      "Our central task at present is to mobilize the broad masses to take part in the revolutionary war, overthrow imperialism and the Kuomintang by means of such war, spread the revolution throughout the country, and drive imperialism out of China Anyone who does not attach enough importance to this central task is not a good revolutionary cadre.\n",
      "\n",
      "\n",
      "Group:10: \n",
      "\n",
      "The problems facing the people of Tingchow city were that they had no firewood, no salt was on sale because the capitalists were hoarding it, some people had no houses to live in, and rice was both scarce and dear.\n",
      "\n",
      "\n",
      "Group:11: \n",
      "\n",
      "Under the impact of the views of the \"It's terrible!\"\n",
      "\n",
      "\n",
      "Group:12: \n",
      "\n",
      "They are working conscientiously, solving problems with minute care and shouldering their revolutionary responsibilities in earnest; they are good organizers and leaders both of revolutionary war and of the well-being of the masses.\n",
      "\n",
      "\n",
      "Group:13: \n",
      "\n",
      "But absolute equalitarianism beyond reason must be opposed because it is not required by the struggle; on the contrary, it hinders the struggle.\n",
      "\n",
      "\n"
     ]
    }
   ],
   "source": [
    "## pick up top score for each group\n",
    "\n",
    "for idx, group in enumerate(groups):\n",
    "    score_list = get_sum_distances(group)\n",
    "    max_idx = np.argmax(score_list)\n",
    "    print('Group:' + str(idx + 1) + ': \\n')\n",
    "    print(sentences[group[max_idx]])\n",
    "    print('\\n')"
   ]
  },
  {
   "cell_type": "code",
   "execution_count": 17,
   "metadata": {},
   "outputs": [
    {
     "name": "stdout",
     "output_type": "stream",
     "text": [
      "THE IMPORTANCE OF THE PEASANT PROBLEM\n",
      "During my recent visit to Hunan  I made a first-hand investigation of conditions in the five counties of Hsiangtan, Hsianghsiang, Hengshan, Liling and Changsha. Without the poor peasant class (the \"riffraff\", as the gentry call them), it would have been impossible to bring about the present revolutionary situation in the countryside, or to overthrow the local tyrants and evil gentry and complete the democratic revolution. The financial authorities once explained the difficulties encountered by the Hunan Provincial Government in raising money by the fact that the peasants were banishing the well-to-do, which gives some idea of the extent to which the local tyrants and evil gentry are not tolerated in their home villages. It is for the peasants themselves to cast aside the idols, pull down the temples to the martyred virgins and the arches to the chaste and faithful widows; it is wrong for anybody else to do it for them. PEASANT BANS AND PROHIBITIONS\n",
      "When the peasant associations, under Communist Party leadership, establish their authority in the countryside, the peasants begin to prohibit or restrict the things they dislike. The reason for all this is the peasants' poverty and the contradictions between town and country; it is not a matter of their rejecting manufactured goods or trade between town and country in order to uphold the so-called Doctrine of Oriental Culture. As this is a bad bargain for the landlord, he hastens to do the repairs. From this flows the failure to recognize the role of political leadership in the army and to recognize that the Red Army and the White army are fundamentally different. Many Party members make their criticisms not inside, but outside, the Party. Moreover, once such criticism develops, there is the great danger that the Party members will concentrate entirely on minor faults, and everyone will become timid and overcautious and forget the Party's political tasks. In the initial period of our independent regime in the Hunan-Kiangsi border area, some comrades genuinely believed the incorrect appraisal made by the Hunan Provincial Committee and regarded the class enemy as not worth a rap; the two descriptive terms, \"terribly shaky\" and \"extremely panicky\", which are standing jokes to this day, were used by the Hunan Provincial Committee at the time (from May to June 1928) in appraising the Hunan ruler Lu Ti-ping. The political line and the organizational line laid down by the Party's Sixth National Congress  are correct, i.e., the revolution at the present stage is democratic and not socialist, and the present task of the Party [here the words \"in the big cities\" should have been added]  is to win over the masses and not to stage immediate insurrections. In the present chaotic situation we can lead the masses only by positive slogans and a positive attitude. Having neither land, farm implements nor funds, they can live only by selling their labour power.\n"
     ]
    }
   ],
   "source": [
    "# Number of sentences to use = 13\n",
    "\n",
    "model2 = Summarizer()\n",
    "result2 = model2(text, min_length=60, num_sentences=13)\n",
    "full2 = ''.join(result2)\n",
    "print(full2)"
   ]
  },
  {
   "cell_type": "code",
   "execution_count": null,
   "metadata": {},
   "outputs": [],
   "source": []
  }
 ],
 "metadata": {
  "kernelspec": {
   "display_name": "Python 3",
   "language": "python",
   "name": "python3"
  },
  "language_info": {
   "codemirror_mode": {
    "name": "ipython",
    "version": 3
   },
   "file_extension": ".py",
   "mimetype": "text/x-python",
   "name": "python",
   "nbconvert_exporter": "python",
   "pygments_lexer": "ipython3",
   "version": "3.7.9"
  }
 },
 "nbformat": 4,
 "nbformat_minor": 4
}
