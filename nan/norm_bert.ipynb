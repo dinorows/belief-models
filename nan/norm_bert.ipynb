{
 "cells": [
  {
   "cell_type": "code",
   "execution_count": 1,
   "metadata": {},
   "outputs": [
    {
     "name": "stdout",
     "output_type": "stream",
     "text": [
      "../mao/REPORT ON AN INVESTIGATION OF THE PEASANT MOVEMENT IN HUNAN.txt\n",
      "../mao/ON CORRECTING MISTAKEN IDEAS IN THE PARTY.txt\n",
      "../mao/BE CONCERNED WITH THE WELL-BEING OF THE MASSES, PAY ATTENTION TO METHODS OF WORK.txt\n",
      "../mao/WHY IS IT THAT RED POLITICAL POWER CAN EXIST IN CHINA.txt\n",
      "../mao/A SINGLE SPARK CAN START A PRAIRIE FIRE.txt\n",
      "../mao/ANALYSIS OF THE CLASSES IN CHINESE SOCIETY.txt\n",
      "6\n",
      "6\n"
     ]
    }
   ],
   "source": [
    "# read in data\n",
    "article = []\n",
    "# titles\n",
    "titles = []\n",
    "\n",
    "import os\n",
    "for root, dirs, files in os.walk(\"../mao/\"):\n",
    "    for file in files:\n",
    "        if file.endswith(\".txt\"):\n",
    "            print(os.path.join(root, file))\n",
    "            with open(os.path.join(root, file), \"r\") as input:\n",
    "                sentences = input.read()\n",
    "            article.append(sentences)\n",
    "            titles.append(file)\n",
    "            \n",
    "print(len(article))\n",
    "print(len(titles))"
   ]
  },
  {
   "cell_type": "code",
   "execution_count": 2,
   "metadata": {},
   "outputs": [
    {
     "data": {
      "text/plain": [
       "174475"
      ]
     },
     "execution_count": 2,
     "metadata": {},
     "output_type": "execute_result"
    }
   ],
   "source": [
    "# concatenate text\n",
    "text = ''.join(article)\n",
    "\n",
    "len(text)"
   ]
  },
  {
   "cell_type": "code",
   "execution_count": 3,
   "metadata": {},
   "outputs": [
    {
     "data": {
      "text/plain": [
       "174164"
      ]
     },
     "execution_count": 3,
     "metadata": {},
     "output_type": "execute_result"
    }
   ],
   "source": [
    "# remove reference mark, e.g. '[1]'\n",
    "\n",
    "import re\n",
    "\n",
    "text = re.sub(r'\\[\\d{1,3}\\]' ,'', text)\n",
    "len(text)"
   ]
  },
  {
   "cell_type": "code",
   "execution_count": 4,
   "metadata": {},
   "outputs": [
    {
     "data": {
      "text/plain": [
       "1250"
      ]
     },
     "execution_count": 4,
     "metadata": {},
     "output_type": "execute_result"
    }
   ],
   "source": [
    "# using nltk, split text into sentences\n",
    "\n",
    "from nltk.tokenize import sent_tokenize\n",
    "\n",
    "sentences = sent_tokenize(text)\n",
    "\n",
    "len(sentences)"
   ]
  },
  {
   "cell_type": "markdown",
   "metadata": {},
   "source": [
    "## Get bert embedding"
   ]
  },
  {
   "cell_type": "code",
   "execution_count": 6,
   "metadata": {},
   "outputs": [
    {
     "data": {
      "text/plain": [
       "array([[ 1.0514753 , -0.15698974, -0.6388856 , ...,  1.3926277 ,\n",
       "        -2.19222   ,  0.46881217],\n",
       "       [ 1.1240852 ,  0.14005217, -0.02561224, ...,  1.121161  ,\n",
       "        -1.7365693 ,  1.1247581 ],\n",
       "       [ 0.7501117 ,  0.2162219 ,  0.7917    , ...,  0.90062666,\n",
       "        -1.2981623 ,  0.9176288 ],\n",
       "       ...,\n",
       "       [-0.35767937,  1.0318004 ,  0.84859633, ..., -0.23851372,\n",
       "        -1.2277536 ,  0.92608917],\n",
       "       [-1.0354404 ,  1.2909242 ,  0.2999326 , ...,  0.4461265 ,\n",
       "        -1.5273455 ,  0.55726624],\n",
       "       [-0.13420409,  0.4985413 ,  0.4791156 , ..., -1.0412669 ,\n",
       "        -0.98391706,  0.46094227]], dtype=float32)"
      ]
     },
     "execution_count": 6,
     "metadata": {},
     "output_type": "execute_result"
    }
   ],
   "source": [
    "from sentence_transformers import SentenceTransformer\n",
    "model = SentenceTransformer('stsb-roberta-large')\n",
    "\n",
    "sentence_embeddings = model.encode(sentences)\n",
    "\n",
    "sentence_embeddings"
   ]
  },
  {
   "cell_type": "markdown",
   "metadata": {},
   "source": [
    "## Get the vector norm"
   ]
  },
  {
   "cell_type": "code",
   "execution_count": 13,
   "metadata": {},
   "outputs": [
    {
     "data": {
      "text/plain": [
       "27.67779"
      ]
     },
     "execution_count": 13,
     "metadata": {},
     "output_type": "execute_result"
    }
   ],
   "source": [
    "import numpy as np\n",
    "np.linalg.norm(sentence_embeddings[0])"
   ]
  },
  {
   "cell_type": "code",
   "execution_count": 14,
   "metadata": {},
   "outputs": [
    {
     "data": {
      "text/plain": [
       "1250"
      ]
     },
     "execution_count": 14,
     "metadata": {},
     "output_type": "execute_result"
    }
   ],
   "source": [
    "sentence_norm = [np.linalg.norm(x) for x in sentence_embeddings]\n",
    "len(sentence_norm)"
   ]
  },
  {
   "cell_type": "code",
   "execution_count": 15,
   "metadata": {},
   "outputs": [
    {
     "data": {
      "text/plain": [
       "1250"
      ]
     },
     "execution_count": 15,
     "metadata": {},
     "output_type": "execute_result"
    }
   ],
   "source": [
    "len(sentence_embeddings)"
   ]
  },
  {
   "cell_type": "code",
   "execution_count": 17,
   "metadata": {},
   "outputs": [
    {
     "data": {
      "text/plain": [
       "[27.67779,\n",
       " 27.741547,\n",
       " 27.652258,\n",
       " 30.115093,\n",
       " 27.625107,\n",
       " 25.836132,\n",
       " 28.174456,\n",
       " 27.090067,\n",
       " 28.030947,\n",
       " 28.115288]"
      ]
     },
     "execution_count": 17,
     "metadata": {},
     "output_type": "execute_result"
    }
   ],
   "source": [
    "sentence_norm[0:10]"
   ]
  },
  {
   "cell_type": "markdown",
   "metadata": {},
   "source": [
    "## Clustering by KMeans"
   ]
  },
  {
   "cell_type": "code",
   "execution_count": 8,
   "metadata": {},
   "outputs": [],
   "source": [
    "# normalize data first\n",
    "from sklearn.preprocessing import normalize\n",
    "# normalize the data help k-means get better performance\n",
    "norm_data = normalize(sentence_embeddings, norm='l2')"
   ]
  },
  {
   "cell_type": "code",
   "execution_count": 9,
   "metadata": {},
   "outputs": [
    {
     "data": {
      "image/png": "[encoded data removed]",
      "text/plain": [
       "<Figure size 432x288 with 1 Axes>"
      ]
     },
     "metadata": {
      "needs_background": "light"
     },
     "output_type": "display_data"
    },
    {
     "data": {
      "image/png": "[encoded data removed]",
      "text/plain": [
       "<Figure size 432x288 with 1 Axes>"
      ]
     },
     "metadata": {
      "needs_background": "light"
     },
     "output_type": "display_data"
    },
    {
     "data": {
      "image/png": "[encoded data removed]",
      "text/plain": [
       "<Figure size 432x288 with 1 Axes>"
      ]
     },
     "metadata": {
      "needs_background": "light"
     },
     "output_type": "display_data"
    },
    {
     "data": {
      "image/png": "[encoded data removed]",
      "text/plain": [
       "<Figure size 432x288 with 1 Axes>"
      ]
     },
     "metadata": {
      "needs_background": "light"
     },
     "output_type": "display_data"
    }
   ],
   "source": [
    "from gap_statistic import OptimalK\n",
    "import numpy as np\n",
    "optimalK = OptimalK(n_jobs=4, parallel_backend='joblib')\n",
    "\n",
    "# limit to 1~15 cluster\n",
    "n_clusters = optimalK(norm_data, cluster_array=np.arange(1, 15))\n",
    "optimalK.plot_results()"
   ]
  },
  {
   "cell_type": "code",
   "execution_count": 10,
   "metadata": {},
   "outputs": [
    {
     "data": {
      "text/plain": [
       "array([11, 11,  6, ...,  2,  2, 10], dtype=int32)"
      ]
     },
     "execution_count": 10,
     "metadata": {},
     "output_type": "execute_result"
    }
   ],
   "source": [
    "# using the best K = 13 for k-means\n",
    "from sklearn.cluster import KMeans\n",
    "km = KMeans(\n",
    "    n_clusters=13, init='random',\n",
    "    n_init=10, max_iter=300, \n",
    "    tol=1e-04, random_state=0\n",
    ")\n",
    "y_km = km.fit_predict(norm_data)\n",
    "\n",
    "y_km"
   ]
  },
  {
   "cell_type": "code",
   "execution_count": 11,
   "metadata": {},
   "outputs": [],
   "source": [
    "## create a array that assign each sentence to its group\n",
    "groups = []\n",
    "\n",
    "for i in range (0, 13):\n",
    "    groups.append([])\n",
    "\n",
    "for idx, embed in enumerate(norm_data):\n",
    "    groups[y_km[idx] - 1].append(idx)"
   ]
  },
  {
   "cell_type": "code",
   "execution_count": 12,
   "metadata": {},
   "outputs": [],
   "source": [
    "def get_sum_distances(group):\n",
    "    \"\"\"input a group indicis of sentences, get a list of sum of cosine distance between\n",
    "    current sentence and other sentences in the text(score)\n",
    "    @param: a group of index, index of sentence\n",
    "    @return score(float)\n",
    "    \"\"\"\n",
    "    # construct data for group info\n",
    "    data = np.array([norm_data[i] for i in group])\n",
    "    # to store the result\n",
    "    res = []\n",
    "    \n",
    "    for idx, _ in enumerate(data):\n",
    "        # data has been normalized, cosine distanct can be calculated as np.dot()\n",
    "        scores = np.dot(data, data[idx].T)\n",
    "        res.append(np.sum(scores))\n",
    "    return res"
   ]
  },
  {
   "cell_type": "code",
   "execution_count": 19,
   "metadata": {},
   "outputs": [
    {
     "name": "stdout",
     "output_type": "stream",
     "text": [
      "Group:1: \n",
      "\n",
      "Sentence idx:136\n",
      "Those who used to rank lowest now rank above everybody else; and so this is called \"turning things upside down\".\n",
      "\n",
      "\n",
      "Group:2: \n",
      "\n",
      "Sentence idx:894\n",
      "We are the leaders and organizers of the revolutionary war as well as the leaders and organizers of the life of the masses.\n",
      "\n",
      "\n",
      "Group:3: \n",
      "\n",
      "Sentence idx:1202\n",
      "The semi-owner peasants are worse off than the owner-peasants because every year they are short of about half the food they need, and have to make up this deficit by renting land from others, selling part of their labour power, or engaging in petty trading.\n",
      "\n",
      "\n",
      "Group:4: \n",
      "\n",
      "Sentence idx:58\n",
      "\"IT'S TERRIBLE!\"\n",
      "\n",
      "\n",
      "Group:5: \n",
      "\n",
      "Sentence idx:1219\n",
      "If by chance you get into intimate conversation with them, they invariably pour out their endless grievances.\n",
      "\n",
      "\n",
      "Group:6: \n",
      "\n",
      "Sentence idx:966\n",
      "This is the reason why many Red regimes emerging at favourable moments before last April in places like Canton, Haifeng and LuFeng, the Hunan-Kiangsi border area, southern Hunan, Liling and Huangan were crushed one after another by the White regime.\n",
      "\n",
      "\n",
      "Group:7: \n",
      "\n",
      "Sentence idx:104\n",
      "The most violent revolts and the most serious disorders have invariably occurred in places where the local tyrants, evil gentry and lawless landlords perpetrated the worst outrages.\n",
      "\n",
      "\n",
      "Group:8: \n",
      "\n",
      "Sentence idx:999\n",
      "Instead, they want to extend our political influence through the easier method of roving guerrilla actions, and, once the masses throughout the country have been won over, or more or less won over, they want to launch a nation-wide armed insurrection which, with the participation of the Red Army, would become a great nationwide revolution.\n",
      "\n",
      "\n",
      "Group:9: \n",
      "\n",
      "Sentence idx:379\n",
      "6.\n",
      "\n",
      "\n",
      "Group:10: \n",
      "\n",
      "Sentence idx:671\n",
      "Some comrades, disregarding the subjective and objective conditions, suffer from the malady of revolutionary impetuosity; they will not take pains to do minute and detailed work among the masses, but, riddled with illusions, want only to do big things.\n",
      "\n",
      "\n",
      "Group:11: \n",
      "\n",
      "Sentence idx:112\n",
      "All the actions mentioned here which have been labeled as \"going too far\" flow from the power of the peasants, which has been called forth by the mighty revolutionary upsurge in the countryside.\n",
      "\n",
      "\n",
      "Group:12: \n",
      "\n",
      "Sentence idx:409\n",
      "In particular the vicious curs kept by the county government--the police, the armed guards and the bailiffs--are afraid of going to the villages, or if they do so, they no longer dare to practice their extortions.\n",
      "\n",
      "\n",
      "Group:13: \n",
      "\n",
      "Sentence idx:254\n",
      "In many places in Hunan like Hsianghsiang, Hengshan and Hsiangtan Counties, this is of course no problem since the authority of the landlords has been overturned and the peasants constitute the sole authority.\n",
      "\n",
      "\n"
     ]
    }
   ],
   "source": [
    "## pick up top score for each group\n",
    "\n",
    "for idx, group in enumerate(groups):\n",
    "    score_list = get_sum_distances(group)\n",
    "    max_idx = np.argmax(score_list)\n",
    "    print('Group:' + str(idx + 1) + ': \\n')\n",
    "    print('Sentence idx:{}'.format(group[max_idx]))\n",
    "    print(sentences[group[max_idx]])\n",
    "    print('\\n')"
   ]
  },
  {
   "cell_type": "code",
   "execution_count": 21,
   "metadata": {},
   "outputs": [
    {
     "name": "stdout",
     "output_type": "stream",
     "text": [
      "Group:1: \n",
      "\n",
      "Max Norm value Sentences global id:843\n",
      "Group:2: \n",
      "\n",
      "Max Norm value Sentences global id:894\n",
      "Group:3: \n",
      "\n",
      "Max Norm value Sentences global id:210\n",
      "Group:4: \n",
      "\n",
      "Max Norm value Sentences global id:858\n",
      "Group:5: \n",
      "\n",
      "Max Norm value Sentences global id:65\n",
      "Group:6: \n",
      "\n",
      "Max Norm value Sentences global id:412\n",
      "Group:7: \n",
      "\n",
      "Max Norm value Sentences global id:264\n",
      "Group:8: \n",
      "\n",
      "Max Norm value Sentences global id:653\n",
      "Group:9: \n",
      "\n",
      "Max Norm value Sentences global id:500\n",
      "Group:10: \n",
      "\n",
      "Max Norm value Sentences global id:784\n",
      "Group:11: \n",
      "\n",
      "Max Norm value Sentences global id:150\n",
      "Group:12: \n",
      "\n",
      "Max Norm value Sentences global id:1088\n",
      "Group:13: \n",
      "\n",
      "Max Norm value Sentences global id:36\n"
     ]
    }
   ],
   "source": [
    "# get each group max norm sentence id\n",
    "for g_id, g in enumerate(groups):\n",
    "    # get all idx in this group\n",
    "    idx_list = [idx for idx in g]\n",
    "    # get all norm value\n",
    "    norm_value = [sentence_norm[i] for i in idx_list]\n",
    "    # get max one\n",
    "    max_idx = np.argmax(norm_value)\n",
    "    global_max_idx = idx_list[max_idx]\n",
    "    print('Group:' + str(g_id + 1) + ': \\n')\n",
    "    print('Max Norm value Sentences global id:{}'.format(global_max_idx))\n",
    "    "
   ]
  },
  {
   "cell_type": "code",
   "execution_count": 22,
   "metadata": {},
   "outputs": [
    {
     "name": "stdout",
     "output_type": "stream",
     "text": [
      "Group:1: \n",
      "\n",
      "Top Sentence idx:136\n",
      "Max Norm value Sentences global id:843\n",
      "\n",
      "\n",
      "Group:2: \n",
      "\n",
      "Top Sentence idx:894\n",
      "Max Norm value Sentences global id:894\n",
      "\n",
      "\n",
      "Group:3: \n",
      "\n",
      "Top Sentence idx:1202\n",
      "Max Norm value Sentences global id:210\n",
      "\n",
      "\n",
      "Group:4: \n",
      "\n",
      "Top Sentence idx:58\n",
      "Max Norm value Sentences global id:858\n",
      "\n",
      "\n",
      "Group:5: \n",
      "\n",
      "Top Sentence idx:1219\n",
      "Max Norm value Sentences global id:65\n",
      "\n",
      "\n",
      "Group:6: \n",
      "\n",
      "Top Sentence idx:966\n",
      "Max Norm value Sentences global id:412\n",
      "\n",
      "\n",
      "Group:7: \n",
      "\n",
      "Top Sentence idx:104\n",
      "Max Norm value Sentences global id:264\n",
      "\n",
      "\n",
      "Group:8: \n",
      "\n",
      "Top Sentence idx:999\n",
      "Max Norm value Sentences global id:653\n",
      "\n",
      "\n",
      "Group:9: \n",
      "\n",
      "Top Sentence idx:379\n",
      "Max Norm value Sentences global id:500\n",
      "\n",
      "\n",
      "Group:10: \n",
      "\n",
      "Top Sentence idx:671\n",
      "Max Norm value Sentences global id:784\n",
      "\n",
      "\n",
      "Group:11: \n",
      "\n",
      "Top Sentence idx:112\n",
      "Max Norm value Sentences global id:150\n",
      "\n",
      "\n",
      "Group:12: \n",
      "\n",
      "Top Sentence idx:409\n",
      "Max Norm value Sentences global id:1088\n",
      "\n",
      "\n",
      "Group:13: \n",
      "\n",
      "Top Sentence idx:254\n",
      "Max Norm value Sentences global id:36\n",
      "\n",
      "\n"
     ]
    }
   ],
   "source": [
    "# compare\n",
    "for idx, group in enumerate(groups):\n",
    "    score_list = get_sum_distances(group)\n",
    "    max_idx = np.argmax(score_list)\n",
    "    print('Group:' + str(idx + 1) + ': \\n')\n",
    "    print('Top Sentence idx:{}'.format(group[max_idx]))\n",
    "    # get all idx in this group\n",
    "    idx_list = [idx for idx in group]\n",
    "    # get all norm value\n",
    "    norm_value = [sentence_norm[i] for i in idx_list]\n",
    "    # get max one\n",
    "    max_idx = np.argmax(norm_value)\n",
    "    global_max_idx = idx_list[max_idx]\n",
    "    print('Max Norm value Sentences global id:{}'.format(global_max_idx))\n",
    "    print('\\n')"
   ]
  },
  {
   "cell_type": "code",
   "execution_count": null,
   "metadata": {},
   "outputs": [],
   "source": []
  }
 ],
 "metadata": {
  "kernelspec": {
   "display_name": "Python 3",
   "language": "python",
   "name": "python3"
  },
  "language_info": {
   "codemirror_mode": {
    "name": "ipython",
    "version": 3
   },
   "file_extension": ".py",
   "mimetype": "text/x-python",
   "name": "python",
   "nbconvert_exporter": "python",
   "pygments_lexer": "ipython3",
   "version": "3.7.9"
  }
 },
 "nbformat": 4,
 "nbformat_minor": 4
}
