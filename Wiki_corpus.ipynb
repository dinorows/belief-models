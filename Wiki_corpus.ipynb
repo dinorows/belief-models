{
 "cells": [
  {
   "cell_type": "markdown",
   "metadata": {},
   "source": [
    "## Building the Wikipedia Text Corpus from Wiki-dumps\n",
    "\n",
    "By using `gensim`, we can build a wikipedia text corpus from wiki dump files, check https://dumps.wikimedia.org/enwiki/ for dump files, latest version can be download there: https://dumps.wikimedia.org/enwiki/latest/enwiki-latest-pages-articles.xml.bz2"
   ]
  },
  {
   "cell_type": "code",
   "execution_count": 1,
   "metadata": {},
   "outputs": [
    {
     "name": "stdout",
     "output_type": "stream",
     "text": [
      "Collecting gensim\n",
      "  Downloading gensim-4.0.1-cp37-cp37m-manylinux1_x86_64.whl (23.9 MB)\n",
      "\u001b[K     |████████████████████████████████| 23.9 MB 4.5 MB/s eta 0:00:01    |██████████▋                     | 7.9 MB 4.5 MB/s eta 0:00:04\n",
      "\u001b[?25hRequirement already satisfied: scipy>=0.18.1 in /home/ke.na/.conda/envs/pytorch/lib/python3.7/site-packages (from gensim) (1.5.2)\n",
      "Collecting smart-open>=1.8.1\n",
      "  Downloading smart_open-5.1.0-py3-none-any.whl (57 kB)\n",
      "\u001b[K     |████████████████████████████████| 57 kB 4.2 MB/s  eta 0:00:01\n",
      "\u001b[?25hRequirement already satisfied: numpy>=1.11.3 in /home/ke.na/.local/lib/python3.7/site-packages (from gensim) (1.19.5)\n",
      "Installing collected packages: smart-open, gensim\n",
      "Successfully installed gensim-4.0.1 smart-open-5.1.0\n"
     ]
    }
   ],
   "source": [
    "# Install gensim\n",
    "#! pip install gensim"
   ]
  },
  {
   "cell_type": "code",
   "execution_count": 3,
   "metadata": {},
   "outputs": [
    {
     "name": "stdout",
     "output_type": "stream",
     "text": [
      "Collecting python-Levenshtein\n",
      "  Downloading python-Levenshtein-0.12.2.tar.gz (50 kB)\n",
      "\u001b[K     |████████████████████████████████| 50 kB 1.6 MB/s eta 0:00:011\n",
      "\u001b[?25hRequirement already satisfied: setuptools in /home/ke.na/.conda/envs/pytorch/lib/python3.7/site-packages (from python-Levenshtein) (50.3.1.post20201107)\n",
      "Building wheels for collected packages: python-Levenshtein\n",
      "  Building wheel for python-Levenshtein (setup.py) ... \u001b[?25ldone\n",
      "\u001b[?25h  Created wheel for python-Levenshtein: filename=python_Levenshtein-0.12.2-cp37-cp37m-linux_x86_64.whl size=155908 sha256=b94703230a7abedbe6f01679f07f6970f14a0593ca176fd9adfc43c611b716f4\n",
      "  Stored in directory: /home/ke.na/.cache/pip/wheels/05/5f/ca/7c4367734892581bb5ff896f15027a932c551080b2abd3e00d\n",
      "Successfully built python-Levenshtein\n",
      "Installing collected packages: python-Levenshtein\n",
      "Successfully installed python-Levenshtein-0.12.2\n"
     ]
    }
   ],
   "source": [
    "# install a gensim dependency\n",
    "#! pip install python-Levenshtein"
   ]
  },
  {
   "cell_type": "code",
   "execution_count": 4,
   "metadata": {},
   "outputs": [],
   "source": [
    "from gensim.test.utils import datapath\n",
    "from gensim.corpora import WikiCorpus\n",
    "\n",
    "def getWikiCorpus(path):\n",
    "    '''\n",
    "    Input dump file should be:\n",
    "    <LANG>wiki-latest-pages-articles.xml.bz2\n",
    "    return a courpus instance\n",
    "    see detail of WikiCorpus at: https://radimrehurek.com/gensim/corpora/wikicorpus.html\n",
    "    '''\n",
    "    wiki_dump_path = datapath(path)\n",
    "    return WikiCorpus(wiki_dump_path)\n"
   ]
  },
  {
   "cell_type": "code",
   "execution_count": 5,
   "metadata": {},
   "outputs": [],
   "source": [
    "def saveToText(wiki, out_f):\n",
    "    '''\n",
    "    Input the WikiCorpus Instance, convert to textfile\n",
    "    @param: wiki, a WikiCorpus Instance\n",
    "    @param: out_f, output file path\n",
    "    '''\n",
    "    # counter\n",
    "    count = 0\n",
    "    # out stream\n",
    "    out = open(out_f, 'w')\n",
    "    for text in wiki.get_texts():\n",
    "        count += 1\n",
    "        # write line\n",
    "        out.write(bytes(' '.join(text), 'utf-8').decode('utf-8') + '\\n')\n",
    "        if(count % 10000 == 0):\n",
    "            print('Processed ' + str(count) + ' articles')\n",
    "    \n",
    "    # close\n",
    "    out.close()\n",
    "\n",
    "        "
   ]
  },
  {
   "cell_type": "code",
   "execution_count": null,
   "metadata": {},
   "outputs": [],
   "source": []
  }
 ],
 "metadata": {
  "kernelspec": {
   "display_name": "Python 3",
   "language": "python",
   "name": "python3"
  },
  "language_info": {
   "codemirror_mode": {
    "name": "ipython",
    "version": 3
   },
   "file_extension": ".py",
   "mimetype": "text/x-python",
   "name": "python",
   "nbconvert_exporter": "python",
   "pygments_lexer": "ipython3",
   "version": "3.7.9"
  }
 },
 "nbformat": 4,
 "nbformat_minor": 4
}
