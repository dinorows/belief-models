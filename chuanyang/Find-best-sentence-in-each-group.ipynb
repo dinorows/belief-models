{
 "cells": [
  {
   "cell_type": "markdown",
   "id": "democratic-alfred",
   "metadata": {},
   "source": [
    "# EDA"
   ]
  },
  {
   "cell_type": "code",
   "execution_count": 1,
   "id": "polished-shelf",
   "metadata": {},
   "outputs": [
    {
     "name": "stdout",
     "output_type": "stream",
     "text": [
      "../mao/REPORT ON AN INVESTIGATION OF THE PEASANT MOVEMENT IN HUNAN.txt\n",
      "../mao/WHY IS IT THAT RED POLITICAL POWER CAN EXIST IN CHINA.txt\n",
      "../mao/ANALYSIS OF THE CLASSES IN CHINESE SOCIETY.txt\n",
      "../mao/ON CORRECTING MISTAKEN IDEAS IN THE PARTY.txt\n",
      "../mao/A SINGLE SPARK CAN START A PRAIRIE FIRE.txt\n",
      "../mao/BE CONCERNED WITH THE WELL-BEING OF THE MASSES, PAY ATTENTION TO METHODS OF WORK.txt\n",
      "1702\n",
      "THE IMPORTANCE OF THE PEASANT PROBLEM\n"
     ]
    }
   ],
   "source": [
    "import os\n",
    "mao_sentences = []\n",
    "for root, dirs, files in os.walk(\"../mao\"):\n",
    "    for file in files:\n",
    "        if file.endswith(\".txt\"):\n",
    "            print(os.path.join(root, file))\n",
    "            with open(os.path.join(root, file), \"r\") as input:\n",
    "                sentences = input.read().replace('?','.').replace('!','.').replace('\\n','.')\n",
    "                sentences = sentences.split(\".\")   #. denotes end of sentence\n",
    "            mao_sentences.extend(sentences)\n",
    "            \n",
    "print(len(mao_sentences))\n",
    "print(mao_sentences[0])"
   ]
  },
  {
   "cell_type": "code",
   "execution_count": 2,
   "id": "derived-construction",
   "metadata": {},
   "outputs": [
    {
     "data": {
      "text/html": [
       "<div>\n",
       "<style scoped>\n",
       "    .dataframe tbody tr th:only-of-type {\n",
       "        vertical-align: middle;\n",
       "    }\n",
       "\n",
       "    .dataframe tbody tr th {\n",
       "        vertical-align: top;\n",
       "    }\n",
       "\n",
       "    .dataframe thead th {\n",
       "        text-align: right;\n",
       "    }\n",
       "</style>\n",
       "<table border=\"1\" class=\"dataframe\">\n",
       "  <thead>\n",
       "    <tr style=\"text-align: right;\">\n",
       "      <th></th>\n",
       "      <th>Sentence</th>\n",
       "    </tr>\n",
       "  </thead>\n",
       "  <tbody>\n",
       "    <tr>\n",
       "      <th>0</th>\n",
       "      <td>THE IMPORTANCE OF THE PEASANT PROBLEM</td>\n",
       "    </tr>\n",
       "    <tr>\n",
       "      <th>1</th>\n",
       "      <td>During my recent visit to Hunan [1] I made a f...</td>\n",
       "    </tr>\n",
       "    <tr>\n",
       "      <th>2</th>\n",
       "      <td>In the thirty-two days from January 4 to Febr...</td>\n",
       "    </tr>\n",
       "    <tr>\n",
       "      <th>3</th>\n",
       "      <td>Many of the hows and whys of the peasant move...</td>\n",
       "    </tr>\n",
       "    <tr>\n",
       "      <th>4</th>\n",
       "      <td>I saw and heard of many strange things of whi...</td>\n",
       "    </tr>\n",
       "  </tbody>\n",
       "</table>\n",
       "</div>"
      ],
      "text/plain": [
       "                                            Sentence\n",
       "0              THE IMPORTANCE OF THE PEASANT PROBLEM\n",
       "1  During my recent visit to Hunan [1] I made a f...\n",
       "2   In the thirty-two days from January 4 to Febr...\n",
       "3   Many of the hows and whys of the peasant move...\n",
       "4   I saw and heard of many strange things of whi..."
      ]
     },
     "execution_count": 2,
     "metadata": {},
     "output_type": "execute_result"
    }
   ],
   "source": [
    "import numpy as np\n",
    "import pandas as pd\n",
    "import numpy as np\n",
    "import pandas as pd\n",
    "import seaborn as sns\n",
    "import matplotlib.pyplot as plt\n",
    "from sklearn.feature_extraction.text import CountVectorizer\n",
    "from sklearn.feature_extraction.text import TfidfVectorizer\n",
    "\n",
    "mao_df = pd.DataFrame(mao_sentences, columns = ['Sentence'])\n",
    "mao_df.head()"
   ]
  },
  {
   "cell_type": "code",
   "execution_count": 3,
   "id": "forbidden-generic",
   "metadata": {},
   "outputs": [
    {
     "data": {
      "text/plain": [
       "Text(0.5, 1.0, 'Distribution of number of words in each sentence')"
      ]
     },
     "execution_count": 3,
     "metadata": {},
     "output_type": "execute_result"
    },
    {
     "data": {
      "image/png": "[encoded data removed]",
      "text/plain": [
       "<Figure size 864x432 with 1 Axes>"
      ]
     },
     "metadata": {
      "needs_background": "light"
     },
     "output_type": "display_data"
    }
   ],
   "source": [
    "mao_df['NumWords'] = mao_df['Sentence'].apply(lambda x: len(x.split()))\n",
    "mao_df[['NumWords']].hist(figsize=(12, 6), bins=10, xlabelsize=8, ylabelsize=8);\n",
    "plt.title(\"Distribution of number of words in each sentence\")"
   ]
  },
  {
   "cell_type": "markdown",
   "id": "ongoing-czech",
   "metadata": {},
   "source": [
    "Let's do some cleaning operations like turning all words to lowercase, remove punctuation and non-ASCII characters which are irrelevant for modeling topics."
   ]
  },
  {
   "cell_type": "code",
   "execution_count": 4,
   "id": "smooth-learning",
   "metadata": {},
   "outputs": [],
   "source": [
    "import re\n",
    "NON_ALPHANUM = re.compile(r'[\\W]')\n",
    "NON_ASCII = re.compile(r'[^a-z0-1\\s]')\n",
    "def normalize_texts(texts):\n",
    "    normalized_texts = ''\n",
    "    lower = texts.lower()\n",
    "    no_punctuation = NON_ALPHANUM.sub(r' ', lower)\n",
    "    no_non_ascii = NON_ASCII.sub(r'', no_punctuation)\n",
    "    return no_non_ascii\n",
    "  \n",
    "mao_df['Sentence2'] = mao_df['Sentence'].apply(normalize_texts)\n",
    "mao_df.head()\n",
    "mao_df['Sentence2'] = mao_df['Sentence2'].apply(lambda x: ' '.join([w for w in x.split() if len(w)>2]))"
   ]
  },
  {
   "cell_type": "code",
   "execution_count": 5,
   "id": "terminal-equity",
   "metadata": {},
   "outputs": [
    {
     "data": {
      "image/png": "[encoded data removed]",
      "text/plain": [
       "<Figure size 1152x576 with 1 Axes>"
      ]
     },
     "metadata": {
      "needs_background": "light"
     },
     "output_type": "display_data"
    }
   ],
   "source": [
    "def get_top_n_words(corpus, n=10):\n",
    "    vec = CountVectorizer(stop_words='english').fit(corpus)\n",
    "    bag_of_words = vec.transform(corpus)\n",
    "    sum_words = bag_of_words.sum(axis=0) \n",
    "    words_freq = [(word, sum_words[0, idx]) for word, idx in   vec.vocabulary_.items()]\n",
    "    words_freq =sorted(words_freq, key = lambda x: x[1], reverse=True)\n",
    "    return words_freq[:n]\n",
    "\n",
    "words = []\n",
    "word_values = []\n",
    "for i,j in get_top_n_words(mao_df['Sentence2'], 30):\n",
    "    words.append(i)\n",
    "    word_values.append(j)\n",
    "fig, ax = plt.subplots(figsize=(16,8))\n",
    "ax.bar(range(len(words)), word_values);\n",
    "ax.set_xticks(range(len(words)));\n",
    "ax.set_xticklabels(words, rotation='vertical');\n",
    "ax.set_title(\"Mao's top 30 words\");\n",
    "ax.set_xlabel('Word');\n",
    "ax.set_ylabel('Number of occurences');\n",
    "plt.show()"
   ]
  },
  {
   "cell_type": "code",
   "execution_count": 6,
   "id": "sonic-crystal",
   "metadata": {},
   "outputs": [
    {
     "data": {
      "text/html": [
       "<div>\n",
       "<style scoped>\n",
       "    .dataframe tbody tr th:only-of-type {\n",
       "        vertical-align: middle;\n",
       "    }\n",
       "\n",
       "    .dataframe tbody tr th {\n",
       "        vertical-align: top;\n",
       "    }\n",
       "\n",
       "    .dataframe thead th {\n",
       "        text-align: right;\n",
       "    }\n",
       "</style>\n",
       "<table border=\"1\" class=\"dataframe\">\n",
       "  <thead>\n",
       "    <tr style=\"text-align: right;\">\n",
       "      <th></th>\n",
       "      <th>Sentence</th>\n",
       "      <th>NumWords</th>\n",
       "      <th>Sentence2</th>\n",
       "    </tr>\n",
       "  </thead>\n",
       "  <tbody>\n",
       "    <tr>\n",
       "      <th>0</th>\n",
       "      <td>THE IMPORTANCE OF THE PEASANT PROBLEM</td>\n",
       "      <td>6</td>\n",
       "      <td>the importance the peasant problem</td>\n",
       "    </tr>\n",
       "    <tr>\n",
       "      <th>1</th>\n",
       "      <td>During my recent visit to Hunan [1] I made a f...</td>\n",
       "      <td>25</td>\n",
       "      <td>during recent visit hunan made first hand inve...</td>\n",
       "    </tr>\n",
       "    <tr>\n",
       "      <th>2</th>\n",
       "      <td>In the thirty-two days from January 4 to Febr...</td>\n",
       "      <td>48</td>\n",
       "      <td>the thirty two days from january february call...</td>\n",
       "    </tr>\n",
       "    <tr>\n",
       "      <th>3</th>\n",
       "      <td>Many of the hows and whys of the peasant move...</td>\n",
       "      <td>24</td>\n",
       "      <td>many the hows and whys the peasant movement we...</td>\n",
       "    </tr>\n",
       "    <tr>\n",
       "      <th>4</th>\n",
       "      <td>I saw and heard of many strange things of whi...</td>\n",
       "      <td>15</td>\n",
       "      <td>saw and heard many strange things which had hi...</td>\n",
       "    </tr>\n",
       "  </tbody>\n",
       "</table>\n",
       "</div>"
      ],
      "text/plain": [
       "                                            Sentence  NumWords  \\\n",
       "0              THE IMPORTANCE OF THE PEASANT PROBLEM         6   \n",
       "1  During my recent visit to Hunan [1] I made a f...        25   \n",
       "2   In the thirty-two days from January 4 to Febr...        48   \n",
       "3   Many of the hows and whys of the peasant move...        24   \n",
       "4   I saw and heard of many strange things of whi...        15   \n",
       "\n",
       "                                           Sentence2  \n",
       "0                 the importance the peasant problem  \n",
       "1  during recent visit hunan made first hand inve...  \n",
       "2  the thirty two days from january february call...  \n",
       "3  many the hows and whys the peasant movement we...  \n",
       "4  saw and heard many strange things which had hi...  "
      ]
     },
     "execution_count": 6,
     "metadata": {},
     "output_type": "execute_result"
    }
   ],
   "source": [
    "mao_df.head()"
   ]
  },
  {
   "cell_type": "markdown",
   "id": "conventional-hamilton",
   "metadata": {},
   "source": [
    "Remove short sentence"
   ]
  },
  {
   "cell_type": "code",
   "execution_count": 7,
   "id": "returning-graduation",
   "metadata": {},
   "outputs": [
    {
     "data": {
      "text/html": [
       "<div>\n",
       "<style scoped>\n",
       "    .dataframe tbody tr th:only-of-type {\n",
       "        vertical-align: middle;\n",
       "    }\n",
       "\n",
       "    .dataframe tbody tr th {\n",
       "        vertical-align: top;\n",
       "    }\n",
       "\n",
       "    .dataframe thead th {\n",
       "        text-align: right;\n",
       "    }\n",
       "</style>\n",
       "<table border=\"1\" class=\"dataframe\">\n",
       "  <thead>\n",
       "    <tr style=\"text-align: right;\">\n",
       "      <th></th>\n",
       "      <th>Sentence</th>\n",
       "      <th>NumWords</th>\n",
       "      <th>Sentence2</th>\n",
       "    </tr>\n",
       "  </thead>\n",
       "  <tbody>\n",
       "    <tr>\n",
       "      <th>14</th>\n",
       "      <td>There are three alternatives</td>\n",
       "      <td>4</td>\n",
       "      <td>there are three alternatives</td>\n",
       "    </tr>\n",
       "    <tr>\n",
       "      <th>21</th>\n",
       "      <td>GET ORGANIZED</td>\n",
       "      <td>2</td>\n",
       "      <td>get organized</td>\n",
       "    </tr>\n",
       "    <tr>\n",
       "      <th>53</th>\n",
       "      <td>\"Here's ten yuan</td>\n",
       "      <td>3</td>\n",
       "      <td>here ten yuan</td>\n",
       "    </tr>\n",
       "    <tr>\n",
       "      <th>57</th>\n",
       "      <td>\"Ugh</td>\n",
       "      <td>1</td>\n",
       "      <td>ugh</td>\n",
       "    </tr>\n",
       "    <tr>\n",
       "      <th>59</th>\n",
       "      <td>\" the peasants reply</td>\n",
       "      <td>4</td>\n",
       "      <td>the peasants reply</td>\n",
       "    </tr>\n",
       "    <tr>\n",
       "      <th>...</th>\n",
       "      <td>...</td>\n",
       "      <td>...</td>\n",
       "      <td>...</td>\n",
       "    </tr>\n",
       "    <tr>\n",
       "      <th>1655</th>\n",
       "      <td>Not in the least</td>\n",
       "      <td>4</td>\n",
       "      <td>not the least</td>\n",
       "    </tr>\n",
       "    <tr>\n",
       "      <th>1659</th>\n",
       "      <td>No, nothing</td>\n",
       "      <td>2</td>\n",
       "      <td>nothing</td>\n",
       "    </tr>\n",
       "    <tr>\n",
       "      <th>1660</th>\n",
       "      <td>His bastions of iron</td>\n",
       "      <td>4</td>\n",
       "      <td>his bastions iron</td>\n",
       "    </tr>\n",
       "    <tr>\n",
       "      <th>1661</th>\n",
       "      <td>They all crumbled</td>\n",
       "      <td>3</td>\n",
       "      <td>they all crumbled</td>\n",
       "    </tr>\n",
       "    <tr>\n",
       "      <th>1662</th>\n",
       "      <td>Comrades</td>\n",
       "      <td>1</td>\n",
       "      <td>comrades</td>\n",
       "    </tr>\n",
       "  </tbody>\n",
       "</table>\n",
       "<p>167 rows × 3 columns</p>\n",
       "</div>"
      ],
      "text/plain": [
       "                           Sentence  NumWords                     Sentence2\n",
       "14     There are three alternatives         4  there are three alternatives\n",
       "21                    GET ORGANIZED         2                 get organized\n",
       "53                 \"Here's ten yuan         3                 here ten yuan\n",
       "57                             \"Ugh         1                           ugh\n",
       "59             \" the peasants reply         4            the peasants reply\n",
       "...                             ...       ...                           ...\n",
       "1655               Not in the least         4                 not the least\n",
       "1659                    No, nothing         2                       nothing\n",
       "1660           His bastions of iron         4             his bastions iron\n",
       "1661              They all crumbled         3             they all crumbled\n",
       "1662                       Comrades         1                      comrades\n",
       "\n",
       "[167 rows x 3 columns]"
      ]
     },
     "execution_count": 7,
     "metadata": {},
     "output_type": "execute_result"
    }
   ],
   "source": [
    "mao_df = mao_df[mao_df.NumWords>0]\n",
    "short_sentence = mao_df[mao_df.NumWords<5]\n",
    "short_sentence"
   ]
  },
  {
   "cell_type": "code",
   "execution_count": 8,
   "id": "unauthorized-present",
   "metadata": {},
   "outputs": [
    {
     "data": {
      "text/html": [
       "<div>\n",
       "<style scoped>\n",
       "    .dataframe tbody tr th:only-of-type {\n",
       "        vertical-align: middle;\n",
       "    }\n",
       "\n",
       "    .dataframe tbody tr th {\n",
       "        vertical-align: top;\n",
       "    }\n",
       "\n",
       "    .dataframe thead th {\n",
       "        text-align: right;\n",
       "    }\n",
       "</style>\n",
       "<table border=\"1\" class=\"dataframe\">\n",
       "  <thead>\n",
       "    <tr style=\"text-align: right;\">\n",
       "      <th></th>\n",
       "      <th>Sentence</th>\n",
       "      <th>NumWords</th>\n",
       "      <th>Sentence2</th>\n",
       "    </tr>\n",
       "  </thead>\n",
       "  <tbody>\n",
       "    <tr>\n",
       "      <th>0</th>\n",
       "      <td>THE IMPORTANCE OF THE PEASANT PROBLEM</td>\n",
       "      <td>6</td>\n",
       "      <td>the importance the peasant problem</td>\n",
       "    </tr>\n",
       "    <tr>\n",
       "      <th>1</th>\n",
       "      <td>During my recent visit to Hunan [1] I made a f...</td>\n",
       "      <td>25</td>\n",
       "      <td>during recent visit hunan made first hand inve...</td>\n",
       "    </tr>\n",
       "    <tr>\n",
       "      <th>2</th>\n",
       "      <td>In the thirty-two days from January 4 to Febr...</td>\n",
       "      <td>48</td>\n",
       "      <td>the thirty two days from january february call...</td>\n",
       "    </tr>\n",
       "    <tr>\n",
       "      <th>3</th>\n",
       "      <td>Many of the hows and whys of the peasant move...</td>\n",
       "      <td>24</td>\n",
       "      <td>many the hows and whys the peasant movement we...</td>\n",
       "    </tr>\n",
       "    <tr>\n",
       "      <th>4</th>\n",
       "      <td>I saw and heard of many strange things of whi...</td>\n",
       "      <td>15</td>\n",
       "      <td>saw and heard many strange things which had hi...</td>\n",
       "    </tr>\n",
       "    <tr>\n",
       "      <th>...</th>\n",
       "      <td>...</td>\n",
       "      <td>...</td>\n",
       "      <td>...</td>\n",
       "    </tr>\n",
       "    <tr>\n",
       "      <th>1167</th>\n",
       "      <td>All revolutionary cadres have a tremendous re...</td>\n",
       "      <td>7</td>\n",
       "      <td>all revolutionary cadres have tremendous respo...</td>\n",
       "    </tr>\n",
       "    <tr>\n",
       "      <th>1168</th>\n",
       "      <td>After this congress we must adopt effective m...</td>\n",
       "      <td>30</td>\n",
       "      <td>after this congress must adopt effective measu...</td>\n",
       "    </tr>\n",
       "    <tr>\n",
       "      <th>1169</th>\n",
       "      <td>We must create thousands of townships like Ch...</td>\n",
       "      <td>14</td>\n",
       "      <td>must create thousands townships like changkang...</td>\n",
       "    </tr>\n",
       "    <tr>\n",
       "      <th>1170</th>\n",
       "      <td>They will be our strongholds</td>\n",
       "      <td>5</td>\n",
       "      <td>they will our strongholds</td>\n",
       "    </tr>\n",
       "    <tr>\n",
       "      <th>1171</th>\n",
       "      <td>From these strongholds we should go forth to ...</td>\n",
       "      <td>27</td>\n",
       "      <td>from these strongholds should forth smash the ...</td>\n",
       "    </tr>\n",
       "  </tbody>\n",
       "</table>\n",
       "<p>1172 rows × 3 columns</p>\n",
       "</div>"
      ],
      "text/plain": [
       "                                               Sentence  NumWords  \\\n",
       "0                 THE IMPORTANCE OF THE PEASANT PROBLEM         6   \n",
       "1     During my recent visit to Hunan [1] I made a f...        25   \n",
       "2      In the thirty-two days from January 4 to Febr...        48   \n",
       "3      Many of the hows and whys of the peasant move...        24   \n",
       "4      I saw and heard of many strange things of whi...        15   \n",
       "...                                                 ...       ...   \n",
       "1167   All revolutionary cadres have a tremendous re...         7   \n",
       "1168   After this congress we must adopt effective m...        30   \n",
       "1169   We must create thousands of townships like Ch...        14   \n",
       "1170                       They will be our strongholds         5   \n",
       "1171   From these strongholds we should go forth to ...        27   \n",
       "\n",
       "                                              Sentence2  \n",
       "0                    the importance the peasant problem  \n",
       "1     during recent visit hunan made first hand inve...  \n",
       "2     the thirty two days from january february call...  \n",
       "3     many the hows and whys the peasant movement we...  \n",
       "4     saw and heard many strange things which had hi...  \n",
       "...                                                 ...  \n",
       "1167  all revolutionary cadres have tremendous respo...  \n",
       "1168  after this congress must adopt effective measu...  \n",
       "1169  must create thousands townships like changkang...  \n",
       "1170                          they will our strongholds  \n",
       "1171  from these strongholds should forth smash the ...  \n",
       "\n",
       "[1172 rows x 3 columns]"
      ]
     },
     "execution_count": 8,
     "metadata": {},
     "output_type": "execute_result"
    }
   ],
   "source": [
    "mao_df = mao_df[mao_df.NumWords>=5]\n",
    "mao_df = mao_df.reset_index(drop=True)\n",
    "mao_df"
   ]
  },
  {
   "cell_type": "code",
   "execution_count": null,
   "id": "complex-closure",
   "metadata": {},
   "outputs": [],
   "source": []
  },
  {
   "cell_type": "markdown",
   "id": "olive-hometown",
   "metadata": {},
   "source": [
    "# Sentence Embedding"
   ]
  },
  {
   "cell_type": "code",
   "execution_count": 9,
   "id": "modified-mobility",
   "metadata": {},
   "outputs": [],
   "source": [
    "from sentence_transformers import SentenceTransformer\n",
    "\n",
    "model = SentenceTransformer('stsb-roberta-large')"
   ]
  },
  {
   "cell_type": "code",
   "execution_count": 10,
   "id": "obvious-peace",
   "metadata": {},
   "outputs": [
    {
     "data": {
      "text/plain": [
       "(1172, 1024)"
      ]
     },
     "execution_count": 10,
     "metadata": {},
     "output_type": "execute_result"
    }
   ],
   "source": [
    "sentence_embeddings = model.encode(mao_df.Sentence2)\n",
    "sentence_embeddings.shape"
   ]
  },
  {
   "cell_type": "markdown",
   "id": "fifteen-texture",
   "metadata": {},
   "source": [
    "# Kmeans"
   ]
  },
  {
   "cell_type": "markdown",
   "id": "checked-literature",
   "metadata": {},
   "source": [
    "Try to find the best k, let us use `Silhouette Coefficient`"
   ]
  },
  {
   "cell_type": "markdown",
   "id": "ancient-organic",
   "metadata": {},
   "source": [
    "Silhouette Coefficient    \n",
    "https://en.wikipedia.org/wiki/Silhouette_(clustering)   \n",
    "\n",
    "-1<=Si<=1   \n",
    "The clusting performance is better when the Silhouette Coefficient is close to 1"
   ]
  },
  {
   "cell_type": "code",
   "execution_count": 11,
   "id": "clinical-documentation",
   "metadata": {},
   "outputs": [
    {
     "data": {
      "image/png": "[encoded data removed]",
      "text/plain": [
       "<Figure size 432x288 with 1 Axes>"
      ]
     },
     "metadata": {
      "needs_background": "light"
     },
     "output_type": "display_data"
    }
   ],
   "source": [
    "from sklearn import metrics\n",
    "from sklearn.cluster import KMeans\n",
    "\n",
    "scores = []\n",
    "for k in range(2,20):\n",
    "    labels = KMeans(n_clusters=k).fit(sentence_embeddings).labels_\n",
    "    score = metrics.silhouette_score(sentence_embeddings, labels)\n",
    "    scores.append(score)\n",
    "\n",
    "plt.plot(list(range(2,20)),scores)\n",
    "plt.xticks(range(0,22,1)) \n",
    "plt.grid(linestyle='--')\n",
    "plt.xlabel(\"Number of Clusters Initialized\")\n",
    "plt.ylabel(\"Sihouette Score\")\n",
    "sns.despine()"
   ]
  },
  {
   "cell_type": "code",
   "execution_count": null,
   "id": "nonprofit-submission",
   "metadata": {},
   "outputs": [],
   "source": []
  },
  {
   "cell_type": "markdown",
   "id": "unlikely-contractor",
   "metadata": {},
   "source": [
    "## 7 cluster Kmeans"
   ]
  },
  {
   "cell_type": "code",
   "execution_count": 12,
   "id": "double-banana",
   "metadata": {},
   "outputs": [],
   "source": [
    "from sklearn.cluster import KMeans\n",
    "km = KMeans(\n",
    "    n_clusters=7, init='random',\n",
    "    n_init=10, max_iter=300, \n",
    "    tol=1e-04, random_state=0\n",
    ")\n",
    "y_km = km.fit_predict(sentence_embeddings)\n",
    "df = pd.DataFrame({'mao': mao_df.Sentence, 'sentence2':mao_df.Sentence2, 'topic_cluster': y_km })"
   ]
  },
  {
   "cell_type": "code",
   "execution_count": 13,
   "id": "automatic-pharmaceutical",
   "metadata": {},
   "outputs": [
    {
     "data": {
      "text/html": [
       "<div>\n",
       "<style scoped>\n",
       "    .dataframe tbody tr th:only-of-type {\n",
       "        vertical-align: middle;\n",
       "    }\n",
       "\n",
       "    .dataframe tbody tr th {\n",
       "        vertical-align: top;\n",
       "    }\n",
       "\n",
       "    .dataframe thead th {\n",
       "        text-align: right;\n",
       "    }\n",
       "</style>\n",
       "<table border=\"1\" class=\"dataframe\">\n",
       "  <thead>\n",
       "    <tr style=\"text-align: right;\">\n",
       "      <th></th>\n",
       "      <th>mao</th>\n",
       "      <th>sentence2</th>\n",
       "      <th>topic_cluster</th>\n",
       "    </tr>\n",
       "  </thead>\n",
       "  <tbody>\n",
       "    <tr>\n",
       "      <th>0</th>\n",
       "      <td>THE IMPORTANCE OF THE PEASANT PROBLEM</td>\n",
       "      <td>the importance the peasant problem</td>\n",
       "      <td>4</td>\n",
       "    </tr>\n",
       "    <tr>\n",
       "      <th>1</th>\n",
       "      <td>During my recent visit to Hunan [1] I made a f...</td>\n",
       "      <td>during recent visit hunan made first hand inve...</td>\n",
       "      <td>1</td>\n",
       "    </tr>\n",
       "    <tr>\n",
       "      <th>2</th>\n",
       "      <td>In the thirty-two days from January 4 to Febr...</td>\n",
       "      <td>the thirty two days from january february call...</td>\n",
       "      <td>4</td>\n",
       "    </tr>\n",
       "    <tr>\n",
       "      <th>3</th>\n",
       "      <td>Many of the hows and whys of the peasant move...</td>\n",
       "      <td>many the hows and whys the peasant movement we...</td>\n",
       "      <td>1</td>\n",
       "    </tr>\n",
       "    <tr>\n",
       "      <th>4</th>\n",
       "      <td>I saw and heard of many strange things of whi...</td>\n",
       "      <td>saw and heard many strange things which had hi...</td>\n",
       "      <td>0</td>\n",
       "    </tr>\n",
       "  </tbody>\n",
       "</table>\n",
       "</div>"
      ],
      "text/plain": [
       "                                                 mao  \\\n",
       "0              THE IMPORTANCE OF THE PEASANT PROBLEM   \n",
       "1  During my recent visit to Hunan [1] I made a f...   \n",
       "2   In the thirty-two days from January 4 to Febr...   \n",
       "3   Many of the hows and whys of the peasant move...   \n",
       "4   I saw and heard of many strange things of whi...   \n",
       "\n",
       "                                           sentence2  topic_cluster  \n",
       "0                 the importance the peasant problem              4  \n",
       "1  during recent visit hunan made first hand inve...              1  \n",
       "2  the thirty two days from january february call...              4  \n",
       "3  many the hows and whys the peasant movement we...              1  \n",
       "4  saw and heard many strange things which had hi...              0  "
      ]
     },
     "execution_count": 13,
     "metadata": {},
     "output_type": "execute_result"
    }
   ],
   "source": [
    "df.head()"
   ]
  },
  {
   "cell_type": "code",
   "execution_count": 14,
   "id": "fifty-witch",
   "metadata": {},
   "outputs": [
    {
     "data": {
      "text/html": [
       "<div>\n",
       "<style scoped>\n",
       "    .dataframe tbody tr th:only-of-type {\n",
       "        vertical-align: middle;\n",
       "    }\n",
       "\n",
       "    .dataframe tbody tr th {\n",
       "        vertical-align: top;\n",
       "    }\n",
       "\n",
       "    .dataframe thead th {\n",
       "        text-align: right;\n",
       "    }\n",
       "</style>\n",
       "<table border=\"1\" class=\"dataframe\">\n",
       "  <thead>\n",
       "    <tr style=\"text-align: right;\">\n",
       "      <th></th>\n",
       "      <th>mao</th>\n",
       "      <th>sentence2</th>\n",
       "      <th>topic_cluster</th>\n",
       "    </tr>\n",
       "  </thead>\n",
       "  <tbody>\n",
       "    <tr>\n",
       "      <th>4</th>\n",
       "      <td>I saw and heard of many strange things of whi...</td>\n",
       "      <td>saw and heard many strange things which had hi...</td>\n",
       "      <td>0</td>\n",
       "    </tr>\n",
       "    <tr>\n",
       "      <th>15</th>\n",
       "      <td>To trail behind them, gesticulating and criti...</td>\n",
       "      <td>trail behind them gesticulating and criticizing</td>\n",
       "      <td>0</td>\n",
       "    </tr>\n",
       "    <tr>\n",
       "      <th>29</th>\n",
       "      <td>DOWN WITH THE LOCAL TYRANTS AND EVIL GENTRY</td>\n",
       "      <td>down with the local tyrants and evil gentry</td>\n",
       "      <td>0</td>\n",
       "    </tr>\n",
       "    <tr>\n",
       "      <th>31</th>\n",
       "      <td>The main targets of attack by the peasants are...</td>\n",
       "      <td>the main targets attack the peasants are the l...</td>\n",
       "      <td>0</td>\n",
       "    </tr>\n",
       "    <tr>\n",
       "      <th>39</th>\n",
       "      <td>Those who are outside the associations can on...</td>\n",
       "      <td>those who are outside the associations can onl...</td>\n",
       "      <td>0</td>\n",
       "    </tr>\n",
       "  </tbody>\n",
       "</table>\n",
       "</div>"
      ],
      "text/plain": [
       "                                                  mao  \\\n",
       "4    I saw and heard of many strange things of whi...   \n",
       "15   To trail behind them, gesticulating and criti...   \n",
       "29        DOWN WITH THE LOCAL TYRANTS AND EVIL GENTRY   \n",
       "31  The main targets of attack by the peasants are...   \n",
       "39   Those who are outside the associations can on...   \n",
       "\n",
       "                                            sentence2  topic_cluster  \n",
       "4   saw and heard many strange things which had hi...              0  \n",
       "15    trail behind them gesticulating and criticizing              0  \n",
       "29        down with the local tyrants and evil gentry              0  \n",
       "31  the main targets attack the peasants are the l...              0  \n",
       "39  those who are outside the associations can onl...              0  "
      ]
     },
     "execution_count": 14,
     "metadata": {},
     "output_type": "execute_result"
    }
   ],
   "source": [
    "df.loc[df['topic_cluster'] == 0].head()"
   ]
  },
  {
   "cell_type": "code",
   "execution_count": 15,
   "id": "primary-arabic",
   "metadata": {},
   "outputs": [
    {
     "data": {
      "text/html": [
       "<div>\n",
       "<style scoped>\n",
       "    .dataframe tbody tr th:only-of-type {\n",
       "        vertical-align: middle;\n",
       "    }\n",
       "\n",
       "    .dataframe tbody tr th {\n",
       "        vertical-align: top;\n",
       "    }\n",
       "\n",
       "    .dataframe thead th {\n",
       "        text-align: right;\n",
       "    }\n",
       "</style>\n",
       "<table border=\"1\" class=\"dataframe\">\n",
       "  <thead>\n",
       "    <tr style=\"text-align: right;\">\n",
       "      <th></th>\n",
       "      <th>mao</th>\n",
       "      <th>sentence2</th>\n",
       "      <th>topic_cluster</th>\n",
       "    </tr>\n",
       "  </thead>\n",
       "  <tbody>\n",
       "    <tr>\n",
       "      <th>1</th>\n",
       "      <td>During my recent visit to Hunan [1] I made a f...</td>\n",
       "      <td>during recent visit hunan made first hand inve...</td>\n",
       "      <td>1</td>\n",
       "    </tr>\n",
       "    <tr>\n",
       "      <th>3</th>\n",
       "      <td>Many of the hows and whys of the peasant move...</td>\n",
       "      <td>many the hows and whys the peasant movement we...</td>\n",
       "      <td>1</td>\n",
       "    </tr>\n",
       "    <tr>\n",
       "      <th>20</th>\n",
       "      <td>In this period, January to June was a time of...</td>\n",
       "      <td>this period january june was time underground ...</td>\n",
       "      <td>1</td>\n",
       "    </tr>\n",
       "    <tr>\n",
       "      <th>41</th>\n",
       "      <td>In the face of the peasant associations' powe...</td>\n",
       "      <td>the face the peasant associations power and pr...</td>\n",
       "      <td>1</td>\n",
       "    </tr>\n",
       "    <tr>\n",
       "      <th>47</th>\n",
       "      <td>In the Ching Dynasty, the household census com...</td>\n",
       "      <td>the ching dynasty the household census compile...</td>\n",
       "      <td>1</td>\n",
       "    </tr>\n",
       "  </tbody>\n",
       "</table>\n",
       "</div>"
      ],
      "text/plain": [
       "                                                  mao  \\\n",
       "1   During my recent visit to Hunan [1] I made a f...   \n",
       "3    Many of the hows and whys of the peasant move...   \n",
       "20   In this period, January to June was a time of...   \n",
       "41   In the face of the peasant associations' powe...   \n",
       "47  In the Ching Dynasty, the household census com...   \n",
       "\n",
       "                                            sentence2  topic_cluster  \n",
       "1   during recent visit hunan made first hand inve...              1  \n",
       "3   many the hows and whys the peasant movement we...              1  \n",
       "20  this period january june was time underground ...              1  \n",
       "41  the face the peasant associations power and pr...              1  \n",
       "47  the ching dynasty the household census compile...              1  "
      ]
     },
     "execution_count": 15,
     "metadata": {},
     "output_type": "execute_result"
    }
   ],
   "source": [
    "df.loc[df['topic_cluster'] == 1].head()"
   ]
  },
  {
   "cell_type": "code",
   "execution_count": 16,
   "id": "perfect-reminder",
   "metadata": {},
   "outputs": [
    {
     "data": {
      "text/html": [
       "<div>\n",
       "<style scoped>\n",
       "    .dataframe tbody tr th:only-of-type {\n",
       "        vertical-align: middle;\n",
       "    }\n",
       "\n",
       "    .dataframe tbody tr th {\n",
       "        vertical-align: top;\n",
       "    }\n",
       "\n",
       "    .dataframe thead th {\n",
       "        text-align: right;\n",
       "    }\n",
       "</style>\n",
       "<table border=\"1\" class=\"dataframe\">\n",
       "  <thead>\n",
       "    <tr style=\"text-align: right;\">\n",
       "      <th></th>\n",
       "      <th>mao</th>\n",
       "      <th>sentence2</th>\n",
       "      <th>topic_cluster</th>\n",
       "    </tr>\n",
       "  </thead>\n",
       "  <tbody>\n",
       "    <tr>\n",
       "      <th>5</th>\n",
       "      <td>I believe the same is true of many other plac...</td>\n",
       "      <td>believe the same true many other places too</td>\n",
       "      <td>2</td>\n",
       "    </tr>\n",
       "    <tr>\n",
       "      <th>11</th>\n",
       "      <td>They will smash all the trammels that bind th...</td>\n",
       "      <td>they will smash all the trammels that bind the...</td>\n",
       "      <td>2</td>\n",
       "    </tr>\n",
       "    <tr>\n",
       "      <th>14</th>\n",
       "      <td>To march at their head and lead them</td>\n",
       "      <td>march their head and lead them</td>\n",
       "      <td>2</td>\n",
       "    </tr>\n",
       "    <tr>\n",
       "      <th>16</th>\n",
       "      <td>Or to stand in their way and oppose them</td>\n",
       "      <td>stand their way and oppose them</td>\n",
       "      <td>2</td>\n",
       "    </tr>\n",
       "    <tr>\n",
       "      <th>17</th>\n",
       "      <td>Every Chinese is free to choose, but events w...</td>\n",
       "      <td>every chinese free choose but events will forc...</td>\n",
       "      <td>2</td>\n",
       "    </tr>\n",
       "  </tbody>\n",
       "</table>\n",
       "</div>"
      ],
      "text/plain": [
       "                                                  mao  \\\n",
       "5    I believe the same is true of many other plac...   \n",
       "11   They will smash all the trammels that bind th...   \n",
       "14               To march at their head and lead them   \n",
       "16           Or to stand in their way and oppose them   \n",
       "17   Every Chinese is free to choose, but events w...   \n",
       "\n",
       "                                            sentence2  topic_cluster  \n",
       "5         believe the same true many other places too              2  \n",
       "11  they will smash all the trammels that bind the...              2  \n",
       "14                     march their head and lead them              2  \n",
       "16                    stand their way and oppose them              2  \n",
       "17  every chinese free choose but events will forc...              2  "
      ]
     },
     "execution_count": 16,
     "metadata": {},
     "output_type": "execute_result"
    }
   ],
   "source": [
    "df.loc[df['topic_cluster'] == 2].head()"
   ]
  },
  {
   "cell_type": "code",
   "execution_count": 17,
   "id": "allied-merchandise",
   "metadata": {},
   "outputs": [
    {
     "data": {
      "text/html": [
       "<div>\n",
       "<style scoped>\n",
       "    .dataframe tbody tr th:only-of-type {\n",
       "        vertical-align: middle;\n",
       "    }\n",
       "\n",
       "    .dataframe tbody tr th {\n",
       "        vertical-align: top;\n",
       "    }\n",
       "\n",
       "    .dataframe thead th {\n",
       "        text-align: right;\n",
       "    }\n",
       "</style>\n",
       "<table border=\"1\" class=\"dataframe\">\n",
       "  <thead>\n",
       "    <tr style=\"text-align: right;\">\n",
       "      <th></th>\n",
       "      <th>mao</th>\n",
       "      <th>sentence2</th>\n",
       "      <th>topic_cluster</th>\n",
       "    </tr>\n",
       "  </thead>\n",
       "  <tbody>\n",
       "    <tr>\n",
       "      <th>6</th>\n",
       "      <td>All talk directed against the peasant movemen...</td>\n",
       "      <td>all talk directed against the peasant movement...</td>\n",
       "      <td>3</td>\n",
       "    </tr>\n",
       "    <tr>\n",
       "      <th>7</th>\n",
       "      <td>All the wrong measures taken by the revolutio...</td>\n",
       "      <td>all the wrong measures taken the revolutionary...</td>\n",
       "      <td>3</td>\n",
       "    </tr>\n",
       "    <tr>\n",
       "      <th>12</th>\n",
       "      <td>They will sweep all the imperialists, warlord...</td>\n",
       "      <td>they will sweep all the imperialists warlords ...</td>\n",
       "      <td>3</td>\n",
       "    </tr>\n",
       "    <tr>\n",
       "      <th>33</th>\n",
       "      <td>As a result, the privileges which the feudal ...</td>\n",
       "      <td>result the privileges which the feudal landlor...</td>\n",
       "      <td>3</td>\n",
       "    </tr>\n",
       "    <tr>\n",
       "      <th>43</th>\n",
       "      <td>Who wants your filthy money</td>\n",
       "      <td>who wants your filthy money</td>\n",
       "      <td>3</td>\n",
       "    </tr>\n",
       "  </tbody>\n",
       "</table>\n",
       "</div>"
      ],
      "text/plain": [
       "                                                  mao  \\\n",
       "6    All talk directed against the peasant movemen...   \n",
       "7    All the wrong measures taken by the revolutio...   \n",
       "12   They will sweep all the imperialists, warlord...   \n",
       "33   As a result, the privileges which the feudal ...   \n",
       "43                        Who wants your filthy money   \n",
       "\n",
       "                                            sentence2  topic_cluster  \n",
       "6   all talk directed against the peasant movement...              3  \n",
       "7   all the wrong measures taken the revolutionary...              3  \n",
       "12  they will sweep all the imperialists warlords ...              3  \n",
       "33  result the privileges which the feudal landlor...              3  \n",
       "43                        who wants your filthy money              3  "
      ]
     },
     "execution_count": 17,
     "metadata": {},
     "output_type": "execute_result"
    }
   ],
   "source": [
    "df.loc[df['topic_cluster'] == 3].head()"
   ]
  },
  {
   "cell_type": "code",
   "execution_count": 18,
   "id": "furnished-joseph",
   "metadata": {},
   "outputs": [
    {
     "data": {
      "text/html": [
       "<div>\n",
       "<style scoped>\n",
       "    .dataframe tbody tr th:only-of-type {\n",
       "        vertical-align: middle;\n",
       "    }\n",
       "\n",
       "    .dataframe tbody tr th {\n",
       "        vertical-align: top;\n",
       "    }\n",
       "\n",
       "    .dataframe thead th {\n",
       "        text-align: right;\n",
       "    }\n",
       "</style>\n",
       "<table border=\"1\" class=\"dataframe\">\n",
       "  <thead>\n",
       "    <tr style=\"text-align: right;\">\n",
       "      <th></th>\n",
       "      <th>mao</th>\n",
       "      <th>sentence2</th>\n",
       "      <th>topic_cluster</th>\n",
       "    </tr>\n",
       "  </thead>\n",
       "  <tbody>\n",
       "    <tr>\n",
       "      <th>0</th>\n",
       "      <td>THE IMPORTANCE OF THE PEASANT PROBLEM</td>\n",
       "      <td>the importance the peasant problem</td>\n",
       "      <td>4</td>\n",
       "    </tr>\n",
       "    <tr>\n",
       "      <th>2</th>\n",
       "      <td>In the thirty-two days from January 4 to Febr...</td>\n",
       "      <td>the thirty two days from january february call...</td>\n",
       "      <td>4</td>\n",
       "    </tr>\n",
       "    <tr>\n",
       "      <th>9</th>\n",
       "      <td>For the present upsurge of the peasant moveme...</td>\n",
       "      <td>for the present upsurge the peasant movement c...</td>\n",
       "      <td>4</td>\n",
       "    </tr>\n",
       "    <tr>\n",
       "      <th>18</th>\n",
       "      <td>The development of the peasant movement in Hun...</td>\n",
       "      <td>the development the peasant movement hunan may...</td>\n",
       "      <td>4</td>\n",
       "    </tr>\n",
       "    <tr>\n",
       "      <th>22</th>\n",
       "      <td>Since its members served as guides, scouts an...</td>\n",
       "      <td>since its members served guides scouts and car...</td>\n",
       "      <td>4</td>\n",
       "    </tr>\n",
       "  </tbody>\n",
       "</table>\n",
       "</div>"
      ],
      "text/plain": [
       "                                                  mao  \\\n",
       "0               THE IMPORTANCE OF THE PEASANT PROBLEM   \n",
       "2    In the thirty-two days from January 4 to Febr...   \n",
       "9    For the present upsurge of the peasant moveme...   \n",
       "18  The development of the peasant movement in Hun...   \n",
       "22   Since its members served as guides, scouts an...   \n",
       "\n",
       "                                            sentence2  topic_cluster  \n",
       "0                  the importance the peasant problem              4  \n",
       "2   the thirty two days from january february call...              4  \n",
       "9   for the present upsurge the peasant movement c...              4  \n",
       "18  the development the peasant movement hunan may...              4  \n",
       "22  since its members served guides scouts and car...              4  "
      ]
     },
     "execution_count": 18,
     "metadata": {},
     "output_type": "execute_result"
    }
   ],
   "source": [
    "df.loc[df['topic_cluster'] == 4].head()"
   ]
  },
  {
   "cell_type": "code",
   "execution_count": 19,
   "id": "correct-atlantic",
   "metadata": {},
   "outputs": [
    {
     "data": {
      "text/html": [
       "<div>\n",
       "<style scoped>\n",
       "    .dataframe tbody tr th:only-of-type {\n",
       "        vertical-align: middle;\n",
       "    }\n",
       "\n",
       "    .dataframe tbody tr th {\n",
       "        vertical-align: top;\n",
       "    }\n",
       "\n",
       "    .dataframe thead th {\n",
       "        text-align: right;\n",
       "    }\n",
       "</style>\n",
       "<table border=\"1\" class=\"dataframe\">\n",
       "  <thead>\n",
       "    <tr style=\"text-align: right;\">\n",
       "      <th></th>\n",
       "      <th>mao</th>\n",
       "      <th>sentence2</th>\n",
       "      <th>topic_cluster</th>\n",
       "    </tr>\n",
       "  </thead>\n",
       "  <tbody>\n",
       "    <tr>\n",
       "      <th>13</th>\n",
       "      <td>Every revolutionary party and every revolutio...</td>\n",
       "      <td>every revolutionary party and every revolution...</td>\n",
       "      <td>5</td>\n",
       "    </tr>\n",
       "    <tr>\n",
       "      <th>21</th>\n",
       "      <td>During this period, the membership of the pea...</td>\n",
       "      <td>during this period the membership the peasant ...</td>\n",
       "      <td>5</td>\n",
       "    </tr>\n",
       "    <tr>\n",
       "      <th>40</th>\n",
       "      <td>The local tyrants, evil gentry and lawless la...</td>\n",
       "      <td>the local tyrants evil gentry and lawless land...</td>\n",
       "      <td>5</td>\n",
       "    </tr>\n",
       "    <tr>\n",
       "      <th>48</th>\n",
       "      <td>In some places the peasants now use this meth...</td>\n",
       "      <td>some places the peasants now use this method s...</td>\n",
       "      <td>5</td>\n",
       "    </tr>\n",
       "    <tr>\n",
       "      <th>50</th>\n",
       "      <td>Afraid of being entered in the other register,...</td>\n",
       "      <td>afraid being entered the other register such p...</td>\n",
       "      <td>5</td>\n",
       "    </tr>\n",
       "  </tbody>\n",
       "</table>\n",
       "</div>"
      ],
      "text/plain": [
       "                                                  mao  \\\n",
       "13   Every revolutionary party and every revolutio...   \n",
       "21   During this period, the membership of the pea...   \n",
       "40   The local tyrants, evil gentry and lawless la...   \n",
       "48   In some places the peasants now use this meth...   \n",
       "50  Afraid of being entered in the other register,...   \n",
       "\n",
       "                                            sentence2  topic_cluster  \n",
       "13  every revolutionary party and every revolution...              5  \n",
       "21  during this period the membership the peasant ...              5  \n",
       "40  the local tyrants evil gentry and lawless land...              5  \n",
       "48  some places the peasants now use this method s...              5  \n",
       "50  afraid being entered the other register such p...              5  "
      ]
     },
     "execution_count": 19,
     "metadata": {},
     "output_type": "execute_result"
    }
   ],
   "source": [
    "df.loc[df['topic_cluster'] == 5].head()"
   ]
  },
  {
   "cell_type": "code",
   "execution_count": 20,
   "id": "pharmaceutical-zambia",
   "metadata": {},
   "outputs": [
    {
     "data": {
      "text/html": [
       "<div>\n",
       "<style scoped>\n",
       "    .dataframe tbody tr th:only-of-type {\n",
       "        vertical-align: middle;\n",
       "    }\n",
       "\n",
       "    .dataframe tbody tr th {\n",
       "        vertical-align: top;\n",
       "    }\n",
       "\n",
       "    .dataframe thead th {\n",
       "        text-align: right;\n",
       "    }\n",
       "</style>\n",
       "<table border=\"1\" class=\"dataframe\">\n",
       "  <thead>\n",
       "    <tr style=\"text-align: right;\">\n",
       "      <th></th>\n",
       "      <th>mao</th>\n",
       "      <th>sentence2</th>\n",
       "      <th>topic_cluster</th>\n",
       "    </tr>\n",
       "  </thead>\n",
       "  <tbody>\n",
       "    <tr>\n",
       "      <th>8</th>\n",
       "      <td>Only thus can the future of the revolution be...</td>\n",
       "      <td>only thus can the future the revolution benefited</td>\n",
       "      <td>6</td>\n",
       "    </tr>\n",
       "    <tr>\n",
       "      <th>10</th>\n",
       "      <td>In a very short time, in China's central, sou...</td>\n",
       "      <td>very short time china central southern and nor...</td>\n",
       "      <td>6</td>\n",
       "    </tr>\n",
       "    <tr>\n",
       "      <th>32</th>\n",
       "      <td>In force and momentum the attack is tempestuo...</td>\n",
       "      <td>force and momentum the attack tempestuous thos...</td>\n",
       "      <td>6</td>\n",
       "    </tr>\n",
       "    <tr>\n",
       "      <th>67</th>\n",
       "      <td>Sun Yat-sen wanted, but failed, to accomplish...</td>\n",
       "      <td>sun yat sen wanted but failed accomplish the f...</td>\n",
       "      <td>6</td>\n",
       "    </tr>\n",
       "    <tr>\n",
       "      <th>78</th>\n",
       "      <td>The Revolution of 1911 [3] did not bring abou...</td>\n",
       "      <td>the revolution 111 did not bring about this ch...</td>\n",
       "      <td>6</td>\n",
       "    </tr>\n",
       "  </tbody>\n",
       "</table>\n",
       "</div>"
      ],
      "text/plain": [
       "                                                  mao  \\\n",
       "8    Only thus can the future of the revolution be...   \n",
       "10   In a very short time, in China's central, sou...   \n",
       "32   In force and momentum the attack is tempestuo...   \n",
       "67   Sun Yat-sen wanted, but failed, to accomplish...   \n",
       "78   The Revolution of 1911 [3] did not bring abou...   \n",
       "\n",
       "                                            sentence2  topic_cluster  \n",
       "8   only thus can the future the revolution benefited              6  \n",
       "10  very short time china central southern and nor...              6  \n",
       "32  force and momentum the attack tempestuous thos...              6  \n",
       "67  sun yat sen wanted but failed accomplish the f...              6  \n",
       "78  the revolution 111 did not bring about this ch...              6  "
      ]
     },
     "execution_count": 20,
     "metadata": {},
     "output_type": "execute_result"
    }
   ],
   "source": [
    "df.loc[df['topic_cluster'] == 6].head()"
   ]
  },
  {
   "cell_type": "code",
   "execution_count": 21,
   "id": "welcome-bankruptcy",
   "metadata": {},
   "outputs": [
    {
     "data": {
      "text/plain": [
       "array([[-0.30953214,  0.6305128 ,  0.32809758, ...,  0.27771795,\n",
       "        -0.7601069 ,  0.6205398 ],\n",
       "       [ 0.10599335,  0.34588677, -0.1222178 , ...,  0.54810643,\n",
       "        -1.3297417 ,  0.29887426],\n",
       "       [-0.12595537,  0.14595091, -0.06924996, ...,  0.27791902,\n",
       "        -0.7823045 ,  0.54073364],\n",
       "       ...,\n",
       "       [-0.06784982,  0.34416237, -0.10358737, ...,  0.96032333,\n",
       "        -0.90393364,  0.54917824],\n",
       "       [-0.10502759,  0.02465358, -0.22885872, ...,  0.3169937 ,\n",
       "        -0.14310682,  0.47161007],\n",
       "       [ 0.20314845,  0.7646339 ,  0.06447813, ...,  0.86047673,\n",
       "        -0.79031605,  0.37310952]], dtype=float32)"
      ]
     },
     "execution_count": 21,
     "metadata": {},
     "output_type": "execute_result"
    }
   ],
   "source": [
    "centers = km.cluster_centers_\n",
    "centers"
   ]
  },
  {
   "cell_type": "code",
   "execution_count": null,
   "id": "guilty-hanging",
   "metadata": {},
   "outputs": [],
   "source": []
  },
  {
   "cell_type": "markdown",
   "id": "dramatic-difference",
   "metadata": {},
   "source": [
    "Select a sentence which is cloest to each group center"
   ]
  },
  {
   "cell_type": "code",
   "execution_count": 22,
   "id": "controlling-foundation",
   "metadata": {},
   "outputs": [],
   "source": [
    "def select_center_sentence(group_id):\n",
    "    distance =[]\n",
    "    # get one group sentence embeddings\n",
    "    group_sentence_embeddings = sentence_embeddings[df['topic_cluster'] == group_id]\n",
    "    print('there are %d sentences in group %d'%(len(group_sentence_embeddings),group_id))\n",
    "    for sentence in group_sentence_embeddings:\n",
    "        dis = 0\n",
    "        for index in range(len(sentence)):\n",
    "            # calculate the distance between this sentence and group center\n",
    "            dis = dis + (sentence[index] - centers[group_id][index])**2\n",
    "        distance.append(dis)\n",
    "    \n",
    "    # get the min distance's index\n",
    "    min_index = distance.index(min(distance))\n",
    "    df_group = df.loc[df['topic_cluster'] == group_id]\n",
    "    df_group = df_group.reset_index(drop=True)\n",
    "    return df_group.mao[min_index]"
   ]
  },
  {
   "cell_type": "code",
   "execution_count": 23,
   "id": "greatest-custody",
   "metadata": {},
   "outputs": [
    {
     "name": "stdout",
     "output_type": "stream",
     "text": [
      "there are 179 sentences in group 0\n"
     ]
    },
    {
     "data": {
      "text/plain": [
       "'\" This opinion comes to the same thing as what the right-wingers are saying; according to both it is all right to have a peasant movement (the movement is already in being and no one dare say otherwise), but they say that the people running it are no good and they particularly hate those in charge of the associations at the lower levels, calling them \"riffraff\"'"
      ]
     },
     "execution_count": 23,
     "metadata": {},
     "output_type": "execute_result"
    }
   ],
   "source": [
    "group0_belief = select_center_sentence(group_id = 0)\n",
    "group0_belief"
   ]
  },
  {
   "cell_type": "code",
   "execution_count": 24,
   "id": "noted-champion",
   "metadata": {},
   "outputs": [
    {
     "name": "stdout",
     "output_type": "stream",
     "text": [
      "there are 159 sentences in group 1\n"
     ]
    },
    {
     "data": {
      "text/plain": [
       "' Again, when we captured Yunghsin for the third time, we once more divided our forces by dispatching the 28th Regiment to the border of Anfu County, the 29th to Lienhua, and the 31st to the border of Kian County'"
      ]
     },
     "execution_count": 24,
     "metadata": {},
     "output_type": "execute_result"
    }
   ],
   "source": [
    "group1_belief = select_center_sentence(group_id = 1)\n",
    "group1_belief"
   ]
  },
  {
   "cell_type": "code",
   "execution_count": 25,
   "id": "competitive-analysis",
   "metadata": {},
   "outputs": [
    {
     "name": "stdout",
     "output_type": "stream",
     "text": [
      "there are 196 sentences in group 2\n"
     ]
    },
    {
     "data": {
      "text/plain": [
       "' It should be done on the following lines:'"
      ]
     },
     "execution_count": 25,
     "metadata": {},
     "output_type": "execute_result"
    }
   ],
   "source": [
    "group2_belief = select_center_sentence(group_id = 2)\n",
    "group2_belief"
   ]
  },
  {
   "cell_type": "code",
   "execution_count": 26,
   "id": "chicken-mexico",
   "metadata": {},
   "outputs": [
    {
     "name": "stdout",
     "output_type": "stream",
     "text": [
      "there are 146 sentences in group 3\n"
     ]
    },
    {
     "data": {
      "text/plain": [
       "' Because of the growth in government taxation, the rise in rent and interest demanded by the landlords and the daily spread of the disasters of war, there are famine and banditry everywhere and the peasant masses and the urban poor can hardly keep alive'"
      ]
     },
     "execution_count": 26,
     "metadata": {},
     "output_type": "execute_result"
    }
   ],
   "source": [
    "group3_belief = select_center_sentence(group_id = 3)\n",
    "group3_belief"
   ]
  },
  {
   "cell_type": "code",
   "execution_count": 27,
   "id": "monetary-notebook",
   "metadata": {},
   "outputs": [
    {
     "name": "stdout",
     "output_type": "stream",
     "text": [
      "there are 180 sentences in group 4\n"
     ]
    },
    {
     "data": {
      "text/plain": [
       "'ALL POWER TO THE PEASANT ASSOCIATIONS'"
      ]
     },
     "execution_count": 27,
     "metadata": {},
     "output_type": "execute_result"
    }
   ],
   "source": [
    "group4_belief = select_center_sentence(group_id = 4)\n",
    "group4_belief"
   ]
  },
  {
   "cell_type": "code",
   "execution_count": 28,
   "id": "western-catalyst",
   "metadata": {},
   "outputs": [
    {
     "name": "stdout",
     "output_type": "stream",
     "text": [
      "there are 135 sentences in group 5\n"
     ]
    },
    {
     "data": {
      "text/plain": [
       "' It was necessary to forbid malicious criticism of the peasant associations'"
      ]
     },
     "execution_count": 28,
     "metadata": {},
     "output_type": "execute_result"
    }
   ],
   "source": [
    "group5_belief = select_center_sentence(group_id = 5)\n",
    "group5_belief"
   ]
  },
  {
   "cell_type": "code",
   "execution_count": 29,
   "id": "increasing-protocol",
   "metadata": {},
   "outputs": [
    {
     "name": "stdout",
     "output_type": "stream",
     "text": [
      "there are 177 sentences in group 6\n"
     ]
    },
    {
     "data": {
      "text/plain": [
       "' The prolonged splits and wars within the White regime provide a condition for the emergence and persistence of one or more small Red areas under the leadership of the Communist Party amidst the encirclement of the White regime'"
      ]
     },
     "execution_count": 29,
     "metadata": {},
     "output_type": "execute_result"
    }
   ],
   "source": [
    "group6_belief = select_center_sentence(group_id = 6)\n",
    "group6_belief"
   ]
  },
  {
   "cell_type": "code",
   "execution_count": null,
   "id": "vulnerable-peter",
   "metadata": {},
   "outputs": [],
   "source": []
  },
  {
   "cell_type": "markdown",
   "id": "relevant-highlight",
   "metadata": {},
   "source": [
    "# Filter meaningless sentences"
   ]
  },
  {
   "cell_type": "code",
   "execution_count": 30,
   "id": "varying-threat",
   "metadata": {},
   "outputs": [
    {
     "data": {
      "text/html": [
       "<div>\n",
       "<style scoped>\n",
       "    .dataframe tbody tr th:only-of-type {\n",
       "        vertical-align: middle;\n",
       "    }\n",
       "\n",
       "    .dataframe tbody tr th {\n",
       "        vertical-align: top;\n",
       "    }\n",
       "\n",
       "    .dataframe thead th {\n",
       "        text-align: right;\n",
       "    }\n",
       "</style>\n",
       "<table border=\"1\" class=\"dataframe\">\n",
       "  <thead>\n",
       "    <tr style=\"text-align: right;\">\n",
       "      <th></th>\n",
       "      <th>mao</th>\n",
       "      <th>sentence2</th>\n",
       "      <th>topic_cluster</th>\n",
       "    </tr>\n",
       "  </thead>\n",
       "  <tbody>\n",
       "    <tr>\n",
       "      <th>5</th>\n",
       "      <td>I believe the same is true of many other plac...</td>\n",
       "      <td>believe the same true many other places too</td>\n",
       "      <td>2</td>\n",
       "    </tr>\n",
       "    <tr>\n",
       "      <th>11</th>\n",
       "      <td>They will smash all the trammels that bind th...</td>\n",
       "      <td>they will smash all the trammels that bind the...</td>\n",
       "      <td>2</td>\n",
       "    </tr>\n",
       "    <tr>\n",
       "      <th>14</th>\n",
       "      <td>To march at their head and lead them</td>\n",
       "      <td>march their head and lead them</td>\n",
       "      <td>2</td>\n",
       "    </tr>\n",
       "    <tr>\n",
       "      <th>16</th>\n",
       "      <td>Or to stand in their way and oppose them</td>\n",
       "      <td>stand their way and oppose them</td>\n",
       "      <td>2</td>\n",
       "    </tr>\n",
       "    <tr>\n",
       "      <th>17</th>\n",
       "      <td>Every Chinese is free to choose, but events w...</td>\n",
       "      <td>every chinese free choose but events will forc...</td>\n",
       "      <td>2</td>\n",
       "    </tr>\n",
       "    <tr>\n",
       "      <th>...</th>\n",
       "      <td>...</td>\n",
       "      <td>...</td>\n",
       "      <td>...</td>\n",
       "    </tr>\n",
       "    <tr>\n",
       "      <th>1154</th>\n",
       "      <td>If our task is to cross a river, we cannot cr...</td>\n",
       "      <td>our task cross river cannot cross without brid...</td>\n",
       "      <td>2</td>\n",
       "    </tr>\n",
       "    <tr>\n",
       "      <th>1156</th>\n",
       "      <td>Unless the problem of method is solved, talk ...</td>\n",
       "      <td>unless the problem method solved talk about th...</td>\n",
       "      <td>2</td>\n",
       "    </tr>\n",
       "    <tr>\n",
       "      <th>1167</th>\n",
       "      <td>All revolutionary cadres have a tremendous re...</td>\n",
       "      <td>all revolutionary cadres have tremendous respo...</td>\n",
       "      <td>2</td>\n",
       "    </tr>\n",
       "    <tr>\n",
       "      <th>1168</th>\n",
       "      <td>After this congress we must adopt effective m...</td>\n",
       "      <td>after this congress must adopt effective measu...</td>\n",
       "      <td>2</td>\n",
       "    </tr>\n",
       "    <tr>\n",
       "      <th>1170</th>\n",
       "      <td>They will be our strongholds</td>\n",
       "      <td>they will our strongholds</td>\n",
       "      <td>2</td>\n",
       "    </tr>\n",
       "  </tbody>\n",
       "</table>\n",
       "<p>196 rows × 3 columns</p>\n",
       "</div>"
      ],
      "text/plain": [
       "                                                    mao  \\\n",
       "5      I believe the same is true of many other plac...   \n",
       "11     They will smash all the trammels that bind th...   \n",
       "14                 To march at their head and lead them   \n",
       "16             Or to stand in their way and oppose them   \n",
       "17     Every Chinese is free to choose, but events w...   \n",
       "...                                                 ...   \n",
       "1154   If our task is to cross a river, we cannot cr...   \n",
       "1156   Unless the problem of method is solved, talk ...   \n",
       "1167   All revolutionary cadres have a tremendous re...   \n",
       "1168   After this congress we must adopt effective m...   \n",
       "1170                       They will be our strongholds   \n",
       "\n",
       "                                              sentence2  topic_cluster  \n",
       "5           believe the same true many other places too              2  \n",
       "11    they will smash all the trammels that bind the...              2  \n",
       "14                       march their head and lead them              2  \n",
       "16                      stand their way and oppose them              2  \n",
       "17    every chinese free choose but events will forc...              2  \n",
       "...                                                 ...            ...  \n",
       "1154  our task cross river cannot cross without brid...              2  \n",
       "1156  unless the problem method solved talk about th...              2  \n",
       "1167  all revolutionary cadres have tremendous respo...              2  \n",
       "1168  after this congress must adopt effective measu...              2  \n",
       "1170                          they will our strongholds              2  \n",
       "\n",
       "[196 rows x 3 columns]"
      ]
     },
     "execution_count": 30,
     "metadata": {},
     "output_type": "execute_result"
    }
   ],
   "source": [
    "group2 = df.loc[df['topic_cluster'] == 2]\n",
    "group2"
   ]
  },
  {
   "cell_type": "code",
   "execution_count": null,
   "id": "regular-quantum",
   "metadata": {},
   "outputs": [],
   "source": []
  },
  {
   "cell_type": "code",
   "execution_count": 31,
   "id": "perfect-response",
   "metadata": {},
   "outputs": [],
   "source": [
    "text = 'it should be done on the following lines:'"
   ]
  },
  {
   "cell_type": "code",
   "execution_count": 32,
   "id": "abandoned-shopping",
   "metadata": {},
   "outputs": [],
   "source": [
    "import nltk\n",
    "from nltk.corpus import stopwords\n",
    "from nltk.tokenize import word_tokenize \n",
    "\n",
    "stop_words = set(stopwords.words('english')) "
   ]
  },
  {
   "cell_type": "code",
   "execution_count": 33,
   "id": "finite-crawford",
   "metadata": {},
   "outputs": [
    {
     "name": "stdout",
     "output_type": "stream",
     "text": [
      "Original Sentence:\n",
      "\n",
      "it should be done on the following lines :\n",
      "\n",
      "\n",
      "Filtered Sentence:\n",
      "\n",
      "done following lines :\n"
     ]
    }
   ],
   "source": [
    "word_tokens = word_tokenize(text) \n",
    "\n",
    "filtered_sentence = [] \n",
    "\n",
    "for w in word_tokens: \n",
    "    if w not in stop_words: \n",
    "        filtered_sentence.append(w)\n",
    "\n",
    "print(\"Original Sentence:\\n\")\n",
    "print(\" \".join(word_tokens)) \n",
    "\n",
    "print(\"\\n\\nFiltered Sentence:\\n\")\n",
    "print(\" \".join(filtered_sentence)) "
   ]
  },
  {
   "cell_type": "code",
   "execution_count": null,
   "id": "sustained-conclusion",
   "metadata": {},
   "outputs": [],
   "source": []
  },
  {
   "cell_type": "code",
   "execution_count": 34,
   "id": "rocky-signal",
   "metadata": {},
   "outputs": [
    {
     "name": "stdout",
     "output_type": "stream",
     "text": [
      "['it', 'should', 'be', 'done', 'on', 'the', 'following', 'lines', ':']\n",
      "['following', 'lines', ':']\n"
     ]
    }
   ],
   "source": [
    "from spacy.lang.en import English\n",
    "from spacy.lang.en.stop_words import STOP_WORDS\n",
    "\n",
    "nlp = English()\n",
    "my_doc = nlp(text)\n",
    "\n",
    "token_list = []\n",
    "for token in my_doc:\n",
    "    token_list.append(token.text)\n",
    "\n",
    "filtered_sentence =[] \n",
    "\n",
    "for word in token_list:\n",
    "    lexeme = nlp.vocab[word]\n",
    "    if lexeme.is_stop == False:\n",
    "        filtered_sentence.append(word) \n",
    "print(token_list)\n",
    "print(filtered_sentence)  "
   ]
  },
  {
   "cell_type": "code",
   "execution_count": null,
   "id": "loving-lebanon",
   "metadata": {},
   "outputs": [],
   "source": []
  },
  {
   "cell_type": "code",
   "execution_count": 35,
   "id": "supported-moore",
   "metadata": {},
   "outputs": [
    {
     "name": "stdout",
     "output_type": "stream",
     "text": [
      "Filtered Sentence:\n",
      "following lines:\n"
     ]
    }
   ],
   "source": [
    "from gensim.parsing.preprocessing import remove_stopwords\n",
    "\n",
    "# pass the sentence in the remove_stopwords function\n",
    "result = remove_stopwords(text)\n",
    "\n",
    "print('Filtered Sentence:')\n",
    "print(result)"
   ]
  },
  {
   "cell_type": "code",
   "execution_count": null,
   "id": "bridal-singer",
   "metadata": {},
   "outputs": [],
   "source": []
  },
  {
   "cell_type": "markdown",
   "id": "statewide-sphere",
   "metadata": {},
   "source": [
    "Try to find difference between sentences"
   ]
  },
  {
   "cell_type": "code",
   "execution_count": 36,
   "id": "nominated-tyler",
   "metadata": {},
   "outputs": [
    {
     "data": {
      "text/plain": [
       "5            believe the same true many other places too\n",
       "11     they will smash all the trammels that bind the...\n",
       "14                        march their head and lead them\n",
       "16                       stand their way and oppose them\n",
       "17     every chinese free choose but events will forc...\n",
       "19     the first from january september last year was...\n",
       "23     the second period from last october january th...\n",
       "46     committeeman from the provincial capital pleas...\n",
       "49      they say put their names down the other register\n",
       "54     matter what their identity all admit that the ...\n",
       "59               under the impact the views the terrible\n",
       "62     short nobody could altogether deny the word te...\n",
       "68     this marvelous feat never before achieved not ...\n",
       "79     this change now taking place and important fac...\n",
       "81                            the question going too far\n",
       "83               this the opinion the middle the roaders\n",
       "84                         but what the actual situation\n",
       "94     this what some people call going too far excee...\n",
       "110    there revolutionary significance all the actio...\n",
       "112    proper limits have exceeded order right wrong ...\n",
       "Name: sentence2, dtype: object"
      ]
     },
     "execution_count": 36,
     "metadata": {},
     "output_type": "execute_result"
    }
   ],
   "source": [
    "examples = group2.sentence2[:20]\n",
    "examples"
   ]
  },
  {
   "cell_type": "code",
   "execution_count": 37,
   "id": "touched-destruction",
   "metadata": {},
   "outputs": [
    {
     "name": "stdout",
     "output_type": "stream",
     "text": [
      "Original sentence:\n",
      "believe the same true many other places too\n",
      "Filtered Sentence:\n",
      "believe true places\n",
      "\n",
      "Original sentence:\n",
      "they will smash all the trammels that bind them and rush forward along the road liberation\n",
      "Filtered Sentence:\n",
      "smash trammels bind rush forward road liberation\n",
      "\n",
      "Original sentence:\n",
      "march their head and lead them\n",
      "Filtered Sentence:\n",
      "march head lead\n",
      "\n",
      "Original sentence:\n",
      "stand their way and oppose them\n",
      "Filtered Sentence:\n",
      "stand way oppose\n",
      "\n",
      "Original sentence:\n",
      "every chinese free choose but events will force you make the choice quickly\n",
      "Filtered Sentence:\n",
      "chinese free choose events force choice quickly\n",
      "\n",
      "Original sentence:\n",
      "the first from january september last year was one organization\n",
      "Filtered Sentence:\n",
      "january september year organization\n",
      "\n",
      "Original sentence:\n",
      "the second period from last october january this year was one revolutionary action\n",
      "Filtered Sentence:\n",
      "second period october january year revolutionary action\n",
      "\n",
      "Original sentence:\n",
      "committeeman from the provincial capital please sponsor\n",
      "Filtered Sentence:\n",
      "committeeman provincial capital sponsor\n",
      "\n",
      "Original sentence:\n",
      "they say put their names down the other register\n",
      "Filtered Sentence:\n",
      "names register\n",
      "\n",
      "Original sentence:\n",
      "matter what their identity all admit that the world since last october different one\n",
      "Filtered Sentence:\n",
      "matter identity admit world october different\n",
      "\n",
      "Original sentence:\n",
      "under the impact the views the terrible\n",
      "Filtered Sentence:\n",
      "impact views terrible\n",
      "\n",
      "Original sentence:\n",
      "short nobody could altogether deny the word terrible\n",
      "Filtered Sentence:\n",
      "short altogether deny word terrible\n",
      "\n",
      "Original sentence:\n",
      "this marvelous feat never before achieved not just forty but thousands years\n",
      "Filtered Sentence:\n",
      "marvelous feat achieved thousands years\n",
      "\n",
      "Original sentence:\n",
      "this change now taking place and important factor for the completion the revolution\n",
      "Filtered Sentence:\n",
      "change taking place important factor completion revolution\n",
      "\n",
      "Original sentence:\n",
      "the question going too far\n",
      "Filtered Sentence:\n",
      "question going far\n",
      "\n",
      "Original sentence:\n",
      "this the opinion the middle the roaders\n",
      "Filtered Sentence:\n",
      "opinion middle roaders\n",
      "\n",
      "Original sentence:\n",
      "but what the actual situation\n",
      "Filtered Sentence:\n",
      "actual situation\n",
      "\n",
      "Original sentence:\n",
      "this what some people call going too far exceeding the proper limits righting wrong really too much\n",
      "Filtered Sentence:\n",
      "people going far exceeding proper limits righting wrong\n",
      "\n",
      "Original sentence:\n",
      "there revolutionary significance all the actions which were labeled going too far this period\n",
      "Filtered Sentence:\n",
      "revolutionary significance actions labeled going far period\n",
      "\n",
      "Original sentence:\n",
      "proper limits have exceeded order right wrong else the wrong cannot righted\n",
      "Filtered Sentence:\n",
      "proper limits exceeded order right wrong wrong righted\n",
      "\n"
     ]
    }
   ],
   "source": [
    "for sentence in examples:\n",
    "    print('Original sentence:')\n",
    "    print(sentence)\n",
    "    print('Filtered Sentence:')\n",
    "    print(remove_stopwords(sentence))\n",
    "    print()"
   ]
  },
  {
   "cell_type": "code",
   "execution_count": null,
   "id": "virtual-wilson",
   "metadata": {},
   "outputs": [],
   "source": []
  },
  {
   "cell_type": "code",
   "execution_count": 40,
   "id": "rural-trinity",
   "metadata": {},
   "outputs": [
    {
     "name": "stderr",
     "output_type": "stream",
     "text": [
      "/opt/anaconda3/lib/python3.7/site-packages/ipykernel_launcher.py:1: SettingWithCopyWarning: \n",
      "A value is trying to be set on a copy of a slice from a DataFrame.\n",
      "Try using .loc[row_indexer,col_indexer] = value instead\n",
      "\n",
      "See the caveats in the documentation: https://pandas.pydata.org/pandas-docs/stable/user_guide/indexing.html#returning-a-view-versus-a-copy\n",
      "  \"\"\"Entry point for launching an IPython kernel.\n"
     ]
    },
    {
     "data": {
      "text/html": [
       "<div>\n",
       "<style scoped>\n",
       "    .dataframe tbody tr th:only-of-type {\n",
       "        vertical-align: middle;\n",
       "    }\n",
       "\n",
       "    .dataframe tbody tr th {\n",
       "        vertical-align: top;\n",
       "    }\n",
       "\n",
       "    .dataframe thead th {\n",
       "        text-align: right;\n",
       "    }\n",
       "</style>\n",
       "<table border=\"1\" class=\"dataframe\">\n",
       "  <thead>\n",
       "    <tr style=\"text-align: right;\">\n",
       "      <th></th>\n",
       "      <th>mao</th>\n",
       "      <th>sentence2</th>\n",
       "      <th>topic_cluster</th>\n",
       "      <th>sentence3</th>\n",
       "    </tr>\n",
       "  </thead>\n",
       "  <tbody>\n",
       "    <tr>\n",
       "      <th>5</th>\n",
       "      <td>I believe the same is true of many other plac...</td>\n",
       "      <td>believe the same true many other places too</td>\n",
       "      <td>2</td>\n",
       "      <td>believe true places</td>\n",
       "    </tr>\n",
       "    <tr>\n",
       "      <th>11</th>\n",
       "      <td>They will smash all the trammels that bind th...</td>\n",
       "      <td>they will smash all the trammels that bind the...</td>\n",
       "      <td>2</td>\n",
       "      <td>smash trammels bind rush forward road liberation</td>\n",
       "    </tr>\n",
       "    <tr>\n",
       "      <th>14</th>\n",
       "      <td>To march at their head and lead them</td>\n",
       "      <td>march their head and lead them</td>\n",
       "      <td>2</td>\n",
       "      <td>march head lead</td>\n",
       "    </tr>\n",
       "    <tr>\n",
       "      <th>16</th>\n",
       "      <td>Or to stand in their way and oppose them</td>\n",
       "      <td>stand their way and oppose them</td>\n",
       "      <td>2</td>\n",
       "      <td>stand way oppose</td>\n",
       "    </tr>\n",
       "    <tr>\n",
       "      <th>17</th>\n",
       "      <td>Every Chinese is free to choose, but events w...</td>\n",
       "      <td>every chinese free choose but events will forc...</td>\n",
       "      <td>2</td>\n",
       "      <td>chinese free choose events force choice quickly</td>\n",
       "    </tr>\n",
       "  </tbody>\n",
       "</table>\n",
       "</div>"
      ],
      "text/plain": [
       "                                                  mao  \\\n",
       "5    I believe the same is true of many other plac...   \n",
       "11   They will smash all the trammels that bind th...   \n",
       "14               To march at their head and lead them   \n",
       "16           Or to stand in their way and oppose them   \n",
       "17   Every Chinese is free to choose, but events w...   \n",
       "\n",
       "                                            sentence2  topic_cluster  \\\n",
       "5         believe the same true many other places too              2   \n",
       "11  they will smash all the trammels that bind the...              2   \n",
       "14                     march their head and lead them              2   \n",
       "16                    stand their way and oppose them              2   \n",
       "17  every chinese free choose but events will forc...              2   \n",
       "\n",
       "                                           sentence3  \n",
       "5                                believe true places  \n",
       "11  smash trammels bind rush forward road liberation  \n",
       "14                                   march head lead  \n",
       "16                                  stand way oppose  \n",
       "17   chinese free choose events force choice quickly  "
      ]
     },
     "execution_count": 40,
     "metadata": {},
     "output_type": "execute_result"
    }
   ],
   "source": [
    "group2['sentence3'] = group2['sentence2'].apply(lambda x: remove_stopwords(x))\n",
    "group2.head()"
   ]
  },
  {
   "cell_type": "code",
   "execution_count": null,
   "id": "outdoor-transparency",
   "metadata": {},
   "outputs": [],
   "source": []
  },
  {
   "cell_type": "code",
   "execution_count": 55,
   "id": "pressed-allergy",
   "metadata": {},
   "outputs": [],
   "source": [
    "from nltk import word_tokenize \n",
    "from nltk.util import ngrams\n",
    "from collections import Counter"
   ]
  },
  {
   "cell_type": "markdown",
   "id": "advised-hawaii",
   "metadata": {},
   "source": [
    "Create a word list"
   ]
  },
  {
   "cell_type": "code",
   "execution_count": 69,
   "id": "north-elements",
   "metadata": {},
   "outputs": [
    {
     "data": {
      "text/plain": [
       "['believe',\n",
       " 'true',\n",
       " 'places',\n",
       " 'smash',\n",
       " 'trammels',\n",
       " 'bind',\n",
       " 'rush',\n",
       " 'forward',\n",
       " 'road',\n",
       " 'liberation',\n",
       " 'march',\n",
       " 'head',\n",
       " 'lead',\n",
       " 'stand',\n",
       " 'way',\n",
       " 'oppose',\n",
       " 'chinese',\n",
       " 'free',\n",
       " 'choose',\n",
       " 'events']"
      ]
     },
     "execution_count": 69,
     "metadata": {},
     "output_type": "execute_result"
    }
   ],
   "source": [
    "words = []\n",
    "for sentence in group2.sentence3:\n",
    "    for word in sentence.split():\n",
    "        words.append(word)\n",
    "words[:20]"
   ]
  },
  {
   "cell_type": "code",
   "execution_count": 71,
   "id": "architectural-thong",
   "metadata": {},
   "outputs": [
    {
     "data": {
      "text/plain": [
       "1086"
      ]
     },
     "execution_count": 71,
     "metadata": {},
     "output_type": "execute_result"
    }
   ],
   "source": [
    "len(words)"
   ]
  },
  {
   "cell_type": "markdown",
   "id": "legendary-worse",
   "metadata": {},
   "source": [
    "Caculate the most common bigrams, I chose top 10% bigrams"
   ]
  },
  {
   "cell_type": "code",
   "execution_count": 74,
   "id": "pretty-syntax",
   "metadata": {},
   "outputs": [],
   "source": [
    "ngram_counts = Counter(ngrams(words, 2))\n",
    "bigrams = ngram_counts.most_common((int) (len(words)/10))"
   ]
  },
  {
   "cell_type": "code",
   "execution_count": 75,
   "id": "extra-officer",
   "metadata": {},
   "outputs": [
    {
     "data": {
      "text/plain": [
       "108"
      ]
     },
     "execution_count": 75,
     "metadata": {},
     "output_type": "execute_result"
    }
   ],
   "source": [
    "len(bigrams)"
   ]
  },
  {
   "cell_type": "markdown",
   "id": "former-wheat",
   "metadata": {},
   "source": [
    "Convert bigrams to string and store in a list"
   ]
  },
  {
   "cell_type": "code",
   "execution_count": 96,
   "id": "light-battlefield",
   "metadata": {},
   "outputs": [],
   "source": [
    "strings = []\n",
    "for bigram in bigrams:\n",
    "    strings.append(bigram[0][0] + ' ' + bigram[0][1])"
   ]
  },
  {
   "cell_type": "code",
   "execution_count": 97,
   "id": "systematic-pastor",
   "metadata": {},
   "outputs": [
    {
     "data": {
      "text/plain": [
       "['people principles',\n",
       " 'methods correction',\n",
       " 'correction follows',\n",
       " 'central committee',\n",
       " 'going far',\n",
       " 'manifests follows',\n",
       " 'rank file',\n",
       " 'bodies party',\n",
       " 'higher bodies',\n",
       " 'lower bodies',\n",
       " 'party organization',\n",
       " 'second period',\n",
       " 'revolutionary action',\n",
       " 'proper limits',\n",
       " 'general direction',\n",
       " 'tall paper',\n",
       " 'paper hat',\n",
       " 'joint council',\n",
       " 'border area',\n",
       " 'industrial proletariat',\n",
       " 'leading bodies',\n",
       " 'party rank',\n",
       " 'methods carrying',\n",
       " 'disregard organizational',\n",
       " 'organizational discipline',\n",
       " 'minority submit',\n",
       " 'submit majority',\n",
       " 'petty bourgeois',\n",
       " 'method correction',\n",
       " 'letter central',\n",
       " 'masses want',\n",
       " 'want win',\n",
       " 'methods work',\n",
       " 'problem methods',\n",
       " 'believe true',\n",
       " 'true places',\n",
       " 'places smash',\n",
       " 'smash trammels',\n",
       " 'trammels bind',\n",
       " 'bind rush',\n",
       " 'rush forward',\n",
       " 'forward road',\n",
       " 'road liberation',\n",
       " 'liberation march',\n",
       " 'march head',\n",
       " 'head lead',\n",
       " 'lead stand',\n",
       " 'stand way',\n",
       " 'way oppose',\n",
       " 'oppose chinese',\n",
       " 'chinese free',\n",
       " 'free choose',\n",
       " 'choose events',\n",
       " 'events force',\n",
       " 'force choice',\n",
       " 'choice quickly',\n",
       " 'quickly january',\n",
       " 'january september',\n",
       " 'september year',\n",
       " 'year organization',\n",
       " 'organization second',\n",
       " 'period october',\n",
       " 'october january',\n",
       " 'january year',\n",
       " 'year revolutionary',\n",
       " 'action committeeman',\n",
       " 'committeeman provincial',\n",
       " 'provincial capital',\n",
       " 'capital sponsor',\n",
       " 'sponsor names',\n",
       " 'names register',\n",
       " 'register matter',\n",
       " 'matter identity',\n",
       " 'identity admit',\n",
       " 'admit world',\n",
       " 'world october',\n",
       " 'october different',\n",
       " 'different impact',\n",
       " 'impact views',\n",
       " 'views terrible',\n",
       " 'terrible short',\n",
       " 'short altogether',\n",
       " 'altogether deny',\n",
       " 'deny word',\n",
       " 'word terrible',\n",
       " 'terrible marvelous',\n",
       " 'marvelous feat',\n",
       " 'feat achieved',\n",
       " 'achieved thousands',\n",
       " 'thousands years',\n",
       " 'years change',\n",
       " 'change taking',\n",
       " 'taking place',\n",
       " 'place important',\n",
       " 'important factor',\n",
       " 'factor completion',\n",
       " 'completion revolution',\n",
       " 'revolution question',\n",
       " 'question going',\n",
       " 'far opinion',\n",
       " 'opinion middle',\n",
       " 'middle roaders',\n",
       " 'roaders actual',\n",
       " 'actual situation',\n",
       " 'situation people',\n",
       " 'people going',\n",
       " 'far exceeding',\n",
       " 'exceeding proper']"
      ]
     },
     "execution_count": 97,
     "metadata": {},
     "output_type": "execute_result"
    }
   ],
   "source": [
    "strings"
   ]
  },
  {
   "cell_type": "code",
   "execution_count": 85,
   "id": "confident-hardwood",
   "metadata": {},
   "outputs": [
    {
     "data": {
      "text/html": [
       "<div>\n",
       "<style scoped>\n",
       "    .dataframe tbody tr th:only-of-type {\n",
       "        vertical-align: middle;\n",
       "    }\n",
       "\n",
       "    .dataframe tbody tr th {\n",
       "        vertical-align: top;\n",
       "    }\n",
       "\n",
       "    .dataframe thead th {\n",
       "        text-align: right;\n",
       "    }\n",
       "</style>\n",
       "<table border=\"1\" class=\"dataframe\">\n",
       "  <thead>\n",
       "    <tr style=\"text-align: right;\">\n",
       "      <th></th>\n",
       "      <th>mao</th>\n",
       "      <th>sentence2</th>\n",
       "      <th>topic_cluster</th>\n",
       "      <th>sentence3</th>\n",
       "    </tr>\n",
       "  </thead>\n",
       "  <tbody>\n",
       "    <tr>\n",
       "      <th>0</th>\n",
       "      <td>I believe the same is true of many other plac...</td>\n",
       "      <td>believe the same true many other places too</td>\n",
       "      <td>2</td>\n",
       "      <td>believe true places</td>\n",
       "    </tr>\n",
       "    <tr>\n",
       "      <th>1</th>\n",
       "      <td>They will smash all the trammels that bind th...</td>\n",
       "      <td>they will smash all the trammels that bind the...</td>\n",
       "      <td>2</td>\n",
       "      <td>smash trammels bind rush forward road liberation</td>\n",
       "    </tr>\n",
       "    <tr>\n",
       "      <th>2</th>\n",
       "      <td>To march at their head and lead them</td>\n",
       "      <td>march their head and lead them</td>\n",
       "      <td>2</td>\n",
       "      <td>march head lead</td>\n",
       "    </tr>\n",
       "    <tr>\n",
       "      <th>3</th>\n",
       "      <td>Or to stand in their way and oppose them</td>\n",
       "      <td>stand their way and oppose them</td>\n",
       "      <td>2</td>\n",
       "      <td>stand way oppose</td>\n",
       "    </tr>\n",
       "    <tr>\n",
       "      <th>4</th>\n",
       "      <td>Every Chinese is free to choose, but events w...</td>\n",
       "      <td>every chinese free choose but events will forc...</td>\n",
       "      <td>2</td>\n",
       "      <td>chinese free choose events force choice quickly</td>\n",
       "    </tr>\n",
       "  </tbody>\n",
       "</table>\n",
       "</div>"
      ],
      "text/plain": [
       "                                                 mao  \\\n",
       "0   I believe the same is true of many other plac...   \n",
       "1   They will smash all the trammels that bind th...   \n",
       "2               To march at their head and lead them   \n",
       "3           Or to stand in their way and oppose them   \n",
       "4   Every Chinese is free to choose, but events w...   \n",
       "\n",
       "                                           sentence2  topic_cluster  \\\n",
       "0        believe the same true many other places too              2   \n",
       "1  they will smash all the trammels that bind the...              2   \n",
       "2                     march their head and lead them              2   \n",
       "3                    stand their way and oppose them              2   \n",
       "4  every chinese free choose but events will forc...              2   \n",
       "\n",
       "                                          sentence3  \n",
       "0                               believe true places  \n",
       "1  smash trammels bind rush forward road liberation  \n",
       "2                                   march head lead  \n",
       "3                                  stand way oppose  \n",
       "4   chinese free choose events force choice quickly  "
      ]
     },
     "execution_count": 85,
     "metadata": {},
     "output_type": "execute_result"
    }
   ],
   "source": [
    "group2 = group2.reset_index(drop=True)\n",
    "group2.head()"
   ]
  },
  {
   "cell_type": "code",
   "execution_count": 93,
   "id": "invisible-plaza",
   "metadata": {},
   "outputs": [],
   "source": [
    "group2_filter = pd.DataFrame(columns = ['mao','sentence2','topic_cluster','sentence3'])"
   ]
  },
  {
   "cell_type": "markdown",
   "id": "starting-friday",
   "metadata": {},
   "source": [
    "Pick rows which contains top 10% bigrams"
   ]
  },
  {
   "cell_type": "code",
   "execution_count": 98,
   "id": "destroyed-defense",
   "metadata": {},
   "outputs": [],
   "source": [
    "for index, row in group2.iterrows():\n",
    "    for bigram in strings:\n",
    "        if bigram in row.sentence3:\n",
    "            group2_filter = group2_filter.append(group2.iloc[index,:])\n",
    "            break"
   ]
  },
  {
   "cell_type": "code",
   "execution_count": 99,
   "id": "mounted-tractor",
   "metadata": {},
   "outputs": [
    {
     "data": {
      "text/html": [
       "<div>\n",
       "<style scoped>\n",
       "    .dataframe tbody tr th:only-of-type {\n",
       "        vertical-align: middle;\n",
       "    }\n",
       "\n",
       "    .dataframe tbody tr th {\n",
       "        vertical-align: top;\n",
       "    }\n",
       "\n",
       "    .dataframe thead th {\n",
       "        text-align: right;\n",
       "    }\n",
       "</style>\n",
       "<table border=\"1\" class=\"dataframe\">\n",
       "  <thead>\n",
       "    <tr style=\"text-align: right;\">\n",
       "      <th></th>\n",
       "      <th>mao</th>\n",
       "      <th>sentence2</th>\n",
       "      <th>topic_cluster</th>\n",
       "      <th>sentence3</th>\n",
       "    </tr>\n",
       "  </thead>\n",
       "  <tbody>\n",
       "    <tr>\n",
       "      <th>0</th>\n",
       "      <td>I believe the same is true of many other plac...</td>\n",
       "      <td>believe the same true many other places too</td>\n",
       "      <td>2</td>\n",
       "      <td>believe true places</td>\n",
       "    </tr>\n",
       "    <tr>\n",
       "      <th>1</th>\n",
       "      <td>They will smash all the trammels that bind th...</td>\n",
       "      <td>they will smash all the trammels that bind the...</td>\n",
       "      <td>2</td>\n",
       "      <td>smash trammels bind rush forward road liberation</td>\n",
       "    </tr>\n",
       "    <tr>\n",
       "      <th>2</th>\n",
       "      <td>To march at their head and lead them</td>\n",
       "      <td>march their head and lead them</td>\n",
       "      <td>2</td>\n",
       "      <td>march head lead</td>\n",
       "    </tr>\n",
       "    <tr>\n",
       "      <th>3</th>\n",
       "      <td>Or to stand in their way and oppose them</td>\n",
       "      <td>stand their way and oppose them</td>\n",
       "      <td>2</td>\n",
       "      <td>stand way oppose</td>\n",
       "    </tr>\n",
       "    <tr>\n",
       "      <th>4</th>\n",
       "      <td>Every Chinese is free to choose, but events w...</td>\n",
       "      <td>every chinese free choose but events will forc...</td>\n",
       "      <td>2</td>\n",
       "      <td>chinese free choose events force choice quickly</td>\n",
       "    </tr>\n",
       "    <tr>\n",
       "      <th>...</th>\n",
       "      <td>...</td>\n",
       "      <td>...</td>\n",
       "      <td>...</td>\n",
       "      <td>...</td>\n",
       "    </tr>\n",
       "    <tr>\n",
       "      <th>166</th>\n",
       "      <td>If we want to win, we must do a great deal more</td>\n",
       "      <td>want win must great deal more</td>\n",
       "      <td>2</td>\n",
       "      <td>want win great deal</td>\n",
       "    </tr>\n",
       "    <tr>\n",
       "      <th>183</th>\n",
       "      <td>Do we want to win the support of the masses</td>\n",
       "      <td>want win the support the masses</td>\n",
       "      <td>2</td>\n",
       "      <td>want win support masses</td>\n",
       "    </tr>\n",
       "    <tr>\n",
       "      <th>188</th>\n",
       "      <td>The second question concerns our methods of work</td>\n",
       "      <td>the second question concerns our methods work</td>\n",
       "      <td>2</td>\n",
       "      <td>second question concerns methods work</td>\n",
       "    </tr>\n",
       "    <tr>\n",
       "      <th>189</th>\n",
       "      <td>In this respect, we are faced with the seriou...</td>\n",
       "      <td>this respect are faced with the serious proble...</td>\n",
       "      <td>2</td>\n",
       "      <td>respect faced problem methods work</td>\n",
       "    </tr>\n",
       "    <tr>\n",
       "      <th>190</th>\n",
       "      <td>It is not enough to set tasks, we must also s...</td>\n",
       "      <td>not enough set tasks must also solve the probl...</td>\n",
       "      <td>2</td>\n",
       "      <td>set tasks solve problem methods carrying</td>\n",
       "    </tr>\n",
       "  </tbody>\n",
       "</table>\n",
       "<p>66 rows × 4 columns</p>\n",
       "</div>"
      ],
      "text/plain": [
       "                                                   mao  \\\n",
       "0     I believe the same is true of many other plac...   \n",
       "1     They will smash all the trammels that bind th...   \n",
       "2                 To march at their head and lead them   \n",
       "3             Or to stand in their way and oppose them   \n",
       "4     Every Chinese is free to choose, but events w...   \n",
       "..                                                 ...   \n",
       "166    If we want to win, we must do a great deal more   \n",
       "183        Do we want to win the support of the masses   \n",
       "188   The second question concerns our methods of work   \n",
       "189   In this respect, we are faced with the seriou...   \n",
       "190   It is not enough to set tasks, we must also s...   \n",
       "\n",
       "                                             sentence2 topic_cluster  \\\n",
       "0          believe the same true many other places too             2   \n",
       "1    they will smash all the trammels that bind the...             2   \n",
       "2                       march their head and lead them             2   \n",
       "3                      stand their way and oppose them             2   \n",
       "4    every chinese free choose but events will forc...             2   \n",
       "..                                                 ...           ...   \n",
       "166                      want win must great deal more             2   \n",
       "183                    want win the support the masses             2   \n",
       "188      the second question concerns our methods work             2   \n",
       "189  this respect are faced with the serious proble...             2   \n",
       "190  not enough set tasks must also solve the probl...             2   \n",
       "\n",
       "                                            sentence3  \n",
       "0                                 believe true places  \n",
       "1    smash trammels bind rush forward road liberation  \n",
       "2                                     march head lead  \n",
       "3                                    stand way oppose  \n",
       "4     chinese free choose events force choice quickly  \n",
       "..                                                ...  \n",
       "166                               want win great deal  \n",
       "183                           want win support masses  \n",
       "188             second question concerns methods work  \n",
       "189                respect faced problem methods work  \n",
       "190          set tasks solve problem methods carrying  \n",
       "\n",
       "[66 rows x 4 columns]"
      ]
     },
     "execution_count": 99,
     "metadata": {},
     "output_type": "execute_result"
    }
   ],
   "source": [
    "group2_filter"
   ]
  },
  {
   "cell_type": "code",
   "execution_count": 105,
   "id": "severe-indiana",
   "metadata": {},
   "outputs": [],
   "source": [
    "group2_filter = group2_filter.reset_index(drop=True)"
   ]
  },
  {
   "cell_type": "markdown",
   "id": "jewish-saint",
   "metadata": {},
   "source": [
    "Select the vector which is cloest to group center"
   ]
  },
  {
   "cell_type": "code",
   "execution_count": 107,
   "id": "solid-harvest",
   "metadata": {},
   "outputs": [],
   "source": [
    "def select_center_sentence(group_id):\n",
    "    distance =[]\n",
    "    # get one group sentence embeddings\n",
    "    group_sentence_embeddings = model.encode(group2_filter.sentence3)\n",
    "\n",
    "    for sentence in group_sentence_embeddings:\n",
    "        dis = 0\n",
    "        for index in range(len(sentence)):\n",
    "            # calculate the distance between this sentence and group center\n",
    "            dis = dis + (sentence[index] - centers[group_id][index])**2\n",
    "        distance.append(dis)\n",
    "    \n",
    "    # get the min distance's index\n",
    "    min_index = distance.index(min(distance))\n",
    "    return group2_filter.mao[min_index]"
   ]
  },
  {
   "cell_type": "code",
   "execution_count": 108,
   "id": "difficult-taste",
   "metadata": {},
   "outputs": [
    {
     "name": "stdout",
     "output_type": "stream",
     "text": [
      " Since then, however, the appraisals and directives of the Central Committee have in the main been correct\n"
     ]
    }
   ],
   "source": [
    "print(select_center_sentence(2))"
   ]
  },
  {
   "cell_type": "code",
   "execution_count": null,
   "id": "saving-smoke",
   "metadata": {},
   "outputs": [],
   "source": []
  },
  {
   "cell_type": "markdown",
   "id": "placed-edward",
   "metadata": {},
   "source": [
    "write above process into a function, and apply it to other groups"
   ]
  },
  {
   "cell_type": "code",
   "execution_count": 121,
   "id": "elementary-sweden",
   "metadata": {},
   "outputs": [],
   "source": [
    "def bigram_based_filter(group_id):\n",
    "    group = df.loc[df['topic_cluster'] == group_id]\n",
    "    group['sentence3'] = group['sentence2'].apply(lambda x: remove_stopwords(x))\n",
    "    words = []\n",
    "    \n",
    "    #get word list\n",
    "    for sentence in group.sentence3:\n",
    "        for word in sentence.split():\n",
    "            words.append(word)\n",
    "            \n",
    "    # get 10% most common bigrams\n",
    "    ngram_counts = Counter(ngrams(words, 2))\n",
    "    bigrams = ngram_counts.most_common((int) (len(words)/10))\n",
    "    \n",
    "    # convert bigrams into a string and store in a list\n",
    "    strings = []\n",
    "    for bigram in bigrams:\n",
    "        strings.append(bigram[0][0] + ' ' + bigram[0][1])\n",
    "        \n",
    "    group = group.reset_index(drop=True)\n",
    "    group_filter = pd.DataFrame(columns = ['mao','sentence2','topic_cluster','sentence3'])\n",
    "    \n",
    "    for index, row in group.iterrows():\n",
    "        for bigram in strings:\n",
    "            if bigram in row.sentence3:\n",
    "                group_filter = group_filter.append(group.iloc[index,:])\n",
    "                break\n",
    "    \n",
    "    group_filter = group_filter.reset_index(drop=True)\n",
    "    \n",
    "    distance =[]\n",
    "    # get one group sentence embeddings\n",
    "    group_sentence_embeddings = model.encode(group_filter.sentence3)\n",
    "\n",
    "    for sentence in group_sentence_embeddings:\n",
    "        dis = 0\n",
    "        for index in range(len(sentence)):\n",
    "            # calculate the distance between this sentence and group center\n",
    "            dis = dis + (sentence[index] - centers[group_id][index])**2\n",
    "        distance.append(dis)\n",
    "    \n",
    "    # get the min distance's index\n",
    "    min_index = distance.index(min(distance))\n",
    "    return group_filter.mao[min_index]"
   ]
  },
  {
   "cell_type": "code",
   "execution_count": 122,
   "id": "communist-growth",
   "metadata": {},
   "outputs": [
    {
     "data": {
      "text/plain": [
       "' The most one can call these is \"an unhealthy minority\", and we must not echo the local tyrants and evil gentry in undiscriminatingly condemning them as \"riffraff\"'"
      ]
     },
     "execution_count": 122,
     "metadata": {},
     "output_type": "execute_result"
    }
   ],
   "source": [
    "bigram_based_filter(0)"
   ]
  },
  {
   "cell_type": "markdown",
   "id": "opening-mitchell",
   "metadata": {},
   "source": [
    "'\" This opinion comes to the same thing as what the right-wingers are saying; according to both it is all right to have a peasant movement (the movement is already in being and no one dare say otherwise), but they say that the people running it are no good and they particularly hate those in charge of the associations at the lower levels, calling them \"riffraff\"'"
   ]
  },
  {
   "cell_type": "code",
   "execution_count": 123,
   "id": "naked-avenue",
   "metadata": {},
   "outputs": [
    {
     "data": {
      "text/plain": [
       "'That county government cannot be clean until the peasants rise up was proved some time ago in Haifeng, Kwangtung Province'"
      ]
     },
     "execution_count": 123,
     "metadata": {},
     "output_type": "execute_result"
    }
   ],
   "source": [
    "bigram_based_filter(1)"
   ]
  },
  {
   "cell_type": "markdown",
   "id": "damaged-portfolio",
   "metadata": {},
   "source": [
    "' Again, when we captured Yunghsin for the third time, we once more divided our forces by dispatching the 28th Regiment to the border of Anfu County, the 29th to Lienhua, and the 31st to the border of Kian County'"
   ]
  },
  {
   "cell_type": "code",
   "execution_count": 124,
   "id": "operating-panama",
   "metadata": {},
   "outputs": [
    {
     "data": {
      "text/plain": [
       "' Since then, however, the appraisals and directives of the Central Committee have in the main been correct'"
      ]
     },
     "execution_count": 124,
     "metadata": {},
     "output_type": "execute_result"
    }
   ],
   "source": [
    "bigram_based_filter(2)"
   ]
  },
  {
   "cell_type": "markdown",
   "id": "architectural-samoa",
   "metadata": {},
   "source": [
    "' It should be done on the following lines:'"
   ]
  },
  {
   "cell_type": "code",
   "execution_count": 125,
   "id": "cubic-scott",
   "metadata": {},
   "outputs": [
    {
     "data": {
      "text/plain": [
       "' The less destitute, [13] the other 50 per cent, are the partially dispossessed, that is, people with just a little land or a little money who eat up more than they earn and live in toil and distress the year round, such as the handicraftsmen, the tenant-peasants (not including the rich tenant-peasants) and the semi-owner-peasants'"
      ]
     },
     "execution_count": 125,
     "metadata": {},
     "output_type": "execute_result"
    }
   ],
   "source": [
    "bigram_based_filter(3)"
   ]
  },
  {
   "cell_type": "markdown",
   "id": "historical-minority",
   "metadata": {},
   "source": [
    "' Because of the growth in government taxation, the rise in rent and interest demanded by the landlords and the daily spread of the disasters of war, there are famine and banditry everywhere and the peasant masses and the urban poor can hardly keep alive'"
   ]
  },
  {
   "cell_type": "code",
   "execution_count": 126,
   "id": "lasting-pakistan",
   "metadata": {},
   "outputs": [
    {
     "data": {
      "text/plain": [
       "' In counties where the peasant power was very strong, the word of the peasant association worked miracles'"
      ]
     },
     "execution_count": 126,
     "metadata": {},
     "output_type": "execute_result"
    }
   ],
   "source": [
    "bigram_based_filter(4)"
   ]
  },
  {
   "cell_type": "markdown",
   "id": "billion-praise",
   "metadata": {},
   "source": [
    "'ALL POWER TO THE PEASANT ASSOCIATIONS'"
   ]
  },
  {
   "cell_type": "code",
   "execution_count": 127,
   "id": "suitable-sherman",
   "metadata": {},
   "outputs": [
    {
     "data": {
      "text/plain": [
       "' It was necessary to forbid malicious criticism of the peasant associations'"
      ]
     },
     "execution_count": 127,
     "metadata": {},
     "output_type": "execute_result"
    }
   ],
   "source": [
    "bigram_based_filter(5)"
   ]
  },
  {
   "cell_type": "markdown",
   "id": "threatened-conditioning",
   "metadata": {},
   "source": [
    "' It was necessary to forbid malicious criticism of the peasant associations'"
   ]
  },
  {
   "cell_type": "code",
   "execution_count": 128,
   "id": "considerable-morocco",
   "metadata": {},
   "outputs": [
    {
     "data": {
      "text/plain": [
       "\" Especially at present, the Red Army should certainly not confine itself to fighting; besides fighting to destroy the enemy's military strength, it should shoulder such important tasks as doing propaganda among the masses, organizing the masses, arming them, helping them to establish revolutionary political power and setting up Party organizations\""
      ]
     },
     "execution_count": 128,
     "metadata": {},
     "output_type": "execute_result"
    }
   ],
   "source": [
    "bigram_based_filter(6)"
   ]
  },
  {
   "cell_type": "markdown",
   "id": "surprising-heather",
   "metadata": {},
   "source": [
    "' The prolonged splits and wars within the White regime provide a condition for the emergence and persistence of one or more small Red areas under the leadership of the Communist Party amidst the encirclement of the White regime'"
   ]
  }
 ],
 "metadata": {
  "kernelspec": {
   "display_name": "Python 3",
   "language": "python",
   "name": "python3"
  },
  "language_info": {
   "codemirror_mode": {
    "name": "ipython",
    "version": 3
   },
   "file_extension": ".py",
   "mimetype": "text/x-python",
   "name": "python",
   "nbconvert_exporter": "python",
   "pygments_lexer": "ipython3",
   "version": "3.7.4"
  }
 },
 "nbformat": 4,
 "nbformat_minor": 5
}
