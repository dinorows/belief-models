{
 "cells": [
  {
   "cell_type": "markdown",
   "id": "hearing-capture",
   "metadata": {},
   "source": [
    "# EDA"
   ]
  },
  {
   "cell_type": "code",
   "execution_count": 117,
   "id": "accompanied-chile",
   "metadata": {},
   "outputs": [
    {
     "name": "stdout",
     "output_type": "stream",
     "text": [
      "../mao/REPORT ON AN INVESTIGATION OF THE PEASANT MOVEMENT IN HUNAN.txt\n",
      "../mao/WHY IS IT THAT RED POLITICAL POWER CAN EXIST IN CHINA.txt\n",
      "../mao/ANALYSIS OF THE CLASSES IN CHINESE SOCIETY.txt\n",
      "../mao/ON CORRECTING MISTAKEN IDEAS IN THE PARTY.txt\n",
      "../mao/A SINGLE SPARK CAN START A PRAIRIE FIRE.txt\n",
      "../mao/BE CONCERNED WITH THE WELL-BEING OF THE MASSES, PAY ATTENTION TO METHODS OF WORK.txt\n",
      "1702\n",
      "THE IMPORTANCE OF THE PEASANT PROBLEM\n"
     ]
    }
   ],
   "source": [
    "import os\n",
    "mao_sentences = []\n",
    "for root, dirs, files in os.walk(\"../mao\"):\n",
    "    for file in files:\n",
    "        if file.endswith(\".txt\"):\n",
    "            print(os.path.join(root, file))\n",
    "            with open(os.path.join(root, file), \"r\") as input:\n",
    "                sentences = input.read().replace('?','.').replace('!','.').replace('\\n','.')\n",
    "                sentences = sentences.split(\".\")   #. denotes end of sentence\n",
    "            mao_sentences.extend(sentences)\n",
    "            \n",
    "print(len(mao_sentences))\n",
    "print(mao_sentences[0])"
   ]
  },
  {
   "cell_type": "code",
   "execution_count": 118,
   "id": "hourly-corpus",
   "metadata": {},
   "outputs": [
    {
     "data": {
      "text/html": [
       "<div>\n",
       "<style scoped>\n",
       "    .dataframe tbody tr th:only-of-type {\n",
       "        vertical-align: middle;\n",
       "    }\n",
       "\n",
       "    .dataframe tbody tr th {\n",
       "        vertical-align: top;\n",
       "    }\n",
       "\n",
       "    .dataframe thead th {\n",
       "        text-align: right;\n",
       "    }\n",
       "</style>\n",
       "<table border=\"1\" class=\"dataframe\">\n",
       "  <thead>\n",
       "    <tr style=\"text-align: right;\">\n",
       "      <th></th>\n",
       "      <th>Sentence</th>\n",
       "    </tr>\n",
       "  </thead>\n",
       "  <tbody>\n",
       "    <tr>\n",
       "      <th>0</th>\n",
       "      <td>THE IMPORTANCE OF THE PEASANT PROBLEM</td>\n",
       "    </tr>\n",
       "    <tr>\n",
       "      <th>1</th>\n",
       "      <td>During my recent visit to Hunan [1] I made a f...</td>\n",
       "    </tr>\n",
       "    <tr>\n",
       "      <th>2</th>\n",
       "      <td>In the thirty-two days from January 4 to Febr...</td>\n",
       "    </tr>\n",
       "    <tr>\n",
       "      <th>3</th>\n",
       "      <td>Many of the hows and whys of the peasant move...</td>\n",
       "    </tr>\n",
       "    <tr>\n",
       "      <th>4</th>\n",
       "      <td>I saw and heard of many strange things of whi...</td>\n",
       "    </tr>\n",
       "  </tbody>\n",
       "</table>\n",
       "</div>"
      ],
      "text/plain": [
       "                                            Sentence\n",
       "0              THE IMPORTANCE OF THE PEASANT PROBLEM\n",
       "1  During my recent visit to Hunan [1] I made a f...\n",
       "2   In the thirty-two days from January 4 to Febr...\n",
       "3   Many of the hows and whys of the peasant move...\n",
       "4   I saw and heard of many strange things of whi..."
      ]
     },
     "execution_count": 118,
     "metadata": {},
     "output_type": "execute_result"
    }
   ],
   "source": [
    "import numpy as np\n",
    "import pandas as pd\n",
    "import numpy as np\n",
    "import pandas as pd\n",
    "import seaborn as sns\n",
    "import matplotlib.pyplot as plt\n",
    "from sklearn.feature_extraction.text import CountVectorizer\n",
    "from sklearn.feature_extraction.text import TfidfVectorizer\n",
    "\n",
    "mao_df = pd.DataFrame(mao_sentences, columns = ['Sentence'])\n",
    "mao_df.head()"
   ]
  },
  {
   "cell_type": "code",
   "execution_count": 119,
   "id": "indoor-tomato",
   "metadata": {},
   "outputs": [
    {
     "data": {
      "text/plain": [
       "Text(0.5, 1.0, 'Distribution of number of words in each sentence')"
      ]
     },
     "execution_count": 119,
     "metadata": {},
     "output_type": "execute_result"
    },
    {
     "data": {
      "image/png": "[encoded data removed]",
      "text/plain": [
       "<Figure size 864x432 with 1 Axes>"
      ]
     },
     "metadata": {
      "needs_background": "light"
     },
     "output_type": "display_data"
    }
   ],
   "source": [
    "mao_df['NumWords'] = mao_df['Sentence'].apply(lambda x: len(x.split()))\n",
    "mao_df[['NumWords']].hist(figsize=(12, 6), bins=10, xlabelsize=8, ylabelsize=8);\n",
    "plt.title(\"Distribution of number of words in each sentence\")"
   ]
  },
  {
   "cell_type": "markdown",
   "id": "outdoor-segment",
   "metadata": {},
   "source": [
    "Let's do some cleaning operations like turning all words to lowercase, remove punctuation and non-ASCII characters which are irrelevant for modeling topics."
   ]
  },
  {
   "cell_type": "code",
   "execution_count": 120,
   "id": "considerable-ferry",
   "metadata": {},
   "outputs": [],
   "source": [
    "import re\n",
    "NON_ALPHANUM = re.compile(r'[\\W]')\n",
    "NON_ASCII = re.compile(r'[^a-z0-1\\s]')\n",
    "def normalize_texts(texts):\n",
    "    normalized_texts = ''\n",
    "    lower = texts.lower()\n",
    "    no_punctuation = NON_ALPHANUM.sub(r' ', lower)\n",
    "    no_non_ascii = NON_ASCII.sub(r'', no_punctuation)\n",
    "    return no_non_ascii\n",
    "  \n",
    "mao_df['Sentence2'] = mao_df['Sentence'].apply(normalize_texts)\n",
    "mao_df.head()\n",
    "mao_df['Sentence2'] = mao_df['Sentence2'].apply(lambda x: ' '.join([w for w in x.split() if len(w)>2]))"
   ]
  },
  {
   "cell_type": "code",
   "execution_count": 121,
   "id": "wrong-charles",
   "metadata": {},
   "outputs": [
    {
     "data": {
      "image/png": "[encoded data removed]",
      "text/plain": [
       "<Figure size 1152x576 with 1 Axes>"
      ]
     },
     "metadata": {
      "needs_background": "light"
     },
     "output_type": "display_data"
    }
   ],
   "source": [
    "def get_top_n_words(corpus, n=10):\n",
    "    vec = CountVectorizer(stop_words='english').fit(corpus)\n",
    "    bag_of_words = vec.transform(corpus)\n",
    "    sum_words = bag_of_words.sum(axis=0) \n",
    "    words_freq = [(word, sum_words[0, idx]) for word, idx in   vec.vocabulary_.items()]\n",
    "    words_freq =sorted(words_freq, key = lambda x: x[1], reverse=True)\n",
    "    return words_freq[:n]\n",
    "\n",
    "words = []\n",
    "word_values = []\n",
    "for i,j in get_top_n_words(mao_df['Sentence2'], 30):\n",
    "    words.append(i)\n",
    "    word_values.append(j)\n",
    "fig, ax = plt.subplots(figsize=(16,8))\n",
    "ax.bar(range(len(words)), word_values);\n",
    "ax.set_xticks(range(len(words)));\n",
    "ax.set_xticklabels(words, rotation='vertical');\n",
    "ax.set_title(\"Mao's top 30 words\");\n",
    "ax.set_xlabel('Word');\n",
    "ax.set_ylabel('Number of occurences');\n",
    "plt.show()"
   ]
  },
  {
   "cell_type": "code",
   "execution_count": 159,
   "id": "liked-beads",
   "metadata": {},
   "outputs": [
    {
     "data": {
      "text/html": [
       "<div>\n",
       "<style scoped>\n",
       "    .dataframe tbody tr th:only-of-type {\n",
       "        vertical-align: middle;\n",
       "    }\n",
       "\n",
       "    .dataframe tbody tr th {\n",
       "        vertical-align: top;\n",
       "    }\n",
       "\n",
       "    .dataframe thead th {\n",
       "        text-align: right;\n",
       "    }\n",
       "</style>\n",
       "<table border=\"1\" class=\"dataframe\">\n",
       "  <thead>\n",
       "    <tr style=\"text-align: right;\">\n",
       "      <th></th>\n",
       "      <th>Sentence</th>\n",
       "      <th>NumWords</th>\n",
       "      <th>Sentence2</th>\n",
       "    </tr>\n",
       "  </thead>\n",
       "  <tbody>\n",
       "    <tr>\n",
       "      <th>0</th>\n",
       "      <td>THE IMPORTANCE OF THE PEASANT PROBLEM</td>\n",
       "      <td>6</td>\n",
       "      <td>the importance the peasant problem</td>\n",
       "    </tr>\n",
       "    <tr>\n",
       "      <th>1</th>\n",
       "      <td>During my recent visit to Hunan [1] I made a f...</td>\n",
       "      <td>25</td>\n",
       "      <td>during recent visit hunan made first hand inve...</td>\n",
       "    </tr>\n",
       "    <tr>\n",
       "      <th>2</th>\n",
       "      <td>In the thirty-two days from January 4 to Febr...</td>\n",
       "      <td>48</td>\n",
       "      <td>the thirty two days from january february call...</td>\n",
       "    </tr>\n",
       "    <tr>\n",
       "      <th>3</th>\n",
       "      <td>Many of the hows and whys of the peasant move...</td>\n",
       "      <td>24</td>\n",
       "      <td>many the hows and whys the peasant movement we...</td>\n",
       "    </tr>\n",
       "    <tr>\n",
       "      <th>4</th>\n",
       "      <td>I saw and heard of many strange things of whi...</td>\n",
       "      <td>15</td>\n",
       "      <td>saw and heard many strange things which had hi...</td>\n",
       "    </tr>\n",
       "  </tbody>\n",
       "</table>\n",
       "</div>"
      ],
      "text/plain": [
       "                                            Sentence  NumWords  \\\n",
       "0              THE IMPORTANCE OF THE PEASANT PROBLEM         6   \n",
       "1  During my recent visit to Hunan [1] I made a f...        25   \n",
       "2   In the thirty-two days from January 4 to Febr...        48   \n",
       "3   Many of the hows and whys of the peasant move...        24   \n",
       "4   I saw and heard of many strange things of whi...        15   \n",
       "\n",
       "                                           Sentence2  \n",
       "0                 the importance the peasant problem  \n",
       "1  during recent visit hunan made first hand inve...  \n",
       "2  the thirty two days from january february call...  \n",
       "3  many the hows and whys the peasant movement we...  \n",
       "4  saw and heard many strange things which had hi...  "
      ]
     },
     "execution_count": 159,
     "metadata": {},
     "output_type": "execute_result"
    }
   ],
   "source": [
    "mao_df.head()"
   ]
  },
  {
   "cell_type": "markdown",
   "id": "adverse-helmet",
   "metadata": {},
   "source": [
    "Remove short sentence"
   ]
  },
  {
   "cell_type": "code",
   "execution_count": 131,
   "id": "retired-biodiversity",
   "metadata": {},
   "outputs": [
    {
     "data": {
      "text/html": [
       "<div>\n",
       "<style scoped>\n",
       "    .dataframe tbody tr th:only-of-type {\n",
       "        vertical-align: middle;\n",
       "    }\n",
       "\n",
       "    .dataframe tbody tr th {\n",
       "        vertical-align: top;\n",
       "    }\n",
       "\n",
       "    .dataframe thead th {\n",
       "        text-align: right;\n",
       "    }\n",
       "</style>\n",
       "<table border=\"1\" class=\"dataframe\">\n",
       "  <thead>\n",
       "    <tr style=\"text-align: right;\">\n",
       "      <th></th>\n",
       "      <th>Sentence</th>\n",
       "      <th>NumWords</th>\n",
       "      <th>Sentence2</th>\n",
       "    </tr>\n",
       "  </thead>\n",
       "  <tbody>\n",
       "    <tr>\n",
       "      <th>14</th>\n",
       "      <td>There are three alternatives</td>\n",
       "      <td>4</td>\n",
       "      <td>there are three alternatives</td>\n",
       "    </tr>\n",
       "    <tr>\n",
       "      <th>21</th>\n",
       "      <td>GET ORGANIZED</td>\n",
       "      <td>2</td>\n",
       "      <td>get organized</td>\n",
       "    </tr>\n",
       "    <tr>\n",
       "      <th>53</th>\n",
       "      <td>\"Here's ten yuan</td>\n",
       "      <td>3</td>\n",
       "      <td>here ten yuan</td>\n",
       "    </tr>\n",
       "    <tr>\n",
       "      <th>57</th>\n",
       "      <td>\"Ugh</td>\n",
       "      <td>1</td>\n",
       "      <td>ugh</td>\n",
       "    </tr>\n",
       "    <tr>\n",
       "      <th>59</th>\n",
       "      <td>\" the peasants reply</td>\n",
       "      <td>4</td>\n",
       "      <td>the peasants reply</td>\n",
       "    </tr>\n",
       "    <tr>\n",
       "      <th>...</th>\n",
       "      <td>...</td>\n",
       "      <td>...</td>\n",
       "      <td>...</td>\n",
       "    </tr>\n",
       "    <tr>\n",
       "      <th>1655</th>\n",
       "      <td>Not in the least</td>\n",
       "      <td>4</td>\n",
       "      <td>not the least</td>\n",
       "    </tr>\n",
       "    <tr>\n",
       "      <th>1659</th>\n",
       "      <td>No, nothing</td>\n",
       "      <td>2</td>\n",
       "      <td>nothing</td>\n",
       "    </tr>\n",
       "    <tr>\n",
       "      <th>1660</th>\n",
       "      <td>His bastions of iron</td>\n",
       "      <td>4</td>\n",
       "      <td>his bastions iron</td>\n",
       "    </tr>\n",
       "    <tr>\n",
       "      <th>1661</th>\n",
       "      <td>They all crumbled</td>\n",
       "      <td>3</td>\n",
       "      <td>they all crumbled</td>\n",
       "    </tr>\n",
       "    <tr>\n",
       "      <th>1662</th>\n",
       "      <td>Comrades</td>\n",
       "      <td>1</td>\n",
       "      <td>comrades</td>\n",
       "    </tr>\n",
       "  </tbody>\n",
       "</table>\n",
       "<p>167 rows × 3 columns</p>\n",
       "</div>"
      ],
      "text/plain": [
       "                           Sentence  NumWords                     Sentence2\n",
       "14     There are three alternatives         4  there are three alternatives\n",
       "21                    GET ORGANIZED         2                 get organized\n",
       "53                 \"Here's ten yuan         3                 here ten yuan\n",
       "57                             \"Ugh         1                           ugh\n",
       "59             \" the peasants reply         4            the peasants reply\n",
       "...                             ...       ...                           ...\n",
       "1655               Not in the least         4                 not the least\n",
       "1659                    No, nothing         2                       nothing\n",
       "1660           His bastions of iron         4             his bastions iron\n",
       "1661              They all crumbled         3             they all crumbled\n",
       "1662                       Comrades         1                      comrades\n",
       "\n",
       "[167 rows x 3 columns]"
      ]
     },
     "execution_count": 131,
     "metadata": {},
     "output_type": "execute_result"
    }
   ],
   "source": [
    "mao_df = mao_df[mao_df.NumWords>0]\n",
    "short_sentence = mao_df[mao_df.NumWords<5]\n",
    "short_sentence"
   ]
  },
  {
   "cell_type": "code",
   "execution_count": 133,
   "id": "light-breast",
   "metadata": {},
   "outputs": [
    {
     "data": {
      "text/html": [
       "<div>\n",
       "<style scoped>\n",
       "    .dataframe tbody tr th:only-of-type {\n",
       "        vertical-align: middle;\n",
       "    }\n",
       "\n",
       "    .dataframe tbody tr th {\n",
       "        vertical-align: top;\n",
       "    }\n",
       "\n",
       "    .dataframe thead th {\n",
       "        text-align: right;\n",
       "    }\n",
       "</style>\n",
       "<table border=\"1\" class=\"dataframe\">\n",
       "  <thead>\n",
       "    <tr style=\"text-align: right;\">\n",
       "      <th></th>\n",
       "      <th>Sentence</th>\n",
       "      <th>NumWords</th>\n",
       "      <th>Sentence2</th>\n",
       "    </tr>\n",
       "  </thead>\n",
       "  <tbody>\n",
       "    <tr>\n",
       "      <th>0</th>\n",
       "      <td>THE IMPORTANCE OF THE PEASANT PROBLEM</td>\n",
       "      <td>6</td>\n",
       "      <td>the importance the peasant problem</td>\n",
       "    </tr>\n",
       "    <tr>\n",
       "      <th>1</th>\n",
       "      <td>During my recent visit to Hunan [1] I made a f...</td>\n",
       "      <td>25</td>\n",
       "      <td>during recent visit hunan made first hand inve...</td>\n",
       "    </tr>\n",
       "    <tr>\n",
       "      <th>2</th>\n",
       "      <td>In the thirty-two days from January 4 to Febr...</td>\n",
       "      <td>48</td>\n",
       "      <td>the thirty two days from january february call...</td>\n",
       "    </tr>\n",
       "    <tr>\n",
       "      <th>3</th>\n",
       "      <td>Many of the hows and whys of the peasant move...</td>\n",
       "      <td>24</td>\n",
       "      <td>many the hows and whys the peasant movement we...</td>\n",
       "    </tr>\n",
       "    <tr>\n",
       "      <th>4</th>\n",
       "      <td>I saw and heard of many strange things of whi...</td>\n",
       "      <td>15</td>\n",
       "      <td>saw and heard many strange things which had hi...</td>\n",
       "    </tr>\n",
       "    <tr>\n",
       "      <th>...</th>\n",
       "      <td>...</td>\n",
       "      <td>...</td>\n",
       "      <td>...</td>\n",
       "    </tr>\n",
       "    <tr>\n",
       "      <th>1167</th>\n",
       "      <td>All revolutionary cadres have a tremendous re...</td>\n",
       "      <td>7</td>\n",
       "      <td>all revolutionary cadres have tremendous respo...</td>\n",
       "    </tr>\n",
       "    <tr>\n",
       "      <th>1168</th>\n",
       "      <td>After this congress we must adopt effective m...</td>\n",
       "      <td>30</td>\n",
       "      <td>after this congress must adopt effective measu...</td>\n",
       "    </tr>\n",
       "    <tr>\n",
       "      <th>1169</th>\n",
       "      <td>We must create thousands of townships like Ch...</td>\n",
       "      <td>14</td>\n",
       "      <td>must create thousands townships like changkang...</td>\n",
       "    </tr>\n",
       "    <tr>\n",
       "      <th>1170</th>\n",
       "      <td>They will be our strongholds</td>\n",
       "      <td>5</td>\n",
       "      <td>they will our strongholds</td>\n",
       "    </tr>\n",
       "    <tr>\n",
       "      <th>1171</th>\n",
       "      <td>From these strongholds we should go forth to ...</td>\n",
       "      <td>27</td>\n",
       "      <td>from these strongholds should forth smash the ...</td>\n",
       "    </tr>\n",
       "  </tbody>\n",
       "</table>\n",
       "<p>1172 rows × 3 columns</p>\n",
       "</div>"
      ],
      "text/plain": [
       "                                               Sentence  NumWords  \\\n",
       "0                 THE IMPORTANCE OF THE PEASANT PROBLEM         6   \n",
       "1     During my recent visit to Hunan [1] I made a f...        25   \n",
       "2      In the thirty-two days from January 4 to Febr...        48   \n",
       "3      Many of the hows and whys of the peasant move...        24   \n",
       "4      I saw and heard of many strange things of whi...        15   \n",
       "...                                                 ...       ...   \n",
       "1167   All revolutionary cadres have a tremendous re...         7   \n",
       "1168   After this congress we must adopt effective m...        30   \n",
       "1169   We must create thousands of townships like Ch...        14   \n",
       "1170                       They will be our strongholds         5   \n",
       "1171   From these strongholds we should go forth to ...        27   \n",
       "\n",
       "                                              Sentence2  \n",
       "0                    the importance the peasant problem  \n",
       "1     during recent visit hunan made first hand inve...  \n",
       "2     the thirty two days from january february call...  \n",
       "3     many the hows and whys the peasant movement we...  \n",
       "4     saw and heard many strange things which had hi...  \n",
       "...                                                 ...  \n",
       "1167  all revolutionary cadres have tremendous respo...  \n",
       "1168  after this congress must adopt effective measu...  \n",
       "1169  must create thousands townships like changkang...  \n",
       "1170                          they will our strongholds  \n",
       "1171  from these strongholds should forth smash the ...  \n",
       "\n",
       "[1172 rows x 3 columns]"
      ]
     },
     "execution_count": 133,
     "metadata": {},
     "output_type": "execute_result"
    }
   ],
   "source": [
    "mao_df = mao_df[mao_df.NumWords>=5]\n",
    "mao_df = mao_df.reset_index(drop=True)\n",
    "mao_df"
   ]
  },
  {
   "cell_type": "code",
   "execution_count": null,
   "id": "planned-latvia",
   "metadata": {},
   "outputs": [],
   "source": []
  },
  {
   "cell_type": "markdown",
   "id": "ultimate-reason",
   "metadata": {},
   "source": [
    "# Sentence Embedding"
   ]
  },
  {
   "cell_type": "code",
   "execution_count": 66,
   "id": "backed-coffee",
   "metadata": {},
   "outputs": [],
   "source": [
    "from sentence_transformers import SentenceTransformer\n",
    "\n",
    "model = SentenceTransformer('stsb-roberta-large')"
   ]
  },
  {
   "cell_type": "code",
   "execution_count": 134,
   "id": "worth-ribbon",
   "metadata": {},
   "outputs": [
    {
     "data": {
      "text/plain": [
       "(1172, 1024)"
      ]
     },
     "execution_count": 134,
     "metadata": {},
     "output_type": "execute_result"
    }
   ],
   "source": [
    "sentence_embeddings = model.encode(mao_df.Sentence2)\n",
    "sentence_embeddings.shape"
   ]
  },
  {
   "cell_type": "markdown",
   "id": "upset-logging",
   "metadata": {},
   "source": [
    "# Kmeans"
   ]
  },
  {
   "cell_type": "markdown",
   "id": "established-homework",
   "metadata": {},
   "source": [
    "Try to find the best k, let us use `Silhouette Coefficient`"
   ]
  },
  {
   "cell_type": "markdown",
   "id": "moderate-tender",
   "metadata": {},
   "source": [
    "Silhouette Coefficient    \n",
    "https://en.wikipedia.org/wiki/Silhouette_(clustering)   \n",
    "\n",
    "-1<=Si<=1   \n",
    "The clusting performance is better when the Silhouette Coefficient is close to 1"
   ]
  },
  {
   "cell_type": "code",
   "execution_count": 135,
   "id": "closed-pakistan",
   "metadata": {},
   "outputs": [
    {
     "data": {
      "image/png": "[encoded data removed]",
      "text/plain": [
       "<Figure size 432x288 with 1 Axes>"
      ]
     },
     "metadata": {
      "needs_background": "light"
     },
     "output_type": "display_data"
    }
   ],
   "source": [
    "from sklearn import metrics\n",
    "from sklearn.cluster import KMeans\n",
    "\n",
    "scores = []\n",
    "for k in range(2,20):\n",
    "    labels = KMeans(n_clusters=k).fit(sentence_embeddings).labels_\n",
    "    score = metrics.silhouette_score(sentence_embeddings, labels)\n",
    "    scores.append(score)\n",
    "\n",
    "plt.plot(list(range(2,20)),scores)\n",
    "plt.xticks(range(0,22,1)) \n",
    "plt.grid(linestyle='--')\n",
    "plt.xlabel(\"Number of Clusters Initialized\")\n",
    "plt.ylabel(\"Sihouette Score\")\n",
    "sns.despine()"
   ]
  },
  {
   "cell_type": "code",
   "execution_count": null,
   "id": "photographic-blake",
   "metadata": {},
   "outputs": [],
   "source": []
  },
  {
   "cell_type": "markdown",
   "id": "selected-rabbit",
   "metadata": {},
   "source": [
    "## 7 cluster Kmeans"
   ]
  },
  {
   "cell_type": "code",
   "execution_count": 136,
   "id": "verified-visiting",
   "metadata": {},
   "outputs": [],
   "source": [
    "from sklearn.cluster import KMeans\n",
    "km = KMeans(\n",
    "    n_clusters=7, init='random',\n",
    "    n_init=10, max_iter=300, \n",
    "    tol=1e-04, random_state=0\n",
    ")\n",
    "y_km = km.fit_predict(sentence_embeddings)\n",
    "df = pd.DataFrame({'mao': mao_df.Sentence, 'topic_cluster': y_km })"
   ]
  },
  {
   "cell_type": "code",
   "execution_count": 137,
   "id": "bacterial-reunion",
   "metadata": {},
   "outputs": [
    {
     "data": {
      "text/html": [
       "<div>\n",
       "<style scoped>\n",
       "    .dataframe tbody tr th:only-of-type {\n",
       "        vertical-align: middle;\n",
       "    }\n",
       "\n",
       "    .dataframe tbody tr th {\n",
       "        vertical-align: top;\n",
       "    }\n",
       "\n",
       "    .dataframe thead th {\n",
       "        text-align: right;\n",
       "    }\n",
       "</style>\n",
       "<table border=\"1\" class=\"dataframe\">\n",
       "  <thead>\n",
       "    <tr style=\"text-align: right;\">\n",
       "      <th></th>\n",
       "      <th>mao</th>\n",
       "      <th>topic_cluster</th>\n",
       "    </tr>\n",
       "  </thead>\n",
       "  <tbody>\n",
       "    <tr>\n",
       "      <th>0</th>\n",
       "      <td>THE IMPORTANCE OF THE PEASANT PROBLEM</td>\n",
       "      <td>4</td>\n",
       "    </tr>\n",
       "    <tr>\n",
       "      <th>1</th>\n",
       "      <td>During my recent visit to Hunan [1] I made a f...</td>\n",
       "      <td>1</td>\n",
       "    </tr>\n",
       "    <tr>\n",
       "      <th>2</th>\n",
       "      <td>In the thirty-two days from January 4 to Febr...</td>\n",
       "      <td>4</td>\n",
       "    </tr>\n",
       "    <tr>\n",
       "      <th>3</th>\n",
       "      <td>Many of the hows and whys of the peasant move...</td>\n",
       "      <td>1</td>\n",
       "    </tr>\n",
       "    <tr>\n",
       "      <th>4</th>\n",
       "      <td>I saw and heard of many strange things of whi...</td>\n",
       "      <td>0</td>\n",
       "    </tr>\n",
       "  </tbody>\n",
       "</table>\n",
       "</div>"
      ],
      "text/plain": [
       "                                                 mao  topic_cluster\n",
       "0              THE IMPORTANCE OF THE PEASANT PROBLEM              4\n",
       "1  During my recent visit to Hunan [1] I made a f...              1\n",
       "2   In the thirty-two days from January 4 to Febr...              4\n",
       "3   Many of the hows and whys of the peasant move...              1\n",
       "4   I saw and heard of many strange things of whi...              0"
      ]
     },
     "execution_count": 137,
     "metadata": {},
     "output_type": "execute_result"
    }
   ],
   "source": [
    "df.head()"
   ]
  },
  {
   "cell_type": "code",
   "execution_count": 138,
   "id": "waiting-letters",
   "metadata": {},
   "outputs": [
    {
     "data": {
      "text/html": [
       "<div>\n",
       "<style scoped>\n",
       "    .dataframe tbody tr th:only-of-type {\n",
       "        vertical-align: middle;\n",
       "    }\n",
       "\n",
       "    .dataframe tbody tr th {\n",
       "        vertical-align: top;\n",
       "    }\n",
       "\n",
       "    .dataframe thead th {\n",
       "        text-align: right;\n",
       "    }\n",
       "</style>\n",
       "<table border=\"1\" class=\"dataframe\">\n",
       "  <thead>\n",
       "    <tr style=\"text-align: right;\">\n",
       "      <th></th>\n",
       "      <th>mao</th>\n",
       "      <th>topic_cluster</th>\n",
       "    </tr>\n",
       "  </thead>\n",
       "  <tbody>\n",
       "    <tr>\n",
       "      <th>4</th>\n",
       "      <td>I saw and heard of many strange things of whi...</td>\n",
       "      <td>0</td>\n",
       "    </tr>\n",
       "    <tr>\n",
       "      <th>15</th>\n",
       "      <td>To trail behind them, gesticulating and criti...</td>\n",
       "      <td>0</td>\n",
       "    </tr>\n",
       "    <tr>\n",
       "      <th>29</th>\n",
       "      <td>DOWN WITH THE LOCAL TYRANTS AND EVIL GENTRY</td>\n",
       "      <td>0</td>\n",
       "    </tr>\n",
       "    <tr>\n",
       "      <th>31</th>\n",
       "      <td>The main targets of attack by the peasants are...</td>\n",
       "      <td>0</td>\n",
       "    </tr>\n",
       "    <tr>\n",
       "      <th>39</th>\n",
       "      <td>Those who are outside the associations can on...</td>\n",
       "      <td>0</td>\n",
       "    </tr>\n",
       "  </tbody>\n",
       "</table>\n",
       "</div>"
      ],
      "text/plain": [
       "                                                  mao  topic_cluster\n",
       "4    I saw and heard of many strange things of whi...              0\n",
       "15   To trail behind them, gesticulating and criti...              0\n",
       "29        DOWN WITH THE LOCAL TYRANTS AND EVIL GENTRY              0\n",
       "31  The main targets of attack by the peasants are...              0\n",
       "39   Those who are outside the associations can on...              0"
      ]
     },
     "execution_count": 138,
     "metadata": {},
     "output_type": "execute_result"
    }
   ],
   "source": [
    "df.loc[df['topic_cluster'] == 0].head()"
   ]
  },
  {
   "cell_type": "code",
   "execution_count": 139,
   "id": "threaded-intent",
   "metadata": {},
   "outputs": [
    {
     "data": {
      "text/html": [
       "<div>\n",
       "<style scoped>\n",
       "    .dataframe tbody tr th:only-of-type {\n",
       "        vertical-align: middle;\n",
       "    }\n",
       "\n",
       "    .dataframe tbody tr th {\n",
       "        vertical-align: top;\n",
       "    }\n",
       "\n",
       "    .dataframe thead th {\n",
       "        text-align: right;\n",
       "    }\n",
       "</style>\n",
       "<table border=\"1\" class=\"dataframe\">\n",
       "  <thead>\n",
       "    <tr style=\"text-align: right;\">\n",
       "      <th></th>\n",
       "      <th>mao</th>\n",
       "      <th>topic_cluster</th>\n",
       "    </tr>\n",
       "  </thead>\n",
       "  <tbody>\n",
       "    <tr>\n",
       "      <th>1</th>\n",
       "      <td>During my recent visit to Hunan [1] I made a f...</td>\n",
       "      <td>1</td>\n",
       "    </tr>\n",
       "    <tr>\n",
       "      <th>3</th>\n",
       "      <td>Many of the hows and whys of the peasant move...</td>\n",
       "      <td>1</td>\n",
       "    </tr>\n",
       "    <tr>\n",
       "      <th>20</th>\n",
       "      <td>In this period, January to June was a time of...</td>\n",
       "      <td>1</td>\n",
       "    </tr>\n",
       "    <tr>\n",
       "      <th>41</th>\n",
       "      <td>In the face of the peasant associations' powe...</td>\n",
       "      <td>1</td>\n",
       "    </tr>\n",
       "    <tr>\n",
       "      <th>47</th>\n",
       "      <td>In the Ching Dynasty, the household census com...</td>\n",
       "      <td>1</td>\n",
       "    </tr>\n",
       "  </tbody>\n",
       "</table>\n",
       "</div>"
      ],
      "text/plain": [
       "                                                  mao  topic_cluster\n",
       "1   During my recent visit to Hunan [1] I made a f...              1\n",
       "3    Many of the hows and whys of the peasant move...              1\n",
       "20   In this period, January to June was a time of...              1\n",
       "41   In the face of the peasant associations' powe...              1\n",
       "47  In the Ching Dynasty, the household census com...              1"
      ]
     },
     "execution_count": 139,
     "metadata": {},
     "output_type": "execute_result"
    }
   ],
   "source": [
    "df.loc[df['topic_cluster'] == 1].head()"
   ]
  },
  {
   "cell_type": "code",
   "execution_count": 140,
   "id": "optical-exposure",
   "metadata": {},
   "outputs": [
    {
     "data": {
      "text/html": [
       "<div>\n",
       "<style scoped>\n",
       "    .dataframe tbody tr th:only-of-type {\n",
       "        vertical-align: middle;\n",
       "    }\n",
       "\n",
       "    .dataframe tbody tr th {\n",
       "        vertical-align: top;\n",
       "    }\n",
       "\n",
       "    .dataframe thead th {\n",
       "        text-align: right;\n",
       "    }\n",
       "</style>\n",
       "<table border=\"1\" class=\"dataframe\">\n",
       "  <thead>\n",
       "    <tr style=\"text-align: right;\">\n",
       "      <th></th>\n",
       "      <th>mao</th>\n",
       "      <th>topic_cluster</th>\n",
       "    </tr>\n",
       "  </thead>\n",
       "  <tbody>\n",
       "    <tr>\n",
       "      <th>5</th>\n",
       "      <td>I believe the same is true of many other plac...</td>\n",
       "      <td>2</td>\n",
       "    </tr>\n",
       "    <tr>\n",
       "      <th>11</th>\n",
       "      <td>They will smash all the trammels that bind th...</td>\n",
       "      <td>2</td>\n",
       "    </tr>\n",
       "    <tr>\n",
       "      <th>14</th>\n",
       "      <td>To march at their head and lead them</td>\n",
       "      <td>2</td>\n",
       "    </tr>\n",
       "    <tr>\n",
       "      <th>16</th>\n",
       "      <td>Or to stand in their way and oppose them</td>\n",
       "      <td>2</td>\n",
       "    </tr>\n",
       "    <tr>\n",
       "      <th>17</th>\n",
       "      <td>Every Chinese is free to choose, but events w...</td>\n",
       "      <td>2</td>\n",
       "    </tr>\n",
       "  </tbody>\n",
       "</table>\n",
       "</div>"
      ],
      "text/plain": [
       "                                                  mao  topic_cluster\n",
       "5    I believe the same is true of many other plac...              2\n",
       "11   They will smash all the trammels that bind th...              2\n",
       "14               To march at their head and lead them              2\n",
       "16           Or to stand in their way and oppose them              2\n",
       "17   Every Chinese is free to choose, but events w...              2"
      ]
     },
     "execution_count": 140,
     "metadata": {},
     "output_type": "execute_result"
    }
   ],
   "source": [
    "df.loc[df['topic_cluster'] == 2].head()"
   ]
  },
  {
   "cell_type": "code",
   "execution_count": 141,
   "id": "conscious-painting",
   "metadata": {},
   "outputs": [
    {
     "data": {
      "text/html": [
       "<div>\n",
       "<style scoped>\n",
       "    .dataframe tbody tr th:only-of-type {\n",
       "        vertical-align: middle;\n",
       "    }\n",
       "\n",
       "    .dataframe tbody tr th {\n",
       "        vertical-align: top;\n",
       "    }\n",
       "\n",
       "    .dataframe thead th {\n",
       "        text-align: right;\n",
       "    }\n",
       "</style>\n",
       "<table border=\"1\" class=\"dataframe\">\n",
       "  <thead>\n",
       "    <tr style=\"text-align: right;\">\n",
       "      <th></th>\n",
       "      <th>mao</th>\n",
       "      <th>topic_cluster</th>\n",
       "    </tr>\n",
       "  </thead>\n",
       "  <tbody>\n",
       "    <tr>\n",
       "      <th>6</th>\n",
       "      <td>All talk directed against the peasant movemen...</td>\n",
       "      <td>3</td>\n",
       "    </tr>\n",
       "    <tr>\n",
       "      <th>7</th>\n",
       "      <td>All the wrong measures taken by the revolutio...</td>\n",
       "      <td>3</td>\n",
       "    </tr>\n",
       "    <tr>\n",
       "      <th>12</th>\n",
       "      <td>They will sweep all the imperialists, warlord...</td>\n",
       "      <td>3</td>\n",
       "    </tr>\n",
       "    <tr>\n",
       "      <th>33</th>\n",
       "      <td>As a result, the privileges which the feudal ...</td>\n",
       "      <td>3</td>\n",
       "    </tr>\n",
       "    <tr>\n",
       "      <th>43</th>\n",
       "      <td>Who wants your filthy money</td>\n",
       "      <td>3</td>\n",
       "    </tr>\n",
       "  </tbody>\n",
       "</table>\n",
       "</div>"
      ],
      "text/plain": [
       "                                                  mao  topic_cluster\n",
       "6    All talk directed against the peasant movemen...              3\n",
       "7    All the wrong measures taken by the revolutio...              3\n",
       "12   They will sweep all the imperialists, warlord...              3\n",
       "33   As a result, the privileges which the feudal ...              3\n",
       "43                        Who wants your filthy money              3"
      ]
     },
     "execution_count": 141,
     "metadata": {},
     "output_type": "execute_result"
    }
   ],
   "source": [
    "df.loc[df['topic_cluster'] == 3].head()"
   ]
  },
  {
   "cell_type": "code",
   "execution_count": 142,
   "id": "accredited-merchandise",
   "metadata": {},
   "outputs": [
    {
     "data": {
      "text/html": [
       "<div>\n",
       "<style scoped>\n",
       "    .dataframe tbody tr th:only-of-type {\n",
       "        vertical-align: middle;\n",
       "    }\n",
       "\n",
       "    .dataframe tbody tr th {\n",
       "        vertical-align: top;\n",
       "    }\n",
       "\n",
       "    .dataframe thead th {\n",
       "        text-align: right;\n",
       "    }\n",
       "</style>\n",
       "<table border=\"1\" class=\"dataframe\">\n",
       "  <thead>\n",
       "    <tr style=\"text-align: right;\">\n",
       "      <th></th>\n",
       "      <th>mao</th>\n",
       "      <th>topic_cluster</th>\n",
       "    </tr>\n",
       "  </thead>\n",
       "  <tbody>\n",
       "    <tr>\n",
       "      <th>0</th>\n",
       "      <td>THE IMPORTANCE OF THE PEASANT PROBLEM</td>\n",
       "      <td>4</td>\n",
       "    </tr>\n",
       "    <tr>\n",
       "      <th>2</th>\n",
       "      <td>In the thirty-two days from January 4 to Febr...</td>\n",
       "      <td>4</td>\n",
       "    </tr>\n",
       "    <tr>\n",
       "      <th>9</th>\n",
       "      <td>For the present upsurge of the peasant moveme...</td>\n",
       "      <td>4</td>\n",
       "    </tr>\n",
       "    <tr>\n",
       "      <th>18</th>\n",
       "      <td>The development of the peasant movement in Hun...</td>\n",
       "      <td>4</td>\n",
       "    </tr>\n",
       "    <tr>\n",
       "      <th>22</th>\n",
       "      <td>Since its members served as guides, scouts an...</td>\n",
       "      <td>4</td>\n",
       "    </tr>\n",
       "  </tbody>\n",
       "</table>\n",
       "</div>"
      ],
      "text/plain": [
       "                                                  mao  topic_cluster\n",
       "0               THE IMPORTANCE OF THE PEASANT PROBLEM              4\n",
       "2    In the thirty-two days from January 4 to Febr...              4\n",
       "9    For the present upsurge of the peasant moveme...              4\n",
       "18  The development of the peasant movement in Hun...              4\n",
       "22   Since its members served as guides, scouts an...              4"
      ]
     },
     "execution_count": 142,
     "metadata": {},
     "output_type": "execute_result"
    }
   ],
   "source": [
    "df.loc[df['topic_cluster'] == 4].head()"
   ]
  },
  {
   "cell_type": "code",
   "execution_count": 143,
   "id": "republican-account",
   "metadata": {},
   "outputs": [
    {
     "data": {
      "text/html": [
       "<div>\n",
       "<style scoped>\n",
       "    .dataframe tbody tr th:only-of-type {\n",
       "        vertical-align: middle;\n",
       "    }\n",
       "\n",
       "    .dataframe tbody tr th {\n",
       "        vertical-align: top;\n",
       "    }\n",
       "\n",
       "    .dataframe thead th {\n",
       "        text-align: right;\n",
       "    }\n",
       "</style>\n",
       "<table border=\"1\" class=\"dataframe\">\n",
       "  <thead>\n",
       "    <tr style=\"text-align: right;\">\n",
       "      <th></th>\n",
       "      <th>mao</th>\n",
       "      <th>topic_cluster</th>\n",
       "    </tr>\n",
       "  </thead>\n",
       "  <tbody>\n",
       "    <tr>\n",
       "      <th>13</th>\n",
       "      <td>Every revolutionary party and every revolutio...</td>\n",
       "      <td>5</td>\n",
       "    </tr>\n",
       "    <tr>\n",
       "      <th>21</th>\n",
       "      <td>During this period, the membership of the pea...</td>\n",
       "      <td>5</td>\n",
       "    </tr>\n",
       "    <tr>\n",
       "      <th>40</th>\n",
       "      <td>The local tyrants, evil gentry and lawless la...</td>\n",
       "      <td>5</td>\n",
       "    </tr>\n",
       "    <tr>\n",
       "      <th>48</th>\n",
       "      <td>In some places the peasants now use this meth...</td>\n",
       "      <td>5</td>\n",
       "    </tr>\n",
       "    <tr>\n",
       "      <th>50</th>\n",
       "      <td>Afraid of being entered in the other register,...</td>\n",
       "      <td>5</td>\n",
       "    </tr>\n",
       "  </tbody>\n",
       "</table>\n",
       "</div>"
      ],
      "text/plain": [
       "                                                  mao  topic_cluster\n",
       "13   Every revolutionary party and every revolutio...              5\n",
       "21   During this period, the membership of the pea...              5\n",
       "40   The local tyrants, evil gentry and lawless la...              5\n",
       "48   In some places the peasants now use this meth...              5\n",
       "50  Afraid of being entered in the other register,...              5"
      ]
     },
     "execution_count": 143,
     "metadata": {},
     "output_type": "execute_result"
    }
   ],
   "source": [
    "df.loc[df['topic_cluster'] == 5].head()"
   ]
  },
  {
   "cell_type": "code",
   "execution_count": 144,
   "id": "structural-character",
   "metadata": {},
   "outputs": [
    {
     "data": {
      "text/html": [
       "<div>\n",
       "<style scoped>\n",
       "    .dataframe tbody tr th:only-of-type {\n",
       "        vertical-align: middle;\n",
       "    }\n",
       "\n",
       "    .dataframe tbody tr th {\n",
       "        vertical-align: top;\n",
       "    }\n",
       "\n",
       "    .dataframe thead th {\n",
       "        text-align: right;\n",
       "    }\n",
       "</style>\n",
       "<table border=\"1\" class=\"dataframe\">\n",
       "  <thead>\n",
       "    <tr style=\"text-align: right;\">\n",
       "      <th></th>\n",
       "      <th>mao</th>\n",
       "      <th>topic_cluster</th>\n",
       "    </tr>\n",
       "  </thead>\n",
       "  <tbody>\n",
       "    <tr>\n",
       "      <th>8</th>\n",
       "      <td>Only thus can the future of the revolution be...</td>\n",
       "      <td>6</td>\n",
       "    </tr>\n",
       "    <tr>\n",
       "      <th>10</th>\n",
       "      <td>In a very short time, in China's central, sou...</td>\n",
       "      <td>6</td>\n",
       "    </tr>\n",
       "    <tr>\n",
       "      <th>32</th>\n",
       "      <td>In force and momentum the attack is tempestuo...</td>\n",
       "      <td>6</td>\n",
       "    </tr>\n",
       "    <tr>\n",
       "      <th>67</th>\n",
       "      <td>Sun Yat-sen wanted, but failed, to accomplish...</td>\n",
       "      <td>6</td>\n",
       "    </tr>\n",
       "    <tr>\n",
       "      <th>78</th>\n",
       "      <td>The Revolution of 1911 [3] did not bring abou...</td>\n",
       "      <td>6</td>\n",
       "    </tr>\n",
       "  </tbody>\n",
       "</table>\n",
       "</div>"
      ],
      "text/plain": [
       "                                                  mao  topic_cluster\n",
       "8    Only thus can the future of the revolution be...              6\n",
       "10   In a very short time, in China's central, sou...              6\n",
       "32   In force and momentum the attack is tempestuo...              6\n",
       "67   Sun Yat-sen wanted, but failed, to accomplish...              6\n",
       "78   The Revolution of 1911 [3] did not bring abou...              6"
      ]
     },
     "execution_count": 144,
     "metadata": {},
     "output_type": "execute_result"
    }
   ],
   "source": [
    "df.loc[df['topic_cluster'] == 6].head()"
   ]
  },
  {
   "cell_type": "code",
   "execution_count": 145,
   "id": "iraqi-torture",
   "metadata": {},
   "outputs": [
    {
     "data": {
      "text/plain": [
       "array([[-0.30953214,  0.6305128 ,  0.32809758, ...,  0.27771795,\n",
       "        -0.7601069 ,  0.6205398 ],\n",
       "       [ 0.10599337,  0.34588677, -0.1222178 , ...,  0.54810643,\n",
       "        -1.3297417 ,  0.29887426],\n",
       "       [-0.12595537,  0.14595088, -0.06924995, ...,  0.27791902,\n",
       "        -0.7823045 ,  0.54073364],\n",
       "       ...,\n",
       "       [-0.06784983,  0.34416237, -0.10358737, ...,  0.96032333,\n",
       "        -0.90393364,  0.54917824],\n",
       "       [-0.10502759,  0.02465358, -0.22885872, ...,  0.3169937 ,\n",
       "        -0.14310676,  0.47161007],\n",
       "       [ 0.20314845,  0.7646339 ,  0.06447814, ...,  0.8604767 ,\n",
       "        -0.79031605,  0.37310952]], dtype=float32)"
      ]
     },
     "execution_count": 145,
     "metadata": {},
     "output_type": "execute_result"
    }
   ],
   "source": [
    "centers = km.cluster_centers_\n",
    "centers"
   ]
  },
  {
   "cell_type": "code",
   "execution_count": null,
   "id": "transparent-baseline",
   "metadata": {},
   "outputs": [],
   "source": []
  },
  {
   "cell_type": "markdown",
   "id": "faced-planner",
   "metadata": {},
   "source": [
    "Select a sentence which is cloest to each group center"
   ]
  },
  {
   "cell_type": "code",
   "execution_count": 146,
   "id": "medium-raleigh",
   "metadata": {},
   "outputs": [],
   "source": [
    "def select_center_sentence(group_id):\n",
    "    distance =[]\n",
    "    # get one group sentence embeddings\n",
    "    group_sentence_embeddings = sentence_embeddings[df['topic_cluster'] == group_id]\n",
    "    print('there are %d sentences in group %d'%(len(group_sentence_embeddings),group_id))\n",
    "    for sentence in group_sentence_embeddings:\n",
    "        dis = 0\n",
    "        for index in range(len(sentence)):\n",
    "            # calculate the distance between this sentence and group center\n",
    "            dis = dis + (sentence[index] - centers[group_id][index])**2\n",
    "        distance.append(dis)\n",
    "    \n",
    "    # get the min distance's index\n",
    "    min_index = distance.index(min(distance))\n",
    "    df_group = df.loc[df['topic_cluster'] == group_id]\n",
    "    df_group = df_group.reset_index(drop=True)\n",
    "    return df_group.mao[min_index]"
   ]
  },
  {
   "cell_type": "code",
   "execution_count": 147,
   "id": "corrected-tourist",
   "metadata": {},
   "outputs": [
    {
     "name": "stdout",
     "output_type": "stream",
     "text": [
      "there are 179 sentences in group 0\n"
     ]
    },
    {
     "data": {
      "text/plain": [
       "'\" This opinion comes to the same thing as what the right-wingers are saying; according to both it is all right to have a peasant movement (the movement is already in being and no one dare say otherwise), but they say that the people running it are no good and they particularly hate those in charge of the associations at the lower levels, calling them \"riffraff\"'"
      ]
     },
     "execution_count": 147,
     "metadata": {},
     "output_type": "execute_result"
    }
   ],
   "source": [
    "group0_belief = select_center_sentence(group_id = 0)\n",
    "group0_belief"
   ]
  },
  {
   "cell_type": "code",
   "execution_count": 148,
   "id": "republican-father",
   "metadata": {},
   "outputs": [
    {
     "name": "stdout",
     "output_type": "stream",
     "text": [
      "there are 159 sentences in group 1\n"
     ]
    },
    {
     "data": {
      "text/plain": [
       "' Again, when we captured Yunghsin for the third time, we once more divided our forces by dispatching the 28th Regiment to the border of Anfu County, the 29th to Lienhua, and the 31st to the border of Kian County'"
      ]
     },
     "execution_count": 148,
     "metadata": {},
     "output_type": "execute_result"
    }
   ],
   "source": [
    "group1_belief = select_center_sentence(group_id = 1)\n",
    "group1_belief"
   ]
  },
  {
   "cell_type": "code",
   "execution_count": 149,
   "id": "dental-feature",
   "metadata": {},
   "outputs": [
    {
     "name": "stdout",
     "output_type": "stream",
     "text": [
      "there are 196 sentences in group 2\n"
     ]
    },
    {
     "data": {
      "text/plain": [
       "' It should be done on the following lines:'"
      ]
     },
     "execution_count": 149,
     "metadata": {},
     "output_type": "execute_result"
    }
   ],
   "source": [
    "group2_belief = select_center_sentence(group_id = 2)\n",
    "group2_belief"
   ]
  },
  {
   "cell_type": "code",
   "execution_count": 150,
   "id": "technical-graduate",
   "metadata": {},
   "outputs": [
    {
     "name": "stdout",
     "output_type": "stream",
     "text": [
      "there are 146 sentences in group 3\n"
     ]
    },
    {
     "data": {
      "text/plain": [
       "' Because of the growth in government taxation, the rise in rent and interest demanded by the landlords and the daily spread of the disasters of war, there are famine and banditry everywhere and the peasant masses and the urban poor can hardly keep alive'"
      ]
     },
     "execution_count": 150,
     "metadata": {},
     "output_type": "execute_result"
    }
   ],
   "source": [
    "group3_belief = select_center_sentence(group_id = 3)\n",
    "group3_belief"
   ]
  },
  {
   "cell_type": "code",
   "execution_count": 151,
   "id": "physical-cambridge",
   "metadata": {},
   "outputs": [
    {
     "name": "stdout",
     "output_type": "stream",
     "text": [
      "there are 180 sentences in group 4\n"
     ]
    },
    {
     "data": {
      "text/plain": [
       "'ALL POWER TO THE PEASANT ASSOCIATIONS'"
      ]
     },
     "execution_count": 151,
     "metadata": {},
     "output_type": "execute_result"
    }
   ],
   "source": [
    "group4_belief = select_center_sentence(group_id = 4)\n",
    "group4_belief"
   ]
  },
  {
   "cell_type": "code",
   "execution_count": 152,
   "id": "beautiful-margin",
   "metadata": {},
   "outputs": [
    {
     "name": "stdout",
     "output_type": "stream",
     "text": [
      "there are 135 sentences in group 5\n"
     ]
    },
    {
     "data": {
      "text/plain": [
       "' It was necessary to forbid malicious criticism of the peasant associations'"
      ]
     },
     "execution_count": 152,
     "metadata": {},
     "output_type": "execute_result"
    }
   ],
   "source": [
    "group5_belief = select_center_sentence(group_id = 5)\n",
    "group5_belief"
   ]
  },
  {
   "cell_type": "code",
   "execution_count": 153,
   "id": "pointed-tractor",
   "metadata": {},
   "outputs": [
    {
     "name": "stdout",
     "output_type": "stream",
     "text": [
      "there are 177 sentences in group 6\n"
     ]
    },
    {
     "data": {
      "text/plain": [
       "' The prolonged splits and wars within the White regime provide a condition for the emergence and persistence of one or more small Red areas under the leadership of the Communist Party amidst the encirclement of the White regime'"
      ]
     },
     "execution_count": 153,
     "metadata": {},
     "output_type": "execute_result"
    }
   ],
   "source": [
    "group6_belief = select_center_sentence(group_id = 6)\n",
    "group6_belief"
   ]
  },
  {
   "cell_type": "code",
   "execution_count": null,
   "id": "offensive-market",
   "metadata": {},
   "outputs": [],
   "source": []
  }
 ],
 "metadata": {
  "kernelspec": {
   "display_name": "Python 3",
   "language": "python",
   "name": "python3"
  },
  "language_info": {
   "codemirror_mode": {
    "name": "ipython",
    "version": 3
   },
   "file_extension": ".py",
   "mimetype": "text/x-python",
   "name": "python",
   "nbconvert_exporter": "python",
   "pygments_lexer": "ipython3",
   "version": "3.7.4"
  }
 },
 "nbformat": 4,
 "nbformat_minor": 5
}
