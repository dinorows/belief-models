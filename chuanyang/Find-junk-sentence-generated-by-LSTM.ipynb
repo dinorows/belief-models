{
 "cells": [
  {
   "cell_type": "markdown",
   "id": "southern-government",
   "metadata": {},
   "source": [
    "# EDA"
   ]
  },
  {
   "cell_type": "code",
   "execution_count": 1,
   "id": "rubber-lithuania",
   "metadata": {},
   "outputs": [],
   "source": [
    "import warnings\n",
    "warnings.filterwarnings('ignore')"
   ]
  },
  {
   "cell_type": "code",
   "execution_count": 12,
   "id": "indirect-astrology",
   "metadata": {},
   "outputs": [
    {
     "name": "stdout",
     "output_type": "stream",
     "text": [
      "corpus/mao/original/ANALYSIS OF THE CLASSES IN CHINESE SOCIETY.txt\n",
      "118\n",
      "Who are our enemies\n"
     ]
    }
   ],
   "source": [
    "import os\n",
    "def readSentences(path):\n",
    "    sentences = []\n",
    "    for root, dirs, files in os.walk(path):\n",
    "        for file in files:\n",
    "            if file.endswith(\".txt\"):\n",
    "                print(os.path.join(root, file))\n",
    "                with open(os.path.join(root, file), \"r\") as input:\n",
    "                    sen = input.read().replace('?','.').replace('!','.').replace('\\n','.')\n",
    "                    sen = sen.split(\".\")   #. denotes end of sentence\n",
    "                sentences.extend(sen)\n",
    "    return sentences\n",
    "mao_sentences = readSentences(\"corpus/mao/original\")\n",
    "print(len(mao_sentences))\n",
    "print(mao_sentences[0])"
   ]
  },
  {
   "cell_type": "code",
   "execution_count": 13,
   "id": "desirable-determination",
   "metadata": {},
   "outputs": [
    {
     "data": {
      "text/html": [
       "<div>\n",
       "<style scoped>\n",
       "    .dataframe tbody tr th:only-of-type {\n",
       "        vertical-align: middle;\n",
       "    }\n",
       "\n",
       "    .dataframe tbody tr th {\n",
       "        vertical-align: top;\n",
       "    }\n",
       "\n",
       "    .dataframe thead th {\n",
       "        text-align: right;\n",
       "    }\n",
       "</style>\n",
       "<table border=\"1\" class=\"dataframe\">\n",
       "  <thead>\n",
       "    <tr style=\"text-align: right;\">\n",
       "      <th></th>\n",
       "      <th>Sentence</th>\n",
       "    </tr>\n",
       "  </thead>\n",
       "  <tbody>\n",
       "    <tr>\n",
       "      <th>0</th>\n",
       "      <td>Who are our enemies</td>\n",
       "    </tr>\n",
       "    <tr>\n",
       "      <th>1</th>\n",
       "      <td>Who are our friends</td>\n",
       "    </tr>\n",
       "    <tr>\n",
       "      <th>2</th>\n",
       "      <td>This is a question of the first importance fo...</td>\n",
       "    </tr>\n",
       "    <tr>\n",
       "      <th>3</th>\n",
       "      <td>The basic reason why all previous revolutiona...</td>\n",
       "    </tr>\n",
       "    <tr>\n",
       "      <th>4</th>\n",
       "      <td>A revolutionary party is the guide of the mas...</td>\n",
       "    </tr>\n",
       "  </tbody>\n",
       "</table>\n",
       "</div>"
      ],
      "text/plain": [
       "                                            Sentence\n",
       "0                                Who are our enemies\n",
       "1                                Who are our friends\n",
       "2   This is a question of the first importance fo...\n",
       "3   The basic reason why all previous revolutiona...\n",
       "4   A revolutionary party is the guide of the mas..."
      ]
     },
     "execution_count": 13,
     "metadata": {},
     "output_type": "execute_result"
    }
   ],
   "source": [
    "import numpy as np\n",
    "import pandas as pd\n",
    "import numpy as np\n",
    "import pandas as pd\n",
    "import seaborn as sns\n",
    "import matplotlib.pyplot as plt\n",
    "from sklearn.feature_extraction.text import CountVectorizer\n",
    "from sklearn.feature_extraction.text import TfidfVectorizer\n",
    "\n",
    "mao_df = pd.DataFrame(mao_sentences, columns = ['Sentence'])\n",
    "mao_df.head()"
   ]
  },
  {
   "cell_type": "code",
   "execution_count": 14,
   "id": "challenging-peter",
   "metadata": {},
   "outputs": [
    {
     "data": {
      "text/html": [
       "<div>\n",
       "<style scoped>\n",
       "    .dataframe tbody tr th:only-of-type {\n",
       "        vertical-align: middle;\n",
       "    }\n",
       "\n",
       "    .dataframe tbody tr th {\n",
       "        vertical-align: top;\n",
       "    }\n",
       "\n",
       "    .dataframe thead th {\n",
       "        text-align: right;\n",
       "    }\n",
       "</style>\n",
       "<table border=\"1\" class=\"dataframe\">\n",
       "  <thead>\n",
       "    <tr style=\"text-align: right;\">\n",
       "      <th></th>\n",
       "      <th>Sentence</th>\n",
       "      <th>source</th>\n",
       "    </tr>\n",
       "  </thead>\n",
       "  <tbody>\n",
       "    <tr>\n",
       "      <th>0</th>\n",
       "      <td>Who are our enemies</td>\n",
       "      <td>original</td>\n",
       "    </tr>\n",
       "    <tr>\n",
       "      <th>1</th>\n",
       "      <td>Who are our friends</td>\n",
       "      <td>original</td>\n",
       "    </tr>\n",
       "    <tr>\n",
       "      <th>2</th>\n",
       "      <td>This is a question of the first importance fo...</td>\n",
       "      <td>original</td>\n",
       "    </tr>\n",
       "    <tr>\n",
       "      <th>3</th>\n",
       "      <td>The basic reason why all previous revolutiona...</td>\n",
       "      <td>original</td>\n",
       "    </tr>\n",
       "    <tr>\n",
       "      <th>4</th>\n",
       "      <td>A revolutionary party is the guide of the mas...</td>\n",
       "      <td>original</td>\n",
       "    </tr>\n",
       "    <tr>\n",
       "      <th>...</th>\n",
       "      <td>...</td>\n",
       "      <td>...</td>\n",
       "    </tr>\n",
       "    <tr>\n",
       "      <th>113</th>\n",
       "      <td>To sum up, it can be seen that our enemies are...</td>\n",
       "      <td>original</td>\n",
       "    </tr>\n",
       "    <tr>\n",
       "      <th>114</th>\n",
       "      <td>The leading force in our revolution is the in...</td>\n",
       "      <td>original</td>\n",
       "    </tr>\n",
       "    <tr>\n",
       "      <th>115</th>\n",
       "      <td>Our closest friends are the entire semi-prole...</td>\n",
       "      <td>original</td>\n",
       "    </tr>\n",
       "    <tr>\n",
       "      <th>116</th>\n",
       "      <td>As for the vacillating middle bourgeoisie, th...</td>\n",
       "      <td>original</td>\n",
       "    </tr>\n",
       "    <tr>\n",
       "      <th>117</th>\n",
       "      <td></td>\n",
       "      <td>original</td>\n",
       "    </tr>\n",
       "  </tbody>\n",
       "</table>\n",
       "<p>118 rows × 2 columns</p>\n",
       "</div>"
      ],
      "text/plain": [
       "                                              Sentence    source\n",
       "0                                  Who are our enemies  original\n",
       "1                                  Who are our friends  original\n",
       "2     This is a question of the first importance fo...  original\n",
       "3     The basic reason why all previous revolutiona...  original\n",
       "4     A revolutionary party is the guide of the mas...  original\n",
       "..                                                 ...       ...\n",
       "113  To sum up, it can be seen that our enemies are...  original\n",
       "114   The leading force in our revolution is the in...  original\n",
       "115   Our closest friends are the entire semi-prole...  original\n",
       "116   As for the vacillating middle bourgeoisie, th...  original\n",
       "117                                                     original\n",
       "\n",
       "[118 rows x 2 columns]"
      ]
     },
     "execution_count": 14,
     "metadata": {},
     "output_type": "execute_result"
    }
   ],
   "source": [
    "mao_df[\"source\"] = \"original\"\n",
    "mao_df"
   ]
  },
  {
   "cell_type": "code",
   "execution_count": null,
   "id": "important-windows",
   "metadata": {},
   "outputs": [],
   "source": []
  },
  {
   "cell_type": "code",
   "execution_count": 15,
   "id": "guided-tongue",
   "metadata": {},
   "outputs": [
    {
     "name": "stdout",
     "output_type": "stream",
     "text": [
      "corpus/mao/generated/generatedByLstm.txt\n",
      "5\n",
      "a question of the first importance for the revolution\n"
     ]
    }
   ],
   "source": [
    "generated_sentences = readSentences(\"corpus/mao/generated\")\n",
    "print(len(generated_sentences))\n",
    "print(generated_sentences[0])"
   ]
  },
  {
   "cell_type": "code",
   "execution_count": 16,
   "id": "breathing-complaint",
   "metadata": {},
   "outputs": [
    {
     "data": {
      "text/html": [
       "<div>\n",
       "<style scoped>\n",
       "    .dataframe tbody tr th:only-of-type {\n",
       "        vertical-align: middle;\n",
       "    }\n",
       "\n",
       "    .dataframe tbody tr th {\n",
       "        vertical-align: top;\n",
       "    }\n",
       "\n",
       "    .dataframe thead th {\n",
       "        text-align: right;\n",
       "    }\n",
       "</style>\n",
       "<table border=\"1\" class=\"dataframe\">\n",
       "  <thead>\n",
       "    <tr style=\"text-align: right;\">\n",
       "      <th></th>\n",
       "      <th>Sentence</th>\n",
       "    </tr>\n",
       "  </thead>\n",
       "  <tbody>\n",
       "    <tr>\n",
       "      <th>0</th>\n",
       "      <td>a question of the first importance for the rev...</td>\n",
       "    </tr>\n",
       "    <tr>\n",
       "      <th>1</th>\n",
       "      <td>The basic reason why all previous revolutiona...</td>\n",
       "    </tr>\n",
       "    <tr>\n",
       "      <th>2</th>\n",
       "      <td>A revolutionary party is the guide of the mas...</td>\n",
       "    </tr>\n",
       "    <tr>\n",
       "      <th>3</th>\n",
       "      <td>To ensure that we will definitely achieve suc...</td>\n",
       "    </tr>\n",
       "    <tr>\n",
       "      <th>4</th>\n",
       "      <td></td>\n",
       "    </tr>\n",
       "  </tbody>\n",
       "</table>\n",
       "</div>"
      ],
      "text/plain": [
       "                                            Sentence\n",
       "0  a question of the first importance for the rev...\n",
       "1   The basic reason why all previous revolutiona...\n",
       "2   A revolutionary party is the guide of the mas...\n",
       "3   To ensure that we will definitely achieve suc...\n",
       "4                                                   "
      ]
     },
     "execution_count": 16,
     "metadata": {},
     "output_type": "execute_result"
    }
   ],
   "source": [
    "generated_df = pd.DataFrame(generated_sentences, columns = ['Sentence'])\n",
    "generated_df.head()"
   ]
  },
  {
   "cell_type": "code",
   "execution_count": 17,
   "id": "collectible-chemistry",
   "metadata": {},
   "outputs": [
    {
     "data": {
      "text/html": [
       "<div>\n",
       "<style scoped>\n",
       "    .dataframe tbody tr th:only-of-type {\n",
       "        vertical-align: middle;\n",
       "    }\n",
       "\n",
       "    .dataframe tbody tr th {\n",
       "        vertical-align: top;\n",
       "    }\n",
       "\n",
       "    .dataframe thead th {\n",
       "        text-align: right;\n",
       "    }\n",
       "</style>\n",
       "<table border=\"1\" class=\"dataframe\">\n",
       "  <thead>\n",
       "    <tr style=\"text-align: right;\">\n",
       "      <th></th>\n",
       "      <th>Sentence</th>\n",
       "      <th>source</th>\n",
       "    </tr>\n",
       "  </thead>\n",
       "  <tbody>\n",
       "    <tr>\n",
       "      <th>0</th>\n",
       "      <td>a question of the first importance for the rev...</td>\n",
       "      <td>generated</td>\n",
       "    </tr>\n",
       "    <tr>\n",
       "      <th>1</th>\n",
       "      <td>The basic reason why all previous revolutiona...</td>\n",
       "      <td>generated</td>\n",
       "    </tr>\n",
       "    <tr>\n",
       "      <th>2</th>\n",
       "      <td>A revolutionary party is the guide of the mas...</td>\n",
       "      <td>generated</td>\n",
       "    </tr>\n",
       "    <tr>\n",
       "      <th>3</th>\n",
       "      <td>To ensure that we will definitely achieve suc...</td>\n",
       "      <td>generated</td>\n",
       "    </tr>\n",
       "    <tr>\n",
       "      <th>4</th>\n",
       "      <td></td>\n",
       "      <td>generated</td>\n",
       "    </tr>\n",
       "  </tbody>\n",
       "</table>\n",
       "</div>"
      ],
      "text/plain": [
       "                                            Sentence     source\n",
       "0  a question of the first importance for the rev...  generated\n",
       "1   The basic reason why all previous revolutiona...  generated\n",
       "2   A revolutionary party is the guide of the mas...  generated\n",
       "3   To ensure that we will definitely achieve suc...  generated\n",
       "4                                                     generated"
      ]
     },
     "execution_count": 17,
     "metadata": {},
     "output_type": "execute_result"
    }
   ],
   "source": [
    "generated_df[\"source\"] = \"generated\"\n",
    "generated_df"
   ]
  },
  {
   "cell_type": "code",
   "execution_count": 18,
   "id": "approved-bradford",
   "metadata": {},
   "outputs": [
    {
     "data": {
      "text/html": [
       "<div>\n",
       "<style scoped>\n",
       "    .dataframe tbody tr th:only-of-type {\n",
       "        vertical-align: middle;\n",
       "    }\n",
       "\n",
       "    .dataframe tbody tr th {\n",
       "        vertical-align: top;\n",
       "    }\n",
       "\n",
       "    .dataframe thead th {\n",
       "        text-align: right;\n",
       "    }\n",
       "</style>\n",
       "<table border=\"1\" class=\"dataframe\">\n",
       "  <thead>\n",
       "    <tr style=\"text-align: right;\">\n",
       "      <th></th>\n",
       "      <th>Sentence</th>\n",
       "      <th>source</th>\n",
       "    </tr>\n",
       "  </thead>\n",
       "  <tbody>\n",
       "    <tr>\n",
       "      <th>0</th>\n",
       "      <td>Who are our enemies</td>\n",
       "      <td>original</td>\n",
       "    </tr>\n",
       "    <tr>\n",
       "      <th>1</th>\n",
       "      <td>Who are our friends</td>\n",
       "      <td>original</td>\n",
       "    </tr>\n",
       "    <tr>\n",
       "      <th>2</th>\n",
       "      <td>This is a question of the first importance fo...</td>\n",
       "      <td>original</td>\n",
       "    </tr>\n",
       "    <tr>\n",
       "      <th>3</th>\n",
       "      <td>The basic reason why all previous revolutiona...</td>\n",
       "      <td>original</td>\n",
       "    </tr>\n",
       "    <tr>\n",
       "      <th>4</th>\n",
       "      <td>A revolutionary party is the guide of the mas...</td>\n",
       "      <td>original</td>\n",
       "    </tr>\n",
       "    <tr>\n",
       "      <th>...</th>\n",
       "      <td>...</td>\n",
       "      <td>...</td>\n",
       "    </tr>\n",
       "    <tr>\n",
       "      <th>118</th>\n",
       "      <td>a question of the first importance for the rev...</td>\n",
       "      <td>generated</td>\n",
       "    </tr>\n",
       "    <tr>\n",
       "      <th>119</th>\n",
       "      <td>The basic reason why all previous revolutiona...</td>\n",
       "      <td>generated</td>\n",
       "    </tr>\n",
       "    <tr>\n",
       "      <th>120</th>\n",
       "      <td>A revolutionary party is the guide of the mas...</td>\n",
       "      <td>generated</td>\n",
       "    </tr>\n",
       "    <tr>\n",
       "      <th>121</th>\n",
       "      <td>To ensure that we will definitely achieve suc...</td>\n",
       "      <td>generated</td>\n",
       "    </tr>\n",
       "    <tr>\n",
       "      <th>122</th>\n",
       "      <td></td>\n",
       "      <td>generated</td>\n",
       "    </tr>\n",
       "  </tbody>\n",
       "</table>\n",
       "<p>123 rows × 2 columns</p>\n",
       "</div>"
      ],
      "text/plain": [
       "                                              Sentence     source\n",
       "0                                  Who are our enemies   original\n",
       "1                                  Who are our friends   original\n",
       "2     This is a question of the first importance fo...   original\n",
       "3     The basic reason why all previous revolutiona...   original\n",
       "4     A revolutionary party is the guide of the mas...   original\n",
       "..                                                 ...        ...\n",
       "118  a question of the first importance for the rev...  generated\n",
       "119   The basic reason why all previous revolutiona...  generated\n",
       "120   A revolutionary party is the guide of the mas...  generated\n",
       "121   To ensure that we will definitely achieve suc...  generated\n",
       "122                                                     generated\n",
       "\n",
       "[123 rows x 2 columns]"
      ]
     },
     "execution_count": 18,
     "metadata": {},
     "output_type": "execute_result"
    }
   ],
   "source": [
    "mao_df = mao_df.append(generated_df,ignore_index=True)\n",
    "mao_df"
   ]
  },
  {
   "cell_type": "code",
   "execution_count": 19,
   "id": "covered-underground",
   "metadata": {},
   "outputs": [
    {
     "data": {
      "text/html": [
       "<div>\n",
       "<style scoped>\n",
       "    .dataframe tbody tr th:only-of-type {\n",
       "        vertical-align: middle;\n",
       "    }\n",
       "\n",
       "    .dataframe tbody tr th {\n",
       "        vertical-align: top;\n",
       "    }\n",
       "\n",
       "    .dataframe thead th {\n",
       "        text-align: right;\n",
       "    }\n",
       "</style>\n",
       "<table border=\"1\" class=\"dataframe\">\n",
       "  <thead>\n",
       "    <tr style=\"text-align: right;\">\n",
       "      <th></th>\n",
       "      <th>Sentence</th>\n",
       "      <th>source</th>\n",
       "      <th>NumWords</th>\n",
       "    </tr>\n",
       "  </thead>\n",
       "  <tbody>\n",
       "    <tr>\n",
       "      <th>0</th>\n",
       "      <td>Who are our enemies</td>\n",
       "      <td>original</td>\n",
       "      <td>4</td>\n",
       "    </tr>\n",
       "    <tr>\n",
       "      <th>1</th>\n",
       "      <td>Who are our friends</td>\n",
       "      <td>original</td>\n",
       "      <td>4</td>\n",
       "    </tr>\n",
       "    <tr>\n",
       "      <th>2</th>\n",
       "      <td>This is a question of the first importance fo...</td>\n",
       "      <td>original</td>\n",
       "      <td>11</td>\n",
       "    </tr>\n",
       "    <tr>\n",
       "      <th>3</th>\n",
       "      <td>The basic reason why all previous revolutiona...</td>\n",
       "      <td>original</td>\n",
       "      <td>27</td>\n",
       "    </tr>\n",
       "    <tr>\n",
       "      <th>4</th>\n",
       "      <td>A revolutionary party is the guide of the mas...</td>\n",
       "      <td>original</td>\n",
       "      <td>21</td>\n",
       "    </tr>\n",
       "  </tbody>\n",
       "</table>\n",
       "</div>"
      ],
      "text/plain": [
       "                                            Sentence    source  NumWords\n",
       "0                                Who are our enemies  original         4\n",
       "1                                Who are our friends  original         4\n",
       "2   This is a question of the first importance fo...  original        11\n",
       "3   The basic reason why all previous revolutiona...  original        27\n",
       "4   A revolutionary party is the guide of the mas...  original        21"
      ]
     },
     "execution_count": 19,
     "metadata": {},
     "output_type": "execute_result"
    }
   ],
   "source": [
    "mao_df['NumWords'] = mao_df['Sentence'].apply(lambda x: len(x.split()))\n",
    "mao_df.head()"
   ]
  },
  {
   "cell_type": "markdown",
   "id": "younger-establishment",
   "metadata": {},
   "source": [
    "Let's do some cleaning operations like turning all words to lowercase, remove punctuation and non-ASCII characters which are irrelevant for modeling topics."
   ]
  },
  {
   "cell_type": "code",
   "execution_count": 20,
   "id": "narrow-snapshot",
   "metadata": {},
   "outputs": [],
   "source": [
    "import re\n",
    "NON_ALPHANUM = re.compile(r'[\\W]')\n",
    "NON_ASCII = re.compile(r'[^a-z0-1\\s]')\n",
    "def normalize_texts(texts):\n",
    "    normalized_texts = ''\n",
    "    lower = texts.lower()\n",
    "    no_punctuation = NON_ALPHANUM.sub(r' ', lower)\n",
    "    no_non_ascii = NON_ASCII.sub(r'', no_punctuation)\n",
    "    return no_non_ascii\n",
    "  \n",
    "mao_df['Sentence2'] = mao_df['Sentence'].apply(normalize_texts)\n",
    "mao_df['Sentence2'] = mao_df['Sentence2'].apply(lambda x: ' '.join([w for w in x.split() if len(w)>2]))"
   ]
  },
  {
   "cell_type": "code",
   "execution_count": 21,
   "id": "nutritional-census",
   "metadata": {},
   "outputs": [
    {
     "data": {
      "text/html": [
       "<div>\n",
       "<style scoped>\n",
       "    .dataframe tbody tr th:only-of-type {\n",
       "        vertical-align: middle;\n",
       "    }\n",
       "\n",
       "    .dataframe tbody tr th {\n",
       "        vertical-align: top;\n",
       "    }\n",
       "\n",
       "    .dataframe thead th {\n",
       "        text-align: right;\n",
       "    }\n",
       "</style>\n",
       "<table border=\"1\" class=\"dataframe\">\n",
       "  <thead>\n",
       "    <tr style=\"text-align: right;\">\n",
       "      <th></th>\n",
       "      <th>Sentence</th>\n",
       "      <th>source</th>\n",
       "      <th>NumWords</th>\n",
       "      <th>Sentence2</th>\n",
       "    </tr>\n",
       "  </thead>\n",
       "  <tbody>\n",
       "    <tr>\n",
       "      <th>0</th>\n",
       "      <td>Who are our enemies</td>\n",
       "      <td>original</td>\n",
       "      <td>4</td>\n",
       "      <td>who are our enemies</td>\n",
       "    </tr>\n",
       "    <tr>\n",
       "      <th>1</th>\n",
       "      <td>Who are our friends</td>\n",
       "      <td>original</td>\n",
       "      <td>4</td>\n",
       "      <td>who are our friends</td>\n",
       "    </tr>\n",
       "    <tr>\n",
       "      <th>2</th>\n",
       "      <td>This is a question of the first importance fo...</td>\n",
       "      <td>original</td>\n",
       "      <td>11</td>\n",
       "      <td>this question the first importance for the rev...</td>\n",
       "    </tr>\n",
       "    <tr>\n",
       "      <th>3</th>\n",
       "      <td>The basic reason why all previous revolutiona...</td>\n",
       "      <td>original</td>\n",
       "      <td>27</td>\n",
       "      <td>the basic reason why all previous revolutionar...</td>\n",
       "    </tr>\n",
       "    <tr>\n",
       "      <th>4</th>\n",
       "      <td>A revolutionary party is the guide of the mas...</td>\n",
       "      <td>original</td>\n",
       "      <td>21</td>\n",
       "      <td>revolutionary party the guide the masses and r...</td>\n",
       "    </tr>\n",
       "  </tbody>\n",
       "</table>\n",
       "</div>"
      ],
      "text/plain": [
       "                                            Sentence    source  NumWords  \\\n",
       "0                                Who are our enemies  original         4   \n",
       "1                                Who are our friends  original         4   \n",
       "2   This is a question of the first importance fo...  original        11   \n",
       "3   The basic reason why all previous revolutiona...  original        27   \n",
       "4   A revolutionary party is the guide of the mas...  original        21   \n",
       "\n",
       "                                           Sentence2  \n",
       "0                                who are our enemies  \n",
       "1                                who are our friends  \n",
       "2  this question the first importance for the rev...  \n",
       "3  the basic reason why all previous revolutionar...  \n",
       "4  revolutionary party the guide the masses and r...  "
      ]
     },
     "execution_count": 21,
     "metadata": {},
     "output_type": "execute_result"
    }
   ],
   "source": [
    "mao_df.head()"
   ]
  },
  {
   "cell_type": "markdown",
   "id": "contrary-chemistry",
   "metadata": {},
   "source": [
    "Remove short sentence"
   ]
  },
  {
   "cell_type": "code",
   "execution_count": 22,
   "id": "little-mattress",
   "metadata": {},
   "outputs": [
    {
     "data": {
      "text/html": [
       "<div>\n",
       "<style scoped>\n",
       "    .dataframe tbody tr th:only-of-type {\n",
       "        vertical-align: middle;\n",
       "    }\n",
       "\n",
       "    .dataframe tbody tr th {\n",
       "        vertical-align: top;\n",
       "    }\n",
       "\n",
       "    .dataframe thead th {\n",
       "        text-align: right;\n",
       "    }\n",
       "</style>\n",
       "<table border=\"1\" class=\"dataframe\">\n",
       "  <thead>\n",
       "    <tr style=\"text-align: right;\">\n",
       "      <th></th>\n",
       "      <th>Sentence</th>\n",
       "      <th>source</th>\n",
       "      <th>NumWords</th>\n",
       "      <th>Sentence2</th>\n",
       "    </tr>\n",
       "  </thead>\n",
       "  <tbody>\n",
       "    <tr>\n",
       "      <th>0</th>\n",
       "      <td>Who are our enemies</td>\n",
       "      <td>original</td>\n",
       "      <td>4</td>\n",
       "      <td>who are our enemies</td>\n",
       "    </tr>\n",
       "    <tr>\n",
       "      <th>1</th>\n",
       "      <td>Who are our friends</td>\n",
       "      <td>original</td>\n",
       "      <td>4</td>\n",
       "      <td>who are our friends</td>\n",
       "    </tr>\n",
       "    <tr>\n",
       "      <th>17</th>\n",
       "      <td>The middle bourgeoisie</td>\n",
       "      <td>original</td>\n",
       "      <td>3</td>\n",
       "      <td>the middle bourgeoisie</td>\n",
       "    </tr>\n",
       "    <tr>\n",
       "      <th>29</th>\n",
       "      <td>The petty bourgeoisie</td>\n",
       "      <td>original</td>\n",
       "      <td>3</td>\n",
       "      <td>the petty bourgeoisie</td>\n",
       "    </tr>\n",
       "    <tr>\n",
       "      <th>52</th>\n",
       "      <td>Another deficit</td>\n",
       "      <td>original</td>\n",
       "      <td>2</td>\n",
       "      <td>another deficit</td>\n",
       "    </tr>\n",
       "    <tr>\n",
       "      <th>60</th>\n",
       "      <td>The semi-proletariat</td>\n",
       "      <td>original</td>\n",
       "      <td>2</td>\n",
       "      <td>the semi proletariat</td>\n",
       "    </tr>\n",
       "    <tr>\n",
       "      <th>88</th>\n",
       "      <td>The proletariat</td>\n",
       "      <td>original</td>\n",
       "      <td>2</td>\n",
       "      <td>the proletariat</td>\n",
       "    </tr>\n",
       "  </tbody>\n",
       "</table>\n",
       "</div>"
      ],
      "text/plain": [
       "                  Sentence    source  NumWords               Sentence2\n",
       "0      Who are our enemies  original         4     who are our enemies\n",
       "1      Who are our friends  original         4     who are our friends\n",
       "17  The middle bourgeoisie  original         3  the middle bourgeoisie\n",
       "29   The petty bourgeoisie  original         3   the petty bourgeoisie\n",
       "52         Another deficit  original         2         another deficit\n",
       "60    The semi-proletariat  original         2    the semi proletariat\n",
       "88         The proletariat  original         2         the proletariat"
      ]
     },
     "execution_count": 22,
     "metadata": {},
     "output_type": "execute_result"
    }
   ],
   "source": [
    "mao_df = mao_df[mao_df.NumWords>0]\n",
    "short_sentence = mao_df[mao_df.NumWords<5]\n",
    "short_sentence"
   ]
  },
  {
   "cell_type": "code",
   "execution_count": 23,
   "id": "minute-france",
   "metadata": {},
   "outputs": [
    {
     "data": {
      "text/html": [
       "<div>\n",
       "<style scoped>\n",
       "    .dataframe tbody tr th:only-of-type {\n",
       "        vertical-align: middle;\n",
       "    }\n",
       "\n",
       "    .dataframe tbody tr th {\n",
       "        vertical-align: top;\n",
       "    }\n",
       "\n",
       "    .dataframe thead th {\n",
       "        text-align: right;\n",
       "    }\n",
       "</style>\n",
       "<table border=\"1\" class=\"dataframe\">\n",
       "  <thead>\n",
       "    <tr style=\"text-align: right;\">\n",
       "      <th></th>\n",
       "      <th>Sentence</th>\n",
       "      <th>source</th>\n",
       "      <th>NumWords</th>\n",
       "      <th>Sentence2</th>\n",
       "    </tr>\n",
       "  </thead>\n",
       "  <tbody>\n",
       "    <tr>\n",
       "      <th>0</th>\n",
       "      <td>This is a question of the first importance fo...</td>\n",
       "      <td>original</td>\n",
       "      <td>11</td>\n",
       "      <td>this question the first importance for the rev...</td>\n",
       "    </tr>\n",
       "    <tr>\n",
       "      <th>1</th>\n",
       "      <td>The basic reason why all previous revolutiona...</td>\n",
       "      <td>original</td>\n",
       "      <td>27</td>\n",
       "      <td>the basic reason why all previous revolutionar...</td>\n",
       "    </tr>\n",
       "    <tr>\n",
       "      <th>2</th>\n",
       "      <td>A revolutionary party is the guide of the mas...</td>\n",
       "      <td>original</td>\n",
       "      <td>21</td>\n",
       "      <td>revolutionary party the guide the masses and r...</td>\n",
       "    </tr>\n",
       "    <tr>\n",
       "      <th>3</th>\n",
       "      <td>To ensure that we will definitely achieve suc...</td>\n",
       "      <td>original</td>\n",
       "      <td>35</td>\n",
       "      <td>ensure that will definitely achieve success ou...</td>\n",
       "    </tr>\n",
       "    <tr>\n",
       "      <th>4</th>\n",
       "      <td>To distinguish real friends from real enemies...</td>\n",
       "      <td>original</td>\n",
       "      <td>32</td>\n",
       "      <td>distinguish real friends from real enemies mus...</td>\n",
       "    </tr>\n",
       "    <tr>\n",
       "      <th>...</th>\n",
       "      <td>...</td>\n",
       "      <td>...</td>\n",
       "      <td>...</td>\n",
       "      <td>...</td>\n",
       "    </tr>\n",
       "    <tr>\n",
       "      <th>100</th>\n",
       "      <td>As for the vacillating middle bourgeoisie, th...</td>\n",
       "      <td>original</td>\n",
       "      <td>36</td>\n",
       "      <td>for the vacillating middle bourgeoisie their r...</td>\n",
       "    </tr>\n",
       "    <tr>\n",
       "      <th>101</th>\n",
       "      <td>a question of the first importance for the rev...</td>\n",
       "      <td>generated</td>\n",
       "      <td>9</td>\n",
       "      <td>question the first importance for the revolution</td>\n",
       "    </tr>\n",
       "    <tr>\n",
       "      <th>102</th>\n",
       "      <td>The basic reason why all previous revolutiona...</td>\n",
       "      <td>generated</td>\n",
       "      <td>27</td>\n",
       "      <td>the basic reason why all previous revolutionar...</td>\n",
       "    </tr>\n",
       "    <tr>\n",
       "      <th>103</th>\n",
       "      <td>A revolutionary party is the guide of the mas...</td>\n",
       "      <td>generated</td>\n",
       "      <td>21</td>\n",
       "      <td>revolutionary party the guide the masses and r...</td>\n",
       "    </tr>\n",
       "    <tr>\n",
       "      <th>104</th>\n",
       "      <td>To ensure that we will definitely achieve suc...</td>\n",
       "      <td>generated</td>\n",
       "      <td>27</td>\n",
       "      <td>ensure that will definitely achieve success ou...</td>\n",
       "    </tr>\n",
       "  </tbody>\n",
       "</table>\n",
       "<p>105 rows × 4 columns</p>\n",
       "</div>"
      ],
      "text/plain": [
       "                                              Sentence     source  NumWords  \\\n",
       "0     This is a question of the first importance fo...   original        11   \n",
       "1     The basic reason why all previous revolutiona...   original        27   \n",
       "2     A revolutionary party is the guide of the mas...   original        21   \n",
       "3     To ensure that we will definitely achieve suc...   original        35   \n",
       "4     To distinguish real friends from real enemies...   original        32   \n",
       "..                                                 ...        ...       ...   \n",
       "100   As for the vacillating middle bourgeoisie, th...   original        36   \n",
       "101  a question of the first importance for the rev...  generated         9   \n",
       "102   The basic reason why all previous revolutiona...  generated        27   \n",
       "103   A revolutionary party is the guide of the mas...  generated        21   \n",
       "104   To ensure that we will definitely achieve suc...  generated        27   \n",
       "\n",
       "                                             Sentence2  \n",
       "0    this question the first importance for the rev...  \n",
       "1    the basic reason why all previous revolutionar...  \n",
       "2    revolutionary party the guide the masses and r...  \n",
       "3    ensure that will definitely achieve success ou...  \n",
       "4    distinguish real friends from real enemies mus...  \n",
       "..                                                 ...  \n",
       "100  for the vacillating middle bourgeoisie their r...  \n",
       "101   question the first importance for the revolution  \n",
       "102  the basic reason why all previous revolutionar...  \n",
       "103  revolutionary party the guide the masses and r...  \n",
       "104  ensure that will definitely achieve success ou...  \n",
       "\n",
       "[105 rows x 4 columns]"
      ]
     },
     "execution_count": 23,
     "metadata": {},
     "output_type": "execute_result"
    }
   ],
   "source": [
    "mao_df = mao_df[mao_df.NumWords>=5]\n",
    "mao_df = mao_df.reset_index(drop=True)\n",
    "mao_df"
   ]
  },
  {
   "cell_type": "markdown",
   "id": "political-weekly",
   "metadata": {},
   "source": [
    "# Sentence Embedding"
   ]
  },
  {
   "cell_type": "code",
   "execution_count": 24,
   "id": "inner-cancellation",
   "metadata": {},
   "outputs": [],
   "source": [
    "from sentence_transformers import SentenceTransformer\n",
    "\n",
    "model = SentenceTransformer('stsb-roberta-large')"
   ]
  },
  {
   "cell_type": "code",
   "execution_count": 25,
   "id": "surgical-enforcement",
   "metadata": {},
   "outputs": [
    {
     "data": {
      "text/plain": [
       "(105, 1024)"
      ]
     },
     "execution_count": 25,
     "metadata": {},
     "output_type": "execute_result"
    }
   ],
   "source": [
    "sentence_embeddings = model.encode(mao_df.Sentence2)\n",
    "sentence_embeddings.shape"
   ]
  },
  {
   "cell_type": "markdown",
   "id": "pending-freeware",
   "metadata": {},
   "source": [
    "# Kmeans"
   ]
  },
  {
   "cell_type": "markdown",
   "id": "applied-twenty",
   "metadata": {},
   "source": [
    "Try to find the best k, let us use `Silhouette Coefficient`"
   ]
  },
  {
   "cell_type": "markdown",
   "id": "intellectual-rubber",
   "metadata": {},
   "source": [
    "Silhouette Coefficient    \n",
    "https://en.wikipedia.org/wiki/Silhouette_(clustering)   \n",
    "\n",
    "-1<=Si<=1   \n",
    "The clusting performance is better when the Silhouette Coefficient is close to 1"
   ]
  },
  {
   "cell_type": "code",
   "execution_count": 26,
   "id": "endangered-edwards",
   "metadata": {},
   "outputs": [
    {
     "data": {
      "image/png": "[encoded data removed]",
      "text/plain": [
       "<Figure size 432x288 with 1 Axes>"
      ]
     },
     "metadata": {
      "needs_background": "light"
     },
     "output_type": "display_data"
    }
   ],
   "source": [
    "from sklearn import metrics\n",
    "from sklearn.cluster import KMeans\n",
    "\n",
    "scores = []\n",
    "for k in range(2,20):\n",
    "    labels = KMeans(n_clusters=k).fit(sentence_embeddings).labels_\n",
    "    score = metrics.silhouette_score(sentence_embeddings, labels)\n",
    "    scores.append(score)\n",
    "\n",
    "plt.plot(list(range(2,20)),scores)\n",
    "plt.xticks(range(0,22,1)) \n",
    "plt.grid(linestyle='--')\n",
    "plt.xlabel(\"Number of Clusters Initialized\")\n",
    "plt.ylabel(\"Sihouette Score\")\n",
    "sns.despine()"
   ]
  },
  {
   "cell_type": "code",
   "execution_count": null,
   "id": "round-purpose",
   "metadata": {},
   "outputs": [],
   "source": []
  },
  {
   "cell_type": "markdown",
   "id": "digital-allah",
   "metadata": {},
   "source": [
    "## 6 cluster Kmeans"
   ]
  },
  {
   "cell_type": "code",
   "execution_count": 27,
   "id": "strategic-check",
   "metadata": {},
   "outputs": [],
   "source": [
    "from sklearn.cluster import KMeans\n",
    "km = KMeans(\n",
    "    n_clusters=6, init='random',\n",
    "    n_init=10, max_iter=300, \n",
    "    tol=1e-04, random_state=0\n",
    ")\n",
    "y_km = km.fit_predict(sentence_embeddings)\n",
    "cluster_df = pd.DataFrame({'sentence2':mao_df.Sentence2,'source': mao_df.source,'topic_cluster': y_km })"
   ]
  },
  {
   "cell_type": "code",
   "execution_count": 28,
   "id": "nervous-implementation",
   "metadata": {},
   "outputs": [
    {
     "data": {
      "text/html": [
       "<div>\n",
       "<style scoped>\n",
       "    .dataframe tbody tr th:only-of-type {\n",
       "        vertical-align: middle;\n",
       "    }\n",
       "\n",
       "    .dataframe tbody tr th {\n",
       "        vertical-align: top;\n",
       "    }\n",
       "\n",
       "    .dataframe thead th {\n",
       "        text-align: right;\n",
       "    }\n",
       "</style>\n",
       "<table border=\"1\" class=\"dataframe\">\n",
       "  <thead>\n",
       "    <tr style=\"text-align: right;\">\n",
       "      <th></th>\n",
       "      <th>sentence2</th>\n",
       "      <th>source</th>\n",
       "      <th>topic_cluster</th>\n",
       "    </tr>\n",
       "  </thead>\n",
       "  <tbody>\n",
       "    <tr>\n",
       "      <th>0</th>\n",
       "      <td>this question the first importance for the rev...</td>\n",
       "      <td>original</td>\n",
       "      <td>4</td>\n",
       "    </tr>\n",
       "    <tr>\n",
       "      <th>1</th>\n",
       "      <td>the basic reason why all previous revolutionar...</td>\n",
       "      <td>original</td>\n",
       "      <td>2</td>\n",
       "    </tr>\n",
       "    <tr>\n",
       "      <th>2</th>\n",
       "      <td>revolutionary party the guide the masses and r...</td>\n",
       "      <td>original</td>\n",
       "      <td>2</td>\n",
       "    </tr>\n",
       "    <tr>\n",
       "      <th>3</th>\n",
       "      <td>ensure that will definitely achieve success ou...</td>\n",
       "      <td>original</td>\n",
       "      <td>2</td>\n",
       "    </tr>\n",
       "    <tr>\n",
       "      <th>4</th>\n",
       "      <td>distinguish real friends from real enemies mus...</td>\n",
       "      <td>original</td>\n",
       "      <td>1</td>\n",
       "    </tr>\n",
       "    <tr>\n",
       "      <th>...</th>\n",
       "      <td>...</td>\n",
       "      <td>...</td>\n",
       "      <td>...</td>\n",
       "    </tr>\n",
       "    <tr>\n",
       "      <th>100</th>\n",
       "      <td>for the vacillating middle bourgeoisie their r...</td>\n",
       "      <td>original</td>\n",
       "      <td>1</td>\n",
       "    </tr>\n",
       "    <tr>\n",
       "      <th>101</th>\n",
       "      <td>question the first importance for the revolution</td>\n",
       "      <td>generated</td>\n",
       "      <td>4</td>\n",
       "    </tr>\n",
       "    <tr>\n",
       "      <th>102</th>\n",
       "      <td>the basic reason why all previous revolutionar...</td>\n",
       "      <td>generated</td>\n",
       "      <td>2</td>\n",
       "    </tr>\n",
       "    <tr>\n",
       "      <th>103</th>\n",
       "      <td>revolutionary party the guide the masses and r...</td>\n",
       "      <td>generated</td>\n",
       "      <td>2</td>\n",
       "    </tr>\n",
       "    <tr>\n",
       "      <th>104</th>\n",
       "      <td>ensure that will definitely achieve success ou...</td>\n",
       "      <td>generated</td>\n",
       "      <td>2</td>\n",
       "    </tr>\n",
       "  </tbody>\n",
       "</table>\n",
       "<p>105 rows × 3 columns</p>\n",
       "</div>"
      ],
      "text/plain": [
       "                                             sentence2     source  \\\n",
       "0    this question the first importance for the rev...   original   \n",
       "1    the basic reason why all previous revolutionar...   original   \n",
       "2    revolutionary party the guide the masses and r...   original   \n",
       "3    ensure that will definitely achieve success ou...   original   \n",
       "4    distinguish real friends from real enemies mus...   original   \n",
       "..                                                 ...        ...   \n",
       "100  for the vacillating middle bourgeoisie their r...   original   \n",
       "101   question the first importance for the revolution  generated   \n",
       "102  the basic reason why all previous revolutionar...  generated   \n",
       "103  revolutionary party the guide the masses and r...  generated   \n",
       "104  ensure that will definitely achieve success ou...  generated   \n",
       "\n",
       "     topic_cluster  \n",
       "0                4  \n",
       "1                2  \n",
       "2                2  \n",
       "3                2  \n",
       "4                1  \n",
       "..             ...  \n",
       "100              1  \n",
       "101              4  \n",
       "102              2  \n",
       "103              2  \n",
       "104              2  \n",
       "\n",
       "[105 rows x 3 columns]"
      ]
     },
     "execution_count": 28,
     "metadata": {},
     "output_type": "execute_result"
    }
   ],
   "source": [
    "cluster_df"
   ]
  },
  {
   "cell_type": "code",
   "execution_count": 29,
   "id": "unsigned-india",
   "metadata": {},
   "outputs": [
    {
     "data": {
      "text/html": [
       "<div>\n",
       "<style scoped>\n",
       "    .dataframe tbody tr th:only-of-type {\n",
       "        vertical-align: middle;\n",
       "    }\n",
       "\n",
       "    .dataframe tbody tr th {\n",
       "        vertical-align: top;\n",
       "    }\n",
       "\n",
       "    .dataframe thead th {\n",
       "        text-align: right;\n",
       "    }\n",
       "</style>\n",
       "<table border=\"1\" class=\"dataframe\">\n",
       "  <thead>\n",
       "    <tr style=\"text-align: right;\">\n",
       "      <th></th>\n",
       "      <th>sentence2</th>\n",
       "      <th>source</th>\n",
       "      <th>topic_cluster</th>\n",
       "    </tr>\n",
       "  </thead>\n",
       "  <tbody>\n",
       "    <tr>\n",
       "      <th>26</th>\n",
       "      <td>the first section consists those who have some...</td>\n",
       "      <td>original</td>\n",
       "      <td>0</td>\n",
       "    </tr>\n",
       "    <tr>\n",
       "      <th>32</th>\n",
       "      <td>the second section consists those who the main...</td>\n",
       "      <td>original</td>\n",
       "      <td>0</td>\n",
       "    </tr>\n",
       "    <tr>\n",
       "      <th>35</th>\n",
       "      <td>they feel they cannot earn enough live just pu...</td>\n",
       "      <td>original</td>\n",
       "      <td>0</td>\n",
       "    </tr>\n",
       "    <tr>\n",
       "      <th>36</th>\n",
       "      <td>make both ends meet they have work longer hour...</td>\n",
       "      <td>original</td>\n",
       "      <td>0</td>\n",
       "    </tr>\n",
       "    <tr>\n",
       "      <th>54</th>\n",
       "      <td>the semi owner peasants are worse off than the...</td>\n",
       "      <td>original</td>\n",
       "      <td>0</td>\n",
       "    </tr>\n",
       "  </tbody>\n",
       "</table>\n",
       "</div>"
      ],
      "text/plain": [
       "                                            sentence2    source  topic_cluster\n",
       "26  the first section consists those who have some...  original              0\n",
       "32  the second section consists those who the main...  original              0\n",
       "35  they feel they cannot earn enough live just pu...  original              0\n",
       "36  make both ends meet they have work longer hour...  original              0\n",
       "54  the semi owner peasants are worse off than the...  original              0"
      ]
     },
     "execution_count": 29,
     "metadata": {},
     "output_type": "execute_result"
    }
   ],
   "source": [
    "cluster_df.loc[cluster_df['topic_cluster'] == 0].head()"
   ]
  },
  {
   "cell_type": "code",
   "execution_count": 30,
   "id": "mobile-pleasure",
   "metadata": {},
   "outputs": [
    {
     "data": {
      "text/html": [
       "<div>\n",
       "<style scoped>\n",
       "    .dataframe tbody tr th:only-of-type {\n",
       "        vertical-align: middle;\n",
       "    }\n",
       "\n",
       "    .dataframe tbody tr th {\n",
       "        vertical-align: top;\n",
       "    }\n",
       "\n",
       "    .dataframe thead th {\n",
       "        text-align: right;\n",
       "    }\n",
       "</style>\n",
       "<table border=\"1\" class=\"dataframe\">\n",
       "  <thead>\n",
       "    <tr style=\"text-align: right;\">\n",
       "      <th></th>\n",
       "      <th>sentence2</th>\n",
       "      <th>source</th>\n",
       "      <th>topic_cluster</th>\n",
       "    </tr>\n",
       "  </thead>\n",
       "  <tbody>\n",
       "    <tr>\n",
       "      <th>4</th>\n",
       "      <td>distinguish real friends from real enemies mus...</td>\n",
       "      <td>original</td>\n",
       "      <td>1</td>\n",
       "    </tr>\n",
       "    <tr>\n",
       "      <th>7</th>\n",
       "      <td>economically backward and semi colonial china ...</td>\n",
       "      <td>original</td>\n",
       "      <td>1</td>\n",
       "    </tr>\n",
       "    <tr>\n",
       "      <th>8</th>\n",
       "      <td>these classes represent the most backward and ...</td>\n",
       "      <td>original</td>\n",
       "      <td>1</td>\n",
       "    </tr>\n",
       "    <tr>\n",
       "      <th>9</th>\n",
       "      <td>their existence utterly incompatible with the ...</td>\n",
       "      <td>original</td>\n",
       "      <td>1</td>\n",
       "    </tr>\n",
       "    <tr>\n",
       "      <th>17</th>\n",
       "      <td>against interpreting the kuomintang principle ...</td>\n",
       "      <td>original</td>\n",
       "      <td>1</td>\n",
       "    </tr>\n",
       "  </tbody>\n",
       "</table>\n",
       "</div>"
      ],
      "text/plain": [
       "                                            sentence2    source  topic_cluster\n",
       "4   distinguish real friends from real enemies mus...  original              1\n",
       "7   economically backward and semi colonial china ...  original              1\n",
       "8   these classes represent the most backward and ...  original              1\n",
       "9   their existence utterly incompatible with the ...  original              1\n",
       "17  against interpreting the kuomintang principle ...  original              1"
      ]
     },
     "execution_count": 30,
     "metadata": {},
     "output_type": "execute_result"
    }
   ],
   "source": [
    "cluster_df.loc[cluster_df['topic_cluster'] == 1].head()"
   ]
  },
  {
   "cell_type": "code",
   "execution_count": 31,
   "id": "engaged-situation",
   "metadata": {},
   "outputs": [
    {
     "data": {
      "text/html": [
       "<div>\n",
       "<style scoped>\n",
       "    .dataframe tbody tr th:only-of-type {\n",
       "        vertical-align: middle;\n",
       "    }\n",
       "\n",
       "    .dataframe tbody tr th {\n",
       "        vertical-align: top;\n",
       "    }\n",
       "\n",
       "    .dataframe thead th {\n",
       "        text-align: right;\n",
       "    }\n",
       "</style>\n",
       "<table border=\"1\" class=\"dataframe\">\n",
       "  <thead>\n",
       "    <tr style=\"text-align: right;\">\n",
       "      <th></th>\n",
       "      <th>sentence2</th>\n",
       "      <th>source</th>\n",
       "      <th>topic_cluster</th>\n",
       "    </tr>\n",
       "  </thead>\n",
       "  <tbody>\n",
       "    <tr>\n",
       "      <th>1</th>\n",
       "      <td>the basic reason why all previous revolutionar...</td>\n",
       "      <td>original</td>\n",
       "      <td>2</td>\n",
       "    </tr>\n",
       "    <tr>\n",
       "      <th>2</th>\n",
       "      <td>revolutionary party the guide the masses and r...</td>\n",
       "      <td>original</td>\n",
       "      <td>2</td>\n",
       "    </tr>\n",
       "    <tr>\n",
       "      <th>3</th>\n",
       "      <td>ensure that will definitely achieve success ou...</td>\n",
       "      <td>original</td>\n",
       "      <td>2</td>\n",
       "    </tr>\n",
       "    <tr>\n",
       "      <th>13</th>\n",
       "      <td>the middle bourgeoisie which meant chiefly the...</td>\n",
       "      <td>original</td>\n",
       "      <td>2</td>\n",
       "    </tr>\n",
       "    <tr>\n",
       "      <th>15</th>\n",
       "      <td>self styled true disciple tai chi tao wrote th...</td>\n",
       "      <td>original</td>\n",
       "      <td>2</td>\n",
       "    </tr>\n",
       "  </tbody>\n",
       "</table>\n",
       "</div>"
      ],
      "text/plain": [
       "                                            sentence2    source  topic_cluster\n",
       "1   the basic reason why all previous revolutionar...  original              2\n",
       "2   revolutionary party the guide the masses and r...  original              2\n",
       "3   ensure that will definitely achieve success ou...  original              2\n",
       "13  the middle bourgeoisie which meant chiefly the...  original              2\n",
       "15  self styled true disciple tai chi tao wrote th...  original              2"
      ]
     },
     "execution_count": 31,
     "metadata": {},
     "output_type": "execute_result"
    }
   ],
   "source": [
    "cluster_df.loc[cluster_df['topic_cluster'] == 2].head()"
   ]
  },
  {
   "cell_type": "code",
   "execution_count": 32,
   "id": "breeding-wedding",
   "metadata": {},
   "outputs": [
    {
     "data": {
      "text/html": [
       "<div>\n",
       "<style scoped>\n",
       "    .dataframe tbody tr th:only-of-type {\n",
       "        vertical-align: middle;\n",
       "    }\n",
       "\n",
       "    .dataframe tbody tr th {\n",
       "        vertical-align: top;\n",
       "    }\n",
       "\n",
       "    .dataframe thead th {\n",
       "        text-align: right;\n",
       "    }\n",
       "</style>\n",
       "<table border=\"1\" class=\"dataframe\">\n",
       "  <thead>\n",
       "    <tr style=\"text-align: right;\">\n",
       "      <th></th>\n",
       "      <th>sentence2</th>\n",
       "      <th>source</th>\n",
       "      <th>topic_cluster</th>\n",
       "    </tr>\n",
       "  </thead>\n",
       "  <tbody>\n",
       "    <tr>\n",
       "      <th>6</th>\n",
       "      <td>the landlord class and the comprador class</td>\n",
       "      <td>original</td>\n",
       "      <td>3</td>\n",
       "    </tr>\n",
       "    <tr>\n",
       "      <th>10</th>\n",
       "      <td>the big landlord and big comprador classes par...</td>\n",
       "      <td>original</td>\n",
       "      <td>3</td>\n",
       "    </tr>\n",
       "    <tr>\n",
       "      <th>11</th>\n",
       "      <td>their political representatives are the tatist...</td>\n",
       "      <td>original</td>\n",
       "      <td>3</td>\n",
       "    </tr>\n",
       "    <tr>\n",
       "      <th>14</th>\n",
       "      <td>politically they stand for the establishment s...</td>\n",
       "      <td>original</td>\n",
       "      <td>3</td>\n",
       "    </tr>\n",
       "    <tr>\n",
       "      <th>21</th>\n",
       "      <td>therefore the idea cherished china middle bour...</td>\n",
       "      <td>original</td>\n",
       "      <td>3</td>\n",
       "    </tr>\n",
       "  </tbody>\n",
       "</table>\n",
       "</div>"
      ],
      "text/plain": [
       "                                            sentence2    source  topic_cluster\n",
       "6          the landlord class and the comprador class  original              3\n",
       "10  the big landlord and big comprador classes par...  original              3\n",
       "11  their political representatives are the tatist...  original              3\n",
       "14  politically they stand for the establishment s...  original              3\n",
       "21  therefore the idea cherished china middle bour...  original              3"
      ]
     },
     "execution_count": 32,
     "metadata": {},
     "output_type": "execute_result"
    }
   ],
   "source": [
    "cluster_df.loc[cluster_df['topic_cluster'] == 3].head()"
   ]
  },
  {
   "cell_type": "code",
   "execution_count": 33,
   "id": "indoor-slovenia",
   "metadata": {},
   "outputs": [
    {
     "data": {
      "text/html": [
       "<div>\n",
       "<style scoped>\n",
       "    .dataframe tbody tr th:only-of-type {\n",
       "        vertical-align: middle;\n",
       "    }\n",
       "\n",
       "    .dataframe tbody tr th {\n",
       "        vertical-align: top;\n",
       "    }\n",
       "\n",
       "    .dataframe thead th {\n",
       "        text-align: right;\n",
       "    }\n",
       "</style>\n",
       "<table border=\"1\" class=\"dataframe\">\n",
       "  <thead>\n",
       "    <tr style=\"text-align: right;\">\n",
       "      <th></th>\n",
       "      <th>sentence2</th>\n",
       "      <th>source</th>\n",
       "      <th>topic_cluster</th>\n",
       "    </tr>\n",
       "  </thead>\n",
       "  <tbody>\n",
       "    <tr>\n",
       "      <th>0</th>\n",
       "      <td>this question the first importance for the rev...</td>\n",
       "      <td>original</td>\n",
       "      <td>4</td>\n",
       "    </tr>\n",
       "    <tr>\n",
       "      <th>5</th>\n",
       "      <td>what the condition each the classes chinese so...</td>\n",
       "      <td>original</td>\n",
       "      <td>4</td>\n",
       "    </tr>\n",
       "    <tr>\n",
       "      <th>12</th>\n",
       "      <td>this class represents the capitalist relations...</td>\n",
       "      <td>original</td>\n",
       "      <td>4</td>\n",
       "    </tr>\n",
       "    <tr>\n",
       "      <th>16</th>\n",
       "      <td>these words depict the dilemma and anxiety thi...</td>\n",
       "      <td>original</td>\n",
       "      <td>4</td>\n",
       "    </tr>\n",
       "    <tr>\n",
       "      <th>19</th>\n",
       "      <td>each has hoisted huge banner one the red banne...</td>\n",
       "      <td>original</td>\n",
       "      <td>4</td>\n",
       "    </tr>\n",
       "  </tbody>\n",
       "</table>\n",
       "</div>"
      ],
      "text/plain": [
       "                                            sentence2    source  topic_cluster\n",
       "0   this question the first importance for the rev...  original              4\n",
       "5   what the condition each the classes chinese so...  original              4\n",
       "12  this class represents the capitalist relations...  original              4\n",
       "16  these words depict the dilemma and anxiety thi...  original              4\n",
       "19  each has hoisted huge banner one the red banne...  original              4"
      ]
     },
     "execution_count": 33,
     "metadata": {},
     "output_type": "execute_result"
    }
   ],
   "source": [
    "cluster_df.loc[cluster_df['topic_cluster'] == 4].head()"
   ]
  },
  {
   "cell_type": "code",
   "execution_count": 34,
   "id": "naval-cemetery",
   "metadata": {},
   "outputs": [
    {
     "data": {
      "text/html": [
       "<div>\n",
       "<style scoped>\n",
       "    .dataframe tbody tr th:only-of-type {\n",
       "        vertical-align: middle;\n",
       "    }\n",
       "\n",
       "    .dataframe tbody tr th {\n",
       "        vertical-align: top;\n",
       "    }\n",
       "\n",
       "    .dataframe thead th {\n",
       "        text-align: right;\n",
       "    }\n",
       "</style>\n",
       "<table border=\"1\" class=\"dataframe\">\n",
       "  <thead>\n",
       "    <tr style=\"text-align: right;\">\n",
       "      <th></th>\n",
       "      <th>sentence2</th>\n",
       "      <th>source</th>\n",
       "      <th>topic_cluster</th>\n",
       "    </tr>\n",
       "  </thead>\n",
       "  <tbody>\n",
       "    <tr>\n",
       "      <th>22</th>\n",
       "      <td>included this category are the owner peasants ...</td>\n",
       "      <td>original</td>\n",
       "      <td>5</td>\n",
       "    </tr>\n",
       "    <tr>\n",
       "      <th>24</th>\n",
       "      <td>the owner peasants and the master handicraftsm...</td>\n",
       "      <td>original</td>\n",
       "      <td>5</td>\n",
       "    </tr>\n",
       "    <tr>\n",
       "      <th>41</th>\n",
       "      <td>many this section who originally belonged bett...</td>\n",
       "      <td>original</td>\n",
       "      <td>5</td>\n",
       "    </tr>\n",
       "    <tr>\n",
       "      <th>48</th>\n",
       "      <td>can see from the experience the may 0th moveme...</td>\n",
       "      <td>original</td>\n",
       "      <td>5</td>\n",
       "    </tr>\n",
       "    <tr>\n",
       "      <th>49</th>\n",
       "      <td>what here called the semi proletariat consists...</td>\n",
       "      <td>original</td>\n",
       "      <td>5</td>\n",
       "    </tr>\n",
       "  </tbody>\n",
       "</table>\n",
       "</div>"
      ],
      "text/plain": [
       "                                            sentence2    source  topic_cluster\n",
       "22  included this category are the owner peasants ...  original              5\n",
       "24  the owner peasants and the master handicraftsm...  original              5\n",
       "41  many this section who originally belonged bett...  original              5\n",
       "48  can see from the experience the may 0th moveme...  original              5\n",
       "49  what here called the semi proletariat consists...  original              5"
      ]
     },
     "execution_count": 34,
     "metadata": {},
     "output_type": "execute_result"
    }
   ],
   "source": [
    "cluster_df.loc[cluster_df['topic_cluster'] == 5].head()"
   ]
  },
  {
   "cell_type": "code",
   "execution_count": 36,
   "id": "favorite-vienna",
   "metadata": {},
   "outputs": [
    {
     "data": {
      "text/plain": [
       "array([[-0.3939128 ,  0.893451  , -0.11567076, ...,  0.44335258,\n",
       "        -0.31773496, -0.46302038],\n",
       "       [-0.4107834 ,  1.0534973 ,  0.1507465 , ...,  0.17193446,\n",
       "        -0.8896694 ,  0.38475296],\n",
       "       [ 0.11309437,  1.0105208 ,  0.1718247 , ...,  0.82673985,\n",
       "        -0.76593053,  0.85761756],\n",
       "       [-0.30220804,  0.730815  , -0.08379164, ..., -0.24545503,\n",
       "        -0.985092  , -0.05511746],\n",
       "       [ 0.02371818,  0.5586251 ,  0.16066164, ...,  0.40956616,\n",
       "        -1.1048081 ,  0.30005953],\n",
       "       [-0.38890186,  0.91148883, -0.18254144, ...,  1.0048051 ,\n",
       "        -1.2417094 ,  0.31843004]], dtype=float32)"
      ]
     },
     "execution_count": 36,
     "metadata": {},
     "output_type": "execute_result"
    }
   ],
   "source": [
    "centers = km.cluster_centers_\n",
    "centers"
   ]
  },
  {
   "cell_type": "code",
   "execution_count": null,
   "id": "utility-particular",
   "metadata": {},
   "outputs": [],
   "source": []
  },
  {
   "cell_type": "markdown",
   "id": "growing-lease",
   "metadata": {},
   "source": [
    "Select a sentence which is cloest to each group center"
   ]
  },
  {
   "cell_type": "code",
   "execution_count": 38,
   "id": "nonprofit-doubt",
   "metadata": {},
   "outputs": [],
   "source": [
    "def select_center_sentence(group_id):\n",
    "    distance =[]\n",
    "    # get one group sentence embeddings\n",
    "    group_sentence_embeddings = sentence_embeddings[cluster_df['topic_cluster'] == group_id]\n",
    "    print('there are %d sentences in group %d'%(len(group_sentence_embeddings),group_id))\n",
    "    for sentence in group_sentence_embeddings:\n",
    "        dis = 0\n",
    "        for index in range(len(sentence)):\n",
    "            # calculate the distance between this sentence and group center\n",
    "            dis = dis + (sentence[index] - centers[group_id][index])**2\n",
    "        distance.append(dis)\n",
    "    \n",
    "    # get the min distance's index\n",
    "    min_index = distance.index(min(distance))\n",
    "    df_group = cluster_df.loc[cluster_df['topic_cluster'] == group_id]\n",
    "    df_group = df_group.reset_index(drop=True)\n",
    "    return df_group.sentence2[min_index],df_group.source[min_index]"
   ]
  },
  {
   "cell_type": "code",
   "execution_count": 39,
   "id": "artistic-bristol",
   "metadata": {},
   "outputs": [
    {
     "name": "stdout",
     "output_type": "stream",
     "text": [
      "there are 18 sentences in group 0\n"
     ]
    },
    {
     "data": {
      "text/plain": [
       "('the semi owner peasants are worse off than the owner peasants because every year they are short about half the food they need and have make this deficit renting land from others selling part their labour power engaging petty trading',\n",
       " 'original')"
      ]
     },
     "execution_count": 39,
     "metadata": {},
     "output_type": "execute_result"
    }
   ],
   "source": [
    "group0_belief,author = select_center_sentence(group_id = 0)\n",
    "group0_belief,author"
   ]
  },
  {
   "cell_type": "code",
   "execution_count": 40,
   "id": "otherwise-marina",
   "metadata": {},
   "outputs": [
    {
     "name": "stdout",
     "output_type": "stream",
     "text": [
      "there are 24 sentences in group 1\n"
     ]
    },
    {
     "data": {
      "text/plain": [
       "('they are quite different from the people the first section they also want get rich but marshal chao never lets them',\n",
       " 'original')"
      ]
     },
     "execution_count": 40,
     "metadata": {},
     "output_type": "execute_result"
    }
   ],
   "source": [
    "group1_belief,author = select_center_sentence(group_id = 1)\n",
    "group1_belief,author"
   ]
  },
  {
   "cell_type": "code",
   "execution_count": 41,
   "id": "selected-warehouse",
   "metadata": {},
   "outputs": [
    {
     "name": "stdout",
     "output_type": "stream",
     "text": [
      "there are 20 sentences in group 2\n"
     ]
    },
    {
     "data": {
      "text/plain": [
       "('the basic reason why all previous revolutionary struggles china achieved little was their failure unite with real friends order attack real enemies',\n",
       " 'original')"
      ]
     },
     "execution_count": 41,
     "metadata": {},
     "output_type": "execute_result"
    }
   ],
   "source": [
    "group2_belief,author = select_center_sentence(group_id = 2)\n",
    "group2_belief,author"
   ]
  },
  {
   "cell_type": "code",
   "execution_count": 42,
   "id": "backed-times",
   "metadata": {},
   "outputs": [
    {
     "name": "stdout",
     "output_type": "stream",
     "text": [
      "there are 5 sentences in group 3\n"
     ]
    },
    {
     "data": {
      "text/plain": [
       "('the big landlord and big comprador classes particular always side with imperialism and constitute extreme counterrevolutionary group',\n",
       " 'original')"
      ]
     },
     "execution_count": 42,
     "metadata": {},
     "output_type": "execute_result"
    }
   ],
   "source": [
    "group3_belief,author = select_center_sentence(group_id = 3)\n",
    "group3_belief,author"
   ]
  },
  {
   "cell_type": "code",
   "execution_count": 43,
   "id": "talented-fleece",
   "metadata": {},
   "outputs": [
    {
     "name": "stdout",
     "output_type": "stream",
     "text": [
      "there are 20 sentences in group 4\n"
     ]
    },
    {
     "data": {
      "text/plain": [
       "('the leading force our revolution the industrial proletariat', 'original')"
      ]
     },
     "execution_count": 43,
     "metadata": {},
     "output_type": "execute_result"
    }
   ],
   "source": [
    "group4_belief,author = select_center_sentence(group_id = 4)\n",
    "group4_belief,author"
   ]
  },
  {
   "cell_type": "code",
   "execution_count": 44,
   "id": "dutch-crisis",
   "metadata": {},
   "outputs": [
    {
     "name": "stdout",
     "output_type": "stream",
     "text": [
      "there are 18 sentences in group 5\n"
     ]
    },
    {
     "data": {
      "text/plain": [
       "('the overwhelming majority the semi owner peasants together with the poor peasants constitute very large part the rural masses',\n",
       " 'original')"
      ]
     },
     "execution_count": 44,
     "metadata": {},
     "output_type": "execute_result"
    }
   ],
   "source": [
    "group5_belief,author = select_center_sentence(group_id = 5)\n",
    "group5_belief,author"
   ]
  },
  {
   "cell_type": "markdown",
   "id": "contained-genetics",
   "metadata": {},
   "source": [
    "# Filter meaningless sentences"
   ]
  },
  {
   "cell_type": "code",
   "execution_count": 47,
   "id": "express-diary",
   "metadata": {},
   "outputs": [],
   "source": [
    "from gensim.parsing.preprocessing import remove_stopwords\n",
    "from nltk import word_tokenize \n",
    "from nltk.util import ngrams\n",
    "from collections import Counter"
   ]
  },
  {
   "cell_type": "code",
   "execution_count": 48,
   "id": "peaceful-housing",
   "metadata": {},
   "outputs": [],
   "source": [
    "def bigram_based_filter(group_id):\n",
    "    group = cluster_df.loc[cluster_df['topic_cluster'] == group_id]\n",
    "    group['sentence3'] = group['sentence2'].apply(lambda x: remove_stopwords(x))\n",
    "    words = []\n",
    "    \n",
    "    #get word list\n",
    "    for sentence in group.sentence3:\n",
    "        for word in sentence.split():\n",
    "            words.append(word)\n",
    "            \n",
    "    # get 10% most common bigrams\n",
    "    ngram_counts = Counter(ngrams(words, 2))\n",
    "    bigrams = ngram_counts.most_common((int) (len(words)/10))\n",
    "    \n",
    "    # convert bigrams into a string and store in a list\n",
    "    strings = []\n",
    "    for bigram in bigrams:\n",
    "        strings.append(bigram[0][0] + ' ' + bigram[0][1])\n",
    "        \n",
    "    group = group.reset_index(drop=True)\n",
    "    group_filter = pd.DataFrame(columns = ['sentence2','source','topic_cluster','sentence3'])\n",
    "    \n",
    "    # remove sentences which don't contains the most common bigrams\n",
    "    for index, row in group.iterrows():\n",
    "        for bigram in strings:\n",
    "            if bigram in row.sentence3:\n",
    "                group_filter = group_filter.append(group.iloc[index,:])\n",
    "                break\n",
    "    \n",
    "    group_filter = group_filter.reset_index(drop=True)\n",
    "    \n",
    "    distance =[]\n",
    "    # get one group sentence embeddings\n",
    "    group_sentence_embeddings = model.encode(group_filter.sentence3)\n",
    "\n",
    "    for sentence in group_sentence_embeddings:\n",
    "        dis = 0\n",
    "        for index in range(len(sentence)):\n",
    "            # calculate the distance between this sentence and group center\n",
    "            dis = dis + (sentence[index] - centers[group_id][index])**2\n",
    "        distance.append(dis)\n",
    "    \n",
    "    # get the min distance's index\n",
    "    min_index = distance.index(min(distance))\n",
    "    return group_filter.sentence2[min_index],group_filter.source[min_index]"
   ]
  },
  {
   "cell_type": "code",
   "execution_count": 49,
   "id": "equivalent-music",
   "metadata": {},
   "outputs": [
    {
     "data": {
      "text/plain": [
       "('the semi owner peasants are worse off than the owner peasants because every year they are short about half the food they need and have make this deficit renting land from others selling part their labour power engaging petty trading',\n",
       " 'original')"
      ]
     },
     "execution_count": 49,
     "metadata": {},
     "output_type": "execute_result"
    }
   ],
   "source": [
    "bigram_based_filter(0)"
   ]
  },
  {
   "cell_type": "code",
   "execution_count": 50,
   "id": "grateful-cheat",
   "metadata": {},
   "outputs": [
    {
     "data": {
      "text/plain": [
       "('since they are quite close the middle bourgeoisie economic status they have lot faith its propaganda and are suspicious the revolution',\n",
       " 'original')"
      ]
     },
     "execution_count": 50,
     "metadata": {},
     "output_type": "execute_result"
    }
   ],
   "source": [
    "bigram_based_filter(1)"
   ]
  },
  {
   "cell_type": "code",
   "execution_count": 51,
   "id": "registered-destiny",
   "metadata": {},
   "outputs": [
    {
     "data": {
      "text/plain": [
       "('the basic reason why all previous revolutionary struggles china achieved little was their failure unite with real friends order attack real enemies',\n",
       " 'original')"
      ]
     },
     "execution_count": 51,
     "metadata": {},
     "output_type": "execute_result"
    }
   ],
   "source": [
    "bigram_based_filter(2)"
   ]
  },
  {
   "cell_type": "code",
   "execution_count": 52,
   "id": "medium-theater",
   "metadata": {},
   "outputs": [
    {
     "data": {
      "text/plain": [
       "('the big landlord and big comprador classes particular always side with imperialism and constitute extreme counterrevolutionary group',\n",
       " 'original')"
      ]
     },
     "execution_count": 52,
     "metadata": {},
     "output_type": "execute_result"
    }
   ],
   "source": [
    "bigram_based_filter(3)"
   ]
  },
  {
   "cell_type": "code",
   "execution_count": 53,
   "id": "forward-third",
   "metadata": {},
   "outputs": [
    {
     "data": {
      "text/plain": [
       "('the leading force our revolution the industrial proletariat', 'original')"
      ]
     },
     "execution_count": 53,
     "metadata": {},
     "output_type": "execute_result"
    }
   ],
   "source": [
    "bigram_based_filter(4)"
   ]
  },
  {
   "cell_type": "code",
   "execution_count": 54,
   "id": "wicked-green",
   "metadata": {},
   "outputs": [
    {
     "data": {
      "text/plain": [
       "('the overwhelming majority the semi owner peasants together with the poor peasants constitute very large part the rural masses',\n",
       " 'original')"
      ]
     },
     "execution_count": 54,
     "metadata": {},
     "output_type": "execute_result"
    }
   ],
   "source": [
    "bigram_based_filter(5)"
   ]
  },
  {
   "cell_type": "code",
   "execution_count": null,
   "id": "aging-drink",
   "metadata": {},
   "outputs": [],
   "source": []
  },
  {
   "cell_type": "markdown",
   "id": "cubic-approach",
   "metadata": {},
   "source": [
    "Since 3 generated sentence are in cluster 2, let's look at cluster 2"
   ]
  },
  {
   "cell_type": "markdown",
   "id": "correct-platform",
   "metadata": {},
   "source": [
    "# Cluster 2"
   ]
  },
  {
   "cell_type": "code",
   "execution_count": 58,
   "id": "answering-benjamin",
   "metadata": {},
   "outputs": [],
   "source": [
    "def bigram_based_filter(group_id):\n",
    "    group = cluster_df.loc[cluster_df['topic_cluster'] == group_id]\n",
    "    group['sentence3'] = group['sentence2'].apply(lambda x: remove_stopwords(x))\n",
    "    words = []\n",
    "    \n",
    "    #get word list\n",
    "    for sentence in group.sentence3:\n",
    "        for word in sentence.split():\n",
    "            words.append(word)\n",
    "            \n",
    "    # get 10% most common bigrams\n",
    "    ngram_counts = Counter(ngrams(words, 2))\n",
    "    bigrams = ngram_counts.most_common((int) (len(words)/10))\n",
    "    \n",
    "    # convert bigrams into a string and store in a list\n",
    "    strings = []\n",
    "    for bigram in bigrams:\n",
    "        strings.append(bigram[0][0] + ' ' + bigram[0][1])\n",
    "        \n",
    "    group = group.reset_index(drop=True)\n",
    "    group_filter = pd.DataFrame(columns = ['sentence2','source','topic_cluster','sentence3'])\n",
    "    \n",
    "    # remove sentences which don't contains the most common bigrams\n",
    "    for index, row in group.iterrows():\n",
    "        for bigram in strings:\n",
    "            if bigram in row.sentence3:\n",
    "                group_filter = group_filter.append(group.iloc[index,:])\n",
    "                break\n",
    "    \n",
    "    group_filter = group_filter.reset_index(drop=True)\n",
    "    \n",
    "    distance =[]\n",
    "    # get one group sentence embeddings\n",
    "    group_sentence_embeddings = model.encode(group_filter.sentence3)\n",
    "\n",
    "    for sentence in group_sentence_embeddings:\n",
    "        dis = 0\n",
    "        for index in range(len(sentence)):\n",
    "            # calculate the distance between this sentence and group center\n",
    "            dis = dis + (sentence[index] - centers[group_id][index])**2\n",
    "        distance.append(dis)\n",
    "    \n",
    "    group_filter[\"distance\"] = distance\n",
    "    \n",
    "    # get the min distance's index\n",
    "    min_index = distance.index(min(distance))\n",
    "    return group_filter,group_filter.sentence2[min_index],group_filter.source[min_index]"
   ]
  },
  {
   "cell_type": "code",
   "execution_count": 59,
   "id": "double-designation",
   "metadata": {},
   "outputs": [],
   "source": [
    "group2_df,center_sentence,source = bigram_based_filter(2)"
   ]
  },
  {
   "cell_type": "code",
   "execution_count": 60,
   "id": "assigned-congo",
   "metadata": {},
   "outputs": [
    {
     "data": {
      "text/html": [
       "<div>\n",
       "<style scoped>\n",
       "    .dataframe tbody tr th:only-of-type {\n",
       "        vertical-align: middle;\n",
       "    }\n",
       "\n",
       "    .dataframe tbody tr th {\n",
       "        vertical-align: top;\n",
       "    }\n",
       "\n",
       "    .dataframe thead th {\n",
       "        text-align: right;\n",
       "    }\n",
       "</style>\n",
       "<table border=\"1\" class=\"dataframe\">\n",
       "  <thead>\n",
       "    <tr style=\"text-align: right;\">\n",
       "      <th></th>\n",
       "      <th>sentence2</th>\n",
       "      <th>source</th>\n",
       "      <th>topic_cluster</th>\n",
       "      <th>sentence3</th>\n",
       "      <th>distance</th>\n",
       "    </tr>\n",
       "  </thead>\n",
       "  <tbody>\n",
       "    <tr>\n",
       "      <th>0</th>\n",
       "      <td>the basic reason why all previous revolutionar...</td>\n",
       "      <td>original</td>\n",
       "      <td>2</td>\n",
       "      <td>basic reason previous revolutionary struggles ...</td>\n",
       "      <td>305.257275</td>\n",
       "    </tr>\n",
       "    <tr>\n",
       "      <th>1</th>\n",
       "      <td>revolutionary party the guide the masses and r...</td>\n",
       "      <td>original</td>\n",
       "      <td>2</td>\n",
       "      <td>revolutionary party guide masses revolution su...</td>\n",
       "      <td>700.596279</td>\n",
       "    </tr>\n",
       "    <tr>\n",
       "      <th>2</th>\n",
       "      <td>ensure that will definitely achieve success ou...</td>\n",
       "      <td>original</td>\n",
       "      <td>2</td>\n",
       "      <td>ensure definitely achieve success revolution l...</td>\n",
       "      <td>449.201461</td>\n",
       "    </tr>\n",
       "    <tr>\n",
       "      <th>3</th>\n",
       "      <td>the basic reason why all previous revolutionar...</td>\n",
       "      <td>generated</td>\n",
       "      <td>2</td>\n",
       "      <td>basic reason previous revolutionary struggles ...</td>\n",
       "      <td>305.257275</td>\n",
       "    </tr>\n",
       "    <tr>\n",
       "      <th>4</th>\n",
       "      <td>revolutionary party the guide the masses and r...</td>\n",
       "      <td>generated</td>\n",
       "      <td>2</td>\n",
       "      <td>revolutionary party guide masses revolution su...</td>\n",
       "      <td>700.596279</td>\n",
       "    </tr>\n",
       "    <tr>\n",
       "      <th>5</th>\n",
       "      <td>ensure that will definitely achieve success ou...</td>\n",
       "      <td>generated</td>\n",
       "      <td>2</td>\n",
       "      <td>ensure definitely achieve success revolution l...</td>\n",
       "      <td>618.381374</td>\n",
       "    </tr>\n",
       "  </tbody>\n",
       "</table>\n",
       "</div>"
      ],
      "text/plain": [
       "                                           sentence2     source topic_cluster  \\\n",
       "0  the basic reason why all previous revolutionar...   original             2   \n",
       "1  revolutionary party the guide the masses and r...   original             2   \n",
       "2  ensure that will definitely achieve success ou...   original             2   \n",
       "3  the basic reason why all previous revolutionar...  generated             2   \n",
       "4  revolutionary party the guide the masses and r...  generated             2   \n",
       "5  ensure that will definitely achieve success ou...  generated             2   \n",
       "\n",
       "                                           sentence3    distance  \n",
       "0  basic reason previous revolutionary struggles ...  305.257275  \n",
       "1  revolutionary party guide masses revolution su...  700.596279  \n",
       "2  ensure definitely achieve success revolution l...  449.201461  \n",
       "3  basic reason previous revolutionary struggles ...  305.257275  \n",
       "4  revolutionary party guide masses revolution su...  700.596279  \n",
       "5  ensure definitely achieve success revolution l...  618.381374  "
      ]
     },
     "execution_count": 60,
     "metadata": {},
     "output_type": "execute_result"
    }
   ],
   "source": [
    "group2_df"
   ]
  },
  {
   "cell_type": "code",
   "execution_count": 61,
   "id": "identical-semiconductor",
   "metadata": {},
   "outputs": [
    {
     "data": {
      "text/plain": [
       "('the basic reason why all previous revolutionary struggles china achieved little was their failure unite with real friends order attack real enemies',\n",
       " 'original')"
      ]
     },
     "execution_count": 61,
     "metadata": {},
     "output_type": "execute_result"
    }
   ],
   "source": [
    "center_sentence,source"
   ]
  },
  {
   "cell_type": "code",
   "execution_count": null,
   "id": "supported-absence",
   "metadata": {},
   "outputs": [],
   "source": []
  }
 ],
 "metadata": {
  "kernelspec": {
   "display_name": "Python 3",
   "language": "python",
   "name": "python3"
  },
  "language_info": {
   "codemirror_mode": {
    "name": "ipython",
    "version": 3
   },
   "file_extension": ".py",
   "mimetype": "text/x-python",
   "name": "python",
   "nbconvert_exporter": "python",
   "pygments_lexer": "ipython3",
   "version": "3.7.4"
  }
 },
 "nbformat": 4,
 "nbformat_minor": 5
}
