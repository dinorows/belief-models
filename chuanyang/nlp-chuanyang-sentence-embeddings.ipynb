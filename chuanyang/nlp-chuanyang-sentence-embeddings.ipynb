{
 "cells": [
  {
   "cell_type": "markdown",
   "metadata": {},
   "source": [
    "## 1. Data Preprocessing"
   ]
  },
  {
   "cell_type": "markdown",
   "metadata": {},
   "source": [
    "We import a text:"
   ]
  },
  {
   "cell_type": "code",
   "execution_count": 1,
   "metadata": {},
   "outputs": [],
   "source": [
    "# process “The Time Machine\", a science fiction\n",
    "import os\n",
    "import pandas as pd\n",
    "from sklearn.metrics.pairwise import cosine_similarity\n",
    "path = 'The_Time_Machine/timemachine.txt'"
   ]
  },
  {
   "cell_type": "markdown",
   "metadata": {},
   "source": [
    "We transfer the text into a pandas dataframe"
   ]
  },
  {
   "cell_type": "code",
   "execution_count": 2,
   "metadata": {},
   "outputs": [
    {
     "data": {
      "text/html": [
       "<div>\n",
       "<style scoped>\n",
       "    .dataframe tbody tr th:only-of-type {\n",
       "        vertical-align: middle;\n",
       "    }\n",
       "\n",
       "    .dataframe tbody tr th {\n",
       "        vertical-align: top;\n",
       "    }\n",
       "\n",
       "    .dataframe thead th {\n",
       "        text-align: right;\n",
       "    }\n",
       "</style>\n",
       "<table border=\"1\" class=\"dataframe\">\n",
       "  <thead>\n",
       "    <tr style=\"text-align: right;\">\n",
       "      <th></th>\n",
       "      <th>title</th>\n",
       "      <th>article</th>\n",
       "    </tr>\n",
       "  </thead>\n",
       "  <tbody>\n",
       "    <tr>\n",
       "      <th>0</th>\n",
       "      <td>The Time Machine.txt</td>\n",
       "      <td>I   The Time Traveller (for so it will be conv...</td>\n",
       "    </tr>\n",
       "  </tbody>\n",
       "</table>\n",
       "</div>"
      ],
      "text/plain": [
       "                  title                                            article\n",
       "0  The Time Machine.txt  I   The Time Traveller (for so it will be conv..."
      ]
     },
     "execution_count": 2,
     "metadata": {},
     "output_type": "execute_result"
    }
   ],
   "source": [
    "df = pd.DataFrame(columns=['title','article'])\n",
    "\n",
    "with open(path, 'r') as f:\n",
    "    articles = f.readlines()\n",
    "    text = \"\"\n",
    "    for article in articles:\n",
    "        text = text + article\n",
    "    text = text.replace('\\n',' ')\n",
    "    text = text.replace('-',' ')\n",
    "    text = text.replace('_', ' ')\n",
    "    df_new = pd.DataFrame({'title':['The Time Machine.txt'],'article':[text]})\n",
    "    df = df.append(df_new,ignore_index=True)\n",
    "df"
   ]
  },
  {
   "cell_type": "code",
   "execution_count": 3,
   "metadata": {},
   "outputs": [
    {
     "name": "stdout",
     "output_type": "stream",
     "text": [
      "I   The Time Traveller (for so it will be convenient to speak of him) was expounding a recondite matter to us. His grey eyes shone and twinkled, and his usually pale face was flushed and animated. The fire burned brightly, and the soft radiance of the incandescent lights in the lilies of silver caught the bubbles that flashed and passed in our glasses. Our chairs, being his patents, embraced and caressed us rather than submitted to be sat upon, and there was that luxurious after dinner atmosphere when thought roams gracefully free of the trammels of precision. And he put it to us in this way  marking the points with a lean forefinger  as we sat and lazily admired his earnestness over this new paradox (as we thought it) and his fecundity.  'You must follow me carefully. I shall have to controvert one or two ideas that are almost universally accepted. The geometry, for instance, they taught you at school is founded on a misconception.'  'Is not that rather a large thing to expect us to begin upon?' said Filby, an argumentative person with red hair.  'I do not mean to ask you to accept anything without reasonable ground for it. You will soon admit as much as I need from you. You know of course that a mathematical line, a line of thickness  nil , has no real existence. They taught you that? Neither has a mathematical plane. These things are mere abstractions.'  'That is all right,' said the Psychologist.  'Nor, having only length, breadth, and thickness, can a cube have a real existence.'  'There I object,' said Filby. 'Of course a solid body may exist. All real things  '  'So most people think. But wait a moment. Can an  instantaneous  cube exist?'  'Don't follow you,' said Filby.  'Can a cube that does not last for any time at all, have a real existence?'  Filby became pensive. 'Clearly,' the Time Traveller proceeded, 'any real body must have extension in  four  directions: it must have Length, Breadth, Thickness, and  Duration. But through a natural infirmity of the flesh, which I will explain to you in a moment, we incline to overlook this fact. There are really four dimensions, three which we call the three planes of Space, and a fourth, Time. There is, however, a tendency to draw an unreal distinction between the former three dimensions and the latter, because it happens that our consciousness moves intermittently in one direction along the latter from the beginning to the end of our lives.'  'That,' said a very young man, making spasmodic efforts to relight his cigar over the lamp; 'that ... very clear indeed.'  'Now, it is very remarkable that this is so extensively overlooked,' continued the Time Traveller, with a slight accession of cheerfulness. 'Really this is what is meant by the Fourth Dimension, though some people who talk about the Fourth Dimension do not know they mean it. It is only another way of looking at Time.  There is no difference between Time and any of the three dimensions of Space except that our consciousness moves along it . But some foolish people have got hold of the wrong side of that idea. You have all heard what they have to say about this Fourth Dimension?'  ' I  have not,' said the Provincial Mayor.  'It is simply this. That Space, as our mathematicians have it, is spoken of as having three dimensions, which one may call Length, Breadth, and Thickness, and is always definable by reference to three planes, each at right angles to the others. But some philosophical people have been asking why  three  dimensions particularly  why not another direction at right angles to the other three?  and have even tried to construct a Four Dimension geometry. Professor Simon Newcomb was expounding this to the New York Mathematical Society only a month or so ago. You know how on a flat surface, which has only two dimensions, we can represent a figure of a three dimensional solid, and similarly they think that by models of three dimensions they could represent one of four  if they could master the perspective of the thing. See?'  'I think so,' murmured the Provincial Mayor; and, knitting his brows, he lapsed into an introspective state, his lips moving as one who repeats mystic words. 'Yes, I think I see it now,' he said after some time, brightening in a quite transitory manner.  'Well, I do not mind telling you I have been at work upon this geometry of Four Dimensions for some time. Some of my results are curious. For instance, here is a portrait of a man at eight years old, another at fifteen, another at seventeen, another at twenty three, and so on. All these are evidently sections, as it were, Three Dimensional representations of his Four Dimensioned being, which is a fixed and unalterable thing.  'Scientific people,' proceeded the Time Traveller, after the pause required for the proper assimilation of this, 'know very well that Time is only a kind of Space. Here is a popular scientific diagram, a weather record. This line I trace with my finger shows the movement of the barometer. Yesterday it was so high, yesterday night it fell, then this morning it rose again, and so gently upward to here. Surely the mercury did not trace this line in any of the dimensions of Space generally recognized? But certainly it traced such a line, and that line, therefore, we must conclude was along the Time Dimension.'  'But,' said the Medical Man, staring hard at a coal in the fire, 'if Time is really only a fourth dimension of Space, why is it, and why has it always been, regarded as something different? And why cannot we move in Time as we move about in the other dimensions of Space?'  The Time Traveller smiled. 'Are you sure we can move freely in Space? Right and left we can go, backward and forward freely enough, and men always have done so. I admit we move freely in two dimensions. But how about up and down? Gravitation limits us there.'  'Not exactly,' said the Medical Man. 'There are balloons.'  'But before the balloons, save for spasmodic jumping and the inequalities of the surface, man had no freedom of vertical movement.'  'Still they could move a little up and down,' said the Medical Man.  'Easier, far easier down than up.'  'And you cannot move at all in Time, you cannot get away from the present moment.'  'My dear sir, that is just where you are wrong. That is just where the whole world has gone wrong. We are always getting away from the present moment. Our mental existences, which are immaterial and have no dimensions, are passing along the Time Dimension with a uniform velocity from the cradle to the grave. Just as we should travel  down  if we began our existence fifty miles above the earth's surface.'  'But the great difficulty is this,' interrupted the Psychologist. 'You  can  move about in all directions of Space, but you cannot move about in Time.'  'That is the germ of my great discovery. But you are wrong to say that we cannot move about in Time. For instance, if I am recalling an incident very vividly I go back to the instant of its occurrence: I become absent minded, as you say. I jump back for a moment. Of course we have no means of staying back for any length of Time, any more than a savage or an animal has of staying six feet above the ground. But a civilized man is better off than the savage in this respect. He can go up against gravitation in a balloon, and why should he not hope that ultimately he may be able to stop or accelerate his drift along the Time Dimension, or even turn about and travel the other way?'  'Oh,  this ,' began Filby, 'is all  '  'Why not?' said the Time Traveller.  'It's against reason,' said Filby.  'What reason?' said the Time Traveller.  'You can show black is white by argument,' said Filby, 'but you will never convince me.'  'Possibly not,' said the Time Traveller. 'But now you begin to see the object of my investigations into the geometry of Four Dimensions. Long ago I had a vague inkling of a machine  '  'To travel through Time!' exclaimed the Very Young Man.  'That shall travel indifferently in any direction of Space and Time, as the driver determines.'  Filby contented himself with laughter.  'But I have experimental verification,' said the Time Traveller.  'It would be remarkably convenient for the historian,' the Psychologist suggested. 'One might travel back and verify the accepted account of the Battle of Hastings, for instance!'  'Don't you think you would attract attention?' said the Medical Man. 'Our ancestors had no great tolerance for anachronisms.'  'One might get one's Greek from the very lips of Homer and Plato,' the Very Young Man thought.  'In which case they would certainly plough you for the Little go. The German scholars have improved Greek so much.'  'Then there is the future,' said the Very Young Man. 'Just think! One might invest all one's money, leave it to accumulate at interest, and hurry on ahead!'  'To discover a society,' said I, 'erected on a strictly communistic basis.'  'Of all the wild extravagant theories!' began the Psychologist.  'Yes, so it seemed to me, and so I never talked of it until  '  'Experimental verification!' cried I. 'You are going to verify  that ?'  'The experiment!' cried Filby, who was getting brain weary.  'Let's see your experiment anyhow,' said the Psychologist, 'though it's all humbug, you know.'  The Time Traveller smiled round at us. Then, still smiling faintly, and with his hands deep in his trousers pockets, he walked slowly out of the room, and we heard his slippers shuffling down the long passage to his laboratory.  The Psychologist looked at us. 'I wonder what he's got?'  'Some sleight of hand trick or other,' said the Medical Man, and Filby tried to tell us about a conjurer he had seen at Burslem; but before he had finished his preface the Time Traveller came back, and Filby's anecdote collapsed.  The thing the Time Traveller held in his hand was a glittering metallic framework, scarcely larger than a small clock, and very delicately made. There was ivory in it, and some transparent crystalline substance. And now I must be explicit, for this that follows  unless his explanation is to be accepted  is an absolutely unaccountable thing. He took one of the small octagonal tables that were scattered about the room, and set it in front of the fire, with two legs on the hearthrug. On this table he placed the mechanism. Then he drew up a chair, and sat down. The only other object on the table was a small shaded lamp, the bright light of which fell upon the model. There were also perhaps a dozen candles about, two in brass candlesticks upon the mantel and several in sconces, so that the room was brilliantly illuminated. I sat in a low arm chair nearest the fire, and I drew this forward so as to be almost between the Time Traveller and the fireplace. Filby sat behind him, looking over his shoulder. The Medical Man and the Provincial Mayor watched him in profile from the right, the Psychologist from the left. The Very Young Man stood behind the Psychologist. We were all on the alert. It appears incredible to me that any kind of trick, however subtly conceived and however adroitly done, could have been played upon us under these conditions.  The Time Traveller looked at us, and then at the mechanism. 'Well?' said the Psychologist.  'This little affair,' said the Time Traveller, resting his elbows upon the table and pressing his hands together above the apparatus, 'is only a model. It is my plan for a machine to travel through time. You will notice that it looks singularly askew, and that there is an odd twinkling appearance about this bar, as though it was in some way unreal.' He pointed to the part with his finger. 'Also, here is one little white lever, and here is another.'  The Medical Man got up out of his chair and peered into the thing. 'It's beautifully made,' he said.  'It took two years to make,' retorted the Time Traveller. Then, when we had all imitated the action of the Medical Man, he said: 'Now I want you clearly to understand that this lever, being pressed over, sends the machine gliding into the future, and this other reverses the motion. This saddle represents the seat of a time traveller. Presently I am going to press the lever, and off the machine will go. It will vanish, pass into future Time, and disappear. Have a good look at the thing. Look at the table too, and satisfy yourselves there is no trickery. I don't want to waste this model, and then be told I'm a quack.'  There was a minute's pause perhaps. The Psychologist seemed about to speak to me, but changed his mind. Then the Time Traveller put forth his finger towards the lever. 'No,' he said suddenly. 'Lend me your hand.' And turning to the Psychologist, he took that individual's hand in his own and told him to put out his forefinger. So that it was the Psychologist himself who sent forth the model Time Machine on its interminable voyage. We all saw the lever turn. I am absolutely certain there was no trickery. There was a breath of wind, and the lamp flame jumped. One of the candles on the mantel was blown out, and the little machine suddenly swung round, became indistinct, was seen as a ghost for a second perhaps, as an eddy of faintly glittering brass and ivory; and it was gone  vanished! Save for the lamp the table was bare.  Everyone was silent for a minute. Then Filby said he was damned.  The Psychologist recovered from his stupor, and suddenly looked under the table. At that the Time Traveller laughed cheerfully. 'Well?' he said, with a reminiscence of the Psychologist. Then, getting up, he went to the tobacco jar on the mantel, and with his back to us began to fill his pipe.  We stared at each other. 'Look here,' said the Medical Man, 'are you in earnest about this? Do you seriously believe that that machine has travelled into time?'  'Certainly,' said the Time Traveller, stooping to light a spill at the fire. Then he turned, lighting his pipe, to look at the Psychologist's face. (The Psychologist, to show that he was not unhinged, helped himself to a cigar and tried to light it uncut.) 'What is more, I have a big machine nearly finished in there'  he indicated the laboratory  'and when that is put together I mean to have a journey on my own account.'  'You mean to say that that machine has travelled into the future?' said Filby.  'Into the future or the past  I don't, for certain, know which.'  After an interval the Psychologist had an inspiration. 'It must have gone into the past if it has gone anywhere,' he said.  'Why?' said the Time Traveller.  'Because I presume that it has not moved in space, and if it travelled into the future it would still be here all this time, since it must have travelled through this time.'  'But,' I said, 'If it travelled into the past it would have been visible when we came first into this room; and last Thursday when we were here; and the Thursday before that; and so forth!'  'Serious objections,' remarked the Provincial Mayor, with an air of impartiality, turning towards the Time Traveller.  'Not a bit,' said the Time Traveller, and, to the Psychologist: 'You think. You can explain that. It's presentation below the threshold, you know, diluted presentation.'  'Of course,' said the Psychologist, and reassured us. 'That's a simple point of psychology. I should have thought of it. It's plain enough, and helps the paradox delightfully. We cannot see it, nor can we appreciate this machine, any more than we can the spoke of a wheel spinning, or a bullet flying through the air. If it is travelling through time fifty times or a hundred times faster than we are, if it gets through a minute while we get through a second, the impression it creates will of course be only one fiftieth or one hundredth of what it would make if it were not travelling in time. That's plain enough.' He passed his hand through the space in which the machine had been. 'You see?' he said, laughing.  We sat and stared at the vacant table for a minute or so. Then the Time Traveller asked us what we thought of it all.  'It sounds plausible enough to night,' said the Medical Man; 'but wait until to morrow. Wait for the common sense of the morning.'  'Would you like to see the Time Machine itself?' asked the Time Traveller. And therewith, taking the lamp in his hand, he led the way down the long, draughty corridor to his laboratory. I remember vividly the flickering light, his queer, broad head in silhouette, the dance of the shadows, how we all followed him, puzzled but incredulous, and how there in the laboratory we beheld a larger edition of the little mechanism which we had seen vanish from before our eyes. Parts were of nickel, parts of ivory, parts had certainly been filed or sawn out of rock crystal. The thing was generally complete, but the twisted crystalline bars lay unfinished upon the bench beside some sheets of drawings, and I took one up for a better look at it. Quartz it seemed to be.  'Look here,' said the Medical Man, 'are you perfectly serious? Or is this a trick  like that ghost you showed us last Christmas?'  'Upon that machine,' said the Time Traveller, holding the lamp aloft, 'I intend to explore time. Is that plain? I was never more serious in my life.'  None of us quite knew how to take it.  I caught Filby's eye over the shoulder of the Medical Man, and he winked at me solemnly.     II   I think that at that time none of us quite believed in the Time Machine. The fact is, the Time Traveller was one of those men who are too clever to be believed: you never felt that you saw all round him; you always suspected some subtle reserve, some ingenuity in ambush, behind his lucid frankness. Had Filby shown the model and explained the matter in the Time Traveller's words, we should have shown  him  far less scepticism. For we should have perceived his motives; a pork butcher could understand Filby. But the Time Traveller had more than a touch of whim among his elements, and we distrusted him. Things that would have made the frame of a less clever man seemed tricks in his hands. It is a mistake to do things too easily. The serious people who took him seriously never felt quite sure of his deportment; they were somehow aware that trusting their reputations for judgment with him was like furnishing a nursery with egg shell china. So I don't think any of us said very much about time travelling in the interval between that Thursday and the next, though its odd potentialities ran, no doubt, in most of our minds: its plausibility, that is, its practical incredibleness, the curious possibilities of anachronism and of utter confusion it suggested. For my own part, I was particularly preoccupied with the trick of the model. That I remember discussing with the Medical Man, whom I met on Friday at the Linnaean. He said he had seen a similar thing at Tubingen, and laid considerable stress on the blowing out of the candle. But how the trick was done he could not explain.  The next Thursday I went again to Richmond  I suppose I was one of the Time Traveller's most constant guests  and, arriving late, found four or five men already assembled in his drawing room. The Medical Man was standing before the fire with a sheet of paper in one hand and his watch in the other. I looked round for the Time Traveller, and  'It's half past seven now,' said the Medical Man. 'I suppose we'd better have dinner?'  'Where's    ?' said I, naming our host.  'You've just come? It's rather odd. He's unavoidably detained. He asks me in this note to lead off with dinner at seven if he's not back. Says he'll explain when he comes.'  'It seems a pity to let the dinner spoil,' said the Editor of a well known daily paper; and thereupon the Doctor rang the bell.  The Psychologist was the only person besides the Doctor and myself who had attended the previous dinner. The other men were Blank, the Editor aforementioned, a certain journalist, and another  a quiet, shy man with a beard  whom I didn't know, and who, as far as my observation went, never opened his mouth all the evening. There was some speculation at the dinner table about the Time Traveller's absence, and I suggested time travelling, in a half jocular spirit. The Editor wanted that explained to him, and the Psychologist volunteered a wooden account of the 'ingenious paradox and trick' we had witnessed that day week. He was in the midst of his exposition when the door from the corridor opened slowly and without noise. I was facing the door, and saw it first. 'Hallo!' I said. 'At last!' And the door opened wider, and the Time Traveller stood before us. I gave a cry of surprise. 'Good heavens! man, what's the matter?' cried the Medical Man, who saw him next. And the whole tableful turned towards the door.  He was in an amazing plight. His coat was dusty and dirty, and smeared with green down the sleeves; his hair disordered, and as it seemed to me greyer  either with dust and dirt or because its colour had actually faded. His face was ghastly pale; his chin had a brown cut on it  a cut half healed; his expression was haggard and drawn, as by intense suffering. For a moment he hesitated in the doorway, as if he had been dazzled by the light. Then he came into the room. He walked with just such a limp as I have seen in footsore tramps. We stared at him in silence, expecting him to speak.  He said not a word, but came painfully to the table, and made a motion towards the wine. The Editor filled a glass of champagne, and pushed it towards him. He drained it, and it seemed to do him good: for he looked round the table, and the ghost of his old smile flickered across his face. 'What on earth have you been up to, man?' said the Doctor. The Time Traveller did not seem to hear. 'Don't let me disturb you,' he said, with a certain faltering articulation. 'I'm all right.' He stopped, held out his glass for more, and took it off at a draught. 'That's good,' he said. His eyes grew brighter, and a faint colour came into his cheeks. His glance flickered over our faces with a certain dull approval, and then went round the warm and comfortable room. Then he spoke again, still as it were feeling his way among his words. 'I'm going to wash and dress, and then I'll come down and explain things ... Save me some of that mutton. I'm starving for a bit of meat.'  He looked across at the Editor, who was a rare visitor, and hoped he was all right. The Editor began a question. 'Tell you presently,' said the Time Traveller. 'I'm  funny! Be all right in a minute.'  He put down his glass, and walked towards the staircase door. Again I remarked his lameness and the soft padding sound of his footfall, and standing up in my place, I saw his feet as he went out. He had nothing on them but a pair of tattered, blood stained socks. Then the door closed upon him. I had half a mind to follow, till I remembered how he detested any fuss about himself. For a minute, perhaps, my mind was wool gathering. Then, 'Remarkable Behaviour of an Eminent Scientist,' I heard the Editor say, thinking (after his wont) in headlines. And this brought my attention back to the bright dinner table.  'What's the game?' said the Journalist. 'Has he been doing the Amateur Cadger? I don't follow.' I met the eye of the Psychologist, and read my own interpretation in his face. I thought of the Time Traveller limping painfully upstairs. I don't think any one else had noticed his lameness.  The first to recover completely from this surprise was the Medical Man, who rang the bell  the Time Traveller hated to have servants waiting at dinner  for a hot plate. At that the Editor turned to his knife and fork with a grunt, and the Silent Man followed suit. The dinner was resumed. Conversation was exclamatory for a little while, with gaps of wonderment; and then the Editor got fervent in his curiosity. 'Does our friend eke out his modest income with a crossing? or has he his Nebuchadnezzar phases?' he inquired. 'I feel assured it's this business of the Time Machine,' I said, and took up the Psychologist's account of our previous meeting. The new guests were frankly incredulous. The Editor raised objections. 'What  was  this time travelling? A man couldn't cover himself with dust by rolling in a paradox, could he?' And then, as the idea came home to him, he resorted to caricature. Hadn't they any clothes brushes in the Future? The Journalist too, would not believe at any price, and joined the Editor in the easy work of heaping ridicule on the whole thing. They were both the new kind of journalist  very joyous, irreverent young men. 'Our Special Correspondent in the Day after To morrow reports,' the Journalist was saying  or rather shouting  when the Time Traveller came back. He was dressed in ordinary evening clothes, and nothing save his haggard look remained of the change that had startled me.  'I say,' said the Editor hilariously, 'these chaps here say you have been travelling into the middle of next week! Tell us all about little Rosebery, will you? What will you take for the lot?'  The Time Traveller came to the place reserved for him without a word. He smiled quietly, in his old way. 'Where's my mutton?' he said. 'What a treat it is to stick a fork into meat again!'  'Story!' cried the Editor.  'Story be damned!' said the Time Traveller. 'I want something to eat. I won't say a word until I get some peptone into my arteries. Thanks. And the salt.'  'One word,' said I. 'Have you been time travelling?'  'Yes,' said the Time Traveller, with his mouth full, nodding his head.  'I'd give a shilling a line for a verbatim note,' said the Editor. The Time Traveller pushed his glass towards the Silent Man and rang it with his fingernail; at which the Silent Man, who had been staring at his face, started convulsively, and poured him wine. The rest of the dinner was uncomfortable. For my own part, sudden questions kept on rising to my lips, and I dare say it was the same with the others. The Journalist tried to relieve the tension by telling anecdotes of Hettie Potter. The Time Traveller devoted his attention to his dinner, and displayed the appetite of a tramp. The Medical Man smoked a cigarette, and watched the Time Traveller through his eyelashes. The Silent Man seemed even more clumsy than usual, and drank champagne with regularity and determination out of sheer nervousness. At last the Time Traveller pushed his plate away, and looked round us. 'I suppose I must apologize,' he said. 'I was simply starving. I've had a most amazing time.' He reached out his hand for a cigar, and cut the end. 'But come into the smoking room. It's too long a story to tell over greasy plates.' And ringing the bell in passing, he led the way into the adjoining room.  'You have told Blank, and Dash, and Chose about the machine?' he said to me, leaning back in his easy chair and naming the three new guests.  'But the thing's a mere paradox,' said the Editor.  'I can't argue to night. I don't mind telling you the story, but I can't argue. I will,' he went on, 'tell you the story of what has happened to me, if you like, but you must refrain from interruptions. I want to tell it. Badly. Most of it will sound like lying. So be it! It's true  every word of it, all the same. I was in my laboratory at four o'clock, and since then ... I've lived eight days ... such days as no human being ever lived before! I'm nearly worn out, but I shan't sleep till I've told this thing over to you. Then I shall go to bed. But no interruptions! Is it agreed?'  'Agreed,' said the Editor, and the rest of us echoed 'Agreed.' And with that the Time Traveller began his story as I have set it forth. He sat back in his chair at first, and spoke like a weary man. Afterwards he got more animated. In writing it down I feel with only too much keenness the inadequacy of pen and ink  and, above all, my own inadequacy  to express its quality. You read, I will suppose, attentively enough; but you cannot see the speaker's white, sincere face in the bright circle of the little lamp, nor hear the intonation of his voice. You cannot know how his expression followed the turns of his story! Most of us hearers were in shadow, for the candles in the smoking room had not been lighted, and only the face of the Journalist and the legs of the Silent Man from the knees downward were illuminated. At first we glanced now and again at each other. After a time we ceased to do that, and looked only at the Time Traveller's face.     III   'I told some of you last Thursday of the principles of the Time Machine, and showed you the actual thing itself, incomplete in the workshop. There it is now, a little travel worn, truly; and one of the ivory bars is cracked, and a brass rail bent; but the rest of it's sound enough. I expected to finish it on Friday, but on Friday, when the putting together was nearly done, I found that one of the nickel bars was exactly one inch too short, and this I had to get remade; so that the thing was not complete until this morning. It was at ten o'clock to day that the first of all Time Machines began its career. I gave it a last tap, tried all the screws again, put one more drop of oil on the quartz rod, and sat myself in the saddle. I suppose a suicide who holds a pistol to his skull feels much the same wonder at what will come next as I felt then. I took the starting lever in one hand and the stopping one in the other, pressed the first, and almost immediately the second. I seemed to reel; I felt a nightmare sensation of falling; and, looking round, I saw the laboratory exactly as before. Had anything happened? For a moment I suspected that my intellect had tricked me. Then I noted the clock. A moment before, as it seemed, it had stood at a minute or so past ten; now it was nearly half past three!  'I drew a breath, set my teeth, gripped the starting lever with both hands, and went off with a thud. The laboratory got hazy and went dark. Mrs. Watchett came in and walked, apparently without seeing me, towards the garden door. I suppose it took her a minute or so to traverse the place, but to me she seemed to shoot across the room like a rocket. I pressed the lever over to its extreme position. The night came like the turning out of a lamp, and in another moment came to morrow. The laboratory grew faint and hazy, then fainter and ever fainter. To morrow night came black, then day again, night again, day again, faster and faster still. An eddying murmur filled my ears, and a strange, dumb confusedness descended on my mind.  'I am afraid I cannot convey the peculiar sensations of time travelling. They are excessively unpleasant. There is a feeling exactly like that one has upon a switchback  of a helpless headlong motion! I felt the same horrible anticipation, too, of an imminent smash. As I put on pace, night followed day like the flapping of a black wing. The dim suggestion of the laboratory seemed presently to fall away from me, and I saw the sun hopping swiftly across the sky, leaping it every minute, and every minute marking a day. I supposed the laboratory had been destroyed and I had come into the open air. I had a dim impression of scaffolding, but I was already going too fast to be conscious of any moving things. The slowest snail that ever crawled dashed by too fast for me. The twinkling succession of darkness and light was excessively painful to the eye. Then, in the intermittent darknesses, I saw the moon spinning swiftly through her quarters from new to full, and had a faint glimpse of the circling stars. Presently, as I went on, still gaining velocity, the palpitation of night and day merged into one continuous greyness; the sky took on a wonderful deepness of blue, a splendid luminous color like that of early twilight; the jerking sun became a streak of fire, a brilliant arch, in space; the moon a fainter fluctuating band; and I could see nothing of the stars, save now and then a brighter circle flickering in the blue.  'The landscape was misty and vague. I was still on the hill side upon which this house now stands, and the shoulder rose above me grey and dim. I saw trees growing and changing like puffs of vapour, now brown, now green; they grew, spread, shivered, and passed away. I saw huge buildings rise up faint and fair, and pass like dreams. The whole surface of the earth seemed changed  melting and flowing under my eyes. The little hands upon the dials that registered my speed raced round faster and faster. Presently I noted that the sun belt swayed up and down, from solstice to solstice, in a minute or less, and that consequently my pace was over a year a minute; and minute by minute the white snow flashed across the world, and vanished, and was followed by the bright, brief green of spring.  'The unpleasant sensations of the start were less poignant now. They merged at last into a kind of hysterical exhilaration. I remarked indeed a clumsy swaying of the machine, for which I was unable to account. But my mind was too confused to attend to it, so with a kind of madness growing upon me, I flung myself into futurity. At first I scarce thought of stopping, scarce thought of anything but these new sensations. But presently a fresh series of impressions grew up in my mind  a certain curiosity and therewith a certain dread  until at last they took complete possession of me. What strange developments of humanity, what wonderful advances upon our rudimentary civilization, I thought, might not appear when I came to look nearly into the dim elusive world that raced and fluctuated before my eyes! I saw great and splendid architecture rising about me, more massive than any buildings of our own time, and yet, as it seemed, built of glimmer and mist. I saw a richer green flow up the hill side, and remain there, without any wintry intermission. Even through the veil of my confusion the earth seemed very fair. And so my mind came round to the business of stopping.  'The peculiar risk lay in the possibility of my finding some substance in the space which I, or the machine, occupied. So long as I travelled at a high velocity through time, this scarcely mattered; I was, so to speak, attenuated  was slipping like a vapour through the interstices of intervening substances! But to come to a stop involved the jamming of myself, molecule by molecule, into whatever lay in my way; meant bringing my atoms into such intimate contact with those of the obstacle that a profound chemical reaction  possibly a far reaching explosion  would result, and blow myself and my apparatus out of all possible dimensions  into the Unknown. This possibility had occurred to me again and again while I was making the machine; but then I had cheerfully accepted it as an unavoidable risk  one of the risks a man has got to take! Now the risk was inevitable, I no longer saw it in the same cheerful light. The fact is that, insensibly, the absolute strangeness of everything, the sickly jarring and swaying of the machine, above all, the feeling of prolonged falling, had absolutely upset my nerve. I told myself that I could never stop, and with a gust of petulance I resolved to stop forthwith. Like an impatient fool, I lugged over the lever, and incontinently the thing went reeling over, and I was flung headlong through the air.  'There was the sound of a clap of thunder in my ears. I may have been stunned for a moment. A pitiless hail was hissing round me, and I was sitting on soft turf in front of the overset machine. Everything still seemed grey, but presently I remarked that the confusion in my ears was gone. I looked round me. I was on what seemed to be a little lawn in a garden, surrounded by rhododendron bushes, and I noticed that their mauve and purple blossoms were dropping in a shower under the beating of the hail stones. The rebounding, dancing hail hung in a cloud over the machine, and drove along the ground like smoke. In a moment I was wet to the skin. \"Fine hospitality,\" said I, \"to a man who has travelled innumerable years to see you.\"  'Presently I thought what a fool I was to get wet. I stood up and looked round me. A colossal figure, carved apparently in some white stone, loomed indistinctly beyond the rhododendrons through the hazy downpour. But all else of the world was invisible.  'My sensations would be hard to describe. As the columns of hail grew thinner, I saw the white figure more distinctly. It was very large, for a silver birch tree touched its shoulder. It was of white marble, in shape something like a winged sphinx, but the wings, instead of being carried vertically at the sides, were spread so that it seemed to hover. The pedestal, it appeared to me, was of bronze, and was thick with verdigris. It chanced that the face was towards me; the sightless eyes seemed to watch me; there was the faint shadow of a smile on the lips. It was greatly weather worn, and that imparted an unpleasant suggestion of disease. I stood looking at it for a little space  half a minute, perhaps, or half an hour. It seemed to advance and to recede as the hail drove before it denser or thinner. At last I tore my eyes from it for a moment and saw that the hail curtain had worn threadbare, and that the sky was lightening with the promise of the sun.  'I looked up again at the crouching white shape, and the full temerity of my voyage came suddenly upon me. What might appear when that hazy curtain was altogether withdrawn? What might not have happened to men? What if cruelty had grown into a common passion? What if in this interval the race had lost its manliness and had developed into something inhuman, unsympathetic, and overwhelmingly powerful? I might seem some old world savage animal, only the more dreadful and disgusting for our common likeness  a foul creature to be incontinently slain.  'Already I saw other vast shapes  huge buildings with intricate parapets and tall columns, with a wooded hill side dimly creeping in upon me through the lessening storm. I was seized with a panic fear. I turned frantically to the Time Machine, and strove hard to readjust it. As I did so the shafts of the sun smote through the thunderstorm. The grey downpour was swept aside and vanished like the trailing garments of a ghost. Above me, in the intense blue of the summer sky, some faint brown shreds of cloud whirled into nothingness. The great buildings about me stood out clear and distinct, shining with the wet of the thunderstorm, and picked out in white by the unmelted hailstones piled along their courses. I felt naked in a strange world. I felt as perhaps a bird may feel in the clear air, knowing the hawk wings above and will swoop. My fear grew to frenzy. I took a breathing space, set my teeth, and again grappled fiercely, wrist and knee, with the machine. It gave under my desperate onset and turned over. It struck my chin violently. One hand on the saddle, the other on the lever, I stood panting heavily in attitude to mount again.  'But with this recovery of a prompt retreat my courage recovered. I looked more curiously and less fearfully at this world of the remote future. In a circular opening, high up in the wall of the nearer house, I saw a group of figures clad in rich soft robes. They had seen me, and their faces were directed towards me.  'Then I heard voices approaching me. Coming through the bushes by the White Sphinx were the heads and shoulders of men running. One of these emerged in a pathway leading straight to the little lawn upon which I stood with my machine. He was a slight creature  perhaps four feet high  clad in a purple tunic, girdled at the waist with a leather belt. Sandals or buskins  I could not clearly distinguish which  were on his feet; his legs were bare to the knees, and his head was bare. Noticing that, I noticed for the first time how warm the air was.  'He struck me as being a very beautiful and graceful creature, but indescribably frail. His flushed face reminded me of the more beautiful kind of consumptive  that hectic beauty of which we used to hear so much. At the sight of him I suddenly regained confidence. I took my hands from the machine.     IV   'In another moment we were standing face to face, I and this fragile thing out of futurity. He came straight up to me and laughed into my eyes. The absence from his bearing of any sign of fear struck me at once. Then he turned to the two others who were following him and spoke to them in a strange and very sweet and liquid tongue.  'There were others coming, and presently a little group of perhaps eight or ten of these exquisite creatures were about me. One of them addressed me. It came into my head, oddly enough, that my voice was too harsh and deep for them. So I shook my head, and, pointing to my ears, shook it again. He came a step forward, hesitated, and then touched my hand. Then I felt other soft little tentacles upon my back and shoulders. They wanted to make sure I was real. There was nothing in this at all alarming. Indeed, there was something in these pretty little people that inspired confidence  a graceful gentleness, a certain childlike ease. And besides, they looked so frail that I could fancy myself flinging the whole dozen of them about like nine pins. But I made a sudden motion to warn them when I saw their little pink hands feeling at the Time Machine. Happily then, when it was not too late, I thought of a danger I had hitherto forgotten, and reaching over the bars of the machine I unscrewed the little levers that would set it in motion, and put these in my pocket. Then I turned again to see what I could do in the way of communication.  'And then, looking more nearly into their features, I saw some further peculiarities in their Dresden china type of prettiness. Their hair, which was uniformly curly, came to a sharp end at the neck and cheek; there was not the faintest suggestion of it on the face, and their ears were singularly minute. The mouths were small, with bright red, rather thin lips, and the little chins ran to a point. The eyes were large and mild; and  this may seem egotism on my part  I fancied even that there was a certain lack of the interest I might have expected in them.  'As they made no effort to communicate with me, but simply stood round me smiling and speaking in soft cooing notes to each other, I began the conversation. I pointed to the Time Machine and to myself. Then hesitating for a moment how to express time, I pointed to the sun. At once a quaintly pretty little figure in chequered purple and white followed my gesture, and then astonished me by imitating the sound of thunder.  'For a moment I was staggered, though the import of his gesture was plain enough. The question had come into my mind abruptly: were these creatures fools? You may hardly understand how it took me. You see I had always anticipated that the people of the year Eight Hundred and Two Thousand odd would be incredibly in front of us in knowledge, art, everything. Then one of them suddenly asked me a question that showed him to be on the intellectual level of one of our five year old children  asked me, in fact, if I had come from the sun in a thunderstorm! It let loose the judgment I had suspended upon their clothes, their frail light limbs, and fragile features. A flow of disappointment rushed across my mind. For a moment I felt that I had built the Time Machine in vain.  'I nodded, pointed to the sun, and gave them such a vivid rendering of a thunderclap as startled them. They all withdrew a pace or so and bowed. Then came one laughing towards me, carrying a chain of beautiful flowers altogether new to me, and put it about my neck. The idea was received with melodious applause; and presently they were all running to and fro for flowers, and laughingly flinging them upon me until I was almost smothered with blossom. You who have never seen the like can scarcely imagine what delicate and wonderful flowers countless years of culture had created. Then someone suggested that their plaything should be exhibited in the nearest building, and so I was led past the sphinx of white marble, which had seemed to watch me all the while with a smile at my astonishment, towards a vast grey edifice of fretted stone. As I went with them the memory of my confident anticipations of a profoundly grave and intellectual posterity came, with irresistible merriment, to my mind.  'The building had a huge entry, and was altogether of colossal dimensions. I was naturally most occupied with the growing crowd of little people, and with the big open portals that yawned before me shadowy and mysterious. My general impression of the world I saw over their heads was a tangled waste of beautiful bushes and flowers, a long neglected and yet weedless garden. I saw a number of tall spikes of strange white flowers, measuring a foot perhaps across the spread of the waxen petals. They grew scattered, as if wild, among the variegated shrubs, but, as I say, I did not examine them closely at this time. The Time Machine was left deserted on the turf among the rhododendrons.  'The arch of the doorway was richly carved, but naturally I did not observe the carving very narrowly, though I fancied I saw suggestions of old Phoenician decorations as I passed through, and it struck me that they were very badly broken and weather worn. Several more brightly clad people met me in the doorway, and so we entered, I, dressed in dingy nineteenth century garments, looking grotesque enough, garlanded with flowers, and surrounded by an eddying mass of bright, soft colored robes and shining white limbs, in a melodious whirl of laughter and laughing speech.  'The big doorway opened into a proportionately great hall hung with brown. The roof was in shadow, and the windows, partially glazed with coloured glass and partially unglazed, admitted a tempered light. The floor was made up of huge blocks of some very hard white metal, not plates nor slabs  blocks, and it was so much worn, as I judged by the going to and fro of past generations, as to be deeply channelled along the more frequented ways. Transverse to the length were innumerable tables made of slabs of polished stone, raised perhaps a foot from the floor, and upon these were heaps of fruits. Some I recognized as a kind of hypertrophied raspberry and orange, but for the most part they were strange.  'Between the tables was scattered a great number of cushions. Upon these my conductors seated themselves, signing for me to do likewise. With a pretty absence of ceremony they began to eat the fruit with their hands, flinging peel and stalks, and so forth, into the round openings in the sides of the tables. I was not loath to follow their example, for I felt thirsty and hungry. As I did so I surveyed the hall at my leisure.  'And perhaps the thing that struck me most was its dilapidated look. The stained glass windows, which displayed only a geometrical pattern, were broken in many places, and the curtains that hung across the lower end were thick with dust. And it caught my eye that the corner of the marble table near me was fractured. Nevertheless, the general effect was extremely rich and picturesque. There were, perhaps, a couple of hundred people dining in the hall, and most of them, seated as near to me as they could come, were watching me with interest, their little eyes shining over the fruit they were eating. All were clad in the same soft and yet strong, silky material.  'Fruit, by the by, was all their diet. These people of the remote future were strict vegetarians, and while I was with them, in spite of some carnal cravings, I had to be frugivorous also. Indeed, I found afterwards that horses, cattle, sheep, dogs, had followed the Ichthyosaurus into extinction. But the fruits were very delightful; one, in particular, that seemed to be in season all the time I was there  a floury thing in a three sided husk  was especially good, and I made it my staple. At first I was puzzled by all these strange fruits, and by the strange flowers I saw, but later I began to perceive their import.  'However, I am telling you of my fruit dinner in the distant future now. So soon as my appetite was a little checked, I determined to make a resolute attempt to learn the speech of these new men of mine. Clearly that was the next thing to do. The fruits seemed a convenient thing to begin upon, and holding one of these up I began a series of interrogative sounds and gestures. I had some considerable difficulty in conveying my meaning. At first my efforts met with a stare of surprise or inextinguishable laughter, but presently a fair haired little creature seemed to grasp my intention and repeated a name. They had to chatter and explain the business at great length to each other, and my first attempts to make the exquisite little sounds of their language caused an immense amount of amusement. However, I felt like a schoolmaster amidst children, and persisted, and presently I had a score of noun substantives at least at my command; and then I got to demonstrative pronouns, and even the verb \"to eat.\" But it was slow work, and the little people soon tired and wanted to get away from my interrogations, so I determined, rather of necessity, to let them give their lessons in little doses when they felt inclined. And very little doses I found they were before long, for I never met people more indolent or more easily fatigued.  'A queer thing I soon discovered about my little hosts, and that was their lack of interest. They would come to me with eager cries of astonishment, like children, but like children they would soon stop examining me and wander away after some other toy. The dinner and my conversational beginnings ended, I noted for the first time that almost all those who had surrounded me at first were gone. It is odd, too, how speedily I came to disregard these little people. I went out through the portal into the sunlit world again as soon as my hunger was satisfied. I was continually meeting more of these men of the future, who would follow me a little distance, chatter and laugh about me, and, having smiled and gesticulated in a friendly way, leave me again to my own devices.  'The calm of evening was upon the world as I emerged from the great hall, and the scene was lit by the warm glow of the setting sun. At first things were very confusing. Everything was so entirely different from the world I had known  even the flowers. The big building I had left was situated on the slope of a broad river valley, but the Thames had shifted perhaps a mile from its present position. I resolved to mount to the summit of a crest, perhaps a mile and a half away, from which I could get a wider view of this our planet in the year Eight Hundred and Two Thousand Seven Hundred and One A.D. For that, I should explain, was the date the little dials of my machine recorded.  'As I walked I was watching for every impression that could possibly help to explain the condition of ruinous splendour in which I found the world  for ruinous it was. A little way up the hill, for instance, was a great heap of granite, bound together by masses of aluminium, a vast labyrinth of precipitous walls and crumpled heaps, amidst which were thick heaps of very beautiful pagoda like plants  nettles possibly  but wonderfully tinted with brown about the leaves, and incapable of stinging. It was evidently the derelict remains of some vast structure, to what end built I could not determine. It was here that I was destined, at a later date, to have a very strange experience  the first intimation of a still stranger discovery  but of that I will speak in its proper place.  'Looking round with a sudden thought, from a terrace on which I rested for a while, I realized that there were no small houses to be seen. Apparently the single house, and possibly even the household, had vanished. Here and there among the greenery were palace like buildings, but the house and the cottage, which form such characteristic features of our own English landscape, had disappeared.  '\"Communism,\" said I to myself.  'And on the heels of that came another thought. I looked at the half dozen little figures that were following me. Then, in a flash, I perceived that all had the same form of costume, the same soft hairless visage, and the same girlish rotundity of limb. It may seem strange, perhaps, that I had not noticed this before. But everything was so strange. Now, I saw the fact plainly enough. In costume, and in all the differences of texture and bearing that now mark off the sexes from each other, these people of the future were alike. And the children seemed to my eyes to be but the miniatures of their parents. I judged, then, that the children of that time were extremely precocious, physically at least, and I found afterwards abundant verification of my opinion.  'Seeing the ease and security in which these people were living, I felt that this close resemblance of the sexes was after all what one would expect; for the strength of a man and the softness of a woman, the institution of the family, and the differentiation of occupations are mere militant necessities of an age of physical force; where population is balanced and abundant, much childbearing becomes an evil rather than a blessing to the State; where violence comes but rarely and off spring are secure, there is less necessity  indeed there is no necessity  for an efficient family, and the specialization of the sexes with reference to their children's needs disappears. We see some beginnings of this even in our own time, and in this future age it was complete. This, I must remind you, was my speculation at the time. Later, I was to appreciate how far it fell short of the reality.  'While I was musing upon these things, my attention was attracted by a pretty little structure, like a well under a cupola. I thought in a transitory way of the oddness of wells still existing, and then resumed the thread of my speculations. There were no large buildings towards the top of the hill, and as my walking powers were evidently miraculous, I was presently left alone for the first time. With a strange sense of freedom and adventure I pushed on up to the crest.  'There I found a seat of some yellow metal that I did not recognize, corroded in places with a kind of pinkish rust and half smothered in soft moss, the arm rests cast and filed into the resemblance of griffins' heads. I sat down on it, and I surveyed the broad view of our old world under the sunset of that long day. It was as sweet and fair a view as I have ever seen. The sun had already gone below the horizon and the west was flaming gold, touched with some horizontal bars of purple and crimson. Below was the valley of the Thames, in which the river lay like a band of burnished steel. I have already spoken of the great palaces dotted about among the variegated greenery, some in ruins and some still occupied. Here and there rose a white or silvery figure in the waste garden of the earth, here and there came the sharp vertical line of some cupola or obelisk. There were no hedges, no signs of proprietary rights, no evidences of agriculture; the whole earth had become a garden.  'So watching, I began to put my interpretation upon the things I had seen, and as it shaped itself to me that evening, my interpretation was something in this way. (Afterwards I found I had got only a half truth  or only a glimpse of one facet of the truth.)  'It seemed to me that I had happened upon humanity upon the wane. The ruddy sunset set me thinking of the sunset of mankind. For the first time I began to realize an odd consequence of the social effort in which we are at present engaged. And yet, come to think, it is a logical consequence enough. Strength is the outcome of need; security sets a premium on feebleness. The work of ameliorating the conditions of life  the true civilizing process that makes life more and more secure  had gone steadily on to a climax. One triumph of a united humanity over Nature had followed another. Things that are now mere dreams had become projects deliberately put in hand and carried forward. And the harvest was what I saw!  'After all, the sanitation and the agriculture of to day are still in the rudimentary stage. The science of our time has attacked but a little department of the field of human disease, but even so, it spreads its operations very steadily and persistently. Our agriculture and horticulture destroy a weed just here and there and cultivate perhaps a score or so of wholesome plants, leaving the greater number to fight out a balance as they can. We improve our favourite plants and animals  and how few they are  gradually by selective breeding; now a new and better peach, now a seedless grape, now a sweeter and larger flower, now a more convenient breed of cattle. We improve them gradually, because our ideals are vague and tentative, and our knowledge is very limited; because Nature, too, is shy and slow in our clumsy hands. Some day all this will be better organized, and still better. That is the drift of the current in spite of the eddies. The whole world will be intelligent, educated, and co operating; things will move faster and faster towards the subjugation of Nature. In the end, wisely and carefully we shall readjust the balance of animal and vegetable life to suit our human needs.  'This adjustment, I say, must have been done, and done well; done indeed for all Time, in the space of Time across which my machine had leaped. The air was free from gnats, the earth from weeds or fungi; everywhere were fruits and sweet and delightful flowers; brilliant butterflies flew hither and thither. The ideal of preventive medicine was attained. Diseases had been stamped out. I saw no evidence of any contagious diseases during all my stay. And I shall have to tell you later that even the processes of putrefaction and decay had been profoundly affected by these changes.  'Social triumphs, too, had been effected. I saw mankind housed in splendid shelters, gloriously clothed, and as yet I had found them engaged in no toil. There were no signs of struggle, neither social nor economical struggle. The shop, the advertisement, traffic, all that commerce which constitutes the body of our world, was gone. It was natural on that golden evening that I should jump at the idea of a social paradise. The difficulty of increasing population had been met, I guessed, and population had ceased to increase.  'But with this change in condition comes inevitably adaptations to the change. What, unless biological science is a mass of errors, is the cause of human intelligence and vigour? Hardship and freedom: conditions under which the active, strong, and subtle survive and the weaker go to the wall; conditions that put a premium upon the loyal alliance of capable men, upon self restraint, patience, and decision. And the institution of the family, and the emotions that arise therein, the fierce jealousy, the tenderness for offspring, parental self devotion, all found their justification and support in the imminent dangers of the young.  Now , where are these imminent dangers? There is a sentiment arising, and it will grow, against connubial jealousy, against fierce maternity, against passion of all sorts; unnecessary things now, and things that make us uncomfortable, savage survivals, discords in a refined and pleasant life.  'I thought of the physical slightness of the people, their lack of intelligence, and those big abundant ruins, and it strengthened my belief in a perfect conquest of Nature. For after the battle comes Quiet. Humanity had been strong, energetic, and intelligent, and had used all its abundant vitality to alter the conditions under which it lived. And now came the reaction of the altered conditions.  'Under the new conditions of perfect comfort and security, that restless energy, that with us is strength, would become weakness. Even in our own time certain tendencies and desires, once necessary to survival, are a constant source of failure. Physical courage and the love of battle, for instance, are no great help  may even be hindrances  to a civilized man. And in a state of physical balance and security, power, intellectual as well as physical, would be out of place. For countless years I judged there had been no danger of war or solitary violence, no danger from wild beasts, no wasting disease to require strength of constitution, no need of toil. For such a life, what we should call the weak are as well equipped as the strong, are indeed no longer weak. Better equipped indeed they are, for the strong would be fretted by an energy for which there was no outlet. No doubt the exquisite beauty of the buildings I saw was the outcome of the last surgings of the now purposeless energy of mankind before it settled down into perfect harmony with the conditions under which it lived  the flourish of that triumph which began the last great peace. This has ever been the fate of energy in security; it takes to art and to eroticism, and then come languor and decay.  'Even this artistic impetus would at last die away  had almost died in the Time I saw. To adorn themselves with flowers, to dance, to sing in the sunlight: so much was left of the artistic spirit, and no more. Even that would fade in the end into a contented inactivity. We are kept keen on the grindstone of pain and necessity, and, it seemed to me, that here was that hateful grindstone broken at last!  'As I stood there in the gathering dark I thought that in this simple explanation I had mastered the problem of the world  mastered the whole secret of these delicious people. Possibly the checks they had devised for the increase of population had succeeded too well, and their numbers had rather diminished than kept stationary. That would account for the abandoned ruins. Very simple was my explanation, and plausible enough  as most wrong theories are!     V   'As I stood there musing over this too perfect triumph of man, the full moon, yellow and gibbous, came up out of an overflow of silver light in the north east. The bright little figures ceased to move about below, a noiseless owl flitted by, and I shivered with the chill of the night. I determined to descend and find where I could sleep.  'I looked for the building I knew. Then my eye travelled along to the figure of the White Sphinx upon the pedestal of bronze, growing distinct as the light of the rising moon grew brighter. I could see the silver birch against it. There was the tangle of rhododendron bushes, black in the pale light, and there was the little lawn. I looked at the lawn again. A queer doubt chilled my complacency. \"No,\" said I stoutly to myself, \"that was not the lawn.\"  'But it  was  the lawn. For the white leprous face of the sphinx was towards it. Can you imagine what I felt as this conviction came home to me? But you cannot. The Time Machine was gone!  'At once, like a lash across the face, came the possibility of losing my own age, of being left helpless in this strange new world. The bare thought of it was an actual physical sensation. I could feel it grip me at the throat and stop my breathing. In another moment I was in a passion of fear and running with great leaping strides down the slope. Once I fell headlong and cut my face; I lost no time in stanching the blood, but jumped up and ran on, with a warm trickle down my cheek and chin. All the time I ran I was saying to myself: \"They have moved it a little, pushed it under the bushes out of the way.\" Nevertheless, I ran with all my might. All the time, with the certainty that sometimes comes with excessive dread, I knew that such assurance was folly, knew instinctively that the machine was removed out of my reach. My breath came with pain. I suppose I covered the whole distance from the hill crest to the little lawn, two miles perhaps, in ten minutes. And I am not a young man. I cursed aloud, as I ran, at my confident folly in leaving the machine, wasting good breath thereby. I cried aloud, and none answered. Not a creature seemed to be stirring in that moonlit world.  'When I reached the lawn my worst fears were realized. Not a trace of the thing was to be seen. I felt faint and cold when I faced the empty space among the black tangle of bushes. I ran round it furiously, as if the thing might be hidden in a corner, and then stopped abruptly, with my hands clutching my hair. Above me towered the sphinx, upon the bronze pedestal, white, shining, leprous, in the light of the rising moon. It seemed to smile in mockery of my dismay.  'I might have consoled myself by imagining the little people had put the mechanism in some shelter for me, had I not felt assured of their physical and intellectual inadequacy. That is what dismayed me: the sense of some hitherto unsuspected power, through whose intervention my invention had vanished. Yet, for one thing I felt assured: unless some other age had produced its exact duplicate, the machine could not have moved in time. The attachment of the levers  I will show you the method later  prevented any one from tampering with it in that way when they were removed. It had moved, and was hid, only in space. But then, where could it be?  'I think I must have had a kind of frenzy. I remember running violently in and out among the moonlit bushes all round the sphinx, and startling some white animal that, in the dim light, I took for a small deer. I remember, too, late that night, beating the bushes with my clenched fist until my knuckles were gashed and bleeding from the broken twigs. Then, sobbing and raving in my anguish of mind, I went down to the great building of stone. The big hall was dark, silent, and deserted. I slipped on the uneven floor, and fell over one of the malachite tables, almost breaking my shin. I lit a match and went on past the dusty curtains, of which I have told you.  'There I found a second great hall covered with cushions, upon which, perhaps, a score or so of the little people were sleeping. I have no doubt they found my second appearance strange enough, coming suddenly out of the quiet darkness with inarticulate noises and the splutter and flare of a match. For they had forgotten about matches. \"Where is my Time Machine?\" I began, bawling like an angry child, laying hands upon them and shaking them up together. It must have been very queer to them. Some laughed, most of them looked sorely frightened. When I saw them standing round me, it came into my head that I was doing as foolish a thing as it was possible for me to do under the circumstances, in trying to revive the sensation of fear. For, reasoning from their daylight behaviour, I thought that fear must be forgotten.  'Abruptly, I dashed down the match, and, knocking one of the people over in my course, went blundering across the big dining hall again, out under the moonlight. I heard cries of terror and their little feet running and stumbling this way and that. I do not remember all I did as the moon crept up the sky. I suppose it was the unexpected nature of my loss that maddened me. I felt hopelessly cut off from my own kind  a strange animal in an unknown world. I must have raved to and fro, screaming and crying upon God and Fate. I have a memory of horrible fatigue, as the long night of despair wore away; of looking in this impossible place and that; of groping among moon lit ruins and touching strange creatures in the black shadows; at last, of lying on the ground near the sphinx and weeping with absolute wretchedness. I had nothing left but misery. Then I slept, and when I woke again it was full day, and a couple of sparrows were hopping round me on the turf within reach of my arm.  'I sat up in the freshness of the morning, trying to remember how I had got there, and why I had such a profound sense of desertion and despair. Then things came clear in my mind. With the plain, reasonable daylight, I could look my circumstances fairly in the face. I saw the wild folly of my frenzy overnight, and I could reason with myself. \"Suppose the worst?\" I said. \"Suppose the machine altogether lost  perhaps destroyed? It behoves me to be calm and patient, to learn the way of the people, to get a clear idea of the method of my loss, and the means of getting materials and tools; so that in the end, perhaps, I may make another.\" That would be my only hope, perhaps, but better than despair. And, after all, it was a beautiful and curious world.  'But probably, the machine had only been taken away. Still, I must be calm and patient, find its hiding place, and recover it by force or cunning. And with that I scrambled to my feet and looked about me, wondering where I could bathe. I felt weary, stiff, and travel soiled. The freshness of the morning made me desire an equal freshness. I had exhausted my emotion. Indeed, as I went about my business, I found myself wondering at my intense excitement overnight. I made a careful examination of the ground about the little lawn. I wasted some time in futile questionings, conveyed, as well as I was able, to such of the little people as came by. They all failed to understand my gestures; some were simply stolid, some thought it was a jest and laughed at me. I had the hardest task in the world to keep my hands off their pretty laughing faces. It was a foolish impulse, but the devil begotten of fear and blind anger was ill curbed and still eager to take advantage of my perplexity. The turf gave better counsel. I found a groove ripped in it, about midway between the pedestal of the sphinx and the marks of my feet where, on arrival, I had struggled with the overturned machine. There were other signs of removal about, with queer narrow footprints like those I could imagine made by a sloth. This directed my closer attention to the pedestal. It was, as I think I have said, of bronze. It was not a mere block, but highly decorated with deep framed panels on either side. I went and rapped at these. The pedestal was hollow. Examining the panels with care I found them discontinuous with the frames. There were no handles or keyholes, but possibly the panels, if they were doors, as I supposed, opened from within. One thing was clear enough to my mind. It took no very great mental effort to infer that my Time Machine was inside that pedestal. But how it got there was a different problem.  'I saw the heads of two orange clad people coming through the bushes and under some blossom covered apple trees towards me. I turned smiling to them and beckoned them to me. They came, and then, pointing to the bronze pedestal, I tried to intimate my wish to open it. But at my first gesture towards this they behaved very oddly. I don't know how to convey their expression to you. Suppose you were to use a grossly improper gesture to a delicate minded woman  it is how she would look. They went off as if they had received the last possible insult. I tried a sweet looking little chap in white next, with exactly the same result. Somehow, his manner made me feel ashamed of myself. But, as you know, I wanted the Time Machine, and I tried him once more. As he turned off, like the others, my temper got the better of me. In three strides I was after him, had him by the loose part of his robe round the neck, and began dragging him towards the sphinx. Then I saw the horror and repugnance of his face, and all of a sudden I let him go.  'But I was not beaten yet. I banged with my fist at the bronze panels. I thought I heard something stir inside  to be explicit, I thought I heard a sound like a chuckle  but I must have been mistaken. Then I got a big pebble from the river, and came and hammered till I had flattened a coil in the decorations, and the verdigris came off in powdery flakes. The delicate little people must have heard me hammering in gusty outbreaks a mile away on either hand, but nothing came of it. I saw a crowd of them upon the slopes, looking furtively at me. At last, hot and tired, I sat down to watch the place. But I was too restless to watch long; I am too Occidental for a long vigil. I could work at a problem for years, but to wait inactive for twenty four hours  that is another matter.  'I got up after a time, and began walking aimlessly through the bushes towards the hill again. \"Patience,\" said I to myself. \"If you want your machine again you must leave that sphinx alone. If they mean to take your machine away, it's little good your wrecking their bronze panels, and if they don't, you will get it back as soon as you can ask for it. To sit among all those unknown things before a puzzle like that is hopeless. That way lies monomania. Face this world. Learn its ways, watch it, be careful of too hasty guesses at its meaning. In the end you will find clues to it all.\" Then suddenly the humour of the situation came into my mind: the thought of the years I had spent in study and toil to get into the future age, and now my passion of anxiety to get out of it. I had made myself the most complicated and the most hopeless trap that ever a man devised. Although it was at my own expense, I could not help myself. I laughed aloud.  'Going through the big palace, it seemed to me that the little people avoided me. It may have been my fancy, or it may have had something to do with my hammering at the gates of bronze. Yet I felt tolerably sure of the avoidance. I was careful, however, to show no concern and to abstain from any pursuit of them, and in the course of a day or two things got back to the old footing. I made what progress I could in the language, and in addition I pushed my explorations here and there. Either I missed some subtle point or their language was excessively simple  almost exclusively composed of concrete substantives and verbs. There seemed to be few, if any, abstract terms, or little use of figurative language. Their sentences were usually simple and of two words, and I failed to convey or understand any but the simplest propositions. I determined to put the thought of my Time Machine and the mystery of the bronze doors under the sphinx as much as possible in a corner of memory, until my growing knowledge would lead me back to them in a natural way. Yet a certain feeling, you may understand, tethered me in a circle of a few miles round the point of my arrival.  'So far as I could see, all the world displayed the same exuberant richness as the Thames valley. From every hill I climbed I saw the same abundance of splendid buildings, endlessly varied in material and style, the same clustering thickets of evergreens, the same blossom laden trees and tree ferns. Here and there water shone like silver, and beyond, the land rose into blue undulating hills, and so faded into the serenity of the sky. A peculiar feature, which presently attracted my attention, was the presence of certain circular wells, several, as it seemed to me, of a very great depth. One lay by the path up the hill, which I had followed during my first walk. Like the others, it was rimmed with bronze, curiously wrought, and protected by a little cupola from the rain. Sitting by the side of these wells, and peering down into the shafted darkness, I could see no gleam of water, nor could I start any reflection with a lighted match. But in all of them I heard a certain sound: a thud  thud  thud, like the beating of some big engine; and I discovered, from the flaring of my matches, that a steady current of air set down the shafts. Further, I threw a scrap of paper into the throat of one, and, instead of fluttering slowly down, it was at once sucked swiftly out of sight.  'After a time, too, I came to connect these wells with tall towers standing here and there upon the slopes; for above them there was often just such a flicker in the air as one sees on a hot day above a sun scorched beach. Putting things together, I reached a strong suggestion of an extensive system of subterranean ventilation, whose true import it was difficult to imagine. I was at first inclined to associate it with the sanitary apparatus of these people. It was an obvious conclusion, but it was absolutely wrong.  'And here I must admit that I learned very little of drains and bells and modes of conveyance, and the like conveniences, during my time in this real future. In some of these visions of Utopias and coming times which I have read, there is a vast amount of detail about building, and social arrangements, and so forth. But while such details are easy enough to obtain when the whole world is contained in one's imagination, they are altogether inaccessible to a real traveller amid such realities as I found here. Conceive the tale of London which a negro, fresh from Central Africa, would take back to his tribe! What would he know of railway companies, of social movements, of telephone and telegraph wires, of the Parcels Delivery Company, and postal orders and the like? Yet we, at least, should be willing enough to explain these things to him! And even of what he knew, how much could he make his untravelled friend either apprehend or believe? Then, think how narrow the gap between a negro and a white man of our own times, and how wide the interval between myself and these of the Golden Age! I was sensible of much which was unseen, and which contributed to my comfort; but save for a general impression of automatic organization, I fear I can convey very little of the difference to your mind.  'In the matter of sepulture, for instance, I could see no signs of crematoria nor anything suggestive of tombs. But it occurred to me that, possibly, there might be cemeteries (or crematoria) somewhere beyond the range of my explorings. This, again, was a question I deliberately put to myself, and my curiosity was at first entirely defeated upon the point. The thing puzzled me, and I was led to make a further remark, which puzzled me still more: that aged and infirm among this people there were none.  'I must confess that my satisfaction with my first theories of an automatic civilization and a decadent humanity did not long endure. Yet I could think of no other. Let me put my difficulties. The several big palaces I had explored were mere living places, great dining halls and sleeping apartments. I could find no machinery, no appliances of any kind. Yet these people were clothed in pleasant fabrics that must at times need renewal, and their sandals, though undecorated, were fairly complex specimens of metalwork. Somehow such things must be made. And the little people displayed no vestige of a creative tendency. There were no shops, no workshops, no sign of importations among them. They spent all their time in playing gently, in bathing in the river, in making love in a half playful fashion, in eating fruit and sleeping. I could not see how things were kept going.  'Then, again, about the Time Machine: something, I knew not what, had taken it into the hollow pedestal of the White Sphinx. Why? For the life of me I could not imagine. Those waterless wells, too, those flickering pillars. I felt I lacked a clue. I felt  how shall I put it? Suppose you found an inscription, with sentences here and there in excellent plain English, and interpolated therewith, others made up of words, of letters even, absolutely unknown to you? Well, on the third day of my visit, that was how the world of Eight Hundred and Two Thousand Seven Hundred and One presented itself to me!  'That day, too, I made a friend  of a sort. It happened that, as I was watching some of the little people bathing in a shallow, one of them was seized with cramp and began drifting downstream. The main current ran rather swiftly, but not too strongly for even a moderate swimmer. It will give you an idea, therefore, of the strange deficiency in these creatures, when I tell you that none made the slightest attempt to rescue the weakly crying little thing which was drowning before their eyes. When I realized this, I hurriedly slipped off my clothes, and, wading in at a point lower down, I caught the poor mite and drew her safe to land. A little rubbing of the limbs soon brought her round, and I had the satisfaction of seeing she was all right before I left her. I had got to such a low estimate of her kind that I did not expect any gratitude from her. In that, however, I was wrong.  'This happened in the morning. In the afternoon I met my little woman, as I believe it was, as I was returning towards my centre from an exploration, and she received me with cries of delight and presented me with a big garland of flowers  evidently made for me and me alone. The thing took my imagination. Very possibly I had been feeling desolate. At any rate I did my best to display my appreciation of the gift. We were soon seated together in a little stone arbour, engaged in conversation, chiefly of smiles. The creature's friendliness affected me exactly as a child's might have done. We passed each other flowers, and she kissed my hands. I did the same to hers. Then I tried talk, and found that her name was Weena, which, though I don't know what it meant, somehow seemed appropriate enough. That was the beginning of a queer friendship which lasted a week, and ended  as I will tell you!  'She was exactly like a child. She wanted to be with me always. She tried to follow me everywhere, and on my next journey out and about it went to my heart to tire her down, and leave her at last, exhausted and calling after me rather plaintively. But the problems of the world had to be mastered. I had not, I said to myself, come into the future to carry on a miniature flirtation. Yet her distress when I left her was very great, her expostulations at the parting were sometimes frantic, and I think, altogether, I had as much trouble as comfort from her devotion. Nevertheless she was, somehow, a very great comfort. I thought it was mere childish affection that made her cling to me. Until it was too late, I did not clearly know what I had inflicted upon her when I left her. Nor until it was too late did I clearly understand what she was to me. For, by merely seeming fond of me, and showing in her weak, futile way that she cared for me, the little doll of a creature presently gave my return to the neighbourhood of the White Sphinx almost the feeling of coming home; and I would watch for her tiny figure of white and gold so soon as I came over the hill.  'It was from her, too, that I learned that fear had not yet left the world. She was fearless enough in the daylight, and she had the oddest confidence in me; for once, in a foolish moment, I made threatening grimaces at her, and she simply laughed at them. But she dreaded the dark, dreaded shadows, dreaded black things. Darkness to her was the one thing dreadful. It was a singularly passionate emotion, and it set me thinking and observing. I discovered then, among other things, that these little people gathered into the great houses after dark, and slept in droves. To enter upon them without a light was to put them into a tumult of apprehension. I never found one out of doors, or one sleeping alone within doors, after dark. Yet I was still such a blockhead that I missed the lesson of that fear, and in spite of Weena's distress I insisted upon sleeping away from these slumbering multitudes.  'It troubled her greatly, but in the end her odd affection for me triumphed, and for five of the nights of our acquaintance, including the last night of all, she slept with her head pillowed on my arm. But my story slips away from me as I speak of her. It must have been the night before her rescue that I was awakened about dawn. I had been restless, dreaming most disagreeably that I was drowned, and that sea anemones were feeling over my face with their soft palps. I woke with a start, and with an odd fancy that some greyish animal had just rushed out of the chamber. I tried to get to sleep again, but I felt restless and uncomfortable. It was that dim grey hour when things are just creeping out of darkness, when everything is colourless and clear cut, and yet unreal. I got up, and went down into the great hall, and so out upon the flagstones in front of the palace. I thought I would make a virtue of necessity, and see the sunrise.  'The moon was setting, and the dying moonlight and the first pallor of dawn were mingled in a ghastly half light. The bushes were inky black, the ground a sombre grey, the sky colourless and cheerless. And up the hill I thought I could see ghosts. There several times, as I scanned the slope, I saw white figures. Twice I fancied I saw a solitary white, ape like creature running rather quickly up the hill, and once near the ruins I saw a leash of them carrying some dark body. They moved hastily. I did not see what became of them. It seemed that they vanished among the bushes. The dawn was still indistinct, you must understand. I was feeling that chill, uncertain, early morning feeling you may have known. I doubted my eyes.  'As the eastern sky grew brighter, and the light of the day came on and its vivid colouring returned upon the world once more, I scanned the view keenly. But I saw no vestige of my white figures. They were mere creatures of the half light. \"They must have been ghosts,\" I said; \"I wonder whence they dated.\" For a queer notion of Grant Allen's came into my head, and amused me. If each generation die and leave ghosts, he argued, the world at last will get overcrowded with them. On that theory they would have grown innumerable some Eight Hundred Thousand Years hence, and it was no great wonder to see four at once. But the jest was unsatisfying, and I was thinking of these figures all the morning, until Weena's rescue drove them out of my head. I associated them in some indefinite way with the white animal I had startled in my first passionate search for the Time Machine. But Weena was a pleasant substitute. Yet all the same, they were soon destined to take far deadlier possession of my mind.  'I think I have said how much hotter than our own was the weather of this Golden Age. I cannot account for it. It may be that the sun was hotter, or the earth nearer the sun. It is usual to assume that the sun will go on cooling steadily in the future. But people, unfamiliar with such speculations as those of the younger Darwin, forget that the planets must ultimately fall back one by one into the parent body. As these catastrophes occur, the sun will blaze with renewed energy; and it may be that some inner planet had suffered this fate. Whatever the reason, the fact remains that the sun was very much hotter than we know it.  'Well, one very hot morning  my fourth, I think  as I was seeking shelter from the heat and glare in a colossal ruin near the great house where I slept and fed, there happened this strange thing: Clambering among these heaps of masonry, I found a narrow gallery, whose end and side windows were blocked by fallen masses of stone. By contrast with the brilliancy outside, it seemed at first impenetrably dark to me. I entered it groping, for the change from light to blackness made spots of colour swim before me. Suddenly I halted spellbound. A pair of eyes, luminous by reflection against the daylight without, was watching me out of the darkness.  'The old instinctive dread of wild beasts came upon me. I clenched my hands and steadfastly looked into the glaring eyeballs. I was afraid to turn. Then the thought of the absolute security in which humanity appeared to be living came to my mind. And then I remembered that strange terror of the dark. Overcoming my fear to some extent, I advanced a step and spoke. I will admit that my voice was harsh and ill controlled. I put out my hand and touched something soft. At once the eyes darted sideways, and something white ran past me. I turned with my heart in my mouth, and saw a queer little ape like figure, its head held down in a peculiar manner, running across the sunlit space behind me. It blundered against a block of granite, staggered aside, and in a moment was hidden in a black shadow beneath another pile of ruined masonry.  'My impression of it is, of course, imperfect; but I know it was a dull white, and had strange large greyish red eyes; also that there was flaxen hair on its head and down its back. But, as I say, it went too fast for me to see distinctly. I cannot even say whether it ran on all fours, or only with its forearms held very low. After an instant's pause I followed it into the second heap of ruins. I could not find it at first; but, after a time in the profound obscurity, I came upon one of those round well like openings of which I have told you, half closed by a fallen pillar. A sudden thought came to me. Could this Thing have vanished down the shaft? I lit a match, and, looking down, I saw a small, white, moving creature, with large bright eyes which regarded me steadfastly as it retreated. It made me shudder. It was so like a human spider! It was clambering down the wall, and now I saw for the first time a number of metal foot and hand rests forming a kind of ladder down the shaft. Then the light burned my fingers and fell out of my hand, going out as it dropped, and when I had lit another the little monster had disappeared.  'I do not know how long I sat peering down that well. It was not for some time that I could succeed in persuading myself that the thing I had seen was human. But, gradually, the truth dawned on me: that Man had not remained one species, but had differentiated into two distinct animals: that my graceful children of the Upper world were not the sole descendants of our generation, but that this bleached, obscene, nocturnal Thing, which had flashed before me, was also heir to all the ages.  'I thought of the flickering pillars and of my theory of an underground ventilation. I began to suspect their true import. And what, I wondered, was this Lemur doing in my scheme of a perfectly balanced organization? How was it related to the indolent serenity of the beautiful Upper worlders? And what was hidden down there, at the foot of that shaft? I sat upon the edge of the well telling myself that, at any rate, there was nothing to fear, and that there I must descend for the solution of my difficulties. And withal I was absolutely afraid to go! As I hesitated, two of the beautiful Upper world people came running in their amorous sport across the daylight in the shadow. The male pursued the female, flinging flowers at her as he ran.  'They seemed distressed to find me, my arm against the overturned pillar, peering down the well. Apparently it was considered bad form to remark these apertures; for when I pointed to this one, and tried to frame a question about it in their tongue, they were still more visibly distressed and turned away. But they were interested by my matches, and I struck some to amuse them. I tried them again about the well, and again I failed. So presently I left them, meaning to go back to Weena, and see what I could get from her. But my mind was already in revolution; my guesses and impressions were slipping and sliding to a new adjustment. I had now a clue to the import of these wells, to the ventilating towers, to the mystery of the ghosts; to say nothing of a hint at the meaning of the bronze gates and the fate of the Time Machine! And very vaguely there came a suggestion towards the solution of the economic problem that had puzzled me.  'Here was the new view. Plainly, this second species of Man was subterranean. There were three circumstances in particular which made me think that its rare emergence above ground was the outcome of a long continued underground habit. In the first place, there was the bleached look common in most animals that live largely in the dark  the white fish of the Kentucky caves, for instance. Then, those large eyes, with that capacity for reflecting light, are common features of nocturnal things  witness the owl and the cat. And last of all, that evident confusion in the sunshine, that hasty yet fumbling awkward flight towards dark shadow, and that peculiar carriage of the head while in the light  all reinforced the theory of an extreme sensitiveness of the retina.  'Beneath my feet, then, the earth must be tunnelled enormously, and these tunnellings were the habitat of the new race. The presence of ventilating shafts and wells along the hill slopes  everywhere, in fact, except along the river valley  showed how universal were its ramifications. What so natural, then, as to assume that it was in this artificial Underworld that such work as was necessary to the comfort of the daylight race was done? The notion was so plausible that I at once accepted it, and went on to assume the  how  of this splitting of the human species. I dare say you will anticipate the shape of my theory; though, for myself, I very soon felt that it fell far short of the truth.  'At first, proceeding from the problems of our own age, it seemed clear as daylight to me that the gradual widening of the present merely temporary and social difference between the Capitalist and the Labourer, was the key to the whole position. No doubt it will seem grotesque enough to you  and wildly incredible!  and yet even now there are existing circumstances to point that way. There is a tendency to utilize underground space for the less ornamental purposes of civilization; there is the Metropolitan Railway in London, for instance, there are new electric railways, there are subways, there are underground workrooms and restaurants, and they increase and multiply. Evidently, I thought, this tendency had increased till Industry had gradually lost its birthright in the sky. I mean that it had gone deeper and deeper into larger and ever larger underground factories, spending a still increasing amount of its time therein, till, in the end  ! Even now, does not an East end worker live in such artificial conditions as practically to be cut off from the natural surface of the earth?  'Again, the exclusive tendency of richer people  due, no doubt, to the increasing refinement of their education, and the widening gulf between them and the rude violence of the poor  is already leading to the closing, in their interest, of considerable portions of the surface of the land. About London, for instance, perhaps half the prettier country is shut in against intrusion. And this same widening gulf  which is due to the length and expense of the higher educational process and the increased facilities for and temptations towards refined habits on the part of the rich  will make that exchange between class and class, that promotion by intermarriage which at present retards the splitting of our species along lines of social stratification, less and less frequent. So, in the end, above ground you must have the Haves, pursuing pleasure and comfort and beauty, and below ground the Have nots, the Workers getting continually adapted to the conditions of their labour. Once they were there, they would no doubt have to pay rent, and not a little of it, for the ventilation of their caverns; and if they refused, they would starve or be suffocated for arrears. Such of them as were so constituted as to be miserable and rebellious would die; and, in the end, the balance being permanent, the survivors would become as well adapted to the conditions of underground life, and as happy in their way, as the Upper world people were to theirs. As it seemed to me, the refined beauty and the etiolated pallor followed naturally enough.  'The great triumph of Humanity I had dreamed of took a different shape in my mind. It had been no such triumph of moral education and general co operation as I had imagined. Instead, I saw a real aristocracy, armed with a perfected science and working to a logical conclusion the industrial system of to day. Its triumph had not been simply a triumph over Nature, but a triumph over Nature and the fellow man. This, I must warn you, was my theory at the time. I had no convenient cicerone in the pattern of the Utopian books. My explanation may be absolutely wrong. I still think it is the most plausible one. But even on this supposition the balanced civilization that was at last attained must have long since passed its zenith, and was now far fallen into decay. The too perfect security of the Upper worlders had led them to a slow movement of degeneration, to a general dwindling in size, strength, and intelligence. That I could see clearly enough already. What had happened to the Under grounders I did not yet suspect; but from what I had seen of the Morlocks  that, by the by, was the name by which these creatures were called  I could imagine that the modification of the human type was even far more profound than among the \"Eloi,\" the beautiful race that I already knew.  'Then came troublesome doubts. Why had the Morlocks taken my Time Machine? For I felt sure it was they who had taken it. Why, too, if the Eloi were masters, could they not restore the machine to me? And why were they so terribly afraid of the dark? I proceeded, as I have said, to question Weena about this Under world, but here again I was disappointed. At first she would not understand my questions, and presently she refused to answer them. She shivered as though the topic was unendurable. And when I pressed her, perhaps a little harshly, she burst into tears. They were the only tears, except my own, I ever saw in that Golden Age. When I saw them I ceased abruptly to trouble about the Morlocks, and was only concerned in banishing these signs of the human inheritance from Weena's eyes. And very soon she was smiling and clapping her hands, while I solemnly burned a match.     VI   'It may seem odd to you, but it was two days before I could follow up the new found clue in what was manifestly the proper way. I felt a peculiar shrinking from those pallid bodies. They were just the half bleached colour of the worms and things one sees preserved in spirit in a zoological museum. And they were filthily cold to the touch. Probably my shrinking was largely due to the sympathetic influence of the Eloi, whose disgust of the Morlocks I now began to appreciate.  'The next night I did not sleep well. Probably my health was a little disordered. I was oppressed with perplexity and doubt. Once or twice I had a feeling of intense fear for which I could perceive no definite reason. I remember creeping noiselessly into the great hall where the little people were sleeping in the moonlight  that night Weena was among them  and feeling reassured by their presence. It occurred to me even then, that in the course of a few days the moon must pass through its last quarter, and the nights grow dark, when the appearances of these unpleasant creatures from below, these whitened Lemurs, this new vermin that had replaced the old, might be more abundant. And on both these days I had the restless feeling of one who shirks an inevitable duty. I felt assured that the Time Machine was only to be recovered by boldly penetrating these underground mysteries. Yet I could not face the mystery. If only I had had a companion it would have been different. But I was so horribly alone, and even to clamber down into the darkness of the well appalled me. I don't know if you will understand my feeling, but I never felt quite safe at my back.  'It was this restlessness, this insecurity, perhaps, that drove me further and further afield in my exploring expeditions. Going to the south westward towards the rising country that is now called Combe Wood, I observed far off, in the direction of nineteenth century Banstead, a vast green structure, different in character from any I had hitherto seen. It was larger than the largest of the palaces or ruins I knew, and the facade had an Oriental look: the face of it having the lustre, as well as the pale green tint, a kind of bluish green, of a certain type of Chinese porcelain. This difference in aspect suggested a difference in use, and I was minded to push on and explore. But the day was growing late, and I had come upon the sight of the place after a long and tiring circuit; so I resolved to hold over the adventure for the following day, and I returned to the welcome and the caresses of little Weena. But next morning I perceived clearly enough that my curiosity regarding the Palace of Green Porcelain was a piece of self deception, to enable me to shirk, by another day, an experience I dreaded. I resolved I would make the descent without further waste of time, and started out in the early morning towards a well near the ruins of granite and aluminium.  'Little Weena ran with me. She danced beside me to the well, but when she saw me lean over the mouth and look downward, she seemed strangely disconcerted. \"Good bye, little Weena,\" I said, kissing her; and then putting her down, I began to feel over the parapet for the climbing hooks. Rather hastily, I may as well confess, for I feared my courage might leak away! At first she watched me in amazement. Then she gave a most piteous cry, and running to me, she began to pull at me with her little hands. I think her opposition nerved me rather to proceed. I shook her off, perhaps a little roughly, and in another moment I was in the throat of the well. I saw her agonized face over the parapet, and smiled to reassure her. Then I had to look down at the unstable hooks to which I clung.  'I had to clamber down a shaft of perhaps two hundred yards. The descent was effected by means of metallic bars projecting from the sides of the well, and these being adapted to the needs of a creature much smaller and lighter than myself, I was speedily cramped and fatigued by the descent. And not simply fatigued! One of the bars bent suddenly under my weight, and almost swung me off into the blackness beneath. For a moment I hung by one hand, and after that experience I did not dare to rest again. Though my arms and back were presently acutely painful, I went on clambering down the sheer descent with as quick a motion as possible. Glancing upward, I saw the aperture, a small blue disk, in which a star was visible, while little Weena's head showed as a round black projection. The thudding sound of a machine below grew louder and more oppressive. Everything save that little disk above was profoundly dark, and when I looked up again Weena had disappeared.  'I was in an agony of discomfort. I had some thought of trying to go up the shaft again, and leave the Under world alone. But even while I turned this over in my mind I continued to descend. At last, with intense relief, I saw dimly coming up, a foot to the right of me, a slender loophole in the wall. Swinging myself in, I found it was the aperture of a narrow horizontal tunnel in which I could lie down and rest. It was not too soon. My arms ached, my back was cramped, and I was trembling with the prolonged terror of a fall. Besides this, the unbroken darkness had had a distressing effect upon my eyes. The air was full of the throb and hum of machinery pumping air down the shaft.  'I do not know how long I lay. I was roused by a soft hand touching my face. Starting up in the darkness I snatched at my matches and, hastily striking one, I saw three stooping white creatures similar to the one I had seen above ground in the ruin, hastily retreating before the light. Living, as they did, in what appeared to me impenetrable darkness, their eyes were abnormally large and sensitive, just as are the pupils of the abysmal fishes, and they reflected the light in the same way. I have no doubt they could see me in that rayless obscurity, and they did not seem to have any fear of me apart from the light. But, so soon as I struck a match in order to see them, they fled incontinently, vanishing into dark gutters and tunnels, from which their eyes glared at me in the strangest fashion.  'I tried to call to them, but the language they had was apparently different from that of the Over world people; so that I was needs left to my own unaided efforts, and the thought of flight before exploration was even then in my mind. But I said to myself, \"You are in for it now,\" and, feeling my way along the tunnel, I found the noise of machinery grow louder. Presently the walls fell away from me, and I came to a large open space, and striking another match, saw that I had entered a vast arched cavern, which stretched into utter darkness beyond the range of my light. The view I had of it was as much as one could see in the burning of a match.  'Necessarily my memory is vague. Great shapes like big machines rose out of the dimness, and cast grotesque black shadows, in which dim spectral Morlocks sheltered from the glare. The place, by the by, was very stuffy and oppressive, and the faint halitus of freshly shed blood was in the air. Some way down the central vista was a little table of white metal, laid with what seemed a meal. The Morlocks at any rate were carnivorous! Even at the time, I remember wondering what large animal could have survived to furnish the red joint I saw. It was all very indistinct: the heavy smell, the big unmeaning shapes, the obscene figures lurking in the shadows, and only waiting for the darkness to come at me again! Then the match burned down, and stung my fingers, and fell, a wriggling red spot in the blackness.  'I have thought since how particularly ill equipped I was for such an experience. When I had started with the Time Machine, I had started with the absurd assumption that the men of the Future would certainly be infinitely ahead of ourselves in all their appliances. I had come without arms, without medicine, without anything to smoke  at times I missed tobacco frightfully  even without enough matches. If only I had thought of a Kodak! I could have flashed that glimpse of the Underworld in a second, and examined it at leisure. But, as it was, I stood there with only the weapons and the powers that Nature had endowed me with  hands, feet, and teeth; these, and four safety matches that still remained to me.  'I was afraid to push my way in among all this machinery in the dark, and it was only with my last glimpse of light I discovered that my store of matches had run low. It had never occurred to me until that moment that there was any need to economize them, and I had wasted almost half the box in astonishing the Upper worlders, to whom fire was a novelty. Now, as I say, I had four left, and while I stood in the dark, a hand touched mine, lank fingers came feeling over my face, and I was sensible of a peculiar unpleasant odour. I fancied I heard the breathing of a crowd of those dreadful little beings about me. I felt the box of matches in my hand being gently disengaged, and other hands behind me plucking at my clothing. The sense of these unseen creatures examining me was indescribably unpleasant. The sudden realization of my ignorance of their ways of thinking and doing came home to me very vividly in the darkness. I shouted at them as loudly as I could. They started away, and then I could feel them approaching me again. They clutched at me more boldly, whispering odd sounds to each other. I shivered violently, and shouted again  rather discordantly. This time they were not so seriously alarmed, and they made a queer laughing noise as they came back at me. I will confess I was horribly frightened. I determined to strike another match and escape under the protection of its glare. I did so, and eking out the flicker with a scrap of paper from my pocket, I made good my retreat to the narrow tunnel. But I had scarce entered this when my light was blown out and in the blackness I could hear the Morlocks rustling like wind among leaves, and pattering like the rain, as they hurried after me.  'In a moment I was clutched by several hands, and there was no mistaking that they were trying to haul me back. I struck another light, and waved it in their dazzled faces. You can scarce imagine how nauseatingly inhuman they looked  those pale, chinless faces and great, lidless, pinkish grey eyes!  as they stared in their blindness and bewilderment. But I did not stay to look, I promise you: I retreated again, and when my second match had ended, I struck my third. It had almost burned through when I reached the opening into the shaft. I lay down on the edge, for the throb of the great pump below made me giddy. Then I felt sideways for the projecting hooks, and, as I did so, my feet were grasped from behind, and I was violently tugged backward. I lit my last match ... and it incontinently went out. But I had my hand on the climbing bars now, and, kicking violently, I disengaged myself from the clutches of the Morlocks and was speedily clambering up the shaft, while they stayed peering and blinking up at me: all but one little wretch who followed me for some way, and well nigh secured my boot as a trophy.  'That climb seemed interminable to me. With the last twenty or thirty feet of it a deadly nausea came upon me. I had the greatest difficulty in keeping my hold. The last few yards was a frightful struggle against this faintness. Several times my head swam, and I felt all the sensations of falling. At last, however, I got over the well mouth somehow, and staggered out of the ruin into the blinding sunlight. I fell upon my face. Even the soil smelt sweet and clean. Then I remember Weena kissing my hands and ears, and the voices of others among the Eloi. Then, for a time, I was insensible.     VII   'Now, indeed, I seemed in a worse case than before. Hitherto, except during my night's anguish at the loss of the Time Machine, I had felt a sustaining hope of ultimate escape, but that hope was staggered by these new discoveries. Hitherto I had merely thought myself impeded by the childish simplicity of the little people, and by some unknown forces which I had only to understand to overcome; but there was an altogether new element in the sickening quality of the Morlocks  a something inhuman and malign. Instinctively I loathed them. Before, I had felt as a man might feel who had fallen into a pit: my concern was with the pit and how to get out of it. Now I felt like a beast in a trap, whose enemy would come upon him soon.  'The enemy I dreaded may surprise you. It was the darkness of the new moon. Weena had put this into my head by some at first incomprehensible remarks about the Dark Nights. It was not now such a very difficult problem to guess what the coming Dark Nights might mean. The moon was on the wane: each night there was a longer interval of darkness. And I now understood to some slight degree at least the reason of the fear of the little Upper world people for the dark. I wondered vaguely what foul villainy it might be that the Morlocks did under the new moon. I felt pretty sure now that my second hypothesis was all wrong. The Upper world people might once have been the favoured aristocracy, and the Morlocks their mechanical servants: but that had long since passed away. The two species that had resulted from the evolution of man were sliding down towards, or had already arrived at, an altogether new relationship. The Eloi, like the Carolingian kings, had decayed to a mere beautiful futility. They still possessed the earth on sufferance: since the Morlocks, subterranean for innumerable generations, had come at last to find the daylit surface intolerable. And the Morlocks made their garments, I inferred, and maintained them in their habitual needs, perhaps through the survival of an old habit of service. They did it as a standing horse paws with his foot, or as a man enjoys killing animals in sport: because ancient and departed necessities had impressed it on the organism. But, clearly, the old order was already in part reversed. The Nemesis of the delicate ones was creeping on apace. Ages ago, thousands of generations ago, man had thrust his brother man out of the ease and the sunshine. And now that brother was coming back changed! Already the Eloi had begun to learn one old lesson anew. They were becoming reacquainted with Fear. And suddenly there came into my head the memory of the meat I had seen in the Under world. It seemed odd how it floated into my mind: not stirred up as it were by the current of my meditations, but coming in almost like a question from outside. I tried to recall the form of it. I had a vague sense of something familiar, but I could not tell what it was at the time.  'Still, however helpless the little people in the presence of their mysterious Fear, I was differently constituted. I came out of this age of ours, this ripe prime of the human race, when Fear does not paralyse and mystery has lost its terrors. I at least would defend myself. Without further delay I determined to make myself arms and a fastness where I might sleep. With that refuge as a base, I could face this strange world with some of that confidence I had lost in realizing to what creatures night by night I lay exposed. I felt I could never sleep again until my bed was secure from them. I shuddered with horror to think how they must already have examined me.  'I wandered during the afternoon along the valley of the Thames, but found nothing that commended itself to my mind as inaccessible. All the buildings and trees seemed easily practicable to such dexterous climbers as the Morlocks, to judge by their wells, must be. Then the tall pinnacles of the Palace of Green Porcelain and the polished gleam of its walls came back to my memory; and in the evening, taking Weena like a child upon my shoulder, I went up the hills towards the south west. The distance, I had reckoned, was seven or eight miles, but it must have been nearer eighteen. I had first seen the place on a moist afternoon when distances are deceptively diminished. In addition, the heel of one of my shoes was loose, and a nail was working through the sole  they were comfortable old shoes I wore about indoors  so that I was lame. And it was already long past sunset when I came in sight of the palace, silhouetted black against the pale yellow of the sky.  'Weena had been hugely delighted when I began to carry her, but after a while she desired me to let her down, and ran along by the side of me, occasionally darting off on either hand to pick flowers to stick in my pockets. My pockets had always puzzled Weena, but at the last she had concluded that they were an eccentric kind of vase for floral decoration. At least she utilized them for that purpose. And that reminds me! In changing my jacket I found...'  The Time Traveller paused, put his hand into his pocket, and silently placed two withered flowers, not unlike very large white mallows, upon the little table. Then he resumed his narrative.  'As the hush of evening crept over the world and we proceeded over the hill crest towards Wimbledon, Weena grew tired and wanted to return to the house of grey stone. But I pointed out the distant pinnacles of the Palace of Green Porcelain to her, and contrived to make her understand that we were seeking a refuge there from her Fear. You know that great pause that comes upon things before the dusk? Even the breeze stops in the trees. To me there is always an air of expectation about that evening stillness. The sky was clear, remote, and empty save for a few horizontal bars far down in the sunset. Well, that night the expectation took the colour of my fears. In that darkling calm my senses seemed preternaturally sharpened. I fancied I could even feel the hollowness of the ground beneath my feet: could, indeed, almost see through it the Morlocks on their ant hill going hither and thither and waiting for the dark. In my excitement I fancied that they would receive my invasion of their burrows as a declaration of war. And why had they taken my Time Machine?  'So we went on in the quiet, and the twilight deepened into night. The clear blue of the distance faded, and one star after another came out. The ground grew dim and the trees black. Weena's fears and her fatigue grew upon her. I took her in my arms and talked to her and caressed her. Then, as the darkness grew deeper, she put her arms round my neck, and, closing her eyes, tightly pressed her face against my shoulder. So we went down a long slope into a valley, and there in the dimness I almost walked into a little river. This I waded, and went up the opposite side of the valley, past a number of sleeping houses, and by a statue  a Faun, or some such figure,  minus  the head. Here too were acacias. So far I had seen nothing of the Morlocks, but it was yet early in the night, and the darker hours before the old moon rose were still to come.  'From the brow of the next hill I saw a thick wood spreading wide and black before me. I hesitated at this. I could see no end to it, either to the right or the left. Feeling tired  my feet, in particular, were very sore  I carefully lowered Weena from my shoulder as I halted, and sat down upon the turf. I could no longer see the Palace of Green Porcelain, and I was in doubt of my direction. I looked into the thickness of the wood and thought of what it might hide. Under that dense tangle of branches one would be out of sight of the stars. Even were there no other lurking danger  a danger I did not care to let my imagination loose upon  there would still be all the roots to stumble over and the tree boles to strike against.  'I was very tired, too, after the excitements of the day; so I decided that I would not face it, but would pass the night upon the open hill.  'Weena, I was glad to find, was fast asleep. I carefully wrapped her in my jacket, and sat down beside her to wait for the moonrise. The hill side was quiet and deserted, but from the black of the wood there came now and then a stir of living things. Above me shone the stars, for the night was very clear. I felt a certain sense of friendly comfort in their twinkling. All the old constellations had gone from the sky, however: that slow movement which is imperceptible in a hundred human lifetimes, had long since rearranged them in unfamiliar groupings. But the Milky Way, it seemed to me, was still the same tattered streamer of star dust as of yore. Southward (as I judged it) was a very bright red star that was new to me; it was even more splendid than our own green Sirius. And amid all these scintillating points of light one bright planet shone kindly and steadily like the face of an old friend.  'Looking at these stars suddenly dwarfed my own troubles and all the gravities of terrestrial life. I thought of their unfathomable distance, and the slow inevitable drift of their movements out of the unknown past into the unknown future. I thought of the great precessional cycle that the pole of the earth describes. Only forty times had that silent revolution occurred during all the years that I had traversed. And during these few revolutions all the activity, all the traditions, the complex organizations, the nations, languages, literatures, aspirations, even the mere memory of Man as I knew him, had been swept out of existence. Instead were these frail creatures who had forgotten their high ancestry, and the white Things of which I went in terror. Then I thought of the Great Fear that was between the two species, and for the first time, with a sudden shiver, came the clear knowledge of what the meat I had seen might be. Yet it was too horrible! I looked at little Weena sleeping beside me, her face white and starlike under the stars, and forthwith dismissed the thought.  'Through that long night I held my mind off the Morlocks as well as I could, and whiled away the time by trying to fancy I could find signs of the old constellations in the new confusion. The sky kept very clear, except for a hazy cloud or so. No doubt I dozed at times. Then, as my vigil wore on, came a faintness in the eastward sky, like the reflection of some colourless fire, and the old moon rose, thin and peaked and white. And close behind, and overtaking it, and overflowing it, the dawn came, pale at first, and then growing pink and warm. No Morlocks had approached us. Indeed, I had seen none upon the hill that night. And in the confidence of renewed day it almost seemed to me that my fear had been unreasonable. I stood up and found my foot with the loose heel swollen at the ankle and painful under the heel; so I sat down again, took off my shoes, and flung them away.  'I awakened Weena, and we went down into the wood, now green and pleasant instead of black and forbidding. We found some fruit wherewith to break our fast. We soon met others of the dainty ones, laughing and dancing in the sunlight as though there was no such thing in nature as the night. And then I thought once more of the meat that I had seen. I felt assured now of what it was, and from the bottom of my heart I pitied this last feeble rill from the great flood of humanity. Clearly, at some time in the Long Ago of human decay the Morlocks' food had run short. Possibly they had lived on rats and such like vermin. Even now man is far less discriminating and exclusive in his food than he was  far less than any monkey. His prejudice against human flesh is no deep seated instinct. And so these inhuman sons of men    ! I tried to look at the thing in a scientific spirit. After all, they were less human and more remote than our cannibal ancestors of three or four thousand years ago. And the intelligence that would have made this state of things a torment had gone. Why should I trouble myself? These Eloi were mere fatted cattle, which the ant like Morlocks preserved and preyed upon  probably saw to the breeding of. And there was Weena dancing at my side!  'Then I tried to preserve myself from the horror that was coming upon me, by regarding it as a rigorous punishment of human selfishness. Man had been content to live in ease and delight upon the labours of his fellow man, had taken Necessity as his watchword and excuse, and in the fullness of time Necessity had come home to him. I even tried a Carlyle like scorn of this wretched aristocracy in decay. But this attitude of mind was impossible. However great their intellectual degradation, the Eloi had kept too much of the human form not to claim my sympathy, and to make me perforce a sharer in their degradation and their Fear.  'I had at that time very vague ideas as to the course I should pursue. My first was to secure some safe place of refuge, and to make myself such arms of metal or stone as I could contrive. That necessity was immediate. In the next place, I hoped to procure some means of fire, so that I should have the weapon of a torch at hand, for nothing, I knew, would be more efficient against these Morlocks. Then I wanted to arrange some contrivance to break open the doors of bronze under the White Sphinx. I had in mind a battering ram. I had a persuasion that if I could enter those doors and carry a blaze of light before me I should discover the Time Machine and escape. I could not imagine the Morlocks were strong enough to move it far away. Weena I had resolved to bring with me to our own time. And turning such schemes over in my mind I pursued our way towards the building which my fancy had chosen as our dwelling.     VIII   'I found the Palace of Green Porcelain, when we approached it about noon, deserted and falling into ruin. Only ragged vestiges of glass remained in its windows, and great sheets of the green facing had fallen away from the corroded metallic framework. It lay very high upon a turfy down, and looking north eastward before I entered it, I was surprised to see a large estuary, or even creek, where I judged Wandsworth and Battersea must once have been. I thought then  though I never followed up the thought  of what might have happened, or might be happening, to the living things in the sea.  'The material of the Palace proved on examination to be indeed porcelain, and along the face of it I saw an inscription in some unknown character. I thought, rather foolishly, that Weena might help me to interpret this, but I only learned that the bare idea of writing had never entered her head. She always seemed to me, I fancy, more human than she was, perhaps because her affection was so human.  'Within the big valves of the door  which were open and broken  we found, instead of the customary hall, a long gallery lit by many side windows. At the first glance I was reminded of a museum. The tiled floor was thick with dust, and a remarkable array of miscellaneous objects was shrouded in the same grey covering. Then I perceived, standing strange and gaunt in the centre of the hall, what was clearly the lower part of a huge skeleton. I recognized by the oblique feet that it was some extinct creature after the fashion of the Megatherium. The skull and the upper bones lay beside it in the thick dust, and in one place, where rain water had dropped through a leak in the roof, the thing itself had been worn away. Further in the gallery was the huge skeleton barrel of a Brontosaurus. My museum hypothesis was confirmed. Going towards the side I found what appeared to be sloping shelves, and clearing away the thick dust, I found the old familiar glass cases of our own time. But they must have been air tight to judge from the fair preservation of some of their contents.  'Clearly we stood among the ruins of some latter day South Kensington! Here, apparently, was the Palaeontological Section, and a very splendid array of fossils it must have been, though the inevitable process of decay that had been staved off for a time, and had, through the extinction of bacteria and fungi, lost ninety nine hundredths of its force, was nevertheless, with extreme sureness if with extreme slowness at work again upon all its treasures. Here and there I found traces of the little people in the shape of rare fossils broken to pieces or threaded in strings upon reeds. And the cases had in some instances been bodily removed  by the Morlocks as I judged. The place was very silent. The thick dust deadened our footsteps. Weena, who had been rolling a sea urchin down the sloping glass of a case, presently came, as I stared about me, and very quietly took my hand and stood beside me.  'And at first I was so much surprised by this ancient monument of an intellectual age, that I gave no thought to the possibilities it presented. Even my preoccupation about the Time Machine receded a little from my mind.  'To judge from the size of the place, this Palace of Green Porcelain had a great deal more in it than a Gallery of Palaeontology; possibly historical galleries; it might be, even a library! To me, at least in my present circumstances, these would be vastly more interesting than this spectacle of oldtime geology in decay. Exploring, I found another short gallery running transversely to the first. This appeared to be devoted to minerals, and the sight of a block of sulphur set my mind running on gunpowder. But I could find no saltpeter; indeed, no nitrates of any kind. Doubtless they had deliquesced ages ago. Yet the sulphur hung in my mind, and set up a train of thinking. As for the rest of the contents of that gallery, though on the whole they were the best preserved of all I saw, I had little interest. I am no specialist in mineralogy, and I went on down a very ruinous aisle running parallel to the first hall I had entered. Apparently this section had been devoted to natural history, but everything had long since passed out of recognition. A few shrivelled and blackened vestiges of what had once been stuffed animals, desiccated mummies in jars that had once held spirit, a brown dust of departed plants: that was all! I was sorry for that, because I should have been glad to trace the patent readjustments by which the conquest of animated nature had been attained. Then we came to a gallery of simply colossal proportions, but singularly ill lit, the floor of it running downward at a slight angle from the end at which I entered. At intervals white globes hung from the ceiling  many of them cracked and smashed  which suggested that originally the place had been artificially lit. Here I was more in my element, for rising on either side of me were the huge bulks of big machines, all greatly corroded and many broken down, but some still fairly complete. You know I have a certain weakness for mechanism, and I was inclined to linger among these; the more so as for the most part they had the interest of puzzles, and I could make only the vaguest guesses at what they were for. I fancied that if I could solve their puzzles I should find myself in possession of powers that might be of use against the Morlocks.  'Suddenly Weena came very close to my side. So suddenly that she startled me. Had it not been for her I do not think I should have noticed that the floor of the gallery sloped at all. [Footnote: It may be, of course, that the floor did not slope, but that the museum was built into the side of a hill.  ED.] The end I had come in at was quite above ground, and was lit by rare slit like windows. As you went down the length, the ground came up against these windows, until at last there was a pit like the \"area\" of a London house before each, and only a narrow line of daylight at the top. I went slowly along, puzzling about the machines, and had been too intent upon them to notice the gradual diminution of the light, until Weena's increasing apprehensions drew my attention. Then I saw that the gallery ran down at last into a thick darkness. I hesitated, and then, as I looked round me, I saw that the dust was less abundant and its surface less even. Further away towards the dimness, it appeared to be broken by a number of small narrow footprints. My sense of the immediate presence of the Morlocks revived at that. I felt that I was wasting my time in the academic examination of machinery. I called to mind that it was already far advanced in the afternoon, and that I had still no weapon, no refuge, and no means of making a fire. And then down in the remote blackness of the gallery I heard a peculiar pattering, and the same odd noises I had heard down the well.  'I took Weena's hand. Then, struck with a sudden idea, I left her and turned to a machine from which projected a lever not unlike those in a signal box. Clambering upon the stand, and grasping this lever in my hands, I put all my weight upon it sideways. Suddenly Weena, deserted in the central aisle, began to whimper. I had judged the strength of the lever pretty correctly, for it snapped after a minute's strain, and I rejoined her with a mace in my hand more than sufficient, I judged, for any Morlock skull I might encounter. And I longed very much to kill a Morlock or so. Very inhuman, you may think, to want to go killing one's own descendants! But it was impossible, somehow, to feel any humanity in the things. Only my disinclination to leave Weena, and a persuasion that if I began to slake my thirst for murder my Time Machine might suffer, restrained me from going straight down the gallery and killing the brutes I heard.  'Well, mace in one hand and Weena in the other, I went out of that gallery and into another and still larger one, which at the first glance reminded me of a military chapel hung with tattered flags. The brown and charred rags that hung from the sides of it, I presently recognized as the decaying vestiges of books. They had long since dropped to pieces, and every semblance of print had left them. But here and there were warped boards and cracked metallic clasps that told the tale well enough. Had I been a literary man I might, perhaps, have moralized upon the futility of all ambition. But as it was, the thing that struck me with keenest force was the enormous waste of labour to which this sombre wilderness of rotting paper testified. At the time I will confess that I thought chiefly of the  Philosophical Transactions  and my own seventeen papers upon physical optics.  'Then, going up a broad staircase, we came to what may once have been a gallery of technical chemistry. And here I had not a little hope of useful discoveries. Except at one end where the roof had collapsed, this gallery was well preserved. I went eagerly to every unbroken case. And at last, in one of the really air tight cases, I found a box of matches. Very eagerly I tried them. They were perfectly good. They were not even damp. I turned to Weena. \"Dance,\" I cried to her in her own tongue. For now I had a weapon indeed against the horrible creatures we feared. And so, in that derelict museum, upon the thick soft carpeting of dust, to Weena's huge delight, I solemnly performed a kind of composite dance, whistling  The Land of the Leal  as cheerfully as I could. In part it was a modest  cancan , in part a step dance, in part a skirt dance (so far as my tail coat permitted), and in part original. For I am naturally inventive, as you know.  'Now, I still think that for this box of matches to have escaped the wear of time for immemorial years was a most strange, as for me it was a most fortunate thing. Yet, oddly enough, I found a far unlikelier substance, and that was camphor. I found it in a sealed jar, that by chance, I suppose, had been really hermetically sealed. I fancied at first that it was paraffin wax, and smashed the glass accordingly. But the odour of camphor was unmistakable. In the universal decay this volatile substance had chanced to survive, perhaps through many thousands of centuries. It reminded me of a sepia painting I had once seen done from the ink of a fossil Belemnite that must have perished and become fossilized millions of years ago. I was about to throw it away, but I remembered that it was inflammable and burned with a good bright flame  was, in fact, an excellent candle  and I put it in my pocket. I found no explosives, however, nor any means of breaking down the bronze doors. As yet my iron crowbar was the most helpful thing I had chanced upon. Nevertheless I left that gallery greatly elated.  'I cannot tell you all the story of that long afternoon. It would require a great effort of memory to recall my explorations in at all the proper order. I remember a long gallery of rusting stands of arms, and how I hesitated between my crowbar and a hatchet or a sword. I could not carry both, however, and my bar of iron promised best against the bronze gates. There were numbers of guns, pistols, and rifles. The most were masses of rust, but many were of some new metal, and still fairly sound. But any cartridges or powder there may once have been had rotted into dust. One corner I saw was charred and shattered; perhaps, I thought, by an explosion among the specimens. In another place was a vast array of idols  Polynesian, Mexican, Grecian, Phoenician, every country on earth I should think. And here, yielding to an irresistible impulse, I wrote my name upon the nose of a steatite monster from South America that particularly took my fancy.  'As the evening drew on, my interest waned. I went through gallery after gallery, dusty, silent, often ruinous, the exhibits sometimes mere heaps of rust and lignite, sometimes fresher. In one place I suddenly found myself near the model of a tin mine, and then by the merest accident I discovered, in an air tight case, two dynamite cartridges! I shouted \"Eureka!\" and smashed the case with joy. Then came a doubt. I hesitated. Then, selecting a little side gallery, I made my essay. I never felt such a disappointment as I did in waiting five, ten, fifteen minutes for an explosion that never came. Of course the things were dummies, as I might have guessed from their presence. I really believe that had they not been so, I should have rushed off incontinently and blown Sphinx, bronze doors, and (as it proved) my chances of finding the Time Machine, all together into non existence.  'It was after that, I think, that we came to a little open court within the palace. It was turfed, and had three fruit trees. So we rested and refreshed ourselves. Towards sunset I began to consider our position. Night was creeping upon us, and my inaccessible hiding place had still to be found. But that troubled me very little now. I had in my possession a thing that was, perhaps, the best of all defences against the Morlocks  I had matches! I had the camphor in my pocket, too, if a blaze were needed. It seemed to me that the best thing we could do would be to pass the night in the open, protected by a fire. In the morning there was the getting of the Time Machine. Towards that, as yet, I had only my iron mace. But now, with my growing knowledge, I felt very differently towards those bronze doors. Up to this, I had refrained from forcing them, largely because of the mystery on the other side. They had never impressed me as being very strong, and I hoped to find my bar of iron not altogether inadequate for the work.     IX   'We emerged from the palace while the sun was still in part above the horizon. I was determined to reach the White Sphinx early the next morning, and ere the dusk I purposed pushing through the woods that had stopped me on the previous journey. My plan was to go as far as possible that night, and then, building a fire, to sleep in the protection of its glare. Accordingly, as we went along I gathered any sticks or dried grass I saw, and presently had my arms full of such litter. Thus loaded, our progress was slower than I had anticipated, and besides Weena was tired. And I began to suffer from sleepiness too; so that it was full night before we reached the wood. Upon the shrubby hill of its edge Weena would have stopped, fearing the darkness before us; but a singular sense of impending calamity, that should indeed have served me as a warning, drove me onward. I had been without sleep for a night and two days, and I was feverish and irritable. I felt sleep coming upon me, and the Morlocks with it.  'While we hesitated, among the black bushes behind us, and dim against their blackness, I saw three crouching figures. There was scrub and long grass all about us, and I did not feel safe from their insidious approach. The forest, I calculated, was rather less than a mile across. If we could get through it to the bare hill side, there, as it seemed to me, was an altogether safer resting place; I thought that with my matches and my camphor I could contrive to keep my path illuminated through the woods. Yet it was evident that if I was to flourish matches with my hands I should have to abandon my firewood; so, rather reluctantly, I put it down. And then it came into my head that I would amaze our friends behind by lighting it. I was to discover the atrocious folly of this proceeding, but it came to my mind as an ingenious move for covering our retreat.  'I don't know if you have ever thought what a rare thing flame must be in the absence of man and in a temperate climate. The sun's heat is rarely strong enough to burn, even when it is focused by dewdrops, as is sometimes the case in more tropical districts. Lightning may blast and blacken, but it rarely gives rise to widespread fire. Decaying vegetation may occasionally smoulder with the heat of its fermentation, but this rarely results in flame. In this decadence, too, the art of fire making had been forgotten on the earth. The red tongues that went licking up my heap of wood were an altogether new and strange thing to Weena.  'She wanted to run to it and play with it. I believe she would have cast herself into it had I not restrained her. But I caught her up, and in spite of her struggles, plunged boldly before me into the wood. For a little way the glare of my fire lit the path. Looking back presently, I could see, through the crowded stems, that from my heap of sticks the blaze had spread to some bushes adjacent, and a curved line of fire was creeping up the grass of the hill. I laughed at that, and turned again to the dark trees before me. It was very black, and Weena clung to me convulsively, but there was still, as my eyes grew accustomed to the darkness, sufficient light for me to avoid the stems. Overhead it was simply black, except where a gap of remote blue sky shone down upon us here and there. I struck none of my matches because I had no hand free. Upon my left arm I carried my little one, in my right hand I had my iron bar.  'For some way I heard nothing but the crackling twigs under my feet, the faint rustle of the breeze above, and my own breathing and the throb of the blood vessels in my ears. Then I seemed to know of a pattering about me. I pushed on grimly. The pattering grew more distinct, and then I caught the same queer sound and voices I had heard in the Under world. There were evidently several of the Morlocks, and they were closing in upon me. Indeed, in another minute I felt a tug at my coat, then something at my arm. And Weena shivered violently, and became quite still.  'It was time for a match. But to get one I must put her down. I did so, and, as I fumbled with my pocket, a struggle began in the darkness about my knees, perfectly silent on her part and with the same peculiar cooing sounds from the Morlocks. Soft little hands, too, were creeping over my coat and back, touching even my neck. Then the match scratched and fizzed. I held it flaring, and saw the white backs of the Morlocks in flight amid the trees. I hastily took a lump of camphor from my pocket, and prepared to light it as soon as the match should wane. Then I looked at Weena. She was lying clutching my feet and quite motionless, with her face to the ground. With a sudden fright I stooped to her. She seemed scarcely to breathe. I lit the block of camphor and flung it to the ground, and as it split and flared up and drove back the Morlocks and the shadows, I knelt down and lifted her. The wood behind seemed full of the stir and murmur of a great company!  'She seemed to have fainted. I put her carefully upon my shoulder and rose to push on, and then there came a horrible realization. In manoeuvring with my matches and Weena, I had turned myself about several times, and now I had not the faintest idea in what direction lay my path. For all I knew, I might be facing back towards the Palace of Green Porcelain. I found myself in a cold sweat. I had to think rapidly what to do. I determined to build a fire and encamp where we were. I put Weena, still motionless, down upon a turfy bole, and very hastily, as my first lump of camphor waned, I began collecting sticks and leaves. Here and there out of the darkness round me the Morlocks' eyes shone like carbuncles.  'The camphor flickered and went out. I lit a match, and as I did so, two white forms that had been approaching Weena dashed hastily away. One was so blinded by the light that he came straight for me, and I felt his bones grind under the blow of my fist. He gave a whoop of dismay, staggered a little way, and fell down. I lit another piece of camphor, and went on gathering my bonfire. Presently I noticed how dry was some of the foliage above me, for since my arrival on the Time Machine, a matter of a week, no rain had fallen. So, instead of casting about among the trees for fallen twigs, I began leaping up and dragging down branches. Very soon I had a choking smoky fire of green wood and dry sticks, and could economize my camphor. Then I turned to where Weena lay beside my iron mace. I tried what I could to revive her, but she lay like one dead. I could not even satisfy myself whether or not she breathed.  'Now, the smoke of the fire beat over towards me, and it must have made me heavy of a sudden. Moreover, the vapour of camphor was in the air. My fire would not need replenishing for an hour or so. I felt very weary after my exertion, and sat down. The wood, too, was full of a slumbrous murmur that I did not understand. I seemed just to nod and open my eyes. But all was dark, and the Morlocks had their hands upon me. Flinging off their clinging fingers I hastily felt in my pocket for the match box, and  it had gone! Then they gripped and closed with me again. In a moment I knew what had happened. I had slept, and my fire had gone out, and the bitterness of death came over my soul. The forest seemed full of the smell of burning wood. I was caught by the neck, by the hair, by the arms, and pulled down. It was indescribably horrible in the darkness to feel all these soft creatures heaped upon me. I felt as if I was in a monstrous spider's web. I was overpowered, and went down. I felt little teeth nipping at my neck. I rolled over, and as I did so my hand came against my iron lever. It gave me strength. I struggled up, shaking the human rats from me, and, holding the bar short, I thrust where I judged their faces might be. I could feel the succulent giving of flesh and bone under my blows, and for a moment I was free.  'The strange exultation that so often seems to accompany hard fighting came upon me. I knew that both I and Weena were lost, but I determined to make the Morlocks pay for their meat. I stood with my back to a tree, swinging the iron bar before me. The whole wood was full of the stir and cries of them. A minute passed. Their voices seemed to rise to a higher pitch of excitement, and their movements grew faster. Yet none came within reach. I stood glaring at the blackness. Then suddenly came hope. What if the Morlocks were afraid? And close on the heels of that came a strange thing. The darkness seemed to grow luminous. Very dimly I began to see the Morlocks about me  three battered at my feet  and then I recognized, with incredulous surprise, that the others were running, in an incessant stream, as it seemed, from behind me, and away through the wood in front. And their backs seemed no longer white, but reddish. As I stood agape, I saw a little red spark go drifting across a gap of starlight between the branches, and vanish. And at that I understood the smell of burning wood, the slumbrous murmur that was growing now into a gusty roar, the red glow, and the Morlocks' flight.  'Stepping out from behind my tree and looking back, I saw, through the black pillars of the nearer trees, the flames of the burning forest. It was my first fire coming after me. With that I looked for Weena, but she was gone. The hissing and crackling behind me, the explosive thud as each fresh tree burst into flame, left little time for reflection. My iron bar still gripped, I followed in the Morlocks' path. It was a close race. Once the flames crept forward so swiftly on my right as I ran that I was outflanked and had to strike off to the left. But at last I emerged upon a small open space, and as I did so, a Morlock came blundering towards me, and past me, and went on straight into the fire!  'And now I was to see the most weird and horrible thing, I think, of all that I beheld in that future age. This whole space was as bright as day with the reflection of the fire. In the centre was a hillock or tumulus, surmounted by a scorched hawthorn. Beyond this was another arm of the burning forest, with yellow tongues already writhing from it, completely encircling the space with a fence of fire. Upon the hill side were some thirty or forty Morlocks, dazzled by the light and heat, and blundering hither and thither against each other in their bewilderment. At first I did not realize their blindness, and struck furiously at them with my bar, in a frenzy of fear, as they approached me, killing one and crippling several more. But when I had watched the gestures of one of them groping under the hawthorn against the red sky, and heard their moans, I was assured of their absolute helplessness and misery in the glare, and I struck no more of them.  'Yet every now and then one would come straight towards me, setting loose a quivering horror that made me quick to elude him. At one time the flames died down somewhat, and I feared the foul creatures would presently be able to see me. I was thinking of beginning the fight by killing some of them before this should happen; but the fire burst out again brightly, and I stayed my hand. I walked about the hill among them and avoided them, looking for some trace of Weena. But Weena was gone.  'At last I sat down on the summit of the hillock, and watched this strange incredible company of blind things groping to and fro, and making uncanny noises to each other, as the glare of the fire beat on them. The coiling uprush of smoke streamed across the sky, and through the rare tatters of that red canopy, remote as though they belonged to another universe, shone the little stars. Two or three Morlocks came blundering into me, and I drove them off with blows of my fists, trembling as I did so.  'For the most part of that night I was persuaded it was a nightmare. I bit myself and screamed in a passionate desire to awake. I beat the ground with my hands, and got up and sat down again, and wandered here and there, and again sat down. Then I would fall to rubbing my eyes and calling upon God to let me awake. Thrice I saw Morlocks put their heads down in a kind of agony and rush into the flames. But, at last, above the subsiding red of the fire, above the streaming masses of black smoke and the whitening and blackening tree stumps, and the diminishing numbers of these dim creatures, came the white light of the day.  'I searched again for traces of Weena, but there were none. It was plain that they had left her poor little body in the forest. I cannot describe how it relieved me to think that it had escaped the awful fate to which it seemed destined. As I thought of that, I was almost moved to begin a massacre of the helpless abominations about me, but I contained myself. The hillock, as I have said, was a kind of island in the forest. From its summit I could now make out through a haze of smoke the Palace of Green Porcelain, and from that I could get my bearings for the White Sphinx. And so, leaving the remnant of these damned souls still going hither and thither and moaning, as the day grew clearer, I tied some grass about my feet and limped on across smoking ashes and among black stems, that still pulsated internally with fire, towards the hiding place of the Time Machine. I walked slowly, for I was almost exhausted, as well as lame, and I felt the intensest wretchedness for the horrible death of little Weena. It seemed an overwhelming calamity. Now, in this old familiar room, it is more like the sorrow of a dream than an actual loss. But that morning it left me absolutely lonely again  terribly alone. I began to think of this house of mine, of this fireside, of some of you, and with such thoughts came a longing that was pain.  'But as I walked over the smoking ashes under the bright morning sky, I made a discovery. In my trouser pocket were still some loose matches. The box must have leaked before it was lost.     X   'About eight or nine in the morning I came to the same seat of yellow metal from which I had viewed the world upon the evening of my arrival. I thought of my hasty conclusions upon that evening and could not refrain from laughing bitterly at my confidence. Here was the same beautiful scene, the same abundant foliage, the same splendid palaces and magnificent ruins, the same silver river running between its fertile banks. The gay robes of the beautiful people moved hither and thither among the trees. Some were bathing in exactly the place where I had saved Weena, and that suddenly gave me a keen stab of pain. And like blots upon the landscape rose the cupolas above the ways to the Under world. I understood now what all the beauty of the Over world people covered. Very pleasant was their day, as pleasant as the day of the cattle in the field. Like the cattle, they knew of no enemies and provided against no needs. And their end was the same.  'I grieved to think how brief the dream of the human intellect had been. It had committed suicide. It had set itself steadfastly towards comfort and ease, a balanced society with security and permanency as its watchword, it had attained its hopes  to come to this at last. Once, life and property must have reached almost absolute safety. The rich had been assured of his wealth and comfort, the toiler assured of his life and work. No doubt in that perfect world there had been no unemployed problem, no social question left unsolved. And a great quiet had followed.  'It is a law of nature we overlook, that intellectual versatility is the compensation for change, danger, and trouble. An animal perfectly in harmony with its environment is a perfect mechanism. Nature never appeals to intelligence until habit and instinct are useless. There is no intelligence where there is no change and no need of change. Only those animals partake of intelligence that have to meet a huge variety of needs and dangers.  'So, as I see it, the Upper world man had drifted towards his feeble prettiness, and the Under world to mere mechanical industry. But that perfect state had lacked one thing even for mechanical perfection  absolute permanency. Apparently as time went on, the feeding of the Under world, however it was effected, had become disjointed. Mother Necessity, who had been staved off for a few thousand years, came back again, and she began below. The Under world being in contact with machinery, which, however perfect, still needs some little thought outside habit, had probably retained perforce rather more initiative, if less of every other human character, than the Upper. And when other meat failed them, they turned to what old habit had hitherto forbidden. So I say I saw it in my last view of the world of Eight Hundred and Two Thousand Seven Hundred and One. It may be as wrong an explanation as mortal wit could invent. It is how the thing shaped itself to me, and as that I give it to you.  'After the fatigues, excitements, and terrors of the past days, and in spite of my grief, this seat and the tranquil view and the warm sunlight were very pleasant. I was very tired and sleepy, and soon my theorizing passed into dozing. Catching myself at that, I took my own hint, and spreading myself out upon the turf I had a long and refreshing sleep.  'I awoke a little before sunsetting. I now felt safe against being caught napping by the Morlocks, and, stretching myself, I came on down the hill towards the White Sphinx. I had my crowbar in one hand, and the other hand played with the matches in my pocket.  'And now came a most unexpected thing. As I approached the pedestal of the sphinx I found the bronze valves were open. They had slid down into grooves.  'At that I stopped short before them, hesitating to enter.  'Within was a small apartment, and on a raised place in the corner of this was the Time Machine. I had the small levers in my pocket. So here, after all my elaborate preparations for the siege of the White Sphinx, was a meek surrender. I threw my iron bar away, almost sorry not to use it.  'A sudden thought came into my head as I stooped towards the portal. For once, at least, I grasped the mental operations of the Morlocks. Suppressing a strong inclination to laugh, I stepped through the bronze frame and up to the Time Machine. I was surprised to find it had been carefully oiled and cleaned. I have suspected since that the Morlocks had even partially taken it to pieces while trying in their dim way to grasp its purpose.  'Now as I stood and examined it, finding a pleasure in the mere touch of the contrivance, the thing I had expected happened. The bronze panels suddenly slid up and struck the frame with a clang. I was in the dark  trapped. So the Morlocks thought. At that I chuckled gleefully.  'I could already hear their murmuring laughter as they came towards me. Very calmly I tried to strike the match. I had only to fix on the levers and depart then like a ghost. But I had overlooked one little thing. The matches were of that abominable kind that light only on the box.  'You may imagine how all my calm vanished. The little brutes were close upon me. One touched me. I made a sweeping blow in the dark at them with the levers, and began to scramble into the saddle of the machine. Then came one hand upon me and then another. Then I had simply to fight against their persistent fingers for my levers, and at the same time feel for the studs over which these fitted. One, indeed, they almost got away from me. As it slipped from my hand, I had to butt in the dark with my head  I could hear the Morlock's skull ring  to recover it. It was a nearer thing than the fight in the forest, I think, this last scramble.  'But at last the lever was fitted and pulled over. The clinging hands slipped from me. The darkness presently fell from my eyes. I found myself in the same grey light and tumult I have already described.     XI   'I have already told you of the sickness and confusion that comes with time travelling. And this time I was not seated properly in the saddle, but sideways and in an unstable fashion. For an indefinite time I clung to the machine as it swayed and vibrated, quite unheeding how I went, and when I brought myself to look at the dials again I was amazed to find where I had arrived. One dial records days, and another thousands of days, another millions of days, and another thousands of millions. Now, instead of reversing the levers, I had pulled them over so as to go forward with them, and when I came to look at these indicators I found that the thousands hand was sweeping round as fast as the seconds hand of a watch  into futurity.  'As I drove on, a peculiar change crept over the appearance of things. The palpitating greyness grew darker; then  though I was still travelling with prodigious velocity  the blinking succession of day and night, which was usually indicative of a slower pace, returned, and grew more and more marked. This puzzled me very much at first. The alternations of night and day grew slower and slower, and so did the passage of the sun across the sky, until they seemed to stretch through centuries. At last a steady twilight brooded over the earth, a twilight only broken now and then when a comet glared across the darkling sky. The band of light that had indicated the sun had long since disappeared; for the sun had ceased to set  it simply rose and fell in the west, and grew ever broader and more red. All trace of the moon had vanished. The circling of the stars, growing slower and slower, had given place to creeping points of light. At last, some time before I stopped, the sun, red and very large, halted motionless upon the horizon, a vast dome glowing with a dull heat, and now and then suffering a momentary extinction. At one time it had for a little while glowed more brilliantly again, but it speedily reverted to its sullen red heat. I perceived by this slowing down of its rising and setting that the work of the tidal drag was done. The earth had come to rest with one face to the sun, even as in our own time the moon faces the earth. Very cautiously, for I remembered my former headlong fall, I began to reverse my motion. Slower and slower went the circling hands until the thousands one seemed motionless and the daily one was no longer a mere mist upon its scale. Still slower, until the dim outlines of a desolate beach grew visible.  'I stopped very gently and sat upon the Time Machine, looking round. The sky was no longer blue. North eastward it was inky black, and out of the blackness shone brightly and steadily the pale white stars. Overhead it was a deep Indian red and starless, and south eastward it grew brighter to a glowing scarlet where, cut by the horizon, lay the huge hull of the sun, red and motionless. The rocks about me were of a harsh reddish colour, and all the trace of life that I could see at first was the intensely green vegetation that covered every projecting point on their south eastern face. It was the same rich green that one sees on forest moss or on the lichen in caves: plants which like these grow in a perpetual twilight.  'The machine was standing on a sloping beach. The sea stretched away to the south west, to rise into a sharp bright horizon against the wan sky. There were no breakers and no waves, for not a breath of wind was stirring. Only a slight oily swell rose and fell like a gentle breathing, and showed that the eternal sea was still moving and living. And along the margin where the water sometimes broke was a thick incrustation of salt  pink under the lurid sky. There was a sense of oppression in my head, and I noticed that I was breathing very fast. The sensation reminded me of my only experience of mountaineering, and from that I judged the air to be more rarefied than it is now.  'Far away up the desolate slope I heard a harsh scream, and saw a thing like a huge white butterfly go slanting and fluttering up into the sky and, circling, disappear over some low hillocks beyond. The sound of its voice was so dismal that I shivered and seated myself more firmly upon the machine. Looking round me again, I saw that, quite near, what I had taken to be a reddish mass of rock was moving slowly towards me. Then I saw the thing was really a monstrous crab like creature. Can you imagine a crab as large as yonder table, with its many legs moving slowly and uncertainly, its big claws swaying, its long antennae, like carters' whips, waving and feeling, and its stalked eyes gleaming at you on either side of its metallic front? Its back was corrugated and ornamented with ungainly bosses, and a greenish incrustation blotched it here and there. I could see the many palps of its complicated mouth flickering and feeling as it moved.  'As I stared at this sinister apparition crawling towards me, I felt a tickling on my cheek as though a fly had lighted there. I tried to brush it away with my hand, but in a moment it returned, and almost immediately came another by my ear. I struck at this, and caught something threadlike. It was drawn swiftly out of my hand. With a frightful qualm, I turned, and I saw that I had grasped the antenna of another monster crab that stood just behind me. Its evil eyes were wriggling on their stalks, its mouth was all alive with appetite, and its vast ungainly claws, smeared with an algal slime, were descending upon me. In a moment my hand was on the lever, and I had placed a month between myself and these monsters. But I was still on the same beach, and I saw them distinctly now as soon as I stopped. Dozens of them seemed to be crawling here and there, in the sombre light, among the foliated sheets of intense green.  'I cannot convey the sense of abominable desolation that hung over the world. The red eastern sky, the northward blackness, the salt Dead Sea, the stony beach crawling with these foul, slow stirring monsters, the uniform poisonous looking green of the lichenous plants, the thin air that hurts one's lungs: all contributed to an appalling effect. I moved on a hundred years, and there was the same red sun  a little larger, a little duller  the same dying sea, the same chill air, and the same crowd of earthy crustacea creeping in and out among the green weed and the red rocks. And in the westward sky, I saw a curved pale line like a vast new moon.  'So I travelled, stopping ever and again, in great strides of a thousand years or more, drawn on by the mystery of the earth's fate, watching with a strange fascination the sun grow larger and duller in the westward sky, and the life of the old earth ebb away. At last, more than thirty million years hence, the huge red hot dome of the sun had come to obscure nearly a tenth part of the darkling heavens. Then I stopped once more, for the crawling multitude of crabs had disappeared, and the red beach, save for its livid green liverworts and lichens, seemed lifeless. And now it was flecked with white. A bitter cold assailed me. Rare white flakes ever and again came eddying down. To the north eastward, the glare of snow lay under the starlight of the sable sky and I could see an undulating crest of hillocks pinkish white. There were fringes of ice along the sea margin, with drifting masses further out; but the main expanse of that salt ocean, all bloody under the eternal sunset, was still unfrozen.  'I looked about me to see if any traces of animal life remained. A certain indefinable apprehension still kept me in the saddle of the machine. But I saw nothing moving, in earth or sky or sea. The green slime on the rocks alone testified that life was not extinct. A shallow sandbank had appeared in the sea and the water had receded from the beach. I fancied I saw some black object flopping about upon this bank, but it became motionless as I looked at it, and I judged that my eye had been deceived, and that the black object was merely a rock. The stars in the sky were intensely bright and seemed to me to twinkle very little.  'Suddenly I noticed that the circular westward outline of the sun had changed; that a concavity, a bay, had appeared in the curve. I saw this grow larger. For a minute perhaps I stared aghast at this blackness that was creeping over the day, and then I realized that an eclipse was beginning. Either the moon or the planet Mercury was passing across the sun's disk. Naturally, at first I took it to be the moon, but there is much to incline me to believe that what I really saw was the transit of an inner planet passing very near to the earth.  'The darkness grew apace; a cold wind began to blow in freshening gusts from the east, and the showering white flakes in the air increased in number. From the edge of the sea came a ripple and whisper. Beyond these lifeless sounds the world was silent. Silent? It would be hard to convey the stillness of it. All the sounds of man, the bleating of sheep, the cries of birds, the hum of insects, the stir that makes the background of our lives  all that was over. As the darkness thickened, the eddying flakes grew more abundant, dancing before my eyes; and the cold of the air more intense. At last, one by one, swiftly, one after the other, the white peaks of the distant hills vanished into blackness. The breeze rose to a moaning wind. I saw the black central shadow of the eclipse sweeping towards me. In another moment the pale stars alone were visible. All else was rayless obscurity. The sky was absolutely black.  'A horror of this great darkness came on me. The cold, that smote to my marrow, and the pain I felt in breathing, overcame me. I shivered, and a deadly nausea seized me. Then like a red hot bow in the sky appeared the edge of the sun. I got off the machine to recover myself. I felt giddy and incapable of facing the return journey. As I stood sick and confused I saw again the moving thing upon the shoal  there was no mistake now that it was a moving thing  against the red water of the sea. It was a round thing, the size of a football perhaps, or, it may be, bigger, and tentacles trailed down from it; it seemed black against the weltering blood red water, and it was hopping fitfully about. Then I felt I was fainting. But a terrible dread of lying helpless in that remote and awful twilight sustained me while I clambered upon the saddle.     XII   'So I came back. For a long time I must have been insensible upon the machine. The blinking succession of the days and nights was resumed, the sun got golden again, the sky blue. I breathed with greater freedom. The fluctuating contours of the land ebbed and flowed. The hands spun backward upon the dials. At last I saw again the dim shadows of houses, the evidences of decadent humanity. These, too, changed and passed, and others came. Presently, when the million dial was at zero, I slackened speed. I began to recognize our own pretty and familiar architecture, the thousands hand ran back to the starting point, the night and day flapped slower and slower. Then the old walls of the laboratory came round me. Very gently, now, I slowed the mechanism down.  'I saw one little thing that seemed odd to me. I think I have told you that when I set out, before my velocity became very high, Mrs. Watchett had walked across the room, travelling, as it seemed to me, like a rocket. As I returned, I passed again across that minute when she traversed the laboratory. But now her every motion appeared to be the exact inversion of her previous ones. The door at the lower end opened, and she glided quietly up the laboratory, back foremost, and disappeared behind the door by which she had previously entered. Just before that I seemed to see Hillyer for a moment; but he passed like a flash.  'Then I stopped the machine, and saw about me again the old familiar laboratory, my tools, my appliances just as I had left them. I got off the thing very shakily, and sat down upon my bench. For several minutes I trembled violently. Then I became calmer. Around me was my old workshop again, exactly as it had been. I might have slept there, and the whole thing have been a dream.  'And yet, not exactly! The thing had started from the south east corner of the laboratory. It had come to rest again in the north west, against the wall where you saw it. That gives you the exact distance from my little lawn to the pedestal of the White Sphinx, into which the Morlocks had carried my machine.  'For a time my brain went stagnant. Presently I got up and came through the passage here, limping, because my heel was still painful, and feeling sorely begrimed. I saw the  Pall Mall Gazette  on the table by the door. I found the date was indeed to day, and looking at the timepiece, saw the hour was almost eight o'clock. I heard your voices and the clatter of plates. I hesitated  I felt so sick and weak. Then I sniffed good wholesome meat, and opened the door on you. You know the rest. I washed, and dined, and now I am telling you the story.  'I know,' he said, after a pause, 'that all this will be absolutely incredible to you. To me the one incredible thing is that I am here to night in this old familiar room looking into your friendly faces and telling you these strange adventures.'  He looked at the Medical Man. 'No. I cannot expect you to believe it. Take it as a lie  or a prophecy. Say I dreamed it in the workshop. Consider I have been speculating upon the destinies of our race until I have hatched this fiction. Treat my assertion of its truth as a mere stroke of art to enhance its interest. And taking it as a story, what do you think of it?'  He took up his pipe, and began, in his old accustomed manner, to tap with it nervously upon the bars of the grate. There was a momentary stillness. Then chairs began to creak and shoes to scrape upon the carpet. I took my eyes off the Time Traveller's face, and looked round at his audience. They were in the dark, and little spots of colour swam before them. The Medical Man seemed absorbed in the contemplation of our host. The Editor was looking hard at the end of his cigar  the sixth. The Journalist fumbled for his watch. The others, as far as I remember, were motionless.  The Editor stood up with a sigh. 'What a pity it is you're not a writer of stories!' he said, putting his hand on the Time Traveller's shoulder.  'You don't believe it?'  'Well    '  'I thought not.'  The Time Traveller turned to us. 'Where are the matches?' he said. He lit one and spoke over his pipe, puffing. 'To tell you the truth ... I hardly believe it myself.... And yet...'  His eye fell with a mute inquiry upon the withered white flowers upon the little table. Then he turned over the hand holding his pipe, and I saw he was looking at some half healed scars on his knuckles.  The Medical Man rose, came to the lamp, and examined the flowers. 'The gynaeceum's odd,' he said. The Psychologist leant forward to see, holding out his hand for a specimen.  'I'm hanged if it isn't a quarter to one,' said the Journalist. 'How shall we get home?'  'Plenty of cabs at the station,' said the Psychologist.  'It's a curious thing,' said the Medical Man; 'but I certainly don't know the natural order of these flowers. May I have them?'  The Time Traveller hesitated. Then suddenly: 'Certainly not.'  'Where did you really get them?' said the Medical Man.  The Time Traveller put his hand to his head. He spoke like one who was trying to keep hold of an idea that eluded him. 'They were put into my pocket by Weena, when I travelled into Time.' He stared round the room. 'I'm damned if it isn't all going. This room and you and the atmosphere of every day is too much for my memory. Did I ever make a Time Machine, or a model of a Time Machine? Or is it all only a dream? They say life is a dream, a precious poor dream at times  but I can't stand another that won't fit. It's madness. And where did the dream come from? ... I must look at that machine. If there is one!'  He caught up the lamp swiftly, and carried it, flaring red, through the door into the corridor. We followed him. There in the flickering light of the lamp was the machine sure enough, squat, ugly, and askew; a thing of brass, ebony, ivory, and translucent glimmering quartz. Solid to the touch  for I put out my hand and felt the rail of it  and with brown spots and smears upon the ivory, and bits of grass and moss upon the lower parts, and one rail bent awry.  The Time Traveller put the lamp down on the bench, and ran his hand along the damaged rail. 'It's all right now,' he said. 'The story I told you was true. I'm sorry to have brought you out here in the cold.' He took up the lamp, and, in an absolute silence, we returned to the smoking room.  He came into the hall with us and helped the Editor on with his coat. The Medical Man looked into his face and, with a certain hesitation, told him he was suffering from overwork, at which he laughed hugely. I remember him standing in the open doorway, bawling good night.  I shared a cab with the Editor. He thought the tale a 'gaudy lie.' For my own part I was unable to come to a conclusion. The story was so fantastic and incredible, the telling so credible and sober. I lay awake most of the night thinking about it. I determined to go next day and see the Time Traveller again. I was told he was in the laboratory, and being on easy terms in the house, I went up to him. The laboratory, however, was empty. I stared for a minute at the Time Machine and put out my hand and touched the lever. At that the squat substantial looking mass swayed like a bough shaken by the wind. Its instability startled me extremely, and I had a queer reminiscence of the childish days when I used to be forbidden to meddle. I came back through the corridor. The Time Traveller met me in the smoking room. He was coming from the house. He had a small camera under one arm and a knapsack under the other. He laughed when he saw me, and gave me an elbow to shake. 'I'm frightfully busy,' said he, 'with that thing in there.'  'But is it not some hoax?' I said. 'Do you really travel through time?'  'Really and truly I do.' And he looked frankly into my eyes. He hesitated. His eye wandered about the room. 'I only want half an hour,' he said. 'I know why you came, and it's awfully good of you. There's some magazines here. If you'll stop to lunch I'll prove you this time travelling up to the hilt, specimen and all. If you'll forgive my leaving you now?'  I consented, hardly comprehending then the full import of his words, and he nodded and went on down the corridor. I heard the door of the laboratory slam, seated myself in a chair, and took up a daily paper. What was he going to do before lunch time? Then suddenly I was reminded by an advertisement that I had promised to meet Richardson, the publisher, at two. I looked at my watch, and saw that I could barely save that engagement. I got up and went down the passage to tell the Time Traveller.  As I took hold of the handle of the door I heard an exclamation, oddly truncated at the end, and a click and a thud. A gust of air whirled round me as I opened the door, and from within came the sound of broken glass falling on the floor. The Time Traveller was not there. I seemed to see a ghostly, indistinct figure sitting in a whirling mass of black and brass for a moment  a figure so transparent that the bench behind with its sheets of drawings was absolutely distinct; but this phantasm vanished as I rubbed my eyes. The Time Machine had gone. Save for a subsiding stir of dust, the further end of the laboratory was empty. A pane of the skylight had, apparently, just been blown in.  I felt an unreasonable amazement. I knew that something strange had happened, and for the moment could not distinguish what the strange thing might be. As I stood staring, the door into the garden opened, and the man servant appeared.  We looked at each other. Then ideas began to come. 'Has Mr.      gone out that way?' said I.  'No, sir. No one has come out this way. I was expecting to find him here.'  At that I understood. At the risk of disappointing Richardson I stayed on, waiting for the Time Traveller; waiting for the second, perhaps still stranger story, and the specimens and photographs he would bring with him. But I am beginning now to fear that I must wait a lifetime. The Time Traveller vanished three years ago. And, as everybody knows now, he has never returned.     EPILOGUE   One cannot choose but wonder. Will he ever return? It may be that he swept back into the past, and fell among the blood drinking, hairy savages of the Age of Unpolished Stone; into the abysses of the Cretaceous Sea; or among the grotesque saurians, the huge reptilian brutes of the Jurassic times. He may even now  if I may use the phrase  be wandering on some plesiosaurus haunted Oolitic coral reef, or beside the lonely saline lakes of the Triassic Age. Or did he go forward, into one of the nearer ages, in which men are still men, but with the riddles of our own time answered and its wearisome problems solved? Into the manhood of the race: for I, for my own part, cannot think that these latter days of weak experiment, fragmentary theory, and mutual discord are indeed man's culminating time! I say, for my own part. He, I know  for the question had been discussed among us long before the Time Machine was made  thought but cheerlessly of the Advancement of Mankind, and saw in the growing pile of civilization only a foolish heaping that must inevitably fall back upon and destroy its makers in the end. If that is so, it remains for us to live as though it were not so. But to me the future is still black and blank  is a vast ignorance, lit at a few casual places by the memory of his story. And I have by me, for my comfort, two strange white flowers  shrivelled now, and brown and flat and brittle  to witness that even when mind and strength had gone, gratitude and a mutual tenderness still lived on in the heart of man.        End of Project Gutenberg's The Time Machine, by H. G. (Herbert George) Wells  *** END OF THIS PROJECT GUTENBERG EBOOK THE TIME MACHINE ***  ***** This file should be named 35.txt or 35.zip ***** This and all associated files of various formats will be found in:         http://www.gutenberg.net/3/35/            Updated editions will replace the previous one  the old editions         will be renamed.          Creating the works from public domain print editions means that no         one owns a United States copyright in these works, so the Foundation         (and you!) can copy and distribute it in the United States without         permission and without paying copyright royalties.  Special rules,         set forth in the General Terms of Use part of this license, apply to         copying and distributing Project Gutenberg tm electronic works to         protect the PROJECT GUTENBERG tm concept and trademark.  Project         Gutenberg is a registered trademark, and may not be used if you         charge for the eBooks, unless you receive specific permission.  If you         do not charge anything for copies of this eBook, complying with the         rules is very easy.  You may use this eBook for nearly any purpose         such as creation of derivative works, reports, performances and         research.  They may be modified and printed and given away  you may do         practically ANYTHING with public domain eBooks.  Redistribution is         subject to the trademark license, especially commercial         redistribution.            *** START: FULL LICENSE ***          THE FULL PROJECT GUTENBERG LICENSE         PLEASE READ THIS BEFORE YOU DISTRIBUTE OR USE THIS WORK          To protect the Project Gutenberg tm mission of promoting the free         distribution of electronic works, by using or distributing this work         (or any other work associated in any way with the phrase \"Project         Gutenberg\"), you agree to comply with all the terms of the Full Project         Gutenberg tm License (available with this file or online at         http://gutenberg.net/license).           Section 1.  General Terms of Use and Redistributing Project Gutenberg tm         electronic works          1.A.  By reading or using any part of this Project Gutenberg tm         electronic work, you indicate that you have read, understand, agree to         and accept all the terms of this license and intellectual property         (trademark/copyright) agreement.  If you do not agree to abide by all         the terms of this agreement, you must cease using and return or destroy         all copies of Project Gutenberg tm electronic works in your possession.         If you paid a fee for obtaining a copy of or access to a Project         Gutenberg tm electronic work and you do not agree to be bound by the         terms of this agreement, you may obtain a refund from the person or         entity to whom you paid the fee as set forth in paragraph 1.E.8.          1.B.  \"Project Gutenberg\" is a registered trademark.  It may only be         used on or associated in any way with an electronic work by people who         agree to be bound by the terms of this agreement.  There are a few         things that you can do with most Project Gutenberg tm electronic works         even without complying with the full terms of this agreement.  See         paragraph 1.C below.  There are a lot of things you can do with Project         Gutenberg tm electronic works if you follow the terms of this agreement         and help preserve free future access to Project Gutenberg tm electronic         works.  See paragraph 1.E below.          1.C.  The Project Gutenberg Literary Archive Foundation (\"the Foundation\"         or PGLAF), owns a compilation copyright in the collection of Project         Gutenberg tm electronic works.  Nearly all the individual works in the         collection are in the public domain in the United States.  If an         individual work is in the public domain in the United States and you are         located in the United States, we do not claim a right to prevent you from         copying, distributing, performing, displaying or creating derivative         works based on the work as long as all references to Project Gutenberg         are removed.  Of course, we hope that you will support the Project         Gutenberg tm mission of promoting free access to electronic works by         freely sharing Project Gutenberg tm works in compliance with the terms of         this agreement for keeping the Project Gutenberg tm name associated with         the work.  You can easily comply with the terms of this agreement by         keeping this work in the same format with its attached full Project         Gutenberg tm License when you share it without charge with others.          1.D.  The copyright laws of the place where you are located also govern         what you can do with this work.  Copyright laws in most countries are in         a constant state of change.  If you are outside the United States, check         the laws of your country in addition to the terms of this agreement         before downloading, copying, displaying, performing, distributing or         creating derivative works based on this work or any other Project         Gutenberg tm work.  The Foundation makes no representations concerning         the copyright status of any work in any country outside the United         States.          1.E.  Unless you have removed all references to Project Gutenberg:          1.E.1.  The following sentence, with active links to, or other immediate         access to, the full Project Gutenberg tm License must appear prominently         whenever any copy of a Project Gutenberg tm work (any work on which the         phrase \"Project Gutenberg\" appears, or with which the phrase \"Project         Gutenberg\" is associated) is accessed, displayed, performed, viewed,         copied or distributed:          This eBook is for the use of anyone anywhere at no cost and with         almost no restrictions whatsoever.  You may copy it, give it away or         re use it under the terms of the Project Gutenberg License included         with this eBook or online at www.gutenberg.net          1.E.2.  If an individual Project Gutenberg tm electronic work is derived         from the public domain (does not contain a notice indicating that it is         posted with permission of the copyright holder), the work can be copied         and distributed to anyone in the United States without paying any fees         or charges.  If you are redistributing or providing access to a work         with the phrase \"Project Gutenberg\" associated with or appearing on the         work, you must comply either with the requirements of paragraphs 1.E.1         through 1.E.7 or obtain permission for the use of the work and the         Project Gutenberg tm trademark as set forth in paragraphs 1.E.8 or         1.E.9.          1.E.3.  If an individual Project Gutenberg tm electronic work is posted         with the permission of the copyright holder, your use and distribution         must comply with both paragraphs 1.E.1 through 1.E.7 and any additional         terms imposed by the copyright holder.  Additional terms will be linked         to the Project Gutenberg tm License for all works posted with the         permission of the copyright holder found at the beginning of this work.          1.E.4.  Do not unlink or detach or remove the full Project Gutenberg tm         License terms from this work, or any files containing a part of this         work or any other work associated with Project Gutenberg tm.          1.E.5.  Do not copy, display, perform, distribute or redistribute this         electronic work, or any part of this electronic work, without         prominently displaying the sentence set forth in paragraph 1.E.1 with         active links or immediate access to the full terms of the Project         Gutenberg tm License.          1.E.6.  You may convert to and distribute this work in any binary,         compressed, marked up, nonproprietary or proprietary form, including any         word processing or hypertext form.  However, if you provide access to or         distribute copies of a Project Gutenberg tm work in a format other than         \"Plain Vanilla ASCII\" or other format used in the official version         posted on the official Project Gutenberg tm web site (www.gutenberg.net),         you must, at no additional cost, fee or expense to the user, provide a         copy, a means of exporting a copy, or a means of obtaining a copy upon         request, of the work in its original \"Plain Vanilla ASCII\" or other         form.  Any alternate format must include the full Project Gutenberg tm         License as specified in paragraph 1.E.1.          1.E.7.  Do not charge a fee for access to, viewing, displaying,         performing, copying or distributing any Project Gutenberg tm works         unless you comply with paragraph 1.E.8 or 1.E.9.          1.E.8.  You may charge a reasonable fee for copies of or providing         access to or distributing Project Gutenberg tm electronic works provided         that            You pay a royalty fee of 20% of the gross profits you derive from              the use of Project Gutenberg tm works calculated using the method                   you already use to calculate your applicable taxes.  The fee is                        owed to the owner of the Project Gutenberg tm trademark, but he                             has agreed to donate royalties under this paragraph to the                                  Project Gutenberg Literary Archive Foundation.  Royalty payments                                       must be paid within 60 days following each date on which you                                            prepare (or are legally required to prepare) your periodic tax                                                 returns.  Royalty payments should be clearly marked as such and                                                      sent to the Project Gutenberg Literary Archive Foundation at the                                                           address specified in Section 4, \"Information about donations to                                                                the Project Gutenberg Literary Archive Foundation.\"                                                                   You provide a full refund of any money paid by a user who notifies                                                                     you in writing (or by e mail) within 30 days of receipt that s/he                                                                          does not agree to the terms of the full Project Gutenberg tm                                                                               License.  You must require such a user to return or                                                                                    destroy all copies of the works possessed in a physical medium                                                                                         and discontinue all use of and all access to other copies of                                                                                              Project Gutenberg tm works.                                                                                                 You provide, in accordance with paragraph 1.F.3, a full refund of any                                                                                                   money paid for a work or a replacement copy, if a defect in the                                                                                                        electronic work is discovered and reported to you within 90 days                                                                                                             of receipt of the work.                                                                                                                You comply with all other terms of this agreement for free                                                                                                                  distribution of Project Gutenberg tm works.                                                                                                                   1.E.9.  If you wish to charge a fee or distribute a Project Gutenberg tm                                                                                                                  electronic work or group of works on different terms than are set                                                                                                                  forth in this agreement, you must obtain permission in writing from                                                                                                                  both the Project Gutenberg Literary Archive Foundation and Michael                                                                                                                  Hart, the owner of the Project Gutenberg tm trademark.  Contact the                                                                                                                  Foundation as set forth in Section 3 below.                                                                                                                   1.F.                                                                                                                   1.F.1.  Project Gutenberg volunteers and employees expend considerable                                                                                                                  effort to identify, do copyright research on, transcribe and proofread                                                                                                                  public domain works in creating the Project Gutenberg tm                                                                                                                  collection.  Despite these efforts, Project Gutenberg tm electronic                                                                                                                  works, and the medium on which they may be stored, may contain                                                                                                                  \"Defects,\" such as, but not limited to, incomplete, inaccurate or                                                                                                                  corrupt data, transcription errors, a copyright or other intellectual                                                                                                                  property infringement, a defective or damaged disk or other medium, a                                                                                                                  computer virus, or computer codes that damage or cannot be read by                                                                                                                  your equipment.                                                                                                                   1.F.2.  LIMITED WARRANTY, DISCLAIMER OF DAMAGES   Except for the \"Right                                                                                                                  of Replacement or Refund\" described in paragraph 1.F.3, the Project                                                                                                                  Gutenberg Literary Archive Foundation, the owner of the Project                                                                                                                  Gutenberg tm trademark, and any other party distributing a Project                                                                                                                  Gutenberg tm electronic work under this agreement, disclaim all                                                                                                                  liability to you for damages, costs and expenses, including legal                                                                                                                  fees.  YOU AGREE THAT YOU HAVE NO REMEDIES FOR NEGLIGENCE, STRICT                                                                                                                  LIABILITY, BREACH OF WARRANTY OR BREACH OF CONTRACT EXCEPT THOSE                                                                                                                  PROVIDED IN PARAGRAPH F3.  YOU AGREE THAT THE FOUNDATION, THE                                                                                                                  TRADEMARK OWNER, AND ANY DISTRIBUTOR UNDER THIS AGREEMENT WILL NOT BE                                                                                                                  LIABLE TO YOU FOR ACTUAL, DIRECT, INDIRECT, CONSEQUENTIAL, PUNITIVE OR                                                                                                                  INCIDENTAL DAMAGES EVEN IF YOU GIVE NOTICE OF THE POSSIBILITY OF SUCH                                                                                                                  DAMAGE.                                                                                                                   1.F.3.  LIMITED RIGHT OF REPLACEMENT OR REFUND   If you discover a                                                                                                                  defect in this electronic work within 90 days of receiving it, you can                                                                                                                  receive a refund of the money (if any) you paid for it by sending a                                                                                                                  written explanation to the person you received the work from.  If you                                                                                                                  received the work on a physical medium, you must return the medium with                                                                                                                  your written explanation.  The person or entity that provided you with                                                                                                                  the defective work may elect to provide a replacement copy in lieu of a                                                                                                                  refund.  If you received the work electronically, the person or entity                                                                                                                  providing it to you may choose to give you a second opportunity to                                                                                                                  receive the work electronically in lieu of a refund.  If the second copy                                                                                                                  is also defective, you may demand a refund in writing without further                                                                                                                  opportunities to fix the problem.                                                                                                                   1.F.4.  Except for the limited right of replacement or refund set forth                                                                                                                  in paragraph 1.F.3, this work is provided to you 'AS IS', WITH NO OTHER                                                                                                                  WARRANTIES OF ANY KIND, EXPRESS OR IMPLIED, INCLUDING BUT NOT LIMITED TO                                                                                                                  WARRANTIES OF MERCHANTIBILITY OR FITNESS FOR ANY PURPOSE.                                                                                                                   1.F.5.  Some states do not allow disclaimers of certain implied                                                                                                                  warranties or the exclusion or limitation of certain types of damages.                                                                                                                  If any disclaimer or limitation set forth in this agreement violates the                                                                                                                  law of the state applicable to this agreement, the agreement shall be                                                                                                                  interpreted to make the maximum disclaimer or limitation permitted by                                                                                                                  the applicable state law.  The invalidity or unenforceability of any                                                                                                                  provision of this agreement shall not void the remaining provisions.                                                                                                                   1.F.6.  INDEMNITY   You agree to indemnify and hold the Foundation, the                                                                                                                  trademark owner, any agent or employee of the Foundation, anyone                                                                                                                  providing copies of Project Gutenberg tm electronic works in accordance                                                                                                                  with this agreement, and any volunteers associated with the production,                                                                                                                  promotion and distribution of Project Gutenberg tm electronic works,                                                                                                                  harmless from all liability, costs and expenses, including legal fees,                                                                                                                  that arise directly or indirectly from any of the following which you do                                                                                                                  or cause to occur: (a) distribution of this or any Project Gutenberg tm                                                                                                                  work, (b) alteration, modification, or additions or deletions to any                                                                                                                  Project Gutenberg tm work, and (c) any Defect you cause.                                                                                                                    Section  2.  Information about the Mission of Project Gutenberg tm                                                                                                                   Project Gutenberg tm is synonymous with the free distribution of                                                                                                                  electronic works in formats readable by the widest variety of computers                                                                                                                  including obsolete, old, middle aged and new computers.  It exists                                                                                                                  because of the efforts of hundreds of volunteers and donations from                                                                                                                  people in all walks of life.                                                                                                                   Volunteers and financial support to provide volunteers with the                                                                                                                  assistance they need, is critical to reaching Project Gutenberg tm's                                                                                                                  goals and ensuring that the Project Gutenberg tm collection will                                                                                                                  remain freely available for generations to come.  In 2001, the Project                                                                                                                  Gutenberg Literary Archive Foundation was created to provide a secure                                                                                                                  and permanent future for Project Gutenberg tm and future generations.                                                                                                                  To learn more about the Project Gutenberg Literary Archive Foundation                                                                                                                  and how your efforts and donations can help, see Sections 3 and 4                                                                                                                  and the Foundation web page at http://www.pglaf.org.                                                                                                                    Section 3.  Information about the Project Gutenberg Literary Archive                                                                                                                  Foundation                                                                                                                   The Project Gutenberg Literary Archive Foundation is a non profit                                                                                                                  501(c)(3) educational corporation organized under the laws of the                                                                                                                  state of Mississippi and granted tax exempt status by the Internal                                                                                                                  Revenue Service.  The Foundation's EIN or federal tax identification                                                                                                                  number is 64 6221541.  Its 501(c)(3) letter is posted at                                                                                                                  http://pglaf.org/fundraising.  Contributions to the Project Gutenberg                                                                                                                  Literary Archive Foundation are tax deductible to the full extent                                                                                                                  permitted by U.S. federal laws and your state's laws.                                                                                                                   The Foundation's principal office is located at 4557 Melan Dr. S.                                                                                                                  Fairbanks, AK, 99712., but its volunteers and employees are scattered                                                                                                                  throughout numerous locations.  Its business office is located at                                                                                                                  809 North 1500 West, Salt Lake City, UT 84116, (801) 596 1887, email                                                                                                                  business@pglaf.org.  Email contact links and up to date contact                                                                                                                  information can be found at the Foundation's web site and official                                                                                                                  page at http://pglaf.org                                                                                                                   For additional contact information:                                                                                                                       Dr. Gregory B. Newby                                                                                                                            Chief Executive and Director                                                                                                                                 gbnewby@pglaf.org                                                                                                                                  Section 4.  Information about Donations to the Project Gutenberg                                                                                                                                 Literary Archive Foundation                                                                                                                                  Project Gutenberg tm depends upon and cannot survive without wide                                                                                                                                 spread public support and donations to carry out its mission of                                                                                                                                 increasing the number of public domain and licensed works that can be                                                                                                                                 freely distributed in machine readable form accessible by the widest                                                                                                                                 array of equipment including outdated equipment.  Many small donations                                                                                                                                 ($1 to $5,000) are particularly important to maintaining tax exempt                                                                                                                                 status with the IRS.                                                                                                                                  The Foundation is committed to complying with the laws regulating                                                                                                                                 charities and charitable donations in all 50 states of the United                                                                                                                                 States.  Compliance requirements are not uniform and it takes a                                                                                                                                 considerable effort, much paperwork and many fees to meet and keep up                                                                                                                                 with these requirements.  We do not solicit donations in locations                                                                                                                                 where we have not received written confirmation of compliance.  To                                                                                                                                 SEND DONATIONS or determine the status of compliance for any                                                                                                                                 particular state visit http://pglaf.org                                                                                                                                  While we cannot and do not solicit contributions from states where we                                                                                                                                 have not met the solicitation requirements, we know of no prohibition                                                                                                                                 against accepting unsolicited donations from donors in such states who                                                                                                                                 approach us with offers to donate.                                                                                                                                  International donations are gratefully accepted, but we cannot make                                                                                                                                 any statements concerning tax treatment of donations received from                                                                                                                                 outside the United States.  U.S. laws alone swamp our small staff.                                                                                                                                  Please check the Project Gutenberg Web pages for current donation                                                                                                                                 methods and addresses.  Donations are accepted in a number of other                                                                                                                                 ways including including checks, online payments and credit card                                                                                                                                 donations.  To donate, please visit: http://pglaf.org/donate                                                                                                                                   Section 5.  General Information About Project Gutenberg tm electronic                                                                                                                                 works.                                                                                                                                  Professor Michael S. Hart is the originator of the Project Gutenberg tm                                                                                                                                 concept of a library of electronic works that could be freely shared                                                                                                                                 with anyone.  For thirty years, he produced and distributed Project                                                                                                                                 Gutenberg tm eBooks with only a loose network of volunteer support.                                                                                                                                  Project Gutenberg tm eBooks are often created from several printed                                                                                                                                 editions, all of which are confirmed as Public Domain in the U.S.                                                                                                                                 unless a copyright notice is included.  Thus, we do not necessarily                                                                                                                                 keep eBooks in compliance with any particular paper edition.                                                                                                                                  Most people start at our Web site which has the main PG search facility:                                                                                                                                       http://www.gutenberg.net                                                                                                                                       This Web site includes information about Project Gutenberg tm,                                                                                                                                      including how to make donations to the Project Gutenberg Literary                                                                                                                                      Archive Foundation, how to help produce our new eBooks, and how to                                                                                                                                      subscribe to our email newsletter to hear about new eBooks. \n"
     ]
    }
   ],
   "source": [
    "print(df.article[0])"
   ]
  },
  {
   "cell_type": "code",
   "execution_count": null,
   "metadata": {},
   "outputs": [],
   "source": []
  },
  {
   "cell_type": "markdown",
   "metadata": {},
   "source": [
    "## 2. PyCaret environment"
   ]
  },
  {
   "cell_type": "code",
   "execution_count": 4,
   "metadata": {},
   "outputs": [],
   "source": [
    "from pycaret.nlp import *"
   ]
  },
  {
   "cell_type": "markdown",
   "metadata": {},
   "source": [
    "We preprocess the text and do stopwords removal, special character removal, bigram extraction etc."
   ]
  },
  {
   "cell_type": "code",
   "execution_count": 5,
   "metadata": {},
   "outputs": [
    {
     "data": {
      "text/html": [
       "<style  type=\"text/css\" >\n",
       "</style><table id=\"T_aab49_\" ><thead>    <tr>        <th class=\"col_heading level0 col0\" >Description</th>        <th class=\"col_heading level0 col1\" >Value</th>    </tr></thead><tbody>\n",
       "                <tr>\n",
       "                                <td id=\"T_aab49_row0_col0\" class=\"data row0 col0\" >session_id</td>\n",
       "                        <td id=\"T_aab49_row0_col1\" class=\"data row0 col1\" >123</td>\n",
       "            </tr>\n",
       "            <tr>\n",
       "                                <td id=\"T_aab49_row1_col0\" class=\"data row1 col0\" >Documents</td>\n",
       "                        <td id=\"T_aab49_row1_col1\" class=\"data row1 col1\" >1</td>\n",
       "            </tr>\n",
       "            <tr>\n",
       "                                <td id=\"T_aab49_row2_col0\" class=\"data row2 col0\" >Vocab Size</td>\n",
       "                        <td id=\"T_aab49_row2_col1\" class=\"data row2 col1\" >3547</td>\n",
       "            </tr>\n",
       "            <tr>\n",
       "                                <td id=\"T_aab49_row3_col0\" class=\"data row3 col0\" >Custom Stopwords</td>\n",
       "                        <td id=\"T_aab49_row3_col1\" class=\"data row3 col1\" >False</td>\n",
       "            </tr>\n",
       "    </tbody></table>"
      ],
      "text/plain": [
       "<pandas.io.formats.style.Styler at 0x7f8f77ec9c50>"
      ]
     },
     "metadata": {},
     "output_type": "display_data"
    }
   ],
   "source": [
    "exp_nlp101 = setup(data=df, target='article', session_id=123)"
   ]
  },
  {
   "cell_type": "code",
   "execution_count": 6,
   "metadata": {},
   "outputs": [
    {
     "data": {
      "text/html": [
       "        <script type=\"text/javascript\">\n",
       "        window.PlotlyConfig = {MathJaxConfig: 'local'};\n",
       "        if (window.MathJax) {MathJax.Hub.Config({SVG: {font: \"STIX-Web\"}});}\n",
       "        if (typeof require !== 'undefined') {\n",
       "        require.undef(\"plotly\");\n",
       "        requirejs.config({\n",
       "            paths: {\n",
       "                'plotly': ['https://cdn.plot.ly/plotly-latest.min']\n",
       "            }\n",
       "        });\n",
       "        require(['plotly'], function(Plotly) {\n",
       "            window._Plotly = Plotly;\n",
       "        });\n",
       "        }\n",
       "        </script>\n",
       "        "
      ]
     },
     "metadata": {},
     "output_type": "display_data"
    },
    {
     "data": {
      "application/vnd.plotly.v1+json": {
       "config": {
        "linkText": "Export to plot.ly",
        "plotlyServerURL": "https://plot.ly",
        "showLink": true
       },
       "data": [
        {
         "marker": {
          "color": "rgba(255, 153, 51, 0.6)",
          "line": {
           "color": "rgba(255, 153, 51, 1.0)",
           "width": 1
          }
         },
         "name": "count",
         "orientation": "v",
         "text": "",
         "type": "bar",
         "x": [
          "time",
          "see",
          "come",
          "say",
          "little",
          "thing",
          "go",
          "could",
          "machine",
          "feel",
          "work",
          "seem",
          "think",
          "may",
          "look",
          "hand",
          "make",
          "find",
          "light",
          "would",
          "must",
          "man",
          "still",
          "traveller",
          "take",
          "even",
          "white",
          "begin",
          "day",
          "face",
          "people",
          "first",
          "world",
          "last",
          "well",
          "grow",
          "know",
          "night",
          "long",
          "morlock",
          "great",
          "eye",
          "get",
          "back",
          "way",
          "put",
          "stand",
          "mind",
          "leave",
          "match",
          "strange",
          "perhaps",
          "place",
          "fall",
          "run",
          "move",
          "fear",
          "travel",
          "away",
          "tell",
          "old",
          "round",
          "fire",
          "end",
          "black",
          "part",
          "dark",
          "darkness",
          "follow",
          "presently",
          "enough",
          "moment",
          "try",
          "turn",
          "hear",
          "use",
          "creature",
          "head",
          "full",
          "new",
          "space",
          "foot",
          "almost",
          "much",
          "door",
          "side",
          "rise",
          "dimension",
          "large",
          "give",
          "sit",
          "psychologist",
          "open",
          "sky",
          "minute",
          "future",
          "stop",
          "far",
          "pass",
          "year"
         ],
         "y": [
          205,
          157,
          156,
          110,
          110,
          101,
          101,
          93,
          91,
          87,
          85,
          81,
          81,
          80,
          77,
          75,
          64,
          63,
          60,
          60,
          59,
          56,
          53,
          52,
          52,
          52,
          51,
          51,
          50,
          50,
          49,
          48,
          48,
          47,
          45,
          45,
          45,
          44,
          43,
          43,
          42,
          42,
          40,
          40,
          39,
          38,
          36,
          36,
          36,
          35,
          35,
          35,
          34,
          33,
          32,
          32,
          31,
          30,
          30,
          30,
          30,
          30,
          29,
          29,
          29,
          29,
          28,
          28,
          28,
          28,
          28,
          28,
          28,
          28,
          27,
          27,
          27,
          26,
          26,
          25,
          25,
          25,
          24,
          24,
          24,
          24,
          24,
          24,
          24,
          24,
          23,
          23,
          23,
          23,
          23,
          23,
          22,
          22,
          22,
          22
         ]
        }
       ],
       "layout": {
        "legend": {
         "bgcolor": "#F5F6F9",
         "font": {
          "color": "#4D5663"
         }
        },
        "paper_bgcolor": "#F5F6F9",
        "plot_bgcolor": "#F5F6F9",
        "template": {
         "data": {
          "bar": [
           {
            "error_x": {
             "color": "#2a3f5f"
            },
            "error_y": {
             "color": "#2a3f5f"
            },
            "marker": {
             "line": {
              "color": "#E5ECF6",
              "width": 0.5
             }
            },
            "type": "bar"
           }
          ],
          "barpolar": [
           {
            "marker": {
             "line": {
              "color": "#E5ECF6",
              "width": 0.5
             }
            },
            "type": "barpolar"
           }
          ],
          "carpet": [
           {
            "aaxis": {
             "endlinecolor": "#2a3f5f",
             "gridcolor": "white",
             "linecolor": "white",
             "minorgridcolor": "white",
             "startlinecolor": "#2a3f5f"
            },
            "baxis": {
             "endlinecolor": "#2a3f5f",
             "gridcolor": "white",
             "linecolor": "white",
             "minorgridcolor": "white",
             "startlinecolor": "#2a3f5f"
            },
            "type": "carpet"
           }
          ],
          "choropleth": [
           {
            "colorbar": {
             "outlinewidth": 0,
             "ticks": ""
            },
            "type": "choropleth"
           }
          ],
          "contour": [
           {
            "colorbar": {
             "outlinewidth": 0,
             "ticks": ""
            },
            "colorscale": [
             [
              0,
              "#0d0887"
             ],
             [
              0.1111111111111111,
              "#46039f"
             ],
             [
              0.2222222222222222,
              "#7201a8"
             ],
             [
              0.3333333333333333,
              "#9c179e"
             ],
             [
              0.4444444444444444,
              "#bd3786"
             ],
             [
              0.5555555555555556,
              "#d8576b"
             ],
             [
              0.6666666666666666,
              "#ed7953"
             ],
             [
              0.7777777777777778,
              "#fb9f3a"
             ],
             [
              0.8888888888888888,
              "#fdca26"
             ],
             [
              1,
              "#f0f921"
             ]
            ],
            "type": "contour"
           }
          ],
          "contourcarpet": [
           {
            "colorbar": {
             "outlinewidth": 0,
             "ticks": ""
            },
            "type": "contourcarpet"
           }
          ],
          "heatmap": [
           {
            "colorbar": {
             "outlinewidth": 0,
             "ticks": ""
            },
            "colorscale": [
             [
              0,
              "#0d0887"
             ],
             [
              0.1111111111111111,
              "#46039f"
             ],
             [
              0.2222222222222222,
              "#7201a8"
             ],
             [
              0.3333333333333333,
              "#9c179e"
             ],
             [
              0.4444444444444444,
              "#bd3786"
             ],
             [
              0.5555555555555556,
              "#d8576b"
             ],
             [
              0.6666666666666666,
              "#ed7953"
             ],
             [
              0.7777777777777778,
              "#fb9f3a"
             ],
             [
              0.8888888888888888,
              "#fdca26"
             ],
             [
              1,
              "#f0f921"
             ]
            ],
            "type": "heatmap"
           }
          ],
          "heatmapgl": [
           {
            "colorbar": {
             "outlinewidth": 0,
             "ticks": ""
            },
            "colorscale": [
             [
              0,
              "#0d0887"
             ],
             [
              0.1111111111111111,
              "#46039f"
             ],
             [
              0.2222222222222222,
              "#7201a8"
             ],
             [
              0.3333333333333333,
              "#9c179e"
             ],
             [
              0.4444444444444444,
              "#bd3786"
             ],
             [
              0.5555555555555556,
              "#d8576b"
             ],
             [
              0.6666666666666666,
              "#ed7953"
             ],
             [
              0.7777777777777778,
              "#fb9f3a"
             ],
             [
              0.8888888888888888,
              "#fdca26"
             ],
             [
              1,
              "#f0f921"
             ]
            ],
            "type": "heatmapgl"
           }
          ],
          "histogram": [
           {
            "marker": {
             "colorbar": {
              "outlinewidth": 0,
              "ticks": ""
             }
            },
            "type": "histogram"
           }
          ],
          "histogram2d": [
           {
            "colorbar": {
             "outlinewidth": 0,
             "ticks": ""
            },
            "colorscale": [
             [
              0,
              "#0d0887"
             ],
             [
              0.1111111111111111,
              "#46039f"
             ],
             [
              0.2222222222222222,
              "#7201a8"
             ],
             [
              0.3333333333333333,
              "#9c179e"
             ],
             [
              0.4444444444444444,
              "#bd3786"
             ],
             [
              0.5555555555555556,
              "#d8576b"
             ],
             [
              0.6666666666666666,
              "#ed7953"
             ],
             [
              0.7777777777777778,
              "#fb9f3a"
             ],
             [
              0.8888888888888888,
              "#fdca26"
             ],
             [
              1,
              "#f0f921"
             ]
            ],
            "type": "histogram2d"
           }
          ],
          "histogram2dcontour": [
           {
            "colorbar": {
             "outlinewidth": 0,
             "ticks": ""
            },
            "colorscale": [
             [
              0,
              "#0d0887"
             ],
             [
              0.1111111111111111,
              "#46039f"
             ],
             [
              0.2222222222222222,
              "#7201a8"
             ],
             [
              0.3333333333333333,
              "#9c179e"
             ],
             [
              0.4444444444444444,
              "#bd3786"
             ],
             [
              0.5555555555555556,
              "#d8576b"
             ],
             [
              0.6666666666666666,
              "#ed7953"
             ],
             [
              0.7777777777777778,
              "#fb9f3a"
             ],
             [
              0.8888888888888888,
              "#fdca26"
             ],
             [
              1,
              "#f0f921"
             ]
            ],
            "type": "histogram2dcontour"
           }
          ],
          "mesh3d": [
           {
            "colorbar": {
             "outlinewidth": 0,
             "ticks": ""
            },
            "type": "mesh3d"
           }
          ],
          "parcoords": [
           {
            "line": {
             "colorbar": {
              "outlinewidth": 0,
              "ticks": ""
             }
            },
            "type": "parcoords"
           }
          ],
          "pie": [
           {
            "automargin": true,
            "type": "pie"
           }
          ],
          "scatter": [
           {
            "marker": {
             "colorbar": {
              "outlinewidth": 0,
              "ticks": ""
             }
            },
            "type": "scatter"
           }
          ],
          "scatter3d": [
           {
            "line": {
             "colorbar": {
              "outlinewidth": 0,
              "ticks": ""
             }
            },
            "marker": {
             "colorbar": {
              "outlinewidth": 0,
              "ticks": ""
             }
            },
            "type": "scatter3d"
           }
          ],
          "scattercarpet": [
           {
            "marker": {
             "colorbar": {
              "outlinewidth": 0,
              "ticks": ""
             }
            },
            "type": "scattercarpet"
           }
          ],
          "scattergeo": [
           {
            "marker": {
             "colorbar": {
              "outlinewidth": 0,
              "ticks": ""
             }
            },
            "type": "scattergeo"
           }
          ],
          "scattergl": [
           {
            "marker": {
             "colorbar": {
              "outlinewidth": 0,
              "ticks": ""
             }
            },
            "type": "scattergl"
           }
          ],
          "scattermapbox": [
           {
            "marker": {
             "colorbar": {
              "outlinewidth": 0,
              "ticks": ""
             }
            },
            "type": "scattermapbox"
           }
          ],
          "scatterpolar": [
           {
            "marker": {
             "colorbar": {
              "outlinewidth": 0,
              "ticks": ""
             }
            },
            "type": "scatterpolar"
           }
          ],
          "scatterpolargl": [
           {
            "marker": {
             "colorbar": {
              "outlinewidth": 0,
              "ticks": ""
             }
            },
            "type": "scatterpolargl"
           }
          ],
          "scatterternary": [
           {
            "marker": {
             "colorbar": {
              "outlinewidth": 0,
              "ticks": ""
             }
            },
            "type": "scatterternary"
           }
          ],
          "surface": [
           {
            "colorbar": {
             "outlinewidth": 0,
             "ticks": ""
            },
            "colorscale": [
             [
              0,
              "#0d0887"
             ],
             [
              0.1111111111111111,
              "#46039f"
             ],
             [
              0.2222222222222222,
              "#7201a8"
             ],
             [
              0.3333333333333333,
              "#9c179e"
             ],
             [
              0.4444444444444444,
              "#bd3786"
             ],
             [
              0.5555555555555556,
              "#d8576b"
             ],
             [
              0.6666666666666666,
              "#ed7953"
             ],
             [
              0.7777777777777778,
              "#fb9f3a"
             ],
             [
              0.8888888888888888,
              "#fdca26"
             ],
             [
              1,
              "#f0f921"
             ]
            ],
            "type": "surface"
           }
          ],
          "table": [
           {
            "cells": {
             "fill": {
              "color": "#EBF0F8"
             },
             "line": {
              "color": "white"
             }
            },
            "header": {
             "fill": {
              "color": "#C8D4E3"
             },
             "line": {
              "color": "white"
             }
            },
            "type": "table"
           }
          ]
         },
         "layout": {
          "annotationdefaults": {
           "arrowcolor": "#2a3f5f",
           "arrowhead": 0,
           "arrowwidth": 1
          },
          "autotypenumbers": "strict",
          "coloraxis": {
           "colorbar": {
            "outlinewidth": 0,
            "ticks": ""
           }
          },
          "colorscale": {
           "diverging": [
            [
             0,
             "#8e0152"
            ],
            [
             0.1,
             "#c51b7d"
            ],
            [
             0.2,
             "#de77ae"
            ],
            [
             0.3,
             "#f1b6da"
            ],
            [
             0.4,
             "#fde0ef"
            ],
            [
             0.5,
             "#f7f7f7"
            ],
            [
             0.6,
             "#e6f5d0"
            ],
            [
             0.7,
             "#b8e186"
            ],
            [
             0.8,
             "#7fbc41"
            ],
            [
             0.9,
             "#4d9221"
            ],
            [
             1,
             "#276419"
            ]
           ],
           "sequential": [
            [
             0,
             "#0d0887"
            ],
            [
             0.1111111111111111,
             "#46039f"
            ],
            [
             0.2222222222222222,
             "#7201a8"
            ],
            [
             0.3333333333333333,
             "#9c179e"
            ],
            [
             0.4444444444444444,
             "#bd3786"
            ],
            [
             0.5555555555555556,
             "#d8576b"
            ],
            [
             0.6666666666666666,
             "#ed7953"
            ],
            [
             0.7777777777777778,
             "#fb9f3a"
            ],
            [
             0.8888888888888888,
             "#fdca26"
            ],
            [
             1,
             "#f0f921"
            ]
           ],
           "sequentialminus": [
            [
             0,
             "#0d0887"
            ],
            [
             0.1111111111111111,
             "#46039f"
            ],
            [
             0.2222222222222222,
             "#7201a8"
            ],
            [
             0.3333333333333333,
             "#9c179e"
            ],
            [
             0.4444444444444444,
             "#bd3786"
            ],
            [
             0.5555555555555556,
             "#d8576b"
            ],
            [
             0.6666666666666666,
             "#ed7953"
            ],
            [
             0.7777777777777778,
             "#fb9f3a"
            ],
            [
             0.8888888888888888,
             "#fdca26"
            ],
            [
             1,
             "#f0f921"
            ]
           ]
          },
          "colorway": [
           "#636efa",
           "#EF553B",
           "#00cc96",
           "#ab63fa",
           "#FFA15A",
           "#19d3f3",
           "#FF6692",
           "#B6E880",
           "#FF97FF",
           "#FECB52"
          ],
          "font": {
           "color": "#2a3f5f"
          },
          "geo": {
           "bgcolor": "white",
           "lakecolor": "white",
           "landcolor": "#E5ECF6",
           "showlakes": true,
           "showland": true,
           "subunitcolor": "white"
          },
          "hoverlabel": {
           "align": "left"
          },
          "hovermode": "closest",
          "mapbox": {
           "style": "light"
          },
          "paper_bgcolor": "white",
          "plot_bgcolor": "#E5ECF6",
          "polar": {
           "angularaxis": {
            "gridcolor": "white",
            "linecolor": "white",
            "ticks": ""
           },
           "bgcolor": "#E5ECF6",
           "radialaxis": {
            "gridcolor": "white",
            "linecolor": "white",
            "ticks": ""
           }
          },
          "scene": {
           "xaxis": {
            "backgroundcolor": "#E5ECF6",
            "gridcolor": "white",
            "gridwidth": 2,
            "linecolor": "white",
            "showbackground": true,
            "ticks": "",
            "zerolinecolor": "white"
           },
           "yaxis": {
            "backgroundcolor": "#E5ECF6",
            "gridcolor": "white",
            "gridwidth": 2,
            "linecolor": "white",
            "showbackground": true,
            "ticks": "",
            "zerolinecolor": "white"
           },
           "zaxis": {
            "backgroundcolor": "#E5ECF6",
            "gridcolor": "white",
            "gridwidth": 2,
            "linecolor": "white",
            "showbackground": true,
            "ticks": "",
            "zerolinecolor": "white"
           }
          },
          "shapedefaults": {
           "line": {
            "color": "#2a3f5f"
           }
          },
          "ternary": {
           "aaxis": {
            "gridcolor": "white",
            "linecolor": "white",
            "ticks": ""
           },
           "baxis": {
            "gridcolor": "white",
            "linecolor": "white",
            "ticks": ""
           },
           "bgcolor": "#E5ECF6",
           "caxis": {
            "gridcolor": "white",
            "linecolor": "white",
            "ticks": ""
           }
          },
          "title": {
           "x": 0.05
          },
          "xaxis": {
           "automargin": true,
           "gridcolor": "white",
           "linecolor": "white",
           "ticks": "",
           "title": {
            "standoff": 15
           },
           "zerolinecolor": "white",
           "zerolinewidth": 2
          },
          "yaxis": {
           "automargin": true,
           "gridcolor": "white",
           "linecolor": "white",
           "ticks": "",
           "title": {
            "standoff": 15
           },
           "zerolinecolor": "white",
           "zerolinewidth": 2
          }
         }
        },
        "title": {
         "font": {
          "color": "#4D5663"
         },
         "text": "Top 100 words after removing stop words"
        },
        "xaxis": {
         "gridcolor": "#E1E5ED",
         "linecolor": "black",
         "showgrid": true,
         "tickfont": {
          "color": "#4D5663"
         },
         "title": {
          "font": {
           "color": "#4D5663"
          },
          "text": ""
         },
         "zerolinecolor": "#E1E5ED"
        },
        "yaxis": {
         "gridcolor": "#E1E5ED",
         "linecolor": "black",
         "showgrid": true,
         "tickfont": {
          "color": "#4D5663"
         },
         "title": {
          "font": {
           "color": "#4D5663"
          },
          "text": "Count"
         },
         "zerolinecolor": "#E1E5ED"
        }
       }
      },
      "text/html": [
       "<div>                            <div id=\"492186db-75bf-4fc4-bb64-4756a25f23c1\" class=\"plotly-graph-div\" style=\"height:525px; width:100%;\"></div>            <script type=\"text/javascript\">                require([\"plotly\"], function(Plotly) {                    window.PLOTLYENV=window.PLOTLYENV || {};\n",
       "                    window.PLOTLYENV.BASE_URL='https://plot.ly';                                    if (document.getElementById(\"492186db-75bf-4fc4-bb64-4756a25f23c1\")) {                    Plotly.newPlot(                        \"492186db-75bf-4fc4-bb64-4756a25f23c1\",                        [{\"marker\": {\"color\": \"rgba(255, 153, 51, 0.6)\", \"line\": {\"color\": \"rgba(255, 153, 51, 1.0)\", \"width\": 1}}, \"name\": \"count\", \"orientation\": \"v\", \"text\": \"\", \"type\": \"bar\", \"x\": [\"time\", \"see\", \"come\", \"say\", \"little\", \"thing\", \"go\", \"could\", \"machine\", \"feel\", \"work\", \"seem\", \"think\", \"may\", \"look\", \"hand\", \"make\", \"find\", \"light\", \"would\", \"must\", \"man\", \"still\", \"traveller\", \"take\", \"even\", \"white\", \"begin\", \"day\", \"face\", \"people\", \"first\", \"world\", \"last\", \"well\", \"grow\", \"know\", \"night\", \"long\", \"morlock\", \"great\", \"eye\", \"get\", \"back\", \"way\", \"put\", \"stand\", \"mind\", \"leave\", \"match\", \"strange\", \"perhaps\", \"place\", \"fall\", \"run\", \"move\", \"fear\", \"travel\", \"away\", \"tell\", \"old\", \"round\", \"fire\", \"end\", \"black\", \"part\", \"dark\", \"darkness\", \"follow\", \"presently\", \"enough\", \"moment\", \"try\", \"turn\", \"hear\", \"use\", \"creature\", \"head\", \"full\", \"new\", \"space\", \"foot\", \"almost\", \"much\", \"door\", \"side\", \"rise\", \"dimension\", \"large\", \"give\", \"sit\", \"psychologist\", \"open\", \"sky\", \"minute\", \"future\", \"stop\", \"far\", \"pass\", \"year\"], \"y\": [205, 157, 156, 110, 110, 101, 101, 93, 91, 87, 85, 81, 81, 80, 77, 75, 64, 63, 60, 60, 59, 56, 53, 52, 52, 52, 51, 51, 50, 50, 49, 48, 48, 47, 45, 45, 45, 44, 43, 43, 42, 42, 40, 40, 39, 38, 36, 36, 36, 35, 35, 35, 34, 33, 32, 32, 31, 30, 30, 30, 30, 30, 29, 29, 29, 29, 28, 28, 28, 28, 28, 28, 28, 28, 27, 27, 27, 26, 26, 25, 25, 25, 24, 24, 24, 24, 24, 24, 24, 24, 23, 23, 23, 23, 23, 23, 22, 22, 22, 22]}],                        {\"legend\": {\"bgcolor\": \"#F5F6F9\", \"font\": {\"color\": \"#4D5663\"}}, \"paper_bgcolor\": \"#F5F6F9\", \"plot_bgcolor\": \"#F5F6F9\", \"template\": {\"data\": {\"bar\": [{\"error_x\": {\"color\": \"#2a3f5f\"}, \"error_y\": {\"color\": \"#2a3f5f\"}, \"marker\": {\"line\": {\"color\": \"#E5ECF6\", \"width\": 0.5}}, \"type\": \"bar\"}], \"barpolar\": [{\"marker\": {\"line\": {\"color\": \"#E5ECF6\", \"width\": 0.5}}, \"type\": \"barpolar\"}], \"carpet\": [{\"aaxis\": {\"endlinecolor\": \"#2a3f5f\", \"gridcolor\": \"white\", \"linecolor\": \"white\", \"minorgridcolor\": \"white\", \"startlinecolor\": \"#2a3f5f\"}, \"baxis\": {\"endlinecolor\": \"#2a3f5f\", \"gridcolor\": \"white\", \"linecolor\": \"white\", \"minorgridcolor\": \"white\", \"startlinecolor\": \"#2a3f5f\"}, \"type\": \"carpet\"}], \"choropleth\": [{\"colorbar\": {\"outlinewidth\": 0, \"ticks\": \"\"}, \"type\": \"choropleth\"}], \"contour\": [{\"colorbar\": {\"outlinewidth\": 0, \"ticks\": \"\"}, \"colorscale\": [[0.0, \"#0d0887\"], [0.1111111111111111, \"#46039f\"], [0.2222222222222222, \"#7201a8\"], [0.3333333333333333, \"#9c179e\"], [0.4444444444444444, \"#bd3786\"], [0.5555555555555556, \"#d8576b\"], [0.6666666666666666, \"#ed7953\"], [0.7777777777777778, \"#fb9f3a\"], [0.8888888888888888, \"#fdca26\"], [1.0, \"#f0f921\"]], \"type\": \"contour\"}], \"contourcarpet\": [{\"colorbar\": {\"outlinewidth\": 0, \"ticks\": \"\"}, \"type\": \"contourcarpet\"}], \"heatmap\": [{\"colorbar\": {\"outlinewidth\": 0, \"ticks\": \"\"}, \"colorscale\": [[0.0, \"#0d0887\"], [0.1111111111111111, \"#46039f\"], [0.2222222222222222, \"#7201a8\"], [0.3333333333333333, \"#9c179e\"], [0.4444444444444444, \"#bd3786\"], [0.5555555555555556, \"#d8576b\"], [0.6666666666666666, \"#ed7953\"], [0.7777777777777778, \"#fb9f3a\"], [0.8888888888888888, \"#fdca26\"], [1.0, \"#f0f921\"]], \"type\": \"heatmap\"}], \"heatmapgl\": [{\"colorbar\": {\"outlinewidth\": 0, \"ticks\": \"\"}, \"colorscale\": [[0.0, \"#0d0887\"], [0.1111111111111111, \"#46039f\"], [0.2222222222222222, \"#7201a8\"], [0.3333333333333333, \"#9c179e\"], [0.4444444444444444, \"#bd3786\"], [0.5555555555555556, \"#d8576b\"], [0.6666666666666666, \"#ed7953\"], [0.7777777777777778, \"#fb9f3a\"], [0.8888888888888888, \"#fdca26\"], [1.0, \"#f0f921\"]], \"type\": \"heatmapgl\"}], \"histogram\": [{\"marker\": {\"colorbar\": {\"outlinewidth\": 0, \"ticks\": \"\"}}, \"type\": \"histogram\"}], \"histogram2d\": [{\"colorbar\": {\"outlinewidth\": 0, \"ticks\": \"\"}, \"colorscale\": [[0.0, \"#0d0887\"], [0.1111111111111111, \"#46039f\"], [0.2222222222222222, \"#7201a8\"], [0.3333333333333333, \"#9c179e\"], [0.4444444444444444, \"#bd3786\"], [0.5555555555555556, \"#d8576b\"], [0.6666666666666666, \"#ed7953\"], [0.7777777777777778, \"#fb9f3a\"], [0.8888888888888888, \"#fdca26\"], [1.0, \"#f0f921\"]], \"type\": \"histogram2d\"}], \"histogram2dcontour\": [{\"colorbar\": {\"outlinewidth\": 0, \"ticks\": \"\"}, \"colorscale\": [[0.0, \"#0d0887\"], [0.1111111111111111, \"#46039f\"], [0.2222222222222222, \"#7201a8\"], [0.3333333333333333, \"#9c179e\"], [0.4444444444444444, \"#bd3786\"], [0.5555555555555556, \"#d8576b\"], [0.6666666666666666, \"#ed7953\"], [0.7777777777777778, \"#fb9f3a\"], [0.8888888888888888, \"#fdca26\"], [1.0, \"#f0f921\"]], \"type\": \"histogram2dcontour\"}], \"mesh3d\": [{\"colorbar\": {\"outlinewidth\": 0, \"ticks\": \"\"}, \"type\": \"mesh3d\"}], \"parcoords\": [{\"line\": {\"colorbar\": {\"outlinewidth\": 0, \"ticks\": \"\"}}, \"type\": \"parcoords\"}], \"pie\": [{\"automargin\": true, \"type\": \"pie\"}], \"scatter\": [{\"marker\": {\"colorbar\": {\"outlinewidth\": 0, \"ticks\": \"\"}}, \"type\": \"scatter\"}], \"scatter3d\": [{\"line\": {\"colorbar\": {\"outlinewidth\": 0, \"ticks\": \"\"}}, \"marker\": {\"colorbar\": {\"outlinewidth\": 0, \"ticks\": \"\"}}, \"type\": \"scatter3d\"}], \"scattercarpet\": [{\"marker\": {\"colorbar\": {\"outlinewidth\": 0, \"ticks\": \"\"}}, \"type\": \"scattercarpet\"}], \"scattergeo\": [{\"marker\": {\"colorbar\": {\"outlinewidth\": 0, \"ticks\": \"\"}}, \"type\": \"scattergeo\"}], \"scattergl\": [{\"marker\": {\"colorbar\": {\"outlinewidth\": 0, \"ticks\": \"\"}}, \"type\": \"scattergl\"}], \"scattermapbox\": [{\"marker\": {\"colorbar\": {\"outlinewidth\": 0, \"ticks\": \"\"}}, \"type\": \"scattermapbox\"}], \"scatterpolar\": [{\"marker\": {\"colorbar\": {\"outlinewidth\": 0, \"ticks\": \"\"}}, \"type\": \"scatterpolar\"}], \"scatterpolargl\": [{\"marker\": {\"colorbar\": {\"outlinewidth\": 0, \"ticks\": \"\"}}, \"type\": \"scatterpolargl\"}], \"scatterternary\": [{\"marker\": {\"colorbar\": {\"outlinewidth\": 0, \"ticks\": \"\"}}, \"type\": \"scatterternary\"}], \"surface\": [{\"colorbar\": {\"outlinewidth\": 0, \"ticks\": \"\"}, \"colorscale\": [[0.0, \"#0d0887\"], [0.1111111111111111, \"#46039f\"], [0.2222222222222222, \"#7201a8\"], [0.3333333333333333, \"#9c179e\"], [0.4444444444444444, \"#bd3786\"], [0.5555555555555556, \"#d8576b\"], [0.6666666666666666, \"#ed7953\"], [0.7777777777777778, \"#fb9f3a\"], [0.8888888888888888, \"#fdca26\"], [1.0, \"#f0f921\"]], \"type\": \"surface\"}], \"table\": [{\"cells\": {\"fill\": {\"color\": \"#EBF0F8\"}, \"line\": {\"color\": \"white\"}}, \"header\": {\"fill\": {\"color\": \"#C8D4E3\"}, \"line\": {\"color\": \"white\"}}, \"type\": \"table\"}]}, \"layout\": {\"annotationdefaults\": {\"arrowcolor\": \"#2a3f5f\", \"arrowhead\": 0, \"arrowwidth\": 1}, \"autotypenumbers\": \"strict\", \"coloraxis\": {\"colorbar\": {\"outlinewidth\": 0, \"ticks\": \"\"}}, \"colorscale\": {\"diverging\": [[0, \"#8e0152\"], [0.1, \"#c51b7d\"], [0.2, \"#de77ae\"], [0.3, \"#f1b6da\"], [0.4, \"#fde0ef\"], [0.5, \"#f7f7f7\"], [0.6, \"#e6f5d0\"], [0.7, \"#b8e186\"], [0.8, \"#7fbc41\"], [0.9, \"#4d9221\"], [1, \"#276419\"]], \"sequential\": [[0.0, \"#0d0887\"], [0.1111111111111111, \"#46039f\"], [0.2222222222222222, \"#7201a8\"], [0.3333333333333333, \"#9c179e\"], [0.4444444444444444, \"#bd3786\"], [0.5555555555555556, \"#d8576b\"], [0.6666666666666666, \"#ed7953\"], [0.7777777777777778, \"#fb9f3a\"], [0.8888888888888888, \"#fdca26\"], [1.0, \"#f0f921\"]], \"sequentialminus\": [[0.0, \"#0d0887\"], [0.1111111111111111, \"#46039f\"], [0.2222222222222222, \"#7201a8\"], [0.3333333333333333, \"#9c179e\"], [0.4444444444444444, \"#bd3786\"], [0.5555555555555556, \"#d8576b\"], [0.6666666666666666, \"#ed7953\"], [0.7777777777777778, \"#fb9f3a\"], [0.8888888888888888, \"#fdca26\"], [1.0, \"#f0f921\"]]}, \"colorway\": [\"#636efa\", \"#EF553B\", \"#00cc96\", \"#ab63fa\", \"#FFA15A\", \"#19d3f3\", \"#FF6692\", \"#B6E880\", \"#FF97FF\", \"#FECB52\"], \"font\": {\"color\": \"#2a3f5f\"}, \"geo\": {\"bgcolor\": \"white\", \"lakecolor\": \"white\", \"landcolor\": \"#E5ECF6\", \"showlakes\": true, \"showland\": true, \"subunitcolor\": \"white\"}, \"hoverlabel\": {\"align\": \"left\"}, \"hovermode\": \"closest\", \"mapbox\": {\"style\": \"light\"}, \"paper_bgcolor\": \"white\", \"plot_bgcolor\": \"#E5ECF6\", \"polar\": {\"angularaxis\": {\"gridcolor\": \"white\", \"linecolor\": \"white\", \"ticks\": \"\"}, \"bgcolor\": \"#E5ECF6\", \"radialaxis\": {\"gridcolor\": \"white\", \"linecolor\": \"white\", \"ticks\": \"\"}}, \"scene\": {\"xaxis\": {\"backgroundcolor\": \"#E5ECF6\", \"gridcolor\": \"white\", \"gridwidth\": 2, \"linecolor\": \"white\", \"showbackground\": true, \"ticks\": \"\", \"zerolinecolor\": \"white\"}, \"yaxis\": {\"backgroundcolor\": \"#E5ECF6\", \"gridcolor\": \"white\", \"gridwidth\": 2, \"linecolor\": \"white\", \"showbackground\": true, \"ticks\": \"\", \"zerolinecolor\": \"white\"}, \"zaxis\": {\"backgroundcolor\": \"#E5ECF6\", \"gridcolor\": \"white\", \"gridwidth\": 2, \"linecolor\": \"white\", \"showbackground\": true, \"ticks\": \"\", \"zerolinecolor\": \"white\"}}, \"shapedefaults\": {\"line\": {\"color\": \"#2a3f5f\"}}, \"ternary\": {\"aaxis\": {\"gridcolor\": \"white\", \"linecolor\": \"white\", \"ticks\": \"\"}, \"baxis\": {\"gridcolor\": \"white\", \"linecolor\": \"white\", \"ticks\": \"\"}, \"bgcolor\": \"#E5ECF6\", \"caxis\": {\"gridcolor\": \"white\", \"linecolor\": \"white\", \"ticks\": \"\"}}, \"title\": {\"x\": 0.05}, \"xaxis\": {\"automargin\": true, \"gridcolor\": \"white\", \"linecolor\": \"white\", \"ticks\": \"\", \"title\": {\"standoff\": 15}, \"zerolinecolor\": \"white\", \"zerolinewidth\": 2}, \"yaxis\": {\"automargin\": true, \"gridcolor\": \"white\", \"linecolor\": \"white\", \"ticks\": \"\", \"title\": {\"standoff\": 15}, \"zerolinecolor\": \"white\", \"zerolinewidth\": 2}}}, \"title\": {\"font\": {\"color\": \"#4D5663\"}, \"text\": \"Top 100 words after removing stop words\"}, \"xaxis\": {\"gridcolor\": \"#E1E5ED\", \"linecolor\": \"black\", \"showgrid\": true, \"tickfont\": {\"color\": \"#4D5663\"}, \"title\": {\"font\": {\"color\": \"#4D5663\"}, \"text\": \"\"}, \"zerolinecolor\": \"#E1E5ED\"}, \"yaxis\": {\"gridcolor\": \"#E1E5ED\", \"linecolor\": \"black\", \"showgrid\": true, \"tickfont\": {\"color\": \"#4D5663\"}, \"title\": {\"font\": {\"color\": \"#4D5663\"}, \"text\": \"Count\"}, \"zerolinecolor\": \"#E1E5ED\"}},                        {\"showLink\": true, \"linkText\": \"Export to plot.ly\", \"plotlyServerURL\": \"https://plot.ly\", \"responsive\": true}                    ).then(function(){\n",
       "                            \n",
       "var gd = document.getElementById('492186db-75bf-4fc4-bb64-4756a25f23c1');\n",
       "var x = new MutationObserver(function (mutations, observer) {{\n",
       "        var display = window.getComputedStyle(gd).display;\n",
       "        if (!display || display === 'none') {{\n",
       "            console.log([gd, 'removed!']);\n",
       "            Plotly.purge(gd);\n",
       "            observer.disconnect();\n",
       "        }}\n",
       "}});\n",
       "\n",
       "// Listen for the removal of the full notebook cells\n",
       "var notebookContainer = gd.closest('#notebook-container');\n",
       "if (notebookContainer) {{\n",
       "    x.observe(notebookContainer, {childList: true});\n",
       "}}\n",
       "\n",
       "// Listen for the clearing of the current output cell\n",
       "var outputEl = gd.closest('.output');\n",
       "if (outputEl) {{\n",
       "    x.observe(outputEl, {childList: true});\n",
       "}}\n",
       "\n",
       "                        })                };                });            </script>        </div>"
      ]
     },
     "metadata": {},
     "output_type": "display_data"
    }
   ],
   "source": [
    "plot_model()"
   ]
  },
  {
   "cell_type": "code",
   "execution_count": 7,
   "metadata": {},
   "outputs": [
    {
     "data": {
      "text/html": [
       "        <script type=\"text/javascript\">\n",
       "        window.PlotlyConfig = {MathJaxConfig: 'local'};\n",
       "        if (window.MathJax) {MathJax.Hub.Config({SVG: {font: \"STIX-Web\"}});}\n",
       "        if (typeof require !== 'undefined') {\n",
       "        require.undef(\"plotly\");\n",
       "        requirejs.config({\n",
       "            paths: {\n",
       "                'plotly': ['https://cdn.plot.ly/plotly-latest.min']\n",
       "            }\n",
       "        });\n",
       "        require(['plotly'], function(Plotly) {\n",
       "            window._Plotly = Plotly;\n",
       "        });\n",
       "        }\n",
       "        </script>\n",
       "        "
      ]
     },
     "metadata": {},
     "output_type": "display_data"
    },
    {
     "data": {
      "application/vnd.plotly.v1+json": {
       "config": {
        "linkText": "Export to plot.ly",
        "plotlyServerURL": "https://plot.ly",
        "showLink": true
       },
       "data": [
        {
         "marker": {
          "color": "rgba(255, 153, 51, 0.6)",
          "line": {
           "color": "rgba(255, 153, 51, 1.0)",
           "width": 1
          }
         },
         "name": "count",
         "orientation": "v",
         "text": "",
         "type": "bar",
         "x": [
          "time traveller",
          "time machine",
          "little people",
          "could see",
          "say time",
          "look round",
          "travel time",
          "project_gutenberg_literary_archive foundation",
          "full license",
          "come back",
          "first time",
          "distribute work",
          "time travel",
          "young man",
          "white sphinx",
          "put hand",
          "little lawn",
          "come head",
          "world people",
          "upper world",
          "say editor",
          "say psychologist",
          "see morlock",
          "feel assure",
          "electronic work",
          "come home",
          "thick dust",
          "copy work",
          "move time",
          "strike match",
          "old familiar",
          "www net",
          "provincial mayor",
          "work work",
          "web site",
          "receive work",
          "time dimension",
          "thing see",
          "section information",
          "see little",
          "see white",
          "slow slow",
          "smoking room",
          "take hand",
          "strange thing",
          "never feel",
          "altogether new",
          "night day",
          "fourth dimension",
          "get go",
          "display perform",
          "hand touch",
          "dimension space",
          "individual work",
          "iron bar",
          "may use",
          "could imagine",
          "could find",
          "copyright holder",
          "come mind",
          "bronze door",
          "machine feel",
          "machine go",
          "machine say",
          "machine travel",
          "may seem",
          "even time",
          "time must",
          "eye grow",
          "think time",
          "think say",
          "day night",
          "time time",
          "thing mere",
          "traveller come",
          "whole world",
          "would make",
          "breadth thickness",
          "eye shine",
          "minute perhaps",
          "far less",
          "fast fast",
          "big machine",
          "plain enough",
          "real existence",
          "lever hand",
          "round see",
          "length breadth",
          "say journalist",
          "say move",
          "last time",
          "say say",
          "see first",
          "grow bright",
          "silent man",
          "get away",
          "future would",
          "story say",
          "first glance",
          "space time"
         ],
         "y": [
          50,
          43,
          16,
          15,
          12,
          10,
          9,
          9,
          8,
          8,
          8,
          7,
          7,
          7,
          7,
          7,
          6,
          6,
          6,
          6,
          5,
          5,
          5,
          5,
          5,
          5,
          5,
          5,
          5,
          4,
          4,
          4,
          4,
          4,
          4,
          4,
          4,
          4,
          4,
          4,
          4,
          4,
          4,
          4,
          4,
          4,
          4,
          4,
          4,
          4,
          4,
          4,
          4,
          4,
          4,
          4,
          4,
          4,
          4,
          4,
          4,
          4,
          4,
          4,
          4,
          4,
          4,
          3,
          3,
          3,
          3,
          3,
          3,
          3,
          3,
          3,
          3,
          3,
          3,
          3,
          3,
          3,
          3,
          3,
          3,
          3,
          3,
          3,
          3,
          3,
          3,
          3,
          3,
          3,
          3,
          3,
          3,
          3,
          3,
          3
         ]
        }
       ],
       "layout": {
        "legend": {
         "bgcolor": "#F5F6F9",
         "font": {
          "color": "#4D5663"
         }
        },
        "paper_bgcolor": "#F5F6F9",
        "plot_bgcolor": "#F5F6F9",
        "template": {
         "data": {
          "bar": [
           {
            "error_x": {
             "color": "#2a3f5f"
            },
            "error_y": {
             "color": "#2a3f5f"
            },
            "marker": {
             "line": {
              "color": "#E5ECF6",
              "width": 0.5
             }
            },
            "type": "bar"
           }
          ],
          "barpolar": [
           {
            "marker": {
             "line": {
              "color": "#E5ECF6",
              "width": 0.5
             }
            },
            "type": "barpolar"
           }
          ],
          "carpet": [
           {
            "aaxis": {
             "endlinecolor": "#2a3f5f",
             "gridcolor": "white",
             "linecolor": "white",
             "minorgridcolor": "white",
             "startlinecolor": "#2a3f5f"
            },
            "baxis": {
             "endlinecolor": "#2a3f5f",
             "gridcolor": "white",
             "linecolor": "white",
             "minorgridcolor": "white",
             "startlinecolor": "#2a3f5f"
            },
            "type": "carpet"
           }
          ],
          "choropleth": [
           {
            "colorbar": {
             "outlinewidth": 0,
             "ticks": ""
            },
            "type": "choropleth"
           }
          ],
          "contour": [
           {
            "colorbar": {
             "outlinewidth": 0,
             "ticks": ""
            },
            "colorscale": [
             [
              0,
              "#0d0887"
             ],
             [
              0.1111111111111111,
              "#46039f"
             ],
             [
              0.2222222222222222,
              "#7201a8"
             ],
             [
              0.3333333333333333,
              "#9c179e"
             ],
             [
              0.4444444444444444,
              "#bd3786"
             ],
             [
              0.5555555555555556,
              "#d8576b"
             ],
             [
              0.6666666666666666,
              "#ed7953"
             ],
             [
              0.7777777777777778,
              "#fb9f3a"
             ],
             [
              0.8888888888888888,
              "#fdca26"
             ],
             [
              1,
              "#f0f921"
             ]
            ],
            "type": "contour"
           }
          ],
          "contourcarpet": [
           {
            "colorbar": {
             "outlinewidth": 0,
             "ticks": ""
            },
            "type": "contourcarpet"
           }
          ],
          "heatmap": [
           {
            "colorbar": {
             "outlinewidth": 0,
             "ticks": ""
            },
            "colorscale": [
             [
              0,
              "#0d0887"
             ],
             [
              0.1111111111111111,
              "#46039f"
             ],
             [
              0.2222222222222222,
              "#7201a8"
             ],
             [
              0.3333333333333333,
              "#9c179e"
             ],
             [
              0.4444444444444444,
              "#bd3786"
             ],
             [
              0.5555555555555556,
              "#d8576b"
             ],
             [
              0.6666666666666666,
              "#ed7953"
             ],
             [
              0.7777777777777778,
              "#fb9f3a"
             ],
             [
              0.8888888888888888,
              "#fdca26"
             ],
             [
              1,
              "#f0f921"
             ]
            ],
            "type": "heatmap"
           }
          ],
          "heatmapgl": [
           {
            "colorbar": {
             "outlinewidth": 0,
             "ticks": ""
            },
            "colorscale": [
             [
              0,
              "#0d0887"
             ],
             [
              0.1111111111111111,
              "#46039f"
             ],
             [
              0.2222222222222222,
              "#7201a8"
             ],
             [
              0.3333333333333333,
              "#9c179e"
             ],
             [
              0.4444444444444444,
              "#bd3786"
             ],
             [
              0.5555555555555556,
              "#d8576b"
             ],
             [
              0.6666666666666666,
              "#ed7953"
             ],
             [
              0.7777777777777778,
              "#fb9f3a"
             ],
             [
              0.8888888888888888,
              "#fdca26"
             ],
             [
              1,
              "#f0f921"
             ]
            ],
            "type": "heatmapgl"
           }
          ],
          "histogram": [
           {
            "marker": {
             "colorbar": {
              "outlinewidth": 0,
              "ticks": ""
             }
            },
            "type": "histogram"
           }
          ],
          "histogram2d": [
           {
            "colorbar": {
             "outlinewidth": 0,
             "ticks": ""
            },
            "colorscale": [
             [
              0,
              "#0d0887"
             ],
             [
              0.1111111111111111,
              "#46039f"
             ],
             [
              0.2222222222222222,
              "#7201a8"
             ],
             [
              0.3333333333333333,
              "#9c179e"
             ],
             [
              0.4444444444444444,
              "#bd3786"
             ],
             [
              0.5555555555555556,
              "#d8576b"
             ],
             [
              0.6666666666666666,
              "#ed7953"
             ],
             [
              0.7777777777777778,
              "#fb9f3a"
             ],
             [
              0.8888888888888888,
              "#fdca26"
             ],
             [
              1,
              "#f0f921"
             ]
            ],
            "type": "histogram2d"
           }
          ],
          "histogram2dcontour": [
           {
            "colorbar": {
             "outlinewidth": 0,
             "ticks": ""
            },
            "colorscale": [
             [
              0,
              "#0d0887"
             ],
             [
              0.1111111111111111,
              "#46039f"
             ],
             [
              0.2222222222222222,
              "#7201a8"
             ],
             [
              0.3333333333333333,
              "#9c179e"
             ],
             [
              0.4444444444444444,
              "#bd3786"
             ],
             [
              0.5555555555555556,
              "#d8576b"
             ],
             [
              0.6666666666666666,
              "#ed7953"
             ],
             [
              0.7777777777777778,
              "#fb9f3a"
             ],
             [
              0.8888888888888888,
              "#fdca26"
             ],
             [
              1,
              "#f0f921"
             ]
            ],
            "type": "histogram2dcontour"
           }
          ],
          "mesh3d": [
           {
            "colorbar": {
             "outlinewidth": 0,
             "ticks": ""
            },
            "type": "mesh3d"
           }
          ],
          "parcoords": [
           {
            "line": {
             "colorbar": {
              "outlinewidth": 0,
              "ticks": ""
             }
            },
            "type": "parcoords"
           }
          ],
          "pie": [
           {
            "automargin": true,
            "type": "pie"
           }
          ],
          "scatter": [
           {
            "marker": {
             "colorbar": {
              "outlinewidth": 0,
              "ticks": ""
             }
            },
            "type": "scatter"
           }
          ],
          "scatter3d": [
           {
            "line": {
             "colorbar": {
              "outlinewidth": 0,
              "ticks": ""
             }
            },
            "marker": {
             "colorbar": {
              "outlinewidth": 0,
              "ticks": ""
             }
            },
            "type": "scatter3d"
           }
          ],
          "scattercarpet": [
           {
            "marker": {
             "colorbar": {
              "outlinewidth": 0,
              "ticks": ""
             }
            },
            "type": "scattercarpet"
           }
          ],
          "scattergeo": [
           {
            "marker": {
             "colorbar": {
              "outlinewidth": 0,
              "ticks": ""
             }
            },
            "type": "scattergeo"
           }
          ],
          "scattergl": [
           {
            "marker": {
             "colorbar": {
              "outlinewidth": 0,
              "ticks": ""
             }
            },
            "type": "scattergl"
           }
          ],
          "scattermapbox": [
           {
            "marker": {
             "colorbar": {
              "outlinewidth": 0,
              "ticks": ""
             }
            },
            "type": "scattermapbox"
           }
          ],
          "scatterpolar": [
           {
            "marker": {
             "colorbar": {
              "outlinewidth": 0,
              "ticks": ""
             }
            },
            "type": "scatterpolar"
           }
          ],
          "scatterpolargl": [
           {
            "marker": {
             "colorbar": {
              "outlinewidth": 0,
              "ticks": ""
             }
            },
            "type": "scatterpolargl"
           }
          ],
          "scatterternary": [
           {
            "marker": {
             "colorbar": {
              "outlinewidth": 0,
              "ticks": ""
             }
            },
            "type": "scatterternary"
           }
          ],
          "surface": [
           {
            "colorbar": {
             "outlinewidth": 0,
             "ticks": ""
            },
            "colorscale": [
             [
              0,
              "#0d0887"
             ],
             [
              0.1111111111111111,
              "#46039f"
             ],
             [
              0.2222222222222222,
              "#7201a8"
             ],
             [
              0.3333333333333333,
              "#9c179e"
             ],
             [
              0.4444444444444444,
              "#bd3786"
             ],
             [
              0.5555555555555556,
              "#d8576b"
             ],
             [
              0.6666666666666666,
              "#ed7953"
             ],
             [
              0.7777777777777778,
              "#fb9f3a"
             ],
             [
              0.8888888888888888,
              "#fdca26"
             ],
             [
              1,
              "#f0f921"
             ]
            ],
            "type": "surface"
           }
          ],
          "table": [
           {
            "cells": {
             "fill": {
              "color": "#EBF0F8"
             },
             "line": {
              "color": "white"
             }
            },
            "header": {
             "fill": {
              "color": "#C8D4E3"
             },
             "line": {
              "color": "white"
             }
            },
            "type": "table"
           }
          ]
         },
         "layout": {
          "annotationdefaults": {
           "arrowcolor": "#2a3f5f",
           "arrowhead": 0,
           "arrowwidth": 1
          },
          "autotypenumbers": "strict",
          "coloraxis": {
           "colorbar": {
            "outlinewidth": 0,
            "ticks": ""
           }
          },
          "colorscale": {
           "diverging": [
            [
             0,
             "#8e0152"
            ],
            [
             0.1,
             "#c51b7d"
            ],
            [
             0.2,
             "#de77ae"
            ],
            [
             0.3,
             "#f1b6da"
            ],
            [
             0.4,
             "#fde0ef"
            ],
            [
             0.5,
             "#f7f7f7"
            ],
            [
             0.6,
             "#e6f5d0"
            ],
            [
             0.7,
             "#b8e186"
            ],
            [
             0.8,
             "#7fbc41"
            ],
            [
             0.9,
             "#4d9221"
            ],
            [
             1,
             "#276419"
            ]
           ],
           "sequential": [
            [
             0,
             "#0d0887"
            ],
            [
             0.1111111111111111,
             "#46039f"
            ],
            [
             0.2222222222222222,
             "#7201a8"
            ],
            [
             0.3333333333333333,
             "#9c179e"
            ],
            [
             0.4444444444444444,
             "#bd3786"
            ],
            [
             0.5555555555555556,
             "#d8576b"
            ],
            [
             0.6666666666666666,
             "#ed7953"
            ],
            [
             0.7777777777777778,
             "#fb9f3a"
            ],
            [
             0.8888888888888888,
             "#fdca26"
            ],
            [
             1,
             "#f0f921"
            ]
           ],
           "sequentialminus": [
            [
             0,
             "#0d0887"
            ],
            [
             0.1111111111111111,
             "#46039f"
            ],
            [
             0.2222222222222222,
             "#7201a8"
            ],
            [
             0.3333333333333333,
             "#9c179e"
            ],
            [
             0.4444444444444444,
             "#bd3786"
            ],
            [
             0.5555555555555556,
             "#d8576b"
            ],
            [
             0.6666666666666666,
             "#ed7953"
            ],
            [
             0.7777777777777778,
             "#fb9f3a"
            ],
            [
             0.8888888888888888,
             "#fdca26"
            ],
            [
             1,
             "#f0f921"
            ]
           ]
          },
          "colorway": [
           "#636efa",
           "#EF553B",
           "#00cc96",
           "#ab63fa",
           "#FFA15A",
           "#19d3f3",
           "#FF6692",
           "#B6E880",
           "#FF97FF",
           "#FECB52"
          ],
          "font": {
           "color": "#2a3f5f"
          },
          "geo": {
           "bgcolor": "white",
           "lakecolor": "white",
           "landcolor": "#E5ECF6",
           "showlakes": true,
           "showland": true,
           "subunitcolor": "white"
          },
          "hoverlabel": {
           "align": "left"
          },
          "hovermode": "closest",
          "mapbox": {
           "style": "light"
          },
          "paper_bgcolor": "white",
          "plot_bgcolor": "#E5ECF6",
          "polar": {
           "angularaxis": {
            "gridcolor": "white",
            "linecolor": "white",
            "ticks": ""
           },
           "bgcolor": "#E5ECF6",
           "radialaxis": {
            "gridcolor": "white",
            "linecolor": "white",
            "ticks": ""
           }
          },
          "scene": {
           "xaxis": {
            "backgroundcolor": "#E5ECF6",
            "gridcolor": "white",
            "gridwidth": 2,
            "linecolor": "white",
            "showbackground": true,
            "ticks": "",
            "zerolinecolor": "white"
           },
           "yaxis": {
            "backgroundcolor": "#E5ECF6",
            "gridcolor": "white",
            "gridwidth": 2,
            "linecolor": "white",
            "showbackground": true,
            "ticks": "",
            "zerolinecolor": "white"
           },
           "zaxis": {
            "backgroundcolor": "#E5ECF6",
            "gridcolor": "white",
            "gridwidth": 2,
            "linecolor": "white",
            "showbackground": true,
            "ticks": "",
            "zerolinecolor": "white"
           }
          },
          "shapedefaults": {
           "line": {
            "color": "#2a3f5f"
           }
          },
          "ternary": {
           "aaxis": {
            "gridcolor": "white",
            "linecolor": "white",
            "ticks": ""
           },
           "baxis": {
            "gridcolor": "white",
            "linecolor": "white",
            "ticks": ""
           },
           "bgcolor": "#E5ECF6",
           "caxis": {
            "gridcolor": "white",
            "linecolor": "white",
            "ticks": ""
           }
          },
          "title": {
           "x": 0.05
          },
          "xaxis": {
           "automargin": true,
           "gridcolor": "white",
           "linecolor": "white",
           "ticks": "",
           "title": {
            "standoff": 15
           },
           "zerolinecolor": "white",
           "zerolinewidth": 2
          },
          "yaxis": {
           "automargin": true,
           "gridcolor": "white",
           "linecolor": "white",
           "ticks": "",
           "title": {
            "standoff": 15
           },
           "zerolinecolor": "white",
           "zerolinewidth": 2
          }
         }
        },
        "title": {
         "font": {
          "color": "#4D5663"
         },
         "text": "Top 100 bigrams after removing stop words"
        },
        "xaxis": {
         "gridcolor": "#E1E5ED",
         "linecolor": "black",
         "showgrid": true,
         "tickfont": {
          "color": "#4D5663"
         },
         "title": {
          "font": {
           "color": "#4D5663"
          },
          "text": ""
         },
         "zerolinecolor": "#E1E5ED"
        },
        "yaxis": {
         "gridcolor": "#E1E5ED",
         "linecolor": "black",
         "showgrid": true,
         "tickfont": {
          "color": "#4D5663"
         },
         "title": {
          "font": {
           "color": "#4D5663"
          },
          "text": "Count"
         },
         "zerolinecolor": "#E1E5ED"
        }
       }
      },
      "text/html": [
       "<div>                            <div id=\"27f63547-cc74-4fec-bbba-8b3c85eadcd6\" class=\"plotly-graph-div\" style=\"height:525px; width:100%;\"></div>            <script type=\"text/javascript\">                require([\"plotly\"], function(Plotly) {                    window.PLOTLYENV=window.PLOTLYENV || {};\n",
       "                    window.PLOTLYENV.BASE_URL='https://plot.ly';                                    if (document.getElementById(\"27f63547-cc74-4fec-bbba-8b3c85eadcd6\")) {                    Plotly.newPlot(                        \"27f63547-cc74-4fec-bbba-8b3c85eadcd6\",                        [{\"marker\": {\"color\": \"rgba(255, 153, 51, 0.6)\", \"line\": {\"color\": \"rgba(255, 153, 51, 1.0)\", \"width\": 1}}, \"name\": \"count\", \"orientation\": \"v\", \"text\": \"\", \"type\": \"bar\", \"x\": [\"time traveller\", \"time machine\", \"little people\", \"could see\", \"say time\", \"look round\", \"travel time\", \"project_gutenberg_literary_archive foundation\", \"full license\", \"come back\", \"first time\", \"distribute work\", \"time travel\", \"young man\", \"white sphinx\", \"put hand\", \"little lawn\", \"come head\", \"world people\", \"upper world\", \"say editor\", \"say psychologist\", \"see morlock\", \"feel assure\", \"electronic work\", \"come home\", \"thick dust\", \"copy work\", \"move time\", \"strike match\", \"old familiar\", \"www net\", \"provincial mayor\", \"work work\", \"web site\", \"receive work\", \"time dimension\", \"thing see\", \"section information\", \"see little\", \"see white\", \"slow slow\", \"smoking room\", \"take hand\", \"strange thing\", \"never feel\", \"altogether new\", \"night day\", \"fourth dimension\", \"get go\", \"display perform\", \"hand touch\", \"dimension space\", \"individual work\", \"iron bar\", \"may use\", \"could imagine\", \"could find\", \"copyright holder\", \"come mind\", \"bronze door\", \"machine feel\", \"machine go\", \"machine say\", \"machine travel\", \"may seem\", \"even time\", \"time must\", \"eye grow\", \"think time\", \"think say\", \"day night\", \"time time\", \"thing mere\", \"traveller come\", \"whole world\", \"would make\", \"breadth thickness\", \"eye shine\", \"minute perhaps\", \"far less\", \"fast fast\", \"big machine\", \"plain enough\", \"real existence\", \"lever hand\", \"round see\", \"length breadth\", \"say journalist\", \"say move\", \"last time\", \"say say\", \"see first\", \"grow bright\", \"silent man\", \"get away\", \"future would\", \"story say\", \"first glance\", \"space time\"], \"y\": [50, 43, 16, 15, 12, 10, 9, 9, 8, 8, 8, 7, 7, 7, 7, 7, 6, 6, 6, 6, 5, 5, 5, 5, 5, 5, 5, 5, 5, 4, 4, 4, 4, 4, 4, 4, 4, 4, 4, 4, 4, 4, 4, 4, 4, 4, 4, 4, 4, 4, 4, 4, 4, 4, 4, 4, 4, 4, 4, 4, 4, 4, 4, 4, 4, 4, 4, 3, 3, 3, 3, 3, 3, 3, 3, 3, 3, 3, 3, 3, 3, 3, 3, 3, 3, 3, 3, 3, 3, 3, 3, 3, 3, 3, 3, 3, 3, 3, 3, 3]}],                        {\"legend\": {\"bgcolor\": \"#F5F6F9\", \"font\": {\"color\": \"#4D5663\"}}, \"paper_bgcolor\": \"#F5F6F9\", \"plot_bgcolor\": \"#F5F6F9\", \"template\": {\"data\": {\"bar\": [{\"error_x\": {\"color\": \"#2a3f5f\"}, \"error_y\": {\"color\": \"#2a3f5f\"}, \"marker\": {\"line\": {\"color\": \"#E5ECF6\", \"width\": 0.5}}, \"type\": \"bar\"}], \"barpolar\": [{\"marker\": {\"line\": {\"color\": \"#E5ECF6\", \"width\": 0.5}}, \"type\": \"barpolar\"}], \"carpet\": [{\"aaxis\": {\"endlinecolor\": \"#2a3f5f\", \"gridcolor\": \"white\", \"linecolor\": \"white\", \"minorgridcolor\": \"white\", \"startlinecolor\": \"#2a3f5f\"}, \"baxis\": {\"endlinecolor\": \"#2a3f5f\", \"gridcolor\": \"white\", \"linecolor\": \"white\", \"minorgridcolor\": \"white\", \"startlinecolor\": \"#2a3f5f\"}, \"type\": \"carpet\"}], \"choropleth\": [{\"colorbar\": {\"outlinewidth\": 0, \"ticks\": \"\"}, \"type\": \"choropleth\"}], \"contour\": [{\"colorbar\": {\"outlinewidth\": 0, \"ticks\": \"\"}, \"colorscale\": [[0.0, \"#0d0887\"], [0.1111111111111111, \"#46039f\"], [0.2222222222222222, \"#7201a8\"], [0.3333333333333333, \"#9c179e\"], [0.4444444444444444, \"#bd3786\"], [0.5555555555555556, \"#d8576b\"], [0.6666666666666666, \"#ed7953\"], [0.7777777777777778, \"#fb9f3a\"], [0.8888888888888888, \"#fdca26\"], [1.0, \"#f0f921\"]], \"type\": \"contour\"}], \"contourcarpet\": [{\"colorbar\": {\"outlinewidth\": 0, \"ticks\": \"\"}, \"type\": \"contourcarpet\"}], \"heatmap\": [{\"colorbar\": {\"outlinewidth\": 0, \"ticks\": \"\"}, \"colorscale\": [[0.0, \"#0d0887\"], [0.1111111111111111, \"#46039f\"], [0.2222222222222222, \"#7201a8\"], [0.3333333333333333, \"#9c179e\"], [0.4444444444444444, \"#bd3786\"], [0.5555555555555556, \"#d8576b\"], [0.6666666666666666, \"#ed7953\"], [0.7777777777777778, \"#fb9f3a\"], [0.8888888888888888, \"#fdca26\"], [1.0, \"#f0f921\"]], \"type\": \"heatmap\"}], \"heatmapgl\": [{\"colorbar\": {\"outlinewidth\": 0, \"ticks\": \"\"}, \"colorscale\": [[0.0, \"#0d0887\"], [0.1111111111111111, \"#46039f\"], [0.2222222222222222, \"#7201a8\"], [0.3333333333333333, \"#9c179e\"], [0.4444444444444444, \"#bd3786\"], [0.5555555555555556, \"#d8576b\"], [0.6666666666666666, \"#ed7953\"], [0.7777777777777778, \"#fb9f3a\"], [0.8888888888888888, \"#fdca26\"], [1.0, \"#f0f921\"]], \"type\": \"heatmapgl\"}], \"histogram\": [{\"marker\": {\"colorbar\": {\"outlinewidth\": 0, \"ticks\": \"\"}}, \"type\": \"histogram\"}], \"histogram2d\": [{\"colorbar\": {\"outlinewidth\": 0, \"ticks\": \"\"}, \"colorscale\": [[0.0, \"#0d0887\"], [0.1111111111111111, \"#46039f\"], [0.2222222222222222, \"#7201a8\"], [0.3333333333333333, \"#9c179e\"], [0.4444444444444444, \"#bd3786\"], [0.5555555555555556, \"#d8576b\"], [0.6666666666666666, \"#ed7953\"], [0.7777777777777778, \"#fb9f3a\"], [0.8888888888888888, \"#fdca26\"], [1.0, \"#f0f921\"]], \"type\": \"histogram2d\"}], \"histogram2dcontour\": [{\"colorbar\": {\"outlinewidth\": 0, \"ticks\": \"\"}, \"colorscale\": [[0.0, \"#0d0887\"], [0.1111111111111111, \"#46039f\"], [0.2222222222222222, \"#7201a8\"], [0.3333333333333333, \"#9c179e\"], [0.4444444444444444, \"#bd3786\"], [0.5555555555555556, \"#d8576b\"], [0.6666666666666666, \"#ed7953\"], [0.7777777777777778, \"#fb9f3a\"], [0.8888888888888888, \"#fdca26\"], [1.0, \"#f0f921\"]], \"type\": \"histogram2dcontour\"}], \"mesh3d\": [{\"colorbar\": {\"outlinewidth\": 0, \"ticks\": \"\"}, \"type\": \"mesh3d\"}], \"parcoords\": [{\"line\": {\"colorbar\": {\"outlinewidth\": 0, \"ticks\": \"\"}}, \"type\": \"parcoords\"}], \"pie\": [{\"automargin\": true, \"type\": \"pie\"}], \"scatter\": [{\"marker\": {\"colorbar\": {\"outlinewidth\": 0, \"ticks\": \"\"}}, \"type\": \"scatter\"}], \"scatter3d\": [{\"line\": {\"colorbar\": {\"outlinewidth\": 0, \"ticks\": \"\"}}, \"marker\": {\"colorbar\": {\"outlinewidth\": 0, \"ticks\": \"\"}}, \"type\": \"scatter3d\"}], \"scattercarpet\": [{\"marker\": {\"colorbar\": {\"outlinewidth\": 0, \"ticks\": \"\"}}, \"type\": \"scattercarpet\"}], \"scattergeo\": [{\"marker\": {\"colorbar\": {\"outlinewidth\": 0, \"ticks\": \"\"}}, \"type\": \"scattergeo\"}], \"scattergl\": [{\"marker\": {\"colorbar\": {\"outlinewidth\": 0, \"ticks\": \"\"}}, \"type\": \"scattergl\"}], \"scattermapbox\": [{\"marker\": {\"colorbar\": {\"outlinewidth\": 0, \"ticks\": \"\"}}, \"type\": \"scattermapbox\"}], \"scatterpolar\": [{\"marker\": {\"colorbar\": {\"outlinewidth\": 0, \"ticks\": \"\"}}, \"type\": \"scatterpolar\"}], \"scatterpolargl\": [{\"marker\": {\"colorbar\": {\"outlinewidth\": 0, \"ticks\": \"\"}}, \"type\": \"scatterpolargl\"}], \"scatterternary\": [{\"marker\": {\"colorbar\": {\"outlinewidth\": 0, \"ticks\": \"\"}}, \"type\": \"scatterternary\"}], \"surface\": [{\"colorbar\": {\"outlinewidth\": 0, \"ticks\": \"\"}, \"colorscale\": [[0.0, \"#0d0887\"], [0.1111111111111111, \"#46039f\"], [0.2222222222222222, \"#7201a8\"], [0.3333333333333333, \"#9c179e\"], [0.4444444444444444, \"#bd3786\"], [0.5555555555555556, \"#d8576b\"], [0.6666666666666666, \"#ed7953\"], [0.7777777777777778, \"#fb9f3a\"], [0.8888888888888888, \"#fdca26\"], [1.0, \"#f0f921\"]], \"type\": \"surface\"}], \"table\": [{\"cells\": {\"fill\": {\"color\": \"#EBF0F8\"}, \"line\": {\"color\": \"white\"}}, \"header\": {\"fill\": {\"color\": \"#C8D4E3\"}, \"line\": {\"color\": \"white\"}}, \"type\": \"table\"}]}, \"layout\": {\"annotationdefaults\": {\"arrowcolor\": \"#2a3f5f\", \"arrowhead\": 0, \"arrowwidth\": 1}, \"autotypenumbers\": \"strict\", \"coloraxis\": {\"colorbar\": {\"outlinewidth\": 0, \"ticks\": \"\"}}, \"colorscale\": {\"diverging\": [[0, \"#8e0152\"], [0.1, \"#c51b7d\"], [0.2, \"#de77ae\"], [0.3, \"#f1b6da\"], [0.4, \"#fde0ef\"], [0.5, \"#f7f7f7\"], [0.6, \"#e6f5d0\"], [0.7, \"#b8e186\"], [0.8, \"#7fbc41\"], [0.9, \"#4d9221\"], [1, \"#276419\"]], \"sequential\": [[0.0, \"#0d0887\"], [0.1111111111111111, \"#46039f\"], [0.2222222222222222, \"#7201a8\"], [0.3333333333333333, \"#9c179e\"], [0.4444444444444444, \"#bd3786\"], [0.5555555555555556, \"#d8576b\"], [0.6666666666666666, \"#ed7953\"], [0.7777777777777778, \"#fb9f3a\"], [0.8888888888888888, \"#fdca26\"], [1.0, \"#f0f921\"]], \"sequentialminus\": [[0.0, \"#0d0887\"], [0.1111111111111111, \"#46039f\"], [0.2222222222222222, \"#7201a8\"], [0.3333333333333333, \"#9c179e\"], [0.4444444444444444, \"#bd3786\"], [0.5555555555555556, \"#d8576b\"], [0.6666666666666666, \"#ed7953\"], [0.7777777777777778, \"#fb9f3a\"], [0.8888888888888888, \"#fdca26\"], [1.0, \"#f0f921\"]]}, \"colorway\": [\"#636efa\", \"#EF553B\", \"#00cc96\", \"#ab63fa\", \"#FFA15A\", \"#19d3f3\", \"#FF6692\", \"#B6E880\", \"#FF97FF\", \"#FECB52\"], \"font\": {\"color\": \"#2a3f5f\"}, \"geo\": {\"bgcolor\": \"white\", \"lakecolor\": \"white\", \"landcolor\": \"#E5ECF6\", \"showlakes\": true, \"showland\": true, \"subunitcolor\": \"white\"}, \"hoverlabel\": {\"align\": \"left\"}, \"hovermode\": \"closest\", \"mapbox\": {\"style\": \"light\"}, \"paper_bgcolor\": \"white\", \"plot_bgcolor\": \"#E5ECF6\", \"polar\": {\"angularaxis\": {\"gridcolor\": \"white\", \"linecolor\": \"white\", \"ticks\": \"\"}, \"bgcolor\": \"#E5ECF6\", \"radialaxis\": {\"gridcolor\": \"white\", \"linecolor\": \"white\", \"ticks\": \"\"}}, \"scene\": {\"xaxis\": {\"backgroundcolor\": \"#E5ECF6\", \"gridcolor\": \"white\", \"gridwidth\": 2, \"linecolor\": \"white\", \"showbackground\": true, \"ticks\": \"\", \"zerolinecolor\": \"white\"}, \"yaxis\": {\"backgroundcolor\": \"#E5ECF6\", \"gridcolor\": \"white\", \"gridwidth\": 2, \"linecolor\": \"white\", \"showbackground\": true, \"ticks\": \"\", \"zerolinecolor\": \"white\"}, \"zaxis\": {\"backgroundcolor\": \"#E5ECF6\", \"gridcolor\": \"white\", \"gridwidth\": 2, \"linecolor\": \"white\", \"showbackground\": true, \"ticks\": \"\", \"zerolinecolor\": \"white\"}}, \"shapedefaults\": {\"line\": {\"color\": \"#2a3f5f\"}}, \"ternary\": {\"aaxis\": {\"gridcolor\": \"white\", \"linecolor\": \"white\", \"ticks\": \"\"}, \"baxis\": {\"gridcolor\": \"white\", \"linecolor\": \"white\", \"ticks\": \"\"}, \"bgcolor\": \"#E5ECF6\", \"caxis\": {\"gridcolor\": \"white\", \"linecolor\": \"white\", \"ticks\": \"\"}}, \"title\": {\"x\": 0.05}, \"xaxis\": {\"automargin\": true, \"gridcolor\": \"white\", \"linecolor\": \"white\", \"ticks\": \"\", \"title\": {\"standoff\": 15}, \"zerolinecolor\": \"white\", \"zerolinewidth\": 2}, \"yaxis\": {\"automargin\": true, \"gridcolor\": \"white\", \"linecolor\": \"white\", \"ticks\": \"\", \"title\": {\"standoff\": 15}, \"zerolinecolor\": \"white\", \"zerolinewidth\": 2}}}, \"title\": {\"font\": {\"color\": \"#4D5663\"}, \"text\": \"Top 100 bigrams after removing stop words\"}, \"xaxis\": {\"gridcolor\": \"#E1E5ED\", \"linecolor\": \"black\", \"showgrid\": true, \"tickfont\": {\"color\": \"#4D5663\"}, \"title\": {\"font\": {\"color\": \"#4D5663\"}, \"text\": \"\"}, \"zerolinecolor\": \"#E1E5ED\"}, \"yaxis\": {\"gridcolor\": \"#E1E5ED\", \"linecolor\": \"black\", \"showgrid\": true, \"tickfont\": {\"color\": \"#4D5663\"}, \"title\": {\"font\": {\"color\": \"#4D5663\"}, \"text\": \"Count\"}, \"zerolinecolor\": \"#E1E5ED\"}},                        {\"showLink\": true, \"linkText\": \"Export to plot.ly\", \"plotlyServerURL\": \"https://plot.ly\", \"responsive\": true}                    ).then(function(){\n",
       "                            \n",
       "var gd = document.getElementById('27f63547-cc74-4fec-bbba-8b3c85eadcd6');\n",
       "var x = new MutationObserver(function (mutations, observer) {{\n",
       "        var display = window.getComputedStyle(gd).display;\n",
       "        if (!display || display === 'none') {{\n",
       "            console.log([gd, 'removed!']);\n",
       "            Plotly.purge(gd);\n",
       "            observer.disconnect();\n",
       "        }}\n",
       "}});\n",
       "\n",
       "// Listen for the removal of the full notebook cells\n",
       "var notebookContainer = gd.closest('#notebook-container');\n",
       "if (notebookContainer) {{\n",
       "    x.observe(notebookContainer, {childList: true});\n",
       "}}\n",
       "\n",
       "// Listen for the clearing of the current output cell\n",
       "var outputEl = gd.closest('.output');\n",
       "if (outputEl) {{\n",
       "    x.observe(outputEl, {childList: true});\n",
       "}}\n",
       "\n",
       "                        })                };                });            </script>        </div>"
      ]
     },
     "metadata": {},
     "output_type": "display_data"
    }
   ],
   "source": [
    "plot_model(plot = 'bigram')"
   ]
  },
  {
   "cell_type": "code",
   "execution_count": 8,
   "metadata": {},
   "outputs": [],
   "source": [
    "# choose some meaningful bigram as topics\n",
    "topics = ['time traveller','electronic work','thick dust','time dimension','silent man']"
   ]
  },
  {
   "cell_type": "markdown",
   "metadata": {},
   "source": [
    "# Sentence Transformer\n"
   ]
  },
  {
   "cell_type": "markdown",
   "metadata": {},
   "source": [
    "We import the package Sentence Transformer and load the stsb-roberta-large model:"
   ]
  },
  {
   "cell_type": "code",
   "execution_count": 9,
   "metadata": {},
   "outputs": [],
   "source": [
    "from sentence_transformers import SentenceTransformer\n",
    "\n",
    "model = SentenceTransformer('stsb-roberta-large')"
   ]
  },
  {
   "cell_type": "markdown",
   "metadata": {},
   "source": [
    "We prepend 'supports' and 'opposes' to topics and create a dozen boolean predicate sentences:"
   ]
  },
  {
   "cell_type": "code",
   "execution_count": 10,
   "metadata": {},
   "outputs": [
    {
     "data": {
      "text/plain": [
       "['supports time traveller',\n",
       " 'opposes time traveller',\n",
       " 'supports electronic work',\n",
       " 'opposes electronic work',\n",
       " 'supports thick dust',\n",
       " 'opposes thick dust',\n",
       " 'supports time dimension',\n",
       " 'opposes time dimension',\n",
       " 'supports silent man',\n",
       " 'opposes silent man']"
      ]
     },
     "execution_count": 10,
     "metadata": {},
     "output_type": "execute_result"
    }
   ],
   "source": [
    "# generate beliefs\n",
    "beliefs = []\n",
    "\n",
    "for topic in topics:\n",
    "    pos_sentence = 'supports ' + topic\n",
    "    neg_sentence = 'opposes ' + topic\n",
    "    beliefs.append(pos_sentence)\n",
    "    beliefs.append(neg_sentence)\n",
    "\n",
    "beliefs"
   ]
  },
  {
   "cell_type": "markdown",
   "metadata": {},
   "source": [
    "We encode these sentences as BERT encodings:"
   ]
  },
  {
   "cell_type": "code",
   "execution_count": 11,
   "metadata": {},
   "outputs": [
    {
     "data": {
      "text/plain": [
       "(10, 1024)"
      ]
     },
     "execution_count": 11,
     "metadata": {},
     "output_type": "execute_result"
    }
   ],
   "source": [
    "beliefs_embeddings = model.encode(beliefs)\n",
    "beliefs_embeddings.shape"
   ]
  },
  {
   "cell_type": "code",
   "execution_count": 12,
   "metadata": {},
   "outputs": [
    {
     "data": {
      "text/plain": [
       "['I   The Time Traveller (for so it will be convenient to speak of him) was expounding a recondite matter to us',\n",
       " ' His grey eyes shone and twinkled, and his usually pale face was flushed and animated',\n",
       " ' The fire burned brightly, and the soft radiance of the incandescent lights in the lilies of silver caught the bubbles that flashed and passed in our glasses',\n",
       " ' Our chairs, being his patents, embraced and caressed us rather than submitted to be sat upon, and there was that luxurious after dinner atmosphere when thought roams gracefully free of the trammels of precision',\n",
       " ' And he put it to us in this way  marking the points with a lean forefinger  as we sat and lazily admired his earnestness over this new paradox (as we thought it) and his fecundity',\n",
       " \"  'You must follow me carefully\",\n",
       " ' I shall have to controvert one or two ideas that are almost universally accepted',\n",
       " ' The geometry, for instance, they taught you at school is founded on a misconception',\n",
       " \"'  'Is not that rather a large thing to expect us to begin upon?' said Filby, an argumentative person with red hair\",\n",
       " \"  'I do not mean to ask you to accept anything without reasonable ground for it\",\n",
       " ' You will soon admit as much as I need from you',\n",
       " ' You know of course that a mathematical line, a line of thickness  nil , has no real existence',\n",
       " ' They taught you that? Neither has a mathematical plane',\n",
       " ' These things are mere abstractions',\n",
       " \"'  'That is all right,' said the Psychologist\",\n",
       " \"  'Nor, having only length, breadth, and thickness, can a cube have a real existence\",\n",
       " \"'  'There I object,' said Filby\",\n",
       " \" 'Of course a solid body may exist\",\n",
       " \" All real things  '  'So most people think\",\n",
       " ' But wait a moment',\n",
       " \" Can an  instantaneous  cube exist?'  'Don't follow you,' said Filby\",\n",
       " \"  'Can a cube that does not last for any time at all, have a real existence?'  Filby became pensive\",\n",
       " \" 'Clearly,' the Time Traveller proceeded, 'any real body must have extension in  four  directions: it must have Length, Breadth, Thickness, and  Duration\",\n",
       " ' But through a natural infirmity of the flesh, which I will explain to you in a moment, we incline to overlook this fact',\n",
       " ' There are really four dimensions, three which we call the three planes of Space, and a fourth, Time',\n",
       " ' There is, however, a tendency to draw an unreal distinction between the former three dimensions and the latter, because it happens that our consciousness moves intermittently in one direction along the latter from the beginning to the end of our lives',\n",
       " \"'  'That,' said a very young man, making spasmodic efforts to relight his cigar over the lamp; 'that \",\n",
       " '',\n",
       " '',\n",
       " ' very clear indeed',\n",
       " \"'  'Now, it is very remarkable that this is so extensively overlooked,' continued the Time Traveller, with a slight accession of cheerfulness\",\n",
       " \" 'Really this is what is meant by the Fourth Dimension, though some people who talk about the Fourth Dimension do not know they mean it\",\n",
       " ' It is only another way of looking at Time',\n",
       " '  There is no difference between Time and any of the three dimensions of Space except that our consciousness moves along it ',\n",
       " ' But some foolish people have got hold of the wrong side of that idea',\n",
       " \" You have all heard what they have to say about this Fourth Dimension?'  ' I  have not,' said the Provincial Mayor\",\n",
       " \"  'It is simply this\",\n",
       " ' That Space, as our mathematicians have it, is spoken of as having three dimensions, which one may call Length, Breadth, and Thickness, and is always definable by reference to three planes, each at right angles to the others',\n",
       " ' But some philosophical people have been asking why  three  dimensions particularly  why not another direction at right angles to the other three?  and have even tried to construct a Four Dimension geometry',\n",
       " ' Professor Simon Newcomb was expounding this to the New York Mathematical Society only a month or so ago',\n",
       " ' You know how on a flat surface, which has only two dimensions, we can represent a figure of a three dimensional solid, and similarly they think that by models of three dimensions they could represent one of four  if they could master the perspective of the thing',\n",
       " \" See?'  'I think so,' murmured the Provincial Mayor; and, knitting his brows, he lapsed into an introspective state, his lips moving as one who repeats mystic words\",\n",
       " \" 'Yes, I think I see it now,' he said after some time, brightening in a quite transitory manner\",\n",
       " \"  'Well, I do not mind telling you I have been at work upon this geometry of Four Dimensions for some time\",\n",
       " ' Some of my results are curious',\n",
       " ' For instance, here is a portrait of a man at eight years old, another at fifteen, another at seventeen, another at twenty three, and so on',\n",
       " ' All these are evidently sections, as it were, Three Dimensional representations of his Four Dimensioned being, which is a fixed and unalterable thing',\n",
       " \"  'Scientific people,' proceeded the Time Traveller, after the pause required for the proper assimilation of this, 'know very well that Time is only a kind of Space\",\n",
       " ' Here is a popular scientific diagram, a weather record',\n",
       " ' This line I trace with my finger shows the movement of the barometer',\n",
       " ' Yesterday it was so high, yesterday night it fell, then this morning it rose again, and so gently upward to here',\n",
       " ' Surely the mercury did not trace this line in any of the dimensions of Space generally recognized? But certainly it traced such a line, and that line, therefore, we must conclude was along the Time Dimension',\n",
       " \"'  'But,' said the Medical Man, staring hard at a coal in the fire, 'if Time is really only a fourth dimension of Space, why is it, and why has it always been, regarded as something different? And why cannot we move in Time as we move about in the other dimensions of Space?'  The Time Traveller smiled\",\n",
       " \" 'Are you sure we can move freely in Space? Right and left we can go, backward and forward freely enough, and men always have done so\",\n",
       " ' I admit we move freely in two dimensions',\n",
       " ' But how about up and down? Gravitation limits us there',\n",
       " \"'  'Not exactly,' said the Medical Man\",\n",
       " \" 'There are balloons\",\n",
       " \"'  'But before the balloons, save for spasmodic jumping and the inequalities of the surface, man had no freedom of vertical movement\",\n",
       " \"'  'Still they could move a little up and down,' said the Medical Man\",\n",
       " \"  'Easier, far easier down than up\",\n",
       " \"'  'And you cannot move at all in Time, you cannot get away from the present moment\",\n",
       " \"'  'My dear sir, that is just where you are wrong\",\n",
       " ' That is just where the whole world has gone wrong',\n",
       " ' We are always getting away from the present moment',\n",
       " ' Our mental existences, which are immaterial and have no dimensions, are passing along the Time Dimension with a uniform velocity from the cradle to the grave',\n",
       " \" Just as we should travel  down  if we began our existence fifty miles above the earth's surface\",\n",
       " \"'  'But the great difficulty is this,' interrupted the Psychologist\",\n",
       " \" 'You  can  move about in all directions of Space, but you cannot move about in Time\",\n",
       " \"'  'That is the germ of my great discovery\",\n",
       " ' But you are wrong to say that we cannot move about in Time',\n",
       " ' For instance, if I am recalling an incident very vividly I go back to the instant of its occurrence: I become absent minded, as you say',\n",
       " ' I jump back for a moment',\n",
       " ' Of course we have no means of staying back for any length of Time, any more than a savage or an animal has of staying six feet above the ground',\n",
       " ' But a civilized man is better off than the savage in this respect',\n",
       " \" He can go up against gravitation in a balloon, and why should he not hope that ultimately he may be able to stop or accelerate his drift along the Time Dimension, or even turn about and travel the other way?'  'Oh,  this ,' began Filby, 'is all  '  'Why not?' said the Time Traveller\",\n",
       " \"  'It's against reason,' said Filby\",\n",
       " \"  'What reason?' said the Time Traveller\",\n",
       " \"  'You can show black is white by argument,' said Filby, 'but you will never convince me\",\n",
       " \"'  'Possibly not,' said the Time Traveller\",\n",
       " \" 'But now you begin to see the object of my investigations into the geometry of Four Dimensions\",\n",
       " \" Long ago I had a vague inkling of a machine  '  'To travel through Time!' exclaimed the Very Young Man\",\n",
       " \"  'That shall travel indifferently in any direction of Space and Time, as the driver determines\",\n",
       " \"'  Filby contented himself with laughter\",\n",
       " \"  'But I have experimental verification,' said the Time Traveller\",\n",
       " \"  'It would be remarkably convenient for the historian,' the Psychologist suggested\",\n",
       " \" 'One might travel back and verify the accepted account of the Battle of Hastings, for instance!'  'Don't you think you would attract attention?' said the Medical Man\",\n",
       " \" 'Our ancestors had no great tolerance for anachronisms\",\n",
       " \"'  'One might get one's Greek from the very lips of Homer and Plato,' the Very Young Man thought\",\n",
       " \"  'In which case they would certainly plough you for the Little go\",\n",
       " ' The German scholars have improved Greek so much',\n",
       " \"'  'Then there is the future,' said the Very Young Man\",\n",
       " \" 'Just think! One might invest all one's money, leave it to accumulate at interest, and hurry on ahead!'  'To discover a society,' said I, 'erected on a strictly communistic basis\",\n",
       " \"'  'Of all the wild extravagant theories!' began the Psychologist\",\n",
       " \"  'Yes, so it seemed to me, and so I never talked of it until  '  'Experimental verification!' cried I\",\n",
       " \" 'You are going to verify  that ?'  'The experiment!' cried Filby, who was getting brain weary\",\n",
       " \"  'Let's see your experiment anyhow,' said the Psychologist, 'though it's all humbug, you know\",\n",
       " \"'  The Time Traveller smiled round at us\",\n",
       " ' Then, still smiling faintly, and with his hands deep in his trousers pockets, he walked slowly out of the room, and we heard his slippers shuffling down the long passage to his laboratory',\n",
       " '  The Psychologist looked at us',\n",
       " \" 'I wonder what he's got?'  'Some sleight of hand trick or other,' said the Medical Man, and Filby tried to tell us about a conjurer he had seen at Burslem; but before he had finished his preface the Time Traveller came back, and Filby's anecdote collapsed\",\n",
       " '  The thing the Time Traveller held in his hand was a glittering metallic framework, scarcely larger than a small clock, and very delicately made',\n",
       " ' There was ivory in it, and some transparent crystalline substance',\n",
       " ' And now I must be explicit, for this that follows  unless his explanation is to be accepted  is an absolutely unaccountable thing',\n",
       " ' He took one of the small octagonal tables that were scattered about the room, and set it in front of the fire, with two legs on the hearthrug',\n",
       " ' On this table he placed the mechanism',\n",
       " ' Then he drew up a chair, and sat down',\n",
       " ' The only other object on the table was a small shaded lamp, the bright light of which fell upon the model',\n",
       " ' There were also perhaps a dozen candles about, two in brass candlesticks upon the mantel and several in sconces, so that the room was brilliantly illuminated',\n",
       " ' I sat in a low arm chair nearest the fire, and I drew this forward so as to be almost between the Time Traveller and the fireplace',\n",
       " ' Filby sat behind him, looking over his shoulder',\n",
       " ' The Medical Man and the Provincial Mayor watched him in profile from the right, the Psychologist from the left',\n",
       " ' The Very Young Man stood behind the Psychologist',\n",
       " ' We were all on the alert',\n",
       " ' It appears incredible to me that any kind of trick, however subtly conceived and however adroitly done, could have been played upon us under these conditions',\n",
       " '  The Time Traveller looked at us, and then at the mechanism',\n",
       " \" 'Well?' said the Psychologist\",\n",
       " \"  'This little affair,' said the Time Traveller, resting his elbows upon the table and pressing his hands together above the apparatus, 'is only a model\",\n",
       " ' It is my plan for a machine to travel through time',\n",
       " ' You will notice that it looks singularly askew, and that there is an odd twinkling appearance about this bar, as though it was in some way unreal',\n",
       " \"' He pointed to the part with his finger\",\n",
       " \" 'Also, here is one little white lever, and here is another\",\n",
       " \"'  The Medical Man got up out of his chair and peered into the thing\",\n",
       " \" 'It's beautifully made,' he said\",\n",
       " \"  'It took two years to make,' retorted the Time Traveller\",\n",
       " \" Then, when we had all imitated the action of the Medical Man, he said: 'Now I want you clearly to understand that this lever, being pressed over, sends the machine gliding into the future, and this other reverses the motion\",\n",
       " ' This saddle represents the seat of a time traveller',\n",
       " ' Presently I am going to press the lever, and off the machine will go',\n",
       " ' It will vanish, pass into future Time, and disappear',\n",
       " ' Have a good look at the thing',\n",
       " ' Look at the table too, and satisfy yourselves there is no trickery',\n",
       " \" I don't want to waste this model, and then be told I'm a quack\",\n",
       " \"'  There was a minute's pause perhaps\",\n",
       " ' The Psychologist seemed about to speak to me, but changed his mind',\n",
       " ' Then the Time Traveller put forth his finger towards the lever',\n",
       " \" 'No,' he said suddenly\",\n",
       " \" 'Lend me your hand\",\n",
       " \"' And turning to the Psychologist, he took that individual's hand in his own and told him to put out his forefinger\",\n",
       " ' So that it was the Psychologist himself who sent forth the model Time Machine on its interminable voyage',\n",
       " ' We all saw the lever turn',\n",
       " ' I am absolutely certain there was no trickery',\n",
       " ' There was a breath of wind, and the lamp flame jumped',\n",
       " ' One of the candles on the mantel was blown out, and the little machine suddenly swung round, became indistinct, was seen as a ghost for a second perhaps, as an eddy of faintly glittering brass and ivory; and it was gone  vanished! Save for the lamp the table was bare',\n",
       " '  Everyone was silent for a minute',\n",
       " ' Then Filby said he was damned',\n",
       " '  The Psychologist recovered from his stupor, and suddenly looked under the table',\n",
       " ' At that the Time Traveller laughed cheerfully',\n",
       " \" 'Well?' he said, with a reminiscence of the Psychologist\",\n",
       " ' Then, getting up, he went to the tobacco jar on the mantel, and with his back to us began to fill his pipe',\n",
       " '  We stared at each other',\n",
       " \" 'Look here,' said the Medical Man, 'are you in earnest about this? Do you seriously believe that that machine has travelled into time?'  'Certainly,' said the Time Traveller, stooping to light a spill at the fire\",\n",
       " \" Then he turned, lighting his pipe, to look at the Psychologist's face\",\n",
       " ' (The Psychologist, to show that he was not unhinged, helped himself to a cigar and tried to light it uncut',\n",
       " \") 'What is more, I have a big machine nearly finished in there'  he indicated the laboratory  'and when that is put together I mean to have a journey on my own account\",\n",
       " \"'  'You mean to say that that machine has travelled into the future?' said Filby\",\n",
       " \"  'Into the future or the past  I don't, for certain, know which\",\n",
       " \"'  After an interval the Psychologist had an inspiration\",\n",
       " \" 'It must have gone into the past if it has gone anywhere,' he said\",\n",
       " \"  'Why?' said the Time Traveller\",\n",
       " \"  'Because I presume that it has not moved in space, and if it travelled into the future it would still be here all this time, since it must have travelled through this time\",\n",
       " \"'  'But,' I said, 'If it travelled into the past it would have been visible when we came first into this room; and last Thursday when we were here; and the Thursday before that; and so forth!'  'Serious objections,' remarked the Provincial Mayor, with an air of impartiality, turning towards the Time Traveller\",\n",
       " \"  'Not a bit,' said the Time Traveller, and, to the Psychologist: 'You think\",\n",
       " ' You can explain that',\n",
       " \" It's presentation below the threshold, you know, diluted presentation\",\n",
       " \"'  'Of course,' said the Psychologist, and reassured us\",\n",
       " \" 'That's a simple point of psychology\",\n",
       " ' I should have thought of it',\n",
       " \" It's plain enough, and helps the paradox delightfully\",\n",
       " ' We cannot see it, nor can we appreciate this machine, any more than we can the spoke of a wheel spinning, or a bullet flying through the air',\n",
       " ' If it is travelling through time fifty times or a hundred times faster than we are, if it gets through a minute while we get through a second, the impression it creates will of course be only one fiftieth or one hundredth of what it would make if it were not travelling in time',\n",
       " \" That's plain enough\",\n",
       " \"' He passed his hand through the space in which the machine had been\",\n",
       " \" 'You see?' he said, laughing\",\n",
       " '  We sat and stared at the vacant table for a minute or so',\n",
       " ' Then the Time Traveller asked us what we thought of it all',\n",
       " \"  'It sounds plausible enough to night,' said the Medical Man; 'but wait until to morrow\",\n",
       " ' Wait for the common sense of the morning',\n",
       " \"'  'Would you like to see the Time Machine itself?' asked the Time Traveller\",\n",
       " ' And therewith, taking the lamp in his hand, he led the way down the long, draughty corridor to his laboratory',\n",
       " ' I remember vividly the flickering light, his queer, broad head in silhouette, the dance of the shadows, how we all followed him, puzzled but incredulous, and how there in the laboratory we beheld a larger edition of the little mechanism which we had seen vanish from before our eyes',\n",
       " ' Parts were of nickel, parts of ivory, parts had certainly been filed or sawn out of rock crystal',\n",
       " ' The thing was generally complete, but the twisted crystalline bars lay unfinished upon the bench beside some sheets of drawings, and I took one up for a better look at it',\n",
       " ' Quartz it seemed to be',\n",
       " \"  'Look here,' said the Medical Man, 'are you perfectly serious? Or is this a trick  like that ghost you showed us last Christmas?'  'Upon that machine,' said the Time Traveller, holding the lamp aloft, 'I intend to explore time\",\n",
       " ' Is that plain? I was never more serious in my life',\n",
       " \"'  None of us quite knew how to take it\",\n",
       " \"  I caught Filby's eye over the shoulder of the Medical Man, and he winked at me solemnly\",\n",
       " '     II   I think that at that time none of us quite believed in the Time Machine',\n",
       " ' The fact is, the Time Traveller was one of those men who are too clever to be believed: you never felt that you saw all round him; you always suspected some subtle reserve, some ingenuity in ambush, behind his lucid frankness',\n",
       " \" Had Filby shown the model and explained the matter in the Time Traveller's words, we should have shown  him  far less scepticism\",\n",
       " ' For we should have perceived his motives; a pork butcher could understand Filby',\n",
       " ' But the Time Traveller had more than a touch of whim among his elements, and we distrusted him',\n",
       " ' Things that would have made the frame of a less clever man seemed tricks in his hands',\n",
       " ' It is a mistake to do things too easily',\n",
       " ' The serious people who took him seriously never felt quite sure of his deportment; they were somehow aware that trusting their reputations for judgment with him was like furnishing a nursery with egg shell china',\n",
       " \" So I don't think any of us said very much about time travelling in the interval between that Thursday and the next, though its odd potentialities ran, no doubt, in most of our minds: its plausibility, that is, its practical incredibleness, the curious possibilities of anachronism and of utter confusion it suggested\",\n",
       " ' For my own part, I was particularly preoccupied with the trick of the model',\n",
       " ' That I remember discussing with the Medical Man, whom I met on Friday at the Linnaean',\n",
       " ' He said he had seen a similar thing at Tubingen, and laid considerable stress on the blowing out of the candle',\n",
       " ' But how the trick was done he could not explain',\n",
       " \"  The next Thursday I went again to Richmond  I suppose I was one of the Time Traveller's most constant guests  and, arriving late, found four or five men already assembled in his drawing room\",\n",
       " ' The Medical Man was standing before the fire with a sheet of paper in one hand and his watch in the other',\n",
       " \" I looked round for the Time Traveller, and  'It's half past seven now,' said the Medical Man\",\n",
       " \" 'I suppose we'd better have dinner?'  'Where's    ?' said I, naming our host\",\n",
       " \"  'You've just come? It's rather odd\",\n",
       " \" He's unavoidably detained\",\n",
       " \" He asks me in this note to lead off with dinner at seven if he's not back\",\n",
       " \" Says he'll explain when he comes\",\n",
       " \"'  'It seems a pity to let the dinner spoil,' said the Editor of a well known daily paper; and thereupon the Doctor rang the bell\",\n",
       " '  The Psychologist was the only person besides the Doctor and myself who had attended the previous dinner',\n",
       " \" The other men were Blank, the Editor aforementioned, a certain journalist, and another  a quiet, shy man with a beard  whom I didn't know, and who, as far as my observation went, never opened his mouth all the evening\",\n",
       " \" There was some speculation at the dinner table about the Time Traveller's absence, and I suggested time travelling, in a half jocular spirit\",\n",
       " \" The Editor wanted that explained to him, and the Psychologist volunteered a wooden account of the 'ingenious paradox and trick' we had witnessed that day week\",\n",
       " ' He was in the midst of his exposition when the door from the corridor opened slowly and without noise',\n",
       " ' I was facing the door, and saw it first',\n",
       " \" 'Hallo!' I said\",\n",
       " \" 'At last!' And the door opened wider, and the Time Traveller stood before us\",\n",
       " ' I gave a cry of surprise',\n",
       " \" 'Good heavens! man, what's the matter?' cried the Medical Man, who saw him next\",\n",
       " ' And the whole tableful turned towards the door',\n",
       " '  He was in an amazing plight',\n",
       " ' His coat was dusty and dirty, and smeared with green down the sleeves; his hair disordered, and as it seemed to me greyer  either with dust and dirt or because its colour had actually faded',\n",
       " ' His face was ghastly pale; his chin had a brown cut on it  a cut half healed; his expression was haggard and drawn, as by intense suffering',\n",
       " ' For a moment he hesitated in the doorway, as if he had been dazzled by the light',\n",
       " ' Then he came into the room',\n",
       " ' He walked with just such a limp as I have seen in footsore tramps',\n",
       " ' We stared at him in silence, expecting him to speak',\n",
       " '  He said not a word, but came painfully to the table, and made a motion towards the wine',\n",
       " ' The Editor filled a glass of champagne, and pushed it towards him',\n",
       " ' He drained it, and it seemed to do him good: for he looked round the table, and the ghost of his old smile flickered across his face',\n",
       " \" 'What on earth have you been up to, man?' said the Doctor\",\n",
       " ' The Time Traveller did not seem to hear',\n",
       " \" 'Don't let me disturb you,' he said, with a certain faltering articulation\",\n",
       " \" 'I'm all right\",\n",
       " \"' He stopped, held out his glass for more, and took it off at a draught\",\n",
       " \" 'That's good,' he said\",\n",
       " ' His eyes grew brighter, and a faint colour came into his cheeks',\n",
       " ' His glance flickered over our faces with a certain dull approval, and then went round the warm and comfortable room',\n",
       " ' Then he spoke again, still as it were feeling his way among his words',\n",
       " \" 'I'm going to wash and dress, and then I'll come down and explain things \",\n",
       " '',\n",
       " '',\n",
       " ' Save me some of that mutton',\n",
       " \" I'm starving for a bit of meat\",\n",
       " \"'  He looked across at the Editor, who was a rare visitor, and hoped he was all right\",\n",
       " ' The Editor began a question',\n",
       " \" 'Tell you presently,' said the Time Traveller\",\n",
       " \" 'I'm  funny! Be all right in a minute\",\n",
       " \"'  He put down his glass, and walked towards the staircase door\",\n",
       " ' Again I remarked his lameness and the soft padding sound of his footfall, and standing up in my place, I saw his feet as he went out',\n",
       " ' He had nothing on them but a pair of tattered, blood stained socks',\n",
       " ' Then the door closed upon him',\n",
       " ' I had half a mind to follow, till I remembered how he detested any fuss about himself',\n",
       " ' For a minute, perhaps, my mind was wool gathering',\n",
       " \" Then, 'Remarkable Behaviour of an Eminent Scientist,' I heard the Editor say, thinking (after his wont) in headlines\",\n",
       " ' And this brought my attention back to the bright dinner table',\n",
       " \"  'What's the game?' said the Journalist\",\n",
       " \" 'Has he been doing the Amateur Cadger? I don't follow\",\n",
       " \"' I met the eye of the Psychologist, and read my own interpretation in his face\",\n",
       " ' I thought of the Time Traveller limping painfully upstairs',\n",
       " \" I don't think any one else had noticed his lameness\",\n",
       " '  The first to recover completely from this surprise was the Medical Man, who rang the bell  the Time Traveller hated to have servants waiting at dinner  for a hot plate',\n",
       " ' At that the Editor turned to his knife and fork with a grunt, and the Silent Man followed suit',\n",
       " ' The dinner was resumed',\n",
       " ' Conversation was exclamatory for a little while, with gaps of wonderment; and then the Editor got fervent in his curiosity',\n",
       " \" 'Does our friend eke out his modest income with a crossing? or has he his Nebuchadnezzar phases?' he inquired\",\n",
       " \" 'I feel assured it's this business of the Time Machine,' I said, and took up the Psychologist's account of our previous meeting\",\n",
       " ' The new guests were frankly incredulous',\n",
       " ' The Editor raised objections',\n",
       " \" 'What  was  this time travelling? A man couldn't cover himself with dust by rolling in a paradox, could he?' And then, as the idea came home to him, he resorted to caricature\",\n",
       " \" Hadn't they any clothes brushes in the Future? The Journalist too, would not believe at any price, and joined the Editor in the easy work of heaping ridicule on the whole thing\",\n",
       " ' They were both the new kind of journalist  very joyous, irreverent young men',\n",
       " \" 'Our Special Correspondent in the Day after To morrow reports,' the Journalist was saying  or rather shouting  when the Time Traveller came back\",\n",
       " ' He was dressed in ordinary evening clothes, and nothing save his haggard look remained of the change that had startled me',\n",
       " \"  'I say,' said the Editor hilariously, 'these chaps here say you have been travelling into the middle of next week! Tell us all about little Rosebery, will you? What will you take for the lot?'  The Time Traveller came to the place reserved for him without a word\",\n",
       " ' He smiled quietly, in his old way',\n",
       " \" 'Where's my mutton?' he said\",\n",
       " \" 'What a treat it is to stick a fork into meat again!'  'Story!' cried the Editor\",\n",
       " \"  'Story be damned!' said the Time Traveller\",\n",
       " \" 'I want something to eat\",\n",
       " \" I won't say a word until I get some peptone into my arteries\",\n",
       " ' Thanks',\n",
       " ' And the salt',\n",
       " \"'  'One word,' said I\",\n",
       " \" 'Have you been time travelling?'  'Yes,' said the Time Traveller, with his mouth full, nodding his head\",\n",
       " \"  'I'd give a shilling a line for a verbatim note,' said the Editor\",\n",
       " ' The Time Traveller pushed his glass towards the Silent Man and rang it with his fingernail; at which the Silent Man, who had been staring at his face, started convulsively, and poured him wine',\n",
       " ' The rest of the dinner was uncomfortable',\n",
       " ' For my own part, sudden questions kept on rising to my lips, and I dare say it was the same with the others',\n",
       " ' The Journalist tried to relieve the tension by telling anecdotes of Hettie Potter',\n",
       " ' The Time Traveller devoted his attention to his dinner, and displayed the appetite of a tramp',\n",
       " ' The Medical Man smoked a cigarette, and watched the Time Traveller through his eyelashes',\n",
       " ' The Silent Man seemed even more clumsy than usual, and drank champagne with regularity and determination out of sheer nervousness',\n",
       " ' At last the Time Traveller pushed his plate away, and looked round us',\n",
       " \" 'I suppose I must apologize,' he said\",\n",
       " \" 'I was simply starving\",\n",
       " \" I've had a most amazing time\",\n",
       " \"' He reached out his hand for a cigar, and cut the end\",\n",
       " \" 'But come into the smoking room\",\n",
       " \" It's too long a story to tell over greasy plates\",\n",
       " \"' And ringing the bell in passing, he led the way into the adjoining room\",\n",
       " \"  'You have told Blank, and Dash, and Chose about the machine?' he said to me, leaning back in his easy chair and naming the three new guests\",\n",
       " \"  'But the thing's a mere paradox,' said the Editor\",\n",
       " \"  'I can't argue to night\",\n",
       " \" I don't mind telling you the story, but I can't argue\",\n",
       " \" I will,' he went on, 'tell you the story of what has happened to me, if you like, but you must refrain from interruptions\",\n",
       " ' I want to tell it',\n",
       " ' Badly',\n",
       " ' Most of it will sound like lying',\n",
       " \" So be it! It's true  every word of it, all the same\",\n",
       " \" I was in my laboratory at four o'clock, and since then \",\n",
       " '',\n",
       " '',\n",
       " \" I've lived eight days \",\n",
       " '',\n",
       " '',\n",
       " \" such days as no human being ever lived before! I'm nearly worn out, but I shan't sleep till I've told this thing over to you\",\n",
       " ' Then I shall go to bed',\n",
       " \" But no interruptions! Is it agreed?'  'Agreed,' said the Editor, and the rest of us echoed 'Agreed\",\n",
       " \"' And with that the Time Traveller began his story as I have set it forth\",\n",
       " ' He sat back in his chair at first, and spoke like a weary man',\n",
       " ' Afterwards he got more animated',\n",
       " ' In writing it down I feel with only too much keenness the inadequacy of pen and ink  and, above all, my own inadequacy  to express its quality',\n",
       " \" You read, I will suppose, attentively enough; but you cannot see the speaker's white, sincere face in the bright circle of the little lamp, nor hear the intonation of his voice\",\n",
       " ' You cannot know how his expression followed the turns of his story! Most of us hearers were in shadow, for the candles in the smoking room had not been lighted, and only the face of the Journalist and the legs of the Silent Man from the knees downward were illuminated',\n",
       " ' At first we glanced now and again at each other',\n",
       " \" After a time we ceased to do that, and looked only at the Time Traveller's face\",\n",
       " \"     III   'I told some of you last Thursday of the principles of the Time Machine, and showed you the actual thing itself, incomplete in the workshop\",\n",
       " \" There it is now, a little travel worn, truly; and one of the ivory bars is cracked, and a brass rail bent; but the rest of it's sound enough\",\n",
       " ' I expected to finish it on Friday, but on Friday, when the putting together was nearly done, I found that one of the nickel bars was exactly one inch too short, and this I had to get remade; so that the thing was not complete until this morning',\n",
       " \" It was at ten o'clock to day that the first of all Time Machines began its career\",\n",
       " ' I gave it a last tap, tried all the screws again, put one more drop of oil on the quartz rod, and sat myself in the saddle',\n",
       " ' I suppose a suicide who holds a pistol to his skull feels much the same wonder at what will come next as I felt then',\n",
       " ' I took the starting lever in one hand and the stopping one in the other, pressed the first, and almost immediately the second',\n",
       " ' I seemed to reel; I felt a nightmare sensation of falling; and, looking round, I saw the laboratory exactly as before',\n",
       " ' Had anything happened? For a moment I suspected that my intellect had tricked me',\n",
       " ' Then I noted the clock',\n",
       " \" A moment before, as it seemed, it had stood at a minute or so past ten; now it was nearly half past three!  'I drew a breath, set my teeth, gripped the starting lever with both hands, and went off with a thud\",\n",
       " ' The laboratory got hazy and went dark',\n",
       " ' Mrs',\n",
       " ' Watchett came in and walked, apparently without seeing me, towards the garden door',\n",
       " ' I suppose it took her a minute or so to traverse the place, but to me she seemed to shoot across the room like a rocket',\n",
       " ' I pressed the lever over to its extreme position',\n",
       " ' The night came like the turning out of a lamp, and in another moment came to morrow',\n",
       " ' The laboratory grew faint and hazy, then fainter and ever fainter',\n",
       " ' To morrow night came black, then day again, night again, day again, faster and faster still',\n",
       " ' An eddying murmur filled my ears, and a strange, dumb confusedness descended on my mind',\n",
       " \"  'I am afraid I cannot convey the peculiar sensations of time travelling\",\n",
       " ' They are excessively unpleasant',\n",
       " ' There is a feeling exactly like that one has upon a switchback  of a helpless headlong motion! I felt the same horrible anticipation, too, of an imminent smash',\n",
       " ' As I put on pace, night followed day like the flapping of a black wing',\n",
       " ' The dim suggestion of the laboratory seemed presently to fall away from me, and I saw the sun hopping swiftly across the sky, leaping it every minute, and every minute marking a day',\n",
       " ' I supposed the laboratory had been destroyed and I had come into the open air',\n",
       " ' I had a dim impression of scaffolding, but I was already going too fast to be conscious of any moving things',\n",
       " ' The slowest snail that ever crawled dashed by too fast for me',\n",
       " ' The twinkling succession of darkness and light was excessively painful to the eye',\n",
       " ' Then, in the intermittent darknesses, I saw the moon spinning swiftly through her quarters from new to full, and had a faint glimpse of the circling stars',\n",
       " ' Presently, as I went on, still gaining velocity, the palpitation of night and day merged into one continuous greyness; the sky took on a wonderful deepness of blue, a splendid luminous color like that of early twilight; the jerking sun became a streak of fire, a brilliant arch, in space; the moon a fainter fluctuating band; and I could see nothing of the stars, save now and then a brighter circle flickering in the blue',\n",
       " \"  'The landscape was misty and vague\",\n",
       " ' I was still on the hill side upon which this house now stands, and the shoulder rose above me grey and dim',\n",
       " ' I saw trees growing and changing like puffs of vapour, now brown, now green; they grew, spread, shivered, and passed away',\n",
       " ' I saw huge buildings rise up faint and fair, and pass like dreams',\n",
       " ' The whole surface of the earth seemed changed  melting and flowing under my eyes',\n",
       " ' The little hands upon the dials that registered my speed raced round faster and faster',\n",
       " ' Presently I noted that the sun belt swayed up and down, from solstice to solstice, in a minute or less, and that consequently my pace was over a year a minute; and minute by minute the white snow flashed across the world, and vanished, and was followed by the bright, brief green of spring',\n",
       " \"  'The unpleasant sensations of the start were less poignant now\",\n",
       " ' They merged at last into a kind of hysterical exhilaration',\n",
       " ' I remarked indeed a clumsy swaying of the machine, for which I was unable to account',\n",
       " ' But my mind was too confused to attend to it, so with a kind of madness growing upon me, I flung myself into futurity',\n",
       " ' At first I scarce thought of stopping, scarce thought of anything but these new sensations',\n",
       " ' But presently a fresh series of impressions grew up in my mind  a certain curiosity and therewith a certain dread  until at last they took complete possession of me',\n",
       " ' What strange developments of humanity, what wonderful advances upon our rudimentary civilization, I thought, might not appear when I came to look nearly into the dim elusive world that raced and fluctuated before my eyes! I saw great and splendid architecture rising about me, more massive than any buildings of our own time, and yet, as it seemed, built of glimmer and mist',\n",
       " ' I saw a richer green flow up the hill side, and remain there, without any wintry intermission',\n",
       " ' Even through the veil of my confusion the earth seemed very fair',\n",
       " ' And so my mind came round to the business of stopping',\n",
       " \"  'The peculiar risk lay in the possibility of my finding some substance in the space which I, or the machine, occupied\",\n",
       " ' So long as I travelled at a high velocity through time, this scarcely mattered; I was, so to speak, attenuated  was slipping like a vapour through the interstices of intervening substances! But to come to a stop involved the jamming of myself, molecule by molecule, into whatever lay in my way; meant bringing my atoms into such intimate contact with those of the obstacle that a profound chemical reaction  possibly a far reaching explosion  would result, and blow myself and my apparatus out of all possible dimensions  into the Unknown',\n",
       " ' This possibility had occurred to me again and again while I was making the machine; but then I had cheerfully accepted it as an unavoidable risk  one of the risks a man has got to take! Now the risk was inevitable, I no longer saw it in the same cheerful light',\n",
       " ' The fact is that, insensibly, the absolute strangeness of everything, the sickly jarring and swaying of the machine, above all, the feeling of prolonged falling, had absolutely upset my nerve',\n",
       " ' I told myself that I could never stop, and with a gust of petulance I resolved to stop forthwith',\n",
       " ' Like an impatient fool, I lugged over the lever, and incontinently the thing went reeling over, and I was flung headlong through the air',\n",
       " \"  'There was the sound of a clap of thunder in my ears\",\n",
       " ' I may have been stunned for a moment',\n",
       " ' A pitiless hail was hissing round me, and I was sitting on soft turf in front of the overset machine',\n",
       " ' Everything still seemed grey, but presently I remarked that the confusion in my ears was gone',\n",
       " ' I looked round me',\n",
       " ' I was on what seemed to be a little lawn in a garden, surrounded by rhododendron bushes, and I noticed that their mauve and purple blossoms were dropping in a shower under the beating of the hail stones',\n",
       " ' The rebounding, dancing hail hung in a cloud over the machine, and drove along the ground like smoke',\n",
       " ' In a moment I was wet to the skin',\n",
       " ' \"Fine hospitality,\" said I, \"to a man who has travelled innumerable years to see you',\n",
       " '\"  \\'Presently I thought what a fool I was to get wet',\n",
       " ' I stood up and looked round me',\n",
       " ' A colossal figure, carved apparently in some white stone, loomed indistinctly beyond the rhododendrons through the hazy downpour',\n",
       " ' But all else of the world was invisible',\n",
       " \"  'My sensations would be hard to describe\",\n",
       " ' As the columns of hail grew thinner, I saw the white figure more distinctly',\n",
       " ' It was very large, for a silver birch tree touched its shoulder',\n",
       " ' It was of white marble, in shape something like a winged sphinx, but the wings, instead of being carried vertically at the sides, were spread so that it seemed to hover',\n",
       " ' The pedestal, it appeared to me, was of bronze, and was thick with verdigris',\n",
       " ' It chanced that the face was towards me; the sightless eyes seemed to watch me; there was the faint shadow of a smile on the lips',\n",
       " ' It was greatly weather worn, and that imparted an unpleasant suggestion of disease',\n",
       " ' I stood looking at it for a little space  half a minute, perhaps, or half an hour',\n",
       " ' It seemed to advance and to recede as the hail drove before it denser or thinner',\n",
       " ' At last I tore my eyes from it for a moment and saw that the hail curtain had worn threadbare, and that the sky was lightening with the promise of the sun',\n",
       " \"  'I looked up again at the crouching white shape, and the full temerity of my voyage came suddenly upon me\",\n",
       " ' What might appear when that hazy curtain was altogether withdrawn? What might not have happened to men? What if cruelty had grown into a common passion? What if in this interval the race had lost its manliness and had developed into something inhuman, unsympathetic, and overwhelmingly powerful? I might seem some old world savage animal, only the more dreadful and disgusting for our common likeness  a foul creature to be incontinently slain',\n",
       " \"  'Already I saw other vast shapes  huge buildings with intricate parapets and tall columns, with a wooded hill side dimly creeping in upon me through the lessening storm\",\n",
       " ' I was seized with a panic fear',\n",
       " ' I turned frantically to the Time Machine, and strove hard to readjust it',\n",
       " ' As I did so the shafts of the sun smote through the thunderstorm',\n",
       " ' The grey downpour was swept aside and vanished like the trailing garments of a ghost',\n",
       " ' Above me, in the intense blue of the summer sky, some faint brown shreds of cloud whirled into nothingness',\n",
       " ' The great buildings about me stood out clear and distinct, shining with the wet of the thunderstorm, and picked out in white by the unmelted hailstones piled along their courses',\n",
       " ' I felt naked in a strange world',\n",
       " ' I felt as perhaps a bird may feel in the clear air, knowing the hawk wings above and will swoop',\n",
       " ' My fear grew to frenzy',\n",
       " ' I took a breathing space, set my teeth, and again grappled fiercely, wrist and knee, with the machine',\n",
       " ' It gave under my desperate onset and turned over',\n",
       " ' It struck my chin violently',\n",
       " ' One hand on the saddle, the other on the lever, I stood panting heavily in attitude to mount again',\n",
       " \"  'But with this recovery of a prompt retreat my courage recovered\",\n",
       " ' I looked more curiously and less fearfully at this world of the remote future',\n",
       " ' In a circular opening, high up in the wall of the nearer house, I saw a group of figures clad in rich soft robes',\n",
       " ' They had seen me, and their faces were directed towards me',\n",
       " \"  'Then I heard voices approaching me\",\n",
       " ' Coming through the bushes by the White Sphinx were the heads and shoulders of men running',\n",
       " ' One of these emerged in a pathway leading straight to the little lawn upon which I stood with my machine',\n",
       " ' He was a slight creature  perhaps four feet high  clad in a purple tunic, girdled at the waist with a leather belt',\n",
       " ' Sandals or buskins  I could not clearly distinguish which  were on his feet; his legs were bare to the knees, and his head was bare',\n",
       " ' Noticing that, I noticed for the first time how warm the air was',\n",
       " \"  'He struck me as being a very beautiful and graceful creature, but indescribably frail\",\n",
       " ' His flushed face reminded me of the more beautiful kind of consumptive  that hectic beauty of which we used to hear so much',\n",
       " ' At the sight of him I suddenly regained confidence',\n",
       " ' I took my hands from the machine',\n",
       " \"     IV   'In another moment we were standing face to face, I and this fragile thing out of futurity\",\n",
       " ' He came straight up to me and laughed into my eyes',\n",
       " ' The absence from his bearing of any sign of fear struck me at once',\n",
       " ' Then he turned to the two others who were following him and spoke to them in a strange and very sweet and liquid tongue',\n",
       " \"  'There were others coming, and presently a little group of perhaps eight or ten of these exquisite creatures were about me\",\n",
       " ' One of them addressed me',\n",
       " ' It came into my head, oddly enough, that my voice was too harsh and deep for them',\n",
       " ' So I shook my head, and, pointing to my ears, shook it again',\n",
       " ' He came a step forward, hesitated, and then touched my hand',\n",
       " ' Then I felt other soft little tentacles upon my back and shoulders',\n",
       " ' They wanted to make sure I was real',\n",
       " ' There was nothing in this at all alarming',\n",
       " ' Indeed, there was something in these pretty little people that inspired confidence  a graceful gentleness, a certain childlike ease',\n",
       " ' And besides, they looked so frail that I could fancy myself flinging the whole dozen of them about like nine pins',\n",
       " ' But I made a sudden motion to warn them when I saw their little pink hands feeling at the Time Machine',\n",
       " ' Happily then, when it was not too late, I thought of a danger I had hitherto forgotten, and reaching over the bars of the machine I unscrewed the little levers that would set it in motion, and put these in my pocket',\n",
       " ' Then I turned again to see what I could do in the way of communication',\n",
       " \"  'And then, looking more nearly into their features, I saw some further peculiarities in their Dresden china type of prettiness\",\n",
       " ' Their hair, which was uniformly curly, came to a sharp end at the neck and cheek; there was not the faintest suggestion of it on the face, and their ears were singularly minute',\n",
       " ' The mouths were small, with bright red, rather thin lips, and the little chins ran to a point',\n",
       " ' The eyes were large and mild; and  this may seem egotism on my part  I fancied even that there was a certain lack of the interest I might have expected in them',\n",
       " \"  'As they made no effort to communicate with me, but simply stood round me smiling and speaking in soft cooing notes to each other, I began the conversation\",\n",
       " ' I pointed to the Time Machine and to myself',\n",
       " ' Then hesitating for a moment how to express time, I pointed to the sun',\n",
       " ' At once a quaintly pretty little figure in chequered purple and white followed my gesture, and then astonished me by imitating the sound of thunder',\n",
       " \"  'For a moment I was staggered, though the import of his gesture was plain enough\",\n",
       " ' The question had come into my mind abruptly: were these creatures fools? You may hardly understand how it took me',\n",
       " ' You see I had always anticipated that the people of the year Eight Hundred and Two Thousand odd would be incredibly in front of us in knowledge, art, everything',\n",
       " ' Then one of them suddenly asked me a question that showed him to be on the intellectual level of one of our five year old children  asked me, in fact, if I had come from the sun in a thunderstorm! It let loose the judgment I had suspended upon their clothes, their frail light limbs, and fragile features',\n",
       " ' A flow of disappointment rushed across my mind',\n",
       " ' For a moment I felt that I had built the Time Machine in vain',\n",
       " \"  'I nodded, pointed to the sun, and gave them such a vivid rendering of a thunderclap as startled them\",\n",
       " ' They all withdrew a pace or so and bowed',\n",
       " ' Then came one laughing towards me, carrying a chain of beautiful flowers altogether new to me, and put it about my neck',\n",
       " ' The idea was received with melodious applause; and presently they were all running to and fro for flowers, and laughingly flinging them upon me until I was almost smothered with blossom',\n",
       " ' You who have never seen the like can scarcely imagine what delicate and wonderful flowers countless years of culture had created',\n",
       " ' Then someone suggested that their plaything should be exhibited in the nearest building, and so I was led past the sphinx of white marble, which had seemed to watch me all the while with a smile at my astonishment, towards a vast grey edifice of fretted stone',\n",
       " ' As I went with them the memory of my confident anticipations of a profoundly grave and intellectual posterity came, with irresistible merriment, to my mind',\n",
       " \"  'The building had a huge entry, and was altogether of colossal dimensions\",\n",
       " ' I was naturally most occupied with the growing crowd of little people, and with the big open portals that yawned before me shadowy and mysterious',\n",
       " ' My general impression of the world I saw over their heads was a tangled waste of beautiful bushes and flowers, a long neglected and yet weedless garden',\n",
       " ' I saw a number of tall spikes of strange white flowers, measuring a foot perhaps across the spread of the waxen petals',\n",
       " ' They grew scattered, as if wild, among the variegated shrubs, but, as I say, I did not examine them closely at this time',\n",
       " ' The Time Machine was left deserted on the turf among the rhododendrons',\n",
       " \"  'The arch of the doorway was richly carved, but naturally I did not observe the carving very narrowly, though I fancied I saw suggestions of old Phoenician decorations as I passed through, and it struck me that they were very badly broken and weather worn\",\n",
       " ' Several more brightly clad people met me in the doorway, and so we entered, I, dressed in dingy nineteenth century garments, looking grotesque enough, garlanded with flowers, and surrounded by an eddying mass of bright, soft colored robes and shining white limbs, in a melodious whirl of laughter and laughing speech',\n",
       " \"  'The big doorway opened into a proportionately great hall hung with brown\",\n",
       " ' The roof was in shadow, and the windows, partially glazed with coloured glass and partially unglazed, admitted a tempered light',\n",
       " ' The floor was made up of huge blocks of some very hard white metal, not plates nor slabs  blocks, and it was so much worn, as I judged by the going to and fro of past generations, as to be deeply channelled along the more frequented ways',\n",
       " ' Transverse to the length were innumerable tables made of slabs of polished stone, raised perhaps a foot from the floor, and upon these were heaps of fruits',\n",
       " ' Some I recognized as a kind of hypertrophied raspberry and orange, but for the most part they were strange',\n",
       " \"  'Between the tables was scattered a great number of cushions\",\n",
       " ' Upon these my conductors seated themselves, signing for me to do likewise',\n",
       " ' With a pretty absence of ceremony they began to eat the fruit with their hands, flinging peel and stalks, and so forth, into the round openings in the sides of the tables',\n",
       " ' I was not loath to follow their example, for I felt thirsty and hungry',\n",
       " ' As I did so I surveyed the hall at my leisure',\n",
       " \"  'And perhaps the thing that struck me most was its dilapidated look\",\n",
       " ' The stained glass windows, which displayed only a geometrical pattern, were broken in many places, and the curtains that hung across the lower end were thick with dust',\n",
       " ' And it caught my eye that the corner of the marble table near me was fractured',\n",
       " ' Nevertheless, the general effect was extremely rich and picturesque',\n",
       " ' There were, perhaps, a couple of hundred people dining in the hall, and most of them, seated as near to me as they could come, were watching me with interest, their little eyes shining over the fruit they were eating',\n",
       " ' All were clad in the same soft and yet strong, silky material',\n",
       " \"  'Fruit, by the by, was all their diet\",\n",
       " ' These people of the remote future were strict vegetarians, and while I was with them, in spite of some carnal cravings, I had to be frugivorous also',\n",
       " ' Indeed, I found afterwards that horses, cattle, sheep, dogs, had followed the Ichthyosaurus into extinction',\n",
       " ' But the fruits were very delightful; one, in particular, that seemed to be in season all the time I was there  a floury thing in a three sided husk  was especially good, and I made it my staple',\n",
       " ' At first I was puzzled by all these strange fruits, and by the strange flowers I saw, but later I began to perceive their import',\n",
       " \"  'However, I am telling you of my fruit dinner in the distant future now\",\n",
       " ' So soon as my appetite was a little checked, I determined to make a resolute attempt to learn the speech of these new men of mine',\n",
       " ' Clearly that was the next thing to do',\n",
       " ' The fruits seemed a convenient thing to begin upon, and holding one of these up I began a series of interrogative sounds and gestures',\n",
       " ' I had some considerable difficulty in conveying my meaning',\n",
       " ' At first my efforts met with a stare of surprise or inextinguishable laughter, but presently a fair haired little creature seemed to grasp my intention and repeated a name',\n",
       " ' They had to chatter and explain the business at great length to each other, and my first attempts to make the exquisite little sounds of their language caused an immense amount of amusement',\n",
       " ' However, I felt like a schoolmaster amidst children, and persisted, and presently I had a score of noun substantives at least at my command; and then I got to demonstrative pronouns, and even the verb \"to eat',\n",
       " '\" But it was slow work, and the little people soon tired and wanted to get away from my interrogations, so I determined, rather of necessity, to let them give their lessons in little doses when they felt inclined',\n",
       " ' And very little doses I found they were before long, for I never met people more indolent or more easily fatigued',\n",
       " \"  'A queer thing I soon discovered about my little hosts, and that was their lack of interest\",\n",
       " ' They would come to me with eager cries of astonishment, like children, but like children they would soon stop examining me and wander away after some other toy',\n",
       " ' The dinner and my conversational beginnings ended, I noted for the first time that almost all those who had surrounded me at first were gone',\n",
       " ' It is odd, too, how speedily I came to disregard these little people',\n",
       " ' I went out through the portal into the sunlit world again as soon as my hunger was satisfied',\n",
       " ' I was continually meeting more of these men of the future, who would follow me a little distance, chatter and laugh about me, and, having smiled and gesticulated in a friendly way, leave me again to my own devices',\n",
       " \"  'The calm of evening was upon the world as I emerged from the great hall, and the scene was lit by the warm glow of the setting sun\",\n",
       " ' At first things were very confusing',\n",
       " ' Everything was so entirely different from the world I had known  even the flowers',\n",
       " ' The big building I had left was situated on the slope of a broad river valley, but the Thames had shifted perhaps a mile from its present position',\n",
       " ' I resolved to mount to the summit of a crest, perhaps a mile and a half away, from which I could get a wider view of this our planet in the year Eight Hundred and Two Thousand Seven Hundred and One A',\n",
       " 'D',\n",
       " ' For that, I should explain, was the date the little dials of my machine recorded',\n",
       " \"  'As I walked I was watching for every impression that could possibly help to explain the condition of ruinous splendour in which I found the world  for ruinous it was\",\n",
       " ' A little way up the hill, for instance, was a great heap of granite, bound together by masses of aluminium, a vast labyrinth of precipitous walls and crumpled heaps, amidst which were thick heaps of very beautiful pagoda like plants  nettles possibly  but wonderfully tinted with brown about the leaves, and incapable of stinging',\n",
       " ' It was evidently the derelict remains of some vast structure, to what end built I could not determine',\n",
       " ' It was here that I was destined, at a later date, to have a very strange experience  the first intimation of a still stranger discovery  but of that I will speak in its proper place',\n",
       " \"  'Looking round with a sudden thought, from a terrace on which I rested for a while, I realized that there were no small houses to be seen\",\n",
       " ' Apparently the single house, and possibly even the household, had vanished',\n",
       " ' Here and there among the greenery were palace like buildings, but the house and the cottage, which form such characteristic features of our own English landscape, had disappeared',\n",
       " '  \\'\"Communism,\" said I to myself',\n",
       " \"  'And on the heels of that came another thought\",\n",
       " ' I looked at the half dozen little figures that were following me',\n",
       " ' Then, in a flash, I perceived that all had the same form of costume, the same soft hairless visage, and the same girlish rotundity of limb',\n",
       " ' It may seem strange, perhaps, that I had not noticed this before',\n",
       " ' But everything was so strange',\n",
       " ' Now, I saw the fact plainly enough',\n",
       " ' In costume, and in all the differences of texture and bearing that now mark off the sexes from each other, these people of the future were alike',\n",
       " ' And the children seemed to my eyes to be but the miniatures of their parents',\n",
       " ' I judged, then, that the children of that time were extremely precocious, physically at least, and I found afterwards abundant verification of my opinion',\n",
       " \"  'Seeing the ease and security in which these people were living, I felt that this close resemblance of the sexes was after all what one would expect; for the strength of a man and the softness of a woman, the institution of the family, and the differentiation of occupations are mere militant necessities of an age of physical force; where population is balanced and abundant, much childbearing becomes an evil rather than a blessing to the State; where violence comes but rarely and off spring are secure, there is less necessity  indeed there is no necessity  for an efficient family, and the specialization of the sexes with reference to their children's needs disappears\",\n",
       " ' We see some beginnings of this even in our own time, and in this future age it was complete',\n",
       " ' This, I must remind you, was my speculation at the time',\n",
       " ' Later, I was to appreciate how far it fell short of the reality',\n",
       " \"  'While I was musing upon these things, my attention was attracted by a pretty little structure, like a well under a cupola\",\n",
       " ' I thought in a transitory way of the oddness of wells still existing, and then resumed the thread of my speculations',\n",
       " ' There were no large buildings towards the top of the hill, and as my walking powers were evidently miraculous, I was presently left alone for the first time',\n",
       " ' With a strange sense of freedom and adventure I pushed on up to the crest',\n",
       " \"  'There I found a seat of some yellow metal that I did not recognize, corroded in places with a kind of pinkish rust and half smothered in soft moss, the arm rests cast and filed into the resemblance of griffins' heads\",\n",
       " ' I sat down on it, and I surveyed the broad view of our old world under the sunset of that long day',\n",
       " ' It was as sweet and fair a view as I have ever seen',\n",
       " ' The sun had already gone below the horizon and the west was flaming gold, touched with some horizontal bars of purple and crimson',\n",
       " ' Below was the valley of the Thames, in which the river lay like a band of burnished steel',\n",
       " ' I have already spoken of the great palaces dotted about among the variegated greenery, some in ruins and some still occupied',\n",
       " ' Here and there rose a white or silvery figure in the waste garden of the earth, here and there came the sharp vertical line of some cupola or obelisk',\n",
       " ' There were no hedges, no signs of proprietary rights, no evidences of agriculture; the whole earth had become a garden',\n",
       " \"  'So watching, I began to put my interpretation upon the things I had seen, and as it shaped itself to me that evening, my interpretation was something in this way\",\n",
       " ' (Afterwards I found I had got only a half truth  or only a glimpse of one facet of the truth',\n",
       " \")  'It seemed to me that I had happened upon humanity upon the wane\",\n",
       " ' The ruddy sunset set me thinking of the sunset of mankind',\n",
       " ' For the first time I began to realize an odd consequence of the social effort in which we are at present engaged',\n",
       " ' And yet, come to think, it is a logical consequence enough',\n",
       " ' Strength is the outcome of need; security sets a premium on feebleness',\n",
       " ' The work of ameliorating the conditions of life  the true civilizing process that makes life more and more secure  had gone steadily on to a climax',\n",
       " ' One triumph of a united humanity over Nature had followed another',\n",
       " ' Things that are now mere dreams had become projects deliberately put in hand and carried forward',\n",
       " \" And the harvest was what I saw!  'After all, the sanitation and the agriculture of to day are still in the rudimentary stage\",\n",
       " ' The science of our time has attacked but a little department of the field of human disease, but even so, it spreads its operations very steadily and persistently',\n",
       " ' Our agriculture and horticulture destroy a weed just here and there and cultivate perhaps a score or so of wholesome plants, leaving the greater number to fight out a balance as they can',\n",
       " ' We improve our favourite plants and animals  and how few they are  gradually by selective breeding; now a new and better peach, now a seedless grape, now a sweeter and larger flower, now a more convenient breed of cattle',\n",
       " ' We improve them gradually, because our ideals are vague and tentative, and our knowledge is very limited; because Nature, too, is shy and slow in our clumsy hands',\n",
       " ' Some day all this will be better organized, and still better',\n",
       " ' That is the drift of the current in spite of the eddies',\n",
       " ' The whole world will be intelligent, educated, and co operating; things will move faster and faster towards the subjugation of Nature',\n",
       " ' In the end, wisely and carefully we shall readjust the balance of animal and vegetable life to suit our human needs',\n",
       " \"  'This adjustment, I say, must have been done, and done well; done indeed for all Time, in the space of Time across which my machine had leaped\",\n",
       " ' The air was free from gnats, the earth from weeds or fungi; everywhere were fruits and sweet and delightful flowers; brilliant butterflies flew hither and thither',\n",
       " ' The ideal of preventive medicine was attained',\n",
       " ' Diseases had been stamped out',\n",
       " ' I saw no evidence of any contagious diseases during all my stay',\n",
       " ' And I shall have to tell you later that even the processes of putrefaction and decay had been profoundly affected by these changes',\n",
       " \"  'Social triumphs, too, had been effected\",\n",
       " ' I saw mankind housed in splendid shelters, gloriously clothed, and as yet I had found them engaged in no toil',\n",
       " ' There were no signs of struggle, neither social nor economical struggle',\n",
       " ' The shop, the advertisement, traffic, all that commerce which constitutes the body of our world, was gone',\n",
       " ' It was natural on that golden evening that I should jump at the idea of a social paradise',\n",
       " ' The difficulty of increasing population had been met, I guessed, and population had ceased to increase',\n",
       " \"  'But with this change in condition comes inevitably adaptations to the change\",\n",
       " ' What, unless biological science is a mass of errors, is the cause of human intelligence and vigour? Hardship and freedom: conditions under which the active, strong, and subtle survive and the weaker go to the wall; conditions that put a premium upon the loyal alliance of capable men, upon self restraint, patience, and decision',\n",
       " ' And the institution of the family, and the emotions that arise therein, the fierce jealousy, the tenderness for offspring, parental self devotion, all found their justification and support in the imminent dangers of the young',\n",
       " '  Now , where are these imminent dangers? There is a sentiment arising, and it will grow, against connubial jealousy, against fierce maternity, against passion of all sorts; unnecessary things now, and things that make us uncomfortable, savage survivals, discords in a refined and pleasant life',\n",
       " \"  'I thought of the physical slightness of the people, their lack of intelligence, and those big abundant ruins, and it strengthened my belief in a perfect conquest of Nature\",\n",
       " ' For after the battle comes Quiet',\n",
       " ' Humanity had been strong, energetic, and intelligent, and had used all its abundant vitality to alter the conditions under which it lived',\n",
       " ' And now came the reaction of the altered conditions',\n",
       " \"  'Under the new conditions of perfect comfort and security, that restless energy, that with us is strength, would become weakness\",\n",
       " ' Even in our own time certain tendencies and desires, once necessary to survival, are a constant source of failure',\n",
       " ' Physical courage and the love of battle, for instance, are no great help  may even be hindrances  to a civilized man',\n",
       " ' And in a state of physical balance and security, power, intellectual as well as physical, would be out of place',\n",
       " ' For countless years I judged there had been no danger of war or solitary violence, no danger from wild beasts, no wasting disease to require strength of constitution, no need of toil',\n",
       " ' For such a life, what we should call the weak are as well equipped as the strong, are indeed no longer weak',\n",
       " ' Better equipped indeed they are, for the strong would be fretted by an energy for which there was no outlet',\n",
       " ' No doubt the exquisite beauty of the buildings I saw was the outcome of the last surgings of the now purposeless energy of mankind before it settled down into perfect harmony with the conditions under which it lived  the flourish of that triumph which began the last great peace',\n",
       " ' This has ever been the fate of energy in security; it takes to art and to eroticism, and then come languor and decay',\n",
       " \"  'Even this artistic impetus would at last die away  had almost died in the Time I saw\",\n",
       " ' To adorn themselves with flowers, to dance, to sing in the sunlight: so much was left of the artistic spirit, and no more',\n",
       " ' Even that would fade in the end into a contented inactivity',\n",
       " \" We are kept keen on the grindstone of pain and necessity, and, it seemed to me, that here was that hateful grindstone broken at last!  'As I stood there in the gathering dark I thought that in this simple explanation I had mastered the problem of the world  mastered the whole secret of these delicious people\",\n",
       " ' Possibly the checks they had devised for the increase of population had succeeded too well, and their numbers had rather diminished than kept stationary',\n",
       " ' That would account for the abandoned ruins',\n",
       " \" Very simple was my explanation, and plausible enough  as most wrong theories are!     V   'As I stood there musing over this too perfect triumph of man, the full moon, yellow and gibbous, came up out of an overflow of silver light in the north east\",\n",
       " ' The bright little figures ceased to move about below, a noiseless owl flitted by, and I shivered with the chill of the night',\n",
       " ' I determined to descend and find where I could sleep',\n",
       " \"  'I looked for the building I knew\",\n",
       " ' Then my eye travelled along to the figure of the White Sphinx upon the pedestal of bronze, growing distinct as the light of the rising moon grew brighter',\n",
       " ' I could see the silver birch against it',\n",
       " ' There was the tangle of rhododendron bushes, black in the pale light, and there was the little lawn',\n",
       " ' I looked at the lawn again',\n",
       " ' A queer doubt chilled my complacency',\n",
       " ' \"No,\" said I stoutly to myself, \"that was not the lawn',\n",
       " '\"  \\'But it  was  the lawn',\n",
       " ' For the white leprous face of the sphinx was towards it',\n",
       " ' Can you imagine what I felt as this conviction came home to me? But you cannot',\n",
       " \" The Time Machine was gone!  'At once, like a lash across the face, came the possibility of losing my own age, of being left helpless in this strange new world\",\n",
       " ' The bare thought of it was an actual physical sensation',\n",
       " ' I could feel it grip me at the throat and stop my breathing',\n",
       " ' In another moment I was in a passion of fear and running with great leaping strides down the slope',\n",
       " ' Once I fell headlong and cut my face; I lost no time in stanching the blood, but jumped up and ran on, with a warm trickle down my cheek and chin',\n",
       " ' All the time I ran I was saying to myself: \"They have moved it a little, pushed it under the bushes out of the way',\n",
       " '\" Nevertheless, I ran with all my might',\n",
       " ' All the time, with the certainty that sometimes comes with excessive dread, I knew that such assurance was folly, knew instinctively that the machine was removed out of my reach',\n",
       " ' My breath came with pain',\n",
       " ' I suppose I covered the whole distance from the hill crest to the little lawn, two miles perhaps, in ten minutes',\n",
       " ' And I am not a young man',\n",
       " ' I cursed aloud, as I ran, at my confident folly in leaving the machine, wasting good breath thereby',\n",
       " ' I cried aloud, and none answered',\n",
       " ' Not a creature seemed to be stirring in that moonlit world',\n",
       " \"  'When I reached the lawn my worst fears were realized\",\n",
       " ' Not a trace of the thing was to be seen',\n",
       " ' I felt faint and cold when I faced the empty space among the black tangle of bushes',\n",
       " ' I ran round it furiously, as if the thing might be hidden in a corner, and then stopped abruptly, with my hands clutching my hair',\n",
       " ' Above me towered the sphinx, upon the bronze pedestal, white, shining, leprous, in the light of the rising moon',\n",
       " ' It seemed to smile in mockery of my dismay',\n",
       " \"  'I might have consoled myself by imagining the little people had put the mechanism in some shelter for me, had I not felt assured of their physical and intellectual inadequacy\",\n",
       " ' That is what dismayed me: the sense of some hitherto unsuspected power, through whose intervention my invention had vanished',\n",
       " ' Yet, for one thing I felt assured: unless some other age had produced its exact duplicate, the machine could not have moved in time',\n",
       " ' The attachment of the levers  I will show you the method later  prevented any one from tampering with it in that way when they were removed',\n",
       " ' It had moved, and was hid, only in space',\n",
       " \" But then, where could it be?  'I think I must have had a kind of frenzy\",\n",
       " ' I remember running violently in and out among the moonlit bushes all round the sphinx, and startling some white animal that, in the dim light, I took for a small deer',\n",
       " ' I remember, too, late that night, beating the bushes with my clenched fist until my knuckles were gashed and bleeding from the broken twigs',\n",
       " ' Then, sobbing and raving in my anguish of mind, I went down to the great building of stone',\n",
       " ' The big hall was dark, silent, and deserted',\n",
       " ' I slipped on the uneven floor, and fell over one of the malachite tables, almost breaking my shin',\n",
       " ' I lit a match and went on past the dusty curtains, of which I have told you',\n",
       " \"  'There I found a second great hall covered with cushions, upon which, perhaps, a score or so of the little people were sleeping\",\n",
       " ' I have no doubt they found my second appearance strange enough, coming suddenly out of the quiet darkness with inarticulate noises and the splutter and flare of a match',\n",
       " ' For they had forgotten about matches',\n",
       " ' \"Where is my Time Machine?\" I began, bawling like an angry child, laying hands upon them and shaking them up together',\n",
       " ' It must have been very queer to them',\n",
       " ' Some laughed, most of them looked sorely frightened',\n",
       " ' When I saw them standing round me, it came into my head that I was doing as foolish a thing as it was possible for me to do under the circumstances, in trying to revive the sensation of fear',\n",
       " ' For, reasoning from their daylight behaviour, I thought that fear must be forgotten',\n",
       " \"  'Abruptly, I dashed down the match, and, knocking one of the people over in my course, went blundering across the big dining hall again, out under the moonlight\",\n",
       " ' I heard cries of terror and their little feet running and stumbling this way and that',\n",
       " ' I do not remember all I did as the moon crept up the sky',\n",
       " ' I suppose it was the unexpected nature of my loss that maddened me',\n",
       " ' I felt hopelessly cut off from my own kind  a strange animal in an unknown world',\n",
       " ' I must have raved to and fro, screaming and crying upon God and Fate',\n",
       " ' I have a memory of horrible fatigue, as the long night of despair wore away; of looking in this impossible place and that; of groping among moon lit ruins and touching strange creatures in the black shadows; at last, of lying on the ground near the sphinx and weeping with absolute wretchedness',\n",
       " ' I had nothing left but misery',\n",
       " ' Then I slept, and when I woke again it was full day, and a couple of sparrows were hopping round me on the turf within reach of my arm',\n",
       " \"  'I sat up in the freshness of the morning, trying to remember how I had got there, and why I had such a profound sense of desertion and despair\",\n",
       " ' Then things came clear in my mind',\n",
       " ' With the plain, reasonable daylight, I could look my circumstances fairly in the face',\n",
       " ' I saw the wild folly of my frenzy overnight, and I could reason with myself',\n",
       " ' \"Suppose the worst?\" I said',\n",
       " ' \"Suppose the machine altogether lost  perhaps destroyed? It behoves me to be calm and patient, to learn the way of the people, to get a clear idea of the method of my loss, and the means of getting materials and tools; so that in the end, perhaps, I may make another',\n",
       " '\" That would be my only hope, perhaps, but better than despair',\n",
       " ' And, after all, it was a beautiful and curious world',\n",
       " \"  'But probably, the machine had only been taken away\",\n",
       " ' Still, I must be calm and patient, find its hiding place, and recover it by force or cunning',\n",
       " ' And with that I scrambled to my feet and looked about me, wondering where I could bathe',\n",
       " ' I felt weary, stiff, and travel soiled',\n",
       " ' The freshness of the morning made me desire an equal freshness',\n",
       " ' I had exhausted my emotion',\n",
       " ' Indeed, as I went about my business, I found myself wondering at my intense excitement overnight',\n",
       " ' I made a careful examination of the ground about the little lawn',\n",
       " ' I wasted some time in futile questionings, conveyed, as well as I was able, to such of the little people as came by',\n",
       " ' They all failed to understand my gestures; some were simply stolid, some thought it was a jest and laughed at me',\n",
       " ' I had the hardest task in the world to keep my hands off their pretty laughing faces',\n",
       " ' It was a foolish impulse, but the devil begotten of fear and blind anger was ill curbed and still eager to take advantage of my perplexity',\n",
       " ' The turf gave better counsel',\n",
       " ' I found a groove ripped in it, about midway between the pedestal of the sphinx and the marks of my feet where, on arrival, I had struggled with the overturned machine',\n",
       " ' There were other signs of removal about, with queer narrow footprints like those I could imagine made by a sloth',\n",
       " ' This directed my closer attention to the pedestal',\n",
       " ' It was, as I think I have said, of bronze',\n",
       " ' It was not a mere block, but highly decorated with deep framed panels on either side',\n",
       " ' I went and rapped at these',\n",
       " ' The pedestal was hollow',\n",
       " ' Examining the panels with care I found them discontinuous with the frames',\n",
       " ' There were no handles or keyholes, but possibly the panels, if they were doors, as I supposed, opened from within',\n",
       " ' One thing was clear enough to my mind',\n",
       " ' It took no very great mental effort to infer that my Time Machine was inside that pedestal',\n",
       " ' But how it got there was a different problem',\n",
       " \"  'I saw the heads of two orange clad people coming through the bushes and under some blossom covered apple trees towards me\",\n",
       " ' I turned smiling to them and beckoned them to me',\n",
       " ' They came, and then, pointing to the bronze pedestal, I tried to intimate my wish to open it',\n",
       " ' But at my first gesture towards this they behaved very oddly',\n",
       " \" I don't know how to convey their expression to you\",\n",
       " ' Suppose you were to use a grossly improper gesture to a delicate minded woman  it is how she would look',\n",
       " ' They went off as if they had received the last possible insult',\n",
       " ' I tried a sweet looking little chap in white next, with exactly the same result',\n",
       " ' Somehow, his manner made me feel ashamed of myself',\n",
       " ' But, as you know, I wanted the Time Machine, and I tried him once more',\n",
       " ' As he turned off, like the others, my temper got the better of me',\n",
       " ' In three strides I was after him, had him by the loose part of his robe round the neck, and began dragging him towards the sphinx',\n",
       " ' Then I saw the horror and repugnance of his face, and all of a sudden I let him go',\n",
       " \"  'But I was not beaten yet\",\n",
       " ' I banged with my fist at the bronze panels',\n",
       " ' I thought I heard something stir inside  to be explicit, I thought I heard a sound like a chuckle  but I must have been mistaken',\n",
       " ' Then I got a big pebble from the river, and came and hammered till I had flattened a coil in the decorations, and the verdigris came off in powdery flakes',\n",
       " ' The delicate little people must have heard me hammering in gusty outbreaks a mile away on either hand, but nothing came of it',\n",
       " ' I saw a crowd of them upon the slopes, looking furtively at me',\n",
       " ' At last, hot and tired, I sat down to watch the place',\n",
       " ' But I was too restless to watch long; I am too Occidental for a long vigil',\n",
       " ' I could work at a problem for years, but to wait inactive for twenty four hours  that is another matter',\n",
       " \"  'I got up after a time, and began walking aimlessly through the bushes towards the hill again\",\n",
       " ' \"Patience,\" said I to myself',\n",
       " ' \"If you want your machine again you must leave that sphinx alone',\n",
       " \" If they mean to take your machine away, it's little good your wrecking their bronze panels, and if they don't, you will get it back as soon as you can ask for it\",\n",
       " ' To sit among all those unknown things before a puzzle like that is hopeless',\n",
       " ' That way lies monomania',\n",
       " ' Face this world',\n",
       " ' Learn its ways, watch it, be careful of too hasty guesses at its meaning',\n",
       " ' In the end you will find clues to it all',\n",
       " '\" Then suddenly the humour of the situation came into my mind: the thought of the years I had spent in study and toil to get into the future age, and now my passion of anxiety to get out of it',\n",
       " ' I had made myself the most complicated and the most hopeless trap that ever a man devised',\n",
       " ' Although it was at my own expense, I could not help myself',\n",
       " ' I laughed aloud',\n",
       " \"  'Going through the big palace, it seemed to me that the little people avoided me\",\n",
       " ' It may have been my fancy, or it may have had something to do with my hammering at the gates of bronze',\n",
       " ' Yet I felt tolerably sure of the avoidance',\n",
       " ' I was careful, however, to show no concern and to abstain from any pursuit of them, and in the course of a day or two things got back to the old footing',\n",
       " ' I made what progress I could in the language, and in addition I pushed my explorations here and there',\n",
       " ' Either I missed some subtle point or their language was excessively simple  almost exclusively composed of concrete substantives and verbs',\n",
       " ' There seemed to be few, if any, abstract terms, or little use of figurative language',\n",
       " ' Their sentences were usually simple and of two words, and I failed to convey or understand any but the simplest propositions',\n",
       " ' I determined to put the thought of my Time Machine and the mystery of the bronze doors under the sphinx as much as possible in a corner of memory, until my growing knowledge would lead me back to them in a natural way',\n",
       " ' Yet a certain feeling, you may understand, tethered me in a circle of a few miles round the point of my arrival',\n",
       " \"  'So far as I could see, all the world displayed the same exuberant richness as the Thames valley\",\n",
       " ' From every hill I climbed I saw the same abundance of splendid buildings, endlessly varied in material and style, the same clustering thickets of evergreens, the same blossom laden trees and tree ferns',\n",
       " ' Here and there water shone like silver, and beyond, the land rose into blue undulating hills, and so faded into the serenity of the sky',\n",
       " ' A peculiar feature, which presently attracted my attention, was the presence of certain circular wells, several, as it seemed to me, of a very great depth',\n",
       " ' One lay by the path up the hill, which I had followed during my first walk',\n",
       " ' Like the others, it was rimmed with bronze, curiously wrought, and protected by a little cupola from the rain',\n",
       " ' Sitting by the side of these wells, and peering down into the shafted darkness, I could see no gleam of water, nor could I start any reflection with a lighted match',\n",
       " ' But in all of them I heard a certain sound: a thud  thud  thud, like the beating of some big engine; and I discovered, from the flaring of my matches, that a steady current of air set down the shafts',\n",
       " ' Further, I threw a scrap of paper into the throat of one, and, instead of fluttering slowly down, it was at once sucked swiftly out of sight',\n",
       " \"  'After a time, too, I came to connect these wells with tall towers standing here and there upon the slopes; for above them there was often just such a flicker in the air as one sees on a hot day above a sun scorched beach\",\n",
       " ' Putting things together, I reached a strong suggestion of an extensive system of subterranean ventilation, whose true import it was difficult to imagine',\n",
       " ' I was at first inclined to associate it with the sanitary apparatus of these people',\n",
       " ' It was an obvious conclusion, but it was absolutely wrong',\n",
       " \"  'And here I must admit that I learned very little of drains and bells and modes of conveyance, and the like conveniences, during my time in this real future\",\n",
       " ' In some of these visions of Utopias and coming times which I have read, there is a vast amount of detail about building, and social arrangements, and so forth',\n",
       " \" But while such details are easy enough to obtain when the whole world is contained in one's imagination, they are altogether inaccessible to a real traveller amid such realities as I found here\",\n",
       " ' Conceive the tale of London which a negro, fresh from Central Africa, would take back to his tribe! What would he know of railway companies, of social movements, of telephone and telegraph wires, of the Parcels Delivery Company, and postal orders and the like? Yet we, at least, should be willing enough to explain these things to him! And even of what he knew, how much could he make his untravelled friend either apprehend or believe? Then, think how narrow the gap between a negro and a white man of our own times, and how wide the interval between myself and these of the Golden Age! I was sensible of much which was unseen, and which contributed to my comfort; but save for a general impression of automatic organization, I fear I can convey very little of the difference to your mind',\n",
       " \"  'In the matter of sepulture, for instance, I could see no signs of crematoria nor anything suggestive of tombs\",\n",
       " ' But it occurred to me that, possibly, there might be cemeteries (or crematoria) somewhere beyond the range of my explorings',\n",
       " ' This, again, was a question I deliberately put to myself, and my curiosity was at first entirely defeated upon the point',\n",
       " ' The thing puzzled me, and I was led to make a further remark, which puzzled me still more: that aged and infirm among this people there were none',\n",
       " \"  'I must confess that my satisfaction with my first theories of an automatic civilization and a decadent humanity did not long endure\",\n",
       " ' Yet I could think of no other',\n",
       " ' Let me put my difficulties',\n",
       " ' The several big palaces I had explored were mere living places, great dining halls and sleeping apartments',\n",
       " ' I could find no machinery, no appliances of any kind',\n",
       " ' Yet these people were clothed in pleasant fabrics that must at times need renewal, and their sandals, though undecorated, were fairly complex specimens of metalwork',\n",
       " ' Somehow such things must be made',\n",
       " ' And the little people displayed no vestige of a creative tendency',\n",
       " ' There were no shops, no workshops, no sign of importations among them',\n",
       " ' They spent all their time in playing gently, in bathing in the river, in making love in a half playful fashion, in eating fruit and sleeping',\n",
       " ' I could not see how things were kept going',\n",
       " \"  'Then, again, about the Time Machine: something, I knew not what, had taken it into the hollow pedestal of the White Sphinx\",\n",
       " ' Why? For the life of me I could not imagine',\n",
       " ' Those waterless wells, too, those flickering pillars',\n",
       " ' I felt I lacked a clue',\n",
       " \" I felt  how shall I put it? Suppose you found an inscription, with sentences here and there in excellent plain English, and interpolated therewith, others made up of words, of letters even, absolutely unknown to you? Well, on the third day of my visit, that was how the world of Eight Hundred and Two Thousand Seven Hundred and One presented itself to me!  'That day, too, I made a friend  of a sort\",\n",
       " ' It happened that, as I was watching some of the little people bathing in a shallow, one of them was seized with cramp and began drifting downstream',\n",
       " ' The main current ran rather swiftly, but not too strongly for even a moderate swimmer',\n",
       " ' It will give you an idea, therefore, of the strange deficiency in these creatures, when I tell you that none made the slightest attempt to rescue the weakly crying little thing which was drowning before their eyes',\n",
       " ' When I realized this, I hurriedly slipped off my clothes, and, wading in at a point lower down, I caught the poor mite and drew her safe to land',\n",
       " ' A little rubbing of the limbs soon brought her round, and I had the satisfaction of seeing she was all right before I left her',\n",
       " ' I had got to such a low estimate of her kind that I did not expect any gratitude from her',\n",
       " ' In that, however, I was wrong',\n",
       " \"  'This happened in the morning\",\n",
       " ' In the afternoon I met my little woman, as I believe it was, as I was returning towards my centre from an exploration, and she received me with cries of delight and presented me with a big garland of flowers  evidently made for me and me alone',\n",
       " ' The thing took my imagination',\n",
       " ' Very possibly I had been feeling desolate',\n",
       " ' At any rate I did my best to display my appreciation of the gift',\n",
       " ' We were soon seated together in a little stone arbour, engaged in conversation, chiefly of smiles',\n",
       " \" The creature's friendliness affected me exactly as a child's might have done\",\n",
       " ' We passed each other flowers, and she kissed my hands',\n",
       " ' I did the same to hers',\n",
       " \" Then I tried talk, and found that her name was Weena, which, though I don't know what it meant, somehow seemed appropriate enough\",\n",
       " \" That was the beginning of a queer friendship which lasted a week, and ended  as I will tell you!  'She was exactly like a child\",\n",
       " ' She wanted to be with me always',\n",
       " ' She tried to follow me everywhere, and on my next journey out and about it went to my heart to tire her down, and leave her at last, exhausted and calling after me rather plaintively',\n",
       " ' But the problems of the world had to be mastered',\n",
       " ' I had not, I said to myself, come into the future to carry on a miniature flirtation',\n",
       " ' Yet her distress when I left her was very great, her expostulations at the parting were sometimes frantic, and I think, altogether, I had as much trouble as comfort from her devotion',\n",
       " ' Nevertheless she was, somehow, a very great comfort',\n",
       " ' I thought it was mere childish affection that made her cling to me',\n",
       " ' Until it was too late, I did not clearly know what I had inflicted upon her when I left her',\n",
       " ' Nor until it was too late did I clearly understand what she was to me',\n",
       " ' For, by merely seeming fond of me, and showing in her weak, futile way that she cared for me, the little doll of a creature presently gave my return to the neighbourhood of the White Sphinx almost the feeling of coming home; and I would watch for her tiny figure of white and gold so soon as I came over the hill',\n",
       " \"  'It was from her, too, that I learned that fear had not yet left the world\",\n",
       " ' She was fearless enough in the daylight, and she had the oddest confidence in me; for once, in a foolish moment, I made threatening grimaces at her, and she simply laughed at them',\n",
       " ' But she dreaded the dark, dreaded shadows, dreaded black things',\n",
       " ' Darkness to her was the one thing dreadful',\n",
       " ' It was a singularly passionate emotion, and it set me thinking and observing',\n",
       " ' I discovered then, among other things, that these little people gathered into the great houses after dark, and slept in droves',\n",
       " ' To enter upon them without a light was to put them into a tumult of apprehension',\n",
       " ' I never found one out of doors, or one sleeping alone within doors, after dark',\n",
       " \" Yet I was still such a blockhead that I missed the lesson of that fear, and in spite of Weena's distress I insisted upon sleeping away from these slumbering multitudes\",\n",
       " \"  'It troubled her greatly, but in the end her odd affection for me triumphed, and for five of the nights of our acquaintance, including the last night of all, she slept with her head pillowed on my arm\",\n",
       " ' But my story slips away from me as I speak of her',\n",
       " ' It must have been the night before her rescue that I was awakened about dawn',\n",
       " ' I had been restless, dreaming most disagreeably that I was drowned, and that sea anemones were feeling over my face with their soft palps',\n",
       " ' I woke with a start, and with an odd fancy that some greyish animal had just rushed out of the chamber',\n",
       " ' I tried to get to sleep again, but I felt restless and uncomfortable',\n",
       " ' It was that dim grey hour when things are just creeping out of darkness, when everything is colourless and clear cut, and yet unreal',\n",
       " ' I got up, and went down into the great hall, and so out upon the flagstones in front of the palace',\n",
       " ' I thought I would make a virtue of necessity, and see the sunrise',\n",
       " \"  'The moon was setting, and the dying moonlight and the first pallor of dawn were mingled in a ghastly half light\",\n",
       " ' The bushes were inky black, the ground a sombre grey, the sky colourless and cheerless',\n",
       " ' And up the hill I thought I could see ghosts',\n",
       " ' There several times, as I scanned the slope, I saw white figures',\n",
       " ' Twice I fancied I saw a solitary white, ape like creature running rather quickly up the hill, and once near the ruins I saw a leash of them carrying some dark body',\n",
       " ' They moved hastily',\n",
       " ' I did not see what became of them',\n",
       " ' It seemed that they vanished among the bushes',\n",
       " ' The dawn was still indistinct, you must understand',\n",
       " ' I was feeling that chill, uncertain, early morning feeling you may have known',\n",
       " ' I doubted my eyes',\n",
       " \"  'As the eastern sky grew brighter, and the light of the day came on and its vivid colouring returned upon the world once more, I scanned the view keenly\",\n",
       " ' But I saw no vestige of my white figures',\n",
       " ' They were mere creatures of the half light',\n",
       " ' \"They must have been ghosts,\" I said; \"I wonder whence they dated',\n",
       " '\" For a queer notion of Grant Allen\\'s came into my head, and amused me',\n",
       " ' If each generation die and leave ghosts, he argued, the world at last will get overcrowded with them',\n",
       " ' On that theory they would have grown innumerable some Eight Hundred Thousand Years hence, and it was no great wonder to see four at once',\n",
       " \" But the jest was unsatisfying, and I was thinking of these figures all the morning, until Weena's rescue drove them out of my head\",\n",
       " ' I associated them in some indefinite way with the white animal I had startled in my first passionate search for the Time Machine',\n",
       " ' But Weena was a pleasant substitute',\n",
       " ' Yet all the same, they were soon destined to take far deadlier possession of my mind',\n",
       " \"  'I think I have said how much hotter than our own was the weather of this Golden Age\",\n",
       " ' I cannot account for it',\n",
       " ' It may be that the sun was hotter, or the earth nearer the sun',\n",
       " ' It is usual to assume that the sun will go on cooling steadily in the future',\n",
       " ' But people, unfamiliar with such speculations as those of the younger Darwin, forget that the planets must ultimately fall back one by one into the parent body',\n",
       " ' As these catastrophes occur, the sun will blaze with renewed energy; and it may be that some inner planet had suffered this fate',\n",
       " ' Whatever the reason, the fact remains that the sun was very much hotter than we know it',\n",
       " \"  'Well, one very hot morning  my fourth, I think  as I was seeking shelter from the heat and glare in a colossal ruin near the great house where I slept and fed, there happened this strange thing: Clambering among these heaps of masonry, I found a narrow gallery, whose end and side windows were blocked by fallen masses of stone\",\n",
       " ' By contrast with the brilliancy outside, it seemed at first impenetrably dark to me',\n",
       " ' I entered it groping, for the change from light to blackness made spots of colour swim before me',\n",
       " ' Suddenly I halted spellbound',\n",
       " ' A pair of eyes, luminous by reflection against the daylight without, was watching me out of the darkness',\n",
       " \"  'The old instinctive dread of wild beasts came upon me\",\n",
       " ' I clenched my hands and steadfastly looked into the glaring eyeballs',\n",
       " ' I was afraid to turn',\n",
       " ' Then the thought of the absolute security in which humanity appeared to be living came to my mind',\n",
       " ' And then I remembered that strange terror of the dark',\n",
       " ' Overcoming my fear to some extent, I advanced a step and spoke',\n",
       " ' I will admit that my voice was harsh and ill controlled',\n",
       " ' I put out my hand and touched something soft',\n",
       " ' At once the eyes darted sideways, and something white ran past me',\n",
       " ' I turned with my heart in my mouth, and saw a queer little ape like figure, its head held down in a peculiar manner, running across the sunlit space behind me',\n",
       " ' It blundered against a block of granite, staggered aside, and in a moment was hidden in a black shadow beneath another pile of ruined masonry',\n",
       " \"  'My impression of it is, of course, imperfect; but I know it was a dull white, and had strange large greyish red eyes; also that there was flaxen hair on its head and down its back\",\n",
       " ' But, as I say, it went too fast for me to see distinctly',\n",
       " ' I cannot even say whether it ran on all fours, or only with its forearms held very low',\n",
       " \" After an instant's pause I followed it into the second heap of ruins\",\n",
       " ' I could not find it at first; but, after a time in the profound obscurity, I came upon one of those round well like openings of which I have told you, half closed by a fallen pillar',\n",
       " ' A sudden thought came to me',\n",
       " ' Could this Thing have vanished down the shaft? I lit a match, and, looking down, I saw a small, white, moving creature, with large bright eyes which regarded me steadfastly as it retreated',\n",
       " ' It made me shudder',\n",
       " ' It was so like a human spider! It was clambering down the wall, and now I saw for the first time a number of metal foot and hand rests forming a kind of ladder down the shaft',\n",
       " ' Then the light burned my fingers and fell out of my hand, going out as it dropped, and when I had lit another the little monster had disappeared',\n",
       " \"  'I do not know how long I sat peering down that well\",\n",
       " ' It was not for some time that I could succeed in persuading myself that the thing I had seen was human',\n",
       " ' But, gradually, the truth dawned on me: that Man had not remained one species, but had differentiated into two distinct animals: that my graceful children of the Upper world were not the sole descendants of our generation, but that this bleached, obscene, nocturnal Thing, which had flashed before me, was also heir to all the ages',\n",
       " \"  'I thought of the flickering pillars and of my theory of an underground ventilation\",\n",
       " ' I began to suspect their true import',\n",
       " ' And what, I wondered, was this Lemur doing in my scheme of a perfectly balanced organization? How was it related to the indolent serenity of the beautiful Upper worlders? And what was hidden down there, at the foot of that shaft? I sat upon the edge of the well telling myself that, at any rate, there was nothing to fear, and that there I must descend for the solution of my difficulties',\n",
       " ' And withal I was absolutely afraid to go! As I hesitated, two of the beautiful Upper world people came running in their amorous sport across the daylight in the shadow',\n",
       " ' The male pursued the female, flinging flowers at her as he ran',\n",
       " \"  'They seemed distressed to find me, my arm against the overturned pillar, peering down the well\",\n",
       " ' Apparently it was considered bad form to remark these apertures; for when I pointed to this one, and tried to frame a question about it in their tongue, they were still more visibly distressed and turned away',\n",
       " ' But they were interested by my matches, and I struck some to amuse them',\n",
       " ' I tried them again about the well, and again I failed',\n",
       " ' So presently I left them, meaning to go back to Weena, and see what I could get from her',\n",
       " ' But my mind was already in revolution; my guesses and impressions were slipping and sliding to a new adjustment',\n",
       " ' I had now a clue to the import of these wells, to the ventilating towers, to the mystery of the ghosts; to say nothing of a hint at the meaning of the bronze gates and the fate of the Time Machine! And very vaguely there came a suggestion towards the solution of the economic problem that had puzzled me',\n",
       " \"  'Here was the new view\",\n",
       " ' Plainly, this second species of Man was subterranean',\n",
       " ' There were three circumstances in particular which made me think that its rare emergence above ground was the outcome of a long continued underground habit',\n",
       " ' In the first place, there was the bleached look common in most animals that live largely in the dark  the white fish of the Kentucky caves, for instance',\n",
       " ' Then, those large eyes, with that capacity for reflecting light, are common features of nocturnal things  witness the owl and the cat',\n",
       " ' And last of all, that evident confusion in the sunshine, that hasty yet fumbling awkward flight towards dark shadow, and that peculiar carriage of the head while in the light  all reinforced the theory of an extreme sensitiveness of the retina',\n",
       " \"  'Beneath my feet, then, the earth must be tunnelled enormously, and these tunnellings were the habitat of the new race\",\n",
       " ' The presence of ventilating shafts and wells along the hill slopes  everywhere, in fact, except along the river valley  showed how universal were its ramifications',\n",
       " ' What so natural, then, as to assume that it was in this artificial Underworld that such work as was necessary to the comfort of the daylight race was done? The notion was so plausible that I at once accepted it, and went on to assume the  how  of this splitting of the human species',\n",
       " ' I dare say you will anticipate the shape of my theory; though, for myself, I very soon felt that it fell far short of the truth',\n",
       " \"  'At first, proceeding from the problems of our own age, it seemed clear as daylight to me that the gradual widening of the present merely temporary and social difference between the Capitalist and the Labourer, was the key to the whole position\",\n",
       " ' No doubt it will seem grotesque enough to you  and wildly incredible!  and yet even now there are existing circumstances to point that way',\n",
       " ' There is a tendency to utilize underground space for the less ornamental purposes of civilization; there is the Metropolitan Railway in London, for instance, there are new electric railways, there are subways, there are underground workrooms and restaurants, and they increase and multiply',\n",
       " ' Evidently, I thought, this tendency had increased till Industry had gradually lost its birthright in the sky',\n",
       " \" I mean that it had gone deeper and deeper into larger and ever larger underground factories, spending a still increasing amount of its time therein, till, in the end  ! Even now, does not an East end worker live in such artificial conditions as practically to be cut off from the natural surface of the earth?  'Again, the exclusive tendency of richer people  due, no doubt, to the increasing refinement of their education, and the widening gulf between them and the rude violence of the poor  is already leading to the closing, in their interest, of considerable portions of the surface of the land\",\n",
       " ' About London, for instance, perhaps half the prettier country is shut in against intrusion',\n",
       " ' And this same widening gulf  which is due to the length and expense of the higher educational process and the increased facilities for and temptations towards refined habits on the part of the rich  will make that exchange between class and class, that promotion by intermarriage which at present retards the splitting of our species along lines of social stratification, less and less frequent',\n",
       " ' So, in the end, above ground you must have the Haves, pursuing pleasure and comfort and beauty, and below ground the Have nots, the Workers getting continually adapted to the conditions of their labour',\n",
       " ' Once they were there, they would no doubt have to pay rent, and not a little of it, for the ventilation of their caverns; and if they refused, they would starve or be suffocated for arrears',\n",
       " ' Such of them as were so constituted as to be miserable and rebellious would die; and, in the end, the balance being permanent, the survivors would become as well adapted to the conditions of underground life, and as happy in their way, as the Upper world people were to theirs',\n",
       " ' As it seemed to me, the refined beauty and the etiolated pallor followed naturally enough',\n",
       " \"  'The great triumph of Humanity I had dreamed of took a different shape in my mind\",\n",
       " ' It had been no such triumph of moral education and general co operation as I had imagined',\n",
       " ' Instead, I saw a real aristocracy, armed with a perfected science and working to a logical conclusion the industrial system of to day',\n",
       " ' Its triumph had not been simply a triumph over Nature, but a triumph over Nature and the fellow man',\n",
       " ' This, I must warn you, was my theory at the time',\n",
       " ' I had no convenient cicerone in the pattern of the Utopian books',\n",
       " ' My explanation may be absolutely wrong',\n",
       " ' I still think it is the most plausible one',\n",
       " ' But even on this supposition the balanced civilization that was at last attained must have long since passed its zenith, and was now far fallen into decay',\n",
       " ' The too perfect security of the Upper worlders had led them to a slow movement of degeneration, to a general dwindling in size, strength, and intelligence',\n",
       " ' That I could see clearly enough already',\n",
       " ' What had happened to the Under grounders I did not yet suspect; but from what I had seen of the Morlocks  that, by the by, was the name by which these creatures were called  I could imagine that the modification of the human type was even far more profound than among the \"Eloi,\" the beautiful race that I already knew',\n",
       " \"  'Then came troublesome doubts\",\n",
       " ' Why had the Morlocks taken my Time Machine? For I felt sure it was they who had taken it',\n",
       " ' Why, too, if the Eloi were masters, could they not restore the machine to me? And why were they so terribly afraid of the dark? I proceeded, as I have said, to question Weena about this Under world, but here again I was disappointed',\n",
       " ' At first she would not understand my questions, and presently she refused to answer them',\n",
       " ' She shivered as though the topic was unendurable',\n",
       " ' And when I pressed her, perhaps a little harshly, she burst into tears',\n",
       " ' They were the only tears, except my own, I ever saw in that Golden Age',\n",
       " \" When I saw them I ceased abruptly to trouble about the Morlocks, and was only concerned in banishing these signs of the human inheritance from Weena's eyes\",\n",
       " ' And very soon she was smiling and clapping her hands, while I solemnly burned a match',\n",
       " \"     VI   'It may seem odd to you, but it was two days before I could follow up the new found clue in what was manifestly the proper way\",\n",
       " ' I felt a peculiar shrinking from those pallid bodies',\n",
       " ' They were just the half bleached colour of the worms and things one sees preserved in spirit in a zoological museum',\n",
       " ' And they were filthily cold to the touch',\n",
       " ' Probably my shrinking was largely due to the sympathetic influence of the Eloi, whose disgust of the Morlocks I now began to appreciate',\n",
       " \"  'The next night I did not sleep well\",\n",
       " ' Probably my health was a little disordered',\n",
       " ' I was oppressed with perplexity and doubt',\n",
       " ' Once or twice I had a feeling of intense fear for which I could perceive no definite reason',\n",
       " ' I remember creeping noiselessly into the great hall where the little people were sleeping in the moonlight  that night Weena was among them  and feeling reassured by their presence',\n",
       " ' It occurred to me even then, that in the course of a few days the moon must pass through its last quarter, and the nights grow dark, when the appearances of these unpleasant creatures from below, these whitened Lemurs, this new vermin that had replaced the old, might be more abundant',\n",
       " ' And on both these days I had the restless feeling of one who shirks an inevitable duty',\n",
       " ' I felt assured that the Time Machine was only to be recovered by boldly penetrating these underground mysteries',\n",
       " ' Yet I could not face the mystery',\n",
       " ' If only I had had a companion it would have been different',\n",
       " ' But I was so horribly alone, and even to clamber down into the darkness of the well appalled me',\n",
       " \" I don't know if you will understand my feeling, but I never felt quite safe at my back\",\n",
       " \"  'It was this restlessness, this insecurity, perhaps, that drove me further and further afield in my exploring expeditions\",\n",
       " ' Going to the south westward towards the rising country that is now called Combe Wood, I observed far off, in the direction of nineteenth century Banstead, a vast green structure, different in character from any I had hitherto seen',\n",
       " ' It was larger than the largest of the palaces or ruins I knew, and the facade had an Oriental look: the face of it having the lustre, as well as the pale green tint, a kind of bluish green, of a certain type of Chinese porcelain',\n",
       " ' This difference in aspect suggested a difference in use, and I was minded to push on and explore',\n",
       " ' But the day was growing late, and I had come upon the sight of the place after a long and tiring circuit; so I resolved to hold over the adventure for the following day, and I returned to the welcome and the caresses of little Weena',\n",
       " ' But next morning I perceived clearly enough that my curiosity regarding the Palace of Green Porcelain was a piece of self deception, to enable me to shirk, by another day, an experience I dreaded',\n",
       " ' I resolved I would make the descent without further waste of time, and started out in the early morning towards a well near the ruins of granite and aluminium',\n",
       " \"  'Little Weena ran with me\",\n",
       " ' She danced beside me to the well, but when she saw me lean over the mouth and look downward, she seemed strangely disconcerted',\n",
       " ' \"Good bye, little Weena,\" I said, kissing her; and then putting her down, I began to feel over the parapet for the climbing hooks',\n",
       " ' Rather hastily, I may as well confess, for I feared my courage might leak away! At first she watched me in amazement',\n",
       " ' Then she gave a most piteous cry, and running to me, she began to pull at me with her little hands',\n",
       " ' I think her opposition nerved me rather to proceed',\n",
       " ' I shook her off, perhaps a little roughly, and in another moment I was in the throat of the well',\n",
       " ' I saw her agonized face over the parapet, and smiled to reassure her',\n",
       " ' Then I had to look down at the unstable hooks to which I clung',\n",
       " \"  'I had to clamber down a shaft of perhaps two hundred yards\",\n",
       " ' The descent was effected by means of metallic bars projecting from the sides of the well, and these being adapted to the needs of a creature much smaller and lighter than myself, I was speedily cramped and fatigued by the descent',\n",
       " ' And not simply fatigued! One of the bars bent suddenly under my weight, and almost swung me off into the blackness beneath',\n",
       " ' For a moment I hung by one hand, and after that experience I did not dare to rest again',\n",
       " ' Though my arms and back were presently acutely painful, I went on clambering down the sheer descent with as quick a motion as possible',\n",
       " \" Glancing upward, I saw the aperture, a small blue disk, in which a star was visible, while little Weena's head showed as a round black projection\",\n",
       " ' The thudding sound of a machine below grew louder and more oppressive',\n",
       " ' Everything save that little disk above was profoundly dark, and when I looked up again Weena had disappeared',\n",
       " \"  'I was in an agony of discomfort\",\n",
       " ' I had some thought of trying to go up the shaft again, and leave the Under world alone',\n",
       " ' But even while I turned this over in my mind I continued to descend',\n",
       " ' At last, with intense relief, I saw dimly coming up, a foot to the right of me, a slender loophole in the wall',\n",
       " ' Swinging myself in, I found it was the aperture of a narrow horizontal tunnel in which I could lie down and rest',\n",
       " ' It was not too soon',\n",
       " ' My arms ached, my back was cramped, and I was trembling with the prolonged terror of a fall',\n",
       " ' Besides this, the unbroken darkness had had a distressing effect upon my eyes',\n",
       " ' The air was full of the throb and hum of machinery pumping air down the shaft',\n",
       " \"  'I do not know how long I lay\",\n",
       " ' I was roused by a soft hand touching my face',\n",
       " ' Starting up in the darkness I snatched at my matches and, hastily striking one, I saw three stooping white creatures similar to the one I had seen above ground in the ruin, hastily retreating before the light',\n",
       " ' Living, as they did, in what appeared to me impenetrable darkness, their eyes were abnormally large and sensitive, just as are the pupils of the abysmal fishes, and they reflected the light in the same way',\n",
       " ...]"
      ]
     },
     "execution_count": 12,
     "metadata": {},
     "output_type": "execute_result"
    }
   ],
   "source": [
    "# split articles\n",
    "sentences = df.article[0].split('.')\n",
    "sentences"
   ]
  },
  {
   "cell_type": "code",
   "execution_count": 13,
   "metadata": {},
   "outputs": [
    {
     "data": {
      "text/plain": [
       "(2014, 1024)"
      ]
     },
     "execution_count": 13,
     "metadata": {},
     "output_type": "execute_result"
    }
   ],
   "source": [
    "# get sentences embeddings\n",
    "sentence_embeddings = model.encode(sentences)\n",
    "sentence_embeddings.shape"
   ]
  },
  {
   "cell_type": "markdown",
   "metadata": {},
   "source": [
    "caculate the similarity between sentences and beliefs by using cosine_similarity"
   ]
  },
  {
   "cell_type": "code",
   "execution_count": 14,
   "metadata": {},
   "outputs": [
    {
     "data": {
      "text/plain": [
       "[0.5588477,\n",
       " 0.5278709,\n",
       " 0.62620753,\n",
       " 0.44709566,\n",
       " 0.5989601,\n",
       " 0.54649675,\n",
       " 0.577142,\n",
       " 0.5700769,\n",
       " 0.5217863,\n",
       " 0.6457208]"
      ]
     },
     "execution_count": 14,
     "metadata": {},
     "output_type": "execute_result"
    }
   ],
   "source": [
    "similarity = []\n",
    "for belief in beliefs_embeddings:\n",
    "    max_simi = 0\n",
    "    for sentence in sentence_embeddings:\n",
    "        simi = cosine_similarity([belief], [sentence])[0][0]\n",
    "        # choose the maximum similarity because if there is a sentence strong related to one belief,\n",
    "        # that means this belief is writer's belief\n",
    "        max_simi = max(simi, max_simi)\n",
    "    similarity.append(max_simi)\n",
    "similarity"
   ]
  },
  {
   "cell_type": "markdown",
   "metadata": {},
   "source": [
    "In similarity, the odd values are positive attitude similarity and the even values are negative attitude similarity. Print author's attitudes about topics"
   ]
  },
  {
   "cell_type": "code",
   "execution_count": 20,
   "metadata": {},
   "outputs": [
    {
     "name": "stdout",
     "output_type": "stream",
     "text": [
      "supports time traveller\n",
      "supports electronic work\n",
      "supports thick dust\n",
      "supports time dimension\n",
      "opposes silent man\n"
     ]
    }
   ],
   "source": [
    "for i in range(len(similarity)):\n",
    "    if i%2==1:\n",
    "        if similarity[i]>similarity[i-1]:\n",
    "            print(beliefs[i])\n",
    "        else:\n",
    "            print(beliefs[i-1])"
   ]
  },
  {
   "cell_type": "markdown",
   "metadata": {},
   "source": [
    "### Conclusion:          Cannot always use \"supports\" and \"opposes\" to make sentence.      \n",
    "### Next exploration:    Try to find suitable verbs in the text"
   ]
  },
  {
   "cell_type": "markdown",
   "metadata": {},
   "source": [
    "Dino: There is not enough of a difference between positive and negative position to conclude one way or another."
   ]
  },
  {
   "cell_type": "markdown",
   "metadata": {},
   "source": [
    "Dino: Chuanyang, this is not a code file, it's a jupyter notebook. All the comments should be in markdown cells. THe only comments in code cells are to illustrate the code, not the intent behind the code."
   ]
  },
  {
   "cell_type": "markdown",
   "metadata": {},
   "source": [
    "# Extract the most common Verb\n",
    "Try to find the most common verbs by using Counter"
   ]
  },
  {
   "cell_type": "code",
   "execution_count": 15,
   "metadata": {},
   "outputs": [
    {
     "data": {
      "text/html": [
       "<div>\n",
       "<style scoped>\n",
       "    .dataframe tbody tr th:only-of-type {\n",
       "        vertical-align: middle;\n",
       "    }\n",
       "\n",
       "    .dataframe tbody tr th {\n",
       "        vertical-align: top;\n",
       "    }\n",
       "\n",
       "    .dataframe thead th {\n",
       "        text-align: right;\n",
       "    }\n",
       "</style>\n",
       "<table border=\"1\" class=\"dataframe\">\n",
       "  <thead>\n",
       "    <tr style=\"text-align: right;\">\n",
       "      <th></th>\n",
       "      <th>title</th>\n",
       "      <th>article</th>\n",
       "    </tr>\n",
       "  </thead>\n",
       "  <tbody>\n",
       "    <tr>\n",
       "      <th>0</th>\n",
       "      <td>The Time Machine.txt</td>\n",
       "      <td>i   the time traveller (for so it will be conv...</td>\n",
       "    </tr>\n",
       "  </tbody>\n",
       "</table>\n",
       "</div>"
      ],
      "text/plain": [
       "                  title                                            article\n",
       "0  The Time Machine.txt  i   the time traveller (for so it will be conv..."
      ]
     },
     "execution_count": 15,
     "metadata": {},
     "output_type": "execute_result"
    }
   ],
   "source": [
    "# lowercase article\n",
    "df.article = df.article.apply(lambda x : x.lower())\n",
    "df"
   ]
  },
  {
   "cell_type": "markdown",
   "metadata": {},
   "source": [
    "Example about converting verbs to original form, the performance isn't good. Then try to convert verbs based on their pos_tag"
   ]
  },
  {
   "cell_type": "code",
   "execution_count": 16,
   "metadata": {},
   "outputs": [
    {
     "data": {
      "text/plain": [
       "'doe do did doing study study studied studying cry cry cried cry '"
      ]
     },
     "execution_count": 16,
     "metadata": {},
     "output_type": "execute_result"
    }
   ],
   "source": [
    "# convert verbs to original form Example \n",
    "import nltk\n",
    "from nltk.stem import WordNetLemmatizer\n",
    "wordnet_lemmatizer = WordNetLemmatizer()\n",
    "text = \"does do did doing studies study studied studying cries cry cried crying\"\n",
    "tokenization = nltk.word_tokenize(text)\n",
    "new_text = \"\"\n",
    "for w in tokenization:\n",
    "    new_text = new_text + wordnet_lemmatizer.lemmatize(w)\n",
    "    new_text = new_text + ' '\n",
    "    \n",
    "new_text"
   ]
  },
  {
   "cell_type": "code",
   "execution_count": 17,
   "metadata": {},
   "outputs": [],
   "source": [
    "# get words' pos_tag\n",
    "from nltk import word_tokenize, pos_tag\n",
    "from nltk.corpus import wordnet\n",
    "from nltk.stem import WordNetLemmatizer\n",
    "\n",
    "def get_wordnet_pos(tag):\n",
    "    if tag.startswith('J'):\n",
    "        return wordnet.ADJ\n",
    "    elif tag.startswith('V'):\n",
    "        return wordnet.VERB\n",
    "    elif tag.startswith('N'):\n",
    "        return wordnet.NOUN\n",
    "    elif tag.startswith('R'):\n",
    "        return wordnet.ADV\n",
    "    else:\n",
    "        return None"
   ]
  },
  {
   "cell_type": "code",
   "execution_count": 18,
   "metadata": {},
   "outputs": [
    {
     "data": {
      "text/plain": [
       "'do do do do study study study study cry cry cry cry '"
      ]
     },
     "execution_count": 18,
     "metadata": {},
     "output_type": "execute_result"
    }
   ],
   "source": [
    "# convert verbs to original form based on pog_tag\n",
    "def lemma(sentence):\n",
    "    tokens = word_tokenize(sentence) \n",
    "    tagged_sent = pos_tag(tokens)     # get pos tag\n",
    "\n",
    "    wnl = WordNetLemmatizer()\n",
    "    lemmas_sent = ''\n",
    "    for tag in tagged_sent:\n",
    "        wordnet_pos = get_wordnet_pos(tag[1]) or wordnet.NOUN\n",
    "        lemmas_sent = lemmas_sent + wnl.lemmatize(tag[0], pos=wordnet_pos)\n",
    "        lemmas_sent = lemmas_sent + ' '\n",
    "\n",
    "    return lemmas_sent\n",
    "\n",
    "sentence = \"does do did doing studies study studied studying cries cry cried crying\"\n",
    "lemma(sentence)"
   ]
  },
  {
   "cell_type": "code",
   "execution_count": 19,
   "metadata": {},
   "outputs": [
    {
     "name": "stdout",
     "output_type": "stream",
     "text": [
      "i   the time traveller (for so it will be convenient to speak of him) was expounding a recondite matter to us. his grey eyes shone and twinkled, and his usually pale face was flushed and animated. the fire burned brightly, and the soft radiance of the incandescent lights in the lilies of silver caught the bubbles that flashed and passed in our glasses. our chairs, being his patents, embraced and caressed us rather than submitted to be sat upon, and there was that luxurious after dinner atmosphere when thought roams gracefully free of the trammels of precision. and he put it to us in this way  marking the points with a lean forefinger  as we sat and lazily admired his earnestness over this new paradox (as we thought it) and his fecundity.  'you must follow me carefully. i shall have to controvert one or two ideas that are almost universally accepted. the geometry, for instance, they taught you at school is founded on a misconception.'  'is not that rather a large thing to expect us to begin upon?' said filby, an argumentative person with red hair.  'i do not mean to ask you to accept anything without reasonable ground for it. you will soon admit as much as i need from you. you know of course that a mathematical line, a line of thickness  nil , has no real existence. they taught you that? neither has a mathematical plane. these things are mere abstractions.'  'that is all right,' said the psychologist.  'nor, having only length, breadth, and thickness, can a cube have a real existence.'  'there i object,' said filby. 'of course a solid body may exist. all real things  '  'so most people think. but wait a moment. can an  instantaneous  cube exist?'  'don't follow you,' said filby.  'can a cube that does not last for any time at all, have a real existence?'  filby became pensive. 'clearly,' the time traveller proceeded, 'any real body must have extension in  four  directions: it must have length, breadth, thickness, and  duration. but through a natural infirmity of the flesh, which i will explain to you in a moment, we incline to overlook this fact. there are really four dimensions, three which we call the three planes of space, and a fourth, time. there is, however, a tendency to draw an unreal distinction between the former three dimensions and the latter, because it happens that our consciousness moves intermittently in one direction along the latter from the beginning to the end of our lives.'  'that,' said a very young man, making spasmodic efforts to relight his cigar over the lamp; 'that ... very clear indeed.'  'now, it is very remarkable that this is so extensively overlooked,' continued the time traveller, with a slight accession of cheerfulness. 'really this is what is meant by the fourth dimension, though some people who talk about the fourth dimension do not know they mean it. it is only another way of looking at time.  there is no difference between time and any of the three dimensions of space except that our consciousness moves along it . but some foolish people have got hold of the wrong side of that idea. you have all heard what they have to say about this fourth dimension?'  ' i  have not,' said the provincial mayor.  'it is simply this. that space, as our mathematicians have it, is spoken of as having three dimensions, which one may call length, breadth, and thickness, and is always definable by reference to three planes, each at right angles to the others. but some philosophical people have been asking why  three  dimensions particularly  why not another direction at right angles to the other three?  and have even tried to construct a four dimension geometry. professor simon newcomb was expounding this to the new york mathematical society only a month or so ago. you know how on a flat surface, which has only two dimensions, we can represent a figure of a three dimensional solid, and similarly they think that by models of three dimensions they could represent one of four  if they could master the perspective of the thing. see?'  'i think so,' murmured the provincial mayor; and, knitting his brows, he lapsed into an introspective state, his lips moving as one who repeats mystic words. 'yes, i think i see it now,' he said after some time, brightening in a quite transitory manner.  'well, i do not mind telling you i have been at work upon this geometry of four dimensions for some time. some of my results are curious. for instance, here is a portrait of a man at eight years old, another at fifteen, another at seventeen, another at twenty three, and so on. all these are evidently sections, as it were, three dimensional representations of his four dimensioned being, which is a fixed and unalterable thing.  'scientific people,' proceeded the time traveller, after the pause required for the proper assimilation of this, 'know very well that time is only a kind of space. here is a popular scientific diagram, a weather record. this line i trace with my finger shows the movement of the barometer. yesterday it was so high, yesterday night it fell, then this morning it rose again, and so gently upward to here. surely the mercury did not trace this line in any of the dimensions of space generally recognized? but certainly it traced such a line, and that line, therefore, we must conclude was along the time dimension.'  'but,' said the medical man, staring hard at a coal in the fire, 'if time is really only a fourth dimension of space, why is it, and why has it always been, regarded as something different? and why cannot we move in time as we move about in the other dimensions of space?'  the time traveller smiled. 'are you sure we can move freely in space? right and left we can go, backward and forward freely enough, and men always have done so. i admit we move freely in two dimensions. but how about up and down? gravitation limits us there.'  'not exactly,' said the medical man. 'there are balloons.'  'but before the balloons, save for spasmodic jumping and the inequalities of the surface, man had no freedom of vertical movement.'  'still they could move a little up and down,' said the medical man.  'easier, far easier down than up.'  'and you cannot move at all in time, you cannot get away from the present moment.'  'my dear sir, that is just where you are wrong. that is just where the whole world has gone wrong. we are always getting away from the present moment. our mental existences, which are immaterial and have no dimensions, are passing along the time dimension with a uniform velocity from the cradle to the grave. just as we should travel  down  if we began our existence fifty miles above the earth's surface.'  'but the great difficulty is this,' interrupted the psychologist. 'you  can  move about in all directions of space, but you cannot move about in time.'  'that is the germ of my great discovery. but you are wrong to say that we cannot move about in time. for instance, if i am recalling an incident very vividly i go back to the instant of its occurrence: i become absent minded, as you say. i jump back for a moment. of course we have no means of staying back for any length of time, any more than a savage or an animal has of staying six feet above the ground. but a civilized man is better off than the savage in this respect. he can go up against gravitation in a balloon, and why should he not hope that ultimately he may be able to stop or accelerate his drift along the time dimension, or even turn about and travel the other way?'  'oh,  this ,' began filby, 'is all  '  'why not?' said the time traveller.  'it's against reason,' said filby.  'what reason?' said the time traveller.  'you can show black is white by argument,' said filby, 'but you will never convince me.'  'possibly not,' said the time traveller. 'but now you begin to see the object of my investigations into the geometry of four dimensions. long ago i had a vague inkling of a machine  '  'to travel through time!' exclaimed the very young man.  'that shall travel indifferently in any direction of space and time, as the driver determines.'  filby contented himself with laughter.  'but i have experimental verification,' said the time traveller.  'it would be remarkably convenient for the historian,' the psychologist suggested. 'one might travel back and verify the accepted account of the battle of hastings, for instance!'  'don't you think you would attract attention?' said the medical man. 'our ancestors had no great tolerance for anachronisms.'  'one might get one's greek from the very lips of homer and plato,' the very young man thought.  'in which case they would certainly plough you for the little go. the german scholars have improved greek so much.'  'then there is the future,' said the very young man. 'just think! one might invest all one's money, leave it to accumulate at interest, and hurry on ahead!'  'to discover a society,' said i, 'erected on a strictly communistic basis.'  'of all the wild extravagant theories!' began the psychologist.  'yes, so it seemed to me, and so i never talked of it until  '  'experimental verification!' cried i. 'you are going to verify  that ?'  'the experiment!' cried filby, who was getting brain weary.  'let's see your experiment anyhow,' said the psychologist, 'though it's all humbug, you know.'  the time traveller smiled round at us. then, still smiling faintly, and with his hands deep in his trousers pockets, he walked slowly out of the room, and we heard his slippers shuffling down the long passage to his laboratory.  the psychologist looked at us. 'i wonder what he's got?'  'some sleight of hand trick or other,' said the medical man, and filby tried to tell us about a conjurer he had seen at burslem; but before he had finished his preface the time traveller came back, and filby's anecdote collapsed.  the thing the time traveller held in his hand was a glittering metallic framework, scarcely larger than a small clock, and very delicately made. there was ivory in it, and some transparent crystalline substance. and now i must be explicit, for this that follows  unless his explanation is to be accepted  is an absolutely unaccountable thing. he took one of the small octagonal tables that were scattered about the room, and set it in front of the fire, with two legs on the hearthrug. on this table he placed the mechanism. then he drew up a chair, and sat down. the only other object on the table was a small shaded lamp, the bright light of which fell upon the model. there were also perhaps a dozen candles about, two in brass candlesticks upon the mantel and several in sconces, so that the room was brilliantly illuminated. i sat in a low arm chair nearest the fire, and i drew this forward so as to be almost between the time traveller and the fireplace. filby sat behind him, looking over his shoulder. the medical man and the provincial mayor watched him in profile from the right, the psychologist from the left. the very young man stood behind the psychologist. we were all on the alert. it appears incredible to me that any kind of trick, however subtly conceived and however adroitly done, could have been played upon us under these conditions.  the time traveller looked at us, and then at the mechanism. 'well?' said the psychologist.  'this little affair,' said the time traveller, resting his elbows upon the table and pressing his hands together above the apparatus, 'is only a model. it is my plan for a machine to travel through time. you will notice that it looks singularly askew, and that there is an odd twinkling appearance about this bar, as though it was in some way unreal.' he pointed to the part with his finger. 'also, here is one little white lever, and here is another.'  the medical man got up out of his chair and peered into the thing. 'it's beautifully made,' he said.  'it took two years to make,' retorted the time traveller. then, when we had all imitated the action of the medical man, he said: 'now i want you clearly to understand that this lever, being pressed over, sends the machine gliding into the future, and this other reverses the motion. this saddle represents the seat of a time traveller. presently i am going to press the lever, and off the machine will go. it will vanish, pass into future time, and disappear. have a good look at the thing. look at the table too, and satisfy yourselves there is no trickery. i don't want to waste this model, and then be told i'm a quack.'  there was a minute's pause perhaps. the psychologist seemed about to speak to me, but changed his mind. then the time traveller put forth his finger towards the lever. 'no,' he said suddenly. 'lend me your hand.' and turning to the psychologist, he took that individual's hand in his own and told him to put out his forefinger. so that it was the psychologist himself who sent forth the model time machine on its interminable voyage. we all saw the lever turn. i am absolutely certain there was no trickery. there was a breath of wind, and the lamp flame jumped. one of the candles on the mantel was blown out, and the little machine suddenly swung round, became indistinct, was seen as a ghost for a second perhaps, as an eddy of faintly glittering brass and ivory; and it was gone  vanished! save for the lamp the table was bare.  everyone was silent for a minute. then filby said he was damned.  the psychologist recovered from his stupor, and suddenly looked under the table. at that the time traveller laughed cheerfully. 'well?' he said, with a reminiscence of the psychologist. then, getting up, he went to the tobacco jar on the mantel, and with his back to us began to fill his pipe.  we stared at each other. 'look here,' said the medical man, 'are you in earnest about this? do you seriously believe that that machine has travelled into time?'  'certainly,' said the time traveller, stooping to light a spill at the fire. then he turned, lighting his pipe, to look at the psychologist's face. (the psychologist, to show that he was not unhinged, helped himself to a cigar and tried to light it uncut.) 'what is more, i have a big machine nearly finished in there'  he indicated the laboratory  'and when that is put together i mean to have a journey on my own account.'  'you mean to say that that machine has travelled into the future?' said filby.  'into the future or the past  i don't, for certain, know which.'  after an interval the psychologist had an inspiration. 'it must have gone into the past if it has gone anywhere,' he said.  'why?' said the time traveller.  'because i presume that it has not moved in space, and if it travelled into the future it would still be here all this time, since it must have travelled through this time.'  'but,' i said, 'if it travelled into the past it would have been visible when we came first into this room; and last thursday when we were here; and the thursday before that; and so forth!'  'serious objections,' remarked the provincial mayor, with an air of impartiality, turning towards the time traveller.  'not a bit,' said the time traveller, and, to the psychologist: 'you think. you can explain that. it's presentation below the threshold, you know, diluted presentation.'  'of course,' said the psychologist, and reassured us. 'that's a simple point of psychology. i should have thought of it. it's plain enough, and helps the paradox delightfully. we cannot see it, nor can we appreciate this machine, any more than we can the spoke of a wheel spinning, or a bullet flying through the air. if it is travelling through time fifty times or a hundred times faster than we are, if it gets through a minute while we get through a second, the impression it creates will of course be only one fiftieth or one hundredth of what it would make if it were not travelling in time. that's plain enough.' he passed his hand through the space in which the machine had been. 'you see?' he said, laughing.  we sat and stared at the vacant table for a minute or so. then the time traveller asked us what we thought of it all.  'it sounds plausible enough to night,' said the medical man; 'but wait until to morrow. wait for the common sense of the morning.'  'would you like to see the time machine itself?' asked the time traveller. and therewith, taking the lamp in his hand, he led the way down the long, draughty corridor to his laboratory. i remember vividly the flickering light, his queer, broad head in silhouette, the dance of the shadows, how we all followed him, puzzled but incredulous, and how there in the laboratory we beheld a larger edition of the little mechanism which we had seen vanish from before our eyes. parts were of nickel, parts of ivory, parts had certainly been filed or sawn out of rock crystal. the thing was generally complete, but the twisted crystalline bars lay unfinished upon the bench beside some sheets of drawings, and i took one up for a better look at it. quartz it seemed to be.  'look here,' said the medical man, 'are you perfectly serious? or is this a trick  like that ghost you showed us last christmas?'  'upon that machine,' said the time traveller, holding the lamp aloft, 'i intend to explore time. is that plain? i was never more serious in my life.'  none of us quite knew how to take it.  i caught filby's eye over the shoulder of the medical man, and he winked at me solemnly.     ii   i think that at that time none of us quite believed in the time machine. the fact is, the time traveller was one of those men who are too clever to be believed: you never felt that you saw all round him; you always suspected some subtle reserve, some ingenuity in ambush, behind his lucid frankness. had filby shown the model and explained the matter in the time traveller's words, we should have shown  him  far less scepticism. for we should have perceived his motives; a pork butcher could understand filby. but the time traveller had more than a touch of whim among his elements, and we distrusted him. things that would have made the frame of a less clever man seemed tricks in his hands. it is a mistake to do things too easily. the serious people who took him seriously never felt quite sure of his deportment; they were somehow aware that trusting their reputations for judgment with him was like furnishing a nursery with egg shell china. so i don't think any of us said very much about time travelling in the interval between that thursday and the next, though its odd potentialities ran, no doubt, in most of our minds: its plausibility, that is, its practical incredibleness, the curious possibilities of anachronism and of utter confusion it suggested. for my own part, i was particularly preoccupied with the trick of the model. that i remember discussing with the medical man, whom i met on friday at the linnaean. he said he had seen a similar thing at tubingen, and laid considerable stress on the blowing out of the candle. but how the trick was done he could not explain.  the next thursday i went again to richmond  i suppose i was one of the time traveller's most constant guests  and, arriving late, found four or five men already assembled in his drawing room. the medical man was standing before the fire with a sheet of paper in one hand and his watch in the other. i looked round for the time traveller, and  'it's half past seven now,' said the medical man. 'i suppose we'd better have dinner?'  'where's    ?' said i, naming our host.  'you've just come? it's rather odd. he's unavoidably detained. he asks me in this note to lead off with dinner at seven if he's not back. says he'll explain when he comes.'  'it seems a pity to let the dinner spoil,' said the editor of a well known daily paper; and thereupon the doctor rang the bell.  the psychologist was the only person besides the doctor and myself who had attended the previous dinner. the other men were blank, the editor aforementioned, a certain journalist, and another  a quiet, shy man with a beard  whom i didn't know, and who, as far as my observation went, never opened his mouth all the evening. there was some speculation at the dinner table about the time traveller's absence, and i suggested time travelling, in a half jocular spirit. the editor wanted that explained to him, and the psychologist volunteered a wooden account of the 'ingenious paradox and trick' we had witnessed that day week. he was in the midst of his exposition when the door from the corridor opened slowly and without noise. i was facing the door, and saw it first. 'hallo!' i said. 'at last!' and the door opened wider, and the time traveller stood before us. i gave a cry of surprise. 'good heavens! man, what's the matter?' cried the medical man, who saw him next. and the whole tableful turned towards the door.  he was in an amazing plight. his coat was dusty and dirty, and smeared with green down the sleeves; his hair disordered, and as it seemed to me greyer  either with dust and dirt or because its colour had actually faded. his face was ghastly pale; his chin had a brown cut on it  a cut half healed; his expression was haggard and drawn, as by intense suffering. for a moment he hesitated in the doorway, as if he had been dazzled by the light. then he came into the room. he walked with just such a limp as i have seen in footsore tramps. we stared at him in silence, expecting him to speak.  he said not a word, but came painfully to the table, and made a motion towards the wine. the editor filled a glass of champagne, and pushed it towards him. he drained it, and it seemed to do him good: for he looked round the table, and the ghost of his old smile flickered across his face. 'what on earth have you been up to, man?' said the doctor. the time traveller did not seem to hear. 'don't let me disturb you,' he said, with a certain faltering articulation. 'i'm all right.' he stopped, held out his glass for more, and took it off at a draught. 'that's good,' he said. his eyes grew brighter, and a faint colour came into his cheeks. his glance flickered over our faces with a certain dull approval, and then went round the warm and comfortable room. then he spoke again, still as it were feeling his way among his words. 'i'm going to wash and dress, and then i'll come down and explain things ... save me some of that mutton. i'm starving for a bit of meat.'  he looked across at the editor, who was a rare visitor, and hoped he was all right. the editor began a question. 'tell you presently,' said the time traveller. 'i'm  funny! be all right in a minute.'  he put down his glass, and walked towards the staircase door. again i remarked his lameness and the soft padding sound of his footfall, and standing up in my place, i saw his feet as he went out. he had nothing on them but a pair of tattered, blood stained socks. then the door closed upon him. i had half a mind to follow, till i remembered how he detested any fuss about himself. for a minute, perhaps, my mind was wool gathering. then, 'remarkable behaviour of an eminent scientist,' i heard the editor say, thinking (after his wont) in headlines. and this brought my attention back to the bright dinner table.  'what's the game?' said the journalist. 'has he been doing the amateur cadger? i don't follow.' i met the eye of the psychologist, and read my own interpretation in his face. i thought of the time traveller limping painfully upstairs. i don't think any one else had noticed his lameness.  the first to recover completely from this surprise was the medical man, who rang the bell  the time traveller hated to have servants waiting at dinner  for a hot plate. at that the editor turned to his knife and fork with a grunt, and the silent man followed suit. the dinner was resumed. conversation was exclamatory for a little while, with gaps of wonderment; and then the editor got fervent in his curiosity. 'does our friend eke out his modest income with a crossing? or has he his nebuchadnezzar phases?' he inquired. 'i feel assured it's this business of the time machine,' i said, and took up the psychologist's account of our previous meeting. the new guests were frankly incredulous. the editor raised objections. 'what  was  this time travelling? a man couldn't cover himself with dust by rolling in a paradox, could he?' and then, as the idea came home to him, he resorted to caricature. hadn't they any clothes brushes in the future? the journalist too, would not believe at any price, and joined the editor in the easy work of heaping ridicule on the whole thing. they were both the new kind of journalist  very joyous, irreverent young men. 'our special correspondent in the day after to morrow reports,' the journalist was saying  or rather shouting  when the time traveller came back. he was dressed in ordinary evening clothes, and nothing save his haggard look remained of the change that had startled me.  'i say,' said the editor hilariously, 'these chaps here say you have been travelling into the middle of next week! tell us all about little rosebery, will you? what will you take for the lot?'  the time traveller came to the place reserved for him without a word. he smiled quietly, in his old way. 'where's my mutton?' he said. 'what a treat it is to stick a fork into meat again!'  'story!' cried the editor.  'story be damned!' said the time traveller. 'i want something to eat. i won't say a word until i get some peptone into my arteries. thanks. and the salt.'  'one word,' said i. 'have you been time travelling?'  'yes,' said the time traveller, with his mouth full, nodding his head.  'i'd give a shilling a line for a verbatim note,' said the editor. the time traveller pushed his glass towards the silent man and rang it with his fingernail; at which the silent man, who had been staring at his face, started convulsively, and poured him wine. the rest of the dinner was uncomfortable. for my own part, sudden questions kept on rising to my lips, and i dare say it was the same with the others. the journalist tried to relieve the tension by telling anecdotes of hettie potter. the time traveller devoted his attention to his dinner, and displayed the appetite of a tramp. the medical man smoked a cigarette, and watched the time traveller through his eyelashes. the silent man seemed even more clumsy than usual, and drank champagne with regularity and determination out of sheer nervousness. at last the time traveller pushed his plate away, and looked round us. 'i suppose i must apologize,' he said. 'i was simply starving. i've had a most amazing time.' he reached out his hand for a cigar, and cut the end. 'but come into the smoking room. it's too long a story to tell over greasy plates.' and ringing the bell in passing, he led the way into the adjoining room.  'you have told blank, and dash, and chose about the machine?' he said to me, leaning back in his easy chair and naming the three new guests.  'but the thing's a mere paradox,' said the editor.  'i can't argue to night. i don't mind telling you the story, but i can't argue. i will,' he went on, 'tell you the story of what has happened to me, if you like, but you must refrain from interruptions. i want to tell it. badly. most of it will sound like lying. so be it! it's true  every word of it, all the same. i was in my laboratory at four o'clock, and since then ... i've lived eight days ... such days as no human being ever lived before! i'm nearly worn out, but i shan't sleep till i've told this thing over to you. then i shall go to bed. but no interruptions! is it agreed?'  'agreed,' said the editor, and the rest of us echoed 'agreed.' and with that the time traveller began his story as i have set it forth. he sat back in his chair at first, and spoke like a weary man. afterwards he got more animated. in writing it down i feel with only too much keenness the inadequacy of pen and ink  and, above all, my own inadequacy  to express its quality. you read, i will suppose, attentively enough; but you cannot see the speaker's white, sincere face in the bright circle of the little lamp, nor hear the intonation of his voice. you cannot know how his expression followed the turns of his story! most of us hearers were in shadow, for the candles in the smoking room had not been lighted, and only the face of the journalist and the legs of the silent man from the knees downward were illuminated. at first we glanced now and again at each other. after a time we ceased to do that, and looked only at the time traveller's face.     iii   'i told some of you last thursday of the principles of the time machine, and showed you the actual thing itself, incomplete in the workshop. there it is now, a little travel worn, truly; and one of the ivory bars is cracked, and a brass rail bent; but the rest of it's sound enough. i expected to finish it on friday, but on friday, when the putting together was nearly done, i found that one of the nickel bars was exactly one inch too short, and this i had to get remade; so that the thing was not complete until this morning. it was at ten o'clock to day that the first of all time machines began its career. i gave it a last tap, tried all the screws again, put one more drop of oil on the quartz rod, and sat myself in the saddle. i suppose a suicide who holds a pistol to his skull feels much the same wonder at what will come next as i felt then. i took the starting lever in one hand and the stopping one in the other, pressed the first, and almost immediately the second. i seemed to reel; i felt a nightmare sensation of falling; and, looking round, i saw the laboratory exactly as before. had anything happened? for a moment i suspected that my intellect had tricked me. then i noted the clock. a moment before, as it seemed, it had stood at a minute or so past ten; now it was nearly half past three!  'i drew a breath, set my teeth, gripped the starting lever with both hands, and went off with a thud. the laboratory got hazy and went dark. mrs. watchett came in and walked, apparently without seeing me, towards the garden door. i suppose it took her a minute or so to traverse the place, but to me she seemed to shoot across the room like a rocket. i pressed the lever over to its extreme position. the night came like the turning out of a lamp, and in another moment came to morrow. the laboratory grew faint and hazy, then fainter and ever fainter. to morrow night came black, then day again, night again, day again, faster and faster still. an eddying murmur filled my ears, and a strange, dumb confusedness descended on my mind.  'i am afraid i cannot convey the peculiar sensations of time travelling. they are excessively unpleasant. there is a feeling exactly like that one has upon a switchback  of a helpless headlong motion! i felt the same horrible anticipation, too, of an imminent smash. as i put on pace, night followed day like the flapping of a black wing. the dim suggestion of the laboratory seemed presently to fall away from me, and i saw the sun hopping swiftly across the sky, leaping it every minute, and every minute marking a day. i supposed the laboratory had been destroyed and i had come into the open air. i had a dim impression of scaffolding, but i was already going too fast to be conscious of any moving things. the slowest snail that ever crawled dashed by too fast for me. the twinkling succession of darkness and light was excessively painful to the eye. then, in the intermittent darknesses, i saw the moon spinning swiftly through her quarters from new to full, and had a faint glimpse of the circling stars. presently, as i went on, still gaining velocity, the palpitation of night and day merged into one continuous greyness; the sky took on a wonderful deepness of blue, a splendid luminous color like that of early twilight; the jerking sun became a streak of fire, a brilliant arch, in space; the moon a fainter fluctuating band; and i could see nothing of the stars, save now and then a brighter circle flickering in the blue.  'the landscape was misty and vague. i was still on the hill side upon which this house now stands, and the shoulder rose above me grey and dim. i saw trees growing and changing like puffs of vapour, now brown, now green; they grew, spread, shivered, and passed away. i saw huge buildings rise up faint and fair, and pass like dreams. the whole surface of the earth seemed changed  melting and flowing under my eyes. the little hands upon the dials that registered my speed raced round faster and faster. presently i noted that the sun belt swayed up and down, from solstice to solstice, in a minute or less, and that consequently my pace was over a year a minute; and minute by minute the white snow flashed across the world, and vanished, and was followed by the bright, brief green of spring.  'the unpleasant sensations of the start were less poignant now. they merged at last into a kind of hysterical exhilaration. i remarked indeed a clumsy swaying of the machine, for which i was unable to account. but my mind was too confused to attend to it, so with a kind of madness growing upon me, i flung myself into futurity. at first i scarce thought of stopping, scarce thought of anything but these new sensations. but presently a fresh series of impressions grew up in my mind  a certain curiosity and therewith a certain dread  until at last they took complete possession of me. what strange developments of humanity, what wonderful advances upon our rudimentary civilization, i thought, might not appear when i came to look nearly into the dim elusive world that raced and fluctuated before my eyes! i saw great and splendid architecture rising about me, more massive than any buildings of our own time, and yet, as it seemed, built of glimmer and mist. i saw a richer green flow up the hill side, and remain there, without any wintry intermission. even through the veil of my confusion the earth seemed very fair. and so my mind came round to the business of stopping.  'the peculiar risk lay in the possibility of my finding some substance in the space which i, or the machine, occupied. so long as i travelled at a high velocity through time, this scarcely mattered; i was, so to speak, attenuated  was slipping like a vapour through the interstices of intervening substances! but to come to a stop involved the jamming of myself, molecule by molecule, into whatever lay in my way; meant bringing my atoms into such intimate contact with those of the obstacle that a profound chemical reaction  possibly a far reaching explosion  would result, and blow myself and my apparatus out of all possible dimensions  into the unknown. this possibility had occurred to me again and again while i was making the machine; but then i had cheerfully accepted it as an unavoidable risk  one of the risks a man has got to take! now the risk was inevitable, i no longer saw it in the same cheerful light. the fact is that, insensibly, the absolute strangeness of everything, the sickly jarring and swaying of the machine, above all, the feeling of prolonged falling, had absolutely upset my nerve. i told myself that i could never stop, and with a gust of petulance i resolved to stop forthwith. like an impatient fool, i lugged over the lever, and incontinently the thing went reeling over, and i was flung headlong through the air.  'there was the sound of a clap of thunder in my ears. i may have been stunned for a moment. a pitiless hail was hissing round me, and i was sitting on soft turf in front of the overset machine. everything still seemed grey, but presently i remarked that the confusion in my ears was gone. i looked round me. i was on what seemed to be a little lawn in a garden, surrounded by rhododendron bushes, and i noticed that their mauve and purple blossoms were dropping in a shower under the beating of the hail stones. the rebounding, dancing hail hung in a cloud over the machine, and drove along the ground like smoke. in a moment i was wet to the skin. \"fine hospitality,\" said i, \"to a man who has travelled innumerable years to see you.\"  'presently i thought what a fool i was to get wet. i stood up and looked round me. a colossal figure, carved apparently in some white stone, loomed indistinctly beyond the rhododendrons through the hazy downpour. but all else of the world was invisible.  'my sensations would be hard to describe. as the columns of hail grew thinner, i saw the white figure more distinctly. it was very large, for a silver birch tree touched its shoulder. it was of white marble, in shape something like a winged sphinx, but the wings, instead of being carried vertically at the sides, were spread so that it seemed to hover. the pedestal, it appeared to me, was of bronze, and was thick with verdigris. it chanced that the face was towards me; the sightless eyes seemed to watch me; there was the faint shadow of a smile on the lips. it was greatly weather worn, and that imparted an unpleasant suggestion of disease. i stood looking at it for a little space  half a minute, perhaps, or half an hour. it seemed to advance and to recede as the hail drove before it denser or thinner. at last i tore my eyes from it for a moment and saw that the hail curtain had worn threadbare, and that the sky was lightening with the promise of the sun.  'i looked up again at the crouching white shape, and the full temerity of my voyage came suddenly upon me. what might appear when that hazy curtain was altogether withdrawn? what might not have happened to men? what if cruelty had grown into a common passion? what if in this interval the race had lost its manliness and had developed into something inhuman, unsympathetic, and overwhelmingly powerful? i might seem some old world savage animal, only the more dreadful and disgusting for our common likeness  a foul creature to be incontinently slain.  'already i saw other vast shapes  huge buildings with intricate parapets and tall columns, with a wooded hill side dimly creeping in upon me through the lessening storm. i was seized with a panic fear. i turned frantically to the time machine, and strove hard to readjust it. as i did so the shafts of the sun smote through the thunderstorm. the grey downpour was swept aside and vanished like the trailing garments of a ghost. above me, in the intense blue of the summer sky, some faint brown shreds of cloud whirled into nothingness. the great buildings about me stood out clear and distinct, shining with the wet of the thunderstorm, and picked out in white by the unmelted hailstones piled along their courses. i felt naked in a strange world. i felt as perhaps a bird may feel in the clear air, knowing the hawk wings above and will swoop. my fear grew to frenzy. i took a breathing space, set my teeth, and again grappled fiercely, wrist and knee, with the machine. it gave under my desperate onset and turned over. it struck my chin violently. one hand on the saddle, the other on the lever, i stood panting heavily in attitude to mount again.  'but with this recovery of a prompt retreat my courage recovered. i looked more curiously and less fearfully at this world of the remote future. in a circular opening, high up in the wall of the nearer house, i saw a group of figures clad in rich soft robes. they had seen me, and their faces were directed towards me.  'then i heard voices approaching me. coming through the bushes by the white sphinx were the heads and shoulders of men running. one of these emerged in a pathway leading straight to the little lawn upon which i stood with my machine. he was a slight creature  perhaps four feet high  clad in a purple tunic, girdled at the waist with a leather belt. sandals or buskins  i could not clearly distinguish which  were on his feet; his legs were bare to the knees, and his head was bare. noticing that, i noticed for the first time how warm the air was.  'he struck me as being a very beautiful and graceful creature, but indescribably frail. his flushed face reminded me of the more beautiful kind of consumptive  that hectic beauty of which we used to hear so much. at the sight of him i suddenly regained confidence. i took my hands from the machine.     iv   'in another moment we were standing face to face, i and this fragile thing out of futurity. he came straight up to me and laughed into my eyes. the absence from his bearing of any sign of fear struck me at once. then he turned to the two others who were following him and spoke to them in a strange and very sweet and liquid tongue.  'there were others coming, and presently a little group of perhaps eight or ten of these exquisite creatures were about me. one of them addressed me. it came into my head, oddly enough, that my voice was too harsh and deep for them. so i shook my head, and, pointing to my ears, shook it again. he came a step forward, hesitated, and then touched my hand. then i felt other soft little tentacles upon my back and shoulders. they wanted to make sure i was real. there was nothing in this at all alarming. indeed, there was something in these pretty little people that inspired confidence  a graceful gentleness, a certain childlike ease. and besides, they looked so frail that i could fancy myself flinging the whole dozen of them about like nine pins. but i made a sudden motion to warn them when i saw their little pink hands feeling at the time machine. happily then, when it was not too late, i thought of a danger i had hitherto forgotten, and reaching over the bars of the machine i unscrewed the little levers that would set it in motion, and put these in my pocket. then i turned again to see what i could do in the way of communication.  'and then, looking more nearly into their features, i saw some further peculiarities in their dresden china type of prettiness. their hair, which was uniformly curly, came to a sharp end at the neck and cheek; there was not the faintest suggestion of it on the face, and their ears were singularly minute. the mouths were small, with bright red, rather thin lips, and the little chins ran to a point. the eyes were large and mild; and  this may seem egotism on my part  i fancied even that there was a certain lack of the interest i might have expected in them.  'as they made no effort to communicate with me, but simply stood round me smiling and speaking in soft cooing notes to each other, i began the conversation. i pointed to the time machine and to myself. then hesitating for a moment how to express time, i pointed to the sun. at once a quaintly pretty little figure in chequered purple and white followed my gesture, and then astonished me by imitating the sound of thunder.  'for a moment i was staggered, though the import of his gesture was plain enough. the question had come into my mind abruptly: were these creatures fools? you may hardly understand how it took me. you see i had always anticipated that the people of the year eight hundred and two thousand odd would be incredibly in front of us in knowledge, art, everything. then one of them suddenly asked me a question that showed him to be on the intellectual level of one of our five year old children  asked me, in fact, if i had come from the sun in a thunderstorm! it let loose the judgment i had suspended upon their clothes, their frail light limbs, and fragile features. a flow of disappointment rushed across my mind. for a moment i felt that i had built the time machine in vain.  'i nodded, pointed to the sun, and gave them such a vivid rendering of a thunderclap as startled them. they all withdrew a pace or so and bowed. then came one laughing towards me, carrying a chain of beautiful flowers altogether new to me, and put it about my neck. the idea was received with melodious applause; and presently they were all running to and fro for flowers, and laughingly flinging them upon me until i was almost smothered with blossom. you who have never seen the like can scarcely imagine what delicate and wonderful flowers countless years of culture had created. then someone suggested that their plaything should be exhibited in the nearest building, and so i was led past the sphinx of white marble, which had seemed to watch me all the while with a smile at my astonishment, towards a vast grey edifice of fretted stone. as i went with them the memory of my confident anticipations of a profoundly grave and intellectual posterity came, with irresistible merriment, to my mind.  'the building had a huge entry, and was altogether of colossal dimensions. i was naturally most occupied with the growing crowd of little people, and with the big open portals that yawned before me shadowy and mysterious. my general impression of the world i saw over their heads was a tangled waste of beautiful bushes and flowers, a long neglected and yet weedless garden. i saw a number of tall spikes of strange white flowers, measuring a foot perhaps across the spread of the waxen petals. they grew scattered, as if wild, among the variegated shrubs, but, as i say, i did not examine them closely at this time. the time machine was left deserted on the turf among the rhododendrons.  'the arch of the doorway was richly carved, but naturally i did not observe the carving very narrowly, though i fancied i saw suggestions of old phoenician decorations as i passed through, and it struck me that they were very badly broken and weather worn. several more brightly clad people met me in the doorway, and so we entered, i, dressed in dingy nineteenth century garments, looking grotesque enough, garlanded with flowers, and surrounded by an eddying mass of bright, soft colored robes and shining white limbs, in a melodious whirl of laughter and laughing speech.  'the big doorway opened into a proportionately great hall hung with brown. the roof was in shadow, and the windows, partially glazed with coloured glass and partially unglazed, admitted a tempered light. the floor was made up of huge blocks of some very hard white metal, not plates nor slabs  blocks, and it was so much worn, as i judged by the going to and fro of past generations, as to be deeply channelled along the more frequented ways. transverse to the length were innumerable tables made of slabs of polished stone, raised perhaps a foot from the floor, and upon these were heaps of fruits. some i recognized as a kind of hypertrophied raspberry and orange, but for the most part they were strange.  'between the tables was scattered a great number of cushions. upon these my conductors seated themselves, signing for me to do likewise. with a pretty absence of ceremony they began to eat the fruit with their hands, flinging peel and stalks, and so forth, into the round openings in the sides of the tables. i was not loath to follow their example, for i felt thirsty and hungry. as i did so i surveyed the hall at my leisure.  'and perhaps the thing that struck me most was its dilapidated look. the stained glass windows, which displayed only a geometrical pattern, were broken in many places, and the curtains that hung across the lower end were thick with dust. and it caught my eye that the corner of the marble table near me was fractured. nevertheless, the general effect was extremely rich and picturesque. there were, perhaps, a couple of hundred people dining in the hall, and most of them, seated as near to me as they could come, were watching me with interest, their little eyes shining over the fruit they were eating. all were clad in the same soft and yet strong, silky material.  'fruit, by the by, was all their diet. these people of the remote future were strict vegetarians, and while i was with them, in spite of some carnal cravings, i had to be frugivorous also. indeed, i found afterwards that horses, cattle, sheep, dogs, had followed the ichthyosaurus into extinction. but the fruits were very delightful; one, in particular, that seemed to be in season all the time i was there  a floury thing in a three sided husk  was especially good, and i made it my staple. at first i was puzzled by all these strange fruits, and by the strange flowers i saw, but later i began to perceive their import.  'however, i am telling you of my fruit dinner in the distant future now. so soon as my appetite was a little checked, i determined to make a resolute attempt to learn the speech of these new men of mine. clearly that was the next thing to do. the fruits seemed a convenient thing to begin upon, and holding one of these up i began a series of interrogative sounds and gestures. i had some considerable difficulty in conveying my meaning. at first my efforts met with a stare of surprise or inextinguishable laughter, but presently a fair haired little creature seemed to grasp my intention and repeated a name. they had to chatter and explain the business at great length to each other, and my first attempts to make the exquisite little sounds of their language caused an immense amount of amusement. however, i felt like a schoolmaster amidst children, and persisted, and presently i had a score of noun substantives at least at my command; and then i got to demonstrative pronouns, and even the verb \"to eat.\" but it was slow work, and the little people soon tired and wanted to get away from my interrogations, so i determined, rather of necessity, to let them give their lessons in little doses when they felt inclined. and very little doses i found they were before long, for i never met people more indolent or more easily fatigued.  'a queer thing i soon discovered about my little hosts, and that was their lack of interest. they would come to me with eager cries of astonishment, like children, but like children they would soon stop examining me and wander away after some other toy. the dinner and my conversational beginnings ended, i noted for the first time that almost all those who had surrounded me at first were gone. it is odd, too, how speedily i came to disregard these little people. i went out through the portal into the sunlit world again as soon as my hunger was satisfied. i was continually meeting more of these men of the future, who would follow me a little distance, chatter and laugh about me, and, having smiled and gesticulated in a friendly way, leave me again to my own devices.  'the calm of evening was upon the world as i emerged from the great hall, and the scene was lit by the warm glow of the setting sun. at first things were very confusing. everything was so entirely different from the world i had known  even the flowers. the big building i had left was situated on the slope of a broad river valley, but the thames had shifted perhaps a mile from its present position. i resolved to mount to the summit of a crest, perhaps a mile and a half away, from which i could get a wider view of this our planet in the year eight hundred and two thousand seven hundred and one a.d. for that, i should explain, was the date the little dials of my machine recorded.  'as i walked i was watching for every impression that could possibly help to explain the condition of ruinous splendour in which i found the world  for ruinous it was. a little way up the hill, for instance, was a great heap of granite, bound together by masses of aluminium, a vast labyrinth of precipitous walls and crumpled heaps, amidst which were thick heaps of very beautiful pagoda like plants  nettles possibly  but wonderfully tinted with brown about the leaves, and incapable of stinging. it was evidently the derelict remains of some vast structure, to what end built i could not determine. it was here that i was destined, at a later date, to have a very strange experience  the first intimation of a still stranger discovery  but of that i will speak in its proper place.  'looking round with a sudden thought, from a terrace on which i rested for a while, i realized that there were no small houses to be seen. apparently the single house, and possibly even the household, had vanished. here and there among the greenery were palace like buildings, but the house and the cottage, which form such characteristic features of our own english landscape, had disappeared.  '\"communism,\" said i to myself.  'and on the heels of that came another thought. i looked at the half dozen little figures that were following me. then, in a flash, i perceived that all had the same form of costume, the same soft hairless visage, and the same girlish rotundity of limb. it may seem strange, perhaps, that i had not noticed this before. but everything was so strange. now, i saw the fact plainly enough. in costume, and in all the differences of texture and bearing that now mark off the sexes from each other, these people of the future were alike. and the children seemed to my eyes to be but the miniatures of their parents. i judged, then, that the children of that time were extremely precocious, physically at least, and i found afterwards abundant verification of my opinion.  'seeing the ease and security in which these people were living, i felt that this close resemblance of the sexes was after all what one would expect; for the strength of a man and the softness of a woman, the institution of the family, and the differentiation of occupations are mere militant necessities of an age of physical force; where population is balanced and abundant, much childbearing becomes an evil rather than a blessing to the state; where violence comes but rarely and off spring are secure, there is less necessity  indeed there is no necessity  for an efficient family, and the specialization of the sexes with reference to their children's needs disappears. we see some beginnings of this even in our own time, and in this future age it was complete. this, i must remind you, was my speculation at the time. later, i was to appreciate how far it fell short of the reality.  'while i was musing upon these things, my attention was attracted by a pretty little structure, like a well under a cupola. i thought in a transitory way of the oddness of wells still existing, and then resumed the thread of my speculations. there were no large buildings towards the top of the hill, and as my walking powers were evidently miraculous, i was presently left alone for the first time. with a strange sense of freedom and adventure i pushed on up to the crest.  'there i found a seat of some yellow metal that i did not recognize, corroded in places with a kind of pinkish rust and half smothered in soft moss, the arm rests cast and filed into the resemblance of griffins' heads. i sat down on it, and i surveyed the broad view of our old world under the sunset of that long day. it was as sweet and fair a view as i have ever seen. the sun had already gone below the horizon and the west was flaming gold, touched with some horizontal bars of purple and crimson. below was the valley of the thames, in which the river lay like a band of burnished steel. i have already spoken of the great palaces dotted about among the variegated greenery, some in ruins and some still occupied. here and there rose a white or silvery figure in the waste garden of the earth, here and there came the sharp vertical line of some cupola or obelisk. there were no hedges, no signs of proprietary rights, no evidences of agriculture; the whole earth had become a garden.  'so watching, i began to put my interpretation upon the things i had seen, and as it shaped itself to me that evening, my interpretation was something in this way. (afterwards i found i had got only a half truth  or only a glimpse of one facet of the truth.)  'it seemed to me that i had happened upon humanity upon the wane. the ruddy sunset set me thinking of the sunset of mankind. for the first time i began to realize an odd consequence of the social effort in which we are at present engaged. and yet, come to think, it is a logical consequence enough. strength is the outcome of need; security sets a premium on feebleness. the work of ameliorating the conditions of life  the true civilizing process that makes life more and more secure  had gone steadily on to a climax. one triumph of a united humanity over nature had followed another. things that are now mere dreams had become projects deliberately put in hand and carried forward. and the harvest was what i saw!  'after all, the sanitation and the agriculture of to day are still in the rudimentary stage. the science of our time has attacked but a little department of the field of human disease, but even so, it spreads its operations very steadily and persistently. our agriculture and horticulture destroy a weed just here and there and cultivate perhaps a score or so of wholesome plants, leaving the greater number to fight out a balance as they can. we improve our favourite plants and animals  and how few they are  gradually by selective breeding; now a new and better peach, now a seedless grape, now a sweeter and larger flower, now a more convenient breed of cattle. we improve them gradually, because our ideals are vague and tentative, and our knowledge is very limited; because nature, too, is shy and slow in our clumsy hands. some day all this will be better organized, and still better. that is the drift of the current in spite of the eddies. the whole world will be intelligent, educated, and co operating; things will move faster and faster towards the subjugation of nature. in the end, wisely and carefully we shall readjust the balance of animal and vegetable life to suit our human needs.  'this adjustment, i say, must have been done, and done well; done indeed for all time, in the space of time across which my machine had leaped. the air was free from gnats, the earth from weeds or fungi; everywhere were fruits and sweet and delightful flowers; brilliant butterflies flew hither and thither. the ideal of preventive medicine was attained. diseases had been stamped out. i saw no evidence of any contagious diseases during all my stay. and i shall have to tell you later that even the processes of putrefaction and decay had been profoundly affected by these changes.  'social triumphs, too, had been effected. i saw mankind housed in splendid shelters, gloriously clothed, and as yet i had found them engaged in no toil. there were no signs of struggle, neither social nor economical struggle. the shop, the advertisement, traffic, all that commerce which constitutes the body of our world, was gone. it was natural on that golden evening that i should jump at the idea of a social paradise. the difficulty of increasing population had been met, i guessed, and population had ceased to increase.  'but with this change in condition comes inevitably adaptations to the change. what, unless biological science is a mass of errors, is the cause of human intelligence and vigour? hardship and freedom: conditions under which the active, strong, and subtle survive and the weaker go to the wall; conditions that put a premium upon the loyal alliance of capable men, upon self restraint, patience, and decision. and the institution of the family, and the emotions that arise therein, the fierce jealousy, the tenderness for offspring, parental self devotion, all found their justification and support in the imminent dangers of the young.  now , where are these imminent dangers? there is a sentiment arising, and it will grow, against connubial jealousy, against fierce maternity, against passion of all sorts; unnecessary things now, and things that make us uncomfortable, savage survivals, discords in a refined and pleasant life.  'i thought of the physical slightness of the people, their lack of intelligence, and those big abundant ruins, and it strengthened my belief in a perfect conquest of nature. for after the battle comes quiet. humanity had been strong, energetic, and intelligent, and had used all its abundant vitality to alter the conditions under which it lived. and now came the reaction of the altered conditions.  'under the new conditions of perfect comfort and security, that restless energy, that with us is strength, would become weakness. even in our own time certain tendencies and desires, once necessary to survival, are a constant source of failure. physical courage and the love of battle, for instance, are no great help  may even be hindrances  to a civilized man. and in a state of physical balance and security, power, intellectual as well as physical, would be out of place. for countless years i judged there had been no danger of war or solitary violence, no danger from wild beasts, no wasting disease to require strength of constitution, no need of toil. for such a life, what we should call the weak are as well equipped as the strong, are indeed no longer weak. better equipped indeed they are, for the strong would be fretted by an energy for which there was no outlet. no doubt the exquisite beauty of the buildings i saw was the outcome of the last surgings of the now purposeless energy of mankind before it settled down into perfect harmony with the conditions under which it lived  the flourish of that triumph which began the last great peace. this has ever been the fate of energy in security; it takes to art and to eroticism, and then come languor and decay.  'even this artistic impetus would at last die away  had almost died in the time i saw. to adorn themselves with flowers, to dance, to sing in the sunlight: so much was left of the artistic spirit, and no more. even that would fade in the end into a contented inactivity. we are kept keen on the grindstone of pain and necessity, and, it seemed to me, that here was that hateful grindstone broken at last!  'as i stood there in the gathering dark i thought that in this simple explanation i had mastered the problem of the world  mastered the whole secret of these delicious people. possibly the checks they had devised for the increase of population had succeeded too well, and their numbers had rather diminished than kept stationary. that would account for the abandoned ruins. very simple was my explanation, and plausible enough  as most wrong theories are!     v   'as i stood there musing over this too perfect triumph of man, the full moon, yellow and gibbous, came up out of an overflow of silver light in the north east. the bright little figures ceased to move about below, a noiseless owl flitted by, and i shivered with the chill of the night. i determined to descend and find where i could sleep.  'i looked for the building i knew. then my eye travelled along to the figure of the white sphinx upon the pedestal of bronze, growing distinct as the light of the rising moon grew brighter. i could see the silver birch against it. there was the tangle of rhododendron bushes, black in the pale light, and there was the little lawn. i looked at the lawn again. a queer doubt chilled my complacency. \"no,\" said i stoutly to myself, \"that was not the lawn.\"  'but it  was  the lawn. for the white leprous face of the sphinx was towards it. can you imagine what i felt as this conviction came home to me? but you cannot. the time machine was gone!  'at once, like a lash across the face, came the possibility of losing my own age, of being left helpless in this strange new world. the bare thought of it was an actual physical sensation. i could feel it grip me at the throat and stop my breathing. in another moment i was in a passion of fear and running with great leaping strides down the slope. once i fell headlong and cut my face; i lost no time in stanching the blood, but jumped up and ran on, with a warm trickle down my cheek and chin. all the time i ran i was saying to myself: \"they have moved it a little, pushed it under the bushes out of the way.\" nevertheless, i ran with all my might. all the time, with the certainty that sometimes comes with excessive dread, i knew that such assurance was folly, knew instinctively that the machine was removed out of my reach. my breath came with pain. i suppose i covered the whole distance from the hill crest to the little lawn, two miles perhaps, in ten minutes. and i am not a young man. i cursed aloud, as i ran, at my confident folly in leaving the machine, wasting good breath thereby. i cried aloud, and none answered. not a creature seemed to be stirring in that moonlit world.  'when i reached the lawn my worst fears were realized. not a trace of the thing was to be seen. i felt faint and cold when i faced the empty space among the black tangle of bushes. i ran round it furiously, as if the thing might be hidden in a corner, and then stopped abruptly, with my hands clutching my hair. above me towered the sphinx, upon the bronze pedestal, white, shining, leprous, in the light of the rising moon. it seemed to smile in mockery of my dismay.  'i might have consoled myself by imagining the little people had put the mechanism in some shelter for me, had i not felt assured of their physical and intellectual inadequacy. that is what dismayed me: the sense of some hitherto unsuspected power, through whose intervention my invention had vanished. yet, for one thing i felt assured: unless some other age had produced its exact duplicate, the machine could not have moved in time. the attachment of the levers  i will show you the method later  prevented any one from tampering with it in that way when they were removed. it had moved, and was hid, only in space. but then, where could it be?  'i think i must have had a kind of frenzy. i remember running violently in and out among the moonlit bushes all round the sphinx, and startling some white animal that, in the dim light, i took for a small deer. i remember, too, late that night, beating the bushes with my clenched fist until my knuckles were gashed and bleeding from the broken twigs. then, sobbing and raving in my anguish of mind, i went down to the great building of stone. the big hall was dark, silent, and deserted. i slipped on the uneven floor, and fell over one of the malachite tables, almost breaking my shin. i lit a match and went on past the dusty curtains, of which i have told you.  'there i found a second great hall covered with cushions, upon which, perhaps, a score or so of the little people were sleeping. i have no doubt they found my second appearance strange enough, coming suddenly out of the quiet darkness with inarticulate noises and the splutter and flare of a match. for they had forgotten about matches. \"where is my time machine?\" i began, bawling like an angry child, laying hands upon them and shaking them up together. it must have been very queer to them. some laughed, most of them looked sorely frightened. when i saw them standing round me, it came into my head that i was doing as foolish a thing as it was possible for me to do under the circumstances, in trying to revive the sensation of fear. for, reasoning from their daylight behaviour, i thought that fear must be forgotten.  'abruptly, i dashed down the match, and, knocking one of the people over in my course, went blundering across the big dining hall again, out under the moonlight. i heard cries of terror and their little feet running and stumbling this way and that. i do not remember all i did as the moon crept up the sky. i suppose it was the unexpected nature of my loss that maddened me. i felt hopelessly cut off from my own kind  a strange animal in an unknown world. i must have raved to and fro, screaming and crying upon god and fate. i have a memory of horrible fatigue, as the long night of despair wore away; of looking in this impossible place and that; of groping among moon lit ruins and touching strange creatures in the black shadows; at last, of lying on the ground near the sphinx and weeping with absolute wretchedness. i had nothing left but misery. then i slept, and when i woke again it was full day, and a couple of sparrows were hopping round me on the turf within reach of my arm.  'i sat up in the freshness of the morning, trying to remember how i had got there, and why i had such a profound sense of desertion and despair. then things came clear in my mind. with the plain, reasonable daylight, i could look my circumstances fairly in the face. i saw the wild folly of my frenzy overnight, and i could reason with myself. \"suppose the worst?\" i said. \"suppose the machine altogether lost  perhaps destroyed? it behoves me to be calm and patient, to learn the way of the people, to get a clear idea of the method of my loss, and the means of getting materials and tools; so that in the end, perhaps, i may make another.\" that would be my only hope, perhaps, but better than despair. and, after all, it was a beautiful and curious world.  'but probably, the machine had only been taken away. still, i must be calm and patient, find its hiding place, and recover it by force or cunning. and with that i scrambled to my feet and looked about me, wondering where i could bathe. i felt weary, stiff, and travel soiled. the freshness of the morning made me desire an equal freshness. i had exhausted my emotion. indeed, as i went about my business, i found myself wondering at my intense excitement overnight. i made a careful examination of the ground about the little lawn. i wasted some time in futile questionings, conveyed, as well as i was able, to such of the little people as came by. they all failed to understand my gestures; some were simply stolid, some thought it was a jest and laughed at me. i had the hardest task in the world to keep my hands off their pretty laughing faces. it was a foolish impulse, but the devil begotten of fear and blind anger was ill curbed and still eager to take advantage of my perplexity. the turf gave better counsel. i found a groove ripped in it, about midway between the pedestal of the sphinx and the marks of my feet where, on arrival, i had struggled with the overturned machine. there were other signs of removal about, with queer narrow footprints like those i could imagine made by a sloth. this directed my closer attention to the pedestal. it was, as i think i have said, of bronze. it was not a mere block, but highly decorated with deep framed panels on either side. i went and rapped at these. the pedestal was hollow. examining the panels with care i found them discontinuous with the frames. there were no handles or keyholes, but possibly the panels, if they were doors, as i supposed, opened from within. one thing was clear enough to my mind. it took no very great mental effort to infer that my time machine was inside that pedestal. but how it got there was a different problem.  'i saw the heads of two orange clad people coming through the bushes and under some blossom covered apple trees towards me. i turned smiling to them and beckoned them to me. they came, and then, pointing to the bronze pedestal, i tried to intimate my wish to open it. but at my first gesture towards this they behaved very oddly. i don't know how to convey their expression to you. suppose you were to use a grossly improper gesture to a delicate minded woman  it is how she would look. they went off as if they had received the last possible insult. i tried a sweet looking little chap in white next, with exactly the same result. somehow, his manner made me feel ashamed of myself. but, as you know, i wanted the time machine, and i tried him once more. as he turned off, like the others, my temper got the better of me. in three strides i was after him, had him by the loose part of his robe round the neck, and began dragging him towards the sphinx. then i saw the horror and repugnance of his face, and all of a sudden i let him go.  'but i was not beaten yet. i banged with my fist at the bronze panels. i thought i heard something stir inside  to be explicit, i thought i heard a sound like a chuckle  but i must have been mistaken. then i got a big pebble from the river, and came and hammered till i had flattened a coil in the decorations, and the verdigris came off in powdery flakes. the delicate little people must have heard me hammering in gusty outbreaks a mile away on either hand, but nothing came of it. i saw a crowd of them upon the slopes, looking furtively at me. at last, hot and tired, i sat down to watch the place. but i was too restless to watch long; i am too occidental for a long vigil. i could work at a problem for years, but to wait inactive for twenty four hours  that is another matter.  'i got up after a time, and began walking aimlessly through the bushes towards the hill again. \"patience,\" said i to myself. \"if you want your machine again you must leave that sphinx alone. if they mean to take your machine away, it's little good your wrecking their bronze panels, and if they don't, you will get it back as soon as you can ask for it. to sit among all those unknown things before a puzzle like that is hopeless. that way lies monomania. face this world. learn its ways, watch it, be careful of too hasty guesses at its meaning. in the end you will find clues to it all.\" then suddenly the humour of the situation came into my mind: the thought of the years i had spent in study and toil to get into the future age, and now my passion of anxiety to get out of it. i had made myself the most complicated and the most hopeless trap that ever a man devised. although it was at my own expense, i could not help myself. i laughed aloud.  'going through the big palace, it seemed to me that the little people avoided me. it may have been my fancy, or it may have had something to do with my hammering at the gates of bronze. yet i felt tolerably sure of the avoidance. i was careful, however, to show no concern and to abstain from any pursuit of them, and in the course of a day or two things got back to the old footing. i made what progress i could in the language, and in addition i pushed my explorations here and there. either i missed some subtle point or their language was excessively simple  almost exclusively composed of concrete substantives and verbs. there seemed to be few, if any, abstract terms, or little use of figurative language. their sentences were usually simple and of two words, and i failed to convey or understand any but the simplest propositions. i determined to put the thought of my time machine and the mystery of the bronze doors under the sphinx as much as possible in a corner of memory, until my growing knowledge would lead me back to them in a natural way. yet a certain feeling, you may understand, tethered me in a circle of a few miles round the point of my arrival.  'so far as i could see, all the world displayed the same exuberant richness as the thames valley. from every hill i climbed i saw the same abundance of splendid buildings, endlessly varied in material and style, the same clustering thickets of evergreens, the same blossom laden trees and tree ferns. here and there water shone like silver, and beyond, the land rose into blue undulating hills, and so faded into the serenity of the sky. a peculiar feature, which presently attracted my attention, was the presence of certain circular wells, several, as it seemed to me, of a very great depth. one lay by the path up the hill, which i had followed during my first walk. like the others, it was rimmed with bronze, curiously wrought, and protected by a little cupola from the rain. sitting by the side of these wells, and peering down into the shafted darkness, i could see no gleam of water, nor could i start any reflection with a lighted match. but in all of them i heard a certain sound: a thud  thud  thud, like the beating of some big engine; and i discovered, from the flaring of my matches, that a steady current of air set down the shafts. further, i threw a scrap of paper into the throat of one, and, instead of fluttering slowly down, it was at once sucked swiftly out of sight.  'after a time, too, i came to connect these wells with tall towers standing here and there upon the slopes; for above them there was often just such a flicker in the air as one sees on a hot day above a sun scorched beach. putting things together, i reached a strong suggestion of an extensive system of subterranean ventilation, whose true import it was difficult to imagine. i was at first inclined to associate it with the sanitary apparatus of these people. it was an obvious conclusion, but it was absolutely wrong.  'and here i must admit that i learned very little of drains and bells and modes of conveyance, and the like conveniences, during my time in this real future. in some of these visions of utopias and coming times which i have read, there is a vast amount of detail about building, and social arrangements, and so forth. but while such details are easy enough to obtain when the whole world is contained in one's imagination, they are altogether inaccessible to a real traveller amid such realities as i found here. conceive the tale of london which a negro, fresh from central africa, would take back to his tribe! what would he know of railway companies, of social movements, of telephone and telegraph wires, of the parcels delivery company, and postal orders and the like? yet we, at least, should be willing enough to explain these things to him! and even of what he knew, how much could he make his untravelled friend either apprehend or believe? then, think how narrow the gap between a negro and a white man of our own times, and how wide the interval between myself and these of the golden age! i was sensible of much which was unseen, and which contributed to my comfort; but save for a general impression of automatic organization, i fear i can convey very little of the difference to your mind.  'in the matter of sepulture, for instance, i could see no signs of crematoria nor anything suggestive of tombs. but it occurred to me that, possibly, there might be cemeteries (or crematoria) somewhere beyond the range of my explorings. this, again, was a question i deliberately put to myself, and my curiosity was at first entirely defeated upon the point. the thing puzzled me, and i was led to make a further remark, which puzzled me still more: that aged and infirm among this people there were none.  'i must confess that my satisfaction with my first theories of an automatic civilization and a decadent humanity did not long endure. yet i could think of no other. let me put my difficulties. the several big palaces i had explored were mere living places, great dining halls and sleeping apartments. i could find no machinery, no appliances of any kind. yet these people were clothed in pleasant fabrics that must at times need renewal, and their sandals, though undecorated, were fairly complex specimens of metalwork. somehow such things must be made. and the little people displayed no vestige of a creative tendency. there were no shops, no workshops, no sign of importations among them. they spent all their time in playing gently, in bathing in the river, in making love in a half playful fashion, in eating fruit and sleeping. i could not see how things were kept going.  'then, again, about the time machine: something, i knew not what, had taken it into the hollow pedestal of the white sphinx. why? for the life of me i could not imagine. those waterless wells, too, those flickering pillars. i felt i lacked a clue. i felt  how shall i put it? suppose you found an inscription, with sentences here and there in excellent plain english, and interpolated therewith, others made up of words, of letters even, absolutely unknown to you? well, on the third day of my visit, that was how the world of eight hundred and two thousand seven hundred and one presented itself to me!  'that day, too, i made a friend  of a sort. it happened that, as i was watching some of the little people bathing in a shallow, one of them was seized with cramp and began drifting downstream. the main current ran rather swiftly, but not too strongly for even a moderate swimmer. it will give you an idea, therefore, of the strange deficiency in these creatures, when i tell you that none made the slightest attempt to rescue the weakly crying little thing which was drowning before their eyes. when i realized this, i hurriedly slipped off my clothes, and, wading in at a point lower down, i caught the poor mite and drew her safe to land. a little rubbing of the limbs soon brought her round, and i had the satisfaction of seeing she was all right before i left her. i had got to such a low estimate of her kind that i did not expect any gratitude from her. in that, however, i was wrong.  'this happened in the morning. in the afternoon i met my little woman, as i believe it was, as i was returning towards my centre from an exploration, and she received me with cries of delight and presented me with a big garland of flowers  evidently made for me and me alone. the thing took my imagination. very possibly i had been feeling desolate. at any rate i did my best to display my appreciation of the gift. we were soon seated together in a little stone arbour, engaged in conversation, chiefly of smiles. the creature's friendliness affected me exactly as a child's might have done. we passed each other flowers, and she kissed my hands. i did the same to hers. then i tried talk, and found that her name was weena, which, though i don't know what it meant, somehow seemed appropriate enough. that was the beginning of a queer friendship which lasted a week, and ended  as i will tell you!  'she was exactly like a child. she wanted to be with me always. she tried to follow me everywhere, and on my next journey out and about it went to my heart to tire her down, and leave her at last, exhausted and calling after me rather plaintively. but the problems of the world had to be mastered. i had not, i said to myself, come into the future to carry on a miniature flirtation. yet her distress when i left her was very great, her expostulations at the parting were sometimes frantic, and i think, altogether, i had as much trouble as comfort from her devotion. nevertheless she was, somehow, a very great comfort. i thought it was mere childish affection that made her cling to me. until it was too late, i did not clearly know what i had inflicted upon her when i left her. nor until it was too late did i clearly understand what she was to me. for, by merely seeming fond of me, and showing in her weak, futile way that she cared for me, the little doll of a creature presently gave my return to the neighbourhood of the white sphinx almost the feeling of coming home; and i would watch for her tiny figure of white and gold so soon as i came over the hill.  'it was from her, too, that i learned that fear had not yet left the world. she was fearless enough in the daylight, and she had the oddest confidence in me; for once, in a foolish moment, i made threatening grimaces at her, and she simply laughed at them. but she dreaded the dark, dreaded shadows, dreaded black things. darkness to her was the one thing dreadful. it was a singularly passionate emotion, and it set me thinking and observing. i discovered then, among other things, that these little people gathered into the great houses after dark, and slept in droves. to enter upon them without a light was to put them into a tumult of apprehension. i never found one out of doors, or one sleeping alone within doors, after dark. yet i was still such a blockhead that i missed the lesson of that fear, and in spite of weena's distress i insisted upon sleeping away from these slumbering multitudes.  'it troubled her greatly, but in the end her odd affection for me triumphed, and for five of the nights of our acquaintance, including the last night of all, she slept with her head pillowed on my arm. but my story slips away from me as i speak of her. it must have been the night before her rescue that i was awakened about dawn. i had been restless, dreaming most disagreeably that i was drowned, and that sea anemones were feeling over my face with their soft palps. i woke with a start, and with an odd fancy that some greyish animal had just rushed out of the chamber. i tried to get to sleep again, but i felt restless and uncomfortable. it was that dim grey hour when things are just creeping out of darkness, when everything is colourless and clear cut, and yet unreal. i got up, and went down into the great hall, and so out upon the flagstones in front of the palace. i thought i would make a virtue of necessity, and see the sunrise.  'the moon was setting, and the dying moonlight and the first pallor of dawn were mingled in a ghastly half light. the bushes were inky black, the ground a sombre grey, the sky colourless and cheerless. and up the hill i thought i could see ghosts. there several times, as i scanned the slope, i saw white figures. twice i fancied i saw a solitary white, ape like creature running rather quickly up the hill, and once near the ruins i saw a leash of them carrying some dark body. they moved hastily. i did not see what became of them. it seemed that they vanished among the bushes. the dawn was still indistinct, you must understand. i was feeling that chill, uncertain, early morning feeling you may have known. i doubted my eyes.  'as the eastern sky grew brighter, and the light of the day came on and its vivid colouring returned upon the world once more, i scanned the view keenly. but i saw no vestige of my white figures. they were mere creatures of the half light. \"they must have been ghosts,\" i said; \"i wonder whence they dated.\" for a queer notion of grant allen's came into my head, and amused me. if each generation die and leave ghosts, he argued, the world at last will get overcrowded with them. on that theory they would have grown innumerable some eight hundred thousand years hence, and it was no great wonder to see four at once. but the jest was unsatisfying, and i was thinking of these figures all the morning, until weena's rescue drove them out of my head. i associated them in some indefinite way with the white animal i had startled in my first passionate search for the time machine. but weena was a pleasant substitute. yet all the same, they were soon destined to take far deadlier possession of my mind.  'i think i have said how much hotter than our own was the weather of this golden age. i cannot account for it. it may be that the sun was hotter, or the earth nearer the sun. it is usual to assume that the sun will go on cooling steadily in the future. but people, unfamiliar with such speculations as those of the younger darwin, forget that the planets must ultimately fall back one by one into the parent body. as these catastrophes occur, the sun will blaze with renewed energy; and it may be that some inner planet had suffered this fate. whatever the reason, the fact remains that the sun was very much hotter than we know it.  'well, one very hot morning  my fourth, i think  as i was seeking shelter from the heat and glare in a colossal ruin near the great house where i slept and fed, there happened this strange thing: clambering among these heaps of masonry, i found a narrow gallery, whose end and side windows were blocked by fallen masses of stone. by contrast with the brilliancy outside, it seemed at first impenetrably dark to me. i entered it groping, for the change from light to blackness made spots of colour swim before me. suddenly i halted spellbound. a pair of eyes, luminous by reflection against the daylight without, was watching me out of the darkness.  'the old instinctive dread of wild beasts came upon me. i clenched my hands and steadfastly looked into the glaring eyeballs. i was afraid to turn. then the thought of the absolute security in which humanity appeared to be living came to my mind. and then i remembered that strange terror of the dark. overcoming my fear to some extent, i advanced a step and spoke. i will admit that my voice was harsh and ill controlled. i put out my hand and touched something soft. at once the eyes darted sideways, and something white ran past me. i turned with my heart in my mouth, and saw a queer little ape like figure, its head held down in a peculiar manner, running across the sunlit space behind me. it blundered against a block of granite, staggered aside, and in a moment was hidden in a black shadow beneath another pile of ruined masonry.  'my impression of it is, of course, imperfect; but i know it was a dull white, and had strange large greyish red eyes; also that there was flaxen hair on its head and down its back. but, as i say, it went too fast for me to see distinctly. i cannot even say whether it ran on all fours, or only with its forearms held very low. after an instant's pause i followed it into the second heap of ruins. i could not find it at first; but, after a time in the profound obscurity, i came upon one of those round well like openings of which i have told you, half closed by a fallen pillar. a sudden thought came to me. could this thing have vanished down the shaft? i lit a match, and, looking down, i saw a small, white, moving creature, with large bright eyes which regarded me steadfastly as it retreated. it made me shudder. it was so like a human spider! it was clambering down the wall, and now i saw for the first time a number of metal foot and hand rests forming a kind of ladder down the shaft. then the light burned my fingers and fell out of my hand, going out as it dropped, and when i had lit another the little monster had disappeared.  'i do not know how long i sat peering down that well. it was not for some time that i could succeed in persuading myself that the thing i had seen was human. but, gradually, the truth dawned on me: that man had not remained one species, but had differentiated into two distinct animals: that my graceful children of the upper world were not the sole descendants of our generation, but that this bleached, obscene, nocturnal thing, which had flashed before me, was also heir to all the ages.  'i thought of the flickering pillars and of my theory of an underground ventilation. i began to suspect their true import. and what, i wondered, was this lemur doing in my scheme of a perfectly balanced organization? how was it related to the indolent serenity of the beautiful upper worlders? and what was hidden down there, at the foot of that shaft? i sat upon the edge of the well telling myself that, at any rate, there was nothing to fear, and that there i must descend for the solution of my difficulties. and withal i was absolutely afraid to go! as i hesitated, two of the beautiful upper world people came running in their amorous sport across the daylight in the shadow. the male pursued the female, flinging flowers at her as he ran.  'they seemed distressed to find me, my arm against the overturned pillar, peering down the well. apparently it was considered bad form to remark these apertures; for when i pointed to this one, and tried to frame a question about it in their tongue, they were still more visibly distressed and turned away. but they were interested by my matches, and i struck some to amuse them. i tried them again about the well, and again i failed. so presently i left them, meaning to go back to weena, and see what i could get from her. but my mind was already in revolution; my guesses and impressions were slipping and sliding to a new adjustment. i had now a clue to the import of these wells, to the ventilating towers, to the mystery of the ghosts; to say nothing of a hint at the meaning of the bronze gates and the fate of the time machine! and very vaguely there came a suggestion towards the solution of the economic problem that had puzzled me.  'here was the new view. plainly, this second species of man was subterranean. there were three circumstances in particular which made me think that its rare emergence above ground was the outcome of a long continued underground habit. in the first place, there was the bleached look common in most animals that live largely in the dark  the white fish of the kentucky caves, for instance. then, those large eyes, with that capacity for reflecting light, are common features of nocturnal things  witness the owl and the cat. and last of all, that evident confusion in the sunshine, that hasty yet fumbling awkward flight towards dark shadow, and that peculiar carriage of the head while in the light  all reinforced the theory of an extreme sensitiveness of the retina.  'beneath my feet, then, the earth must be tunnelled enormously, and these tunnellings were the habitat of the new race. the presence of ventilating shafts and wells along the hill slopes  everywhere, in fact, except along the river valley  showed how universal were its ramifications. what so natural, then, as to assume that it was in this artificial underworld that such work as was necessary to the comfort of the daylight race was done? the notion was so plausible that i at once accepted it, and went on to assume the  how  of this splitting of the human species. i dare say you will anticipate the shape of my theory; though, for myself, i very soon felt that it fell far short of the truth.  'at first, proceeding from the problems of our own age, it seemed clear as daylight to me that the gradual widening of the present merely temporary and social difference between the capitalist and the labourer, was the key to the whole position. no doubt it will seem grotesque enough to you  and wildly incredible!  and yet even now there are existing circumstances to point that way. there is a tendency to utilize underground space for the less ornamental purposes of civilization; there is the metropolitan railway in london, for instance, there are new electric railways, there are subways, there are underground workrooms and restaurants, and they increase and multiply. evidently, i thought, this tendency had increased till industry had gradually lost its birthright in the sky. i mean that it had gone deeper and deeper into larger and ever larger underground factories, spending a still increasing amount of its time therein, till, in the end  ! even now, does not an east end worker live in such artificial conditions as practically to be cut off from the natural surface of the earth?  'again, the exclusive tendency of richer people  due, no doubt, to the increasing refinement of their education, and the widening gulf between them and the rude violence of the poor  is already leading to the closing, in their interest, of considerable portions of the surface of the land. about london, for instance, perhaps half the prettier country is shut in against intrusion. and this same widening gulf  which is due to the length and expense of the higher educational process and the increased facilities for and temptations towards refined habits on the part of the rich  will make that exchange between class and class, that promotion by intermarriage which at present retards the splitting of our species along lines of social stratification, less and less frequent. so, in the end, above ground you must have the haves, pursuing pleasure and comfort and beauty, and below ground the have nots, the workers getting continually adapted to the conditions of their labour. once they were there, they would no doubt have to pay rent, and not a little of it, for the ventilation of their caverns; and if they refused, they would starve or be suffocated for arrears. such of them as were so constituted as to be miserable and rebellious would die; and, in the end, the balance being permanent, the survivors would become as well adapted to the conditions of underground life, and as happy in their way, as the upper world people were to theirs. as it seemed to me, the refined beauty and the etiolated pallor followed naturally enough.  'the great triumph of humanity i had dreamed of took a different shape in my mind. it had been no such triumph of moral education and general co operation as i had imagined. instead, i saw a real aristocracy, armed with a perfected science and working to a logical conclusion the industrial system of to day. its triumph had not been simply a triumph over nature, but a triumph over nature and the fellow man. this, i must warn you, was my theory at the time. i had no convenient cicerone in the pattern of the utopian books. my explanation may be absolutely wrong. i still think it is the most plausible one. but even on this supposition the balanced civilization that was at last attained must have long since passed its zenith, and was now far fallen into decay. the too perfect security of the upper worlders had led them to a slow movement of degeneration, to a general dwindling in size, strength, and intelligence. that i could see clearly enough already. what had happened to the under grounders i did not yet suspect; but from what i had seen of the morlocks  that, by the by, was the name by which these creatures were called  i could imagine that the modification of the human type was even far more profound than among the \"eloi,\" the beautiful race that i already knew.  'then came troublesome doubts. why had the morlocks taken my time machine? for i felt sure it was they who had taken it. why, too, if the eloi were masters, could they not restore the machine to me? and why were they so terribly afraid of the dark? i proceeded, as i have said, to question weena about this under world, but here again i was disappointed. at first she would not understand my questions, and presently she refused to answer them. she shivered as though the topic was unendurable. and when i pressed her, perhaps a little harshly, she burst into tears. they were the only tears, except my own, i ever saw in that golden age. when i saw them i ceased abruptly to trouble about the morlocks, and was only concerned in banishing these signs of the human inheritance from weena's eyes. and very soon she was smiling and clapping her hands, while i solemnly burned a match.     vi   'it may seem odd to you, but it was two days before i could follow up the new found clue in what was manifestly the proper way. i felt a peculiar shrinking from those pallid bodies. they were just the half bleached colour of the worms and things one sees preserved in spirit in a zoological museum. and they were filthily cold to the touch. probably my shrinking was largely due to the sympathetic influence of the eloi, whose disgust of the morlocks i now began to appreciate.  'the next night i did not sleep well. probably my health was a little disordered. i was oppressed with perplexity and doubt. once or twice i had a feeling of intense fear for which i could perceive no definite reason. i remember creeping noiselessly into the great hall where the little people were sleeping in the moonlight  that night weena was among them  and feeling reassured by their presence. it occurred to me even then, that in the course of a few days the moon must pass through its last quarter, and the nights grow dark, when the appearances of these unpleasant creatures from below, these whitened lemurs, this new vermin that had replaced the old, might be more abundant. and on both these days i had the restless feeling of one who shirks an inevitable duty. i felt assured that the time machine was only to be recovered by boldly penetrating these underground mysteries. yet i could not face the mystery. if only i had had a companion it would have been different. but i was so horribly alone, and even to clamber down into the darkness of the well appalled me. i don't know if you will understand my feeling, but i never felt quite safe at my back.  'it was this restlessness, this insecurity, perhaps, that drove me further and further afield in my exploring expeditions. going to the south westward towards the rising country that is now called combe wood, i observed far off, in the direction of nineteenth century banstead, a vast green structure, different in character from any i had hitherto seen. it was larger than the largest of the palaces or ruins i knew, and the facade had an oriental look: the face of it having the lustre, as well as the pale green tint, a kind of bluish green, of a certain type of chinese porcelain. this difference in aspect suggested a difference in use, and i was minded to push on and explore. but the day was growing late, and i had come upon the sight of the place after a long and tiring circuit; so i resolved to hold over the adventure for the following day, and i returned to the welcome and the caresses of little weena. but next morning i perceived clearly enough that my curiosity regarding the palace of green porcelain was a piece of self deception, to enable me to shirk, by another day, an experience i dreaded. i resolved i would make the descent without further waste of time, and started out in the early morning towards a well near the ruins of granite and aluminium.  'little weena ran with me. she danced beside me to the well, but when she saw me lean over the mouth and look downward, she seemed strangely disconcerted. \"good bye, little weena,\" i said, kissing her; and then putting her down, i began to feel over the parapet for the climbing hooks. rather hastily, i may as well confess, for i feared my courage might leak away! at first she watched me in amazement. then she gave a most piteous cry, and running to me, she began to pull at me with her little hands. i think her opposition nerved me rather to proceed. i shook her off, perhaps a little roughly, and in another moment i was in the throat of the well. i saw her agonized face over the parapet, and smiled to reassure her. then i had to look down at the unstable hooks to which i clung.  'i had to clamber down a shaft of perhaps two hundred yards. the descent was effected by means of metallic bars projecting from the sides of the well, and these being adapted to the needs of a creature much smaller and lighter than myself, i was speedily cramped and fatigued by the descent. and not simply fatigued! one of the bars bent suddenly under my weight, and almost swung me off into the blackness beneath. for a moment i hung by one hand, and after that experience i did not dare to rest again. though my arms and back were presently acutely painful, i went on clambering down the sheer descent with as quick a motion as possible. glancing upward, i saw the aperture, a small blue disk, in which a star was visible, while little weena's head showed as a round black projection. the thudding sound of a machine below grew louder and more oppressive. everything save that little disk above was profoundly dark, and when i looked up again weena had disappeared.  'i was in an agony of discomfort. i had some thought of trying to go up the shaft again, and leave the under world alone. but even while i turned this over in my mind i continued to descend. at last, with intense relief, i saw dimly coming up, a foot to the right of me, a slender loophole in the wall. swinging myself in, i found it was the aperture of a narrow horizontal tunnel in which i could lie down and rest. it was not too soon. my arms ached, my back was cramped, and i was trembling with the prolonged terror of a fall. besides this, the unbroken darkness had had a distressing effect upon my eyes. the air was full of the throb and hum of machinery pumping air down the shaft.  'i do not know how long i lay. i was roused by a soft hand touching my face. starting up in the darkness i snatched at my matches and, hastily striking one, i saw three stooping white creatures similar to the one i had seen above ground in the ruin, hastily retreating before the light. living, as they did, in what appeared to me impenetrable darkness, their eyes were abnormally large and sensitive, just as are the pupils of the abysmal fishes, and they reflected the light in the same way. i have no doubt they could see me in that rayless obscurity, and they did not seem to have any fear of me apart from the light. but, so soon as i struck a match in order to see them, they fled incontinently, vanishing into dark gutters and tunnels, from which their eyes glared at me in the strangest fashion.  'i tried to call to them, but the language they had was apparently different from that of the over world people; so that i was needs left to my own unaided efforts, and the thought of flight before exploration was even then in my mind. but i said to myself, \"you are in for it now,\" and, feeling my way along the tunnel, i found the noise of machinery grow louder. presently the walls fell away from me, and i came to a large open space, and striking another match, saw that i had entered a vast arched cavern, which stretched into utter darkness beyond the range of my light. the view i had of it was as much as one could see in the burning of a match.  'necessarily my memory is vague. great shapes like big machines rose out of the dimness, and cast grotesque black shadows, in which dim spectral morlocks sheltered from the glare. the place, by the by, was very stuffy and oppressive, and the faint halitus of freshly shed blood was in the air. some way down the central vista was a little table of white metal, laid with what seemed a meal. the morlocks at any rate were carnivorous! even at the time, i remember wondering what large animal could have survived to furnish the red joint i saw. it was all very indistinct: the heavy smell, the big unmeaning shapes, the obscene figures lurking in the shadows, and only waiting for the darkness to come at me again! then the match burned down, and stung my fingers, and fell, a wriggling red spot in the blackness.  'i have thought since how particularly ill equipped i was for such an experience. when i had started with the time machine, i had started with the absurd assumption that the men of the future would certainly be infinitely ahead of ourselves in all their appliances. i had come without arms, without medicine, without anything to smoke  at times i missed tobacco frightfully  even without enough matches. if only i had thought of a kodak! i could have flashed that glimpse of the underworld in a second, and examined it at leisure. but, as it was, i stood there with only the weapons and the powers that nature had endowed me with  hands, feet, and teeth; these, and four safety matches that still remained to me.  'i was afraid to push my way in among all this machinery in the dark, and it was only with my last glimpse of light i discovered that my store of matches had run low. it had never occurred to me until that moment that there was any need to economize them, and i had wasted almost half the box in astonishing the upper worlders, to whom fire was a novelty. now, as i say, i had four left, and while i stood in the dark, a hand touched mine, lank fingers came feeling over my face, and i was sensible of a peculiar unpleasant odour. i fancied i heard the breathing of a crowd of those dreadful little beings about me. i felt the box of matches in my hand being gently disengaged, and other hands behind me plucking at my clothing. the sense of these unseen creatures examining me was indescribably unpleasant. the sudden realization of my ignorance of their ways of thinking and doing came home to me very vividly in the darkness. i shouted at them as loudly as i could. they started away, and then i could feel them approaching me again. they clutched at me more boldly, whispering odd sounds to each other. i shivered violently, and shouted again  rather discordantly. this time they were not so seriously alarmed, and they made a queer laughing noise as they came back at me. i will confess i was horribly frightened. i determined to strike another match and escape under the protection of its glare. i did so, and eking out the flicker with a scrap of paper from my pocket, i made good my retreat to the narrow tunnel. but i had scarce entered this when my light was blown out and in the blackness i could hear the morlocks rustling like wind among leaves, and pattering like the rain, as they hurried after me.  'in a moment i was clutched by several hands, and there was no mistaking that they were trying to haul me back. i struck another light, and waved it in their dazzled faces. you can scarce imagine how nauseatingly inhuman they looked  those pale, chinless faces and great, lidless, pinkish grey eyes!  as they stared in their blindness and bewilderment. but i did not stay to look, i promise you: i retreated again, and when my second match had ended, i struck my third. it had almost burned through when i reached the opening into the shaft. i lay down on the edge, for the throb of the great pump below made me giddy. then i felt sideways for the projecting hooks, and, as i did so, my feet were grasped from behind, and i was violently tugged backward. i lit my last match ... and it incontinently went out. but i had my hand on the climbing bars now, and, kicking violently, i disengaged myself from the clutches of the morlocks and was speedily clambering up the shaft, while they stayed peering and blinking up at me: all but one little wretch who followed me for some way, and well nigh secured my boot as a trophy.  'that climb seemed interminable to me. with the last twenty or thirty feet of it a deadly nausea came upon me. i had the greatest difficulty in keeping my hold. the last few yards was a frightful struggle against this faintness. several times my head swam, and i felt all the sensations of falling. at last, however, i got over the well mouth somehow, and staggered out of the ruin into the blinding sunlight. i fell upon my face. even the soil smelt sweet and clean. then i remember weena kissing my hands and ears, and the voices of others among the eloi. then, for a time, i was insensible.     vii   'now, indeed, i seemed in a worse case than before. hitherto, except during my night's anguish at the loss of the time machine, i had felt a sustaining hope of ultimate escape, but that hope was staggered by these new discoveries. hitherto i had merely thought myself impeded by the childish simplicity of the little people, and by some unknown forces which i had only to understand to overcome; but there was an altogether new element in the sickening quality of the morlocks  a something inhuman and malign. instinctively i loathed them. before, i had felt as a man might feel who had fallen into a pit: my concern was with the pit and how to get out of it. now i felt like a beast in a trap, whose enemy would come upon him soon.  'the enemy i dreaded may surprise you. it was the darkness of the new moon. weena had put this into my head by some at first incomprehensible remarks about the dark nights. it was not now such a very difficult problem to guess what the coming dark nights might mean. the moon was on the wane: each night there was a longer interval of darkness. and i now understood to some slight degree at least the reason of the fear of the little upper world people for the dark. i wondered vaguely what foul villainy it might be that the morlocks did under the new moon. i felt pretty sure now that my second hypothesis was all wrong. the upper world people might once have been the favoured aristocracy, and the morlocks their mechanical servants: but that had long since passed away. the two species that had resulted from the evolution of man were sliding down towards, or had already arrived at, an altogether new relationship. the eloi, like the carolingian kings, had decayed to a mere beautiful futility. they still possessed the earth on sufferance: since the morlocks, subterranean for innumerable generations, had come at last to find the daylit surface intolerable. and the morlocks made their garments, i inferred, and maintained them in their habitual needs, perhaps through the survival of an old habit of service. they did it as a standing horse paws with his foot, or as a man enjoys killing animals in sport: because ancient and departed necessities had impressed it on the organism. but, clearly, the old order was already in part reversed. the nemesis of the delicate ones was creeping on apace. ages ago, thousands of generations ago, man had thrust his brother man out of the ease and the sunshine. and now that brother was coming back changed! already the eloi had begun to learn one old lesson anew. they were becoming reacquainted with fear. and suddenly there came into my head the memory of the meat i had seen in the under world. it seemed odd how it floated into my mind: not stirred up as it were by the current of my meditations, but coming in almost like a question from outside. i tried to recall the form of it. i had a vague sense of something familiar, but i could not tell what it was at the time.  'still, however helpless the little people in the presence of their mysterious fear, i was differently constituted. i came out of this age of ours, this ripe prime of the human race, when fear does not paralyse and mystery has lost its terrors. i at least would defend myself. without further delay i determined to make myself arms and a fastness where i might sleep. with that refuge as a base, i could face this strange world with some of that confidence i had lost in realizing to what creatures night by night i lay exposed. i felt i could never sleep again until my bed was secure from them. i shuddered with horror to think how they must already have examined me.  'i wandered during the afternoon along the valley of the thames, but found nothing that commended itself to my mind as inaccessible. all the buildings and trees seemed easily practicable to such dexterous climbers as the morlocks, to judge by their wells, must be. then the tall pinnacles of the palace of green porcelain and the polished gleam of its walls came back to my memory; and in the evening, taking weena like a child upon my shoulder, i went up the hills towards the south west. the distance, i had reckoned, was seven or eight miles, but it must have been nearer eighteen. i had first seen the place on a moist afternoon when distances are deceptively diminished. in addition, the heel of one of my shoes was loose, and a nail was working through the sole  they were comfortable old shoes i wore about indoors  so that i was lame. and it was already long past sunset when i came in sight of the palace, silhouetted black against the pale yellow of the sky.  'weena had been hugely delighted when i began to carry her, but after a while she desired me to let her down, and ran along by the side of me, occasionally darting off on either hand to pick flowers to stick in my pockets. my pockets had always puzzled weena, but at the last she had concluded that they were an eccentric kind of vase for floral decoration. at least she utilized them for that purpose. and that reminds me! in changing my jacket i found...'  the time traveller paused, put his hand into his pocket, and silently placed two withered flowers, not unlike very large white mallows, upon the little table. then he resumed his narrative.  'as the hush of evening crept over the world and we proceeded over the hill crest towards wimbledon, weena grew tired and wanted to return to the house of grey stone. but i pointed out the distant pinnacles of the palace of green porcelain to her, and contrived to make her understand that we were seeking a refuge there from her fear. you know that great pause that comes upon things before the dusk? even the breeze stops in the trees. to me there is always an air of expectation about that evening stillness. the sky was clear, remote, and empty save for a few horizontal bars far down in the sunset. well, that night the expectation took the colour of my fears. in that darkling calm my senses seemed preternaturally sharpened. i fancied i could even feel the hollowness of the ground beneath my feet: could, indeed, almost see through it the morlocks on their ant hill going hither and thither and waiting for the dark. in my excitement i fancied that they would receive my invasion of their burrows as a declaration of war. and why had they taken my time machine?  'so we went on in the quiet, and the twilight deepened into night. the clear blue of the distance faded, and one star after another came out. the ground grew dim and the trees black. weena's fears and her fatigue grew upon her. i took her in my arms and talked to her and caressed her. then, as the darkness grew deeper, she put her arms round my neck, and, closing her eyes, tightly pressed her face against my shoulder. so we went down a long slope into a valley, and there in the dimness i almost walked into a little river. this i waded, and went up the opposite side of the valley, past a number of sleeping houses, and by a statue  a faun, or some such figure,  minus  the head. here too were acacias. so far i had seen nothing of the morlocks, but it was yet early in the night, and the darker hours before the old moon rose were still to come.  'from the brow of the next hill i saw a thick wood spreading wide and black before me. i hesitated at this. i could see no end to it, either to the right or the left. feeling tired  my feet, in particular, were very sore  i carefully lowered weena from my shoulder as i halted, and sat down upon the turf. i could no longer see the palace of green porcelain, and i was in doubt of my direction. i looked into the thickness of the wood and thought of what it might hide. under that dense tangle of branches one would be out of sight of the stars. even were there no other lurking danger  a danger i did not care to let my imagination loose upon  there would still be all the roots to stumble over and the tree boles to strike against.  'i was very tired, too, after the excitements of the day; so i decided that i would not face it, but would pass the night upon the open hill.  'weena, i was glad to find, was fast asleep. i carefully wrapped her in my jacket, and sat down beside her to wait for the moonrise. the hill side was quiet and deserted, but from the black of the wood there came now and then a stir of living things. above me shone the stars, for the night was very clear. i felt a certain sense of friendly comfort in their twinkling. all the old constellations had gone from the sky, however: that slow movement which is imperceptible in a hundred human lifetimes, had long since rearranged them in unfamiliar groupings. but the milky way, it seemed to me, was still the same tattered streamer of star dust as of yore. southward (as i judged it) was a very bright red star that was new to me; it was even more splendid than our own green sirius. and amid all these scintillating points of light one bright planet shone kindly and steadily like the face of an old friend.  'looking at these stars suddenly dwarfed my own troubles and all the gravities of terrestrial life. i thought of their unfathomable distance, and the slow inevitable drift of their movements out of the unknown past into the unknown future. i thought of the great precessional cycle that the pole of the earth describes. only forty times had that silent revolution occurred during all the years that i had traversed. and during these few revolutions all the activity, all the traditions, the complex organizations, the nations, languages, literatures, aspirations, even the mere memory of man as i knew him, had been swept out of existence. instead were these frail creatures who had forgotten their high ancestry, and the white things of which i went in terror. then i thought of the great fear that was between the two species, and for the first time, with a sudden shiver, came the clear knowledge of what the meat i had seen might be. yet it was too horrible! i looked at little weena sleeping beside me, her face white and starlike under the stars, and forthwith dismissed the thought.  'through that long night i held my mind off the morlocks as well as i could, and whiled away the time by trying to fancy i could find signs of the old constellations in the new confusion. the sky kept very clear, except for a hazy cloud or so. no doubt i dozed at times. then, as my vigil wore on, came a faintness in the eastward sky, like the reflection of some colourless fire, and the old moon rose, thin and peaked and white. and close behind, and overtaking it, and overflowing it, the dawn came, pale at first, and then growing pink and warm. no morlocks had approached us. indeed, i had seen none upon the hill that night. and in the confidence of renewed day it almost seemed to me that my fear had been unreasonable. i stood up and found my foot with the loose heel swollen at the ankle and painful under the heel; so i sat down again, took off my shoes, and flung them away.  'i awakened weena, and we went down into the wood, now green and pleasant instead of black and forbidding. we found some fruit wherewith to break our fast. we soon met others of the dainty ones, laughing and dancing in the sunlight as though there was no such thing in nature as the night. and then i thought once more of the meat that i had seen. i felt assured now of what it was, and from the bottom of my heart i pitied this last feeble rill from the great flood of humanity. clearly, at some time in the long ago of human decay the morlocks' food had run short. possibly they had lived on rats and such like vermin. even now man is far less discriminating and exclusive in his food than he was  far less than any monkey. his prejudice against human flesh is no deep seated instinct. and so these inhuman sons of men    ! i tried to look at the thing in a scientific spirit. after all, they were less human and more remote than our cannibal ancestors of three or four thousand years ago. and the intelligence that would have made this state of things a torment had gone. why should i trouble myself? these eloi were mere fatted cattle, which the ant like morlocks preserved and preyed upon  probably saw to the breeding of. and there was weena dancing at my side!  'then i tried to preserve myself from the horror that was coming upon me, by regarding it as a rigorous punishment of human selfishness. man had been content to live in ease and delight upon the labours of his fellow man, had taken necessity as his watchword and excuse, and in the fullness of time necessity had come home to him. i even tried a carlyle like scorn of this wretched aristocracy in decay. but this attitude of mind was impossible. however great their intellectual degradation, the eloi had kept too much of the human form not to claim my sympathy, and to make me perforce a sharer in their degradation and their fear.  'i had at that time very vague ideas as to the course i should pursue. my first was to secure some safe place of refuge, and to make myself such arms of metal or stone as i could contrive. that necessity was immediate. in the next place, i hoped to procure some means of fire, so that i should have the weapon of a torch at hand, for nothing, i knew, would be more efficient against these morlocks. then i wanted to arrange some contrivance to break open the doors of bronze under the white sphinx. i had in mind a battering ram. i had a persuasion that if i could enter those doors and carry a blaze of light before me i should discover the time machine and escape. i could not imagine the morlocks were strong enough to move it far away. weena i had resolved to bring with me to our own time. and turning such schemes over in my mind i pursued our way towards the building which my fancy had chosen as our dwelling.     viii   'i found the palace of green porcelain, when we approached it about noon, deserted and falling into ruin. only ragged vestiges of glass remained in its windows, and great sheets of the green facing had fallen away from the corroded metallic framework. it lay very high upon a turfy down, and looking north eastward before i entered it, i was surprised to see a large estuary, or even creek, where i judged wandsworth and battersea must once have been. i thought then  though i never followed up the thought  of what might have happened, or might be happening, to the living things in the sea.  'the material of the palace proved on examination to be indeed porcelain, and along the face of it i saw an inscription in some unknown character. i thought, rather foolishly, that weena might help me to interpret this, but i only learned that the bare idea of writing had never entered her head. she always seemed to me, i fancy, more human than she was, perhaps because her affection was so human.  'within the big valves of the door  which were open and broken  we found, instead of the customary hall, a long gallery lit by many side windows. at the first glance i was reminded of a museum. the tiled floor was thick with dust, and a remarkable array of miscellaneous objects was shrouded in the same grey covering. then i perceived, standing strange and gaunt in the centre of the hall, what was clearly the lower part of a huge skeleton. i recognized by the oblique feet that it was some extinct creature after the fashion of the megatherium. the skull and the upper bones lay beside it in the thick dust, and in one place, where rain water had dropped through a leak in the roof, the thing itself had been worn away. further in the gallery was the huge skeleton barrel of a brontosaurus. my museum hypothesis was confirmed. going towards the side i found what appeared to be sloping shelves, and clearing away the thick dust, i found the old familiar glass cases of our own time. but they must have been air tight to judge from the fair preservation of some of their contents.  'clearly we stood among the ruins of some latter day south kensington! here, apparently, was the palaeontological section, and a very splendid array of fossils it must have been, though the inevitable process of decay that had been staved off for a time, and had, through the extinction of bacteria and fungi, lost ninety nine hundredths of its force, was nevertheless, with extreme sureness if with extreme slowness at work again upon all its treasures. here and there i found traces of the little people in the shape of rare fossils broken to pieces or threaded in strings upon reeds. and the cases had in some instances been bodily removed  by the morlocks as i judged. the place was very silent. the thick dust deadened our footsteps. weena, who had been rolling a sea urchin down the sloping glass of a case, presently came, as i stared about me, and very quietly took my hand and stood beside me.  'and at first i was so much surprised by this ancient monument of an intellectual age, that i gave no thought to the possibilities it presented. even my preoccupation about the time machine receded a little from my mind.  'to judge from the size of the place, this palace of green porcelain had a great deal more in it than a gallery of palaeontology; possibly historical galleries; it might be, even a library! to me, at least in my present circumstances, these would be vastly more interesting than this spectacle of oldtime geology in decay. exploring, i found another short gallery running transversely to the first. this appeared to be devoted to minerals, and the sight of a block of sulphur set my mind running on gunpowder. but i could find no saltpeter; indeed, no nitrates of any kind. doubtless they had deliquesced ages ago. yet the sulphur hung in my mind, and set up a train of thinking. as for the rest of the contents of that gallery, though on the whole they were the best preserved of all i saw, i had little interest. i am no specialist in mineralogy, and i went on down a very ruinous aisle running parallel to the first hall i had entered. apparently this section had been devoted to natural history, but everything had long since passed out of recognition. a few shrivelled and blackened vestiges of what had once been stuffed animals, desiccated mummies in jars that had once held spirit, a brown dust of departed plants: that was all! i was sorry for that, because i should have been glad to trace the patent readjustments by which the conquest of animated nature had been attained. then we came to a gallery of simply colossal proportions, but singularly ill lit, the floor of it running downward at a slight angle from the end at which i entered. at intervals white globes hung from the ceiling  many of them cracked and smashed  which suggested that originally the place had been artificially lit. here i was more in my element, for rising on either side of me were the huge bulks of big machines, all greatly corroded and many broken down, but some still fairly complete. you know i have a certain weakness for mechanism, and i was inclined to linger among these; the more so as for the most part they had the interest of puzzles, and i could make only the vaguest guesses at what they were for. i fancied that if i could solve their puzzles i should find myself in possession of powers that might be of use against the morlocks.  'suddenly weena came very close to my side. so suddenly that she startled me. had it not been for her i do not think i should have noticed that the floor of the gallery sloped at all. [footnote: it may be, of course, that the floor did not slope, but that the museum was built into the side of a hill.  ed.] the end i had come in at was quite above ground, and was lit by rare slit like windows. as you went down the length, the ground came up against these windows, until at last there was a pit like the \"area\" of a london house before each, and only a narrow line of daylight at the top. i went slowly along, puzzling about the machines, and had been too intent upon them to notice the gradual diminution of the light, until weena's increasing apprehensions drew my attention. then i saw that the gallery ran down at last into a thick darkness. i hesitated, and then, as i looked round me, i saw that the dust was less abundant and its surface less even. further away towards the dimness, it appeared to be broken by a number of small narrow footprints. my sense of the immediate presence of the morlocks revived at that. i felt that i was wasting my time in the academic examination of machinery. i called to mind that it was already far advanced in the afternoon, and that i had still no weapon, no refuge, and no means of making a fire. and then down in the remote blackness of the gallery i heard a peculiar pattering, and the same odd noises i had heard down the well.  'i took weena's hand. then, struck with a sudden idea, i left her and turned to a machine from which projected a lever not unlike those in a signal box. clambering upon the stand, and grasping this lever in my hands, i put all my weight upon it sideways. suddenly weena, deserted in the central aisle, began to whimper. i had judged the strength of the lever pretty correctly, for it snapped after a minute's strain, and i rejoined her with a mace in my hand more than sufficient, i judged, for any morlock skull i might encounter. and i longed very much to kill a morlock or so. very inhuman, you may think, to want to go killing one's own descendants! but it was impossible, somehow, to feel any humanity in the things. only my disinclination to leave weena, and a persuasion that if i began to slake my thirst for murder my time machine might suffer, restrained me from going straight down the gallery and killing the brutes i heard.  'well, mace in one hand and weena in the other, i went out of that gallery and into another and still larger one, which at the first glance reminded me of a military chapel hung with tattered flags. the brown and charred rags that hung from the sides of it, i presently recognized as the decaying vestiges of books. they had long since dropped to pieces, and every semblance of print had left them. but here and there were warped boards and cracked metallic clasps that told the tale well enough. had i been a literary man i might, perhaps, have moralized upon the futility of all ambition. but as it was, the thing that struck me with keenest force was the enormous waste of labour to which this sombre wilderness of rotting paper testified. at the time i will confess that i thought chiefly of the  philosophical transactions  and my own seventeen papers upon physical optics.  'then, going up a broad staircase, we came to what may once have been a gallery of technical chemistry. and here i had not a little hope of useful discoveries. except at one end where the roof had collapsed, this gallery was well preserved. i went eagerly to every unbroken case. and at last, in one of the really air tight cases, i found a box of matches. very eagerly i tried them. they were perfectly good. they were not even damp. i turned to weena. \"dance,\" i cried to her in her own tongue. for now i had a weapon indeed against the horrible creatures we feared. and so, in that derelict museum, upon the thick soft carpeting of dust, to weena's huge delight, i solemnly performed a kind of composite dance, whistling  the land of the leal  as cheerfully as i could. in part it was a modest  cancan , in part a step dance, in part a skirt dance (so far as my tail coat permitted), and in part original. for i am naturally inventive, as you know.  'now, i still think that for this box of matches to have escaped the wear of time for immemorial years was a most strange, as for me it was a most fortunate thing. yet, oddly enough, i found a far unlikelier substance, and that was camphor. i found it in a sealed jar, that by chance, i suppose, had been really hermetically sealed. i fancied at first that it was paraffin wax, and smashed the glass accordingly. but the odour of camphor was unmistakable. in the universal decay this volatile substance had chanced to survive, perhaps through many thousands of centuries. it reminded me of a sepia painting i had once seen done from the ink of a fossil belemnite that must have perished and become fossilized millions of years ago. i was about to throw it away, but i remembered that it was inflammable and burned with a good bright flame  was, in fact, an excellent candle  and i put it in my pocket. i found no explosives, however, nor any means of breaking down the bronze doors. as yet my iron crowbar was the most helpful thing i had chanced upon. nevertheless i left that gallery greatly elated.  'i cannot tell you all the story of that long afternoon. it would require a great effort of memory to recall my explorations in at all the proper order. i remember a long gallery of rusting stands of arms, and how i hesitated between my crowbar and a hatchet or a sword. i could not carry both, however, and my bar of iron promised best against the bronze gates. there were numbers of guns, pistols, and rifles. the most were masses of rust, but many were of some new metal, and still fairly sound. but any cartridges or powder there may once have been had rotted into dust. one corner i saw was charred and shattered; perhaps, i thought, by an explosion among the specimens. in another place was a vast array of idols  polynesian, mexican, grecian, phoenician, every country on earth i should think. and here, yielding to an irresistible impulse, i wrote my name upon the nose of a steatite monster from south america that particularly took my fancy.  'as the evening drew on, my interest waned. i went through gallery after gallery, dusty, silent, often ruinous, the exhibits sometimes mere heaps of rust and lignite, sometimes fresher. in one place i suddenly found myself near the model of a tin mine, and then by the merest accident i discovered, in an air tight case, two dynamite cartridges! i shouted \"eureka!\" and smashed the case with joy. then came a doubt. i hesitated. then, selecting a little side gallery, i made my essay. i never felt such a disappointment as i did in waiting five, ten, fifteen minutes for an explosion that never came. of course the things were dummies, as i might have guessed from their presence. i really believe that had they not been so, i should have rushed off incontinently and blown sphinx, bronze doors, and (as it proved) my chances of finding the time machine, all together into non existence.  'it was after that, i think, that we came to a little open court within the palace. it was turfed, and had three fruit trees. so we rested and refreshed ourselves. towards sunset i began to consider our position. night was creeping upon us, and my inaccessible hiding place had still to be found. but that troubled me very little now. i had in my possession a thing that was, perhaps, the best of all defences against the morlocks  i had matches! i had the camphor in my pocket, too, if a blaze were needed. it seemed to me that the best thing we could do would be to pass the night in the open, protected by a fire. in the morning there was the getting of the time machine. towards that, as yet, i had only my iron mace. but now, with my growing knowledge, i felt very differently towards those bronze doors. up to this, i had refrained from forcing them, largely because of the mystery on the other side. they had never impressed me as being very strong, and i hoped to find my bar of iron not altogether inadequate for the work.     ix   'we emerged from the palace while the sun was still in part above the horizon. i was determined to reach the white sphinx early the next morning, and ere the dusk i purposed pushing through the woods that had stopped me on the previous journey. my plan was to go as far as possible that night, and then, building a fire, to sleep in the protection of its glare. accordingly, as we went along i gathered any sticks or dried grass i saw, and presently had my arms full of such litter. thus loaded, our progress was slower than i had anticipated, and besides weena was tired. and i began to suffer from sleepiness too; so that it was full night before we reached the wood. upon the shrubby hill of its edge weena would have stopped, fearing the darkness before us; but a singular sense of impending calamity, that should indeed have served me as a warning, drove me onward. i had been without sleep for a night and two days, and i was feverish and irritable. i felt sleep coming upon me, and the morlocks with it.  'while we hesitated, among the black bushes behind us, and dim against their blackness, i saw three crouching figures. there was scrub and long grass all about us, and i did not feel safe from their insidious approach. the forest, i calculated, was rather less than a mile across. if we could get through it to the bare hill side, there, as it seemed to me, was an altogether safer resting place; i thought that with my matches and my camphor i could contrive to keep my path illuminated through the woods. yet it was evident that if i was to flourish matches with my hands i should have to abandon my firewood; so, rather reluctantly, i put it down. and then it came into my head that i would amaze our friends behind by lighting it. i was to discover the atrocious folly of this proceeding, but it came to my mind as an ingenious move for covering our retreat.  'i don't know if you have ever thought what a rare thing flame must be in the absence of man and in a temperate climate. the sun's heat is rarely strong enough to burn, even when it is focused by dewdrops, as is sometimes the case in more tropical districts. lightning may blast and blacken, but it rarely gives rise to widespread fire. decaying vegetation may occasionally smoulder with the heat of its fermentation, but this rarely results in flame. in this decadence, too, the art of fire making had been forgotten on the earth. the red tongues that went licking up my heap of wood were an altogether new and strange thing to weena.  'she wanted to run to it and play with it. i believe she would have cast herself into it had i not restrained her. but i caught her up, and in spite of her struggles, plunged boldly before me into the wood. for a little way the glare of my fire lit the path. looking back presently, i could see, through the crowded stems, that from my heap of sticks the blaze had spread to some bushes adjacent, and a curved line of fire was creeping up the grass of the hill. i laughed at that, and turned again to the dark trees before me. it was very black, and weena clung to me convulsively, but there was still, as my eyes grew accustomed to the darkness, sufficient light for me to avoid the stems. overhead it was simply black, except where a gap of remote blue sky shone down upon us here and there. i struck none of my matches because i had no hand free. upon my left arm i carried my little one, in my right hand i had my iron bar.  'for some way i heard nothing but the crackling twigs under my feet, the faint rustle of the breeze above, and my own breathing and the throb of the blood vessels in my ears. then i seemed to know of a pattering about me. i pushed on grimly. the pattering grew more distinct, and then i caught the same queer sound and voices i had heard in the under world. there were evidently several of the morlocks, and they were closing in upon me. indeed, in another minute i felt a tug at my coat, then something at my arm. and weena shivered violently, and became quite still.  'it was time for a match. but to get one i must put her down. i did so, and, as i fumbled with my pocket, a struggle began in the darkness about my knees, perfectly silent on her part and with the same peculiar cooing sounds from the morlocks. soft little hands, too, were creeping over my coat and back, touching even my neck. then the match scratched and fizzed. i held it flaring, and saw the white backs of the morlocks in flight amid the trees. i hastily took a lump of camphor from my pocket, and prepared to light it as soon as the match should wane. then i looked at weena. she was lying clutching my feet and quite motionless, with her face to the ground. with a sudden fright i stooped to her. she seemed scarcely to breathe. i lit the block of camphor and flung it to the ground, and as it split and flared up and drove back the morlocks and the shadows, i knelt down and lifted her. the wood behind seemed full of the stir and murmur of a great company!  'she seemed to have fainted. i put her carefully upon my shoulder and rose to push on, and then there came a horrible realization. in manoeuvring with my matches and weena, i had turned myself about several times, and now i had not the faintest idea in what direction lay my path. for all i knew, i might be facing back towards the palace of green porcelain. i found myself in a cold sweat. i had to think rapidly what to do. i determined to build a fire and encamp where we were. i put weena, still motionless, down upon a turfy bole, and very hastily, as my first lump of camphor waned, i began collecting sticks and leaves. here and there out of the darkness round me the morlocks' eyes shone like carbuncles.  'the camphor flickered and went out. i lit a match, and as i did so, two white forms that had been approaching weena dashed hastily away. one was so blinded by the light that he came straight for me, and i felt his bones grind under the blow of my fist. he gave a whoop of dismay, staggered a little way, and fell down. i lit another piece of camphor, and went on gathering my bonfire. presently i noticed how dry was some of the foliage above me, for since my arrival on the time machine, a matter of a week, no rain had fallen. so, instead of casting about among the trees for fallen twigs, i began leaping up and dragging down branches. very soon i had a choking smoky fire of green wood and dry sticks, and could economize my camphor. then i turned to where weena lay beside my iron mace. i tried what i could to revive her, but she lay like one dead. i could not even satisfy myself whether or not she breathed.  'now, the smoke of the fire beat over towards me, and it must have made me heavy of a sudden. moreover, the vapour of camphor was in the air. my fire would not need replenishing for an hour or so. i felt very weary after my exertion, and sat down. the wood, too, was full of a slumbrous murmur that i did not understand. i seemed just to nod and open my eyes. but all was dark, and the morlocks had their hands upon me. flinging off their clinging fingers i hastily felt in my pocket for the match box, and  it had gone! then they gripped and closed with me again. in a moment i knew what had happened. i had slept, and my fire had gone out, and the bitterness of death came over my soul. the forest seemed full of the smell of burning wood. i was caught by the neck, by the hair, by the arms, and pulled down. it was indescribably horrible in the darkness to feel all these soft creatures heaped upon me. i felt as if i was in a monstrous spider's web. i was overpowered, and went down. i felt little teeth nipping at my neck. i rolled over, and as i did so my hand came against my iron lever. it gave me strength. i struggled up, shaking the human rats from me, and, holding the bar short, i thrust where i judged their faces might be. i could feel the succulent giving of flesh and bone under my blows, and for a moment i was free.  'the strange exultation that so often seems to accompany hard fighting came upon me. i knew that both i and weena were lost, but i determined to make the morlocks pay for their meat. i stood with my back to a tree, swinging the iron bar before me. the whole wood was full of the stir and cries of them. a minute passed. their voices seemed to rise to a higher pitch of excitement, and their movements grew faster. yet none came within reach. i stood glaring at the blackness. then suddenly came hope. what if the morlocks were afraid? and close on the heels of that came a strange thing. the darkness seemed to grow luminous. very dimly i began to see the morlocks about me  three battered at my feet  and then i recognized, with incredulous surprise, that the others were running, in an incessant stream, as it seemed, from behind me, and away through the wood in front. and their backs seemed no longer white, but reddish. as i stood agape, i saw a little red spark go drifting across a gap of starlight between the branches, and vanish. and at that i understood the smell of burning wood, the slumbrous murmur that was growing now into a gusty roar, the red glow, and the morlocks' flight.  'stepping out from behind my tree and looking back, i saw, through the black pillars of the nearer trees, the flames of the burning forest. it was my first fire coming after me. with that i looked for weena, but she was gone. the hissing and crackling behind me, the explosive thud as each fresh tree burst into flame, left little time for reflection. my iron bar still gripped, i followed in the morlocks' path. it was a close race. once the flames crept forward so swiftly on my right as i ran that i was outflanked and had to strike off to the left. but at last i emerged upon a small open space, and as i did so, a morlock came blundering towards me, and past me, and went on straight into the fire!  'and now i was to see the most weird and horrible thing, i think, of all that i beheld in that future age. this whole space was as bright as day with the reflection of the fire. in the centre was a hillock or tumulus, surmounted by a scorched hawthorn. beyond this was another arm of the burning forest, with yellow tongues already writhing from it, completely encircling the space with a fence of fire. upon the hill side were some thirty or forty morlocks, dazzled by the light and heat, and blundering hither and thither against each other in their bewilderment. at first i did not realize their blindness, and struck furiously at them with my bar, in a frenzy of fear, as they approached me, killing one and crippling several more. but when i had watched the gestures of one of them groping under the hawthorn against the red sky, and heard their moans, i was assured of their absolute helplessness and misery in the glare, and i struck no more of them.  'yet every now and then one would come straight towards me, setting loose a quivering horror that made me quick to elude him. at one time the flames died down somewhat, and i feared the foul creatures would presently be able to see me. i was thinking of beginning the fight by killing some of them before this should happen; but the fire burst out again brightly, and i stayed my hand. i walked about the hill among them and avoided them, looking for some trace of weena. but weena was gone.  'at last i sat down on the summit of the hillock, and watched this strange incredible company of blind things groping to and fro, and making uncanny noises to each other, as the glare of the fire beat on them. the coiling uprush of smoke streamed across the sky, and through the rare tatters of that red canopy, remote as though they belonged to another universe, shone the little stars. two or three morlocks came blundering into me, and i drove them off with blows of my fists, trembling as i did so.  'for the most part of that night i was persuaded it was a nightmare. i bit myself and screamed in a passionate desire to awake. i beat the ground with my hands, and got up and sat down again, and wandered here and there, and again sat down. then i would fall to rubbing my eyes and calling upon god to let me awake. thrice i saw morlocks put their heads down in a kind of agony and rush into the flames. but, at last, above the subsiding red of the fire, above the streaming masses of black smoke and the whitening and blackening tree stumps, and the diminishing numbers of these dim creatures, came the white light of the day.  'i searched again for traces of weena, but there were none. it was plain that they had left her poor little body in the forest. i cannot describe how it relieved me to think that it had escaped the awful fate to which it seemed destined. as i thought of that, i was almost moved to begin a massacre of the helpless abominations about me, but i contained myself. the hillock, as i have said, was a kind of island in the forest. from its summit i could now make out through a haze of smoke the palace of green porcelain, and from that i could get my bearings for the white sphinx. and so, leaving the remnant of these damned souls still going hither and thither and moaning, as the day grew clearer, i tied some grass about my feet and limped on across smoking ashes and among black stems, that still pulsated internally with fire, towards the hiding place of the time machine. i walked slowly, for i was almost exhausted, as well as lame, and i felt the intensest wretchedness for the horrible death of little weena. it seemed an overwhelming calamity. now, in this old familiar room, it is more like the sorrow of a dream than an actual loss. but that morning it left me absolutely lonely again  terribly alone. i began to think of this house of mine, of this fireside, of some of you, and with such thoughts came a longing that was pain.  'but as i walked over the smoking ashes under the bright morning sky, i made a discovery. in my trouser pocket were still some loose matches. the box must have leaked before it was lost.     x   'about eight or nine in the morning i came to the same seat of yellow metal from which i had viewed the world upon the evening of my arrival. i thought of my hasty conclusions upon that evening and could not refrain from laughing bitterly at my confidence. here was the same beautiful scene, the same abundant foliage, the same splendid palaces and magnificent ruins, the same silver river running between its fertile banks. the gay robes of the beautiful people moved hither and thither among the trees. some were bathing in exactly the place where i had saved weena, and that suddenly gave me a keen stab of pain. and like blots upon the landscape rose the cupolas above the ways to the under world. i understood now what all the beauty of the over world people covered. very pleasant was their day, as pleasant as the day of the cattle in the field. like the cattle, they knew of no enemies and provided against no needs. and their end was the same.  'i grieved to think how brief the dream of the human intellect had been. it had committed suicide. it had set itself steadfastly towards comfort and ease, a balanced society with security and permanency as its watchword, it had attained its hopes  to come to this at last. once, life and property must have reached almost absolute safety. the rich had been assured of his wealth and comfort, the toiler assured of his life and work. no doubt in that perfect world there had been no unemployed problem, no social question left unsolved. and a great quiet had followed.  'it is a law of nature we overlook, that intellectual versatility is the compensation for change, danger, and trouble. an animal perfectly in harmony with its environment is a perfect mechanism. nature never appeals to intelligence until habit and instinct are useless. there is no intelligence where there is no change and no need of change. only those animals partake of intelligence that have to meet a huge variety of needs and dangers.  'so, as i see it, the upper world man had drifted towards his feeble prettiness, and the under world to mere mechanical industry. but that perfect state had lacked one thing even for mechanical perfection  absolute permanency. apparently as time went on, the feeding of the under world, however it was effected, had become disjointed. mother necessity, who had been staved off for a few thousand years, came back again, and she began below. the under world being in contact with machinery, which, however perfect, still needs some little thought outside habit, had probably retained perforce rather more initiative, if less of every other human character, than the upper. and when other meat failed them, they turned to what old habit had hitherto forbidden. so i say i saw it in my last view of the world of eight hundred and two thousand seven hundred and one. it may be as wrong an explanation as mortal wit could invent. it is how the thing shaped itself to me, and as that i give it to you.  'after the fatigues, excitements, and terrors of the past days, and in spite of my grief, this seat and the tranquil view and the warm sunlight were very pleasant. i was very tired and sleepy, and soon my theorizing passed into dozing. catching myself at that, i took my own hint, and spreading myself out upon the turf i had a long and refreshing sleep.  'i awoke a little before sunsetting. i now felt safe against being caught napping by the morlocks, and, stretching myself, i came on down the hill towards the white sphinx. i had my crowbar in one hand, and the other hand played with the matches in my pocket.  'and now came a most unexpected thing. as i approached the pedestal of the sphinx i found the bronze valves were open. they had slid down into grooves.  'at that i stopped short before them, hesitating to enter.  'within was a small apartment, and on a raised place in the corner of this was the time machine. i had the small levers in my pocket. so here, after all my elaborate preparations for the siege of the white sphinx, was a meek surrender. i threw my iron bar away, almost sorry not to use it.  'a sudden thought came into my head as i stooped towards the portal. for once, at least, i grasped the mental operations of the morlocks. suppressing a strong inclination to laugh, i stepped through the bronze frame and up to the time machine. i was surprised to find it had been carefully oiled and cleaned. i have suspected since that the morlocks had even partially taken it to pieces while trying in their dim way to grasp its purpose.  'now as i stood and examined it, finding a pleasure in the mere touch of the contrivance, the thing i had expected happened. the bronze panels suddenly slid up and struck the frame with a clang. i was in the dark  trapped. so the morlocks thought. at that i chuckled gleefully.  'i could already hear their murmuring laughter as they came towards me. very calmly i tried to strike the match. i had only to fix on the levers and depart then like a ghost. but i had overlooked one little thing. the matches were of that abominable kind that light only on the box.  'you may imagine how all my calm vanished. the little brutes were close upon me. one touched me. i made a sweeping blow in the dark at them with the levers, and began to scramble into the saddle of the machine. then came one hand upon me and then another. then i had simply to fight against their persistent fingers for my levers, and at the same time feel for the studs over which these fitted. one, indeed, they almost got away from me. as it slipped from my hand, i had to butt in the dark with my head  i could hear the morlock's skull ring  to recover it. it was a nearer thing than the fight in the forest, i think, this last scramble.  'but at last the lever was fitted and pulled over. the clinging hands slipped from me. the darkness presently fell from my eyes. i found myself in the same grey light and tumult i have already described.     xi   'i have already told you of the sickness and confusion that comes with time travelling. and this time i was not seated properly in the saddle, but sideways and in an unstable fashion. for an indefinite time i clung to the machine as it swayed and vibrated, quite unheeding how i went, and when i brought myself to look at the dials again i was amazed to find where i had arrived. one dial records days, and another thousands of days, another millions of days, and another thousands of millions. now, instead of reversing the levers, i had pulled them over so as to go forward with them, and when i came to look at these indicators i found that the thousands hand was sweeping round as fast as the seconds hand of a watch  into futurity.  'as i drove on, a peculiar change crept over the appearance of things. the palpitating greyness grew darker; then  though i was still travelling with prodigious velocity  the blinking succession of day and night, which was usually indicative of a slower pace, returned, and grew more and more marked. this puzzled me very much at first. the alternations of night and day grew slower and slower, and so did the passage of the sun across the sky, until they seemed to stretch through centuries. at last a steady twilight brooded over the earth, a twilight only broken now and then when a comet glared across the darkling sky. the band of light that had indicated the sun had long since disappeared; for the sun had ceased to set  it simply rose and fell in the west, and grew ever broader and more red. all trace of the moon had vanished. the circling of the stars, growing slower and slower, had given place to creeping points of light. at last, some time before i stopped, the sun, red and very large, halted motionless upon the horizon, a vast dome glowing with a dull heat, and now and then suffering a momentary extinction. at one time it had for a little while glowed more brilliantly again, but it speedily reverted to its sullen red heat. i perceived by this slowing down of its rising and setting that the work of the tidal drag was done. the earth had come to rest with one face to the sun, even as in our own time the moon faces the earth. very cautiously, for i remembered my former headlong fall, i began to reverse my motion. slower and slower went the circling hands until the thousands one seemed motionless and the daily one was no longer a mere mist upon its scale. still slower, until the dim outlines of a desolate beach grew visible.  'i stopped very gently and sat upon the time machine, looking round. the sky was no longer blue. north eastward it was inky black, and out of the blackness shone brightly and steadily the pale white stars. overhead it was a deep indian red and starless, and south eastward it grew brighter to a glowing scarlet where, cut by the horizon, lay the huge hull of the sun, red and motionless. the rocks about me were of a harsh reddish colour, and all the trace of life that i could see at first was the intensely green vegetation that covered every projecting point on their south eastern face. it was the same rich green that one sees on forest moss or on the lichen in caves: plants which like these grow in a perpetual twilight.  'the machine was standing on a sloping beach. the sea stretched away to the south west, to rise into a sharp bright horizon against the wan sky. there were no breakers and no waves, for not a breath of wind was stirring. only a slight oily swell rose and fell like a gentle breathing, and showed that the eternal sea was still moving and living. and along the margin where the water sometimes broke was a thick incrustation of salt  pink under the lurid sky. there was a sense of oppression in my head, and i noticed that i was breathing very fast. the sensation reminded me of my only experience of mountaineering, and from that i judged the air to be more rarefied than it is now.  'far away up the desolate slope i heard a harsh scream, and saw a thing like a huge white butterfly go slanting and fluttering up into the sky and, circling, disappear over some low hillocks beyond. the sound of its voice was so dismal that i shivered and seated myself more firmly upon the machine. looking round me again, i saw that, quite near, what i had taken to be a reddish mass of rock was moving slowly towards me. then i saw the thing was really a monstrous crab like creature. can you imagine a crab as large as yonder table, with its many legs moving slowly and uncertainly, its big claws swaying, its long antennae, like carters' whips, waving and feeling, and its stalked eyes gleaming at you on either side of its metallic front? its back was corrugated and ornamented with ungainly bosses, and a greenish incrustation blotched it here and there. i could see the many palps of its complicated mouth flickering and feeling as it moved.  'as i stared at this sinister apparition crawling towards me, i felt a tickling on my cheek as though a fly had lighted there. i tried to brush it away with my hand, but in a moment it returned, and almost immediately came another by my ear. i struck at this, and caught something threadlike. it was drawn swiftly out of my hand. with a frightful qualm, i turned, and i saw that i had grasped the antenna of another monster crab that stood just behind me. its evil eyes were wriggling on their stalks, its mouth was all alive with appetite, and its vast ungainly claws, smeared with an algal slime, were descending upon me. in a moment my hand was on the lever, and i had placed a month between myself and these monsters. but i was still on the same beach, and i saw them distinctly now as soon as i stopped. dozens of them seemed to be crawling here and there, in the sombre light, among the foliated sheets of intense green.  'i cannot convey the sense of abominable desolation that hung over the world. the red eastern sky, the northward blackness, the salt dead sea, the stony beach crawling with these foul, slow stirring monsters, the uniform poisonous looking green of the lichenous plants, the thin air that hurts one's lungs: all contributed to an appalling effect. i moved on a hundred years, and there was the same red sun  a little larger, a little duller  the same dying sea, the same chill air, and the same crowd of earthy crustacea creeping in and out among the green weed and the red rocks. and in the westward sky, i saw a curved pale line like a vast new moon.  'so i travelled, stopping ever and again, in great strides of a thousand years or more, drawn on by the mystery of the earth's fate, watching with a strange fascination the sun grow larger and duller in the westward sky, and the life of the old earth ebb away. at last, more than thirty million years hence, the huge red hot dome of the sun had come to obscure nearly a tenth part of the darkling heavens. then i stopped once more, for the crawling multitude of crabs had disappeared, and the red beach, save for its livid green liverworts and lichens, seemed lifeless. and now it was flecked with white. a bitter cold assailed me. rare white flakes ever and again came eddying down. to the north eastward, the glare of snow lay under the starlight of the sable sky and i could see an undulating crest of hillocks pinkish white. there were fringes of ice along the sea margin, with drifting masses further out; but the main expanse of that salt ocean, all bloody under the eternal sunset, was still unfrozen.  'i looked about me to see if any traces of animal life remained. a certain indefinable apprehension still kept me in the saddle of the machine. but i saw nothing moving, in earth or sky or sea. the green slime on the rocks alone testified that life was not extinct. a shallow sandbank had appeared in the sea and the water had receded from the beach. i fancied i saw some black object flopping about upon this bank, but it became motionless as i looked at it, and i judged that my eye had been deceived, and that the black object was merely a rock. the stars in the sky were intensely bright and seemed to me to twinkle very little.  'suddenly i noticed that the circular westward outline of the sun had changed; that a concavity, a bay, had appeared in the curve. i saw this grow larger. for a minute perhaps i stared aghast at this blackness that was creeping over the day, and then i realized that an eclipse was beginning. either the moon or the planet mercury was passing across the sun's disk. naturally, at first i took it to be the moon, but there is much to incline me to believe that what i really saw was the transit of an inner planet passing very near to the earth.  'the darkness grew apace; a cold wind began to blow in freshening gusts from the east, and the showering white flakes in the air increased in number. from the edge of the sea came a ripple and whisper. beyond these lifeless sounds the world was silent. silent? it would be hard to convey the stillness of it. all the sounds of man, the bleating of sheep, the cries of birds, the hum of insects, the stir that makes the background of our lives  all that was over. as the darkness thickened, the eddying flakes grew more abundant, dancing before my eyes; and the cold of the air more intense. at last, one by one, swiftly, one after the other, the white peaks of the distant hills vanished into blackness. the breeze rose to a moaning wind. i saw the black central shadow of the eclipse sweeping towards me. in another moment the pale stars alone were visible. all else was rayless obscurity. the sky was absolutely black.  'a horror of this great darkness came on me. the cold, that smote to my marrow, and the pain i felt in breathing, overcame me. i shivered, and a deadly nausea seized me. then like a red hot bow in the sky appeared the edge of the sun. i got off the machine to recover myself. i felt giddy and incapable of facing the return journey. as i stood sick and confused i saw again the moving thing upon the shoal  there was no mistake now that it was a moving thing  against the red water of the sea. it was a round thing, the size of a football perhaps, or, it may be, bigger, and tentacles trailed down from it; it seemed black against the weltering blood red water, and it was hopping fitfully about. then i felt i was fainting. but a terrible dread of lying helpless in that remote and awful twilight sustained me while i clambered upon the saddle.     xii   'so i came back. for a long time i must have been insensible upon the machine. the blinking succession of the days and nights was resumed, the sun got golden again, the sky blue. i breathed with greater freedom. the fluctuating contours of the land ebbed and flowed. the hands spun backward upon the dials. at last i saw again the dim shadows of houses, the evidences of decadent humanity. these, too, changed and passed, and others came. presently, when the million dial was at zero, i slackened speed. i began to recognize our own pretty and familiar architecture, the thousands hand ran back to the starting point, the night and day flapped slower and slower. then the old walls of the laboratory came round me. very gently, now, i slowed the mechanism down.  'i saw one little thing that seemed odd to me. i think i have told you that when i set out, before my velocity became very high, mrs. watchett had walked across the room, travelling, as it seemed to me, like a rocket. as i returned, i passed again across that minute when she traversed the laboratory. but now her every motion appeared to be the exact inversion of her previous ones. the door at the lower end opened, and she glided quietly up the laboratory, back foremost, and disappeared behind the door by which she had previously entered. just before that i seemed to see hillyer for a moment; but he passed like a flash.  'then i stopped the machine, and saw about me again the old familiar laboratory, my tools, my appliances just as i had left them. i got off the thing very shakily, and sat down upon my bench. for several minutes i trembled violently. then i became calmer. around me was my old workshop again, exactly as it had been. i might have slept there, and the whole thing have been a dream.  'and yet, not exactly! the thing had started from the south east corner of the laboratory. it had come to rest again in the north west, against the wall where you saw it. that gives you the exact distance from my little lawn to the pedestal of the white sphinx, into which the morlocks had carried my machine.  'for a time my brain went stagnant. presently i got up and came through the passage here, limping, because my heel was still painful, and feeling sorely begrimed. i saw the  pall mall gazette  on the table by the door. i found the date was indeed to day, and looking at the timepiece, saw the hour was almost eight o'clock. i heard your voices and the clatter of plates. i hesitated  i felt so sick and weak. then i sniffed good wholesome meat, and opened the door on you. you know the rest. i washed, and dined, and now i am telling you the story.  'i know,' he said, after a pause, 'that all this will be absolutely incredible to you. to me the one incredible thing is that i am here to night in this old familiar room looking into your friendly faces and telling you these strange adventures.'  he looked at the medical man. 'no. i cannot expect you to believe it. take it as a lie  or a prophecy. say i dreamed it in the workshop. consider i have been speculating upon the destinies of our race until i have hatched this fiction. treat my assertion of its truth as a mere stroke of art to enhance its interest. and taking it as a story, what do you think of it?'  he took up his pipe, and began, in his old accustomed manner, to tap with it nervously upon the bars of the grate. there was a momentary stillness. then chairs began to creak and shoes to scrape upon the carpet. i took my eyes off the time traveller's face, and looked round at his audience. they were in the dark, and little spots of colour swam before them. the medical man seemed absorbed in the contemplation of our host. the editor was looking hard at the end of his cigar  the sixth. the journalist fumbled for his watch. the others, as far as i remember, were motionless.  the editor stood up with a sigh. 'what a pity it is you're not a writer of stories!' he said, putting his hand on the time traveller's shoulder.  'you don't believe it?'  'well    '  'i thought not.'  the time traveller turned to us. 'where are the matches?' he said. he lit one and spoke over his pipe, puffing. 'to tell you the truth ... i hardly believe it myself.... and yet...'  his eye fell with a mute inquiry upon the withered white flowers upon the little table. then he turned over the hand holding his pipe, and i saw he was looking at some half healed scars on his knuckles.  the medical man rose, came to the lamp, and examined the flowers. 'the gynaeceum's odd,' he said. the psychologist leant forward to see, holding out his hand for a specimen.  'i'm hanged if it isn't a quarter to one,' said the journalist. 'how shall we get home?'  'plenty of cabs at the station,' said the psychologist.  'it's a curious thing,' said the medical man; 'but i certainly don't know the natural order of these flowers. may i have them?'  the time traveller hesitated. then suddenly: 'certainly not.'  'where did you really get them?' said the medical man.  the time traveller put his hand to his head. he spoke like one who was trying to keep hold of an idea that eluded him. 'they were put into my pocket by weena, when i travelled into time.' he stared round the room. 'i'm damned if it isn't all going. this room and you and the atmosphere of every day is too much for my memory. did i ever make a time machine, or a model of a time machine? or is it all only a dream? they say life is a dream, a precious poor dream at times  but i can't stand another that won't fit. it's madness. and where did the dream come from? ... i must look at that machine. if there is one!'  he caught up the lamp swiftly, and carried it, flaring red, through the door into the corridor. we followed him. there in the flickering light of the lamp was the machine sure enough, squat, ugly, and askew; a thing of brass, ebony, ivory, and translucent glimmering quartz. solid to the touch  for i put out my hand and felt the rail of it  and with brown spots and smears upon the ivory, and bits of grass and moss upon the lower parts, and one rail bent awry.  the time traveller put the lamp down on the bench, and ran his hand along the damaged rail. 'it's all right now,' he said. 'the story i told you was true. i'm sorry to have brought you out here in the cold.' he took up the lamp, and, in an absolute silence, we returned to the smoking room.  he came into the hall with us and helped the editor on with his coat. the medical man looked into his face and, with a certain hesitation, told him he was suffering from overwork, at which he laughed hugely. i remember him standing in the open doorway, bawling good night.  i shared a cab with the editor. he thought the tale a 'gaudy lie.' for my own part i was unable to come to a conclusion. the story was so fantastic and incredible, the telling so credible and sober. i lay awake most of the night thinking about it. i determined to go next day and see the time traveller again. i was told he was in the laboratory, and being on easy terms in the house, i went up to him. the laboratory, however, was empty. i stared for a minute at the time machine and put out my hand and touched the lever. at that the squat substantial looking mass swayed like a bough shaken by the wind. its instability startled me extremely, and i had a queer reminiscence of the childish days when i used to be forbidden to meddle. i came back through the corridor. the time traveller met me in the smoking room. he was coming from the house. he had a small camera under one arm and a knapsack under the other. he laughed when he saw me, and gave me an elbow to shake. 'i'm frightfully busy,' said he, 'with that thing in there.'  'but is it not some hoax?' i said. 'do you really travel through time?'  'really and truly i do.' and he looked frankly into my eyes. he hesitated. his eye wandered about the room. 'i only want half an hour,' he said. 'i know why you came, and it's awfully good of you. there's some magazines here. if you'll stop to lunch i'll prove you this time travelling up to the hilt, specimen and all. if you'll forgive my leaving you now?'  i consented, hardly comprehending then the full import of his words, and he nodded and went on down the corridor. i heard the door of the laboratory slam, seated myself in a chair, and took up a daily paper. what was he going to do before lunch time? then suddenly i was reminded by an advertisement that i had promised to meet richardson, the publisher, at two. i looked at my watch, and saw that i could barely save that engagement. i got up and went down the passage to tell the time traveller.  as i took hold of the handle of the door i heard an exclamation, oddly truncated at the end, and a click and a thud. a gust of air whirled round me as i opened the door, and from within came the sound of broken glass falling on the floor. the time traveller was not there. i seemed to see a ghostly, indistinct figure sitting in a whirling mass of black and brass for a moment  a figure so transparent that the bench behind with its sheets of drawings was absolutely distinct; but this phantasm vanished as i rubbed my eyes. the time machine had gone. save for a subsiding stir of dust, the further end of the laboratory was empty. a pane of the skylight had, apparently, just been blown in.  i felt an unreasonable amazement. i knew that something strange had happened, and for the moment could not distinguish what the strange thing might be. as i stood staring, the door into the garden opened, and the man servant appeared.  we looked at each other. then ideas began to come. 'has mr.      gone out that way?' said i.  'no, sir. no one has come out this way. i was expecting to find him here.'  at that i understood. at the risk of disappointing richardson i stayed on, waiting for the time traveller; waiting for the second, perhaps still stranger story, and the specimens and photographs he would bring with him. but i am beginning now to fear that i must wait a lifetime. the time traveller vanished three years ago. and, as everybody knows now, he has never returned.     epilogue   one cannot choose but wonder. will he ever return? it may be that he swept back into the past, and fell among the blood drinking, hairy savages of the age of unpolished stone; into the abysses of the cretaceous sea; or among the grotesque saurians, the huge reptilian brutes of the jurassic times. he may even now  if i may use the phrase  be wandering on some plesiosaurus haunted oolitic coral reef, or beside the lonely saline lakes of the triassic age. or did he go forward, into one of the nearer ages, in which men are still men, but with the riddles of our own time answered and its wearisome problems solved? into the manhood of the race: for i, for my own part, cannot think that these latter days of weak experiment, fragmentary theory, and mutual discord are indeed man's culminating time! i say, for my own part. he, i know  for the question had been discussed among us long before the time machine was made  thought but cheerlessly of the advancement of mankind, and saw in the growing pile of civilization only a foolish heaping that must inevitably fall back upon and destroy its makers in the end. if that is so, it remains for us to live as though it were not so. but to me the future is still black and blank  is a vast ignorance, lit at a few casual places by the memory of his story. and i have by me, for my comfort, two strange white flowers  shrivelled now, and brown and flat and brittle  to witness that even when mind and strength had gone, gratitude and a mutual tenderness still lived on in the heart of man.        end of project gutenberg's the time machine, by h. g. (herbert george) wells  *** end of this project gutenberg ebook the time machine ***  ***** this file should be named 35.txt or 35.zip ***** this and all associated files of various formats will be found in:         http://www.gutenberg.net/3/35/            updated editions will replace the previous one  the old editions         will be renamed.          creating the works from public domain print editions means that no         one owns a united states copyright in these works, so the foundation         (and you!) can copy and distribute it in the united states without         permission and without paying copyright royalties.  special rules,         set forth in the general terms of use part of this license, apply to         copying and distributing project gutenberg tm electronic works to         protect the project gutenberg tm concept and trademark.  project         gutenberg is a registered trademark, and may not be used if you         charge for the ebooks, unless you receive specific permission.  if you         do not charge anything for copies of this ebook, complying with the         rules is very easy.  you may use this ebook for nearly any purpose         such as creation of derivative works, reports, performances and         research.  they may be modified and printed and given away  you may do         practically anything with public domain ebooks.  redistribution is         subject to the trademark license, especially commercial         redistribution.            *** start: full license ***          the full project gutenberg license         please read this before you distribute or use this work          to protect the project gutenberg tm mission of promoting the free         distribution of electronic works, by using or distributing this work         (or any other work associated in any way with the phrase \"project         gutenberg\"), you agree to comply with all the terms of the full project         gutenberg tm license (available with this file or online at         http://gutenberg.net/license).           section 1.  general terms of use and redistributing project gutenberg tm         electronic works          1.a.  by reading or using any part of this project gutenberg tm         electronic work, you indicate that you have read, understand, agree to         and accept all the terms of this license and intellectual property         (trademark/copyright) agreement.  if you do not agree to abide by all         the terms of this agreement, you must cease using and return or destroy         all copies of project gutenberg tm electronic works in your possession.         if you paid a fee for obtaining a copy of or access to a project         gutenberg tm electronic work and you do not agree to be bound by the         terms of this agreement, you may obtain a refund from the person or         entity to whom you paid the fee as set forth in paragraph 1.e.8.          1.b.  \"project gutenberg\" is a registered trademark.  it may only be         used on or associated in any way with an electronic work by people who         agree to be bound by the terms of this agreement.  there are a few         things that you can do with most project gutenberg tm electronic works         even without complying with the full terms of this agreement.  see         paragraph 1.c below.  there are a lot of things you can do with project         gutenberg tm electronic works if you follow the terms of this agreement         and help preserve free future access to project gutenberg tm electronic         works.  see paragraph 1.e below.          1.c.  the project gutenberg literary archive foundation (\"the foundation\"         or pglaf), owns a compilation copyright in the collection of project         gutenberg tm electronic works.  nearly all the individual works in the         collection are in the public domain in the united states.  if an         individual work is in the public domain in the united states and you are         located in the united states, we do not claim a right to prevent you from         copying, distributing, performing, displaying or creating derivative         works based on the work as long as all references to project gutenberg         are removed.  of course, we hope that you will support the project         gutenberg tm mission of promoting free access to electronic works by         freely sharing project gutenberg tm works in compliance with the terms of         this agreement for keeping the project gutenberg tm name associated with         the work.  you can easily comply with the terms of this agreement by         keeping this work in the same format with its attached full project         gutenberg tm license when you share it without charge with others.          1.d.  the copyright laws of the place where you are located also govern         what you can do with this work.  copyright laws in most countries are in         a constant state of change.  if you are outside the united states, check         the laws of your country in addition to the terms of this agreement         before downloading, copying, displaying, performing, distributing or         creating derivative works based on this work or any other project         gutenberg tm work.  the foundation makes no representations concerning         the copyright status of any work in any country outside the united         states.          1.e.  unless you have removed all references to project gutenberg:          1.e.1.  the following sentence, with active links to, or other immediate         access to, the full project gutenberg tm license must appear prominently         whenever any copy of a project gutenberg tm work (any work on which the         phrase \"project gutenberg\" appears, or with which the phrase \"project         gutenberg\" is associated) is accessed, displayed, performed, viewed,         copied or distributed:          this ebook is for the use of anyone anywhere at no cost and with         almost no restrictions whatsoever.  you may copy it, give it away or         re use it under the terms of the project gutenberg license included         with this ebook or online at www.gutenberg.net          1.e.2.  if an individual project gutenberg tm electronic work is derived         from the public domain (does not contain a notice indicating that it is         posted with permission of the copyright holder), the work can be copied         and distributed to anyone in the united states without paying any fees         or charges.  if you are redistributing or providing access to a work         with the phrase \"project gutenberg\" associated with or appearing on the         work, you must comply either with the requirements of paragraphs 1.e.1         through 1.e.7 or obtain permission for the use of the work and the         project gutenberg tm trademark as set forth in paragraphs 1.e.8 or         1.e.9.          1.e.3.  if an individual project gutenberg tm electronic work is posted         with the permission of the copyright holder, your use and distribution         must comply with both paragraphs 1.e.1 through 1.e.7 and any additional         terms imposed by the copyright holder.  additional terms will be linked         to the project gutenberg tm license for all works posted with the         permission of the copyright holder found at the beginning of this work.          1.e.4.  do not unlink or detach or remove the full project gutenberg tm         license terms from this work, or any files containing a part of this         work or any other work associated with project gutenberg tm.          1.e.5.  do not copy, display, perform, distribute or redistribute this         electronic work, or any part of this electronic work, without         prominently displaying the sentence set forth in paragraph 1.e.1 with         active links or immediate access to the full terms of the project         gutenberg tm license.          1.e.6.  you may convert to and distribute this work in any binary,         compressed, marked up, nonproprietary or proprietary form, including any         word processing or hypertext form.  however, if you provide access to or         distribute copies of a project gutenberg tm work in a format other than         \"plain vanilla ascii\" or other format used in the official version         posted on the official project gutenberg tm web site (www.gutenberg.net),         you must, at no additional cost, fee or expense to the user, provide a         copy, a means of exporting a copy, or a means of obtaining a copy upon         request, of the work in its original \"plain vanilla ascii\" or other         form.  any alternate format must include the full project gutenberg tm         license as specified in paragraph 1.e.1.          1.e.7.  do not charge a fee for access to, viewing, displaying,         performing, copying or distributing any project gutenberg tm works         unless you comply with paragraph 1.e.8 or 1.e.9.          1.e.8.  you may charge a reasonable fee for copies of or providing         access to or distributing project gutenberg tm electronic works provided         that            you pay a royalty fee of 20% of the gross profits you derive from              the use of project gutenberg tm works calculated using the method                   you already use to calculate your applicable taxes.  the fee is                        owed to the owner of the project gutenberg tm trademark, but he                             has agreed to donate royalties under this paragraph to the                                  project gutenberg literary archive foundation.  royalty payments                                       must be paid within 60 days following each date on which you                                            prepare (or are legally required to prepare) your periodic tax                                                 returns.  royalty payments should be clearly marked as such and                                                      sent to the project gutenberg literary archive foundation at the                                                           address specified in section 4, \"information about donations to                                                                the project gutenberg literary archive foundation.\"                                                                   you provide a full refund of any money paid by a user who notifies                                                                     you in writing (or by e mail) within 30 days of receipt that s/he                                                                          does not agree to the terms of the full project gutenberg tm                                                                               license.  you must require such a user to return or                                                                                    destroy all copies of the works possessed in a physical medium                                                                                         and discontinue all use of and all access to other copies of                                                                                              project gutenberg tm works.                                                                                                 you provide, in accordance with paragraph 1.f.3, a full refund of any                                                                                                   money paid for a work or a replacement copy, if a defect in the                                                                                                        electronic work is discovered and reported to you within 90 days                                                                                                             of receipt of the work.                                                                                                                you comply with all other terms of this agreement for free                                                                                                                  distribution of project gutenberg tm works.                                                                                                                   1.e.9.  if you wish to charge a fee or distribute a project gutenberg tm                                                                                                                  electronic work or group of works on different terms than are set                                                                                                                  forth in this agreement, you must obtain permission in writing from                                                                                                                  both the project gutenberg literary archive foundation and michael                                                                                                                  hart, the owner of the project gutenberg tm trademark.  contact the                                                                                                                  foundation as set forth in section 3 below.                                                                                                                   1.f.                                                                                                                   1.f.1.  project gutenberg volunteers and employees expend considerable                                                                                                                  effort to identify, do copyright research on, transcribe and proofread                                                                                                                  public domain works in creating the project gutenberg tm                                                                                                                  collection.  despite these efforts, project gutenberg tm electronic                                                                                                                  works, and the medium on which they may be stored, may contain                                                                                                                  \"defects,\" such as, but not limited to, incomplete, inaccurate or                                                                                                                  corrupt data, transcription errors, a copyright or other intellectual                                                                                                                  property infringement, a defective or damaged disk or other medium, a                                                                                                                  computer virus, or computer codes that damage or cannot be read by                                                                                                                  your equipment.                                                                                                                   1.f.2.  limited warranty, disclaimer of damages   except for the \"right                                                                                                                  of replacement or refund\" described in paragraph 1.f.3, the project                                                                                                                  gutenberg literary archive foundation, the owner of the project                                                                                                                  gutenberg tm trademark, and any other party distributing a project                                                                                                                  gutenberg tm electronic work under this agreement, disclaim all                                                                                                                  liability to you for damages, costs and expenses, including legal                                                                                                                  fees.  you agree that you have no remedies for negligence, strict                                                                                                                  liability, breach of warranty or breach of contract except those                                                                                                                  provided in paragraph f3.  you agree that the foundation, the                                                                                                                  trademark owner, and any distributor under this agreement will not be                                                                                                                  liable to you for actual, direct, indirect, consequential, punitive or                                                                                                                  incidental damages even if you give notice of the possibility of such                                                                                                                  damage.                                                                                                                   1.f.3.  limited right of replacement or refund   if you discover a                                                                                                                  defect in this electronic work within 90 days of receiving it, you can                                                                                                                  receive a refund of the money (if any) you paid for it by sending a                                                                                                                  written explanation to the person you received the work from.  if you                                                                                                                  received the work on a physical medium, you must return the medium with                                                                                                                  your written explanation.  the person or entity that provided you with                                                                                                                  the defective work may elect to provide a replacement copy in lieu of a                                                                                                                  refund.  if you received the work electronically, the person or entity                                                                                                                  providing it to you may choose to give you a second opportunity to                                                                                                                  receive the work electronically in lieu of a refund.  if the second copy                                                                                                                  is also defective, you may demand a refund in writing without further                                                                                                                  opportunities to fix the problem.                                                                                                                   1.f.4.  except for the limited right of replacement or refund set forth                                                                                                                  in paragraph 1.f.3, this work is provided to you 'as is', with no other                                                                                                                  warranties of any kind, express or implied, including but not limited to                                                                                                                  warranties of merchantibility or fitness for any purpose.                                                                                                                   1.f.5.  some states do not allow disclaimers of certain implied                                                                                                                  warranties or the exclusion or limitation of certain types of damages.                                                                                                                  if any disclaimer or limitation set forth in this agreement violates the                                                                                                                  law of the state applicable to this agreement, the agreement shall be                                                                                                                  interpreted to make the maximum disclaimer or limitation permitted by                                                                                                                  the applicable state law.  the invalidity or unenforceability of any                                                                                                                  provision of this agreement shall not void the remaining provisions.                                                                                                                   1.f.6.  indemnity   you agree to indemnify and hold the foundation, the                                                                                                                  trademark owner, any agent or employee of the foundation, anyone                                                                                                                  providing copies of project gutenberg tm electronic works in accordance                                                                                                                  with this agreement, and any volunteers associated with the production,                                                                                                                  promotion and distribution of project gutenberg tm electronic works,                                                                                                                  harmless from all liability, costs and expenses, including legal fees,                                                                                                                  that arise directly or indirectly from any of the following which you do                                                                                                                  or cause to occur: (a) distribution of this or any project gutenberg tm                                                                                                                  work, (b) alteration, modification, or additions or deletions to any                                                                                                                  project gutenberg tm work, and (c) any defect you cause.                                                                                                                    section  2.  information about the mission of project gutenberg tm                                                                                                                   project gutenberg tm is synonymous with the free distribution of                                                                                                                  electronic works in formats readable by the widest variety of computers                                                                                                                  including obsolete, old, middle aged and new computers.  it exists                                                                                                                  because of the efforts of hundreds of volunteers and donations from                                                                                                                  people in all walks of life.                                                                                                                   volunteers and financial support to provide volunteers with the                                                                                                                  assistance they need, is critical to reaching project gutenberg tm's                                                                                                                  goals and ensuring that the project gutenberg tm collection will                                                                                                                  remain freely available for generations to come.  in 2001, the project                                                                                                                  gutenberg literary archive foundation was created to provide a secure                                                                                                                  and permanent future for project gutenberg tm and future generations.                                                                                                                  to learn more about the project gutenberg literary archive foundation                                                                                                                  and how your efforts and donations can help, see sections 3 and 4                                                                                                                  and the foundation web page at http://www.pglaf.org.                                                                                                                    section 3.  information about the project gutenberg literary archive                                                                                                                  foundation                                                                                                                   the project gutenberg literary archive foundation is a non profit                                                                                                                  501(c)(3) educational corporation organized under the laws of the                                                                                                                  state of mississippi and granted tax exempt status by the internal                                                                                                                  revenue service.  the foundation's ein or federal tax identification                                                                                                                  number is 64 6221541.  its 501(c)(3) letter is posted at                                                                                                                  http://pglaf.org/fundraising.  contributions to the project gutenberg                                                                                                                  literary archive foundation are tax deductible to the full extent                                                                                                                  permitted by u.s. federal laws and your state's laws.                                                                                                                   the foundation's principal office is located at 4557 melan dr. s.                                                                                                                  fairbanks, ak, 99712., but its volunteers and employees are scattered                                                                                                                  throughout numerous locations.  its business office is located at                                                                                                                  809 north 1500 west, salt lake city, ut 84116, (801) 596 1887, email                                                                                                                  business@pglaf.org.  email contact links and up to date contact                                                                                                                  information can be found at the foundation's web site and official                                                                                                                  page at http://pglaf.org                                                                                                                   for additional contact information:                                                                                                                       dr. gregory b. newby                                                                                                                            chief executive and director                                                                                                                                 gbnewby@pglaf.org                                                                                                                                  section 4.  information about donations to the project gutenberg                                                                                                                                 literary archive foundation                                                                                                                                  project gutenberg tm depends upon and cannot survive without wide                                                                                                                                 spread public support and donations to carry out its mission of                                                                                                                                 increasing the number of public domain and licensed works that can be                                                                                                                                 freely distributed in machine readable form accessible by the widest                                                                                                                                 array of equipment including outdated equipment.  many small donations                                                                                                                                 ($1 to $5,000) are particularly important to maintaining tax exempt                                                                                                                                 status with the irs.                                                                                                                                  the foundation is committed to complying with the laws regulating                                                                                                                                 charities and charitable donations in all 50 states of the united                                                                                                                                 states.  compliance requirements are not uniform and it takes a                                                                                                                                 considerable effort, much paperwork and many fees to meet and keep up                                                                                                                                 with these requirements.  we do not solicit donations in locations                                                                                                                                 where we have not received written confirmation of compliance.  to                                                                                                                                 send donations or determine the status of compliance for any                                                                                                                                 particular state visit http://pglaf.org                                                                                                                                  while we cannot and do not solicit contributions from states where we                                                                                                                                 have not met the solicitation requirements, we know of no prohibition                                                                                                                                 against accepting unsolicited donations from donors in such states who                                                                                                                                 approach us with offers to donate.                                                                                                                                  international donations are gratefully accepted, but we cannot make                                                                                                                                 any statements concerning tax treatment of donations received from                                                                                                                                 outside the united states.  u.s. laws alone swamp our small staff.                                                                                                                                  please check the project gutenberg web pages for current donation                                                                                                                                 methods and addresses.  donations are accepted in a number of other                                                                                                                                 ways including including checks, online payments and credit card                                                                                                                                 donations.  to donate, please visit: http://pglaf.org/donate                                                                                                                                   section 5.  general information about project gutenberg tm electronic                                                                                                                                 works.                                                                                                                                  professor michael s. hart is the originator of the project gutenberg tm                                                                                                                                 concept of a library of electronic works that could be freely shared                                                                                                                                 with anyone.  for thirty years, he produced and distributed project                                                                                                                                 gutenberg tm ebooks with only a loose network of volunteer support.                                                                                                                                  project gutenberg tm ebooks are often created from several printed                                                                                                                                 editions, all of which are confirmed as public domain in the u.s.                                                                                                                                 unless a copyright notice is included.  thus, we do not necessarily                                                                                                                                 keep ebooks in compliance with any particular paper edition.                                                                                                                                  most people start at our web site which has the main pg search facility:                                                                                                                                       http://www.gutenberg.net                                                                                                                                       this web site includes information about project gutenberg tm,                                                                                                                                      including how to make donations to the project gutenberg literary                                                                                                                                      archive foundation, how to help produce our new ebooks, and how to                                                                                                                                      subscribe to our email newsletter to hear about new ebooks. \n"
     ]
    }
   ],
   "source": [
    "print(df.article[0])"
   ]
  },
  {
   "cell_type": "code",
   "execution_count": 20,
   "metadata": {},
   "outputs": [
    {
     "name": "stdout",
     "output_type": "stream",
     "text": [
      "i the time traveller ( for so it will be convenient to speak of him ) be expound a recondite matter to u . his grey eye shone and twinkle , and his usually pale face be flush and animate . the fire burn brightly , and the soft radiance of the incandescent light in the lily of silver catch the bubble that flash and pass in our glass . our chair , be his patent , embrace and caress u rather than submit to be sit upon , and there be that luxurious after dinner atmosphere when thought roams gracefully free of the trammel of precision . and he put it to u in this way mark the point with a lean forefinger a we sit and lazily admire his earnestness over this new paradox ( a we think it ) and his fecundity . 'you must follow me carefully . i shall have to controvert one or two idea that be almost universally accept . the geometry , for instance , they teach you at school be found on a misconception . ' 'is not that rather a large thing to expect u to begin upon ? ' say filby , an argumentative person with red hair . ' i do not mean to ask you to accept anything without reasonable ground for it . you will soon admit as much a i need from you . you know of course that a mathematical line , a line of thickness nil , have no real existence . they teach you that ? neither have a mathematical plane . these thing be mere abstraction . ' 'that be all right , ' say the psychologist . 'nor , have only length , breadth , and thickness , can a cube have a real existence . ' 'there i object , ' say filby . 'of course a solid body may exist . all real thing ' 'so most people think . but wait a moment . can an instantaneous cube exist ? ' 'do n't follow you , ' say filby . 'can a cube that do not last for any time at all , have a real existence ? ' filby become pensive . 'clearly , ' the time traveller proceed , 'any real body must have extension in four direction : it must have length , breadth , thickness , and duration . but through a natural infirmity of the flesh , which i will explain to you in a moment , we incline to overlook this fact . there be really four dimension , three which we call the three plane of space , and a fourth , time . there be , however , a tendency to draw an unreal distinction between the former three dimension and the latter , because it happen that our consciousness move intermittently in one direction along the latter from the beginning to the end of our life . ' 'that , ' say a very young man , make spasmodic effort to relight his cigar over the lamp ; 'that ... very clear indeed . ' 'now , it be very remarkable that this be so extensively overlooked , ' continue the time traveller , with a slight accession of cheerfulness . 'really this be what be mean by the fourth dimension , though some people who talk about the fourth dimension do not know they mean it . it be only another way of look at time . there be no difference between time and any of the three dimension of space except that our consciousness move along it . but some foolish people have get hold of the wrong side of that idea . you have all hear what they have to say about this fourth dimension ? ' ' i have not , ' say the provincial mayor . 'it be simply this . that space , a our mathematician have it , be speak of a have three dimension , which one may call length , breadth , and thickness , and be always definable by reference to three plane , each at right angle to the others . but some philosophical people have be ask why three dimension particularly why not another direction at right angle to the other three ? and have even try to construct a four dimension geometry . professor simon newcomb be expound this to the new york mathematical society only a month or so ago . you know how on a flat surface , which have only two dimension , we can represent a figure of a three dimensional solid , and similarly they think that by model of three dimension they could represent one of four if they could master the perspective of the thing . see ? ' ' i think so , ' murmur the provincial mayor ; and , knit his brow , he lapse into an introspective state , his lip move a one who repeat mystic word . 'yes , i think i see it now , ' he say after some time , brighten in a quite transitory manner . 'well , i do not mind tell you i have be at work upon this geometry of four dimension for some time . some of my result be curious . for instance , here be a portrait of a man at eight year old , another at fifteen , another at seventeen , another at twenty three , and so on . all these be evidently section , a it be , three dimensional representation of his four dimension be , which be a fixed and unalterable thing . 'scientific people , ' proceed the time traveller , after the pause require for the proper assimilation of this , 'know very well that time be only a kind of space . here be a popular scientific diagram , a weather record . this line i trace with my finger show the movement of the barometer . yesterday it be so high , yesterday night it fell , then this morning it rise again , and so gently upward to here . surely the mercury do not trace this line in any of the dimension of space generally recognize ? but certainly it trace such a line , and that line , therefore , we must conclude be along the time dimension . ' 'but , ' say the medical man , star hard at a coal in the fire , 'if time be really only a fourth dimension of space , why be it , and why have it always be , regard a something different ? and why can not we move in time a we move about in the other dimension of space ? ' the time traveller smile . 'are you sure we can move freely in space ? right and leave we can go , backward and forward freely enough , and men always have do so . i admit we move freely in two dimension . but how about up and down ? gravitation limit u there . ' 'not exactly , ' say the medical man . 'there be balloon . ' 'but before the balloon , save for spasmodic jumping and the inequality of the surface , man have no freedom of vertical movement . ' 'still they could move a little up and down , ' say the medical man . 'easier , far easy down than up . ' 'and you can not move at all in time , you can not get away from the present moment . ' 'my dear sir , that be just where you be wrong . that be just where the whole world have go wrong . we be always get away from the present moment . our mental existence , which be immaterial and have no dimension , be pass along the time dimension with a uniform velocity from the cradle to the grave . just a we should travel down if we begin our existence fifty mile above the earth 's surface . ' 'but the great difficulty be this , ' interrupt the psychologist . 'you can move about in all direction of space , but you can not move about in time . ' 'that be the germ of my great discovery . but you be wrong to say that we can not move about in time . for instance , if i be recall an incident very vividly i go back to the instant of it occurrence : i become absent mind , a you say . i jump back for a moment . of course we have no mean of stay back for any length of time , any more than a savage or an animal have of stay six foot above the ground . but a civilized man be good off than the savage in this respect . he can go up against gravitation in a balloon , and why should he not hope that ultimately he may be able to stop or accelerate his drift along the time dimension , or even turn about and travel the other way ? ' 'oh , this , ' begin filby , 'is all ' 'why not ? ' say the time traveller . 'it 's against reason , ' say filby . 'what reason ? ' say the time traveller . 'you can show black be white by argument , ' say filby , 'but you will never convince me . ' 'possibly not , ' say the time traveller . 'but now you begin to see the object of my investigation into the geometry of four dimension . long ago i have a vague inkling of a machine ' 'to travel through time ! ' exclaim the very young man . 'that shall travel indifferently in any direction of space and time , a the driver determine . ' filby content himself with laughter . 'but i have experimental verification , ' say the time traveller . 'it would be remarkably convenient for the historian , ' the psychologist suggest . 'one might travel back and verify the accepted account of the battle of hastings , for instance ! ' 'do n't you think you would attract attention ? ' say the medical man . 'our ancestor have no great tolerance for anachronism . ' 'one might get one 's greek from the very lip of homer and plato , ' the very young man think . 'in which case they would certainly plough you for the little go . the german scholar have improve greek so much . ' 'then there be the future , ' say the very young man . 'just think ! one might invest all one 's money , leave it to accumulate at interest , and hurry on ahead ! ' 'to discover a society , ' say i , 'erected on a strictly communistic basis . ' 'of all the wild extravagant theory ! ' begin the psychologist . 'yes , so it seem to me , and so i never talk of it until ' 'experimental verification ! ' cry i . 'you be go to verify that ? ' 'the experiment ! ' cried filby , who be get brain weary . 'let 's see your experiment anyhow , ' say the psychologist , 'though it 's all humbug , you know . ' the time traveller smile round at u . then , still smile faintly , and with his hand deep in his trouser pocket , he walk slowly out of the room , and we hear his slipper shuffle down the long passage to his laboratory . the psychologist look at u . ' i wonder what he 's get ? ' 'some sleight of hand trick or other , ' say the medical man , and filby try to tell u about a conjurer he have see at burslem ; but before he have finish his preface the time traveller come back , and filby 's anecdote collapse . the thing the time traveller hold in his hand be a glitter metallic framework , scarcely large than a small clock , and very delicately make . there be ivory in it , and some transparent crystalline substance . and now i must be explicit , for this that follow unless his explanation be to be accept be an absolutely unaccountable thing . he take one of the small octagonal table that be scatter about the room , and set it in front of the fire , with two leg on the hearthrug . on this table he place the mechanism . then he draw up a chair , and sit down . the only other object on the table be a small shaded lamp , the bright light of which fell upon the model . there be also perhaps a dozen candle about , two in brass candlestick upon the mantel and several in sconce , so that the room be brilliantly illuminate . i sit in a low arm chair nearest the fire , and i draw this forward so a to be almost between the time traveller and the fireplace . filby sit behind him , look over his shoulder . the medical man and the provincial mayor watch him in profile from the right , the psychologist from the left . the very young man stand behind the psychologist . we be all on the alert . it appear incredible to me that any kind of trick , however subtly conceive and however adroitly do , could have be play upon u under these condition . the time traveller look at u , and then at the mechanism . 'well ? ' say the psychologist . 'this little affair , ' say the time traveller , rest his elbow upon the table and press his hand together above the apparatus , 'is only a model . it be my plan for a machine to travel through time . you will notice that it look singularly askew , and that there be an odd twinkling appearance about this bar , a though it be in some way unreal . ' he point to the part with his finger . 'also , here be one little white lever , and here be another . ' the medical man get up out of his chair and peer into the thing . 'it 's beautifully make , ' he say . 'it take two year to make , ' retort the time traveller . then , when we have all imitate the action of the medical man , he say : 'now i want you clearly to understand that this lever , be press over , send the machine glide into the future , and this other reverse the motion . this saddle represent the seat of a time traveller . presently i be go to press the lever , and off the machine will go . it will vanish , pas into future time , and disappear . have a good look at the thing . look at the table too , and satisfy yourselves there be no trickery . i do n't want to waste this model , and then be tell i 'm a quack . ' there be a minute 's pause perhaps . the psychologist seem about to speak to me , but change his mind . then the time traveller put forth his finger towards the lever . 'no , ' he say suddenly . 'lend me your hand . ' and turn to the psychologist , he take that individual 's hand in his own and tell him to put out his forefinger . so that it be the psychologist himself who send forth the model time machine on it interminable voyage . we all saw the lever turn . i be absolutely certain there be no trickery . there be a breath of wind , and the lamp flame jump . one of the candle on the mantel be blow out , and the little machine suddenly swing round , become indistinct , be see a a ghost for a second perhaps , a an eddy of faintly glitter brass and ivory ; and it be go vanished ! save for the lamp the table be bare . everyone be silent for a minute . then filby say he be damn . the psychologist recover from his stupor , and suddenly look under the table . at that the time traveller laugh cheerfully . 'well ? ' he say , with a reminiscence of the psychologist . then , get up , he go to the tobacco jar on the mantel , and with his back to u begin to fill his pipe . we star at each other . 'look here , ' say the medical man , 'are you in earnest about this ? do you seriously believe that that machine have travel into time ? ' 'certainly , ' say the time traveller , stoop to light a spill at the fire . then he turn , light his pipe , to look at the psychologist 's face . ( the psychologist , to show that he be not unhinged , help himself to a cigar and try to light it uncut . ) 'what be more , i have a big machine nearly finish in there ' he indicate the laboratory 'and when that be put together i mean to have a journey on my own account . ' 'you mean to say that that machine have travel into the future ? ' say filby . 'into the future or the past i do n't , for certain , know which . ' after an interval the psychologist have an inspiration . 'it must have go into the past if it have go anywhere , ' he say . 'why ? ' say the time traveller . 'because i presume that it have not move in space , and if it travel into the future it would still be here all this time , since it must have travel through this time . ' 'but , ' i say , 'if it travel into the past it would have be visible when we come first into this room ; and last thursday when we be here ; and the thursday before that ; and so forth ! ' 'serious objection , ' remark the provincial mayor , with an air of impartiality , turn towards the time traveller . 'not a bit , ' say the time traveller , and , to the psychologist : 'you think . you can explain that . it 's presentation below the threshold , you know , diluted presentation . ' 'of course , ' say the psychologist , and reassure u . 'that 's a simple point of psychology . i should have think of it . it 's plain enough , and help the paradox delightfully . we can not see it , nor can we appreciate this machine , any more than we can the spoke of a wheel spinning , or a bullet fly through the air . if it be travel through time fifty time or a hundred time faster than we be , if it get through a minute while we get through a second , the impression it create will of course be only one fiftieth or one hundredth of what it would make if it be not travel in time . that 's plain enough . ' he pass his hand through the space in which the machine have be . 'you see ? ' he say , laugh . we sit and star at the vacant table for a minute or so . then the time traveller ask u what we think of it all . 'it sound plausible enough to night , ' say the medical man ; 'but wait until to morrow . wait for the common sense of the morning . ' 'would you like to see the time machine itself ? ' ask the time traveller . and therewith , take the lamp in his hand , he lead the way down the long , draughty corridor to his laboratory . i remember vividly the flickering light , his queer , broad head in silhouette , the dance of the shadow , how we all follow him , puzzle but incredulous , and how there in the laboratory we behold a large edition of the little mechanism which we have see vanish from before our eye . part be of nickel , part of ivory , part have certainly be file or saw out of rock crystal . the thing be generally complete , but the twisted crystalline bar lay unfinished upon the bench beside some sheet of drawing , and i take one up for a good look at it . quartz it seem to be . 'look here , ' say the medical man , 'are you perfectly serious ? or be this a trick like that ghost you show u last christmas ? ' 'upon that machine , ' say the time traveller , hold the lamp aloft , ' i intend to explore time . be that plain ? i be never more serious in my life . ' none of u quite know how to take it . i catch filby 's eye over the shoulder of the medical man , and he wink at me solemnly . ii i think that at that time none of u quite believe in the time machine . the fact be , the time traveller be one of those men who be too clever to be believe : you never felt that you saw all round him ; you always suspect some subtle reserve , some ingenuity in ambush , behind his lucid frankness . have filby show the model and explain the matter in the time traveller 's word , we should have show him far less scepticism . for we should have perceive his motif ; a pork butcher could understand filby . but the time traveller have more than a touch of whim among his element , and we distrust him . thing that would have make the frame of a less clever man seem trick in his hand . it be a mistake to do thing too easily . the serious people who take him seriously never felt quite sure of his deportment ; they be somehow aware that trust their reputation for judgment with him be like furnish a nursery with egg shell china . so i do n't think any of u say very much about time travelling in the interval between that thursday and the next , though it odd potentiality run , no doubt , in most of our mind : it plausibility , that be , it practical incredibleness , the curious possibility of anachronism and of utter confusion it suggest . for my own part , i be particularly preoccupy with the trick of the model . that i remember discuss with the medical man , whom i meet on friday at the linnaean . he say he have see a similar thing at tubingen , and lay considerable stress on the blow out of the candle . but how the trick be do he could not explain . the next thursday i go again to richmond i suppose i be one of the time traveller 's most constant guest and , arrive late , find four or five men already assemble in his drawing room . the medical man be stand before the fire with a sheet of paper in one hand and his watch in the other . i look round for the time traveller , and 'it 's half past seven now , ' say the medical man . ' i suppose we 'd well have dinner ? ' 'where 's ? ' say i , name our host . 'you 've just come ? it 's rather odd . he 's unavoidably detain . he ask me in this note to lead off with dinner at seven if he 's not back . say he 'll explain when he come . ' 'it seem a pity to let the dinner spoil , ' say the editor of a well know daily paper ; and thereupon the doctor ring the bell . the psychologist be the only person besides the doctor and myself who have attend the previous dinner . the other men be blank , the editor aforementioned , a certain journalist , and another a quiet , shy man with a beard whom i do n't know , and who , as far a my observation go , never open his mouth all the evening . there be some speculation at the dinner table about the time traveller 's absence , and i suggest time travelling , in a half jocular spirit . the editor want that explain to him , and the psychologist volunteer a wooden account of the 'ingenious paradox and trick ' we have witness that day week . he be in the midst of his exposition when the door from the corridor open slowly and without noise . i be face the door , and saw it first . 'hallo ! ' i say . 'at last ! ' and the door open wide , and the time traveller stand before u . i give a cry of surprise . 'good heaven ! man , what 's the matter ? ' cry the medical man , who saw him next . and the whole tableful turn towards the door . he be in an amazing plight . his coat be dusty and dirty , and smear with green down the sleeve ; his hair disorder , and a it seem to me greyer either with dust and dirt or because it colour have actually fade . his face be ghastly pale ; his chin have a brown cut on it a cut half heal ; his expression be haggard and drawn , a by intense suffering . for a moment he hesitate in the doorway , a if he have be dazzle by the light . then he come into the room . he walk with just such a limp a i have see in footsore tramp . we star at him in silence , expect him to speak . he say not a word , but come painfully to the table , and make a motion towards the wine . the editor fill a glass of champagne , and push it towards him . he drain it , and it seem to do him good : for he look round the table , and the ghost of his old smile flicker across his face . 'what on earth have you be up to , man ? ' say the doctor . the time traveller do not seem to hear . 'do n't let me disturb you , ' he say , with a certain faltering articulation . ' i 'm all right . ' he stop , hold out his glass for more , and take it off at a draught . 'that 's good , ' he say . his eye grow brighter , and a faint colour come into his cheek . his glance flicker over our face with a certain dull approval , and then go round the warm and comfortable room . then he speak again , still a it be feel his way among his word . ' i 'm go to wash and dress , and then i 'll come down and explain thing ... save me some of that mutton . i 'm starve for a bit of meat . ' he look across at the editor , who be a rare visitor , and hop he be all right . the editor begin a question . 'tell you presently , ' say the time traveller . ' i 'm funny ! be all right in a minute . ' he put down his glass , and walk towards the staircase door . again i remark his lameness and the soft pad sound of his footfall , and stand up in my place , i saw his foot a he go out . he have nothing on them but a pair of tattered , blood stain sock . then the door close upon him . i have half a mind to follow , till i remember how he detest any fuss about himself . for a minute , perhaps , my mind be wool gathering . then , 'remarkable behaviour of an eminent scientist , ' i hear the editor say , think ( after his wont ) in headline . and this bring my attention back to the bright dinner table . 'what 's the game ? ' say the journalist . 'has he be do the amateur cadger ? i do n't follow . ' i meet the eye of the psychologist , and read my own interpretation in his face . i thought of the time traveller limp painfully upstairs . i do n't think any one else have notice his lameness . the first to recover completely from this surprise be the medical man , who ring the bell the time traveller hat to have servant wait at dinner for a hot plate . at that the editor turn to his knife and fork with a grunt , and the silent man follow suit . the dinner be resume . conversation be exclamatory for a little while , with gap of wonderment ; and then the editor get fervent in his curiosity . 'does our friend eke out his modest income with a crossing ? or have he his nebuchadnezzar phase ? ' he inquire . ' i feel assure it 's this business of the time machine , ' i say , and take up the psychologist 's account of our previous meeting . the new guest be frankly incredulous . the editor raise objection . 'what be this time travel ? a man could n't cover himself with dust by roll in a paradox , could he ? ' and then , a the idea come home to him , he resort to caricature . have n't they any clothes brush in the future ? the journalist too , would not believe at any price , and join the editor in the easy work of heap ridicule on the whole thing . they be both the new kind of journalist very joyous , irreverent young men . 'our special correspondent in the day after to morrow report , ' the journalist be say or rather shout when the time traveller come back . he be dress in ordinary evening clothes , and nothing save his haggard look remain of the change that have startle me . ' i say , ' say the editor hilariously , 'these chap here say you have be travel into the middle of next week ! tell u all about little rosebery , will you ? what will you take for the lot ? ' the time traveller come to the place reserve for him without a word . he smile quietly , in his old way . 'where 's my mutton ? ' he say . 'what a treat it be to stick a fork into meat again ! ' 'story ! ' cry the editor . 'story be damn ! ' say the time traveller . ' i want something to eat . i wo n't say a word until i get some peptone into my artery . thanks . and the salt . ' 'one word , ' say i . 'have you be time travel ? ' 'yes , ' say the time traveller , with his mouth full , nod his head . ' i 'd give a shill a line for a verbatim note , ' say the editor . the time traveller push his glass towards the silent man and ring it with his fingernail ; at which the silent man , who have be star at his face , start convulsively , and pour him wine . the rest of the dinner be uncomfortable . for my own part , sudden question keep on rise to my lip , and i dare say it be the same with the others . the journalist try to relieve the tension by tell anecdote of hettie potter . the time traveller devote his attention to his dinner , and display the appetite of a tramp . the medical man smoke a cigarette , and watch the time traveller through his eyelash . the silent man seem even more clumsy than usual , and drink champagne with regularity and determination out of sheer nervousness . at last the time traveller push his plate away , and look round u . ' i suppose i must apologize , ' he say . ' i be simply starve . i 've have a most amazing time . ' he reach out his hand for a cigar , and cut the end . 'but come into the smoking room . it 's too long a story to tell over greasy plate . ' and ring the bell in passing , he lead the way into the adjoining room . 'you have tell blank , and dash , and choose about the machine ? ' he say to me , lean back in his easy chair and name the three new guest . 'but the thing 's a mere paradox , ' say the editor . ' i ca n't argue to night . i do n't mind tell you the story , but i ca n't argue . i will , ' he go on , 'tell you the story of what have happen to me , if you like , but you must refrain from interruption . i want to tell it . badly . most of it will sound like lie . so be it ! it 's true every word of it , all the same . i be in my laboratory at four o'clock , and since then ... i 've live eight day ... such day a no human be ever live before ! i 'm nearly wear out , but i sha n't sleep till i 've tell this thing over to you . then i shall go to bed . but no interruption ! be it agree ? ' 'agreed , ' say the editor , and the rest of u echo 'agreed . ' and with that the time traveller begin his story a i have set it forth . he sit back in his chair at first , and speak like a weary man . afterwards he get more animated . in write it down i feel with only too much keenness the inadequacy of pen and ink and , above all , my own inadequacy to express it quality . you read , i will suppose , attentively enough ; but you can not see the speaker 's white , sincere face in the bright circle of the little lamp , nor hear the intonation of his voice . you can not know how his expression follow the turn of his story ! most of u hearer be in shadow , for the candle in the smoking room have not be light , and only the face of the journalist and the leg of the silent man from the knee downward be illuminate . at first we glance now and again at each other . after a time we cease to do that , and look only at the time traveller 's face . iii ' i tell some of you last thursday of the principle of the time machine , and show you the actual thing itself , incomplete in the workshop . there it be now , a little travel worn , truly ; and one of the ivory bar be crack , and a brass rail bent ; but the rest of it 's sound enough . i expect to finish it on friday , but on friday , when the put together be nearly do , i find that one of the nickel bar be exactly one inch too short , and this i have to get remade ; so that the thing be not complete until this morning . it be at ten o'clock to day that the first of all time machine begin it career . i give it a last tap , try all the screw again , put one more drop of oil on the quartz rod , and sit myself in the saddle . i suppose a suicide who hold a pistol to his skull feel much the same wonder at what will come next a i felt then . i take the starting lever in one hand and the stop one in the other , press the first , and almost immediately the second . i seem to reel ; i felt a nightmare sensation of fall ; and , look round , i saw the laboratory exactly a before . have anything happen ? for a moment i suspect that my intellect have trick me . then i note the clock . a moment before , a it seem , it have stand at a minute or so past ten ; now it be nearly half past three ! ' i draw a breath , set my teeth , grip the start lever with both hand , and go off with a thud . the laboratory get hazy and go dark . mrs. watchett come in and walk , apparently without see me , towards the garden door . i suppose it take her a minute or so to traverse the place , but to me she seem to shoot across the room like a rocket . i press the lever over to it extreme position . the night come like the turn out of a lamp , and in another moment come to morrow . the laboratory grow faint and hazy , then fainter and ever fainter . to morrow night come black , then day again , night again , day again , fast and faster still . an eddy murmur fill my ear , and a strange , dumb confusedness descend on my mind . ' i be afraid i can not convey the peculiar sensation of time travel . they be excessively unpleasant . there be a feel exactly like that one have upon a switchback of a helpless headlong motion ! i felt the same horrible anticipation , too , of an imminent smash . a i put on pace , night follow day like the flapping of a black wing . the dim suggestion of the laboratory seem presently to fall away from me , and i saw the sun hop swiftly across the sky , leap it every minute , and every minute mark a day . i suppose the laboratory have be destroy and i have come into the open air . i have a dim impression of scaffolding , but i be already go too fast to be conscious of any moving thing . the slow snail that ever crawl dash by too fast for me . the twinkle succession of darkness and light be excessively painful to the eye . then , in the intermittent darknesses , i saw the moon spin swiftly through her quarter from new to full , and have a faint glimpse of the circling star . presently , a i go on , still gain velocity , the palpitation of night and day merge into one continuous greyness ; the sky take on a wonderful deepness of blue , a splendid luminous color like that of early twilight ; the jerking sun become a streak of fire , a brilliant arch , in space ; the moon a fainter fluctuate band ; and i could see nothing of the star , save now and then a brighter circle flickering in the blue . 'the landscape be misty and vague . i be still on the hill side upon which this house now stand , and the shoulder rise above me grey and dim . i saw tree grow and change like puff of vapour , now brown , now green ; they grow , spread , shiver , and pass away . i saw huge building rise up faint and fair , and pas like dream . the whole surface of the earth seem changed melting and flow under my eye . the little hand upon the dial that register my speed race round faster and faster . presently i note that the sun belt sway up and down , from solstice to solstice , in a minute or less , and that consequently my pace be over a year a minute ; and minute by minute the white snow flash across the world , and vanish , and be follow by the bright , brief green of spring . 'the unpleasant sensation of the start be less poignant now . they merge at last into a kind of hysterical exhilaration . i remark indeed a clumsy swaying of the machine , for which i be unable to account . but my mind be too confused to attend to it , so with a kind of madness grow upon me , i fling myself into futurity . at first i scarce thought of stopping , scarce thought of anything but these new sensation . but presently a fresh series of impression grow up in my mind a certain curiosity and therewith a certain dread until at last they take complete possession of me . what strange development of humanity , what wonderful advance upon our rudimentary civilization , i think , might not appear when i come to look nearly into the dim elusive world that race and fluctuate before my eye ! i saw great and splendid architecture rise about me , more massive than any building of our own time , and yet , a it seem , build of glimmer and mist . i saw a richer green flow up the hill side , and remain there , without any wintry intermission . even through the veil of my confusion the earth seem very fair . and so my mind come round to the business of stop . 'the peculiar risk lay in the possibility of my find some substance in the space which i , or the machine , occupy . so long a i travel at a high velocity through time , this scarcely matter ; i be , so to speak , attenuate be slip like a vapour through the interstice of intervene substance ! but to come to a stop involve the jamming of myself , molecule by molecule , into whatever lay in my way ; meant bring my atom into such intimate contact with those of the obstacle that a profound chemical reaction possibly a far reach explosion would result , and blow myself and my apparatus out of all possible dimension into the unknown . this possibility have occur to me again and again while i be make the machine ; but then i have cheerfully accept it a an unavoidable risk one of the risk a man have get to take ! now the risk be inevitable , i no longer saw it in the same cheerful light . the fact be that , insensibly , the absolute strangeness of everything , the sickly jarring and swaying of the machine , above all , the feeling of prolonged fall , have absolutely upset my nerve . i tell myself that i could never stop , and with a gust of petulance i resolve to stop forthwith . like an impatient fool , i lug over the lever , and incontinently the thing go reel over , and i be fling headlong through the air . 'there be the sound of a clap of thunder in my ear . i may have be stun for a moment . a pitiless hail be hiss round me , and i be sit on soft turf in front of the overset machine . everything still seem grey , but presently i remark that the confusion in my ear be go . i look round me . i be on what seem to be a little lawn in a garden , surround by rhododendron bush , and i notice that their mauve and purple blossom be drop in a shower under the beating of the hail stone . the rebounding , dance hail hung in a cloud over the machine , and drive along the ground like smoke . in a moment i be wet to the skin . `` fine hospitality , '' say i , `` to a man who have travel innumerable year to see you . '' 'presently i think what a fool i be to get wet . i stand up and look round me . a colossal figure , carve apparently in some white stone , loom indistinctly beyond the rhododendron through the hazy downpour . but all else of the world be invisible . 'my sensation would be hard to describe . a the column of hail grow thinner , i saw the white figure more distinctly . it be very large , for a silver birch tree touch it shoulder . it be of white marble , in shape something like a winged sphinx , but the wing , instead of be carry vertically at the side , be spread so that it seem to hover . the pedestal , it appear to me , be of bronze , and be thick with verdigris . it chance that the face be towards me ; the sightless eye seem to watch me ; there be the faint shadow of a smile on the lip . it be greatly weather worn , and that impart an unpleasant suggestion of disease . i stand look at it for a little space half a minute , perhaps , or half an hour . it seem to advance and to recede a the hail drove before it denser or thinner . at last i tear my eye from it for a moment and saw that the hail curtain have wear threadbare , and that the sky be lighten with the promise of the sun . ' i look up again at the crouch white shape , and the full temerity of my voyage come suddenly upon me . what might appear when that hazy curtain be altogether withdraw ? what might not have happen to men ? what if cruelty have grow into a common passion ? what if in this interval the race have lose it manliness and have develop into something inhuman , unsympathetic , and overwhelmingly powerful ? i might seem some old world savage animal , only the more dreadful and disgust for our common likeness a foul creature to be incontinently slay . 'already i saw other vast shape huge building with intricate parapet and tall column , with a wooded hill side dimly creep in upon me through the lessening storm . i be seize with a panic fear . i turn frantically to the time machine , and strive hard to readjust it . a i do so the shaft of the sun smote through the thunderstorm . the grey downpour be sweep aside and vanish like the trail garment of a ghost . above me , in the intense blue of the summer sky , some faint brown shred of cloud whirl into nothingness . the great building about me stand out clear and distinct , shin with the wet of the thunderstorm , and pick out in white by the unmelted hailstone pile along their course . i felt naked in a strange world . i felt a perhaps a bird may feel in the clear air , know the hawk wing above and will swoop . my fear grow to frenzy . i take a breathing space , set my teeth , and again grapple fiercely , wrist and knee , with the machine . it give under my desperate onset and turn over . it strike my chin violently . one hand on the saddle , the other on the lever , i stand pant heavily in attitude to mount again . 'but with this recovery of a prompt retreat my courage recover . i look more curiously and less fearfully at this world of the remote future . in a circular opening , high up in the wall of the nearer house , i saw a group of figure clothe in rich soft robe . they have see me , and their face be direct towards me . 'then i heard voice approach me . come through the bush by the white sphinx be the head and shoulder of men run . one of these emerge in a pathway lead straight to the little lawn upon which i stand with my machine . he be a slight creature perhaps four foot high clad in a purple tunic , girdle at the waist with a leather belt . sandal or buskin i could not clearly distinguish which be on his foot ; his leg be bare to the knee , and his head be bare . noticing that , i notice for the first time how warm the air be . 'he strike me a be a very beautiful and graceful creature , but indescribably frail . his flushed face remind me of the more beautiful kind of consumptive that hectic beauty of which we use to hear so much . at the sight of him i suddenly regain confidence . i take my hand from the machine . iv 'in another moment we be stand face to face , i and this fragile thing out of futurity . he come straight up to me and laugh into my eye . the absence from his bearing of any sign of fear strike me at once . then he turn to the two others who be follow him and speak to them in a strange and very sweet and liquid tongue . 'there be others come , and presently a little group of perhaps eight or ten of these exquisite creature be about me . one of them address me . it come into my head , oddly enough , that my voice be too harsh and deep for them . so i shake my head , and , point to my ear , shake it again . he come a step forward , hesitate , and then touch my hand . then i felt other soft little tentacle upon my back and shoulder . they want to make sure i be real . there be nothing in this at all alarm . indeed , there be something in these pretty little people that inspire confidence a graceful gentleness , a certain childlike ease . and besides , they look so frail that i could fancy myself fling the whole dozen of them about like nine pin . but i make a sudden motion to warn them when i saw their little pink hand feel at the time machine . happily then , when it be not too late , i thought of a danger i have hitherto forget , and reach over the bar of the machine i unscrew the little lever that would set it in motion , and put these in my pocket . then i turn again to see what i could do in the way of communication . 'and then , look more nearly into their feature , i saw some further peculiarity in their dresden china type of prettiness . their hair , which be uniformly curly , come to a sharp end at the neck and cheek ; there be not the faint suggestion of it on the face , and their ear be singularly minute . the mouth be small , with bright red , rather thin lip , and the little chin run to a point . the eye be large and mild ; and this may seem egotism on my part i fancy even that there be a certain lack of the interest i might have expect in them . 'as they make no effort to communicate with me , but simply stand round me smile and speak in soft coo note to each other , i begin the conversation . i point to the time machine and to myself . then hesitate for a moment how to express time , i point to the sun . at once a quaintly pretty little figure in chequered purple and white follow my gesture , and then astonish me by imitate the sound of thunder . 'for a moment i be stagger , though the import of his gesture be plain enough . the question have come into my mind abruptly : be these creature fool ? you may hardly understand how it take me . you see i have always anticipate that the people of the year eight hundred and two thousand odd would be incredibly in front of u in knowledge , art , everything . then one of them suddenly ask me a question that show him to be on the intellectual level of one of our five year old child ask me , in fact , if i have come from the sun in a thunderstorm ! it let loose the judgment i have suspend upon their clothes , their frail light limb , and fragile feature . a flow of disappointment rush across my mind . for a moment i felt that i have build the time machine in vain . ' i nod , point to the sun , and give them such a vivid rendering of a thunderclap a startle them . they all withdraw a pace or so and bow . then come one laughing towards me , carry a chain of beautiful flower altogether new to me , and put it about my neck . the idea be receive with melodious applause ; and presently they be all run to and fro for flower , and laughingly fling them upon me until i be almost smother with blossom . you who have never see the like can scarcely imagine what delicate and wonderful flower countless year of culture have create . then someone suggest that their plaything should be exhibit in the near building , and so i be lead past the sphinx of white marble , which have seem to watch me all the while with a smile at my astonishment , towards a vast grey edifice of fretted stone . a i go with them the memory of my confident anticipation of a profoundly grave and intellectual posterity come , with irresistible merriment , to my mind . 'the building have a huge entry , and be altogether of colossal dimension . i be naturally most occupied with the grow crowd of little people , and with the big open portal that yawn before me shadowy and mysterious . my general impression of the world i saw over their head be a tangled waste of beautiful bush and flower , a long neglected and yet weedless garden . i saw a number of tall spike of strange white flower , measure a foot perhaps across the spread of the waxen petal . they grow scatter , a if wild , among the variegated shrub , but , a i say , i do not examine them closely at this time . the time machine be leave desert on the turf among the rhododendron . 'the arch of the doorway be richly carve , but naturally i do not observe the carving very narrowly , though i fancy i saw suggestion of old phoenician decoration a i pass through , and it strike me that they be very badly break and weather worn . several more brightly clad people meet me in the doorway , and so we enter , i , dress in dingy nineteenth century garment , look grotesque enough , garland with flower , and surround by an eddy mass of bright , soft color robe and shin white limb , in a melodious whirl of laughter and laugh speech . 'the big doorway open into a proportionately great hall hung with brown . the roof be in shadow , and the window , partially glaze with coloured glass and partially unglazed , admit a tempered light . the floor be make up of huge block of some very hard white metal , not plate nor slab block , and it be so much worn , a i judge by the go to and fro of past generation , a to be deeply channel along the more frequented way . transverse to the length be innumerable table make of slab of polished stone , raise perhaps a foot from the floor , and upon these be heap of fruit . some i recognize a a kind of hypertrophied raspberry and orange , but for the most part they be strange . 'between the table be scatter a great number of cushion . upon these my conductor seat themselves , sign for me to do likewise . with a pretty absence of ceremony they begin to eat the fruit with their hand , fling peel and stalk , and so forth , into the round open in the side of the table . i be not loath to follow their example , for i felt thirsty and hungry . a i do so i survey the hall at my leisure . 'and perhaps the thing that strike me most be it dilapidated look . the stained glass window , which display only a geometrical pattern , be break in many place , and the curtain that hang across the low end be thick with dust . and it catch my eye that the corner of the marble table near me be fracture . nevertheless , the general effect be extremely rich and picturesque . there be , perhaps , a couple of hundred people din in the hall , and most of them , seat a near to me a they could come , be watch me with interest , their little eye shin over the fruit they be eat . all be clothe in the same soft and yet strong , silky material . 'fruit , by the by , be all their diet . these people of the remote future be strict vegetarian , and while i be with them , in spite of some carnal craving , i have to be frugivorous also . indeed , i find afterwards that horse , cattle , sheep , dog , have follow the ichthyosaurus into extinction . but the fruit be very delightful ; one , in particular , that seem to be in season all the time i be there a floury thing in a three side husk be especially good , and i make it my staple . at first i be puzzle by all these strange fruit , and by the strange flower i saw , but later i begin to perceive their import . 'however , i be tell you of my fruit dinner in the distant future now . so soon a my appetite be a little checked , i determine to make a resolute attempt to learn the speech of these new men of mine . clearly that be the next thing to do . the fruit seem a convenient thing to begin upon , and hold one of these up i begin a series of interrogative sound and gesture . i have some considerable difficulty in convey my meaning . at first my effort meet with a stare of surprise or inextinguishable laughter , but presently a fair haired little creature seem to grasp my intention and repeat a name . they have to chatter and explain the business at great length to each other , and my first attempt to make the exquisite little sound of their language cause an immense amount of amusement . however , i felt like a schoolmaster amidst child , and persist , and presently i have a score of noun substantive at least at my command ; and then i get to demonstrative pronoun , and even the verb `` to eat . '' but it be slow work , and the little people soon tire and want to get away from my interrogation , so i determine , rather of necessity , to let them give their lesson in little dos when they felt incline . and very little dos i find they be before long , for i never meet people more indolent or more easily fatigue . ' a queer thing i soon discover about my little host , and that be their lack of interest . they would come to me with eager cry of astonishment , like child , but like child they would soon stop examine me and wander away after some other toy . the dinner and my conversational beginning end , i note for the first time that almost all those who have surround me at first be go . it be odd , too , how speedily i come to disregard these little people . i go out through the portal into the sunlit world again as soon a my hunger be satisfied . i be continually meet more of these men of the future , who would follow me a little distance , chatter and laugh about me , and , have smile and gesticulate in a friendly way , leave me again to my own device . 'the calm of evening be upon the world a i emerge from the great hall , and the scene be light by the warm glow of the setting sun . at first thing be very confuse . everything be so entirely different from the world i have know even the flower . the big building i have leave be situate on the slope of a broad river valley , but the thames have shift perhaps a mile from it present position . i resolve to mount to the summit of a crest , perhaps a mile and a half away , from which i could get a wide view of this our planet in the year eight hundred and two thousand seven hundred and one a.d. for that , i should explain , be the date the little dial of my machine record . 'as i walk i be watch for every impression that could possibly help to explain the condition of ruinous splendour in which i find the world for ruinous it be . a little way up the hill , for instance , be a great heap of granite , bound together by mass of aluminium , a vast labyrinth of precipitous wall and crumple heap , amidst which be thick heap of very beautiful pagoda like plant nettle possibly but wonderfully tint with brown about the leaf , and incapable of sting . it be evidently the derelict remain of some vast structure , to what end built i could not determine . it be here that i be destine , at a late date , to have a very strange experience the first intimation of a still strange discovery but of that i will speak in it proper place . 'looking round with a sudden thought , from a terrace on which i rest for a while , i realize that there be no small house to be see . apparently the single house , and possibly even the household , have vanish . here and there among the greenery be palace like building , but the house and the cottage , which form such characteristic feature of our own english landscape , have disappear . ' '' communism , '' say i to myself . 'and on the heel of that come another thought . i look at the half dozen little figure that be follow me . then , in a flash , i perceive that all have the same form of costume , the same soft hairless visage , and the same girlish rotundity of limb . it may seem strange , perhaps , that i have not notice this before . but everything be so strange . now , i saw the fact plainly enough . in costume , and in all the difference of texture and bearing that now mark off the sex from each other , these people of the future be alike . and the child seem to my eye to be but the miniature of their parent . i judge , then , that the child of that time be extremely precocious , physically at least , and i find afterwards abundant verification of my opinion . 'seeing the ease and security in which these people be live , i felt that this close resemblance of the sex be after all what one would expect ; for the strength of a man and the softness of a woman , the institution of the family , and the differentiation of occupation be mere militant necessity of an age of physical force ; where population be balance and abundant , much childbearing become an evil rather than a blessing to the state ; where violence come but rarely and off spring be secure , there be less necessity indeed there be no necessity for an efficient family , and the specialization of the sex with reference to their child 's need disappears . we see some beginning of this even in our own time , and in this future age it be complete . this , i must remind you , be my speculation at the time . later , i be to appreciate how far it fell short of the reality . 'while i be muse upon these thing , my attention be attract by a pretty little structure , like a well under a cupola . i think in a transitory way of the oddness of well still exist , and then resume the thread of my speculation . there be no large building towards the top of the hill , and a my walk power be evidently miraculous , i be presently leave alone for the first time . with a strange sense of freedom and adventure i push on up to the crest . 'there i find a seat of some yellow metal that i do not recognize , corrode in place with a kind of pinkish rust and half smother in soft moss , the arm rest cast and file into the resemblance of griffin ' head . i sit down on it , and i survey the broad view of our old world under the sunset of that long day . it be a sweet and fair a view a i have ever see . the sun have already go below the horizon and the west be flame gold , touch with some horizontal bar of purple and crimson . below be the valley of the thames , in which the river lay like a band of burnish steel . i have already speak of the great palace dot about among the variegated greenery , some in ruin and some still occupy . here and there rise a white or silvery figure in the waste garden of the earth , here and there come the sharp vertical line of some cupola or obelisk . there be no hedge , no sign of proprietary right , no evidence of agriculture ; the whole earth have become a garden . 'so watching , i begin to put my interpretation upon the thing i have see , and a it shape itself to me that even , my interpretation be something in this way . ( afterwards i find i have get only a half truth or only a glimpse of one facet of the truth . ) 'it seem to me that i have happen upon humanity upon the wane . the ruddy sunset set me think of the sunset of mankind . for the first time i begin to realize an odd consequence of the social effort in which we be at present engage . and yet , come to think , it be a logical consequence enough . strength be the outcome of need ; security set a premium on feebleness . the work of ameliorate the condition of life the true civilizing process that make life more and more secure have go steadily on to a climax . one triumph of a united humanity over nature have follow another . thing that be now mere dream have become project deliberately put in hand and carry forward . and the harvest be what i saw ! 'after all , the sanitation and the agriculture of to day be still in the rudimentary stage . the science of our time have attack but a little department of the field of human disease , but even so , it spread it operation very steadily and persistently . our agriculture and horticulture destroy a weed just here and there and cultivate perhaps a score or so of wholesome plant , leave the great number to fight out a balance a they can . we improve our favourite plant and animal and how few they be gradually by selective breeding ; now a new and good peach , now a seedless grape , now a sweeter and large flower , now a more convenient breed of cattle . we improve them gradually , because our ideal be vague and tentative , and our knowledge be very limited ; because nature , too , be shy and slow in our clumsy hand . some day all this will be good organize , and still well . that be the drift of the current in spite of the eddy . the whole world will be intelligent , educate , and co operating ; thing will move faster and faster towards the subjugation of nature . in the end , wisely and carefully we shall readjust the balance of animal and vegetable life to suit our human need . 'this adjustment , i say , must have be do , and do well ; do indeed for all time , in the space of time across which my machine have leap . the air be free from gnat , the earth from weed or fungi ; everywhere be fruit and sweet and delightful flower ; brilliant butterfly fly hither and thither . the ideal of preventive medicine be attain . disease have be stamp out . i saw no evidence of any contagious disease during all my stay . and i shall have to tell you later that even the process of putrefaction and decay have be profoundly affect by these change . 'social triumph , too , have be effect . i saw mankind house in splendid shelter , gloriously clothe , and a yet i have find them engage in no toil . there be no sign of struggle , neither social nor economical struggle . the shop , the advertisement , traffic , all that commerce which constitute the body of our world , be go . it be natural on that golden evening that i should jump at the idea of a social paradise . the difficulty of increase population have be meet , i guess , and population have cease to increase . 'but with this change in condition come inevitably adaptation to the change . what , unless biological science be a mass of error , be the cause of human intelligence and vigour ? hardship and freedom : condition under which the active , strong , and subtle survive and the weak go to the wall ; condition that put a premium upon the loyal alliance of capable men , upon self restraint , patience , and decision . and the institution of the family , and the emotion that arise therein , the fierce jealousy , the tenderness for offspring , parental self devotion , all find their justification and support in the imminent danger of the young . now , where be these imminent danger ? there be a sentiment arising , and it will grow , against connubial jealousy , against fierce maternity , against passion of all sort ; unnecessary thing now , and thing that make u uncomfortable , savage survival , discord in a refined and pleasant life . ' i thought of the physical slightness of the people , their lack of intelligence , and those big abundant ruin , and it strengthen my belief in a perfect conquest of nature . for after the battle come quiet . humanity have be strong , energetic , and intelligent , and have use all it abundant vitality to alter the condition under which it live . and now come the reaction of the altered condition . 'under the new condition of perfect comfort and security , that restless energy , that with u be strength , would become weakness . even in our own time certain tendency and desire , once necessary to survival , be a constant source of failure . physical courage and the love of battle , for instance , be no great help may even be hindrance to a civilized man . and in a state of physical balance and security , power , intellectual as well a physical , would be out of place . for countless year i judge there have be no danger of war or solitary violence , no danger from wild beast , no waste disease to require strength of constitution , no need of toil . for such a life , what we should call the weak be as well equip a the strong , be indeed no long weak . well equip indeed they be , for the strong would be fret by an energy for which there be no outlet . no doubt the exquisite beauty of the building i saw be the outcome of the last surgings of the now purposeless energy of mankind before it settle down into perfect harmony with the condition under which it live the flourish of that triumph which begin the last great peace . this have ever be the fate of energy in security ; it take to art and to eroticism , and then come languor and decay . 'even this artistic impetus would at last die away have almost die in the time i saw . to adorn themselves with flower , to dance , to sing in the sunlight : so much be leave of the artistic spirit , and no more . even that would fade in the end into a contented inactivity . we be kept keen on the grindstone of pain and necessity , and , it seem to me , that here be that hateful grindstone break at last ! 'as i stood there in the gathering dark i think that in this simple explanation i have master the problem of the world master the whole secret of these delicious people . possibly the check they have devise for the increase of population have succeed too well , and their number have rather diminish than kept stationary . that would account for the abandoned ruin . very simple be my explanation , and plausible enough a most wrong theory be ! v 'as i stand there muse over this too perfect triumph of man , the full moon , yellow and gibbous , come up out of an overflow of silver light in the north east . the bright little figure cease to move about below , a noiseless owl flit by , and i shiver with the chill of the night . i determine to descend and find where i could sleep . ' i look for the building i know . then my eye travel along to the figure of the white sphinx upon the pedestal of bronze , grow distinct a the light of the rise moon grow brighter . i could see the silver birch against it . there be the tangle of rhododendron bush , black in the pale light , and there be the little lawn . i look at the lawn again . a queer doubt chill my complacency . `` no , '' say i stoutly to myself , `` that be not the lawn . '' 'but it be the lawn . for the white leprous face of the sphinx be towards it . can you imagine what i felt a this conviction come home to me ? but you can not . the time machine be go ! 'at once , like a lash across the face , come the possibility of lose my own age , of be leave helpless in this strange new world . the bare thought of it be an actual physical sensation . i could feel it grip me at the throat and stop my breathing . in another moment i be in a passion of fear and run with great leap stride down the slope . once i fell headlong and cut my face ; i lose no time in stanch the blood , but jump up and run on , with a warm trickle down my cheek and chin . all the time i run i be say to myself : `` they have move it a little , push it under the bush out of the way . '' nevertheless , i run with all my might . all the time , with the certainty that sometimes come with excessive dread , i know that such assurance be folly , know instinctively that the machine be remove out of my reach . my breath come with pain . i suppose i cover the whole distance from the hill crest to the little lawn , two mile perhaps , in ten minute . and i be not a young man . i curse aloud , a i run , at my confident folly in leave the machine , waste good breath thereby . i cry aloud , and none answer . not a creature seem to be stir in that moonlit world . 'when i reach the lawn my bad fear be realize . not a trace of the thing be to be see . i felt faint and cold when i face the empty space among the black tangle of bush . i run round it furiously , a if the thing might be hide in a corner , and then stop abruptly , with my hand clutch my hair . above me tower the sphinx , upon the bronze pedestal , white , shin , leprous , in the light of the rise moon . it seem to smile in mockery of my dismay . ' i might have console myself by imagine the little people have put the mechanism in some shelter for me , have i not felt assure of their physical and intellectual inadequacy . that be what dismay me : the sense of some hitherto unsuspected power , through whose intervention my invention have vanish . yet , for one thing i felt assure : unless some other age have produce it exact duplicate , the machine could not have move in time . the attachment of the lever i will show you the method later prevent any one from tamper with it in that way when they be remove . it have move , and be hid , only in space . but then , where could it be ? ' i think i must have have a kind of frenzy . i remember run violently in and out among the moonlit bush all round the sphinx , and startle some white animal that , in the dim light , i take for a small deer . i remember , too , late that night , beat the bush with my clenched fist until my knuckle be gash and bleed from the broken twig . then , sob and rave in my anguish of mind , i go down to the great building of stone . the big hall be dark , silent , and desert . i slip on the uneven floor , and fell over one of the malachite table , almost break my shin . i light a match and go on past the dusty curtain , of which i have tell you . 'there i find a second great hall cover with cushion , upon which , perhaps , a score or so of the little people be sleep . i have no doubt they find my second appearance strange enough , come suddenly out of the quiet darkness with inarticulate noise and the splutter and flare of a match . for they have forget about match . `` where be my time machine ? '' i begin , bawl like an angry child , lay hand upon them and shake them up together . it must have be very queer to them . some laugh , most of them look sorely frighten . when i saw them stand round me , it come into my head that i be do a foolish a thing a it be possible for me to do under the circumstance , in try to revive the sensation of fear . for , reason from their daylight behaviour , i think that fear must be forget . 'abruptly , i dash down the match , and , knock one of the people over in my course , go blunder across the big dining hall again , out under the moonlight . i heard cry of terror and their little foot run and stumble this way and that . i do not remember all i do a the moon creep up the sky . i suppose it be the unexpected nature of my loss that madden me . i felt hopelessly cut off from my own kind a strange animal in an unknown world . i must have rave to and fro , scream and cry upon god and fate . i have a memory of horrible fatigue , a the long night of despair wore away ; of look in this impossible place and that ; of grope among moon lit ruin and touch strange creature in the black shadow ; at last , of lie on the ground near the sphinx and weep with absolute wretchedness . i have nothing leave but misery . then i slept , and when i wake again it be full day , and a couple of sparrow be hop round me on the turf within reach of my arm . ' i sit up in the freshness of the morning , try to remember how i have get there , and why i have such a profound sense of desertion and despair . then thing come clear in my mind . with the plain , reasonable daylight , i could look my circumstance fairly in the face . i saw the wild folly of my frenzy overnight , and i could reason with myself . `` suppose the bad ? '' i say . `` suppose the machine altogether lose perhaps destroy ? it behove me to be calm and patient , to learn the way of the people , to get a clear idea of the method of my loss , and the mean of get material and tool ; so that in the end , perhaps , i may make another . '' that would be my only hope , perhaps , but good than despair . and , after all , it be a beautiful and curious world . 'but probably , the machine have only be take away . still , i must be calm and patient , find it hide place , and recover it by force or cunning . and with that i scramble to my foot and look about me , wonder where i could bathe . i felt weary , stiff , and travel soil . the freshness of the morning make me desire an equal freshness . i have exhaust my emotion . indeed , a i go about my business , i find myself wonder at my intense excitement overnight . i make a careful examination of the ground about the little lawn . i waste some time in futile questioning , convey , as well a i be able , to such of the little people a come by . they all fail to understand my gesture ; some be simply stolid , some think it be a jest and laugh at me . i have the hard task in the world to keep my hand off their pretty laughing face . it be a foolish impulse , but the devil begotten of fear and blind anger be ill curbed and still eager to take advantage of my perplexity . the turf give good counsel . i find a groove ripped in it , about midway between the pedestal of the sphinx and the mark of my foot where , on arrival , i have struggle with the overturned machine . there be other sign of removal about , with queer narrow footprint like those i could imagine make by a sloth . this direct my closer attention to the pedestal . it be , a i think i have say , of bronze . it be not a mere block , but highly decorate with deep frame panel on either side . i go and rap at these . the pedestal be hollow . examine the panel with care i find them discontinuous with the frame . there be no handle or keyhole , but possibly the panel , if they be door , a i suppose , open from within . one thing be clear enough to my mind . it take no very great mental effort to infer that my time machine be inside that pedestal . but how it get there be a different problem . ' i saw the head of two orange clad people come through the bush and under some blossom cover apple tree towards me . i turn smile to them and beckon them to me . they come , and then , point to the bronze pedestal , i try to intimate my wish to open it . but at my first gesture towards this they behave very oddly . i do n't know how to convey their expression to you . suppose you be to use a grossly improper gesture to a delicate mind woman it be how she would look . they go off a if they have receive the last possible insult . i try a sweet look little chap in white next , with exactly the same result . somehow , his manner make me feel ashamed of myself . but , a you know , i want the time machine , and i try him once more . a he turn off , like the others , my temper get the good of me . in three stride i be after him , have him by the loose part of his robe round the neck , and begin drag him towards the sphinx . then i saw the horror and repugnance of his face , and all of a sudden i let him go . 'but i be not beat yet . i bang with my fist at the bronze panel . i think i hear something stir inside to be explicit , i think i hear a sound like a chuckle but i must have be mistake . then i get a big pebble from the river , and come and hammer till i have flatten a coil in the decoration , and the verdigris come off in powdery flake . the delicate little people must have hear me hammer in gusty outbreak a mile away on either hand , but nothing come of it . i saw a crowd of them upon the slope , look furtively at me . at last , hot and tired , i sit down to watch the place . but i be too restless to watch long ; i be too occidental for a long vigil . i could work at a problem for year , but to wait inactive for twenty four hour that be another matter . ' i get up after a time , and begin walk aimlessly through the bush towards the hill again . `` patience , '' say i to myself . `` if you want your machine again you must leave that sphinx alone . if they mean to take your machine away , it 's little good your wreck their bronze panel , and if they do n't , you will get it back as soon a you can ask for it . to sit among all those unknown thing before a puzzle like that be hopeless . that way lie monomania . face this world . learn it way , watch it , be careful of too hasty guess at it meaning . in the end you will find clue to it all . '' then suddenly the humour of the situation come into my mind : the thought of the year i have spend in study and toil to get into the future age , and now my passion of anxiety to get out of it . i have make myself the most complicated and the most hopeless trap that ever a man devise . although it be at my own expense , i could not help myself . i laugh aloud . 'going through the big palace , it seem to me that the little people avoid me . it may have be my fancy , or it may have have something to do with my hammering at the gate of bronze . yet i felt tolerably sure of the avoidance . i be careful , however , to show no concern and to abstain from any pursuit of them , and in the course of a day or two thing get back to the old footing . i make what progress i could in the language , and in addition i push my exploration here and there . either i miss some subtle point or their language be excessively simple almost exclusively compose of concrete substantive and verb . there seem to be few , if any , abstract term , or little use of figurative language . their sentence be usually simple and of two word , and i fail to convey or understand any but the simple proposition . i determine to put the thought of my time machine and the mystery of the bronze door under the sphinx as much a possible in a corner of memory , until my grow knowledge would lead me back to them in a natural way . yet a certain feeling , you may understand , tether me in a circle of a few mile round the point of my arrival . 'so far a i could see , all the world display the same exuberant richness a the thames valley . from every hill i climb i saw the same abundance of splendid building , endlessly vary in material and style , the same cluster thicket of evergreen , the same blossom laden tree and tree fern . here and there water shone like silver , and beyond , the land rise into blue undulating hill , and so fade into the serenity of the sky . a peculiar feature , which presently attract my attention , be the presence of certain circular well , several , a it seem to me , of a very great depth . one lay by the path up the hill , which i have follow during my first walk . like the others , it be rim with bronze , curiously wrought , and protect by a little cupola from the rain . sit by the side of these well , and peer down into the shafted darkness , i could see no gleam of water , nor could i start any reflection with a lighted match . but in all of them i heard a certain sound : a thud thud thud , like the beating of some big engine ; and i discover , from the flaring of my match , that a steady current of air set down the shaft . further , i throw a scrap of paper into the throat of one , and , instead of flutter slowly down , it be at once suck swiftly out of sight . 'after a time , too , i come to connect these well with tall tower stand here and there upon the slope ; for above them there be often just such a flicker in the air a one see on a hot day above a sun scorch beach . put thing together , i reach a strong suggestion of an extensive system of subterranean ventilation , whose true import it be difficult to imagine . i be at first incline to associate it with the sanitary apparatus of these people . it be an obvious conclusion , but it be absolutely wrong . 'and here i must admit that i learn very little of drain and bell and mode of conveyance , and the like convenience , during my time in this real future . in some of these vision of utopias and come time which i have read , there be a vast amount of detail about building , and social arrangement , and so forth . but while such detail be easy enough to obtain when the whole world be contain in one 's imagination , they be altogether inaccessible to a real traveller amid such reality a i find here . conceive the tale of london which a negro , fresh from central africa , would take back to his tribe ! what would he know of railway company , of social movement , of telephone and telegraph wire , of the parcel delivery company , and postal order and the like ? yet we , at least , should be willing enough to explain these thing to him ! and even of what he know , how much could he make his untravelled friend either apprehend or believe ? then , think how narrow the gap between a negro and a white man of our own time , and how wide the interval between myself and these of the golden age ! i be sensible of much which be unseen , and which contribute to my comfort ; but save for a general impression of automatic organization , i fear i can convey very little of the difference to your mind . 'in the matter of sepulture , for instance , i could see no sign of crematorium nor anything suggestive of tomb . but it occur to me that , possibly , there might be cemetery ( or crematorium ) somewhere beyond the range of my explorings . this , again , be a question i deliberately put to myself , and my curiosity be at first entirely defeat upon the point . the thing puzzle me , and i be lead to make a further remark , which puzzle me still more : that age and infirm among this people there be none . ' i must confess that my satisfaction with my first theory of an automatic civilization and a decadent humanity do not long endure . yet i could think of no other . let me put my difficulty . the several big palace i have explore be mere living place , great din hall and sleep apartment . i could find no machinery , no appliance of any kind . yet these people be clothe in pleasant fabric that must at time need renewal , and their sandal , though undecorated , be fairly complex specimen of metalwork . somehow such thing must be make . and the little people display no vestige of a creative tendency . there be no shop , no workshop , no sign of importation among them . they spend all their time in play gently , in bath in the river , in make love in a half playful fashion , in eat fruit and sleeping . i could not see how thing be keep go . 'then , again , about the time machine : something , i know not what , have take it into the hollow pedestal of the white sphinx . why ? for the life of me i could not imagine . those waterless well , too , those flicker pillar . i felt i lack a clue . i felt how shall i put it ? suppose you find an inscription , with sentence here and there in excellent plain english , and interpolate therewith , others make up of word , of letter even , absolutely unknown to you ? well , on the third day of my visit , that be how the world of eight hundred and two thousand seven hundred and one present itself to me ! 'that day , too , i make a friend of a sort . it happen that , a i be watch some of the little people bath in a shallow , one of them be seize with cramp and begin drift downstream . the main current ran rather swiftly , but not too strongly for even a moderate swimmer . it will give you an idea , therefore , of the strange deficiency in these creature , when i tell you that none make the slight attempt to rescue the weakly cry little thing which be drown before their eye . when i realize this , i hurriedly slip off my clothes , and , wad in at a point lower down , i catch the poor mite and draw her safe to land . a little rubbing of the limb soon bring her round , and i have the satisfaction of see she be all right before i leave her . i have get to such a low estimate of her kind that i do not expect any gratitude from her . in that , however , i be wrong . 'this happen in the morning . in the afternoon i meet my little woman , a i believe it be , a i be return towards my centre from an exploration , and she receive me with cry of delight and present me with a big garland of flower evidently make for me and me alone . the thing take my imagination . very possibly i have be feel desolate . at any rate i do my best to display my appreciation of the gift . we be soon seat together in a little stone arbour , engage in conversation , chiefly of smile . the creature 's friendliness affect me exactly a a child 's might have do . we pass each other flower , and she kiss my hand . i do the same to hers . then i try talk , and find that her name be weena , which , though i do n't know what it mean , somehow seem appropriate enough . that be the beginning of a queer friendship which last a week , and end a i will tell you ! 'she be exactly like a child . she want to be with me always . she try to follow me everywhere , and on my next journey out and about it go to my heart to tire her down , and leave her at last , exhaust and call after me rather plaintively . but the problem of the world have to be master . i have not , i say to myself , come into the future to carry on a miniature flirtation . yet her distress when i leave her be very great , her expostulation at the parting be sometimes frantic , and i think , altogether , i have a much trouble a comfort from her devotion . nevertheless she be , somehow , a very great comfort . i think it be mere childish affection that make her cling to me . until it be too late , i do not clearly know what i have inflict upon her when i leave her . nor until it be too late do i clearly understand what she be to me . for , by merely seem fond of me , and show in her weak , futile way that she care for me , the little doll of a creature presently give my return to the neighbourhood of the white sphinx almost the feeling of coming home ; and i would watch for her tiny figure of white and gold so soon a i come over the hill . 'it be from her , too , that i learn that fear have not yet leave the world . she be fearless enough in the daylight , and she have the odd confidence in me ; for once , in a foolish moment , i make threaten grimace at her , and she simply laugh at them . but she dread the dark , dread shadow , dread black thing . darkness to her be the one thing dreadful . it be a singularly passionate emotion , and it set me think and observe . i discover then , among other thing , that these little people gather into the great house after dark , and slept in drove . to enter upon them without a light be to put them into a tumult of apprehension . i never find one out of door , or one sleep alone within door , after dark . yet i be still such a blockhead that i miss the lesson of that fear , and in spite of weena 's distress i insist upon sleep away from these slumber multitude . 'it trouble her greatly , but in the end her odd affection for me triumph , and for five of the night of our acquaintance , include the last night of all , she sleep with her head pillow on my arm . but my story slip away from me a i speak of her . it must have be the night before her rescue that i be awaken about dawn . i have be restless , dream most disagreeably that i be drown , and that sea anemone be feel over my face with their soft palps . i wake with a start , and with an odd fancy that some greyish animal have just rush out of the chamber . i try to get to sleep again , but i felt restless and uncomfortable . it be that dim grey hour when thing be just creep out of darkness , when everything be colourless and clear cut , and yet unreal . i get up , and go down into the great hall , and so out upon the flagstone in front of the palace . i think i would make a virtue of necessity , and see the sunrise . 'the moon be set , and the die moonlight and the first pallor of dawn be mingle in a ghastly half light . the bush be inky black , the ground a sombre grey , the sky colourless and cheerless . and up the hill i think i could see ghost . there several time , a i scan the slope , i saw white figure . twice i fancy i saw a solitary white , ape like creature run rather quickly up the hill , and once near the ruin i saw a leash of them carry some dark body . they move hastily . i do not see what become of them . it seem that they vanish among the bush . the dawn be still indistinct , you must understand . i be feel that chill , uncertain , early morning feeling you may have know . i doubt my eye . 'as the eastern sky grow brighter , and the light of the day come on and it vivid colouring return upon the world once more , i scan the view keenly . but i saw no vestige of my white figure . they be mere creature of the half light . `` they must have be ghost , '' i say ; `` i wonder whence they date . '' for a queer notion of grant allen 's come into my head , and amuse me . if each generation die and leave ghost , he argue , the world at last will get overcrowd with them . on that theory they would have grow innumerable some eight hundred thousand year hence , and it be no great wonder to see four at once . but the jest be unsatisfying , and i be think of these figure all the morning , until weena 's rescue drive them out of my head . i associate them in some indefinite way with the white animal i have startle in my first passionate search for the time machine . but weena be a pleasant substitute . yet all the same , they be soon destine to take far deadly possession of my mind . ' i think i have say how much hot than our own be the weather of this golden age . i can not account for it . it may be that the sun be hotter , or the earth nearer the sun . it be usual to assume that the sun will go on cool steadily in the future . but people , unfamiliar with such speculation a those of the young darwin , forget that the planet must ultimately fall back one by one into the parent body . a these catastrophe occur , the sun will blaze with renewed energy ; and it may be that some inner planet have suffer this fate . whatever the reason , the fact remain that the sun be very much hot than we know it . 'well , one very hot morning my fourth , i think a i be seek shelter from the heat and glare in a colossal ruin near the great house where i sleep and fed , there happen this strange thing : clambering among these heap of masonry , i find a narrow gallery , whose end and side window be block by fall mass of stone . by contrast with the brilliancy outside , it seem at first impenetrably dark to me . i enter it groping , for the change from light to blackness make spot of colour swim before me . suddenly i halt spellbound . a pair of eye , luminous by reflection against the daylight without , be watch me out of the darkness . 'the old instinctive dread of wild beast come upon me . i clench my hand and steadfastly look into the glaring eyeball . i be afraid to turn . then the thought of the absolute security in which humanity appear to be live come to my mind . and then i remember that strange terror of the dark . overcome my fear to some extent , i advance a step and spoke . i will admit that my voice be harsh and ill control . i put out my hand and touch something soft . at once the eye dart sideways , and something white run past me . i turn with my heart in my mouth , and saw a queer little ape like figure , it head hold down in a peculiar manner , run across the sunlit space behind me . it blunder against a block of granite , stagger aside , and in a moment be hide in a black shadow beneath another pile of ruined masonry . 'my impression of it be , of course , imperfect ; but i know it be a dull white , and have strange large greyish red eye ; also that there be flaxen hair on it head and down it back . but , a i say , it go too fast for me to see distinctly . i can not even say whether it run on all four , or only with it forearm hold very low . after an instant 's pause i follow it into the second heap of ruin . i could not find it at first ; but , after a time in the profound obscurity , i come upon one of those round well like opening of which i have tell you , half close by a fall pillar . a sudden thought come to me . could this thing have vanish down the shaft ? i light a match , and , look down , i saw a small , white , moving creature , with large bright eye which regard me steadfastly a it retreat . it make me shudder . it be so like a human spider ! it be clamber down the wall , and now i saw for the first time a number of metal foot and hand rest form a kind of ladder down the shaft . then the light burn my finger and fell out of my hand , go out a it drop , and when i have light another the little monster have disappear . ' i do not know how long i sit peer down that well . it be not for some time that i could succeed in persuade myself that the thing i have see be human . but , gradually , the truth dawn on me : that man have not remain one specie , but have differentiate into two distinct animal : that my graceful child of the upper world be not the sole descendant of our generation , but that this bleach , obscene , nocturnal thing , which have flash before me , be also heir to all the age . ' i thought of the flickering pillar and of my theory of an underground ventilation . i begin to suspect their true import . and what , i wonder , be this lemur do in my scheme of a perfectly balance organization ? how be it relate to the indolent serenity of the beautiful upper worlders ? and what be hide down there , at the foot of that shaft ? i sit upon the edge of the well tell myself that , at any rate , there be nothing to fear , and that there i must descend for the solution of my difficulty . and withal i be absolutely afraid to go ! a i hesitate , two of the beautiful upper world people come run in their amorous sport across the daylight in the shadow . the male pursue the female , fling flower at her a he run . 'they seem distressed to find me , my arm against the overturned pillar , peer down the well . apparently it be consider bad form to remark these aperture ; for when i point to this one , and try to frame a question about it in their tongue , they be still more visibly distressed and turn away . but they be interested by my match , and i strike some to amuse them . i try them again about the well , and again i fail . so presently i leave them , mean to go back to weena , and see what i could get from her . but my mind be already in revolution ; my guess and impression be slip and slide to a new adjustment . i have now a clue to the import of these well , to the ventilate tower , to the mystery of the ghost ; to say nothing of a hint at the meaning of the bronze gate and the fate of the time machine ! and very vaguely there come a suggestion towards the solution of the economic problem that have puzzle me . 'here be the new view . plainly , this second specie of man be subterranean . there be three circumstance in particular which make me think that it rare emergence above ground be the outcome of a long continued underground habit . in the first place , there be the bleached look common in most animal that live largely in the dark the white fish of the kentucky cave , for instance . then , those large eye , with that capacity for reflect light , be common feature of nocturnal thing witness the owl and the cat . and last of all , that evident confusion in the sunshine , that hasty yet fumble awkward flight towards dark shadow , and that peculiar carriage of the head while in the light all reinforce the theory of an extreme sensitiveness of the retina . 'beneath my foot , then , the earth must be tunnel enormously , and these tunnellings be the habitat of the new race . the presence of ventilate shaft and well along the hill slop everywhere , in fact , except along the river valley show how universal be it ramification . what so natural , then , a to assume that it be in this artificial underworld that such work a be necessary to the comfort of the daylight race be do ? the notion be so plausible that i at once accept it , and go on to assume the how of this splitting of the human specie . i dare say you will anticipate the shape of my theory ; though , for myself , i very soon felt that it fell far short of the truth . 'at first , proceed from the problem of our own age , it seem clear a daylight to me that the gradual widening of the present merely temporary and social difference between the capitalist and the labourer , be the key to the whole position . no doubt it will seem grotesque enough to you and wildly incredible ! and yet even now there be exist circumstance to point that way . there be a tendency to utilize underground space for the less ornamental purpose of civilization ; there be the metropolitan railway in london , for instance , there be new electric railway , there be subway , there be underground workroom and restaurant , and they increase and multiply . evidently , i think , this tendency have increase till industry have gradually lose it birthright in the sky . i mean that it have go deeper and deeper into large and ever large underground factory , spend a still increase amount of it time therein , till , in the end ! even now , do not an east end worker live in such artificial condition a practically to be cut off from the natural surface of the earth ? 'again , the exclusive tendency of rich people due , no doubt , to the increase refinement of their education , and the widen gulf between them and the rude violence of the poor be already lead to the closing , in their interest , of considerable portion of the surface of the land . about london , for instance , perhaps half the pretty country be shut in against intrusion . and this same widening gulf which be due to the length and expense of the high educational process and the increase facility for and temptation towards refine habit on the part of the rich will make that exchange between class and class , that promotion by intermarriage which at present retard the splitting of our specie along line of social stratification , less and less frequent . so , in the end , above ground you must have the have , pursue pleasure and comfort and beauty , and below ground the have nots , the worker get continually adapt to the condition of their labour . once they be there , they would no doubt have to pay rent , and not a little of it , for the ventilation of their cavern ; and if they refuse , they would starve or be suffocate for arrears . such of them a be so constitute a to be miserable and rebellious would die ; and , in the end , the balance be permanent , the survivor would become as well adapt to the condition of underground life , and a happy in their way , a the upper world people be to theirs . a it seem to me , the refine beauty and the etiolated pallor follow naturally enough . 'the great triumph of humanity i have dream of take a different shape in my mind . it have be no such triumph of moral education and general co operation a i have imagine . instead , i saw a real aristocracy , arm with a perfected science and work to a logical conclusion the industrial system of to day . it triumph have not be simply a triumph over nature , but a triumph over nature and the fellow man . this , i must warn you , be my theory at the time . i have no convenient cicerone in the pattern of the utopian book . my explanation may be absolutely wrong . i still think it be the most plausible one . but even on this supposition the balanced civilization that be at last attained must have long since pass it zenith , and be now far fall into decay . the too perfect security of the upper worlders have lead them to a slow movement of degeneration , to a general dwindling in size , strength , and intelligence . that i could see clearly enough already . what have happen to the under grounder i do not yet suspect ; but from what i have see of the morlocks that , by the by , be the name by which these creature be call i could imagine that the modification of the human type be even far more profound than among the `` eloi , '' the beautiful race that i already know . 'then come troublesome doubt . why have the morlocks take my time machine ? for i felt sure it be they who have take it . why , too , if the eloi be master , could they not restore the machine to me ? and why be they so terribly afraid of the dark ? i proceed , a i have say , to question weena about this under world , but here again i be disappoint . at first she would not understand my question , and presently she refuse to answer them . she shiver a though the topic be unendurable . and when i press her , perhaps a little harshly , she burst into tear . they be the only tear , except my own , i ever saw in that golden age . when i saw them i cease abruptly to trouble about the morlocks , and be only concern in banish these sign of the human inheritance from weena 's eye . and very soon she be smile and clap her hand , while i solemnly burn a match . vi 'it may seem odd to you , but it be two day before i could follow up the new find clue in what be manifestly the proper way . i felt a peculiar shrinking from those pallid body . they be just the half bleach colour of the worm and thing one see preserve in spirit in a zoological museum . and they be filthily cold to the touch . probably my shrinking be largely due to the sympathetic influence of the eloi , whose disgust of the morlocks i now begin to appreciate . 'the next night i do not sleep well . probably my health be a little disordered . i be oppress with perplexity and doubt . once or twice i have a feeling of intense fear for which i could perceive no definite reason . i remember creep noiselessly into the great hall where the little people be sleep in the moonlight that night weena be among them and feel reassure by their presence . it occur to me even then , that in the course of a few day the moon must pass through it last quarter , and the night grow dark , when the appearance of these unpleasant creature from below , these whiten lemur , this new vermin that have replace the old , might be more abundant . and on both these day i have the restless feeling of one who shirk an inevitable duty . i felt assure that the time machine be only to be recover by boldly penetrate these underground mystery . yet i could not face the mystery . if only i have have a companion it would have be different . but i be so horribly alone , and even to clamber down into the darkness of the well appalled me . i do n't know if you will understand my feeling , but i never felt quite safe at my back . 'it be this restlessness , this insecurity , perhaps , that drive me further and further afield in my exploring expedition . go to the south westward towards the rise country that be now call combe wood , i observe far off , in the direction of nineteenth century banstead , a vast green structure , different in character from any i have hitherto see . it be large than the large of the palace or ruin i know , and the facade have an oriental look : the face of it have the lustre , as well a the pale green tint , a kind of bluish green , of a certain type of chinese porcelain . this difference in aspect suggest a difference in use , and i be mind to push on and explore . but the day be grow late , and i have come upon the sight of the place after a long and tire circuit ; so i resolve to hold over the adventure for the following day , and i return to the welcome and the caress of little weena . but next morning i perceive clearly enough that my curiosity regard the palace of green porcelain be a piece of self deception , to enable me to shirk , by another day , an experience i dread . i resolve i would make the descent without further waste of time , and start out in the early morning towards a well near the ruin of granite and aluminium . 'little weena ran with me . she dance beside me to the well , but when she saw me lean over the mouth and look downward , she seem strangely disconcert . `` good bye , little weena , '' i say , kiss her ; and then put her down , i begin to feel over the parapet for the climbing hook . rather hastily , i may as well confess , for i fear my courage might leak away ! at first she watch me in amazement . then she give a most piteous cry , and run to me , she begin to pull at me with her little hand . i think her opposition nerve me rather to proceed . i shake her off , perhaps a little roughly , and in another moment i be in the throat of the well . i saw her agonized face over the parapet , and smile to reassure her . then i have to look down at the unstable hook to which i clung . ' i have to clamber down a shaft of perhaps two hundred yard . the descent be effect by mean of metallic bar project from the side of the well , and these be adapt to the need of a creature much small and light than myself , i be speedily cramp and fatigue by the descent . and not simply fatigue ! one of the bar bend suddenly under my weight , and almost swing me off into the blackness beneath . for a moment i hung by one hand , and after that experience i do not dare to rest again . though my arm and back be presently acutely painful , i go on clamber down the sheer descent with a quick a motion a possible . glance upward , i saw the aperture , a small blue disk , in which a star be visible , while little weena 's head show a a round black projection . the thud sound of a machine below grow loud and more oppressive . everything save that little disk above be profoundly dark , and when i look up again weena have disappear . ' i be in an agony of discomfort . i have some thought of try to go up the shaft again , and leave the under world alone . but even while i turn this over in my mind i continue to descend . at last , with intense relief , i saw dimly come up , a foot to the right of me , a slender loophole in the wall . swing myself in , i find it be the aperture of a narrow horizontal tunnel in which i could lie down and rest . it be not too soon . my arm ache , my back be cramp , and i be tremble with the prolonged terror of a fall . besides this , the unbroken darkness have have a distress effect upon my eye . the air be full of the throb and hum of machinery pump air down the shaft . ' i do not know how long i lay . i be rouse by a soft hand touch my face . start up in the darkness i snatch at my match and , hastily strike one , i saw three stoop white creature similar to the one i have see above ground in the ruin , hastily retreat before the light . living , a they do , in what appear to me impenetrable darkness , their eye be abnormally large and sensitive , just a be the pupil of the abysmal fish , and they reflect the light in the same way . i have no doubt they could see me in that rayless obscurity , and they do not seem to have any fear of me apart from the light . but , so soon a i strike a match in order to see them , they flee incontinently , vanish into dark gutter and tunnel , from which their eye glare at me in the strange fashion . ' i try to call to them , but the language they have be apparently different from that of the over world people ; so that i be needs left to my own unaided effort , and the thought of flight before exploration be even then in my mind . but i say to myself , `` you be in for it now , '' and , feel my way along the tunnel , i find the noise of machinery grow louder . presently the wall fell away from me , and i come to a large open space , and strike another match , saw that i have enter a vast arched cavern , which stretch into utter darkness beyond the range of my light . the view i have of it be as much a one could see in the burning of a match . 'necessarily my memory be vague . great shape like big machine rise out of the dimness , and cast grotesque black shadow , in which dim spectral morlocks shelter from the glare . the place , by the by , be very stuffy and oppressive , and the faint halitus of freshly shed blood be in the air . some way down the central vista be a little table of white metal , laid with what seem a meal . the morlocks at any rate be carnivorous ! even at the time , i remember wonder what large animal could have survive to furnish the red joint i saw . it be all very indistinct : the heavy smell , the big unmeaning shape , the obscene figure lurk in the shadow , and only wait for the darkness to come at me again ! then the match burn down , and sting my finger , and fell , a wriggling red spot in the blackness . ' i have think since how particularly ill equip i be for such an experience . when i have start with the time machine , i have start with the absurd assumption that the men of the future would certainly be infinitely ahead of ourselves in all their appliance . i have come without arm , without medicine , without anything to smoke at time i miss tobacco frightfully even without enough match . if only i have think of a kodak ! i could have flash that glimpse of the underworld in a second , and examine it at leisure . but , a it be , i stand there with only the weapon and the power that nature have endow me with hand , foot , and teeth ; these , and four safety match that still remain to me . ' i be afraid to push my way in among all this machinery in the dark , and it be only with my last glimpse of light i discover that my store of match have run low . it have never occur to me until that moment that there be any need to economize them , and i have waste almost half the box in astonish the upper worlders , to whom fire be a novelty . now , a i say , i have four left , and while i stand in the dark , a hand touch mine , lank finger come feel over my face , and i be sensible of a peculiar unpleasant odour . i fancy i hear the breathing of a crowd of those dreadful little being about me . i felt the box of match in my hand be gently disengage , and other hand behind me pluck at my clothing . the sense of these unseen creature examine me be indescribably unpleasant . the sudden realization of my ignorance of their way of thinking and do come home to me very vividly in the darkness . i shout at them as loudly a i could . they start away , and then i could feel them approach me again . they clutch at me more boldly , whisper odd sound to each other . i shiver violently , and shout again rather discordantly . this time they be not so seriously alarmed , and they make a queer laugh noise a they come back at me . i will confess i be horribly frighten . i determine to strike another match and escape under the protection of it glare . i do so , and eking out the flicker with a scrap of paper from my pocket , i make good my retreat to the narrow tunnel . but i have scarce enter this when my light be blow out and in the blackness i could hear the morlocks rustle like wind among leaf , and patter like the rain , a they hurry after me . 'in a moment i be clutch by several hand , and there be no mistake that they be try to haul me back . i strike another light , and wave it in their dazzled face . you can scarce imagine how nauseatingly inhuman they look those pale , chinless face and great , lidless , pinkish grey eyes ! a they star in their blindness and bewilderment . but i do not stay to look , i promise you : i retreat again , and when my second match have end , i strike my third . it have almost burn through when i reach the opening into the shaft . i lay down on the edge , for the throb of the great pump below make me giddy . then i felt sideways for the projecting hook , and , a i do so , my foot be grasp from behind , and i be violently tug backward . i light my last match ... and it incontinently go out . but i have my hand on the climb bar now , and , kick violently , i disengage myself from the clutch of the morlocks and be speedily clamber up the shaft , while they stay peer and blink up at me : all but one little wretch who follow me for some way , and well nigh secure my boot a a trophy . 'that climb seem interminable to me . with the last twenty or thirty foot of it a deadly nausea come upon me . i have the great difficulty in keep my hold . the last few yard be a frightful struggle against this faintness . several time my head swam , and i felt all the sensation of fall . at last , however , i get over the well mouth somehow , and stagger out of the ruin into the blinding sunlight . i fell upon my face . even the soil smelt sweet and clean . then i remember weena kiss my hand and ear , and the voice of others among the eloi . then , for a time , i be insensible . vii 'now , indeed , i seem in a bad case than before . hitherto , except during my night 's anguish at the loss of the time machine , i have felt a sustain hope of ultimate escape , but that hope be stagger by these new discovery . hitherto i have merely think myself impede by the childish simplicity of the little people , and by some unknown force which i have only to understand to overcome ; but there be an altogether new element in the sickening quality of the morlocks a something inhuman and malign . instinctively i loathe them . before , i have felt a a man might feel who have fall into a pit : my concern be with the pit and how to get out of it . now i felt like a beast in a trap , whose enemy would come upon him soon . 'the enemy i dread may surprise you . it be the darkness of the new moon . weena have put this into my head by some at first incomprehensible remark about the dark night . it be not now such a very difficult problem to guess what the come dark night might mean . the moon be on the wane : each night there be a longer interval of darkness . and i now understand to some slight degree at least the reason of the fear of the little upper world people for the dark . i wonder vaguely what foul villainy it might be that the morlocks do under the new moon . i felt pretty sure now that my second hypothesis be all wrong . the upper world people might once have be the favoured aristocracy , and the morlocks their mechanical servant : but that have long since pass away . the two specie that have result from the evolution of man be slide down towards , or have already arrive at , an altogether new relationship . the eloi , like the carolingian king , have decay to a mere beautiful futility . they still possess the earth on sufferance : since the morlocks , subterranean for innumerable generation , have come at last to find the daylit surface intolerable . and the morlocks make their garment , i infer , and maintain them in their habitual need , perhaps through the survival of an old habit of service . they do it a a stand horse paw with his foot , or a a man enjoy kill animal in sport : because ancient and departed necessity have impress it on the organism . but , clearly , the old order be already in part reverse . the nemesis of the delicate one be creep on apace . age ago , thousand of generation ago , man have thrust his brother man out of the ease and the sunshine . and now that brother be come back change ! already the eloi have begin to learn one old lesson anew . they be become reacquaint with fear . and suddenly there come into my head the memory of the meat i have see in the under world . it seem odd how it float into my mind : not stir up a it be by the current of my meditation , but come in almost like a question from outside . i try to recall the form of it . i have a vague sense of something familiar , but i could not tell what it be at the time . 'still , however helpless the little people in the presence of their mysterious fear , i be differently constitute . i come out of this age of ours , this ripe prime of the human race , when fear do not paralyse and mystery have lose it terror . i at least would defend myself . without further delay i determine to make myself arm and a fastness where i might sleep . with that refuge a a base , i could face this strange world with some of that confidence i have lose in realize to what creature night by night i lay expose . i felt i could never sleep again until my bed be secure from them . i shudder with horror to think how they must already have examine me . ' i wander during the afternoon along the valley of the thames , but find nothing that commend itself to my mind a inaccessible . all the building and tree seem easily practicable to such dexterous climber a the morlocks , to judge by their well , must be . then the tall pinnacle of the palace of green porcelain and the polished gleam of it wall come back to my memory ; and in the evening , take weena like a child upon my shoulder , i go up the hill towards the south west . the distance , i have reckon , be seven or eight mile , but it must have be nearer eighteen . i have first see the place on a moist afternoon when distance be deceptively diminish . in addition , the heel of one of my shoe be loose , and a nail be work through the sole they be comfortable old shoe i wear about indoors so that i be lame . and it be already long past sunset when i come in sight of the palace , silhouette black against the pale yellow of the sky . 'weena have be hugely delighted when i begin to carry her , but after a while she desire me to let her down , and run along by the side of me , occasionally dart off on either hand to pick flower to stick in my pocket . my pocket have always puzzle weena , but at the last she have conclude that they be an eccentric kind of vase for floral decoration . at least she utilize them for that purpose . and that remind me ! in change my jacket i find ... ' the time traveller pause , put his hand into his pocket , and silently place two withered flower , not unlike very large white mallow , upon the little table . then he resume his narrative . 'as the hush of even crept over the world and we proceed over the hill crest towards wimbledon , weena grow tired and want to return to the house of grey stone . but i point out the distant pinnacle of the palace of green porcelain to her , and contrive to make her understand that we be seek a refuge there from her fear . you know that great pause that come upon thing before the dusk ? even the breeze stop in the tree . to me there be always an air of expectation about that evening stillness . the sky be clear , remote , and empty save for a few horizontal bar far down in the sunset . well , that night the expectation take the colour of my fear . in that darkling calm my sens seem preternaturally sharpen . i fancy i could even feel the hollowness of the ground beneath my foot : could , indeed , almost see through it the morlocks on their ant hill go hither and thither and wait for the dark . in my excitement i fancy that they would receive my invasion of their burrow a a declaration of war . and why have they take my time machine ? 'so we go on in the quiet , and the twilight deepen into night . the clear blue of the distance fade , and one star after another come out . the ground grow dim and the tree black . weena 's fear and her fatigue grow upon her . i take her in my arm and talk to her and caress her . then , a the darkness grow deep , she put her arm round my neck , and , close her eye , tightly press her face against my shoulder . so we go down a long slope into a valley , and there in the dimness i almost walk into a little river . this i wad , and go up the opposite side of the valley , past a number of sleep house , and by a statue a faun , or some such figure , minus the head . here too be acacias . so far i have see nothing of the morlocks , but it be yet early in the night , and the darker hour before the old moon rise be still to come . 'from the brow of the next hill i saw a thick wood spread wide and black before me . i hesitate at this . i could see no end to it , either to the right or the left . feeling tired my foot , in particular , be very sore i carefully lower weena from my shoulder a i halt , and sit down upon the turf . i could no longer see the palace of green porcelain , and i be in doubt of my direction . i look into the thickness of the wood and thought of what it might hide . under that dense tangle of branch one would be out of sight of the star . even be there no other lurk danger a danger i do not care to let my imagination loose upon there would still be all the root to stumble over and the tree boles to strike against . ' i be very tired , too , after the excitement of the day ; so i decide that i would not face it , but would pass the night upon the open hill . 'weena , i be glad to find , be fast asleep . i carefully wrap her in my jacket , and sit down beside her to wait for the moonrise . the hill side be quiet and deserted , but from the black of the wood there come now and then a stir of living thing . above me shine the star , for the night be very clear . i felt a certain sense of friendly comfort in their twinkling . all the old constellation have go from the sky , however : that slow movement which be imperceptible in a hundred human lifetime , have long since rearrange them in unfamiliar grouping . but the milky way , it seem to me , be still the same tattered streamer of star dust a of yore . southward ( a i judge it ) be a very bright red star that be new to me ; it be even more splendid than our own green sirius . and amid all these scintillate point of light one bright planet shone kindly and steadily like the face of an old friend . 'looking at these star suddenly dwarf my own trouble and all the gravity of terrestrial life . i thought of their unfathomable distance , and the slow inevitable drift of their movement out of the unknown past into the unknown future . i thought of the great precessional cycle that the pole of the earth describe . only forty time have that silent revolution occur during all the year that i have traverse . and during these few revolution all the activity , all the tradition , the complex organization , the nation , language , literature , aspiration , even the mere memory of man a i know him , have be sweep out of existence . instead be these frail creature who have forget their high ancestry , and the white thing of which i go in terror . then i thought of the great fear that be between the two specie , and for the first time , with a sudden shiver , come the clear knowledge of what the meat i have see might be . yet it be too horrible ! i look at little weena sleep beside me , her face white and starlike under the star , and forthwith dismiss the thought . 'through that long night i hold my mind off the morlocks as well a i could , and whiled away the time by try to fancy i could find sign of the old constellation in the new confusion . the sky keep very clear , except for a hazy cloud or so . no doubt i doze at time . then , a my vigil wore on , come a faintness in the eastward sky , like the reflection of some colourless fire , and the old moon rise , thin and peaked and white . and close behind , and overtake it , and overflow it , the dawn come , pale at first , and then grow pink and warm . no morlocks have approach u . indeed , i have see none upon the hill that night . and in the confidence of renew day it almost seem to me that my fear have be unreasonable . i stand up and find my foot with the loose heel swell at the ankle and painful under the heel ; so i sit down again , take off my shoe , and fling them away . ' i awaken weena , and we go down into the wood , now green and pleasant instead of black and forbid . we find some fruit wherewith to break our fast . we soon meet others of the dainty one , laugh and dance in the sunlight a though there be no such thing in nature a the night . and then i think once more of the meat that i have see . i felt assure now of what it be , and from the bottom of my heart i pity this last feeble rill from the great flood of humanity . clearly , at some time in the long ago of human decay the morlocks ' food have run short . possibly they have live on rat and such like vermin . even now man be far less discriminating and exclusive in his food than he be far less than any monkey . his prejudice against human flesh be no deep seat instinct . and so these inhuman son of men ! i try to look at the thing in a scientific spirit . after all , they be less human and more remote than our cannibal ancestor of three or four thousand year ago . and the intelligence that would have make this state of thing a torment have go . why should i trouble myself ? these eloi be mere fat cattle , which the ant like morlocks preserve and prey upon probably saw to the breeding of . and there be weena dancing at my side ! 'then i try to preserve myself from the horror that be come upon me , by regard it a a rigorous punishment of human selfishness . man have be content to live in ease and delight upon the labour of his fellow man , have take necessity a his watchword and excuse , and in the fullness of time necessity have come home to him . i even try a carlyle like scorn of this wretched aristocracy in decay . but this attitude of mind be impossible . however great their intellectual degradation , the eloi have keep too much of the human form not to claim my sympathy , and to make me perforce a sharer in their degradation and their fear . ' i have at that time very vague idea a to the course i should pursue . my first be to secure some safe place of refuge , and to make myself such arm of metal or stone a i could contrive . that necessity be immediate . in the next place , i hop to procure some mean of fire , so that i should have the weapon of a torch at hand , for nothing , i know , would be more efficient against these morlocks . then i want to arrange some contrivance to break open the door of bronze under the white sphinx . i have in mind a battering ram . i have a persuasion that if i could enter those door and carry a blaze of light before me i should discover the time machine and escape . i could not imagine the morlocks be strong enough to move it far away . weena i have resolve to bring with me to our own time . and turn such scheme over in my mind i pursue our way towards the building which my fancy have choose a our dwelling . viii ' i find the palace of green porcelain , when we approach it about noon , desert and fall into ruin . only rag vestige of glass remain in it window , and great sheet of the green facing have fall away from the corrode metallic framework . it lay very high upon a turfy down , and look north eastward before i enter it , i be surprise to see a large estuary , or even creek , where i judge wandsworth and battersea must once have be . i think then though i never follow up the thought of what might have happen , or might be happen , to the living thing in the sea . 'the material of the palace prove on examination to be indeed porcelain , and along the face of it i saw an inscription in some unknown character . i think , rather foolishly , that weena might help me to interpret this , but i only learn that the bare idea of writing have never enter her head . she always seem to me , i fancy , more human than she be , perhaps because her affection be so human . 'within the big valve of the door which be open and broken we find , instead of the customary hall , a long gallery lit by many side window . at the first glance i be remind of a museum . the tiled floor be thick with dust , and a remarkable array of miscellaneous object be shroud in the same grey cover . then i perceive , stand strange and gaunt in the centre of the hall , what be clearly the low part of a huge skeleton . i recognize by the oblique foot that it be some extinct creature after the fashion of the megatherium . the skull and the upper bone lay beside it in the thick dust , and in one place , where rain water have drop through a leak in the roof , the thing itself have be wear away . far in the gallery be the huge skeleton barrel of a brontosaurus . my museum hypothesis be confirm . go towards the side i find what appear to be slop shelf , and clear away the thick dust , i find the old familiar glass case of our own time . but they must have be air tight to judge from the fair preservation of some of their content . 'clearly we stand among the ruin of some latter day south kensington ! here , apparently , be the palaeontological section , and a very splendid array of fossil it must have be , though the inevitable process of decay that have be stave off for a time , and have , through the extinction of bacteria and fungi , lose ninety nine hundredth of it force , be nevertheless , with extreme sureness if with extreme slowness at work again upon all it treasure . here and there i find trace of the little people in the shape of rare fossil break to piece or thread in string upon reed . and the case have in some instance be bodily remove by the morlocks a i judge . the place be very silent . the thick dust deaden our footstep . weena , who have be roll a sea urchin down the slop glass of a case , presently come , a i star about me , and very quietly take my hand and stand beside me . 'and at first i be so much surprise by this ancient monument of an intellectual age , that i give no thought to the possibility it present . even my preoccupation about the time machine recede a little from my mind . 'to judge from the size of the place , this palace of green porcelain have a great deal more in it than a gallery of palaeontology ; possibly historical gallery ; it might be , even a library ! to me , at least in my present circumstance , these would be vastly more interesting than this spectacle of oldtime geology in decay . exploring , i find another short gallery run transversely to the first . this appear to be devote to mineral , and the sight of a block of sulphur set my mind run on gunpowder . but i could find no saltpeter ; indeed , no nitrate of any kind . doubtless they have deliquesce age ago . yet the sulphur hung in my mind , and set up a train of thinking . a for the rest of the content of that gallery , though on the whole they be the best preserved of all i saw , i have little interest . i be no specialist in mineralogy , and i go on down a very ruinous aisle run parallel to the first hall i have enter . apparently this section have be devote to natural history , but everything have long since pass out of recognition . a few shrivelled and blacken vestige of what have once be stuff animal , desiccated mummy in jar that have once hold spirit , a brown dust of departed plant : that be all ! i be sorry for that , because i should have be glad to trace the patent readjustment by which the conquest of animated nature have be attain . then we come to a gallery of simply colossal proportion , but singularly ill lit , the floor of it run downward at a slight angle from the end at which i enter . at interval white globe hung from the ceiling many of them crack and smash which suggest that originally the place have be artificially lit . here i be more in my element , for rise on either side of me be the huge bulk of big machine , all greatly corrode and many broken down , but some still fairly complete . you know i have a certain weakness for mechanism , and i be incline to linger among these ; the more so a for the most part they have the interest of puzzle , and i could make only the vague guess at what they be for . i fancy that if i could solve their puzzle i should find myself in possession of power that might be of use against the morlocks . 'suddenly weena come very close to my side . so suddenly that she startle me . have it not be for her i do not think i should have notice that the floor of the gallery slop at all . [ footnote : it may be , of course , that the floor do not slope , but that the museum be build into the side of a hill . ed . ] the end i have come in at be quite above ground , and be light by rare slit like window . a you go down the length , the ground come up against these window , until at last there be a pit like the `` area '' of a london house before each , and only a narrow line of daylight at the top . i go slowly along , puzzle about the machine , and have be too intent upon them to notice the gradual diminution of the light , until weena 's increase apprehension draw my attention . then i saw that the gallery run down at last into a thick darkness . i hesitate , and then , a i look round me , i saw that the dust be less abundant and it surface less even . far away towards the dimness , it appear to be break by a number of small narrow footprint . my sense of the immediate presence of the morlocks revive at that . i felt that i be waste my time in the academic examination of machinery . i call to mind that it be already far advanced in the afternoon , and that i have still no weapon , no refuge , and no mean of make a fire . and then down in the remote blackness of the gallery i hear a peculiar pattering , and the same odd noise i have hear down the well . ' i take weena 's hand . then , strike with a sudden idea , i leave her and turn to a machine from which project a lever not unlike those in a signal box . clamber upon the stand , and grasp this lever in my hand , i put all my weight upon it sideways . suddenly weena , desert in the central aisle , begin to whimper . i have judge the strength of the lever pretty correctly , for it snap after a minute 's strain , and i rejoin her with a mace in my hand more than sufficient , i judge , for any morlock skull i might encounter . and i long very much to kill a morlock or so . very inhuman , you may think , to want to go kill one 's own descendant ! but it be impossible , somehow , to feel any humanity in the thing . only my disinclination to leave weena , and a persuasion that if i begin to slake my thirst for murder my time machine might suffer , restrain me from go straight down the gallery and kill the brute i heard . 'well , mace in one hand and weena in the other , i go out of that gallery and into another and still large one , which at the first glance remind me of a military chapel hung with tattered flag . the brown and char rag that hung from the side of it , i presently recognize a the decaying vestige of book . they have long since drop to piece , and every semblance of print have leave them . but here and there be warped board and crack metallic clasp that tell the tale well enough . have i be a literary man i might , perhaps , have moralize upon the futility of all ambition . but a it be , the thing that strike me with keen force be the enormous waste of labour to which this sombre wilderness of rot paper testify . at the time i will confess that i think chiefly of the philosophical transaction and my own seventeen paper upon physical optic . 'then , go up a broad staircase , we come to what may once have be a gallery of technical chemistry . and here i have not a little hope of useful discovery . except at one end where the roof have collapse , this gallery be well preserve . i go eagerly to every unbroken case . and at last , in one of the really air tight case , i find a box of match . very eagerly i try them . they be perfectly good . they be not even damp . i turn to weena . `` dance , '' i cry to her in her own tongue . for now i have a weapon indeed against the horrible creature we fear . and so , in that derelict museum , upon the thick soft carpeting of dust , to weena 's huge delight , i solemnly perform a kind of composite dance , whistle the land of the leal as cheerfully a i could . in part it be a modest cancan , in part a step dance , in part a skirt dance ( so far a my tail coat permit ) , and in part original . for i be naturally inventive , a you know . 'now , i still think that for this box of match to have escape the wear of time for immemorial year be a most strange , a for me it be a most fortunate thing . yet , oddly enough , i find a far unlikelier substance , and that be camphor . i find it in a sealed jar , that by chance , i suppose , have be really hermetically seal . i fancy at first that it be paraffin wax , and smash the glass accordingly . but the odour of camphor be unmistakable . in the universal decay this volatile substance have chance to survive , perhaps through many thousand of century . it remind me of a sepia painting i have once see do from the ink of a fossil belemnite that must have perish and become fossilized million of year ago . i be about to throw it away , but i remember that it be inflammable and burn with a good bright flame be , in fact , an excellent candle and i put it in my pocket . i find no explosive , however , nor any mean of break down the bronze door . a yet my iron crowbar be the most helpful thing i have chance upon . nevertheless i leave that gallery greatly elate . ' i can not tell you all the story of that long afternoon . it would require a great effort of memory to recall my exploration in at all the proper order . i remember a long gallery of rust stand of arm , and how i hesitate between my crowbar and a hatchet or a sword . i could not carry both , however , and my bar of iron promise best against the bronze gate . there be number of gun , pistol , and rifle . the most be mass of rust , but many be of some new metal , and still fairly sound . but any cartridge or powder there may once have be have rot into dust . one corner i saw be char and shatter ; perhaps , i think , by an explosion among the specimen . in another place be a vast array of idol polynesian , mexican , grecian , phoenician , every country on earth i should think . and here , yield to an irresistible impulse , i write my name upon the nose of a steatite monster from south america that particularly take my fancy . 'as the evening drew on , my interest wan . i go through gallery after gallery , dusty , silent , often ruinous , the exhibit sometimes mere heap of rust and lignite , sometimes fresher . in one place i suddenly find myself near the model of a tin mine , and then by the mere accident i discover , in an air tight case , two dynamite cartridge ! i shout `` eureka ! '' and smash the case with joy . then come a doubt . i hesitate . then , select a little side gallery , i make my essay . i never felt such a disappointment a i do in wait five , ten , fifteen minute for an explosion that never come . of course the thing be dummy , a i might have guess from their presence . i really believe that have they not be so , i should have rush off incontinently and blown sphinx , bronze door , and ( a it prove ) my chance of find the time machine , all together into non existence . 'it be after that , i think , that we come to a little open court within the palace . it be turf , and have three fruit tree . so we rest and refresh ourselves . towards sunset i begin to consider our position . night be creep upon u , and my inaccessible hiding place have still to be find . but that trouble me very little now . i have in my possession a thing that be , perhaps , the best of all defence against the morlocks i have match ! i have the camphor in my pocket , too , if a blaze be need . it seem to me that the best thing we could do would be to pass the night in the open , protect by a fire . in the morning there be the get of the time machine . towards that , a yet , i have only my iron mace . but now , with my grow knowledge , i felt very differently towards those bronze door . up to this , i have refrain from force them , largely because of the mystery on the other side . they have never impress me a be very strong , and i hop to find my bar of iron not altogether inadequate for the work . ix 'we emerge from the palace while the sun be still in part above the horizon . i be determine to reach the white sphinx early the next morning , and ere the dusk i purpose push through the wood that have stop me on the previous journey . my plan be to go as far a possible that night , and then , build a fire , to sleep in the protection of it glare . accordingly , a we go along i gather any stick or dried grass i saw , and presently have my arm full of such litter . thus load , our progress be slow than i have anticipate , and besides weena be tire . and i begin to suffer from sleepiness too ; so that it be full night before we reach the wood . upon the shrubby hill of it edge weena would have stop , fear the darkness before u ; but a singular sense of impend calamity , that should indeed have serve me a a warning , drive me onward . i have be without sleep for a night and two day , and i be feverish and irritable . i felt sleep come upon me , and the morlocks with it . 'while we hesitate , among the black bush behind u , and dim against their blackness , i saw three crouch figure . there be scrub and long grass all about u , and i do not feel safe from their insidious approach . the forest , i calculate , be rather less than a mile across . if we could get through it to the bare hill side , there , a it seem to me , be an altogether safer rest place ; i think that with my match and my camphor i could contrive to keep my path illuminate through the wood . yet it be evident that if i be to flourish match with my hand i should have to abandon my firewood ; so , rather reluctantly , i put it down . and then it come into my head that i would amaze our friend behind by light it . i be to discover the atrocious folly of this proceeding , but it come to my mind a an ingenious move for cover our retreat . ' i do n't know if you have ever think what a rare thing flame must be in the absence of man and in a temperate climate . the sun 's heat be rarely strong enough to burn , even when it be focus by dewdrop , a be sometimes the case in more tropical district . lightning may blast and blacken , but it rarely give rise to widespread fire . decay vegetation may occasionally smoulder with the heat of it fermentation , but this rarely result in flame . in this decadence , too , the art of fire making have be forget on the earth . the red tongue that go lick up my heap of wood be an altogether new and strange thing to weena . 'she want to run to it and play with it . i believe she would have cast herself into it have i not restrain her . but i catch her up , and in spite of her struggle , plunge boldly before me into the wood . for a little way the glare of my fire light the path . look back presently , i could see , through the crowded stem , that from my heap of stick the blaze have spread to some bush adjacent , and a curved line of fire be creep up the grass of the hill . i laugh at that , and turn again to the dark tree before me . it be very black , and weena clung to me convulsively , but there be still , a my eye grow accustom to the darkness , sufficient light for me to avoid the stem . overhead it be simply black , except where a gap of remote blue sky shine down upon u here and there . i strike none of my match because i have no hand free . upon my left arm i carry my little one , in my right hand i have my iron bar . 'for some way i hear nothing but the crackling twig under my foot , the faint rustle of the breeze above , and my own breathing and the throb of the blood vessel in my ear . then i seem to know of a pattering about me . i push on grimly . the pattering grow more distinct , and then i catch the same queer sound and voice i have hear in the under world . there be evidently several of the morlocks , and they be close in upon me . indeed , in another minute i felt a tug at my coat , then something at my arm . and weena shiver violently , and become quite still . 'it be time for a match . but to get one i must put her down . i do so , and , a i fumble with my pocket , a struggle begin in the darkness about my knee , perfectly silent on her part and with the same peculiar coo sound from the morlocks . soft little hand , too , be creep over my coat and back , touch even my neck . then the match scratch and fizz . i hold it flaring , and saw the white back of the morlocks in flight amid the tree . i hastily take a lump of camphor from my pocket , and prepare to light it as soon a the match should wane . then i look at weena . she be lie clutch my foot and quite motionless , with her face to the ground . with a sudden fright i stoop to her . she seem scarcely to breathe . i light the block of camphor and flung it to the ground , and a it split and flare up and drive back the morlocks and the shadow , i kneel down and lift her . the wood behind seem full of the stir and murmur of a great company ! 'she seem to have faint . i put her carefully upon my shoulder and rise to push on , and then there come a horrible realization . in manoeuvre with my match and weena , i have turn myself about several time , and now i have not the faint idea in what direction lay my path . for all i know , i might be face back towards the palace of green porcelain . i find myself in a cold sweat . i have to think rapidly what to do . i determine to build a fire and encamp where we be . i put weena , still motionless , down upon a turfy bole , and very hastily , a my first lump of camphor wan , i begin collect stick and leaf . here and there out of the darkness round me the morlocks ' eye shine like carbuncle . 'the camphor flicker and go out . i light a match , and a i do so , two white form that have be approach weena dash hastily away . one be so blind by the light that he come straight for me , and i felt his bone grind under the blow of my fist . he give a whoop of dismay , stagger a little way , and fell down . i light another piece of camphor , and go on gather my bonfire . presently i notice how dry be some of the foliage above me , for since my arrival on the time machine , a matter of a week , no rain have fall . so , instead of cast about among the tree for fall twig , i begin leap up and drag down branch . very soon i have a choke smoky fire of green wood and dry stick , and could economize my camphor . then i turn to where weena lay beside my iron mace . i try what i could to revive her , but she lay like one dead . i could not even satisfy myself whether or not she breathe . 'now , the smoke of the fire beat over towards me , and it must have make me heavy of a sudden . moreover , the vapour of camphor be in the air . my fire would not need replenish for an hour or so . i felt very weary after my exertion , and sit down . the wood , too , be full of a slumbrous murmur that i do not understand . i seem just to nod and open my eye . but all be dark , and the morlocks have their hand upon me . fling off their clinging finger i hastily felt in my pocket for the match box , and it have go ! then they grip and close with me again . in a moment i know what have happen . i have sleep , and my fire have go out , and the bitterness of death come over my soul . the forest seem full of the smell of burn wood . i be catch by the neck , by the hair , by the arm , and pull down . it be indescribably horrible in the darkness to feel all these soft creature heap upon me . i felt a if i be in a monstrous spider 's web . i be overpower , and go down . i felt little teeth nipping at my neck . i roll over , and a i do so my hand come against my iron lever . it give me strength . i struggle up , shake the human rat from me , and , hold the bar short , i thrust where i judge their face might be . i could feel the succulent give of flesh and bone under my blow , and for a moment i be free . 'the strange exultation that so often seem to accompany hard fighting come upon me . i know that both i and weena be lose , but i determine to make the morlocks pay for their meat . i stand with my back to a tree , swing the iron bar before me . the whole wood be full of the stir and cry of them . a minute pass . their voice seem to rise to a high pitch of excitement , and their movement grow faster . yet none come within reach . i stand glare at the blackness . then suddenly come hope . what if the morlocks be afraid ? and close on the heel of that come a strange thing . the darkness seem to grow luminous . very dimly i begin to see the morlocks about me three batter at my foot and then i recognize , with incredulous surprise , that the others be run , in an incessant stream , a it seem , from behind me , and away through the wood in front . and their back seem no longer white , but reddish . a i stand agape , i saw a little red spark go drift across a gap of starlight between the branch , and vanish . and at that i understand the smell of burn wood , the slumbrous murmur that be grow now into a gusty roar , the red glow , and the morlocks ' flight . 'stepping out from behind my tree and look back , i saw , through the black pillar of the nearer tree , the flame of the burning forest . it be my first fire come after me . with that i look for weena , but she be go . the hissing and crackle behind me , the explosive thud a each fresh tree burst into flame , leave little time for reflection . my iron bar still grip , i follow in the morlocks ' path . it be a close race . once the flame creep forward so swiftly on my right a i run that i be outflank and have to strike off to the left . but at last i emerge upon a small open space , and a i do so , a morlock come blunder towards me , and past me , and go on straight into the fire ! 'and now i be to see the most weird and horrible thing , i think , of all that i behold in that future age . this whole space be as bright a day with the reflection of the fire . in the centre be a hillock or tumulus , surmount by a scorched hawthorn . beyond this be another arm of the burning forest , with yellow tongue already writhe from it , completely encircle the space with a fence of fire . upon the hill side be some thirty or forty morlocks , dazzle by the light and heat , and blunder hither and thither against each other in their bewilderment . at first i do not realize their blindness , and strike furiously at them with my bar , in a frenzy of fear , a they approach me , kill one and cripple several more . but when i have watch the gesture of one of them grope under the hawthorn against the red sky , and hear their moan , i be assure of their absolute helplessness and misery in the glare , and i strike no more of them . 'yet every now and then one would come straight towards me , set loose a quiver horror that make me quick to elude him . at one time the flame die down somewhat , and i fear the foul creature would presently be able to see me . i be think of begin the fight by kill some of them before this should happen ; but the fire burst out again brightly , and i stay my hand . i walk about the hill among them and avoid them , look for some trace of weena . but weena be go . 'at last i sit down on the summit of the hillock , and watch this strange incredible company of blind thing grope to and fro , and make uncanny noise to each other , a the glare of the fire beat on them . the coil uprush of smoke stream across the sky , and through the rare tatter of that red canopy , remote a though they belong to another universe , shine the little star . two or three morlocks come blunder into me , and i drive them off with blow of my fist , tremble a i do so . 'for the most part of that night i be persuade it be a nightmare . i bit myself and scream in a passionate desire to awake . i beat the ground with my hand , and get up and sit down again , and wander here and there , and again sit down . then i would fall to rub my eye and call upon god to let me awake . thrice i saw morlocks put their head down in a kind of agony and rush into the flame . but , at last , above the subsiding red of the fire , above the streaming mass of black smoke and the whitening and blackening tree stump , and the diminish number of these dim creature , come the white light of the day . ' i search again for trace of weena , but there be none . it be plain that they have leave her poor little body in the forest . i can not describe how it relieve me to think that it have escape the awful fate to which it seem destined . a i thought of that , i be almost move to begin a massacre of the helpless abomination about me , but i contain myself . the hillock , a i have say , be a kind of island in the forest . from it summit i could now make out through a haze of smoke the palace of green porcelain , and from that i could get my bearing for the white sphinx . and so , leave the remnant of these damn soul still go hither and thither and moaning , a the day grow clear , i tie some grass about my foot and limp on across smoking ash and among black stem , that still pulsate internally with fire , towards the hide place of the time machine . i walk slowly , for i be almost exhaust , as well a lame , and i felt the intense wretchedness for the horrible death of little weena . it seem an overwhelming calamity . now , in this old familiar room , it be more like the sorrow of a dream than an actual loss . but that morning it leave me absolutely lonely again terribly alone . i begin to think of this house of mine , of this fireside , of some of you , and with such thought come a longing that be pain . 'but a i walk over the smoking ash under the bright morning sky , i make a discovery . in my trouser pocket be still some loose match . the box must have leak before it be lose . x 'about eight or nine in the morning i come to the same seat of yellow metal from which i have view the world upon the evening of my arrival . i thought of my hasty conclusion upon that evening and could not refrain from laugh bitterly at my confidence . here be the same beautiful scene , the same abundant foliage , the same splendid palace and magnificent ruin , the same silver river run between it fertile bank . the gay robe of the beautiful people move hither and thither among the tree . some be bath in exactly the place where i have save weena , and that suddenly give me a keen stab of pain . and like blot upon the landscape rise the cupola above the way to the under world . i understood now what all the beauty of the over world people cover . very pleasant be their day , as pleasant a the day of the cattle in the field . like the cattle , they know of no enemy and provide against no need . and their end be the same . ' i grieve to think how brief the dream of the human intellect have be . it have commit suicide . it have set itself steadfastly towards comfort and ease , a balanced society with security and permanency a it watchword , it have attain it hope to come to this at last . once , life and property must have reach almost absolute safety . the rich have be assure of his wealth and comfort , the toiler assure of his life and work . no doubt in that perfect world there have be no unemployed problem , no social question leave unsolved . and a great quiet have follow . 'it be a law of nature we overlook , that intellectual versatility be the compensation for change , danger , and trouble . an animal perfectly in harmony with it environment be a perfect mechanism . nature never appeal to intelligence until habit and instinct be useless . there be no intelligence where there be no change and no need of change . only those animal partake of intelligence that have to meet a huge variety of need and danger . 'so , a i see it , the upper world man have drift towards his feeble prettiness , and the under world to mere mechanical industry . but that perfect state have lack one thing even for mechanical perfection absolute permanency . apparently a time go on , the feeding of the under world , however it be effect , have become disjoint . mother necessity , who have be stave off for a few thousand year , come back again , and she begin below . the under world be in contact with machinery , which , however perfect , still need some little thought outside habit , have probably retain perforce rather more initiative , if less of every other human character , than the upper . and when other meat fail them , they turn to what old habit have hitherto forbidden . so i say i saw it in my last view of the world of eight hundred and two thousand seven hundred and one . it may be a wrong an explanation a mortal wit could invent . it be how the thing shape itself to me , and a that i give it to you . 'after the fatigue , excitement , and terror of the past day , and in spite of my grief , this seat and the tranquil view and the warm sunlight be very pleasant . i be very tired and sleepy , and soon my theorizing pass into doze . catch myself at that , i take my own hint , and spread myself out upon the turf i have a long and refreshing sleep . ' i awake a little before sunsetting . i now felt safe against be catch napping by the morlocks , and , stretch myself , i come on down the hill towards the white sphinx . i have my crowbar in one hand , and the other hand play with the match in my pocket . 'and now come a most unexpected thing . a i approach the pedestal of the sphinx i find the bronze valve be open . they have slide down into groove . 'at that i stop short before them , hesitate to enter . 'within be a small apartment , and on a raised place in the corner of this be the time machine . i have the small lever in my pocket . so here , after all my elaborate preparation for the siege of the white sphinx , be a meek surrender . i throw my iron bar away , almost sorry not to use it . ' a sudden thought come into my head a i stoop towards the portal . for once , at least , i grasp the mental operation of the morlocks . suppress a strong inclination to laugh , i step through the bronze frame and up to the time machine . i be surprise to find it have be carefully oil and clean . i have suspect since that the morlocks have even partially take it to piece while try in their dim way to grasp it purpose . 'now a i stood and examine it , find a pleasure in the mere touch of the contrivance , the thing i have expect happen . the bronze panel suddenly slide up and strike the frame with a clang . i be in the dark trap . so the morlocks think . at that i chuckle gleefully . ' i could already hear their murmuring laughter a they come towards me . very calmly i try to strike the match . i have only to fix on the lever and depart then like a ghost . but i have overlook one little thing . the match be of that abominable kind that light only on the box . 'you may imagine how all my calm vanish . the little brute be close upon me . one touch me . i make a sweeping blow in the dark at them with the lever , and begin to scramble into the saddle of the machine . then come one hand upon me and then another . then i have simply to fight against their persistent finger for my lever , and at the same time feel for the stud over which these fit . one , indeed , they almost get away from me . a it slip from my hand , i have to butt in the dark with my head i could hear the morlock 's skull ring to recover it . it be a near thing than the fight in the forest , i think , this last scramble . 'but at last the lever be fit and pull over . the cling hand slip from me . the darkness presently fell from my eye . i find myself in the same grey light and tumult i have already describe . xi ' i have already tell you of the sickness and confusion that come with time travel . and this time i be not seat properly in the saddle , but sideways and in an unstable fashion . for an indefinite time i clung to the machine a it sway and vibrate , quite unheeding how i go , and when i bring myself to look at the dial again i be amaze to find where i have arrive . one dial record day , and another thousand of day , another million of day , and another thousand of million . now , instead of reverse the lever , i have pull them over so a to go forward with them , and when i come to look at these indicator i find that the thousand hand be sweep round as fast a the second hand of a watch into futurity . 'as i drove on , a peculiar change crept over the appearance of thing . the palpitating greyness grow darker ; then though i be still travel with prodigious velocity the blink succession of day and night , which be usually indicative of a slow pace , return , and grow more and more marked . this puzzle me very much at first . the alternation of night and day grow slow and slow , and so do the passage of the sun across the sky , until they seem to stretch through century . at last a steady twilight brood over the earth , a twilight only broken now and then when a comet glare across the darkling sky . the band of light that have indicate the sun have long since disappear ; for the sun have cease to set it simply rise and fell in the west , and grow ever broad and more red . all trace of the moon have vanish . the circling of the star , grow slow and slow , have give place to creep point of light . at last , some time before i stop , the sun , red and very large , halt motionless upon the horizon , a vast dome glow with a dull heat , and now and then suffer a momentary extinction . at one time it have for a little while glow more brilliantly again , but it speedily revert to it sullen red heat . i perceive by this slow down of it rising and setting that the work of the tidal drag be do . the earth have come to rest with one face to the sun , even a in our own time the moon face the earth . very cautiously , for i remember my former headlong fall , i begin to reverse my motion . slow and slow go the circle hand until the thousand one seem motionless and the daily one be no long a mere mist upon it scale . still slow , until the dim outline of a desolate beach grow visible . ' i stop very gently and sit upon the time machine , look round . the sky be no long blue . north eastward it be inky black , and out of the blackness shone brightly and steadily the pale white star . overhead it be a deep indian red and starless , and south eastward it grow brighter to a glowing scarlet where , cut by the horizon , lay the huge hull of the sun , red and motionless . the rock about me be of a harsh reddish colour , and all the trace of life that i could see at first be the intensely green vegetation that cover every projecting point on their south eastern face . it be the same rich green that one see on forest moss or on the lichen in cave : plant which like these grow in a perpetual twilight . 'the machine be stand on a sloping beach . the sea stretch away to the south west , to rise into a sharp bright horizon against the wan sky . there be no breaker and no wave , for not a breath of wind be stir . only a slight oily swell rise and fell like a gentle breathing , and show that the eternal sea be still move and living . and along the margin where the water sometimes break be a thick incrustation of salt pink under the lurid sky . there be a sense of oppression in my head , and i notice that i be breathe very fast . the sensation remind me of my only experience of mountaineering , and from that i judge the air to be more rarefied than it be now . 'far away up the desolate slope i hear a harsh scream , and saw a thing like a huge white butterfly go slanting and flutter up into the sky and , circle , disappear over some low hillock beyond . the sound of it voice be so dismal that i shiver and seat myself more firmly upon the machine . look round me again , i saw that , quite near , what i have take to be a reddish mass of rock be move slowly towards me . then i saw the thing be really a monstrous crab like creature . can you imagine a crab as large a yonder table , with it many leg move slowly and uncertainly , it big claw swaying , it long antenna , like carter ' whip , wave and feeling , and it stalked eye gleam at you on either side of it metallic front ? it back be corrugate and ornament with ungainly boss , and a greenish incrustation blotch it here and there . i could see the many palps of it complicate mouth flickering and feeling a it move . 'as i star at this sinister apparition crawl towards me , i felt a tickling on my cheek a though a fly have light there . i try to brush it away with my hand , but in a moment it return , and almost immediately come another by my ear . i strike at this , and catch something threadlike . it be draw swiftly out of my hand . with a frightful qualm , i turn , and i saw that i have grasp the antenna of another monster crab that stand just behind me . it evil eye be wriggle on their stalk , it mouth be all alive with appetite , and it vast ungainly claw , smear with an algal slime , be descend upon me . in a moment my hand be on the lever , and i have place a month between myself and these monster . but i be still on the same beach , and i saw them distinctly now as soon a i stop . dozen of them seem to be crawl here and there , in the sombre light , among the foliated sheet of intense green . ' i can not convey the sense of abominable desolation that hung over the world . the red eastern sky , the northward blackness , the salt dead sea , the stony beach crawl with these foul , slow stirring monster , the uniform poisonous look green of the lichenous plant , the thin air that hurt one 's lung : all contribute to an appalling effect . i move on a hundred year , and there be the same red sun a little large , a little duller the same die sea , the same chill air , and the same crowd of earthy crustacea creeping in and out among the green weed and the red rock . and in the westward sky , i saw a curved pale line like a vast new moon . 'so i travel , stop ever and again , in great stride of a thousand year or more , draw on by the mystery of the earth 's fate , watch with a strange fascination the sun grow large and duller in the westward sky , and the life of the old earth ebb away . at last , more than thirty million year hence , the huge red hot dome of the sun have come to obscure nearly a tenth part of the darkling heaven . then i stop once more , for the crawl multitude of crab have disappear , and the red beach , save for it livid green liverwort and lichen , seem lifeless . and now it be fleck with white . a bitter cold assail me . rare white flake ever and again come eddy down . to the north eastward , the glare of snow lay under the starlight of the sable sky and i could see an undulating crest of hillock pinkish white . there be fringe of ice along the sea margin , with drift mass far out ; but the main expanse of that salt ocean , all bloody under the eternal sunset , be still unfrozen . ' i look about me to see if any trace of animal life remain . a certain indefinable apprehension still keep me in the saddle of the machine . but i saw nothing moving , in earth or sky or sea . the green slime on the rock alone testify that life be not extinct . a shallow sandbank have appear in the sea and the water have recede from the beach . i fancy i saw some black object flop about upon this bank , but it become motionless a i look at it , and i judge that my eye have be deceive , and that the black object be merely a rock . the star in the sky be intensely bright and seem to me to twinkle very little . 'suddenly i notice that the circular westward outline of the sun have change ; that a concavity , a bay , have appear in the curve . i saw this grow large . for a minute perhaps i star aghast at this blackness that be creep over the day , and then i realize that an eclipse be begin . either the moon or the planet mercury be pass across the sun 's disk . naturally , at first i take it to be the moon , but there be much to incline me to believe that what i really saw be the transit of an inner planet pass very near to the earth . 'the darkness grow apace ; a cold wind begin to blow in freshen gust from the east , and the shower white flake in the air increase in number . from the edge of the sea come a ripple and whisper . beyond these lifeless sound the world be silent . silent ? it would be hard to convey the stillness of it . all the sound of man , the bleating of sheep , the cry of bird , the hum of insect , the stir that make the background of our life all that be over . a the darkness thicken , the eddying flake grow more abundant , dance before my eye ; and the cold of the air more intense . at last , one by one , swiftly , one after the other , the white peak of the distant hill vanish into blackness . the breeze rise to a moaning wind . i saw the black central shadow of the eclipse sweeping towards me . in another moment the pale star alone be visible . all else be rayless obscurity . the sky be absolutely black . ' a horror of this great darkness come on me . the cold , that smite to my marrow , and the pain i felt in breathing , overcame me . i shiver , and a deadly nausea seize me . then like a red hot bow in the sky appear the edge of the sun . i get off the machine to recover myself . i felt giddy and incapable of face the return journey . a i stand sick and confuse i saw again the move thing upon the shoal there be no mistake now that it be a move thing against the red water of the sea . it be a round thing , the size of a football perhaps , or , it may be , big , and tentacle trail down from it ; it seem black against the weltering blood red water , and it be hop fitfully about . then i felt i be faint . but a terrible dread of lie helpless in that remote and awful twilight sustain me while i clamber upon the saddle . xii 'so i come back . for a long time i must have be insensible upon the machine . the blink succession of the day and night be resume , the sun get golden again , the sky blue . i breathe with great freedom . the fluctuating contour of the land ebb and flow . the hand spin backward upon the dial . at last i saw again the dim shadow of house , the evidence of decadent humanity . these , too , change and pass , and others come . presently , when the million dial be at zero , i slacken speed . i begin to recognize our own pretty and familiar architecture , the thousand hand run back to the start point , the night and day flap slow and slow . then the old wall of the laboratory come round me . very gently , now , i slow the mechanism down . ' i saw one little thing that seem odd to me . i think i have tell you that when i set out , before my velocity become very high , mrs. watchett have walk across the room , travel , a it seem to me , like a rocket . a i return , i pass again across that minute when she traverse the laboratory . but now her every motion appear to be the exact inversion of her previous one . the door at the low end open , and she glide quietly up the laboratory , back foremost , and disappear behind the door by which she have previously enter . just before that i seem to see hillyer for a moment ; but he pass like a flash . 'then i stop the machine , and saw about me again the old familiar laboratory , my tool , my appliance just a i have leave them . i get off the thing very shakily , and sit down upon my bench . for several minute i tremble violently . then i become calmer . around me be my old workshop again , exactly a it have be . i might have sleep there , and the whole thing have be a dream . 'and yet , not exactly ! the thing have start from the south east corner of the laboratory . it have come to rest again in the north west , against the wall where you saw it . that give you the exact distance from my little lawn to the pedestal of the white sphinx , into which the morlocks have carry my machine . 'for a time my brain go stagnant . presently i get up and come through the passage here , limp , because my heel be still painful , and feel sorely begrime . i saw the pall mall gazette on the table by the door . i find the date be indeed to day , and look at the timepiece , saw the hour be almost eight o'clock . i heard your voice and the clatter of plate . i hesitate i felt so sick and weak . then i sniff good wholesome meat , and open the door on you . you know the rest . i wash , and din , and now i be tell you the story . ' i know , ' he say , after a pause , 'that all this will be absolutely incredible to you . to me the one incredible thing be that i be here to night in this old familiar room look into your friendly face and tell you these strange adventure . ' he look at the medical man . 'no . i can not expect you to believe it . take it a a lie or a prophecy . say i dream it in the workshop . consider i have be speculate upon the destiny of our race until i have hatch this fiction . treat my assertion of it truth a a mere stroke of art to enhance it interest . and take it a a story , what do you think of it ? ' he take up his pipe , and begin , in his old accustomed manner , to tap with it nervously upon the bar of the grate . there be a momentary stillness . then chair begin to creak and shoe to scrape upon the carpet . i take my eye off the time traveller 's face , and look round at his audience . they be in the dark , and little spot of colour swam before them . the medical man seem absorb in the contemplation of our host . the editor be look hard at the end of his cigar the sixth . the journalist fumble for his watch . the others , as far a i remember , be motionless . the editor stand up with a sigh . 'what a pity it be you 're not a writer of story ! ' he say , put his hand on the time traveller 's shoulder . 'you do n't believe it ? ' 'well ' ' i think not . ' the time traveller turn to u . 'where be the match ? ' he say . he light one and speak over his pipe , puff . 'to tell you the truth ... i hardly believe it myself .... and yet ... ' his eye fell with a mute inquiry upon the withered white flower upon the little table . then he turn over the hand hold his pipe , and i saw he be look at some half heal scar on his knuckle . the medical man rise , come to the lamp , and examine the flower . 'the gynaeceum 's odd , ' he say . the psychologist leant forward to see , hold out his hand for a specimen . ' i 'm hang if it be n't a quarter to one , ' say the journalist . 'how shall we get home ? ' 'plenty of cab at the station , ' say the psychologist . 'it 's a curious thing , ' say the medical man ; 'but i certainly do n't know the natural order of these flower . may i have them ? ' the time traveller hesitate . then suddenly : 'certainly not . ' 'where do you really get them ? ' say the medical man . the time traveller put his hand to his head . he speak like one who be try to keep hold of an idea that elude him . 'they be put into my pocket by weena , when i travel into time . ' he star round the room . ' i 'm damn if it be n't all go . this room and you and the atmosphere of every day be too much for my memory . do i ever make a time machine , or a model of a time machine ? or be it all only a dream ? they say life be a dream , a precious poor dream at time but i ca n't stand another that wo n't fit . it 's madness . and where do the dream come from ? ... i must look at that machine . if there be one ! ' he catch up the lamp swiftly , and carry it , flare red , through the door into the corridor . we follow him . there in the flickering light of the lamp be the machine sure enough , squat , ugly , and askew ; a thing of brass , ebony , ivory , and translucent glimmering quartz . solid to the touch for i put out my hand and felt the rail of it and with brown spot and smear upon the ivory , and bit of grass and moss upon the low part , and one rail bent awry . the time traveller put the lamp down on the bench , and run his hand along the damage rail . 'it 's all right now , ' he say . 'the story i tell you be true . i 'm sorry to have bring you out here in the cold . ' he take up the lamp , and , in an absolute silence , we return to the smoking room . he come into the hall with u and help the editor on with his coat . the medical man look into his face and , with a certain hesitation , tell him he be suffer from overwork , at which he laugh hugely . i remember him stand in the open doorway , bawl good night . i share a cab with the editor . he think the tale a 'gaudy lie . ' for my own part i be unable to come to a conclusion . the story be so fantastic and incredible , the tell so credible and sober . i lay awake most of the night think about it . i determine to go next day and see the time traveller again . i be tell he be in the laboratory , and be on easy term in the house , i go up to him . the laboratory , however , be empty . i star for a minute at the time machine and put out my hand and touch the lever . at that the squat substantial look mass sway like a bough shake by the wind . it instability startle me extremely , and i have a queer reminiscence of the childish day when i use to be forbid to meddle . i come back through the corridor . the time traveller meet me in the smoking room . he be come from the house . he have a small camera under one arm and a knapsack under the other . he laugh when he saw me , and give me an elbow to shake . ' i 'm frightfully busy , ' say he , 'with that thing in there . ' 'but be it not some hoax ? ' i say . 'do you really travel through time ? ' 'really and truly i do . ' and he look frankly into my eye . he hesitate . his eye wander about the room . ' i only want half an hour , ' he say . ' i know why you come , and it 's awfully good of you . there 's some magazine here . if you 'll stop to lunch i 'll prove you this time travel up to the hilt , specimen and all . if you 'll forgive my leave you now ? ' i consent , hardly comprehend then the full import of his word , and he nod and go on down the corridor . i hear the door of the laboratory slam , seat myself in a chair , and take up a daily paper . what be he go to do before lunch time ? then suddenly i be remind by an advertisement that i have promise to meet richardson , the publisher , at two . i look at my watch , and saw that i could barely save that engagement . i get up and go down the passage to tell the time traveller . a i take hold of the handle of the door i hear an exclamation , oddly truncate at the end , and a click and a thud . a gust of air whirl round me a i open the door , and from within come the sound of broken glass fall on the floor . the time traveller be not there . i seem to see a ghostly , indistinct figure sit in a whirling mass of black and brass for a moment a figure so transparent that the bench behind with it sheet of drawing be absolutely distinct ; but this phantasm vanish a i rub my eye . the time machine have go . save for a subsiding stir of dust , the further end of the laboratory be empty . a pane of the skylight have , apparently , just be blow in . i felt an unreasonable amazement . i know that something strange have happen , and for the moment could not distinguish what the strange thing might be . a i stand staring , the door into the garden open , and the man servant appear . we look at each other . then idea begin to come . 'has mr. go out that way ? ' say i . 'no , sir . no one have come out this way . i be expect to find him here . ' at that i understand . at the risk of disappoint richardson i stay on , wait for the time traveller ; wait for the second , perhaps still strange story , and the specimen and photograph he would bring with him . but i be begin now to fear that i must wait a lifetime . the time traveller vanish three year ago . and , a everybody know now , he have never return . epilogue one can not choose but wonder . will he ever return ? it may be that he sweep back into the past , and fell among the blood drinking , hairy savage of the age of unpolished stone ; into the abyss of the cretaceous sea ; or among the grotesque saurian , the huge reptilian brute of the jurassic time . he may even now if i may use the phrase be wander on some plesiosaurus haunt oolitic coral reef , or beside the lonely saline lake of the triassic age . or do he go forward , into one of the nearer age , in which men be still men , but with the riddle of our own time answer and it wearisome problem solve ? into the manhood of the race : for i , for my own part , can not think that these latter day of weak experiment , fragmentary theory , and mutual discord be indeed man 's culminating time ! i say , for my own part . he , i know for the question have be discuss among u long before the time machine be make thought but cheerlessly of the advancement of mankind , and saw in the grow pile of civilization only a foolish heaping that must inevitably fall back upon and destroy it maker in the end . if that be so , it remain for u to live a though it be not so . but to me the future be still black and blank be a vast ignorance , lit at a few casual place by the memory of his story . and i have by me , for my comfort , two strange white flower shrivel now , and brown and flat and brittle to witness that even when mind and strength have go , gratitude and a mutual tenderness still live on in the heart of man . end of project gutenberg 's the time machine , by h. g. ( herbert george ) well * * * end of this project gutenberg ebook the time machine * * * * * * * * this file should be name 35.txt or 35.zip * * * * * this and all associated file of various format will be find in : http : //www.gutenberg.net/3/35/ updated edition will replace the previous one the old edition will be rename . create the work from public domain print edition mean that no one own a united state copyright in these work , so the foundation ( and you ! ) can copy and distribute it in the united state without permission and without pay copyright royalty . special rule , set forth in the general term of use part of this license , apply to copy and distribute project gutenberg tm electronic work to protect the project gutenberg tm concept and trademark . project gutenberg be a registered trademark , and may not be use if you charge for the ebooks , unless you receive specific permission . if you do not charge anything for copy of this ebook , comply with the rule be very easy . you may use this ebook for nearly any purpose such a creation of derivative work , report , performance and research . they may be modify and print and give away you may do practically anything with public domain ebooks . redistribution be subject to the trademark license , especially commercial redistribution . * * * start : full license * * * the full project gutenberg license please read this before you distribute or use this work to protect the project gutenberg tm mission of promote the free distribution of electronic work , by use or distribute this work ( or any other work associate in any way with the phrase `` project gutenberg '' ) , you agree to comply with all the term of the full project gutenberg tm license ( available with this file or online at http : //gutenberg.net/license ) . section 1. general term of use and redistributing project gutenberg tm electronic work 1.a . by read or use any part of this project gutenberg tm electronic work , you indicate that you have read , understand , agree to and accept all the term of this license and intellectual property ( trademark/copyright ) agreement . if you do not agree to abide by all the term of this agreement , you must cease use and return or destroy all copy of project gutenberg tm electronic work in your possession . if you pay a fee for obtain a copy of or access to a project gutenberg tm electronic work and you do not agree to be bind by the term of this agreement , you may obtain a refund from the person or entity to whom you pay the fee a set forth in paragraph 1.e.8 . 1.b . `` project gutenberg '' be a registered trademark . it may only be use on or associate in any way with an electronic work by people who agree to be bind by the term of this agreement . there be a few thing that you can do with most project gutenberg tm electronic work even without comply with the full term of this agreement . see paragraph 1.c below . there be a lot of thing you can do with project gutenberg tm electronic work if you follow the term of this agreement and help preserve free future access to project gutenberg tm electronic work . see paragraph 1.e below . 1.c . the project gutenberg literary archive foundation ( `` the foundation '' or pglaf ) , own a compilation copyright in the collection of project gutenberg tm electronic work . nearly all the individual work in the collection be in the public domain in the united state . if an individual work be in the public domain in the united state and you be locate in the united state , we do not claim a right to prevent you from copy , distributing , perform , display or create derivative work base on the work as long a all reference to project gutenberg be remove . of course , we hope that you will support the project gutenberg tm mission of promote free access to electronic work by freely share project gutenberg tm work in compliance with the term of this agreement for keep the project gutenberg tm name associate with the work . you can easily comply with the term of this agreement by keep this work in the same format with it attached full project gutenberg tm license when you share it without charge with others . 1.d . the copyright law of the place where you be locate also govern what you can do with this work . copyright law in most country be in a constant state of change . if you be outside the united state , check the law of your country in addition to the term of this agreement before downloading , copying , display , perform , distribute or create derivative work base on this work or any other project gutenberg tm work . the foundation make no representation concern the copyright status of any work in any country outside the united state . 1.e . unless you have remove all reference to project gutenberg : 1.e.1 . the following sentence , with active link to , or other immediate access to , the full project gutenberg tm license must appear prominently whenever any copy of a project gutenberg tm work ( any work on which the phrase `` project gutenberg '' appear , or with which the phrase `` project gutenberg '' be associate ) be access , display , perform , view , copy or distribute : this ebook be for the use of anyone anywhere at no cost and with almost no restriction whatsoever . you may copy it , give it away or re use it under the term of the project gutenberg license include with this ebook or online at www.gutenberg.net 1.e.2 . if an individual project gutenberg tm electronic work be derive from the public domain ( do not contain a notice indicate that it be post with permission of the copyright holder ) , the work can be copy and distribute to anyone in the united state without pay any fee or charge . if you be redistribute or provide access to a work with the phrase `` project gutenberg '' associate with or appear on the work , you must comply either with the requirement of paragraph 1.e.1 through 1.e.7 or obtain permission for the use of the work and the project gutenberg tm trademark a set forth in paragraphs 1.e.8 or 1.e.9 . 1.e.3 . if an individual project gutenberg tm electronic work be post with the permission of the copyright holder , your use and distribution must comply with both paragraph 1.e.1 through 1.e.7 and any additional term impose by the copyright holder . additional term will be link to the project gutenberg tm license for all work post with the permission of the copyright holder find at the beginning of this work . 1.e.4 . do not unlink or detach or remove the full project gutenberg tm license term from this work , or any file contain a part of this work or any other work associate with project gutenberg tm . 1.e.5 . do not copy , display , perform , distribute or redistribute this electronic work , or any part of this electronic work , without prominently display the sentence set forth in paragraph 1.e.1 with active link or immediate access to the full term of the project gutenberg tm license . 1.e.6 . you may convert to and distribute this work in any binary , compress , mark up , nonproprietary or proprietary form , include any word processing or hypertext form . however , if you provide access to or distribute copy of a project gutenberg tm work in a format other than `` plain vanilla ascii '' or other format use in the official version post on the official project gutenberg tm web site ( www.gutenberg.net ) , you must , at no additional cost , fee or expense to the user , provide a copy , a mean of export a copy , or a mean of obtain a copy upon request , of the work in it original `` plain vanilla ascii '' or other form . any alternate format must include the full project gutenberg tm license a specify in paragraph 1.e.1 . 1.e.7 . do not charge a fee for access to , view , display , perform , copy or distribute any project gutenberg tm work unless you comply with paragraph 1.e.8 or 1.e.9 . 1.e.8 . you may charge a reasonable fee for copy of or provide access to or distribute project gutenberg tm electronic work provide that you pay a royalty fee of 20 % of the gross profit you derive from the use of project gutenberg tm work calculate use the method you already use to calculate your applicable tax . the fee be owe to the owner of the project gutenberg tm trademark , but he have agree to donate royalty under this paragraph to the project gutenberg literary archive foundation . royalty payment must be pay within 60 day follow each date on which you prepare ( or be legally require to prepare ) your periodic tax return . royalty payment should be clearly mark a such and send to the project gutenberg literary archive foundation at the address specify in section 4 , `` information about donation to the project gutenberg literary archive foundation . '' you provide a full refund of any money pay by a user who notify you in write ( or by e mail ) within 30 day of receipt that s/he do not agree to the term of the full project gutenberg tm license . you must require such a user to return or destroy all copy of the work possess in a physical medium and discontinue all use of and all access to other copy of project gutenberg tm work . you provide , in accordance with paragraph 1.f.3 , a full refund of any money pay for a work or a replacement copy , if a defect in the electronic work be discover and report to you within 90 day of receipt of the work . you comply with all other term of this agreement for free distribution of project gutenberg tm work . 1.e.9 . if you wish to charge a fee or distribute a project gutenberg tm electronic work or group of work on different term than be set forth in this agreement , you must obtain permission in write from both the project gutenberg literary archive foundation and michael hart , the owner of the project gutenberg tm trademark . contact the foundation a set forth in section 3 below . 1.f . 1.f.1 . project gutenberg volunteer and employee expend considerable effort to identify , do copyright research on , transcribe and proofread public domain work in create the project gutenberg tm collection . despite these effort , project gutenberg tm electronic work , and the medium on which they may be store , may contain `` defect , '' such a , but not limited to , incomplete , inaccurate or corrupt data , transcription error , a copyright or other intellectual property infringement , a defective or damage disk or other medium , a computer virus , or computer code that damage or can not be read by your equipment . 1.f.2 . limited warranty , disclaimer of damage except for the `` right of replacement or refund '' describe in paragraph 1.f.3 , the project gutenberg literary archive foundation , the owner of the project gutenberg tm trademark , and any other party distribute a project gutenberg tm electronic work under this agreement , disclaim all liability to you for damage , cost and expense , include legal fee . you agree that you have no remedy for negligence , strict liability , breach of warranty or breach of contract except those provide in paragraph f3 . you agree that the foundation , the trademark owner , and any distributor under this agreement will not be liable to you for actual , direct , indirect , consequential , punitive or incidental damage even if you give notice of the possibility of such damage . 1.f.3 . limited right of replacement or refund if you discover a defect in this electronic work within 90 day of receive it , you can receive a refund of the money ( if any ) you pay for it by send a write explanation to the person you receive the work from . if you receive the work on a physical medium , you must return the medium with your write explanation . the person or entity that provide you with the defective work may elect to provide a replacement copy in lieu of a refund . if you receive the work electronically , the person or entity provide it to you may choose to give you a second opportunity to receive the work electronically in lieu of a refund . if the second copy be also defective , you may demand a refund in write without further opportunity to fix the problem . 1.f.4 . except for the limited right of replacement or refund set forth in paragraph 1.f.3 , this work be provide to you 'as be ' , with no other warranty of any kind , express or imply , include but not limited to warranty of merchantibility or fitness for any purpose . 1.f.5 . some state do not allow disclaimer of certain implied warranty or the exclusion or limitation of certain type of damage . if any disclaimer or limitation set forth in this agreement violate the law of the state applicable to this agreement , the agreement shall be interpret to make the maximum disclaimer or limitation permit by the applicable state law . the invalidity or unenforceability of any provision of this agreement shall not void the remain provision . 1.f.6 . indemnity you agree to indemnify and hold the foundation , the trademark owner , any agent or employee of the foundation , anyone provide copy of project gutenberg tm electronic work in accordance with this agreement , and any volunteer associate with the production , promotion and distribution of project gutenberg tm electronic work , harmless from all liability , cost and expense , include legal fee , that arise directly or indirectly from any of the follow which you do or cause to occur : ( a ) distribution of this or any project gutenberg tm work , ( b ) alteration , modification , or addition or deletion to any project gutenberg tm work , and ( c ) any defect you cause . section 2. information about the mission of project gutenberg tm project gutenberg tm be synonymous with the free distribution of electronic work in format readable by the wide variety of computer include obsolete , old , middle age and new computer . it exist because of the effort of hundred of volunteer and donation from people in all walk of life . volunteer and financial support to provide volunteer with the assistance they need , be critical to reach project gutenberg tm 's goal and ensure that the project gutenberg tm collection will remain freely available for generation to come . in 2001 , the project gutenberg literary archive foundation be create to provide a secure and permanent future for project gutenberg tm and future generation . to learn more about the project gutenberg literary archive foundation and how your effort and donation can help , see section 3 and 4 and the foundation web page at http : //www.pglaf.org . section 3. information about the project gutenberg literary archive foundation the project gutenberg literary archive foundation be a non profit 501 ( c ) ( 3 ) educational corporation organize under the law of the state of mississippi and grant tax exempt status by the internal revenue service . the foundation 's ein or federal tax identification number be 64 6221541. it 501 ( c ) ( 3 ) letter be post at http : //pglaf.org/fundraising . contribution to the project gutenberg literary archive foundation be tax deductible to the full extent permit by u.s. federal law and your state 's law . the foundation 's principal office be locate at 4557 melan dr. s. fairbanks , ak , 99712. , but it volunteer and employee be scatter throughout numerous location . it business office be locate at 809 north 1500 west , salt lake city , ut 84116 , ( 801 ) 596 1887 , email business @ pglaf.org . email contact link and up to date contact information can be find at the foundation 's web site and official page at http : //pglaf.org for additional contact information : dr. gregory b. newby chief executive and director gbnewby @ pglaf.org section 4. information about donation to the project gutenberg literary archive foundation project gutenberg tm depend upon and can not survive without wide spread public support and donation to carry out it mission of increase the number of public domain and license work that can be freely distribute in machine readable form accessible by the wide array of equipment include outdated equipment . many small donation ( $ 1 to $ 5,000 ) be particularly important to maintain tax exempt status with the irs . the foundation be commit to comply with the law regulate charity and charitable donation in all 50 state of the united state . compliance requirement be not uniform and it take a considerable effort , much paperwork and many fee to meet and keep up with these requirement . we do not solicit donation in location where we have not receive write confirmation of compliance . to send donation or determine the status of compliance for any particular state visit http : //pglaf.org while we can not and do not solicit contribution from state where we have not meet the solicitation requirement , we know of no prohibition against accept unsolicited donation from donor in such state who approach u with offer to donate . international donation be gratefully accept , but we can not make any statement concern tax treatment of donation receive from outside the united state . u.s. law alone swamp our small staff . please check the project gutenberg web page for current donation method and address . donation be accept in a number of other way include include check , online payment and credit card donation . to donate , please visit : http : //pglaf.org/donate section 5. general information about project gutenberg tm electronic work . professor michael s. hart be the originator of the project gutenberg tm concept of a library of electronic work that could be freely share with anyone . for thirty year , he produce and distribute project gutenberg tm ebooks with only a loose network of volunteer support . project gutenberg tm ebooks be often create from several printed edition , all of which be confirm a public domain in the u.s. unless a copyright notice be include . thus , we do not necessarily keep ebooks in compliance with any particular paper edition . most people start at our web site which have the main pg search facility : http : //www.gutenberg.net this web site include information about project gutenberg tm , include how to make donation to the project gutenberg literary archive foundation , how to help produce our new ebooks , and how to subscribe to our email newsletter to hear about new ebooks . \n"
     ]
    }
   ],
   "source": [
    "# apply lemmatization to article\n",
    "df.article = df.article.apply(lambda x : lemma(x))\n",
    "print(df.article[0])"
   ]
  },
  {
   "cell_type": "code",
   "execution_count": null,
   "metadata": {},
   "outputs": [],
   "source": []
  },
  {
   "cell_type": "code",
   "execution_count": 21,
   "metadata": {},
   "outputs": [
    {
     "name": "stdout",
     "output_type": "stream",
     "text": [
      "Counter({'like': 2, 'I': 1, 'this': 1, 'photo': 1})\n"
     ]
    }
   ],
   "source": [
    "# use Counter to select the most common verbs\n",
    "# small example\n",
    "from collections import Counter\n",
    "\n",
    "example = ['I','like','this','photo','like']\n",
    "print(Counter(example))"
   ]
  },
  {
   "cell_type": "code",
   "execution_count": 22,
   "metadata": {},
   "outputs": [
    {
     "data": {
      "text/plain": [
       "(['celebrates', 'honor', 'invited'],\n",
       " ['Today',\n",
       "  'Netherlands',\n",
       "  'King',\n",
       "  'Day',\n",
       "  'tradition',\n",
       "  'Netherlands',\n",
       "  'embassy',\n",
       "  'San',\n",
       "  'Francisco'])"
      ]
     },
     "execution_count": 22,
     "metadata": {},
     "output_type": "execute_result"
    }
   ],
   "source": [
    "# collect all verbs and nonus\n",
    "def collect_verbs_nonus(text):\n",
    "    verbs = []\n",
    "    nonus = []\n",
    "    tokens = word_tokenize(text)\n",
    "    tagged_tokens = pos_tag(tokens)\n",
    "\n",
    "    for token in tagged_tokens:\n",
    "        if token[1].startswith('V'):\n",
    "            verbs.append(token[0])\n",
    "        elif token[1].startswith('N'):\n",
    "            nonus.append(token[0])\n",
    "    return verbs,nonus\n",
    "text = 'Today the Netherlands celebrates King\\'s Day. To honor this tradition, the Netherlands embassy in San Francisco invited me to'\n",
    "verbs,nonus = collect_verbs_nonus(text)\n",
    "verbs,nonus"
   ]
  },
  {
   "cell_type": "code",
   "execution_count": 23,
   "metadata": {},
   "outputs": [],
   "source": [
    "v_counter = Counter(verbs)\n",
    "n_counter = Counter(nonus)"
   ]
  },
  {
   "cell_type": "code",
   "execution_count": 24,
   "metadata": {},
   "outputs": [
    {
     "data": {
      "text/plain": [
       "[('celebrates', 1), ('honor', 1)]"
      ]
     },
     "execution_count": 24,
     "metadata": {},
     "output_type": "execute_result"
    }
   ],
   "source": [
    "# print the two most common verbs\n",
    "v_counter.most_common(2)"
   ]
  },
  {
   "cell_type": "code",
   "execution_count": 25,
   "metadata": {},
   "outputs": [
    {
     "data": {
      "text/plain": [
       "[('Netherlands', 2), ('Today', 1)]"
      ]
     },
     "execution_count": 25,
     "metadata": {},
     "output_type": "execute_result"
    }
   ],
   "source": [
    "# print the two most common nouns\n",
    "n_counter.most_common(2)"
   ]
  },
  {
   "cell_type": "code",
   "execution_count": null,
   "metadata": {},
   "outputs": [],
   "source": []
  },
  {
   "cell_type": "code",
   "execution_count": 26,
   "metadata": {},
   "outputs": [],
   "source": [
    "# apply to the full article\n",
    "verbs,nonus = collect_verbs_nonus(df.article[0])\n",
    "v_counter = Counter(verbs)\n",
    "n_counter = Counter(nonus)"
   ]
  },
  {
   "cell_type": "code",
   "execution_count": 27,
   "metadata": {},
   "outputs": [
    {
     "data": {
      "text/plain": [
       "[('be', 1119),\n",
       " ('have', 506),\n",
       " ('i', 169),\n",
       " ('come', 138),\n",
       " ('do', 113),\n",
       " ('say', 112),\n",
       " ('go', 100),\n",
       " ('saw', 87),\n",
       " ('seem', 77),\n",
       " ('see', 70),\n",
       " ('think', 66),\n",
       " ('make', 63),\n",
       " ('find', 62),\n",
       " ('felt', 56),\n",
       " ('take', 53),\n",
       " ('look', 53),\n",
       " ('get', 49),\n",
       " ('know', 47),\n",
       " ('begin', 42),\n",
       " ('put', 36),\n",
       " ('leave', 27),\n",
       " ('run', 27),\n",
       " ('follow', 26),\n",
       " (\"'s\", 25),\n",
       " ('tell', 25),\n",
       " ('stand', 24),\n",
       " ('hear', 22),\n",
       " ('sit', 21),\n",
       " ('move', 21),\n",
       " ('turn', 21)]"
      ]
     },
     "execution_count": 27,
     "metadata": {},
     "output_type": "execute_result"
    }
   ],
   "source": [
    "# select the 30 most common verbs\n",
    "common_verb = v_counter.most_common(30)\n",
    "common_verb"
   ]
  },
  {
   "cell_type": "code",
   "execution_count": 28,
   "metadata": {},
   "outputs": [],
   "source": [
    "# select the most suitable verb\n",
    "def select_best_verb(topic):\n",
    "    max_simi = 0\n",
    "    best_belief = \"\"\n",
    "    for verb in common_verb:\n",
    "#    for verb in v_counter:\n",
    "        sentence = verb[0] + ' ' + topic\n",
    "        simi = compute_similarity(sentence)\n",
    "        if simi > max_simi:\n",
    "            best_belief = sentence\n",
    "            max_simi = simi\n",
    "    return best_belief, max_simi"
   ]
  },
  {
   "cell_type": "code",
   "execution_count": 29,
   "metadata": {},
   "outputs": [],
   "source": [
    "# compute similarity between article and beliefs\n",
    "def compute_similarity(belief):\n",
    "    beliefs_embedding = model.encode(belief)\n",
    "    max_simi = 0\n",
    "    for sentence in sentence_embeddings:\n",
    "        simi = cosine_similarity([beliefs_embedding], [sentence])[0][0]\n",
    "        # just choose the maximum similarity because if there is a sentence strong related to one belief,\n",
    "        # that means this belief is writer's belief\n",
    "        max_simi = max(simi, max_simi)\n",
    "    return max_simi"
   ]
  },
  {
   "cell_type": "code",
   "execution_count": 30,
   "metadata": {},
   "outputs": [
    {
     "data": {
      "text/plain": [
       "['leave time traveller',\n",
       " 'say electronic work',\n",
       " 'seem thick dust',\n",
       " 'leave time dimension',\n",
       " 'seem silent man']"
      ]
     },
     "execution_count": 30,
     "metadata": {},
     "output_type": "execute_result"
    }
   ],
   "source": [
    "# generate beliefs\n",
    "beliefs = []\n",
    "\n",
    "for topic in topics:\n",
    "    best_belief,max_simi = select_best_verb(topic)\n",
    "    beliefs.append(best_belief)\n",
    "beliefs"
   ]
  },
  {
   "cell_type": "markdown",
   "metadata": {},
   "source": [
    "### Conclusion:          In this part, I extract the most common verbs, but these verbs are not special and are more like stop words   \n",
    "### Next exploration:    Try to use tf-idf"
   ]
  },
  {
   "cell_type": "code",
   "execution_count": null,
   "metadata": {},
   "outputs": [],
   "source": []
  },
  {
   "cell_type": "code",
   "execution_count": null,
   "metadata": {},
   "outputs": [],
   "source": []
  },
  {
   "cell_type": "markdown",
   "metadata": {},
   "source": [
    "# TF-IDF\n",
    "\n",
    "TF-IDF, short for term frequency–inverse document frequency, a numerical statistic that is intended to reflect how important a word is to a document in a collection or corpus."
   ]
  },
  {
   "cell_type": "code",
   "execution_count": 31,
   "metadata": {},
   "outputs": [
    {
     "name": "stdout",
     "output_type": "stream",
     "text": [
      "['beautiful', 'day', 'dinner', 'for', 'is', 'it', 'like', 'pondering', 'question', 'the', 'this', 'today', 'tonight', 'weather', 'what', 'worth']\n",
      "{'what': 14, 'is': 4, 'the': 9, 'weather': 13, 'like': 6, 'today': 11, 'for': 3, 'dinner': 2, 'tonight': 12, 'this': 10, 'question': 8, 'worth': 15, 'pondering': 7, 'it': 5, 'beautiful': 0, 'day': 1}\n",
      "  (0, 11)\t0.3710221459250386\n",
      "  (0, 6)\t0.47059454669821993\n",
      "  (0, 13)\t0.47059454669821993\n",
      "  (0, 9)\t0.47059454669821993\n",
      "  (0, 4)\t0.24557575678403082\n",
      "  (0, 14)\t0.3710221459250386\n",
      "  (1, 12)\t0.506765426545092\n",
      "  (1, 2)\t0.506765426545092\n",
      "  (1, 3)\t0.506765426545092\n",
      "  (1, 4)\t0.2644512224141842\n",
      "  (1, 14)\t0.3995396830595886\n",
      "  (2, 7)\t0.4838025881780501\n",
      "  (2, 15)\t0.4838025881780501\n",
      "  (2, 8)\t0.4838025881780501\n",
      "  (2, 10)\t0.4838025881780501\n",
      "  (2, 4)\t0.25246826075544676\n",
      "  (3, 1)\t0.506765426545092\n",
      "  (3, 0)\t0.506765426545092\n",
      "  (3, 5)\t0.506765426545092\n",
      "  (3, 11)\t0.3995396830595886\n",
      "  (3, 4)\t0.2644512224141842\n"
     ]
    }
   ],
   "source": [
    "# here is a small example about TfidfVectorizer\n",
    "from sklearn.feature_extraction.text import TfidfVectorizer\n",
    "corpus = [\n",
    "    \"what is the weather like today\",\n",
    "    \"what is for dinner tonight\",\n",
    "    \"this is a question worth pondering\",\n",
    "    \"it is a beautiful day today\"\n",
    "]\n",
    " \n",
    "tfidf_vec = TfidfVectorizer()\n",
    "tfidf_matrix = tfidf_vec.fit_transform(corpus)\n",
    " \n",
    "# print all features\n",
    "print(tfidf_vec.get_feature_names())\n",
    " \n",
    "# print features and its id\n",
    "print(tfidf_vec.vocabulary_)\n",
    " \n",
    "# print tf-idf matrix\n",
    "print(tfidf_matrix)"
   ]
  },
  {
   "cell_type": "markdown",
   "metadata": {},
   "source": [
    "Apply tf-idf algorithm to article"
   ]
  },
  {
   "cell_type": "code",
   "execution_count": 60,
   "metadata": {},
   "outputs": [],
   "source": [
    "#extract all verbs and nonus from article\n",
    "verbs,nonus = collect_verbs_nonus(df.article[0])"
   ]
  },
  {
   "cell_type": "code",
   "execution_count": 61,
   "metadata": {},
   "outputs": [],
   "source": [
    "# get the tfidf matrix\n",
    "tfidf_vec = TfidfVectorizer()\n",
    "tfidf_matrix = tfidf_vec.fit_transform(sentences)"
   ]
  },
  {
   "cell_type": "code",
   "execution_count": 62,
   "metadata": {},
   "outputs": [
    {
     "data": {
      "text/plain": [
       "{'the': 4365,\n",
       " 'time': 4433,\n",
       " 'traveller': 4496,\n",
       " 'for': 1721,\n",
       " 'so': 4000,\n",
       " 'it': 2375,\n",
       " 'will': 4841,\n",
       " 'be': 363,\n",
       " 'convenient': 869,\n",
       " 'to': 4444,\n",
       " 'speak': 4047,\n",
       " 'of': 2958,\n",
       " 'him': 2088,\n",
       " 'was': 4751,\n",
       " 'expounding': 1508,\n",
       " 'recondite': 3483,\n",
       " 'matter': 2673,\n",
       " 'us': 4634,\n",
       " 'his': 2092,\n",
       " 'grey': 1932,\n",
       " 'eyes': 1526,\n",
       " 'shone': 3854,\n",
       " 'and': 172,\n",
       " 'twinkled': 4554,\n",
       " 'usually': 4642,\n",
       " 'pale': 3064,\n",
       " 'face': 1530,\n",
       " 'flushed': 1695,\n",
       " 'animated': 184,\n",
       " 'fire': 1635,\n",
       " 'burned': 535,\n",
       " 'brightly': 505,\n",
       " 'soft': 4006,\n",
       " 'radiance': 3419,\n",
       " 'incandescent': 2221,\n",
       " 'lights': 2545,\n",
       " 'in': 2213,\n",
       " 'lilies': 2550,\n",
       " 'silver': 3905,\n",
       " 'caught': 611,\n",
       " 'bubbles': 527,\n",
       " 'that': 4364,\n",
       " 'flashed': 1665,\n",
       " 'passed': 3101,\n",
       " 'our': 3014,\n",
       " 'glasses': 1874,\n",
       " 'chairs': 632,\n",
       " 'being': 397,\n",
       " 'patents': 3107,\n",
       " 'embraced': 1376,\n",
       " 'caressed': 585,\n",
       " 'rather': 3439,\n",
       " 'than': 4362,\n",
       " 'submitted': 4216,\n",
       " 'sat': 3699,\n",
       " 'upon': 4627,\n",
       " 'there': 4374,\n",
       " 'luxurious': 2618,\n",
       " 'after': 99,\n",
       " 'dinner': 1151,\n",
       " 'atmosphere': 297,\n",
       " 'when': 4805,\n",
       " 'thought': 4400,\n",
       " 'roams': 3644,\n",
       " 'gracefully': 1902,\n",
       " 'free': 1768,\n",
       " 'trammels': 4479,\n",
       " 'precision': 3274,\n",
       " 'he': 2031,\n",
       " 'put': 3393,\n",
       " 'this': 4396,\n",
       " 'way': 4769,\n",
       " 'marking': 2655,\n",
       " 'points': 3236,\n",
       " 'with': 4856,\n",
       " 'lean': 2487,\n",
       " 'forefinger': 1728,\n",
       " 'as': 269,\n",
       " 'we': 4771,\n",
       " 'lazily': 2481,\n",
       " 'admired': 79,\n",
       " 'earnestness': 1311,\n",
       " 'over': 3026,\n",
       " 'new': 2875,\n",
       " 'paradox': 3079,\n",
       " 'fecundity': 1584,\n",
       " 'you': 4927,\n",
       " 'must': 2822,\n",
       " 'follow': 1702,\n",
       " 'me': 2679,\n",
       " 'carefully': 584,\n",
       " 'shall': 3820,\n",
       " 'have': 2024,\n",
       " 'controvert': 867,\n",
       " 'one': 2973,\n",
       " 'or': 2996,\n",
       " 'two': 4557,\n",
       " 'ideas': 2168,\n",
       " 'are': 243,\n",
       " 'almost': 132,\n",
       " 'universally': 4600,\n",
       " 'accepted': 46,\n",
       " 'geometry': 1843,\n",
       " 'instance': 2305,\n",
       " 'they': 4381,\n",
       " 'taught': 4327,\n",
       " 'at': 296,\n",
       " 'school': 3726,\n",
       " 'is': 2372,\n",
       " 'founded': 1752,\n",
       " 'on': 2971,\n",
       " 'misconception': 2746,\n",
       " 'not': 2908,\n",
       " 'large': 2461,\n",
       " 'thing': 4387,\n",
       " 'expect': 1480,\n",
       " 'begin': 386,\n",
       " 'said': 3690,\n",
       " 'filby': 1619,\n",
       " 'an': 166,\n",
       " 'argumentative': 248,\n",
       " 'person': 3159,\n",
       " 'red': 3490,\n",
       " 'hair': 1981,\n",
       " 'do': 1219,\n",
       " 'mean': 2681,\n",
       " 'ask': 274,\n",
       " 'accept': 45,\n",
       " 'anything': 200,\n",
       " 'without': 4862,\n",
       " 'reasonable': 3465,\n",
       " 'ground': 1951,\n",
       " 'soon': 4029,\n",
       " 'admit': 80,\n",
       " 'much': 2811,\n",
       " 'need': 2857,\n",
       " 'from': 1792,\n",
       " 'know': 2432,\n",
       " 'course': 908,\n",
       " 'mathematical': 2671,\n",
       " 'line': 2559,\n",
       " 'thickness': 4385,\n",
       " 'nil': 2885,\n",
       " 'has': 2014,\n",
       " 'no': 2891,\n",
       " 'real': 3455,\n",
       " 'existence': 1475,\n",
       " 'neither': 2864,\n",
       " 'plane': 3206,\n",
       " 'these': 4380,\n",
       " 'things': 4388,\n",
       " 'mere': 2706,\n",
       " 'abstractions': 36,\n",
       " 'all': 128,\n",
       " 'right': 3629,\n",
       " 'psychologist': 3367,\n",
       " 'nor': 2904,\n",
       " 'having': 2026,\n",
       " 'only': 2976,\n",
       " 'length': 2509,\n",
       " 'breadth': 490,\n",
       " 'can': 567,\n",
       " 'cube': 957,\n",
       " 'object': 2928,\n",
       " 'solid': 4014,\n",
       " 'body': 469,\n",
       " 'may': 2677,\n",
       " 'exist': 1474,\n",
       " 'most': 2794,\n",
       " 'people': 3134,\n",
       " 'think': 4389,\n",
       " 'but': 545,\n",
       " 'wait': 4727,\n",
       " 'moment': 2770,\n",
       " 'instantaneous': 2308,\n",
       " 'don': 1227,\n",
       " 'does': 1221,\n",
       " 'last': 2466,\n",
       " 'any': 197,\n",
       " 'became': 376,\n",
       " 'pensive': 3133,\n",
       " 'clearly': 717,\n",
       " 'proceeded': 3316,\n",
       " 'extension': 1512,\n",
       " 'four': 1753,\n",
       " 'directions': 1155,\n",
       " 'duration': 1294,\n",
       " 'through': 4415,\n",
       " 'natural': 2842,\n",
       " 'infirmity': 2276,\n",
       " 'flesh': 1671,\n",
       " 'which': 4811,\n",
       " 'explain': 1491,\n",
       " 'incline': 2228,\n",
       " 'overlook': 3034,\n",
       " 'fact': 1537,\n",
       " 'really': 3462,\n",
       " 'dimensions': 1142,\n",
       " 'three': 4409,\n",
       " 'call': 558,\n",
       " 'planes': 3207,\n",
       " 'space': 4043,\n",
       " 'fourth': 1755,\n",
       " 'however': 2136,\n",
       " 'tendency': 4345,\n",
       " 'draw': 1259,\n",
       " 'unreal': 4613,\n",
       " 'distinction': 1205,\n",
       " 'between': 415,\n",
       " 'former': 1738,\n",
       " 'latter': 2470,\n",
       " 'because': 377,\n",
       " 'happens': 2001,\n",
       " 'consciousness': 830,\n",
       " 'moves': 2807,\n",
       " 'intermittently': 2332,\n",
       " 'direction': 1154,\n",
       " 'along': 135,\n",
       " 'beginning': 387,\n",
       " 'end': 1389,\n",
       " 'lives': 2575,\n",
       " 'very': 4687,\n",
       " 'young': 4928,\n",
       " 'man': 2642,\n",
       " 'making': 2636,\n",
       " 'spasmodic': 4046,\n",
       " 'efforts': 1351,\n",
       " 'relight': 3526,\n",
       " 'cigar': 689,\n",
       " 'lamp': 2453,\n",
       " 'clear': 714,\n",
       " 'indeed': 2246,\n",
       " 'now': 2922,\n",
       " 'remarkable': 3534,\n",
       " 'extensively': 1514,\n",
       " 'overlooked': 3035,\n",
       " 'continued': 856,\n",
       " 'slight': 3953,\n",
       " 'accession': 51,\n",
       " 'cheerfulness': 661,\n",
       " 'what': 4801,\n",
       " 'meant': 2684,\n",
       " 'by': 550,\n",
       " 'dimension': 1139,\n",
       " 'though': 4399,\n",
       " 'some': 4021,\n",
       " 'who': 4826,\n",
       " 'talk': 4317,\n",
       " 'about': 26,\n",
       " 'another': 186,\n",
       " 'looking': 2593,\n",
       " 'difference': 1127,\n",
       " 'except': 1454,\n",
       " 'foolish': 1710,\n",
       " 'got': 1899,\n",
       " 'hold': 2100,\n",
       " 'wrong': 4909,\n",
       " 'side': 3887,\n",
       " 'idea': 2165,\n",
       " 'heard': 2043,\n",
       " 'say': 3710,\n",
       " 'provincial': 3364,\n",
       " 'mayor': 2678,\n",
       " 'simply': 3913,\n",
       " 'mathematicians': 2672,\n",
       " 'spoken': 4083,\n",
       " 'always': 147,\n",
       " 'definable': 1047,\n",
       " 'reference': 3499,\n",
       " 'each': 1305,\n",
       " 'angles': 179,\n",
       " 'others': 3013,\n",
       " 'philosophical': 3170,\n",
       " 'been': 383,\n",
       " 'asking': 277,\n",
       " 'why': 4832,\n",
       " 'particularly': 3095,\n",
       " 'other': 3012,\n",
       " 'even': 1431,\n",
       " 'tried': 4514,\n",
       " 'construct': 844,\n",
       " 'professor': 3326,\n",
       " 'simon': 3909,\n",
       " 'newcomb': 2877,\n",
       " 'york': 4926,\n",
       " 'society': 4004,\n",
       " 'month': 2778,\n",
       " 'ago': 110,\n",
       " 'how': 2135,\n",
       " 'flat': 1666,\n",
       " 'surface': 4267,\n",
       " 'represent': 3563,\n",
       " 'figure': 1617,\n",
       " 'dimensional': 1140,\n",
       " 'similarly': 3908,\n",
       " 'models': 2762,\n",
       " 'could': 900,\n",
       " 'if': 2172,\n",
       " 'master': 2663,\n",
       " 'perspective': 3160,\n",
       " 'see': 3761,\n",
       " 'murmured': 2818,\n",
       " 'knitting': 2430,\n",
       " 'brows': 523,\n",
       " 'lapsed': 2460,\n",
       " 'into': 2351,\n",
       " 'introspective': 2355,\n",
       " 'state': 4123,\n",
       " 'lips': 2565,\n",
       " 'moving': 2808,\n",
       " 'repeats': 3556,\n",
       " 'mystic': 2831,\n",
       " 'words': 4881,\n",
       " 'yes': 4920,\n",
       " 'brightening': 503,\n",
       " 'quite': 3415,\n",
       " 'transitory': 4487,\n",
       " 'manner': 2647,\n",
       " 'well': 4793,\n",
       " 'mind': 2732,\n",
       " 'telling': 4336,\n",
       " 'work': 4883,\n",
       " 'my': 2826,\n",
       " 'results': 3595,\n",
       " 'curious': 966,\n",
       " 'here': 2066,\n",
       " 'portrait': 3249,\n",
       " 'eight': 1354,\n",
       " 'years': 4918,\n",
       " 'old': 2969,\n",
       " 'fifteen': 1611,\n",
       " 'seventeen': 3806,\n",
       " 'twenty': 4549,\n",
       " 'evidently': 1443,\n",
       " 'sections': 3757,\n",
       " 'were': 4797,\n",
       " 'representations': 3564,\n",
       " 'dimensioned': 1141,\n",
       " 'fixed': 1651,\n",
       " 'unalterable': 4567,\n",
       " 'scientific': 3729,\n",
       " 'pause': 3114,\n",
       " 'required': 3571,\n",
       " 'proper': 3348,\n",
       " 'assimilation': 285,\n",
       " 'kind': 2419,\n",
       " 'popular': 3242,\n",
       " 'diagram': 1119,\n",
       " 'weather': 4782,\n",
       " 'record': 3484,\n",
       " 'trace': 4470,\n",
       " 'finger': 1630,\n",
       " 'shows': 3871,\n",
       " 'movement': 2805,\n",
       " 'barometer': 349,\n",
       " 'yesterday': 4921,\n",
       " 'high': 2078,\n",
       " 'night': 2882,\n",
       " 'fell': 1596,\n",
       " 'then': 4370,\n",
       " 'morning': 2790,\n",
       " 'rose': 3657,\n",
       " 'again': 102,\n",
       " 'gently': 1840,\n",
       " 'upward': 4632,\n",
       " 'surely': 4265,\n",
       " 'mercury': 2705,\n",
       " 'did': 1122,\n",
       " 'generally': 1835,\n",
       " 'recognized': 3482,\n",
       " 'certainly': 628,\n",
       " 'traced': 4471,\n",
       " 'such': 4232,\n",
       " 'therefore': 4376,\n",
       " 'conclude': 808,\n",
       " 'medical': 2690,\n",
       " 'staring': 4111,\n",
       " 'hard': 2004,\n",
       " 'coal': 748,\n",
       " 'regarded': 3514,\n",
       " 'something': 4024,\n",
       " 'different': 1129,\n",
       " 'cannot': 573,\n",
       " 'move': 2803,\n",
       " 'smiled': 3985,\n",
       " 'sure': 4264,\n",
       " 'freely': 1770,\n",
       " 'left': 2501,\n",
       " 'go': 1891,\n",
       " 'backward': 332,\n",
       " 'forward': 1745,\n",
       " 'enough': 1406,\n",
       " 'men': 2702,\n",
       " 'done': 1231,\n",
       " 'up': 4625,\n",
       " 'down': 1242,\n",
       " 'gravitation': 1918,\n",
       " 'limits': 2555,\n",
       " 'exactly': 1447,\n",
       " 'balloons': 339,\n",
       " 'before': 384,\n",
       " 'save': 3706,\n",
       " 'jumping': 2401,\n",
       " 'inequalities': 2268,\n",
       " 'had': 1976,\n",
       " 'freedom': 1769,\n",
       " 'vertical': 4685,\n",
       " 'still': 4146,\n",
       " 'little': 2571,\n",
       " 'easier': 1316,\n",
       " 'far': 1562,\n",
       " 'get': 1850,\n",
       " 'away': 323,\n",
       " 'present': 3285,\n",
       " 'dear': 1017,\n",
       " 'sir': 3921,\n",
       " 'just': 2403,\n",
       " 'where': 4808,\n",
       " 'whole': 4827,\n",
       " 'world': 4891,\n",
       " 'gone': 1897,\n",
       " 'getting': 1852,\n",
       " 'mental': 2703,\n",
       " 'existences': 1476,\n",
       " 'immaterial': 2184,\n",
       " 'passing': 3102,\n",
       " 'uniform': 4596,\n",
       " 'velocity': 4673,\n",
       " 'cradle': 918,\n",
       " 'grave': 1917,\n",
       " 'should': 3860,\n",
       " 'travel': 4494,\n",
       " 'began': 385,\n",
       " 'fifty': 1613,\n",
       " 'miles': 2726,\n",
       " 'above': 27,\n",
       " 'earth': 1313,\n",
       " 'great': 1921,\n",
       " 'difficulty': 1135,\n",
       " 'interrupted': 2342,\n",
       " 'germ': 1845,\n",
       " 'discovery': 1180,\n",
       " 'am': 148,\n",
       " 'recalling': 3472,\n",
       " 'incident': 2225,\n",
       " 'vividly': 4715,\n",
       " 'back': 329,\n",
       " 'instant': 2307,\n",
       " 'its': 2376,\n",
       " 'occurrence': 2950,\n",
       " 'become': 379,\n",
       " 'absent': 30,\n",
       " 'minded': 2733,\n",
       " 'jump': 2399,\n",
       " 'means': 2683,\n",
       " 'staying': 4133,\n",
       " 'more': 2786,\n",
       " 'savage': 3704,\n",
       " 'animal': 182,\n",
       " 'six': 3928,\n",
       " 'feet': 1595,\n",
       " 'civilized': 698,\n",
       " 'better': 414,\n",
       " 'off': 2959,\n",
       " 'respect': 3581,\n",
       " 'against': 103,\n",
       " 'balloon': 338,\n",
       " 'hope': 2109,\n",
       " 'ultimately': 4563,\n",
       " 'able': 22,\n",
       " 'stop': 4159,\n",
       " 'accelerate': 44,\n",
       " 'drift': 1275,\n",
       " 'turn': 4545,\n",
       " 'oh': 2965,\n",
       " 'reason': 3464,\n",
       " 'show': 3865,\n",
       " 'black': 431,\n",
       " 'white': 4823,\n",
       " 'argument': 247,\n",
       " 'never': 2873,\n",
       " 'convince': 878,\n",
       " 'possibly': 3256,\n",
       " 'investigations': 2364,\n",
       " 'long': 2587,\n",
       " 'vague': 4650,\n",
       " 'inkling': 2288,\n",
       " 'machine': 2621,\n",
       " 'exclaimed': 1460,\n",
       " 'indifferently': 2258,\n",
       " 'driver': 1279,\n",
       " 'determines': 1108,\n",
       " 'contented': 853,\n",
       " 'himself': 2089,\n",
       " 'laughter': 2475,\n",
       " 'experimental': 1490,\n",
       " 'verification': 4680,\n",
       " 'would': 4897,\n",
       " 'remarkably': 3535,\n",
       " 'historian': 2094,\n",
       " 'suggested': 4242,\n",
       " 'might': 2723,\n",
       " 'verify': 4681,\n",
       " 'account': 56,\n",
       " 'battle': 360,\n",
       " 'hastings': 2016,\n",
       " 'attract': 312,\n",
       " 'attention': 308,\n",
       " 'ancestors': 169,\n",
       " 'tolerance': 4451,\n",
       " 'anachronisms': 168,\n",
       " 'greek': 1926,\n",
       " 'homer': 2107,\n",
       " 'plato': 3213,\n",
       " 'case': 602,\n",
       " 'plough': 3227,\n",
       " 'german': 1846,\n",
       " 'scholars': 3725,\n",
       " 'improved': 2211,\n",
       " 'future': 1812,\n",
       " 'invest': 2363,\n",
       " 'money': 2772,\n",
       " 'leave': 2497,\n",
       " 'accumulate': 57,\n",
       " 'interest': 2325,\n",
       " 'hurry': 2155,\n",
       " 'ahead': 117,\n",
       " 'discover': 1177,\n",
       " 'erected': 1419,\n",
       " 'strictly': 4189,\n",
       " 'communistic': 781,\n",
       " 'basis': 354,\n",
       " 'wild': 4838,\n",
       " 'extravagant': 1518,\n",
       " 'theories': 4371,\n",
       " 'seemed': 3766,\n",
       " 'talked': 4318,\n",
       " 'until': 4623,\n",
       " 'cried': 940,\n",
       " 'going': 1894,\n",
       " 'experiment': 1489,\n",
       " 'brain': 486,\n",
       " 'weary': 4781,\n",
       " 'let': 2515,\n",
       " 'your': 4930,\n",
       " 'anyhow': 198,\n",
       " 'humbug': 2144,\n",
       " 'round': 3663,\n",
       " 'smiling': 3987,\n",
       " 'faintly': 1548,\n",
       " 'hands': 1996,\n",
       " 'deep': 1034,\n",
       " 'trousers': 4525,\n",
       " 'pockets': 3231,\n",
       " 'walked': 4730,\n",
       " 'slowly': 3972,\n",
       " 'out': 3017,\n",
       " 'room': 3655,\n",
       " 'slippers': 3958,\n",
       " 'shuffling': 3880,\n",
       " 'passage': 3100,\n",
       " 'laboratory': 2439,\n",
       " 'looked': 2592,\n",
       " 'wonder': 4868,\n",
       " 'sleight': 3948,\n",
       " 'hand': 1993,\n",
       " 'trick': 4509,\n",
       " 'tell': 4335,\n",
       " 'conjurer': 825,\n",
       " 'seen': 3769,\n",
       " 'burslem': 539,\n",
       " 'finished': 1634,\n",
       " 'preface': 3276,\n",
       " 'came': 564,\n",
       " 'anecdote': 173,\n",
       " 'collapsed': 754,\n",
       " 'held': 2056,\n",
       " 'glittering': 1884,\n",
       " 'metallic': 2713,\n",
       " 'framework': 1763,\n",
       " 'scarcely': 3717,\n",
       " 'larger': 2463,\n",
       " 'small': 3976,\n",
       " 'clock': 729,\n",
       " 'delicately': 1056,\n",
       " 'made': 2625,\n",
       " 'ivory': 2379,\n",
       " 'transparent': 4489,\n",
       " 'crystalline': 956,\n",
       " 'substance': 4219,\n",
       " 'explicit': 1494,\n",
       " 'follows': 1705,\n",
       " 'unless': 4603,\n",
       " 'explanation': 1493,\n",
       " 'absolutely': 32,\n",
       " 'unaccountable': 4565,\n",
       " 'took': 4456,\n",
       " 'octagonal': 2952,\n",
       " 'tables': 4310,\n",
       " 'scattered': 3720,\n",
       " 'set': 3801,\n",
       " 'front': 1793,\n",
       " 'legs': 2504,\n",
       " 'hearthrug': 2046,\n",
       " 'table': 4308,\n",
       " 'placed': 3200,\n",
       " 'mechanism': 2688,\n",
       " 'drew': 1273,\n",
       " 'chair': 631,\n",
       " 'shaded': 3809,\n",
       " 'bright': 502,\n",
       " 'light': 2539,\n",
       " 'model': 2761,\n",
       " 'also': 138,\n",
       " 'perhaps': 3147,\n",
       " 'dozen': 1248,\n",
       " 'candles': 570,\n",
       " 'brass': 488,\n",
       " 'candlesticks': 571,\n",
       " 'mantel': 2649,\n",
       " 'several': 3807,\n",
       " 'sconces': 3732,\n",
       " 'brilliantly': 508,\n",
       " 'illuminated': 2177,\n",
       " 'low': 2605,\n",
       " 'arm': 252,\n",
       " 'nearest': 2849,\n",
       " 'fireplace': 1636,\n",
       " 'behind': 395,\n",
       " 'shoulder': 3861,\n",
       " 'watched': 4758,\n",
       " 'profile': 3327,\n",
       " 'stood': 4156,\n",
       " 'alert': 124,\n",
       " 'appears': 221,\n",
       " 'incredible': 2241,\n",
       " 'subtly': 4226,\n",
       " 'conceived': 803,\n",
       " 'adroitly': 83,\n",
       " 'played': 3217,\n",
       " 'under': 4577,\n",
       " 'conditions': 814,\n",
       " 'affair': 92,\n",
       " 'resting': 3585,\n",
       " 'elbows': 1363,\n",
       " 'pressing': 3294,\n",
       " 'together': 4446,\n",
       " 'apparatus': 212,\n",
       " 'plan': 3205,\n",
       " 'notice': 2914,\n",
       " 'looks': 2594,\n",
       " 'singularly': 3919,\n",
       " 'askew': 276,\n",
       " 'odd': 2953,\n",
       " 'twinkling': 4555,\n",
       " 'appearance': 217,\n",
       " 'bar': 346,\n",
       " 'pointed': 3234,\n",
       " 'part': 3091,\n",
       " 'lever': 2519,\n",
       " 'peered': 3129,\n",
       " 'beautifully': 374,\n",
       " 'make': 2633,\n",
       " 'retorted': 3600,\n",
       " 'imitated': 2182,\n",
       " 'action': 62,\n",
       " 'want': 4742,\n",
       " 'understand': 4579,\n",
       " 'pressed': 3293,\n",
       " 'sends': 3779,\n",
       " 'gliding': 1880,\n",
       " 'reverses': 3611,\n",
       " 'motion': 2796,\n",
       " 'saddle': 3686,\n",
       " 'represents': 3565,\n",
       " 'seat': 3751,\n",
       " 'presently': 3288,\n",
       " 'press': 3292,\n",
       " 'vanish': 4657,\n",
       " 'pass': 3099,\n",
       " 'disappear': 1161,\n",
       " 'good': 1898,\n",
       " 'look': 2591,\n",
       " 'too': 4455,\n",
       " 'satisfy': 3702,\n",
       " 'yourselves': 4931,\n",
       " 'trickery': 4511,\n",
       " 'waste': 4754,\n",
       " 'told': 4449,\n",
       " 'quack': 3400,\n",
       " 'minute': 2742,\n",
       " 'changed': 639,\n",
       " 'forth': 1741,\n",
       " 'towards': 4466,\n",
       " 'suddenly': 4235,\n",
       " 'lend': 2508,\n",
       " 'turning': 4547,\n",
       " 'individual': 2263,\n",
       " 'own': 3046,\n",
       " 'sent': 3787,\n",
       " 'interminable': 2329,\n",
       " 'voyage': 4723,\n",
       " 'saw': 3708,\n",
       " 'certain': 627,\n",
       " 'breath': 494,\n",
       " 'wind': 4844,\n",
       " 'flame': 1656,\n",
       " 'jumped': 2400,\n",
       " 'blown': 460,\n",
       " 'swung': 4303,\n",
       " 'indistinct': 2261,\n",
       " 'ghost': 1854,\n",
       " 'second': 3753,\n",
       " 'eddy': 1337,\n",
       " 'vanished': 4658,\n",
       " 'bare': 347,\n",
       " 'everyone': 1437,\n",
       " 'silent': 3900,\n",
       " 'damned': 984,\n",
       " 'recovered': 3488,\n",
       " 'stupor': 4212,\n",
       " 'laughed': 2472,\n",
       " 'cheerfully': 660,\n",
       " 'reminiscence': 3544,\n",
       " 'went': 4796,\n",
       " 'tobacco': 4445,\n",
       " 'jar': 2383,\n",
       " 'fill': 1623,\n",
       " 'pipe': 3190,\n",
       " 'stared': 4110,\n",
       " 'earnest': 1310,\n",
       " 'seriously': 3796,\n",
       " 'believe': 401,\n",
       " 'travelled': 4495,\n",
       " 'stooping': 4158,\n",
       " 'spill': 4072,\n",
       " 'turned': 4546,\n",
       " 'lighting': 2543,\n",
       " 'unhinged': 4595,\n",
       " 'helped': 2058,\n",
       " 'uncut': 4575,\n",
       " 'big': 418,\n",
       " 'nearly': 2850,\n",
       " 'indicated': 2254,\n",
       " 'journey': 2393,\n",
       " 'past': 3105,\n",
       " 'interval': 2345,\n",
       " 'inspiration': 2302,\n",
       " 'anywhere': 201,\n",
       " 'presume': 3295,\n",
       " 'moved': 2804,\n",
       " 'since': 3914,\n",
       " 'visible': 4707,\n",
       " 'first': 1640,\n",
       " 'thursday': 4424,\n",
       " 'serious': 3795,\n",
       " 'objections': 2929,\n",
       " 'remarked': 3536,\n",
       " 'air': 119,\n",
       " 'impartiality': 2191,\n",
       " 'bit': 426,\n",
       " 'presentation': 3286,\n",
       " 'below': 406,\n",
       " 'threshold': 4410,\n",
       " 'diluted': 1137,\n",
       " 'reassured': 3468,\n",
       " 'simple': 3910,\n",
       " 'point': 3233,\n",
       " 'psychology': 3368,\n",
       " 'plain': 3202,\n",
       " 'helps': 2062,\n",
       " 'delightfully': 1061,\n",
       " 'appreciate': 228,\n",
       " 'spoke': 4082,\n",
       " 'wheel': 4804,\n",
       " 'spinning': 4073,\n",
       " 'bullet': 533,\n",
       " 'flying': 1698,\n",
       " 'travelling': 4497,\n",
       " 'times': 4435,\n",
       " 'hundred': 2146,\n",
       " 'faster': 1566,\n",
       " 'gets': 1851,\n",
       " 'while': 4812,\n",
       " 'impression': 2207,\n",
       " 'creates': 926,\n",
       " 'fiftieth': 1612,\n",
       " 'hundredth': 2148,\n",
       " 'laughing': 2473,\n",
       " 'vacant': 4649,\n",
       " 'asked': 275,\n",
       " 'sounds': 4039,\n",
       " 'plausible': 3215,\n",
       " 'morrow': 2791,\n",
       " 'common': 777,\n",
       " 'sense': 3782,\n",
       " 'like': 2547,\n",
       " 'itself': 2377,\n",
       " 'therewith': 4379,\n",
       " 'taking': 4315,\n",
       " 'led': 2500,\n",
       " 'draughty': 1258,\n",
       " 'corridor': 892,\n",
       " 'remember': 3539,\n",
       " 'flickering': 1675,\n",
       " 'queer': 3407,\n",
       " 'broad': 512,\n",
       " 'head': 2032,\n",
       " 'silhouette': 3902,\n",
       " 'dance': 986,\n",
       " 'shadows': 3811,\n",
       " 'followed': 1703,\n",
       " 'puzzled': 3397,\n",
       " 'incredulous': 2244,\n",
       " 'beheld': 394,\n",
       " 'edition': 1341,\n",
       " 'parts': 3097,\n",
       " 'nickel': 2880,\n",
       " 'filed': 1621,\n",
       " 'sawn': 3709,\n",
       " 'rock': 3648,\n",
       " 'crystal': 955,\n",
       " 'complete': 788,\n",
       " 'twisted': 4556,\n",
       " 'bars': 351,\n",
       " 'lay': 2479,\n",
       " 'unfinished': 4590,\n",
       " 'bench': 408,\n",
       " 'beside': 411,\n",
       " 'sheets': 3838,\n",
       " 'drawings': 1261,\n",
       " 'quartz': 3406,\n",
       " 'perfectly': 3141,\n",
       " 'showed': 3866,\n",
       " 'christmas': 685,\n",
       " 'holding': 2102,\n",
       " 'aloft': 133,\n",
       " 'intend': 2319,\n",
       " 'explore': 1497,\n",
       " 'life': 2534,\n",
       " 'none': 2901,\n",
       " 'knew': 2428,\n",
       " 'take': 4312,\n",
       " 'eye': 1523,\n",
       " 'winked': 4850,\n",
       " 'solemnly': 4011,\n",
       " 'ii': 2174,\n",
       " 'believed': 402,\n",
       " 'those': 4398,\n",
       " 'clever': 719,\n",
       " 'felt': 1598,\n",
       " 'suspected': 4281,\n",
       " 'subtle': 4225,\n",
       " 'reserve': 3576,\n",
       " 'ingenuity': 2283,\n",
       " 'ambush': 155,\n",
       " 'lucid': 2609,\n",
       " 'frankness': 1765,\n",
       " 'shown': 3870,\n",
       " 'explained': 1492,\n",
       " 'less': 2511,\n",
       " 'scepticism': 3722,\n",
       " 'perceived': 3137,\n",
       " 'motives': 2798,\n",
       " 'pork': 3245,\n",
       " 'butcher': 546,\n",
       " 'touch': 4463,\n",
       " 'whim': 4814,\n",
       " 'among': 160,\n",
       " 'elements': 1369,\n",
       " 'distrusted': 1217,\n",
       " 'frame': 1760,\n",
       " 'tricks': 4513,\n",
       " 'mistake': 2753,\n",
       " 'easily': 1317,\n",
       " 'deportment': 1072,\n",
       " 'somehow': 4022,\n",
       " 'aware': 322,\n",
       " 'trusting': 4529,\n",
       " 'their': 4366,\n",
       " 'reputations': 3568,\n",
       " 'judgment': 2398,\n",
       " 'furnishing': 1806,\n",
       " 'nursery': 2926,\n",
       " 'egg': 1352,\n",
       " 'shell': 3839,\n",
       " 'china': 677,\n",
       " 'next': 2879,\n",
       " 'potentialities': 3260,\n",
       " 'ran': 3429,\n",
       " 'doubt': 1238,\n",
       " 'minds': 2734,\n",
       " 'plausibility': 3214,\n",
       " 'practical': 3269,\n",
       " 'incredibleness': 2242,\n",
       " 'possibilities': 3253,\n",
       " 'anachronism': 167,\n",
       " 'utter': 4648,\n",
       " 'confusion': 824,\n",
       " 'preoccupied': 3280,\n",
       " 'discussing': 1183,\n",
       " 'whom': 4829,\n",
       " 'met': 2711,\n",
       " 'friday': 1780,\n",
       " 'linnaean': 2564,\n",
       " 'similar': 3907,\n",
       " 'tubingen': 4532,\n",
       " 'laid': 2448,\n",
       " 'considerable': 836,\n",
       " 'stress': 4184,\n",
       " 'blowing': 459,\n",
       " 'candle': 569,\n",
       " 'richmond': 3624,\n",
       " 'suppose': 4260,\n",
       " 'constant': 839,\n",
       " 'guests': 1962,\n",
       " 'arriving': 262,\n",
       " 'late': 2468,\n",
       " 'found': 1750,\n",
       " 'five': 1649,\n",
       " 'already': 137,\n",
       " 'assembled': 283,\n",
       " 'drawing': 1260,\n",
       " 'standing': 4105,\n",
       " 'sheet': 3837,\n",
       " 'paper': 3075,\n",
       " 'watch': 4757,\n",
       " 'half': 1985,\n",
       " 'seven': 3805,\n",
       " 'naming': 2836,\n",
       " 'host': 2124,\n",
       " 've': 4668,\n",
       " 'come': 766,\n",
       " 'unavoidably': 4569,\n",
       " 'detained': 1104,\n",
       " 'asks': 278,\n",
       " 'note': 2909,\n",
       " 'lead': 2482,\n",
       " 'says': 3712,\n",
       " 'll': 2578,\n",
       " 'comes': 767,\n",
       " 'seems': 3768,\n",
       " 'pity': 3198,\n",
       " 'spoil': 4081,\n",
       " 'editor': 1343,\n",
       " 'known': 2435,\n",
       " 'daily': 979,\n",
       " 'thereupon': 4378,\n",
       " 'doctor': 1220,\n",
       " 'rang': 3430,\n",
       " 'bell': 403,\n",
       " 'besides': 412,\n",
       " 'myself': 2827,\n",
       " 'attended': 307,\n",
       " 'previous': 3303,\n",
       " 'blank': 436,\n",
       " 'aforementioned': 96,\n",
       " 'journalist': 2392,\n",
       " 'quiet': 3413,\n",
       " 'shy': 3882,\n",
       " 'beard': 365,\n",
       " 'didn': 1123,\n",
       " 'observation': 2935,\n",
       " 'opened': 2981,\n",
       " 'mouth': 2801,\n",
       " 'evening': 1432,\n",
       " 'speculation': 4061,\n",
       " 'absence': 29,\n",
       " 'jocular': 2389,\n",
       " 'spirit': 4074,\n",
       " 'wanted': 4743,\n",
       " 'volunteered': 4721,\n",
       " 'wooden': 4877,\n",
       " 'ingenious': 2282,\n",
       " 'witnessed': 4864,\n",
       " 'day': 1007,\n",
       " 'week': 4787,\n",
       " 'midst': 2721,\n",
       " 'exposition': 1506,\n",
       " 'door': 1233,\n",
       " 'noise': 2896,\n",
       " 'facing': 1536,\n",
       " 'hallo': 1988,\n",
       " 'wider': 4835,\n",
       " 'gave': 1830,\n",
       " 'cry': 953,\n",
       " 'surprise': 4270,\n",
       " 'heavens': 2048,\n",
       " 'tableful': 4309,\n",
       " 'amazing': 153,\n",
       " 'plight': 3226,\n",
       " 'coat': 749,\n",
       " 'dusty': 1298,\n",
       " 'dirty': 1159,\n",
       " 'smeared': 3980,\n",
       " 'green': 1927,\n",
       " 'sleeves': 3947,\n",
       " 'disordered': 1196,\n",
       " 'greyer': 1933,\n",
       " 'either': 1357,\n",
       " ...}"
      ]
     },
     "execution_count": 62,
     "metadata": {},
     "output_type": "execute_result"
    }
   ],
   "source": [
    "# word and index\n",
    "features = tfidf_vec.vocabulary_\n",
    "features"
   ]
  },
  {
   "cell_type": "code",
   "execution_count": 63,
   "metadata": {},
   "outputs": [
    {
     "data": {
      "text/plain": [
       "(2014, 4936)"
      ]
     },
     "execution_count": 63,
     "metadata": {},
     "output_type": "execute_result"
    }
   ],
   "source": [
    "# The tfidf_matrix is a sparse matrix, convert it to dense matrix\n",
    "dense_matrix = tfidf_matrix.todense()\n",
    "dense_matrix.shape"
   ]
  },
  {
   "cell_type": "code",
   "execution_count": 64,
   "metadata": {},
   "outputs": [
    {
     "data": {
      "text/plain": [
       "array([[0.32089585, 0.23560016, 0.23560016, ..., 0.4165639 , 0.366907  ,\n",
       "        0.32705   ]])"
      ]
     },
     "execution_count": 64,
     "metadata": {},
     "output_type": "execute_result"
    }
   ],
   "source": [
    "# set the biggest tf-idf value as a verbs' tf-idf value\n",
    "import numpy as np\n",
    "max_tfidf = np.max(dense_matrix, axis=0)\n",
    "arr_tfidf = max_tfidf.getA()     # convert matrix to numpy array\n",
    "arr_tfidf"
   ]
  },
  {
   "cell_type": "code",
   "execution_count": 65,
   "metadata": {},
   "outputs": [],
   "source": [
    "# create a dictionary that key is verb, value is its tf-idf\n",
    "set_verbs = set(verbs)\n",
    "verb_dic = {}\n",
    "for verb in set_verbs:\n",
    "    if verb in features:\n",
    "        verb_dic[verb] = arr_tfidf[0][features[verb]]"
   ]
  },
  {
   "cell_type": "code",
   "execution_count": 66,
   "metadata": {},
   "outputs": [
    {
     "data": {
      "text/plain": [
       "{'gutenberg': 1.0,\n",
       " 'doubt': 0.7397543549459972,\n",
       " 'wait': 0.7375615173932877,\n",
       " 'plain': 0.7325719001604722,\n",
       " 'quartz': 0.7281740431243764,\n",
       " 'argue': 0.7071093664523651,\n",
       " 'damp': 0.7030863961192625,\n",
       " 'rest': 0.6988656132476937,\n",
       " 'turn': 0.6966263396882154,\n",
       " 'jump': 0.6942986366360127,\n",
       " 'minute': 0.6883075790020153,\n",
       " 'want': 0.6868279195560346,\n",
       " 'account': 0.686500802166211,\n",
       " 'good': 0.685511093706903,\n",
       " 'explain': 0.6795463618073765,\n",
       " 'truth': 0.6753196430998754,\n",
       " 'naked': 0.6750148936686133,\n",
       " 'sunset': 0.6720486388441117,\n",
       " 'license': 0.658803280632874,\n",
       " 'object': 0.6551343489521531,\n",
       " 'hope': 0.6538679168941883,\n",
       " 'face': 0.6514806155551899,\n",
       " 'glaring': 0.6467269347133495,\n",
       " 'struggle': 0.6455384091847866,\n",
       " 'round': 0.6448387722784474,\n",
       " 'fell': 0.6437499404477114,\n",
       " 'apologize': 0.643662010948258,\n",
       " 'afraid': 0.6426470024519285,\n",
       " 'frenzy': 0.642161461407677,\n",
       " 'view': 0.6417985516746293,\n",
       " 'question': 0.6407681190694284,\n",
       " 'silent': 0.6373856792662592,\n",
       " 'defend': 0.6326225502756951,\n",
       " 'cry': 0.6281555572902595,\n",
       " 'tell': 0.6279576950736716,\n",
       " 'climb': 0.6274444458352803,\n",
       " 'change': 0.6267842282315607,\n",
       " 'breathe': 0.6262166641166725,\n",
       " 'eat': 0.6261147321374465,\n",
       " 'scarce': 0.6254283044763564,\n",
       " 'recall': 0.623085789547583,\n",
       " 'laughing': 0.6225368298579691,\n",
       " 'sunsetting': 0.6212984460855738,\n",
       " 'grow': 0.6189340362314891,\n",
       " 'weena': 0.6119877027202753,\n",
       " 'donate': 0.6106264281241396,\n",
       " 'see': 0.6102141209121069,\n",
       " 'pain': 0.6074098874538567,\n",
       " 'look': 0.6026443051281338,\n",
       " 'carefully': 0.5913318605300534,\n",
       " 'thought': 0.5872184542196754,\n",
       " 'expect': 0.5856741371364891,\n",
       " 'abandoned': 0.5834067945056687,\n",
       " 'hid': 0.5829035748160177,\n",
       " 'smoking': 0.5823190896622428,\n",
       " 'pattering': 0.5822616725069331,\n",
       " 'end': 0.5769536248132998,\n",
       " 'stop': 0.5768696887078467,\n",
       " 'drawn': 0.5739810227448148,\n",
       " 'nod': 0.5736619367240452,\n",
       " 'know': 0.5734732186315771,\n",
       " 'dream': 0.5725145661325912,\n",
       " 'wet': 0.5708549618062627,\n",
       " 'surprise': 0.5701771229908137,\n",
       " 'recover': 0.5695273395851103,\n",
       " 'believe': 0.5669971316171548,\n",
       " 'suppose': 0.5659170274546832,\n",
       " 'move': 0.5597424368303335,\n",
       " 'follow': 0.5596749168069904,\n",
       " 'remind': 0.5587393523453602,\n",
       " 'place': 0.5564651024043366,\n",
       " 'warn': 0.5560201277674045,\n",
       " 'trace': 0.5556130333080761,\n",
       " 'all': 0.5503265945340672,\n",
       " 'hundred': 0.5452799957327895,\n",
       " 'traveller': 0.5417136090026627,\n",
       " 'reach': 0.5414068958586814,\n",
       " 'filby': 0.5405830433983276,\n",
       " 'suspect': 0.5394798215751757,\n",
       " 'describe': 0.5392133021719627,\n",
       " 'feeling': 0.5373167845941766,\n",
       " 'moaning': 0.5368839018024913,\n",
       " 'save': 0.5361100141356006,\n",
       " 'hazy': 0.5357173714491595,\n",
       " 'form': 0.5319338078518424,\n",
       " 'epilogue': 0.5312498110953479,\n",
       " 'let': 0.5300704775309311,\n",
       " 'glance': 0.5285287023873666,\n",
       " 'lie': 0.5275377388191883,\n",
       " 'blackness': 0.5273418089788539,\n",
       " 'somehow': 0.5266199656308462,\n",
       " 'mistake': 0.5238496140602819,\n",
       " 'strange': 0.5172475761756231,\n",
       " 'dark': 0.516437042407742,\n",
       " 'cold': 0.5163710482844305,\n",
       " 'hear': 0.5136365457106942,\n",
       " 'seem': 0.5136365457106942,\n",
       " 'odd': 0.5134801317570004,\n",
       " 'dismay': 0.5117310806399475,\n",
       " 'exist': 0.5116960250800298,\n",
       " 'stood': 0.5115345639557501,\n",
       " 'have': 0.5096001294290846,\n",
       " 'play': 0.5086980060937847,\n",
       " 'provide': 0.5082626505538185,\n",
       " 'air': 0.5068413896044842,\n",
       " 'confess': 0.5057350907894103,\n",
       " 'touch': 0.5055608693856511,\n",
       " 'choose': 0.504036030101797,\n",
       " 'consider': 0.5039237810611419,\n",
       " 'clap': 0.502413290333739,\n",
       " 'point': 0.4996358884404108,\n",
       " 'awake': 0.4985168363173717,\n",
       " 'strike': 0.4979936051001676,\n",
       " 'changed': 0.49739918811514316,\n",
       " 'do': 0.4956662210928299,\n",
       " 'bring': 0.4949480340443557,\n",
       " 'build': 0.49484988622350606,\n",
       " 'encamp': 0.49484988622350606,\n",
       " 'fear': 0.49449345602627953,\n",
       " 'descend': 0.493214944118451,\n",
       " 'kill': 0.4917716585692236,\n",
       " 'seat': 0.4908488518539759,\n",
       " 'smelt': 0.4896115962752058,\n",
       " 'swamp': 0.4894162966660318,\n",
       " 'turf': 0.48918448410067394,\n",
       " 'sure': 0.48764583227112357,\n",
       " 'door': 0.48760479290203157,\n",
       " 'sleep': 0.4869122882313043,\n",
       " 'notice': 0.486412278245991,\n",
       " 'chair': 0.48632563560830655,\n",
       " 'watch': 0.4859103309367833,\n",
       " 'ashamed': 0.48554348867786296,\n",
       " 'noticing': 0.4841829730922925,\n",
       " 'imagine': 0.4821253103176473,\n",
       " 'sorry': 0.4815818884786102,\n",
       " 'disappear': 0.4790419629157083,\n",
       " 'glad': 0.47891013929378035,\n",
       " 'prepare': 0.4773842207360626,\n",
       " 'smile': 0.4769223420935166,\n",
       " 'find': 0.4763570466435502,\n",
       " 'admit': 0.4753124998287777,\n",
       " 'lay': 0.47499033397725665,\n",
       " 'think': 0.4732478971637791,\n",
       " 'proceed': 0.47189428721017584,\n",
       " 'kept': 0.4718038661711444,\n",
       " 'straight': 0.4714876245266742,\n",
       " 'contact': 0.47102587290145453,\n",
       " 'fade': 0.47067458253538524,\n",
       " 'copy': 0.4700741576259985,\n",
       " 'hide': 0.4699407193483061,\n",
       " 'purpose': 0.46991274648132375,\n",
       " 'sound': 0.4689509032783843,\n",
       " 'myself': 0.4686277414273587,\n",
       " 'take': 0.46830324046221,\n",
       " 'work': 0.46801776660830696,\n",
       " 'long': 0.4677277789339172,\n",
       " 'bare': 0.46729691154235553,\n",
       " 'come': 0.4670399796935283,\n",
       " 'please': 0.46577553783256875,\n",
       " 'run': 0.4641506323303505,\n",
       " 'go': 0.46396246577106337,\n",
       " 'disregard': 0.4633602260190299,\n",
       " 'grip': 0.4625564410173368,\n",
       " 'mere': 0.4616812831149071,\n",
       " 'pursue': 0.46145792696217103,\n",
       " 'interested': 0.4611312501198253,\n",
       " 'amuse': 0.4611312501198253,\n",
       " 'depart': 0.4608904558468013,\n",
       " 'vanish': 0.46069094443137504,\n",
       " 'wane': 0.4606263480857769,\n",
       " 'get': 0.458452871490968,\n",
       " 'wonder': 0.45751376421295603,\n",
       " 'trick': 0.4565168732212483,\n",
       " 'enter': 0.4558636390916845,\n",
       " 'whimper': 0.45519857656793433,\n",
       " 'travel': 0.4550971603561058,\n",
       " 'cling': 0.45460783871244764,\n",
       " 'sometimes': 0.4532773574691472,\n",
       " 'say': 0.4506513198489228,\n",
       " 'press': 0.45026472967233117,\n",
       " 'left': 0.4500599137124178,\n",
       " 'clamber': 0.449037102656412,\n",
       " 'felt': 0.44785516446580514,\n",
       " 'meaning': 0.4471989317471491,\n",
       " 'giddy': 0.4463803216428386,\n",
       " 'plate': 0.4451972880178626,\n",
       " 'moving': 0.4449740398903906,\n",
       " 'shrinking': 0.4433552503451843,\n",
       " 'mind': 0.4432173388201735,\n",
       " 'break': 0.4429484299469074,\n",
       " 'web': 0.44274996464121213,\n",
       " 'drift': 0.4401382491606252,\n",
       " 'eddying': 0.4399829515623611,\n",
       " 'convey': 0.4389179842452536,\n",
       " 'hold': 0.43779765457427594,\n",
       " 'fix': 0.43728090029407174,\n",
       " 'crept': 0.437244697798786,\n",
       " 'twinkle': 0.4372185528634038,\n",
       " 'pass': 0.43482663655069453,\n",
       " 'open': 0.43263066328613625,\n",
       " 'associate': 0.4319015809024195,\n",
       " 'stir': 0.43147668733735384,\n",
       " 'put': 0.43128074931404203,\n",
       " 'speak': 0.4299861749427173,\n",
       " 'exploring': 0.42958293910637496,\n",
       " 'fluctuating': 0.42911028354153224,\n",
       " 'edge': 0.42901878069257404,\n",
       " 'revive': 0.4280204420881377,\n",
       " 'remember': 0.42679691449172147,\n",
       " 'express': 0.4259745802802422,\n",
       " 'desire': 0.42553443399203256,\n",
       " 'bathe': 0.42442787753463407,\n",
       " 'cut': 0.4229168404380435,\n",
       " 'readjust': 0.42270520430068315,\n",
       " 'evening': 0.421868135204318,\n",
       " 'understand': 0.4217537218180983,\n",
       " 'piece': 0.42162903694376525,\n",
       " 'project': 0.4208866371128527,\n",
       " 'theorizing': 0.4195671488488005,\n",
       " 'disturb': 0.4190915470717586,\n",
       " 'tired': 0.4179544034049738,\n",
       " 'wing': 0.4179017148627771,\n",
       " 'scramble': 0.4178913889340559,\n",
       " 'walk': 0.41753007135846,\n",
       " 'loose': 0.41727579383463137,\n",
       " 'dance': 0.41698353330497867,\n",
       " 'satisfy': 0.4168239210065704,\n",
       " 'note': 0.4160504450399302,\n",
       " 'murmur': 0.4159669341866022,\n",
       " 'fair': 0.41489717657502534,\n",
       " 'wash': 0.41457870248497125,\n",
       " 'dress': 0.41457870248497125,\n",
       " 'shake': 0.4143970751054363,\n",
       " 'watchett': 0.4135014926321048,\n",
       " 'dread': 0.4128107609715829,\n",
       " 'restless': 0.4124568938815382,\n",
       " 'thick': 0.4113493214963694,\n",
       " 'colour': 0.4104550041460265,\n",
       " 'succeed': 0.4103855167744111,\n",
       " 'scrape': 0.4090098896222036,\n",
       " 'creak': 0.4090098896222036,\n",
       " 'start': 0.4077614096816235,\n",
       " 'appreciate': 0.40675597203236846,\n",
       " 'make': 0.4055905087790476,\n",
       " 'flash': 0.4052434597959282,\n",
       " 'rescue': 0.40348742009790667,\n",
       " 'head': 0.4034688974918027,\n",
       " 'invent': 0.4012395677604406,\n",
       " 'sit': 0.4011723539226722,\n",
       " 'puzzle': 0.4011723539226722,\n",
       " 'reassure': 0.4010908593584186,\n",
       " 'dust': 0.40099411438635835,\n",
       " 'such': 0.4009409191983521,\n",
       " 'darkling': 0.40053341085130895,\n",
       " 'help': 0.39968236743222585,\n",
       " 'amaze': 0.39925419188257444,\n",
       " 'controvert': 0.3992284133959007,\n",
       " 'slope': 0.3985922241931852,\n",
       " 'sideways': 0.3972273799086914,\n",
       " 'ghost': 0.3969200984928911,\n",
       " 'stay': 0.39596560657651436,\n",
       " 'be': 0.3949384451434595,\n",
       " 'cast': 0.3933896318314965,\n",
       " 'forth': 0.39302639483274415,\n",
       " 'care': 0.39161853583495837,\n",
       " 'saw': 0.3916167984911512,\n",
       " 'represent': 0.39111191140135204,\n",
       " 'land': 0.38950362545694406,\n",
       " 'fight': 0.3894657711661855,\n",
       " 'burst': 0.3889827051509224,\n",
       " 'display': 0.38887471268696305,\n",
       " 'secure': 0.38885204966101083,\n",
       " 'return': 0.3880798233568825,\n",
       " 'waste': 0.3870892491681808,\n",
       " 'infer': 0.38667872625482674,\n",
       " 'result': 0.3857650762982104,\n",
       " 'light': 0.3856577845825487,\n",
       " 'need': 0.3856107480249631,\n",
       " 'escape': 0.38540982179598343,\n",
       " 'foolish': 0.38438929680679995,\n",
       " 'later': 0.38391970442147383,\n",
       " 'assume': 0.3838852260065683,\n",
       " 'found': 0.38324023578808714,\n",
       " 'give': 0.3823578871386664,\n",
       " 'read': 0.38175708209544634,\n",
       " 'morrow': 0.38136796126094574,\n",
       " 'star': 0.38075154036005393,\n",
       " 'fighting': 0.38057532860699705,\n",
       " 'accompany': 0.38057532860699705,\n",
       " 'answer': 0.37917797949308957,\n",
       " 'intelligence': 0.3784585394462555,\n",
       " 'lack': 0.3783885787020125,\n",
       " 'live': 0.3783815025525126,\n",
       " 'rush': 0.37810190009806266,\n",
       " 'dare': 0.3775507547474717,\n",
       " 'reel': 0.37699310417576243,\n",
       " 'suffer': 0.3763156719141305,\n",
       " 'frame': 0.37525260390882087,\n",
       " 'mean': 0.37515450186351423,\n",
       " 'ask': 0.373706268481875,\n",
       " 'accept': 0.373706268481875,\n",
       " 'advance': 0.37369921394464184,\n",
       " 'denser': 0.37369921394464184,\n",
       " 'recede': 0.37369921394464184,\n",
       " 'stick': 0.3734770182398325,\n",
       " 'treat': 0.3734770182398325,\n",
       " 'reverse': 0.37294063627221724,\n",
       " 'satisfied': 0.3725210629810659,\n",
       " 'art': 0.37209005125418176,\n",
       " 'guess': 0.37186074881877473,\n",
       " 'nearer': 0.37074229539928366,\n",
       " 'convince': 0.37064745452001596,\n",
       " 'relieve': 0.37047563859617283,\n",
       " 'shut': 0.3702699734528906,\n",
       " 'shape': 0.37002134362336075,\n",
       " 'carry': 0.3697456291208435,\n",
       " 'wish': 0.3696919993961854,\n",
       " 'intimate': 0.3696919993961854,\n",
       " 'feel': 0.36918918721094746,\n",
       " 'relight': 0.36911365245130723,\n",
       " 'include': 0.36908070481622973,\n",
       " 'arrange': 0.3689913267955256,\n",
       " 'set': 0.3675149047550219,\n",
       " 'haul': 0.3654060853758907,\n",
       " 'pay': 0.36506214179543106,\n",
       " 'distressed': 0.3642514630939352,\n",
       " 'leave': 0.36335936900096816,\n",
       " 'blast': 0.3608526044067023,\n",
       " 'blacken': 0.3608526044067023,\n",
       " 'destined': 0.3599947590489819,\n",
       " 'solstice': 0.359937232014132,\n",
       " 'govern': 0.3591878292661747,\n",
       " 'wall': 0.3589944472512244,\n",
       " 'rise': 0.3586410924590943,\n",
       " 'perceive': 0.35829138596558935,\n",
       " 'distinguish': 0.35690211626476354,\n",
       " 'drag': 0.35635838153602745,\n",
       " 'remote': 0.35616960243290935,\n",
       " 'beat': 0.3558834862047685,\n",
       " 'die': 0.35558873521231565,\n",
       " 'push': 0.3546500767894855,\n",
       " 'verify': 0.35411956066728034,\n",
       " 'withered': 0.3532963010052498,\n",
       " 'home': 0.35319099160467243,\n",
       " 'begin': 0.35295574968134724,\n",
       " 'lead': 0.352698610308929,\n",
       " 'easy': 0.35241145361282644,\n",
       " 'brush': 0.35193785315028303,\n",
       " 'unhinged': 0.3515179933196173,\n",
       " 'suit': 0.3507956450440538,\n",
       " 'warped': 0.35041607747637993,\n",
       " 'laugh': 0.34838297697759196,\n",
       " 'determine': 0.3480712821584348,\n",
       " 'thread': 0.3469823350599352,\n",
       " 'inhuman': 0.3465843272236133,\n",
       " 'living': 0.3462703262250152,\n",
       " 'chill': 0.345696797131238,\n",
       " 'send': 0.34536852105952187,\n",
       " 'exclamatory': 0.3445012487697545,\n",
       " 'towards': 0.344000528417805,\n",
       " 'enhance': 0.3439738927493165,\n",
       " 'void': 0.3432722204545856,\n",
       " 'fro': 0.3430745700701971,\n",
       " 'require': 0.34244445443097027,\n",
       " 'attend': 0.34215517603449785,\n",
       " 'refund': 0.3419944322164615,\n",
       " 'judge': 0.3407367563892887,\n",
       " 'comply': 0.3405619823060091,\n",
       " 'surface': 0.3397504226997607,\n",
       " 'remain': 0.3394717049831557,\n",
       " 'faint': 0.3394590685166158,\n",
       " 'stand': 0.33913897122277536,\n",
       " 'use': 0.33895861352622786,\n",
       " 'refrain': 0.33858604931940556,\n",
       " 'approach': 0.33750852424452005,\n",
       " 'own': 0.33690926773378477,\n",
       " 'palace': 0.33651584616898783,\n",
       " 'realize': 0.335929676186639,\n",
       " 'inadequate': 0.3357540147648942,\n",
       " 'foul': 0.33570239491474746,\n",
       " 'obtain': 0.3352804502919874,\n",
       " 'like': 0.3350567130292949,\n",
       " 'overhead': 0.33491568969477875,\n",
       " 'swoop': 0.3348854756689269,\n",
       " 'traverse': 0.33486398294696673,\n",
       " 'shoot': 0.33486398294696673,\n",
       " 'pull': 0.3342773336780605,\n",
       " 'check': 0.3339948444046146,\n",
       " 'mount': 0.3337250693783222,\n",
       " 'keep': 0.33370305180020016,\n",
       " 'blow': 0.3327614701006889,\n",
       " 'decay': 0.33223056892008423,\n",
       " 'economize': 0.33221555807598213,\n",
       " 'vivid': 0.331697395261862,\n",
       " 'solve': 0.33154706490298974,\n",
       " 'helpless': 0.33154272831408343,\n",
       " 'sullen': 0.330518341202089,\n",
       " 'hitherto': 0.330478848945637,\n",
       " 're': 0.33046650799693916,\n",
       " 'smoulder': 0.32918693480974703,\n",
       " 'smoke': 0.3283072180905446,\n",
       " 'show': 0.32774018038089314,\n",
       " 'meet': 0.327726049908763,\n",
       " 'overlook': 0.3277244346834597,\n",
       " 'incline': 0.3277244346834597,\n",
       " 'unsolved': 0.32725742978153144,\n",
       " 'fall': 0.3254027828052264,\n",
       " 'tunnel': 0.32529380060183827,\n",
       " 'eking': 0.3251511475114623,\n",
       " 'butt': 0.32460043310170555,\n",
       " 'ring': 0.32460043310170555,\n",
       " 'elect': 0.32397835130318114,\n",
       " 'examine': 0.32248351975710143,\n",
       " 'anticipate': 0.3223819045804375,\n",
       " 'sing': 0.3218867919300844,\n",
       " 'adorn': 0.3218867919300844,\n",
       " 'vast': 0.32188171476472943,\n",
       " 'fill': 0.32160189542343925,\n",
       " 'eroticism': 0.32158302675111927,\n",
       " 'meddle': 0.32103054167536693,\n",
       " 'shed': 0.3209040668758562,\n",
       " 'till': 0.3199613562537706,\n",
       " 'solicit': 0.3190997773835742,\n",
       " 'contrive': 0.3190824461956583,\n",
       " 'dancing': 0.31823458135809757,\n",
       " 'promise': 0.31802954084913204,\n",
       " 'decaying': 0.3169870509599584,\n",
       " 'block': 0.3160454926338831,\n",
       " 'become': 0.3155772368463757,\n",
       " 'talk': 0.315459666833437,\n",
       " 'setting': 0.31510525384858307,\n",
       " 'distinct': 0.31499057402239566,\n",
       " 'explore': 0.31485126700504706,\n",
       " 'therewith': 0.31364485338844605,\n",
       " 'ebook': 0.31305543879245623,\n",
       " 'demand': 0.312753202393212,\n",
       " 'ebooks': 0.3125570441968165,\n",
       " 'learn': 0.31238914310097665,\n",
       " 'haggard': 0.312201376374999,\n",
       " 'alter': 0.3121754385570774,\n",
       " 'call': 0.3121119582991184,\n",
       " 'survive': 0.31158460174000147,\n",
       " 'receive': 0.31149992784717,\n",
       " 'elude': 0.3113952645553243,\n",
       " 'happen': 0.3110382954533179,\n",
       " 'being': 0.3106516497746938,\n",
       " 'leak': 0.3105186437915919,\n",
       " 'abandon': 0.30863510558406615,\n",
       " 'survival': 0.3081588576159634,\n",
       " 'valley': 0.3073086280502375,\n",
       " 'prove': 0.3064032319357041,\n",
       " 'chuckle': 0.3060236687238589,\n",
       " 'charge': 0.3059760146681658,\n",
       " 'shiver': 0.3059308920143934,\n",
       " 'thrust': 0.3055617740738323,\n",
       " 'swell': 0.30508581069169677,\n",
       " 'interpret': 0.3044931745775381,\n",
       " 'eastward': 0.3042134055693288,\n",
       " 'printed': 0.30417545748901537,\n",
       " 'increase': 0.30356590984868714,\n",
       " 'circling': 0.3034291631876661,\n",
       " 'darknesses': 0.30293405724359024,\n",
       " 'lame': 0.3018043906518789,\n",
       " 'drop': 0.30082596809079026,\n",
       " 'grasp': 0.300515965503255,\n",
       " 'projecting': 0.30049827284960623,\n",
       " 'zenith': 0.29977525836764096,\n",
       " 'replace': 0.29860766057505045,\n",
       " 'avoid': 0.2977295781031038,\n",
       " 'smash': 0.29754274646542994,\n",
       " 'mark': 0.2974377664339726,\n",
       " 'refuge': 0.29737796533729305,\n",
       " 'rising': 0.29676459540667083,\n",
       " 'furnish': 0.29634653131552585,\n",
       " 'crackling': 0.2961384651595893,\n",
       " 'blaze': 0.29552446840195695,\n",
       " 'discover': 0.29552446840195695,\n",
       " 'climbing': 0.2951596316384509,\n",
       " 'dash': 0.29382888787808686,\n",
       " 'flare': 0.2932786378514348,\n",
       " 'flourish': 0.29282497634756127,\n",
       " 'associated': 0.29230219037287225,\n",
       " 'occur': 0.2912551744708931,\n",
       " 'incomplete': 0.29103060263107855,\n",
       " 'colouring': 0.2909313950992639,\n",
       " 'thereupon': 0.29057525423741404,\n",
       " 'belt': 0.2903925560764176,\n",
       " 'eke': 0.28994237676164786,\n",
       " 'wonderful': 0.2898064298034857,\n",
       " 'blank': 0.2897295033414149,\n",
       " 'witness': 0.28955188640131263,\n",
       " 'abstain': 0.289452877434915,\n",
       " 'attract': 0.28936763282825173,\n",
       " 'communicate': 0.2885907079502592,\n",
       " 'fancy': 0.28572681536929323,\n",
       " 'tap': 0.28541586941063024,\n",
       " 'procure': 0.28527331977073755,\n",
       " 'stretch': 0.2846501394425209,\n",
       " 'support': 0.2845257489411828,\n",
       " 'paralyse': 0.2843807572568696,\n",
       " 'forgive': 0.2836403077634974,\n",
       " 'wear': 0.2836327067721461,\n",
       " 'thousand': 0.2832571118089105,\n",
       " 'allow': 0.283016672922248,\n",
       " 'unfinished': 0.27910602366666365,\n",
       " 'throw': 0.2790791851814745,\n",
       " 'hover': 0.2787521774122424,\n",
       " 'preserve': 0.2785384812069239,\n",
       " 'curbed': 0.2782044964889083,\n",
       " 'livid': 0.27716691361955137,\n",
       " 'whiled': 0.27621612122818484,\n",
       " 'cover': 0.27600101699200874,\n",
       " 'remark': 0.2752322645003238,\n",
       " 'spread': 0.2739485706968696,\n",
       " 'obscure': 0.2726543417542069,\n",
       " 'burn': 0.27253784271857445,\n",
       " 'forget': 0.27192883305641735,\n",
       " 'presume': 0.27121716602163487,\n",
       " 'writing': 0.2693438979329699,\n",
       " 'imperfect': 0.2680768739094412,\n",
       " 'cease': 0.2679319742576113,\n",
       " 'abide': 0.2679319742576113,\n",
       " 'lean': 0.2654339603519697,\n",
       " 'deeper': 0.2652910387114258,\n",
       " 'earnest': 0.26427460406920306,\n",
       " 'blind': 0.26395320438348596,\n",
       " 'rustle': 0.26382257777669454,\n",
       " 'drawing': 0.2635142104543216,\n",
       " 'richmond': 0.2635142104543216,\n",
       " 'upset': 0.2619176254822219,\n",
       " 'recognize': 0.2600355388199627,\n",
       " 'cultivate': 0.2587462515220858,\n",
       " 'shirk': 0.25811299237465546,\n",
       " 'enable': 0.25811299237465546,\n",
       " 'creek': 0.25561028606496183,\n",
       " 'attached': 0.25315492347503776,\n",
       " 'perform': 0.25295698965578406,\n",
       " 'redistribute': 0.25295698965578406,\n",
       " 'indicate': 0.25287446858563034,\n",
       " 'wander': 0.25191238062437915,\n",
       " 'tire': 0.25125630438367585,\n",
       " 'linger': 0.2510334893495678,\n",
       " 'hurry': 0.2507600566021808,\n",
       " 'invest': 0.2507600566021808,\n",
       " 'accumulate': 0.2507600566021808,\n",
       " 'identify': 0.2504516648182579,\n",
       " 'expend': 0.2504516648182579,\n",
       " 'slow': 0.24945255301080044,\n",
       " 'slake': 0.24916448753483983,\n",
       " 'agree': 0.2485500675666412,\n",
       " 'convert': 0.24811251775240137,\n",
       " 'chatter': 0.24634891360216393,\n",
       " 'demonstrative': 0.2459935613041765,\n",
       " 'apply': 0.24484582191594437,\n",
       " 'aforementioned': 0.24434667106752764,\n",
       " 'intend': 0.24338363482632247,\n",
       " 'scream': 0.24278090668671956,\n",
       " 'construct': 0.24187337029967634,\n",
       " 'restore': 0.24184969477343812,\n",
       " 'encounter': 0.2415300252556784,\n",
       " 'greyer': 0.24092740183128067,\n",
       " 'stumble': 0.23976818463945104,\n",
       " 'boles': 0.23976818463945104,\n",
       " 'starve': 0.2380059994119621,\n",
       " 'destroy': 0.23691535582434778,\n",
       " 'discontinue': 0.23576923874728867,\n",
       " 'lake': 0.23560016179475649,\n",
       " 'palpitating': 0.2337060690287478,\n",
       " 'connect': 0.23246873758995845,\n",
       " 'perforce': 0.2323849564017178,\n",
       " 'protect': 0.23230335990345327,\n",
       " 'streaming': 0.23151517810214262,\n",
       " 'offspring': 0.23116551977272234,\n",
       " 'content': 0.22970872824807392,\n",
       " 'conclude': 0.22721535109957564,\n",
       " 'claim': 0.2263531611625513,\n",
       " 'pick': 0.22610719873821575,\n",
       " 'address': 0.22602892514425774,\n",
       " 'evil': 0.22546105932517613,\n",
       " 'improve': 0.22482921676120252,\n",
       " 'overcome': 0.22430110540393058,\n",
       " 'observe': 0.22319606066900882,\n",
       " 'arise': 0.21932384435568178,\n",
       " 'fit': 0.218598970232104,\n",
       " 'ebb': 0.21678218592708387,\n",
       " 'draw': 0.21440602337588258,\n",
       " 'distribute': 0.21292084950473342,\n",
       " 'finish': 0.21273408137723965,\n",
       " 'detach': 0.2118867075706925,\n",
       " 'remove': 0.2118867075706925,\n",
       " 'unlink': 0.2118867075706925,\n",
       " 'disclaim': 0.2095578600338829,\n",
       " 'cause': 0.20191986342093138,\n",
       " 'accelerate': 0.20009278750305734,\n",
       " 'theirs': 0.19956906034292254,\n",
       " 'master': 0.19555595570067602,\n",
       " 'contain': 0.19545405803790183,\n",
       " 'heir': 0.19208420114375463,\n",
       " 'prevent': 0.19017271620956733,\n",
       " 'subscribe': 0.18566403708148577,\n",
       " 'produce': 0.18566403708148577,\n",
       " 'desiccated': 0.18194872803388473,\n",
       " 'utilize': 0.18126332051892013,\n",
       " 'multiply': 0.18126332051892013,\n",
       " 'lemur': 0.1749448376241409,\n",
       " 'appear': 0.1705061313470675,\n",
       " 'derive': 0.16869900245470212,\n",
       " 'calculate': 0.16869900245470212,\n",
       " 'outdated': 0.16757869467010159,\n",
       " 'wearisome': 0.16524126610313758,\n",
       " 'stalked': 0.1507240616040551,\n",
       " 'conceive': 0.1090209211650161,\n",
       " 'indemnify': 0.10641093383453522}"
      ]
     },
     "execution_count": 66,
     "metadata": {},
     "output_type": "execute_result"
    }
   ],
   "source": [
    "# sort the dictionary\n",
    "sorted_verb = dict(sorted(verb_dic.items(), key=lambda item: item[1], reverse=True))\n",
    "sorted_verb"
   ]
  },
  {
   "cell_type": "code",
   "execution_count": 70,
   "metadata": {},
   "outputs": [
    {
     "data": {
      "text/plain": [
       "30"
      ]
     },
     "execution_count": 70,
     "metadata": {},
     "output_type": "execute_result"
    }
   ],
   "source": [
    "# got 30 most common verbs\n",
    "count = 30\n",
    "common_verb = []\n",
    "for verb in sorted_verb:\n",
    "    if count <= 0:\n",
    "        break\n",
    "    common_verb.append(verb)\n",
    "    count = count-1\n",
    "len(common_verb) "
   ]
  },
  {
   "cell_type": "code",
   "execution_count": 71,
   "metadata": {},
   "outputs": [],
   "source": [
    "# select the most suitable verb\n",
    "def select_best_verb(topic):\n",
    "    max_simi = 0\n",
    "    best_belief = \"\"\n",
    "    for verb in common_verb:\n",
    "#    for verb in v_counter:\n",
    "        sentence = verb + ' ' + topic\n",
    "        simi = compute_similarity(sentence)\n",
    "        if simi > max_simi:\n",
    "            best_belief = sentence\n",
    "            max_simi = simi\n",
    "    return best_belief, max_simi"
   ]
  },
  {
   "cell_type": "code",
   "execution_count": 72,
   "metadata": {},
   "outputs": [
    {
     "data": {
      "text/plain": [
       "['explain time traveller',\n",
       " 'gutenberg electronic work',\n",
       " 'gutenberg thick dust',\n",
       " 'gutenberg time dimension',\n",
       " 'turn silent man']"
      ]
     },
     "execution_count": 72,
     "metadata": {},
     "output_type": "execute_result"
    }
   ],
   "source": [
    "# generate beliefs\n",
    "# try most common verbs\n",
    "beliefs = []\n",
    "\n",
    "for topic in topics:\n",
    "    best_belief,max_simi = select_best_verb(topic)\n",
    "    beliefs.append(best_belief)\n",
    "beliefs"
   ]
  },
  {
   "cell_type": "markdown",
   "metadata": {},
   "source": [
    "Dino: The TfIdf verbs are indeed less general and more time-traveler-focused verbs than the most common verbs found previously. Selecting bigrams as topics and then prepending a verb is an interesting approach, but it's too haphazard (random). You need a more structured algorithm that will work for all texts."
   ]
  }
 ],
 "metadata": {
  "kernelspec": {
   "display_name": "Python 3",
   "language": "python",
   "name": "python3"
  },
  "language_info": {
   "codemirror_mode": {
    "name": "ipython",
    "version": 3
   },
   "file_extension": ".py",
   "mimetype": "text/x-python",
   "name": "python",
   "nbconvert_exporter": "python",
   "pygments_lexer": "ipython3",
   "version": "3.7.4"
  }
 },
 "nbformat": 4,
 "nbformat_minor": 4
}
